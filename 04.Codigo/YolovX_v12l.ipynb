{
 "cells": [
  {
   "cell_type": "markdown",
   "metadata": {},
   "source": [
    "# <span style=\"color:turquoise\">**Detección de células redondas utilizando Yolo**</span>"
   ]
  },
  {
   "cell_type": "markdown",
   "metadata": {},
   "source": [
    "## **Hardware**"
   ]
  },
  {
   "cell_type": "code",
   "execution_count": 1,
   "metadata": {},
   "outputs": [
    {
     "name": "stdout",
     "output_type": "stream",
     "text": [
      "Sat Aug 30 12:10:51 2025       \n",
      "+---------------------------------------------------------------------------------------+\n",
      "| NVIDIA-SMI 535.183.01             Driver Version: 535.183.01   CUDA Version: 12.2     |\n",
      "|-----------------------------------------+----------------------+----------------------+\n",
      "| GPU  Name                 Persistence-M | Bus-Id        Disp.A | Volatile Uncorr. ECC |\n",
      "| Fan  Temp   Perf          Pwr:Usage/Cap |         Memory-Usage | GPU-Util  Compute M. |\n",
      "|                                         |                      |               MIG M. |\n",
      "|=========================================+======================+======================|\n",
      "|   0  NVIDIA TITAN Xp                Off | 00000000:84:00.0 Off |                  N/A |\n",
      "| 23%   34C    P8              10W / 250W |      6MiB / 12288MiB |      0%      Default |\n",
      "|                                         |                      |                  N/A |\n",
      "+-----------------------------------------+----------------------+----------------------+\n",
      "                                                                                         \n",
      "+---------------------------------------------------------------------------------------+\n",
      "| Processes:                                                                            |\n",
      "|  GPU   GI   CI        PID   Type   Process name                            GPU Memory |\n",
      "|        ID   ID                                                             Usage      |\n",
      "|=======================================================================================|\n",
      "+---------------------------------------------------------------------------------------+\n"
     ]
    }
   ],
   "source": [
    "!nvidia-smi"
   ]
  },
  {
   "cell_type": "markdown",
   "metadata": {},
   "source": [
    "## **Introducción**"
   ]
  },
  {
   "cell_type": "markdown",
   "metadata": {},
   "source": [
    "En este TFM se pretende realizar un estudio del arte y entrenamiento de diferentes modelos (YOLO, Fast-RCNN, propio) para la detección de células y artefactos en imágenes médicas. Para esto, se aplican técnicas de visión por computador y aprendizaje profundo. Además, se realizará un exahustiva revisión de la bibliografía existente, mejora del dataset y análisis estadistico fundamentado en las diferentes métricas."
   ]
  },
  {
   "cell_type": "markdown",
   "metadata": {},
   "source": [
    "## **Dependencias**"
   ]
  },
  {
   "cell_type": "code",
   "execution_count": null,
   "metadata": {},
   "outputs": [],
   "source": [
    "# %pip install -U ipywidgets jupyter\n",
    "# %pip install ultralytics\n",
    "# !pip install optuna"
   ]
  },
  {
   "cell_type": "code",
   "execution_count": 1,
   "metadata": {},
   "outputs": [],
   "source": [
    "import os\n",
    "os.environ[\"KMP_DUPLICATE_LIB_OK\"] = \"TRUE\"\n",
    "\n",
    "import json\n",
    "import optuna\n",
    "import shutil\n",
    "import pandas as pd\n",
    "import torch\n",
    "\n",
    "from ultralytics import YOLO\n",
    "from lib.YOLO_lib import config, optuna_utils, plot_utils, kfold_utils, evaluation"
   ]
  },
  {
   "cell_type": "code",
   "execution_count": 2,
   "metadata": {},
   "outputs": [
    {
     "name": "stdout",
     "output_type": "stream",
     "text": [
      "Versión de PyTorch + CUDA: 2.6.0+cu124\n",
      "Diponible CUDA: True. \n",
      "Dispositivo CUDA: NVIDIA TITAN Xp\n"
     ]
    }
   ],
   "source": [
    "print(f\"Versión de PyTorch + CUDA: {torch.__version__}\")\n",
    "print(f\"Diponible CUDA: {torch.cuda.is_available()}. \\nDispositivo CUDA: {torch.cuda.get_device_name(0)}\")"
   ]
  },
  {
   "cell_type": "markdown",
   "metadata": {},
   "source": [
    "## **Entrenamineto de los modelos YOLOv11 y YOLOv12**"
   ]
  },
  {
   "cell_type": "markdown",
   "metadata": {},
   "source": [
    "### **Configuración**"
   ]
  },
  {
   "cell_type": "markdown",
   "metadata": {},
   "source": [
    "Entrenamiento con modelos de YOLO con pesos de COCO"
   ]
  },
  {
   "cell_type": "code",
   "execution_count": 3,
   "metadata": {},
   "outputs": [
    {
     "name": "stdout",
     "output_type": "stream",
     "text": [
      "Downloading https://github.com/ultralytics/assets/releases/download/v8.3.0/yolo12l.pt to 'yolo/yolo_models/yolo12l.pt'...\n"
     ]
    },
    {
     "name": "stderr",
     "output_type": "stream",
     "text": [
      "100%|██████████████████████████████████| 51.2M/51.2M [00:01<00:00, 37.4MB/s]\n"
     ]
    }
   ],
   "source": [
    "selected_model = \"yolov12l\"  # \"custom\" o \"yolovXs\"\n",
    "model_dir = \"yolo/yolo_models\"\n",
    "model_path = os.path.join(model_dir, f\"{selected_model}.pt\")\n",
    "# model_path = os.path.join(model_dir, f\"{selected_model}.yaml\")\n",
    "\n",
    "if selected_model not in config.models:\n",
    "    if(selected_model == \"custom\"):\n",
    "        model = YOLO(f\"{selected_model}.yaml\")\n",
    "    else:\n",
    "        model = YOLO(f\"{selected_model}.pt\")\n",
    "\n",
    "    if not os.path.exists(model_dir):\n",
    "        os.makedirs(model_dir)\n",
    "\n",
    "    if not os.path.exists(model_path):\n",
    "        if(selected_model == \"custom\"):\n",
    "            shutil.move(f\"{selected_model}.yaml\", model_path)\n",
    "        else:\n",
    "            shutil.move(f\"{selected_model}.pt\", model_path)\n",
    "else:\n",
    "    model = YOLO(config.models[selected_model])"
   ]
  },
  {
   "cell_type": "markdown",
   "metadata": {},
   "source": [
    "Recuerda que si hemos descargado un nuevo modelo, debemos añadirlo al archivod e configuración."
   ]
  },
  {
   "cell_type": "code",
   "execution_count": 4,
   "metadata": {},
   "outputs": [],
   "source": [
    "storage_name = f\"sqlite:///optuna/optuna_studies/{selected_model}.db\"\n",
    "best_params_path = f\"optuna/optuna_studies/{selected_model}_best_params.json\"\n",
    "image_optuna_path = f'optuna/optuna_plots/optimization_{selected_model}.png'\n",
    "model_output = f\"final_model_{selected_model}\"\n",
    "model_output_kfold = model_output + \"_kfold\"\n",
    "name_best_params = f\"best_params_{selected_model}\""
   ]
  },
  {
   "cell_type": "markdown",
   "metadata": {},
   "source": [
    "### **Optuna**"
   ]
  },
  {
   "cell_type": "code",
   "execution_count": 5,
   "metadata": {
    "scrolled": true
   },
   "outputs": [
    {
     "name": "stderr",
     "output_type": "stream",
     "text": [
      "[I 2025-08-25 18:55:10,990] Using an existing study with name 'yolov12l' instead of creating a new one.\n"
     ]
    },
    {
     "name": "stdout",
     "output_type": "stream",
     "text": [
      "New https://pypi.org/project/ultralytics/8.3.185 available 😃 Update with 'pip install -U ultralytics'\n",
      "Ultralytics 8.3.169 🚀 Python-3.11.13 torch-2.6.0+cu124 CUDA:0 (NVIDIA TITAN Xp, 12190MiB)\n",
      "\u001b[34m\u001b[1mengine/trainer: \u001b[0magnostic_nms=False, amp=True, augment=False, auto_augment=randaugment, batch=8, bgr=0.0, box=7.5, cache=False, cfg=None, classes=None, close_mosaic=0, cls=0.5, conf=None, copy_paste=0.0, copy_paste_mode=flip, cos_lr=False, cutmix=0.0, data=cells.yaml, degrees=45, deterministic=True, device=None, dfl=1.5, dnn=False, dropout=0.0, dynamic=False, embed=None, epochs=25, erasing=0.4, exist_ok=False, fliplr=0.5, flipud=0.5, format=torchscript, fraction=1.0, freeze=None, half=False, hsv_h=0.015, hsv_s=0.7, hsv_v=0.4, imgsz=704, int8=False, iou=0.7, keras=False, kobj=1.0, line_width=None, lr0=0.0005611516415334506, lrf=0.00892718030435363, mask_ratio=4, max_det=300, mixup=0.0, mode=train, model=yolo/yolo_models/yolo12l.pt, momentum=0.9097990912717108, mosaic=0, multi_scale=False, name=optuna_trial_yolov12l_2, nbs=64, nms=False, opset=None, optimize=False, optimizer=SGD, overlap_mask=True, patience=100, perspective=0.0, plots=True, pose=12.0, pretrained=True, profile=False, project=None, rect=False, resume=False, retina_masks=False, save=False, save_conf=False, save_crop=False, save_dir=runs/detect/optuna_trial_yolov12l_2, save_frames=False, save_json=False, save_period=-1, save_txt=False, scale=0.06, seed=42, shear=0.0, show=False, show_boxes=True, show_conf=True, show_labels=True, simplify=True, single_cls=False, source=None, split=val, stream_buffer=False, task=detect, time=None, tracker=botsort.yaml, translate=0.1, val=True, verbose=False, vid_stride=1, visualize=False, warmup_bias_lr=0.1, warmup_epochs=5, warmup_momentum=0.75, weight_decay=0.00039687933304443713, workers=0, workspace=None\n",
      "Overriding model.yaml nc=80 with nc=1\n",
      "\n",
      "                   from  n    params  module                                       arguments                     \n",
      "  0                  -1  1      1856  ultralytics.nn.modules.conv.Conv             [3, 64, 3, 2]                 \n",
      "  1                  -1  1     73984  ultralytics.nn.modules.conv.Conv             [64, 128, 3, 2]               \n",
      "  2                  -1  2    173824  ultralytics.nn.modules.block.C3k2            [128, 256, 2, True, 0.25]     \n",
      "  3                  -1  1    590336  ultralytics.nn.modules.conv.Conv             [256, 256, 3, 2]              \n",
      "  4                  -1  2    691712  ultralytics.nn.modules.block.C3k2            [256, 512, 2, True, 0.25]     \n",
      "  5                  -1  1   2360320  ultralytics.nn.modules.conv.Conv             [512, 512, 3, 2]              \n",
      "  6                  -1  4   4272944  ultralytics.nn.modules.block.A2C2f           [512, 512, 4, True, 4, True, 1.2]\n",
      "  7                  -1  1   2360320  ultralytics.nn.modules.conv.Conv             [512, 512, 3, 2]              \n",
      "  8                  -1  4   4272944  ultralytics.nn.modules.block.A2C2f           [512, 512, 4, True, 1, True, 1.2]\n",
      "  9                  -1  1         0  torch.nn.modules.upsampling.Upsample         [None, 2, 'nearest']          \n",
      " 10             [-1, 6]  1         0  ultralytics.nn.modules.conv.Concat           [1]                           \n",
      " 11                  -1  2   2102784  ultralytics.nn.modules.block.A2C2f           [1024, 512, 2, False, -1, True, 1.2]\n",
      " 12                  -1  1         0  torch.nn.modules.upsampling.Upsample         [None, 2, 'nearest']          \n",
      " 13             [-1, 4]  1         0  ultralytics.nn.modules.conv.Concat           [1]                           \n",
      " 14                  -1  2    592640  ultralytics.nn.modules.block.A2C2f           [1024, 256, 2, False, -1, True, 1.2]\n",
      " 15                  -1  1    590336  ultralytics.nn.modules.conv.Conv             [256, 256, 3, 2]              \n",
      " 16            [-1, 11]  1         0  ultralytics.nn.modules.conv.Concat           [1]                           \n",
      " 17                  -1  2   2037248  ultralytics.nn.modules.block.A2C2f           [768, 512, 2, False, -1, True, 1.2]\n",
      " 18                  -1  1   2360320  ultralytics.nn.modules.conv.Conv             [512, 512, 3, 2]              \n",
      " 19             [-1, 8]  1         0  ultralytics.nn.modules.conv.Concat           [1]                           \n",
      " 20                  -1  2   2496512  ultralytics.nn.modules.block.C3k2            [1024, 512, 2, True]          \n",
      " 21        [14, 17, 20]  1   1411795  ultralytics.nn.modules.head.Detect           [1, [256, 512, 512]]          \n",
      "YOLOv12l summary: 488 layers, 26,389,875 parameters, 26,389,859 gradients, 89.4 GFLOPs\n",
      "\n",
      "Transferred 1239/1245 items from pretrained weights\n",
      "Freezing layer 'model.21.dfl.conv.weight'\n",
      "\u001b[34m\u001b[1mAMP: \u001b[0mrunning Automatic Mixed Precision (AMP) checks...\n",
      "\u001b[34m\u001b[1mAMP: \u001b[0mchecks passed ✅\n",
      "\u001b[34m\u001b[1mtrain: \u001b[0mFast image access ✅ (ping: 0.0±0.0 ms, read: 1624.9±821.3 MB/s, size: 87.9 KB)\n"
     ]
    },
    {
     "name": "stderr",
     "output_type": "stream",
     "text": [
      "\u001b[34m\u001b[1mtrain: \u001b[0mScanning /home/aitor/tfm/03.Datasets/YOLO_Datasets/split/train/labels\u001b[0m"
     ]
    },
    {
     "name": "stdout",
     "output_type": "stream",
     "text": [
      "\u001b[34m\u001b[1mval: \u001b[0mFast image access ✅ (ping: 0.0±0.0 ms, read: 2090.1±749.5 MB/s, size: 89.7 KB)\n"
     ]
    },
    {
     "name": "stderr",
     "output_type": "stream",
     "text": [
      "\n",
      "\u001b[34m\u001b[1mval: \u001b[0mScanning /home/aitor/tfm/03.Datasets/YOLO_Datasets/split/val/labels.cac\u001b[0m\n"
     ]
    },
    {
     "name": "stdout",
     "output_type": "stream",
     "text": [
      "Plotting labels to runs/detect/optuna_trial_yolov12l_2/labels.jpg... \n",
      "\u001b[34m\u001b[1moptimizer:\u001b[0m SGD(lr=0.0005611516415334506, momentum=0.9097990912717108) with parameter groups 205 weight(decay=0.0), 214 weight(decay=0.00039687933304443713), 211 bias(decay=0.0)\n",
      "Image sizes 704 train, 704 val\n",
      "Using 0 dataloader workers\n",
      "Logging results to \u001b[1mruns/detect/optuna_trial_yolov12l_2\u001b[0m\n",
      "Starting training for 25 epochs...\n",
      "\n",
      "      Epoch    GPU_mem   box_loss   cls_loss   dfl_loss  Instances       Size\n"
     ]
    },
    {
     "name": "stderr",
     "output_type": "stream",
     "text": [
      "       1/25      11.4G      2.718      4.667      1.482         50        70\n",
      "                 Class     Images  Instances      Box(P          R      mAP5"
     ]
    },
    {
     "name": "stdout",
     "output_type": "stream",
     "text": [
      "                   all         75        955     0.0132      0.311     0.0195    0.00751\n",
      "\n",
      "      Epoch    GPU_mem   box_loss   cls_loss   dfl_loss  Instances       Size\n"
     ]
    },
    {
     "name": "stderr",
     "output_type": "stream",
     "text": [
      "\n",
      "       2/25      11.4G      2.147      2.595      1.194          4        70\n",
      "                 Class     Images  Instances      Box(P          R      mAP5"
     ]
    },
    {
     "name": "stdout",
     "output_type": "stream",
     "text": [
      "                   all         75        955      0.535       0.54       0.52      0.281\n",
      "\n",
      "      Epoch    GPU_mem   box_loss   cls_loss   dfl_loss  Instances       Size\n"
     ]
    },
    {
     "name": "stderr",
     "output_type": "stream",
     "text": [
      "\n",
      "       3/25      11.3G      1.778      1.497      1.071         28        70\n",
      "                 Class     Images  Instances      Box(P          R      mAP5"
     ]
    },
    {
     "name": "stdout",
     "output_type": "stream",
     "text": [
      "                   all         75        955      0.668      0.694      0.684      0.267\n",
      "\n",
      "      Epoch    GPU_mem   box_loss   cls_loss   dfl_loss  Instances       Size\n"
     ]
    },
    {
     "name": "stderr",
     "output_type": "stream",
     "text": [
      "\n",
      "       4/25      11.3G      1.474      1.183     0.9566         25        70\n",
      "                 Class     Images  Instances      Box(P          R      mAP5"
     ]
    },
    {
     "name": "stdout",
     "output_type": "stream",
     "text": [
      "                   all         75        955       0.69      0.671      0.649      0.157\n",
      "\n",
      "      Epoch    GPU_mem   box_loss   cls_loss   dfl_loss  Instances       Size\n"
     ]
    },
    {
     "name": "stderr",
     "output_type": "stream",
     "text": [
      "\n",
      "       5/25      11.3G      1.317      1.603     0.9078          0        70\n",
      "                 Class     Images  Instances      Box(P          R      mAP5"
     ]
    },
    {
     "name": "stdout",
     "output_type": "stream",
     "text": [
      "                   all         75        955      0.715      0.754      0.749      0.317\n",
      "\n",
      "      Epoch    GPU_mem   box_loss   cls_loss   dfl_loss  Instances       Size\n"
     ]
    },
    {
     "name": "stderr",
     "output_type": "stream",
     "text": [
      "\n",
      "       6/25      11.3G      1.226      1.059     0.9049          8        70\n",
      "                 Class     Images  Instances      Box(P          R      mAP5"
     ]
    },
    {
     "name": "stdout",
     "output_type": "stream",
     "text": [
      "                   all         75        955      0.752      0.784      0.798      0.303\n",
      "\n",
      "      Epoch    GPU_mem   box_loss   cls_loss   dfl_loss  Instances       Size\n"
     ]
    },
    {
     "name": "stderr",
     "output_type": "stream",
     "text": [
      "\n",
      "       7/25      11.3G      1.184     0.9563     0.8829          8        70\n",
      "                 Class     Images  Instances      Box(P          R      mAP5"
     ]
    },
    {
     "name": "stdout",
     "output_type": "stream",
     "text": [
      "                   all         75        955      0.758      0.799      0.829      0.388\n",
      "\n",
      "      Epoch    GPU_mem   box_loss   cls_loss   dfl_loss  Instances       Size\n"
     ]
    },
    {
     "name": "stderr",
     "output_type": "stream",
     "text": [
      "\n",
      "       8/25      11.3G      1.091     0.8767     0.8695          5        70\n",
      "                 Class     Images  Instances      Box(P          R      mAP5"
     ]
    },
    {
     "name": "stdout",
     "output_type": "stream",
     "text": [
      "                   all         75        955      0.762      0.828      0.852       0.55\n",
      "\n",
      "      Epoch    GPU_mem   box_loss   cls_loss   dfl_loss  Instances       Size\n"
     ]
    },
    {
     "name": "stderr",
     "output_type": "stream",
     "text": [
      "\n",
      "       9/25      11.3G      1.096     0.8135     0.8692          4        70\n",
      "                 Class     Images  Instances      Box(P          R      mAP5"
     ]
    },
    {
     "name": "stdout",
     "output_type": "stream",
     "text": [
      "                   all         75        955      0.792       0.81       0.86      0.546\n",
      "\n",
      "      Epoch    GPU_mem   box_loss   cls_loss   dfl_loss  Instances       Size\n"
     ]
    },
    {
     "name": "stderr",
     "output_type": "stream",
     "text": [
      "\n",
      "      10/25      11.3G      1.044     0.8025     0.8677         31        70\n",
      "                 Class     Images  Instances      Box(P          R      mAP5"
     ]
    },
    {
     "name": "stdout",
     "output_type": "stream",
     "text": [
      "                   all         75        955      0.791      0.807       0.85      0.579\n",
      "\n",
      "      Epoch    GPU_mem   box_loss   cls_loss   dfl_loss  Instances       Size\n"
     ]
    },
    {
     "name": "stderr",
     "output_type": "stream",
     "text": [
      "\n",
      "      11/25      11.3G      1.021     0.7742     0.8599         42        70\n",
      "                 Class     Images  Instances      Box(P          R      mAP5"
     ]
    },
    {
     "name": "stdout",
     "output_type": "stream",
     "text": [
      "                   all         75        955      0.806      0.795      0.859      0.591\n",
      "\n",
      "      Epoch    GPU_mem   box_loss   cls_loss   dfl_loss  Instances       Size\n"
     ]
    },
    {
     "name": "stderr",
     "output_type": "stream",
     "text": [
      "\n",
      "      12/25      11.3G     0.9744     0.7317     0.8558         22        70\n",
      "                 Class     Images  Instances      Box(P          R      mAP5"
     ]
    },
    {
     "name": "stdout",
     "output_type": "stream",
     "text": [
      "                   all         75        955      0.812       0.82      0.865      0.591\n",
      "\n",
      "      Epoch    GPU_mem   box_loss   cls_loss   dfl_loss  Instances       Size\n"
     ]
    },
    {
     "name": "stderr",
     "output_type": "stream",
     "text": [
      "\n",
      "      13/25      11.3G     0.9565     0.7237     0.8524         13        70\n",
      "                 Class     Images  Instances      Box(P          R      mAP5"
     ]
    },
    {
     "name": "stdout",
     "output_type": "stream",
     "text": [
      "                   all         75        955      0.812      0.809      0.866      0.612\n",
      "\n",
      "      Epoch    GPU_mem   box_loss   cls_loss   dfl_loss  Instances       Size\n"
     ]
    },
    {
     "name": "stderr",
     "output_type": "stream",
     "text": [
      "\n",
      "      14/25      11.3G     0.9412     0.6863     0.8475         48        70\n",
      "                 Class     Images  Instances      Box(P          R      mAP5"
     ]
    },
    {
     "name": "stdout",
     "output_type": "stream",
     "text": [
      "                   all         75        955      0.798      0.836      0.867      0.537\n",
      "\n",
      "      Epoch    GPU_mem   box_loss   cls_loss   dfl_loss  Instances       Size\n"
     ]
    },
    {
     "name": "stderr",
     "output_type": "stream",
     "text": [
      "\n",
      "      15/25      11.3G     0.9838     0.7216     0.8508          2        70\n",
      "                 Class     Images  Instances      Box(P          R      mAP5"
     ]
    },
    {
     "name": "stdout",
     "output_type": "stream",
     "text": [
      "                   all         75        955      0.786      0.854      0.873      0.571\n",
      "\n",
      "      Epoch    GPU_mem   box_loss   cls_loss   dfl_loss  Instances       Size\n"
     ]
    },
    {
     "name": "stderr",
     "output_type": "stream",
     "text": [
      "\n",
      "      16/25      11.3G     0.9325     0.6933     0.8464          2        70\n",
      "                 Class     Images  Instances      Box(P          R      mAP5"
     ]
    },
    {
     "name": "stdout",
     "output_type": "stream",
     "text": [
      "                   all         75        955       0.79      0.845       0.87      0.632\n",
      "\n",
      "      Epoch    GPU_mem   box_loss   cls_loss   dfl_loss  Instances       Size\n"
     ]
    },
    {
     "name": "stderr",
     "output_type": "stream",
     "text": [
      "\n",
      "      17/25      11.3G     0.9077     0.6753     0.8372         22        70\n",
      "                 Class     Images  Instances      Box(P          R      mAP5"
     ]
    },
    {
     "name": "stdout",
     "output_type": "stream",
     "text": [
      "                   all         75        955      0.785      0.855      0.875      0.635\n",
      "\n",
      "      Epoch    GPU_mem   box_loss   cls_loss   dfl_loss  Instances       Size\n"
     ]
    },
    {
     "name": "stderr",
     "output_type": "stream",
     "text": [
      "\n",
      "      18/25      11.2G     0.9199     0.6862      0.841          7        70\n",
      "                 Class     Images  Instances      Box(P          R      mAP5"
     ]
    },
    {
     "name": "stdout",
     "output_type": "stream",
     "text": [
      "                   all         75        955      0.812      0.818      0.875      0.644\n",
      "\n",
      "      Epoch    GPU_mem   box_loss   cls_loss   dfl_loss  Instances       Size\n"
     ]
    },
    {
     "name": "stderr",
     "output_type": "stream",
     "text": [
      "\n",
      "      19/25      11.3G     0.9026     0.6701     0.8396          7        70\n",
      "                 Class     Images  Instances      Box(P          R      mAP5"
     ]
    },
    {
     "name": "stdout",
     "output_type": "stream",
     "text": [
      "                   all         75        955       0.79      0.845      0.874      0.636\n",
      "\n",
      "      Epoch    GPU_mem   box_loss   cls_loss   dfl_loss  Instances       Size\n"
     ]
    },
    {
     "name": "stderr",
     "output_type": "stream",
     "text": [
      "\n",
      "      20/25      11.3G     0.9044     0.6452     0.8458         28        70\n",
      "                 Class     Images  Instances      Box(P          R      mAP5"
     ]
    },
    {
     "name": "stdout",
     "output_type": "stream",
     "text": [
      "                   all         75        955      0.818       0.83      0.875      0.644\n",
      "\n",
      "      Epoch    GPU_mem   box_loss   cls_loss   dfl_loss  Instances       Size\n"
     ]
    },
    {
     "name": "stderr",
     "output_type": "stream",
     "text": [
      "\n",
      "      21/25      11.3G     0.8916      0.632     0.8375         50        70\n",
      "                 Class     Images  Instances      Box(P          R      mAP5"
     ]
    },
    {
     "name": "stdout",
     "output_type": "stream",
     "text": [
      "                   all         75        955      0.809      0.838      0.875      0.649\n",
      "\n",
      "      Epoch    GPU_mem   box_loss   cls_loss   dfl_loss  Instances       Size\n"
     ]
    },
    {
     "name": "stderr",
     "output_type": "stream",
     "text": [
      "\n",
      "      22/25      11.2G     0.8601     0.6318     0.8371         15        70\n",
      "                 Class     Images  Instances      Box(P          R      mAP5"
     ]
    },
    {
     "name": "stdout",
     "output_type": "stream",
     "text": [
      "                   all         75        955        0.8      0.843      0.875      0.651\n",
      "\n",
      "      Epoch    GPU_mem   box_loss   cls_loss   dfl_loss  Instances       Size\n"
     ]
    },
    {
     "name": "stderr",
     "output_type": "stream",
     "text": [
      "\n",
      "      23/25      11.3G     0.8495     0.6572     0.8331          3        70\n",
      "                 Class     Images  Instances      Box(P          R      mAP5"
     ]
    },
    {
     "name": "stdout",
     "output_type": "stream",
     "text": [
      "                   all         75        955      0.808      0.832      0.872       0.65\n",
      "\n",
      "      Epoch    GPU_mem   box_loss   cls_loss   dfl_loss  Instances       Size\n"
     ]
    },
    {
     "name": "stderr",
     "output_type": "stream",
     "text": [
      "\n",
      "      24/25      11.3G     0.8575     0.6322     0.8336         16        70\n",
      "                 Class     Images  Instances      Box(P          R      mAP5"
     ]
    },
    {
     "name": "stdout",
     "output_type": "stream",
     "text": [
      "                   all         75        955      0.806      0.833      0.873      0.658\n",
      "\n",
      "      Epoch    GPU_mem   box_loss   cls_loss   dfl_loss  Instances       Size\n"
     ]
    },
    {
     "name": "stderr",
     "output_type": "stream",
     "text": [
      "\n",
      "      25/25      11.3G     0.8689     0.6217     0.8369         18        70\n",
      "                 Class     Images  Instances      Box(P          R      mAP5"
     ]
    },
    {
     "name": "stdout",
     "output_type": "stream",
     "text": [
      "                   all         75        955      0.807      0.827      0.873      0.657\n"
     ]
    },
    {
     "name": "stderr",
     "output_type": "stream",
     "text": [
      "\n"
     ]
    },
    {
     "name": "stdout",
     "output_type": "stream",
     "text": [
      "\n",
      "25 epochs completed in 0.365 hours.\n",
      "Optimizer stripped from runs/detect/optuna_trial_yolov12l_2/weights/last.pt, 53.5MB\n"
     ]
    },
    {
     "name": "stderr",
     "output_type": "stream",
     "text": [
      "[I 2025-08-25 19:17:13,738] Trial 2 finished with value: 0.6571081847506752 and parameters: {'lr0': 0.0005611516415334506, 'lrf': 0.00892718030435363, 'momentum': 0.9097990912717108, 'weight_decay': 0.00039687933304443713, 'optimizer': 'SGD', 'warmup_epochs': 5, 'warmup_momentum': 0.75, 'degrees': 45, 'translate': 0.1, 'scale': 0.06, 'flipud': 0.5, 'fliplr': 0.5, 'mosaic': 0, 'close_mosaic': 0}. Best is trial 2 with value: 0.6571081847506752.\n"
     ]
    },
    {
     "name": "stdout",
     "output_type": "stream",
     "text": [
      "New https://pypi.org/project/ultralytics/8.3.185 available 😃 Update with 'pip install -U ultralytics'\n",
      "Ultralytics 8.3.169 🚀 Python-3.11.13 torch-2.6.0+cu124 CUDA:0 (NVIDIA TITAN Xp, 12190MiB)\n",
      "\u001b[34m\u001b[1mengine/trainer: \u001b[0magnostic_nms=False, amp=True, augment=False, auto_augment=randaugment, batch=8, bgr=0.0, box=7.5, cache=False, cfg=None, classes=None, close_mosaic=0, cls=0.5, conf=None, copy_paste=0.0, copy_paste_mode=flip, cos_lr=False, cutmix=0.0, data=cells.yaml, degrees=45, deterministic=True, device=None, dfl=1.5, dnn=False, dropout=0.0, dynamic=False, embed=None, epochs=25, erasing=0.4, exist_ok=False, fliplr=0.5, flipud=0.5, format=torchscript, fraction=1.0, freeze=None, half=False, hsv_h=0.015, hsv_s=0.7, hsv_v=0.4, imgsz=704, int8=False, iou=0.7, keras=False, kobj=1.0, line_width=None, lr0=0.005399484409787433, lrf=0.003991305878561679, mask_ratio=4, max_det=300, mixup=0.0, mode=train, model=yolo/yolo_models/yolo12l.pt, momentum=0.9062108866694067, mosaic=0, multi_scale=False, name=optuna_trial_yolov12l_3, nbs=64, nms=False, opset=None, optimize=False, optimizer=SGD, overlap_mask=True, patience=100, perspective=0.0, plots=True, pose=12.0, pretrained=True, profile=False, project=None, rect=False, resume=False, retina_masks=False, save=False, save_conf=False, save_crop=False, save_dir=runs/detect/optuna_trial_yolov12l_3, save_frames=False, save_json=False, save_period=-1, save_txt=False, scale=0.06, seed=42, shear=0.0, show=False, show_boxes=True, show_conf=True, show_labels=True, simplify=True, single_cls=False, source=None, split=val, stream_buffer=False, task=detect, time=None, tracker=botsort.yaml, translate=0.1, val=True, verbose=False, vid_stride=1, visualize=False, warmup_bias_lr=0.1, warmup_epochs=5, warmup_momentum=0.75, weight_decay=0.00010485387725194633, workers=0, workspace=None\n",
      "\n",
      "                   from  n    params  module                                       arguments                     \n",
      "  0                  -1  1      1856  ultralytics.nn.modules.conv.Conv             [3, 64, 3, 2]                 \n",
      "  1                  -1  1     73984  ultralytics.nn.modules.conv.Conv             [64, 128, 3, 2]               \n",
      "  2                  -1  2    173824  ultralytics.nn.modules.block.C3k2            [128, 256, 2, True, 0.25]     \n",
      "  3                  -1  1    590336  ultralytics.nn.modules.conv.Conv             [256, 256, 3, 2]              \n",
      "  4                  -1  2    691712  ultralytics.nn.modules.block.C3k2            [256, 512, 2, True, 0.25]     \n",
      "  5                  -1  1   2360320  ultralytics.nn.modules.conv.Conv             [512, 512, 3, 2]              \n",
      "  6                  -1  4   4272944  ultralytics.nn.modules.block.A2C2f           [512, 512, 4, True, 4, True, 1.2]\n",
      "  7                  -1  1   2360320  ultralytics.nn.modules.conv.Conv             [512, 512, 3, 2]              \n",
      "  8                  -1  4   4272944  ultralytics.nn.modules.block.A2C2f           [512, 512, 4, True, 1, True, 1.2]\n",
      "  9                  -1  1         0  torch.nn.modules.upsampling.Upsample         [None, 2, 'nearest']          \n",
      " 10             [-1, 6]  1         0  ultralytics.nn.modules.conv.Concat           [1]                           \n",
      " 11                  -1  2   2102784  ultralytics.nn.modules.block.A2C2f           [1024, 512, 2, False, -1, True, 1.2]\n",
      " 12                  -1  1         0  torch.nn.modules.upsampling.Upsample         [None, 2, 'nearest']          \n",
      " 13             [-1, 4]  1         0  ultralytics.nn.modules.conv.Concat           [1]                           \n",
      " 14                  -1  2    592640  ultralytics.nn.modules.block.A2C2f           [1024, 256, 2, False, -1, True, 1.2]\n",
      " 15                  -1  1    590336  ultralytics.nn.modules.conv.Conv             [256, 256, 3, 2]              \n",
      " 16            [-1, 11]  1         0  ultralytics.nn.modules.conv.Concat           [1]                           \n",
      " 17                  -1  2   2037248  ultralytics.nn.modules.block.A2C2f           [768, 512, 2, False, -1, True, 1.2]\n",
      " 18                  -1  1   2360320  ultralytics.nn.modules.conv.Conv             [512, 512, 3, 2]              \n",
      " 19             [-1, 8]  1         0  ultralytics.nn.modules.conv.Concat           [1]                           \n",
      " 20                  -1  2   2496512  ultralytics.nn.modules.block.C3k2            [1024, 512, 2, True]          \n",
      " 21        [14, 17, 20]  1   1411795  ultralytics.nn.modules.head.Detect           [1, [256, 512, 512]]          \n",
      "YOLOv12l summary: 488 layers, 26,389,875 parameters, 26,389,859 gradients, 89.4 GFLOPs\n",
      "\n",
      "Transferred 1245/1245 items from pretrained weights\n",
      "Freezing layer 'model.21.dfl.conv.weight'\n",
      "\u001b[34m\u001b[1mAMP: \u001b[0mrunning Automatic Mixed Precision (AMP) checks...\n",
      "\u001b[34m\u001b[1mAMP: \u001b[0mchecks passed ✅\n",
      "\u001b[34m\u001b[1mtrain: \u001b[0mFast image access ✅ (ping: 0.0±0.0 ms, read: 2087.6±863.1 MB/s, size: 87.9 KB)\n"
     ]
    },
    {
     "name": "stderr",
     "output_type": "stream",
     "text": [
      "\u001b[34m\u001b[1mtrain: \u001b[0mScanning /home/aitor/tfm/03.Datasets/YOLO_Datasets/split/train/labels\u001b[0m"
     ]
    },
    {
     "name": "stdout",
     "output_type": "stream",
     "text": [
      "\u001b[34m\u001b[1mval: \u001b[0mFast image access ✅ (ping: 0.0±0.0 ms, read: 2175.3±469.7 MB/s, size: 89.7 KB)\n"
     ]
    },
    {
     "name": "stderr",
     "output_type": "stream",
     "text": [
      "\n",
      "\u001b[34m\u001b[1mval: \u001b[0mScanning /home/aitor/tfm/03.Datasets/YOLO_Datasets/split/val/labels.cac\u001b[0m"
     ]
    },
    {
     "name": "stdout",
     "output_type": "stream",
     "text": [
      "Plotting labels to runs/detect/optuna_trial_yolov12l_3/labels.jpg... \n"
     ]
    },
    {
     "name": "stderr",
     "output_type": "stream",
     "text": [
      "\n"
     ]
    },
    {
     "name": "stdout",
     "output_type": "stream",
     "text": [
      "\u001b[34m\u001b[1moptimizer:\u001b[0m SGD(lr=0.005399484409787433, momentum=0.9062108866694067) with parameter groups 205 weight(decay=0.0), 214 weight(decay=0.00010485387725194633), 211 bias(decay=0.0)\n",
      "Image sizes 704 train, 704 val\n",
      "Using 0 dataloader workers\n",
      "Logging results to \u001b[1mruns/detect/optuna_trial_yolov12l_3\u001b[0m\n",
      "Starting training for 25 epochs...\n",
      "\n",
      "      Epoch    GPU_mem   box_loss   cls_loss   dfl_loss  Instances       Size\n"
     ]
    },
    {
     "name": "stderr",
     "output_type": "stream",
     "text": [
      "       1/25      11.5G      0.959     0.6664     0.8417         50        70\n",
      "                 Class     Images  Instances      Box(P          R      mAP5"
     ]
    },
    {
     "name": "stdout",
     "output_type": "stream",
     "text": [
      "                   all         75        955      0.799      0.828      0.866       0.46\n",
      "\n",
      "      Epoch    GPU_mem   box_loss   cls_loss   dfl_loss  Instances       Size\n"
     ]
    },
    {
     "name": "stderr",
     "output_type": "stream",
     "text": [
      "\n",
      "       2/25      11.4G      1.187     0.8603     0.8815          4        70\n",
      "                 Class     Images  Instances      Box(P          R      mAP5"
     ]
    },
    {
     "name": "stdout",
     "output_type": "stream",
     "text": [
      "                   all         75        955      0.785       0.81      0.839       0.37\n",
      "\n",
      "      Epoch    GPU_mem   box_loss   cls_loss   dfl_loss  Instances       Size\n"
     ]
    },
    {
     "name": "stderr",
     "output_type": "stream",
     "text": [
      "\n",
      "       3/25      11.3G      1.211      1.044     0.8923         28        70\n",
      "                 Class     Images  Instances      Box(P          R      mAP5"
     ]
    },
    {
     "name": "stdout",
     "output_type": "stream",
     "text": [
      "                   all         75        955      0.803      0.829      0.864      0.444\n",
      "\n",
      "      Epoch    GPU_mem   box_loss   cls_loss   dfl_loss  Instances       Size\n"
     ]
    },
    {
     "name": "stderr",
     "output_type": "stream",
     "text": [
      "\n",
      "       4/25      11.4G      1.285      1.254     0.9075         25        70\n",
      "                 Class     Images  Instances      Box(P          R      mAP5"
     ]
    },
    {
     "name": "stdout",
     "output_type": "stream",
     "text": [
      "                   all         75        955      0.798      0.784      0.831      0.341\n",
      "\n",
      "      Epoch    GPU_mem   box_loss   cls_loss   dfl_loss  Instances       Size\n"
     ]
    },
    {
     "name": "stderr",
     "output_type": "stream",
     "text": [
      "\n",
      "       5/25      11.3G      1.313      2.149      0.888          0        70\n",
      "                 Class     Images  Instances      Box(P          R      mAP5"
     ]
    },
    {
     "name": "stdout",
     "output_type": "stream",
     "text": [
      "                   all         75        955      0.798      0.832      0.845      0.542\n",
      "\n",
      "      Epoch    GPU_mem   box_loss   cls_loss   dfl_loss  Instances       Size\n"
     ]
    },
    {
     "name": "stderr",
     "output_type": "stream",
     "text": [
      "\n",
      "       6/25      11.3G      1.241      1.599      0.899          8        70\n",
      "                 Class     Images  Instances      Box(P          R      mAP5"
     ]
    },
    {
     "name": "stdout",
     "output_type": "stream",
     "text": [
      "                   all         75        955      0.767      0.799      0.819      0.317\n",
      "\n",
      "      Epoch    GPU_mem   box_loss   cls_loss   dfl_loss  Instances       Size\n"
     ]
    },
    {
     "name": "stderr",
     "output_type": "stream",
     "text": [
      "\n",
      "       7/25      11.4G       1.25      1.125     0.8919          8        70\n",
      "                 Class     Images  Instances      Box(P          R      mAP5"
     ]
    },
    {
     "name": "stdout",
     "output_type": "stream",
     "text": [
      "                   all         75        955      0.762      0.815       0.82      0.532\n",
      "\n",
      "      Epoch    GPU_mem   box_loss   cls_loss   dfl_loss  Instances       Size\n"
     ]
    },
    {
     "name": "stderr",
     "output_type": "stream",
     "text": [
      "\n",
      "       8/25      11.3G       1.18     0.9715      0.878          5        70\n",
      "                 Class     Images  Instances      Box(P          R      mAP5"
     ]
    },
    {
     "name": "stdout",
     "output_type": "stream",
     "text": [
      "                   all         75        955      0.795      0.832      0.844      0.322\n",
      "\n",
      "      Epoch    GPU_mem   box_loss   cls_loss   dfl_loss  Instances       Size\n"
     ]
    },
    {
     "name": "stderr",
     "output_type": "stream",
     "text": [
      "\n",
      "       9/25      11.3G      1.205     0.8012     0.8878          4        70\n",
      "                 Class     Images  Instances      Box(P          R      mAP5"
     ]
    },
    {
     "name": "stdout",
     "output_type": "stream",
     "text": [
      "                   all         75        955      0.806       0.85      0.838      0.453\n",
      "\n",
      "      Epoch    GPU_mem   box_loss   cls_loss   dfl_loss  Instances       Size\n"
     ]
    },
    {
     "name": "stderr",
     "output_type": "stream",
     "text": [
      "\n",
      "      10/25      11.2G      1.105     0.7339     0.8707         31        70\n",
      "                 Class     Images  Instances      Box(P          R      mAP5"
     ]
    },
    {
     "name": "stdout",
     "output_type": "stream",
     "text": [
      "                   all         75        955      0.775      0.868      0.866      0.649\n",
      "\n",
      "      Epoch    GPU_mem   box_loss   cls_loss   dfl_loss  Instances       Size\n"
     ]
    },
    {
     "name": "stderr",
     "output_type": "stream",
     "text": [
      "\n",
      "      11/25      11.3G      1.152     0.7774     0.8785         42        70\n",
      "                 Class     Images  Instances      Box(P          R      mAP5"
     ]
    },
    {
     "name": "stdout",
     "output_type": "stream",
     "text": [
      "                   all         75        955      0.814      0.829      0.845      0.598\n",
      "\n",
      "      Epoch    GPU_mem   box_loss   cls_loss   dfl_loss  Instances       Size\n"
     ]
    },
    {
     "name": "stderr",
     "output_type": "stream",
     "text": [
      "\n",
      "      12/25      11.3G     0.9928     0.7164     0.8552         22        70\n",
      "                 Class     Images  Instances      Box(P          R      mAP5"
     ]
    },
    {
     "name": "stdout",
     "output_type": "stream",
     "text": [
      "                   all         75        955      0.729      0.861      0.789      0.567\n",
      "\n",
      "      Epoch    GPU_mem   box_loss   cls_loss   dfl_loss  Instances       Size\n"
     ]
    },
    {
     "name": "stderr",
     "output_type": "stream",
     "text": [
      "\n",
      "      13/25      11.3G      1.057     0.6855     0.8633         13        70\n",
      "                 Class     Images  Instances      Box(P          R      mAP5"
     ]
    },
    {
     "name": "stdout",
     "output_type": "stream",
     "text": [
      "                   all         75        955      0.808       0.85      0.869      0.632\n",
      "\n",
      "      Epoch    GPU_mem   box_loss   cls_loss   dfl_loss  Instances       Size\n"
     ]
    },
    {
     "name": "stderr",
     "output_type": "stream",
     "text": [
      "\n",
      "      14/25      11.3G     0.9777     0.6389     0.8522         48        70\n",
      "                 Class     Images  Instances      Box(P          R      mAP5"
     ]
    },
    {
     "name": "stdout",
     "output_type": "stream",
     "text": [
      "                   all         75        955      0.824       0.84      0.868       0.52\n",
      "\n",
      "      Epoch    GPU_mem   box_loss   cls_loss   dfl_loss  Instances       Size\n"
     ]
    },
    {
     "name": "stderr",
     "output_type": "stream",
     "text": [
      "\n",
      "      15/25      11.3G     0.9628     0.6874     0.8452          2        70\n",
      "                 Class     Images  Instances      Box(P          R      mAP5"
     ]
    },
    {
     "name": "stdout",
     "output_type": "stream",
     "text": [
      "                   all         75        955       0.81       0.84      0.857      0.637\n",
      "\n",
      "      Epoch    GPU_mem   box_loss   cls_loss   dfl_loss  Instances       Size\n"
     ]
    },
    {
     "name": "stderr",
     "output_type": "stream",
     "text": [
      "\n",
      "      16/25      11.3G     0.9766     0.6518     0.8505          2        70\n",
      "                 Class     Images  Instances      Box(P          R      mAP5"
     ]
    },
    {
     "name": "stdout",
     "output_type": "stream",
     "text": [
      "                   all         75        955      0.801      0.854      0.857      0.659\n",
      "\n",
      "      Epoch    GPU_mem   box_loss   cls_loss   dfl_loss  Instances       Size\n"
     ]
    },
    {
     "name": "stderr",
     "output_type": "stream",
     "text": [
      "\n",
      "      17/25      11.3G     0.9338     0.6349     0.8393         22        70\n",
      "                 Class     Images  Instances      Box(P          R      mAP5"
     ]
    },
    {
     "name": "stdout",
     "output_type": "stream",
     "text": [
      "                   all         75        955      0.796      0.875      0.877      0.636\n",
      "\n",
      "      Epoch    GPU_mem   box_loss   cls_loss   dfl_loss  Instances       Size\n"
     ]
    },
    {
     "name": "stderr",
     "output_type": "stream",
     "text": [
      "\n",
      "      18/25      11.2G     0.8952     0.6261      0.838          7        70\n",
      "                 Class     Images  Instances      Box(P          R      mAP5"
     ]
    },
    {
     "name": "stdout",
     "output_type": "stream",
     "text": [
      "                   all         75        955      0.796      0.875      0.872      0.664\n",
      "\n",
      "      Epoch    GPU_mem   box_loss   cls_loss   dfl_loss  Instances       Size\n"
     ]
    },
    {
     "name": "stderr",
     "output_type": "stream",
     "text": [
      "\n",
      "      19/25      11.3G     0.9029     0.6218     0.8397          7        70\n",
      "                 Class     Images  Instances      Box(P          R      mAP5"
     ]
    },
    {
     "name": "stdout",
     "output_type": "stream",
     "text": [
      "                   all         75        955      0.837      0.832      0.882      0.668\n",
      "\n",
      "      Epoch    GPU_mem   box_loss   cls_loss   dfl_loss  Instances       Size\n"
     ]
    },
    {
     "name": "stderr",
     "output_type": "stream",
     "text": [
      "\n",
      "      20/25      11.3G     0.8834     0.5851     0.8385         28        70\n",
      "                 Class     Images  Instances      Box(P          R      mAP5"
     ]
    },
    {
     "name": "stdout",
     "output_type": "stream",
     "text": [
      "                   all         75        955      0.805      0.871      0.878      0.682\n",
      "\n",
      "      Epoch    GPU_mem   box_loss   cls_loss   dfl_loss  Instances       Size\n"
     ]
    },
    {
     "name": "stderr",
     "output_type": "stream",
     "text": [
      "\n",
      "      21/25      11.3G     0.8599     0.5809     0.8324         50        70\n",
      "                 Class     Images  Instances      Box(P          R      mAP5"
     ]
    },
    {
     "name": "stdout",
     "output_type": "stream",
     "text": [
      "                   all         75        955       0.81      0.863      0.881        0.6\n",
      "\n",
      "      Epoch    GPU_mem   box_loss   cls_loss   dfl_loss  Instances       Size\n"
     ]
    },
    {
     "name": "stderr",
     "output_type": "stream",
     "text": [
      "\n",
      "      22/25      11.3G      0.803     0.5634     0.8278         15        70\n",
      "                 Class     Images  Instances      Box(P          R      mAP5"
     ]
    },
    {
     "name": "stdout",
     "output_type": "stream",
     "text": [
      "                   all         75        955      0.838      0.835      0.883       0.62\n",
      "\n",
      "      Epoch    GPU_mem   box_loss   cls_loss   dfl_loss  Instances       Size\n"
     ]
    },
    {
     "name": "stderr",
     "output_type": "stream",
     "text": [
      "\n",
      "      23/25      11.3G     0.8146     0.5733     0.8254          3        70\n",
      "                 Class     Images  Instances      Box(P          R      mAP5"
     ]
    },
    {
     "name": "stdout",
     "output_type": "stream",
     "text": [
      "                   all         75        955      0.837      0.842      0.886      0.677\n",
      "\n",
      "      Epoch    GPU_mem   box_loss   cls_loss   dfl_loss  Instances       Size\n"
     ]
    },
    {
     "name": "stderr",
     "output_type": "stream",
     "text": [
      "\n",
      "      24/25      11.3G     0.7902     0.5495     0.8227         16        70\n",
      "                 Class     Images  Instances      Box(P          R      mAP5"
     ]
    },
    {
     "name": "stdout",
     "output_type": "stream",
     "text": [
      "                   all         75        955      0.816      0.861      0.886      0.694\n",
      "\n",
      "      Epoch    GPU_mem   box_loss   cls_loss   dfl_loss  Instances       Size\n"
     ]
    },
    {
     "name": "stderr",
     "output_type": "stream",
     "text": [
      "\n",
      "      25/25      11.3G     0.7704     0.5369     0.8215         18        70\n",
      "                 Class     Images  Instances      Box(P          R      mAP5"
     ]
    },
    {
     "name": "stdout",
     "output_type": "stream",
     "text": [
      "                   all         75        955      0.815      0.862      0.886      0.702\n"
     ]
    },
    {
     "name": "stderr",
     "output_type": "stream",
     "text": [
      "\n"
     ]
    },
    {
     "name": "stdout",
     "output_type": "stream",
     "text": [
      "\n",
      "25 epochs completed in 0.366 hours.\n",
      "Optimizer stripped from runs/detect/optuna_trial_yolov12l_3/weights/last.pt, 53.5MB\n",
      "Optimizer stripped from runs/detect/optuna_trial_yolov12l_3/weights/best.pt, 53.5MB\n",
      "\n",
      "Validating runs/detect/optuna_trial_yolov12l_3/weights/best.pt...\n",
      "Ultralytics 8.3.169 🚀 Python-3.11.13 torch-2.6.0+cu124 CUDA:0 (NVIDIA TITAN Xp, 12190MiB)\n",
      "YOLOv12l summary (fused): 283 layers, 26,339,843 parameters, 0 gradients, 88.5 GFLOPs\n"
     ]
    },
    {
     "name": "stderr",
     "output_type": "stream",
     "text": [
      "                 Class     Images  Instances      Box(P          R      mAP5\n"
     ]
    },
    {
     "name": "stdout",
     "output_type": "stream",
     "text": [
      "                   all         75        955      0.815      0.862      0.885      0.702\n",
      "Speed: 0.2ms preprocess, 34.4ms inference, 0.0ms loss, 1.3ms postprocess per image\n",
      "Results saved to \u001b[1mruns/detect/optuna_trial_yolov12l_3\u001b[0m\n"
     ]
    },
    {
     "name": "stderr",
     "output_type": "stream",
     "text": [
      "[I 2025-08-25 19:39:25,447] Trial 3 finished with value: 0.7019693782093495 and parameters: {'lr0': 0.005399484409787433, 'lrf': 0.003991305878561679, 'momentum': 0.9062108866694067, 'weight_decay': 0.00010485387725194633, 'optimizer': 'SGD', 'warmup_epochs': 5, 'warmup_momentum': 0.75, 'degrees': 45, 'translate': 0.1, 'scale': 0.06, 'flipud': 0.5, 'fliplr': 0.5, 'mosaic': 0, 'close_mosaic': 0}. Best is trial 3 with value: 0.7019693782093495.\n"
     ]
    },
    {
     "name": "stdout",
     "output_type": "stream",
     "text": [
      "New https://pypi.org/project/ultralytics/8.3.185 available 😃 Update with 'pip install -U ultralytics'\n",
      "Ultralytics 8.3.169 🚀 Python-3.11.13 torch-2.6.0+cu124 CUDA:0 (NVIDIA TITAN Xp, 12190MiB)\n",
      "\u001b[34m\u001b[1mengine/trainer: \u001b[0magnostic_nms=False, amp=True, augment=False, auto_augment=randaugment, batch=8, bgr=0.0, box=7.5, cache=False, cfg=None, classes=None, close_mosaic=0, cls=0.5, conf=None, copy_paste=0.0, copy_paste_mode=flip, cos_lr=False, cutmix=0.0, data=cells.yaml, degrees=45, deterministic=True, device=None, dfl=1.5, dnn=False, dropout=0.0, dynamic=False, embed=None, epochs=25, erasing=0.4, exist_ok=False, fliplr=0.5, flipud=0.5, format=torchscript, fraction=1.0, freeze=None, half=False, hsv_h=0.015, hsv_s=0.7, hsv_v=0.4, imgsz=704, int8=False, iou=0.7, keras=False, kobj=1.0, line_width=None, lr0=0.0002310201887845295, lrf=0.0015254729458052604, mask_ratio=4, max_det=300, mixup=0.0, mode=train, model=yolo/yolo_models/yolo12l.pt, momentum=0.8456363364439307, mosaic=0, multi_scale=False, name=optuna_trial_yolov12l_4, nbs=64, nms=False, opset=None, optimize=False, optimizer=AdamW, overlap_mask=True, patience=100, perspective=0.0, plots=True, pose=12.0, pretrained=True, profile=False, project=None, rect=False, resume=False, retina_masks=False, save=False, save_conf=False, save_crop=False, save_dir=runs/detect/optuna_trial_yolov12l_4, save_frames=False, save_json=False, save_period=-1, save_txt=False, scale=0.06, seed=42, shear=0.0, show=False, show_boxes=True, show_conf=True, show_labels=True, simplify=True, single_cls=False, source=None, split=val, stream_buffer=False, task=detect, time=None, tracker=botsort.yaml, translate=0.1, val=True, verbose=False, vid_stride=1, visualize=False, warmup_bias_lr=0.1, warmup_epochs=5, warmup_momentum=0.75, weight_decay=0.0003347776308515934, workers=0, workspace=None\n",
      "\n",
      "                   from  n    params  module                                       arguments                     \n",
      "  0                  -1  1      1856  ultralytics.nn.modules.conv.Conv             [3, 64, 3, 2]                 \n",
      "  1                  -1  1     73984  ultralytics.nn.modules.conv.Conv             [64, 128, 3, 2]               \n",
      "  2                  -1  2    173824  ultralytics.nn.modules.block.C3k2            [128, 256, 2, True, 0.25]     \n",
      "  3                  -1  1    590336  ultralytics.nn.modules.conv.Conv             [256, 256, 3, 2]              \n",
      "  4                  -1  2    691712  ultralytics.nn.modules.block.C3k2            [256, 512, 2, True, 0.25]     \n",
      "  5                  -1  1   2360320  ultralytics.nn.modules.conv.Conv             [512, 512, 3, 2]              \n",
      "  6                  -1  4   4272944  ultralytics.nn.modules.block.A2C2f           [512, 512, 4, True, 4, True, 1.2]\n",
      "  7                  -1  1   2360320  ultralytics.nn.modules.conv.Conv             [512, 512, 3, 2]              \n",
      "  8                  -1  4   4272944  ultralytics.nn.modules.block.A2C2f           [512, 512, 4, True, 1, True, 1.2]\n",
      "  9                  -1  1         0  torch.nn.modules.upsampling.Upsample         [None, 2, 'nearest']          \n",
      " 10             [-1, 6]  1         0  ultralytics.nn.modules.conv.Concat           [1]                           \n",
      " 11                  -1  2   2102784  ultralytics.nn.modules.block.A2C2f           [1024, 512, 2, False, -1, True, 1.2]\n",
      " 12                  -1  1         0  torch.nn.modules.upsampling.Upsample         [None, 2, 'nearest']          \n",
      " 13             [-1, 4]  1         0  ultralytics.nn.modules.conv.Concat           [1]                           \n",
      " 14                  -1  2    592640  ultralytics.nn.modules.block.A2C2f           [1024, 256, 2, False, -1, True, 1.2]\n",
      " 15                  -1  1    590336  ultralytics.nn.modules.conv.Conv             [256, 256, 3, 2]              \n",
      " 16            [-1, 11]  1         0  ultralytics.nn.modules.conv.Concat           [1]                           \n",
      " 17                  -1  2   2037248  ultralytics.nn.modules.block.A2C2f           [768, 512, 2, False, -1, True, 1.2]\n",
      " 18                  -1  1   2360320  ultralytics.nn.modules.conv.Conv             [512, 512, 3, 2]              \n",
      " 19             [-1, 8]  1         0  ultralytics.nn.modules.conv.Concat           [1]                           \n",
      " 20                  -1  2   2496512  ultralytics.nn.modules.block.C3k2            [1024, 512, 2, True]          \n",
      " 21        [14, 17, 20]  1   1411795  ultralytics.nn.modules.head.Detect           [1, [256, 512, 512]]          \n",
      "YOLOv12l summary: 488 layers, 26,389,875 parameters, 26,389,859 gradients, 89.4 GFLOPs\n",
      "\n",
      "Transferred 1245/1245 items from pretrained weights\n",
      "Freezing layer 'model.21.dfl.conv.weight'\n",
      "\u001b[34m\u001b[1mAMP: \u001b[0mrunning Automatic Mixed Precision (AMP) checks...\n",
      "\u001b[34m\u001b[1mAMP: \u001b[0mchecks passed ✅\n",
      "\u001b[34m\u001b[1mtrain: \u001b[0mFast image access ✅ (ping: 0.0±0.0 ms, read: 2000.8±769.2 MB/s, size: 87.9 KB)\n"
     ]
    },
    {
     "name": "stderr",
     "output_type": "stream",
     "text": [
      "\u001b[34m\u001b[1mtrain: \u001b[0mScanning /home/aitor/tfm/03.Datasets/YOLO_Datasets/split/train/labels\u001b[0m"
     ]
    },
    {
     "name": "stdout",
     "output_type": "stream",
     "text": [
      "\u001b[34m\u001b[1mval: \u001b[0mFast image access ✅ (ping: 0.0±0.0 ms, read: 2087.8±375.3 MB/s, size: 89.7 KB)\n"
     ]
    },
    {
     "name": "stderr",
     "output_type": "stream",
     "text": [
      "\n",
      "\u001b[34m\u001b[1mval: \u001b[0mScanning /home/aitor/tfm/03.Datasets/YOLO_Datasets/split/val/labels.cac\u001b[0m"
     ]
    },
    {
     "name": "stdout",
     "output_type": "stream",
     "text": [
      "Plotting labels to runs/detect/optuna_trial_yolov12l_4/labels.jpg... \n"
     ]
    },
    {
     "name": "stderr",
     "output_type": "stream",
     "text": [
      "\n"
     ]
    },
    {
     "name": "stdout",
     "output_type": "stream",
     "text": [
      "\u001b[34m\u001b[1moptimizer:\u001b[0m AdamW(lr=0.0002310201887845295, momentum=0.8456363364439307) with parameter groups 205 weight(decay=0.0), 214 weight(decay=0.0003347776308515934), 211 bias(decay=0.0)\n",
      "Image sizes 704 train, 704 val\n",
      "Using 0 dataloader workers\n",
      "Logging results to \u001b[1mruns/detect/optuna_trial_yolov12l_4\u001b[0m\n",
      "Starting training for 25 epochs...\n",
      "\n",
      "      Epoch    GPU_mem   box_loss   cls_loss   dfl_loss  Instances       Size\n"
     ]
    },
    {
     "name": "stderr",
     "output_type": "stream",
     "text": [
      "       1/25      11.5G      1.002     0.6965     0.8485         50        70\n",
      "                 Class     Images  Instances      Box(P          R      mAP5"
     ]
    },
    {
     "name": "stdout",
     "output_type": "stream",
     "text": [
      "                   all         75        955      0.839      0.822      0.879      0.593\n",
      "\n",
      "      Epoch    GPU_mem   box_loss   cls_loss   dfl_loss  Instances       Size\n"
     ]
    },
    {
     "name": "stderr",
     "output_type": "stream",
     "text": [
      "\n",
      "       2/25      11.5G     0.9334     0.6889     0.8427          4        70\n",
      "                 Class     Images  Instances      Box(P          R      mAP5"
     ]
    },
    {
     "name": "stdout",
     "output_type": "stream",
     "text": [
      "                   all         75        955        0.8      0.848      0.859      0.541\n",
      "\n",
      "      Epoch    GPU_mem   box_loss   cls_loss   dfl_loss  Instances       Size\n"
     ]
    },
    {
     "name": "stderr",
     "output_type": "stream",
     "text": [
      "\n",
      "       3/25      11.4G     0.9685     0.6854     0.8487         28        70\n",
      "                 Class     Images  Instances      Box(P          R      mAP5"
     ]
    },
    {
     "name": "stdout",
     "output_type": "stream",
     "text": [
      "                   all         75        955      0.815      0.819      0.861      0.662\n",
      "\n",
      "      Epoch    GPU_mem   box_loss   cls_loss   dfl_loss  Instances       Size\n"
     ]
    },
    {
     "name": "stderr",
     "output_type": "stream",
     "text": [
      "\n",
      "       4/25      11.5G      0.877     0.6542     0.8315         25        70\n",
      "                 Class     Images  Instances      Box(P          R      mAP5"
     ]
    },
    {
     "name": "stdout",
     "output_type": "stream",
     "text": [
      "                   all         75        955       0.79       0.86      0.875      0.651\n",
      "\n",
      "      Epoch    GPU_mem   box_loss   cls_loss   dfl_loss  Instances       Size\n"
     ]
    },
    {
     "name": "stderr",
     "output_type": "stream",
     "text": [
      "\n",
      "       5/25      11.4G     0.9558     0.9151     0.8359          0        70\n",
      "                 Class     Images  Instances      Box(P          R      mAP5"
     ]
    },
    {
     "name": "stdout",
     "output_type": "stream",
     "text": [
      "                   all         75        955      0.799      0.848      0.865      0.559\n",
      "\n",
      "      Epoch    GPU_mem   box_loss   cls_loss   dfl_loss  Instances       Size\n"
     ]
    },
    {
     "name": "stderr",
     "output_type": "stream",
     "text": [
      "\n",
      "       6/25      11.4G     0.8857     0.6351     0.8325          8        70\n",
      "                 Class     Images  Instances      Box(P          R      mAP5"
     ]
    },
    {
     "name": "stdout",
     "output_type": "stream",
     "text": [
      "                   all         75        955      0.805      0.834      0.858       0.64\n",
      "\n",
      "      Epoch    GPU_mem   box_loss   cls_loss   dfl_loss  Instances       Size\n"
     ]
    },
    {
     "name": "stderr",
     "output_type": "stream",
     "text": [
      "\n",
      "       7/25      11.5G     0.8498      0.627     0.8255          8        70\n",
      "                 Class     Images  Instances      Box(P          R      mAP5"
     ]
    },
    {
     "name": "stdout",
     "output_type": "stream",
     "text": [
      "                   all         75        955      0.799      0.857      0.883      0.689\n",
      "\n",
      "      Epoch    GPU_mem   box_loss   cls_loss   dfl_loss  Instances       Size\n"
     ]
    },
    {
     "name": "stderr",
     "output_type": "stream",
     "text": [
      "\n",
      "       8/25      11.4G     0.8915     0.6096     0.8309          5        70\n",
      "                 Class     Images  Instances      Box(P          R      mAP5"
     ]
    },
    {
     "name": "stdout",
     "output_type": "stream",
     "text": [
      "                   all         75        955       0.81      0.854      0.883      0.667\n",
      "\n",
      "      Epoch    GPU_mem   box_loss   cls_loss   dfl_loss  Instances       Size\n"
     ]
    },
    {
     "name": "stderr",
     "output_type": "stream",
     "text": [
      "\n",
      "       9/25      11.4G     0.8368      0.601     0.8242          4        70\n",
      "                 Class     Images  Instances      Box(P          R      mAP5"
     ]
    },
    {
     "name": "stdout",
     "output_type": "stream",
     "text": [
      "                   all         75        955      0.828      0.836       0.88      0.606\n",
      "\n",
      "      Epoch    GPU_mem   box_loss   cls_loss   dfl_loss  Instances       Size\n"
     ]
    },
    {
     "name": "stderr",
     "output_type": "stream",
     "text": [
      "\n",
      "      10/25      11.3G     0.9087     0.6138     0.8425         31        70\n",
      "                 Class     Images  Instances      Box(P          R      mAP5"
     ]
    },
    {
     "name": "stdout",
     "output_type": "stream",
     "text": [
      "                   all         75        955        0.8      0.877      0.879      0.577\n",
      "\n",
      "      Epoch    GPU_mem   box_loss   cls_loss   dfl_loss  Instances       Size\n"
     ]
    },
    {
     "name": "stderr",
     "output_type": "stream",
     "text": [
      "\n",
      "      11/25      11.4G     0.8797     0.6125     0.8329         42        70\n",
      "                 Class     Images  Instances      Box(P          R      mAP5"
     ]
    },
    {
     "name": "stdout",
     "output_type": "stream",
     "text": [
      "                   all         75        955      0.802      0.861      0.861      0.637\n",
      "\n",
      "      Epoch    GPU_mem   box_loss   cls_loss   dfl_loss  Instances       Size\n"
     ]
    },
    {
     "name": "stderr",
     "output_type": "stream",
     "text": [
      "\n",
      "      12/25      11.4G     0.8236     0.5856     0.8284         22        70\n",
      "                 Class     Images  Instances      Box(P          R      mAP5"
     ]
    },
    {
     "name": "stdout",
     "output_type": "stream",
     "text": [
      "                   all         75        955      0.813      0.869       0.88      0.659\n",
      "\n",
      "      Epoch    GPU_mem   box_loss   cls_loss   dfl_loss  Instances       Size\n"
     ]
    },
    {
     "name": "stderr",
     "output_type": "stream",
     "text": [
      "\n",
      "      13/25      11.4G     0.7749       0.59     0.8217         13        70\n",
      "                 Class     Images  Instances      Box(P          R      mAP5"
     ]
    },
    {
     "name": "stdout",
     "output_type": "stream",
     "text": [
      "                   all         75        955      0.804      0.867       0.88      0.685\n",
      "\n",
      "      Epoch    GPU_mem   box_loss   cls_loss   dfl_loss  Instances       Size\n"
     ]
    },
    {
     "name": "stderr",
     "output_type": "stream",
     "text": [
      "\n",
      "      14/25      11.4G      0.774     0.5626     0.8201         48        70\n",
      "                 Class     Images  Instances      Box(P          R      mAP5"
     ]
    },
    {
     "name": "stdout",
     "output_type": "stream",
     "text": [
      "                   all         75        955      0.789       0.88      0.887      0.674\n",
      "\n",
      "      Epoch    GPU_mem   box_loss   cls_loss   dfl_loss  Instances       Size\n"
     ]
    },
    {
     "name": "stderr",
     "output_type": "stream",
     "text": [
      "\n",
      "      15/25      11.4G      0.811     0.5793     0.8214          2        70\n",
      "                 Class     Images  Instances      Box(P          R      mAP5"
     ]
    },
    {
     "name": "stdout",
     "output_type": "stream",
     "text": [
      "                   all         75        955      0.798      0.872      0.889      0.685\n",
      "\n",
      "      Epoch    GPU_mem   box_loss   cls_loss   dfl_loss  Instances       Size\n"
     ]
    },
    {
     "name": "stderr",
     "output_type": "stream",
     "text": [
      "\n",
      "      16/25      11.4G     0.7836     0.5545     0.8207          2        70\n",
      "                 Class     Images  Instances      Box(P          R      mAP5"
     ]
    },
    {
     "name": "stdout",
     "output_type": "stream",
     "text": [
      "                   all         75        955       0.84       0.83      0.891      0.669\n",
      "\n",
      "      Epoch    GPU_mem   box_loss   cls_loss   dfl_loss  Instances       Size\n"
     ]
    },
    {
     "name": "stderr",
     "output_type": "stream",
     "text": [
      "\n",
      "      17/25      11.4G     0.8134     0.5675      0.821         22        70\n",
      "                 Class     Images  Instances      Box(P          R      mAP5"
     ]
    },
    {
     "name": "stdout",
     "output_type": "stream",
     "text": [
      "                   all         75        955      0.796      0.868      0.881      0.623\n",
      "\n",
      "      Epoch    GPU_mem   box_loss   cls_loss   dfl_loss  Instances       Size\n"
     ]
    },
    {
     "name": "stderr",
     "output_type": "stream",
     "text": [
      "\n",
      "      18/25      11.4G     0.7877     0.5788     0.8192          7        70\n",
      "                 Class     Images  Instances      Box(P          R      mAP5"
     ]
    },
    {
     "name": "stdout",
     "output_type": "stream",
     "text": [
      "                   all         75        955      0.802      0.871      0.888      0.638\n",
      "\n",
      "      Epoch    GPU_mem   box_loss   cls_loss   dfl_loss  Instances       Size\n"
     ]
    },
    {
     "name": "stderr",
     "output_type": "stream",
     "text": [
      "\n",
      "      19/25      11.4G       0.78     0.5515     0.8178          7        70\n",
      "                 Class     Images  Instances      Box(P          R      mAP5"
     ]
    },
    {
     "name": "stdout",
     "output_type": "stream",
     "text": [
      "                   all         75        955      0.797      0.868      0.888      0.711\n",
      "\n",
      "      Epoch    GPU_mem   box_loss   cls_loss   dfl_loss  Instances       Size\n"
     ]
    },
    {
     "name": "stderr",
     "output_type": "stream",
     "text": [
      "\n",
      "      20/25      11.4G     0.7613     0.5344     0.8189         28        70\n",
      "                 Class     Images  Instances      Box(P          R      mAP5"
     ]
    },
    {
     "name": "stdout",
     "output_type": "stream",
     "text": [
      "                   all         75        955      0.812      0.862      0.888      0.704\n",
      "\n",
      "      Epoch    GPU_mem   box_loss   cls_loss   dfl_loss  Instances       Size\n"
     ]
    },
    {
     "name": "stderr",
     "output_type": "stream",
     "text": [
      "\n",
      "      21/25      11.4G     0.7571     0.5307     0.8156         50        70\n",
      "                 Class     Images  Instances      Box(P          R      mAP5"
     ]
    },
    {
     "name": "stdout",
     "output_type": "stream",
     "text": [
      "                   all         75        955      0.805      0.871      0.886      0.713\n",
      "\n",
      "      Epoch    GPU_mem   box_loss   cls_loss   dfl_loss  Instances       Size\n"
     ]
    },
    {
     "name": "stderr",
     "output_type": "stream",
     "text": [
      "\n",
      "      22/25      11.3G      0.725     0.5179     0.8157         15        70\n",
      "                 Class     Images  Instances      Box(P          R      mAP5"
     ]
    },
    {
     "name": "stdout",
     "output_type": "stream",
     "text": [
      "                   all         75        955      0.793      0.884      0.891      0.694\n",
      "\n",
      "      Epoch    GPU_mem   box_loss   cls_loss   dfl_loss  Instances       Size\n"
     ]
    },
    {
     "name": "stderr",
     "output_type": "stream",
     "text": [
      "\n",
      "      23/25      11.4G     0.7336     0.5257     0.8103          3        70\n",
      "                 Class     Images  Instances      Box(P          R      mAP5"
     ]
    },
    {
     "name": "stdout",
     "output_type": "stream",
     "text": [
      "                   all         75        955      0.804      0.873      0.893      0.708\n",
      "\n",
      "      Epoch    GPU_mem   box_loss   cls_loss   dfl_loss  Instances       Size\n"
     ]
    },
    {
     "name": "stderr",
     "output_type": "stream",
     "text": [
      "\n",
      "      24/25      11.4G      0.745     0.5233     0.8138         16        70\n",
      "                 Class     Images  Instances      Box(P          R      mAP5"
     ]
    },
    {
     "name": "stdout",
     "output_type": "stream",
     "text": [
      "                   all         75        955        0.8      0.888      0.892      0.702\n",
      "\n",
      "      Epoch    GPU_mem   box_loss   cls_loss   dfl_loss  Instances       Size\n"
     ]
    },
    {
     "name": "stderr",
     "output_type": "stream",
     "text": [
      "\n",
      "      25/25      11.4G     0.7199     0.5076     0.8127         18        70\n",
      "                 Class     Images  Instances      Box(P          R      mAP5"
     ]
    },
    {
     "name": "stdout",
     "output_type": "stream",
     "text": [
      "                   all         75        955      0.796      0.888      0.893      0.714\n"
     ]
    },
    {
     "name": "stderr",
     "output_type": "stream",
     "text": [
      "\n"
     ]
    },
    {
     "name": "stdout",
     "output_type": "stream",
     "text": [
      "\n",
      "25 epochs completed in 0.366 hours.\n",
      "Optimizer stripped from runs/detect/optuna_trial_yolov12l_4/weights/last.pt, 53.5MB\n",
      "Optimizer stripped from runs/detect/optuna_trial_yolov12l_4/weights/best.pt, 53.5MB\n",
      "\n",
      "Validating runs/detect/optuna_trial_yolov12l_4/weights/best.pt...\n",
      "Ultralytics 8.3.169 🚀 Python-3.11.13 torch-2.6.0+cu124 CUDA:0 (NVIDIA TITAN Xp, 12190MiB)\n",
      "YOLOv12l summary (fused): 283 layers, 26,339,843 parameters, 0 gradients, 88.5 GFLOPs\n"
     ]
    },
    {
     "name": "stderr",
     "output_type": "stream",
     "text": [
      "                 Class     Images  Instances      Box(P          R      mAP5\n"
     ]
    },
    {
     "name": "stdout",
     "output_type": "stream",
     "text": [
      "                   all         75        955      0.796      0.887      0.893      0.714\n",
      "Speed: 0.6ms preprocess, 36.4ms inference, 0.0ms loss, 1.0ms postprocess per image\n",
      "Results saved to \u001b[1mruns/detect/optuna_trial_yolov12l_4\u001b[0m\n"
     ]
    },
    {
     "name": "stderr",
     "output_type": "stream",
     "text": [
      "[I 2025-08-25 20:01:37,440] Trial 4 finished with value: 0.7141234101490915 and parameters: {'lr0': 0.0002310201887845295, 'lrf': 0.0015254729458052604, 'momentum': 0.8456363364439307, 'weight_decay': 0.0003347776308515934, 'optimizer': 'AdamW', 'warmup_epochs': 5, 'warmup_momentum': 0.75, 'degrees': 45, 'translate': 0.1, 'scale': 0.06, 'flipud': 0.5, 'fliplr': 0.5, 'mosaic': 0, 'close_mosaic': 0}. Best is trial 4 with value: 0.7141234101490915.\n"
     ]
    },
    {
     "name": "stdout",
     "output_type": "stream",
     "text": [
      "New https://pypi.org/project/ultralytics/8.3.186 available 😃 Update with 'pip install -U ultralytics'\n",
      "Ultralytics 8.3.169 🚀 Python-3.11.13 torch-2.6.0+cu124 CUDA:0 (NVIDIA TITAN Xp, 12190MiB)\n",
      "\u001b[34m\u001b[1mengine/trainer: \u001b[0magnostic_nms=False, amp=True, augment=False, auto_augment=randaugment, batch=8, bgr=0.0, box=7.5, cache=False, cfg=None, classes=None, close_mosaic=0, cls=0.5, conf=None, copy_paste=0.0, copy_paste_mode=flip, cos_lr=False, cutmix=0.0, data=cells.yaml, degrees=45, deterministic=True, device=None, dfl=1.5, dnn=False, dropout=0.0, dynamic=False, embed=None, epochs=25, erasing=0.4, exist_ok=False, fliplr=0.5, flipud=0.5, format=torchscript, fraction=1.0, freeze=None, half=False, hsv_h=0.015, hsv_s=0.7, hsv_v=0.4, imgsz=704, int8=False, iou=0.7, keras=False, kobj=1.0, line_width=None, lr0=0.00019010245319870352, lrf=0.001959497205867916, mask_ratio=4, max_det=300, mixup=0.0, mode=train, model=yolo/yolo_models/yolo12l.pt, momentum=0.8549542764940538, mosaic=0, multi_scale=False, name=optuna_trial_yolov12l_5, nbs=64, nms=False, opset=None, optimize=False, optimizer=SGD, overlap_mask=True, patience=100, perspective=0.0, plots=True, pose=12.0, pretrained=True, profile=False, project=None, rect=False, resume=False, retina_masks=False, save=False, save_conf=False, save_crop=False, save_dir=runs/detect/optuna_trial_yolov12l_5, save_frames=False, save_json=False, save_period=-1, save_txt=False, scale=0.06, seed=42, shear=0.0, show=False, show_boxes=True, show_conf=True, show_labels=True, simplify=True, single_cls=False, source=None, split=val, stream_buffer=False, task=detect, time=None, tracker=botsort.yaml, translate=0.1, val=True, verbose=False, vid_stride=1, visualize=False, warmup_bias_lr=0.1, warmup_epochs=5, warmup_momentum=0.75, weight_decay=0.0002858051065806936, workers=0, workspace=None\n",
      "\n",
      "                   from  n    params  module                                       arguments                     \n",
      "  0                  -1  1      1856  ultralytics.nn.modules.conv.Conv             [3, 64, 3, 2]                 \n",
      "  1                  -1  1     73984  ultralytics.nn.modules.conv.Conv             [64, 128, 3, 2]               \n",
      "  2                  -1  2    173824  ultralytics.nn.modules.block.C3k2            [128, 256, 2, True, 0.25]     \n",
      "  3                  -1  1    590336  ultralytics.nn.modules.conv.Conv             [256, 256, 3, 2]              \n",
      "  4                  -1  2    691712  ultralytics.nn.modules.block.C3k2            [256, 512, 2, True, 0.25]     \n",
      "  5                  -1  1   2360320  ultralytics.nn.modules.conv.Conv             [512, 512, 3, 2]              \n",
      "  6                  -1  4   4272944  ultralytics.nn.modules.block.A2C2f           [512, 512, 4, True, 4, True, 1.2]\n",
      "  7                  -1  1   2360320  ultralytics.nn.modules.conv.Conv             [512, 512, 3, 2]              \n",
      "  8                  -1  4   4272944  ultralytics.nn.modules.block.A2C2f           [512, 512, 4, True, 1, True, 1.2]\n",
      "  9                  -1  1         0  torch.nn.modules.upsampling.Upsample         [None, 2, 'nearest']          \n",
      " 10             [-1, 6]  1         0  ultralytics.nn.modules.conv.Concat           [1]                           \n",
      " 11                  -1  2   2102784  ultralytics.nn.modules.block.A2C2f           [1024, 512, 2, False, -1, True, 1.2]\n",
      " 12                  -1  1         0  torch.nn.modules.upsampling.Upsample         [None, 2, 'nearest']          \n",
      " 13             [-1, 4]  1         0  ultralytics.nn.modules.conv.Concat           [1]                           \n",
      " 14                  -1  2    592640  ultralytics.nn.modules.block.A2C2f           [1024, 256, 2, False, -1, True, 1.2]\n",
      " 15                  -1  1    590336  ultralytics.nn.modules.conv.Conv             [256, 256, 3, 2]              \n",
      " 16            [-1, 11]  1         0  ultralytics.nn.modules.conv.Concat           [1]                           \n",
      " 17                  -1  2   2037248  ultralytics.nn.modules.block.A2C2f           [768, 512, 2, False, -1, True, 1.2]\n",
      " 18                  -1  1   2360320  ultralytics.nn.modules.conv.Conv             [512, 512, 3, 2]              \n",
      " 19             [-1, 8]  1         0  ultralytics.nn.modules.conv.Concat           [1]                           \n",
      " 20                  -1  2   2496512  ultralytics.nn.modules.block.C3k2            [1024, 512, 2, True]          \n",
      " 21        [14, 17, 20]  1   1411795  ultralytics.nn.modules.head.Detect           [1, [256, 512, 512]]          \n",
      "YOLOv12l summary: 488 layers, 26,389,875 parameters, 26,389,859 gradients, 89.4 GFLOPs\n",
      "\n",
      "Transferred 1245/1245 items from pretrained weights\n",
      "Freezing layer 'model.21.dfl.conv.weight'\n",
      "\u001b[34m\u001b[1mAMP: \u001b[0mrunning Automatic Mixed Precision (AMP) checks...\n",
      "\u001b[34m\u001b[1mAMP: \u001b[0mchecks passed ✅\n",
      "\u001b[34m\u001b[1mtrain: \u001b[0mFast image access ✅ (ping: 0.0±0.0 ms, read: 1460.3±548.3 MB/s, size: 87.9 KB)\n"
     ]
    },
    {
     "name": "stderr",
     "output_type": "stream",
     "text": [
      "\u001b[34m\u001b[1mtrain: \u001b[0mScanning /home/aitor/tfm/03.Datasets/YOLO_Datasets/split/train/labels\u001b[0m"
     ]
    },
    {
     "name": "stdout",
     "output_type": "stream",
     "text": [
      "\u001b[34m\u001b[1mval: \u001b[0mFast image access ✅ (ping: 0.0±0.0 ms, read: 1480.2±223.0 MB/s, size: 89.7 KB)\n"
     ]
    },
    {
     "name": "stderr",
     "output_type": "stream",
     "text": [
      "\n",
      "\u001b[34m\u001b[1mval: \u001b[0mScanning /home/aitor/tfm/03.Datasets/YOLO_Datasets/split/val/labels.cac\u001b[0m\n"
     ]
    },
    {
     "name": "stdout",
     "output_type": "stream",
     "text": [
      "Plotting labels to runs/detect/optuna_trial_yolov12l_5/labels.jpg... \n",
      "\u001b[34m\u001b[1moptimizer:\u001b[0m SGD(lr=0.00019010245319870352, momentum=0.8549542764940538) with parameter groups 205 weight(decay=0.0), 214 weight(decay=0.0002858051065806936), 211 bias(decay=0.0)\n",
      "Image sizes 704 train, 704 val\n",
      "Using 0 dataloader workers\n",
      "Logging results to \u001b[1mruns/detect/optuna_trial_yolov12l_5\u001b[0m\n",
      "Starting training for 25 epochs...\n",
      "\n",
      "      Epoch    GPU_mem   box_loss   cls_loss   dfl_loss  Instances       Size\n"
     ]
    },
    {
     "name": "stderr",
     "output_type": "stream",
     "text": [
      "       1/25      11.5G     0.6955     0.4946     0.8039         50        70\n",
      "                 Class     Images  Instances      Box(P          R      mAP5"
     ]
    },
    {
     "name": "stdout",
     "output_type": "stream",
     "text": [
      "                   all         75        955      0.794       0.89      0.893      0.713\n",
      "\n",
      "      Epoch    GPU_mem   box_loss   cls_loss   dfl_loss  Instances       Size\n"
     ]
    },
    {
     "name": "stderr",
     "output_type": "stream",
     "text": [
      "\n",
      "       2/25      11.4G     0.7077     0.4962     0.8078          4        70\n",
      "                 Class     Images  Instances      Box(P          R      mAP5"
     ]
    },
    {
     "name": "stdout",
     "output_type": "stream",
     "text": [
      "                   all         75        955      0.795      0.891      0.893      0.717\n",
      "\n",
      "      Epoch    GPU_mem   box_loss   cls_loss   dfl_loss  Instances       Size\n"
     ]
    },
    {
     "name": "stderr",
     "output_type": "stream",
     "text": [
      "\n",
      "       3/25      11.3G     0.6975      0.487     0.8096         28        70\n",
      "                 Class     Images  Instances      Box(P          R      mAP5"
     ]
    },
    {
     "name": "stdout",
     "output_type": "stream",
     "text": [
      "                   all         75        955      0.796      0.889      0.893      0.716\n",
      "\n",
      "      Epoch    GPU_mem   box_loss   cls_loss   dfl_loss  Instances       Size\n"
     ]
    },
    {
     "name": "stderr",
     "output_type": "stream",
     "text": [
      "\n",
      "       4/25      11.4G     0.6713     0.4753     0.8031         25        70\n",
      "                 Class     Images  Instances      Box(P          R      mAP5"
     ]
    },
    {
     "name": "stdout",
     "output_type": "stream",
     "text": [
      "                   all         75        955      0.796       0.89      0.893      0.713\n",
      "\n",
      "      Epoch    GPU_mem   box_loss   cls_loss   dfl_loss  Instances       Size\n"
     ]
    },
    {
     "name": "stderr",
     "output_type": "stream",
     "text": [
      "\n",
      "       5/25      11.3G     0.6908      0.586     0.7898          0        70\n",
      "                 Class     Images  Instances      Box(P          R      mAP5"
     ]
    },
    {
     "name": "stdout",
     "output_type": "stream",
     "text": [
      "                   all         75        955      0.799       0.88      0.893      0.717\n",
      "\n",
      "      Epoch    GPU_mem   box_loss   cls_loss   dfl_loss  Instances       Size\n"
     ]
    },
    {
     "name": "stderr",
     "output_type": "stream",
     "text": [
      "\n",
      "       6/25      11.3G     0.6767     0.4802     0.8054          8        70\n",
      "                 Class     Images  Instances      Box(P          R      mAP5"
     ]
    },
    {
     "name": "stdout",
     "output_type": "stream",
     "text": [
      "                   all         75        955      0.801      0.886      0.893      0.701\n",
      "\n",
      "      Epoch    GPU_mem   box_loss   cls_loss   dfl_loss  Instances       Size\n"
     ]
    },
    {
     "name": "stderr",
     "output_type": "stream",
     "text": [
      "\n",
      "       7/25      11.4G     0.6767     0.4849     0.8026          8        70\n",
      "                 Class     Images  Instances      Box(P          R      mAP5"
     ]
    },
    {
     "name": "stdout",
     "output_type": "stream",
     "text": [
      "                   all         75        955      0.799      0.883      0.893      0.711\n",
      "\n",
      "      Epoch    GPU_mem   box_loss   cls_loss   dfl_loss  Instances       Size\n"
     ]
    },
    {
     "name": "stderr",
     "output_type": "stream",
     "text": [
      "\n",
      "       8/25      11.3G      0.673     0.4713      0.801          5        70\n",
      "                 Class     Images  Instances      Box(P          R      mAP5"
     ]
    },
    {
     "name": "stdout",
     "output_type": "stream",
     "text": [
      "                   all         75        955      0.801      0.883      0.894      0.715\n",
      "\n",
      "      Epoch    GPU_mem   box_loss   cls_loss   dfl_loss  Instances       Size\n"
     ]
    },
    {
     "name": "stderr",
     "output_type": "stream",
     "text": [
      "\n",
      "       9/25      11.3G     0.6618     0.4795     0.7991          4        70\n",
      "                 Class     Images  Instances      Box(P          R      mAP5"
     ]
    },
    {
     "name": "stdout",
     "output_type": "stream",
     "text": [
      "                   all         75        955      0.816      0.858      0.893      0.716\n",
      "\n",
      "      Epoch    GPU_mem   box_loss   cls_loss   dfl_loss  Instances       Size\n"
     ]
    },
    {
     "name": "stderr",
     "output_type": "stream",
     "text": [
      "\n",
      "      10/25      11.3G     0.6768     0.4824     0.8057         31        70\n",
      "                 Class     Images  Instances      Box(P          R      mAP5"
     ]
    },
    {
     "name": "stdout",
     "output_type": "stream",
     "text": [
      "                   all         75        955      0.795      0.881      0.894      0.718\n",
      "\n",
      "      Epoch    GPU_mem   box_loss   cls_loss   dfl_loss  Instances       Size\n"
     ]
    },
    {
     "name": "stderr",
     "output_type": "stream",
     "text": [
      "\n",
      "      11/25      11.3G     0.6883     0.4834      0.806         42        70\n",
      "                 Class     Images  Instances      Box(P          R      mAP5"
     ]
    },
    {
     "name": "stdout",
     "output_type": "stream",
     "text": [
      "                   all         75        955      0.792      0.885      0.894      0.721\n",
      "\n",
      "      Epoch    GPU_mem   box_loss   cls_loss   dfl_loss  Instances       Size\n"
     ]
    },
    {
     "name": "stderr",
     "output_type": "stream",
     "text": [
      "\n",
      "      12/25      11.3G     0.6678       0.47      0.807         22        70\n",
      "                 Class     Images  Instances      Box(P          R      mAP5"
     ]
    },
    {
     "name": "stdout",
     "output_type": "stream",
     "text": [
      "                   all         75        955      0.793      0.887      0.895      0.717\n",
      "\n",
      "      Epoch    GPU_mem   box_loss   cls_loss   dfl_loss  Instances       Size\n"
     ]
    },
    {
     "name": "stderr",
     "output_type": "stream",
     "text": [
      "\n",
      "      13/25      11.3G     0.6473     0.4715     0.8042         13        70\n",
      "                 Class     Images  Instances      Box(P          R      mAP5"
     ]
    },
    {
     "name": "stdout",
     "output_type": "stream",
     "text": [
      "                   all         75        955      0.794      0.887      0.893      0.718\n",
      "\n",
      "      Epoch    GPU_mem   box_loss   cls_loss   dfl_loss  Instances       Size\n"
     ]
    },
    {
     "name": "stderr",
     "output_type": "stream",
     "text": [
      "\n",
      "      14/25      11.3G     0.6442     0.4589     0.8015         48        70\n",
      "                 Class     Images  Instances      Box(P          R      mAP5"
     ]
    },
    {
     "name": "stdout",
     "output_type": "stream",
     "text": [
      "                   all         75        955      0.798      0.889      0.895      0.716\n",
      "\n",
      "      Epoch    GPU_mem   box_loss   cls_loss   dfl_loss  Instances       Size\n"
     ]
    },
    {
     "name": "stderr",
     "output_type": "stream",
     "text": [
      "\n",
      "      15/25      11.3G     0.6634     0.4776     0.8016          2        70\n",
      "                 Class     Images  Instances      Box(P          R      mAP5"
     ]
    },
    {
     "name": "stdout",
     "output_type": "stream",
     "text": [
      "                   all         75        955      0.798      0.889      0.895      0.721\n",
      "\n",
      "      Epoch    GPU_mem   box_loss   cls_loss   dfl_loss  Instances       Size\n"
     ]
    },
    {
     "name": "stderr",
     "output_type": "stream",
     "text": [
      "\n",
      "      16/25      11.3G     0.6476      0.464     0.8033          2        70\n",
      "                 Class     Images  Instances      Box(P          R      mAP5"
     ]
    },
    {
     "name": "stdout",
     "output_type": "stream",
     "text": [
      "                   all         75        955      0.806      0.882      0.895      0.715\n",
      "\n",
      "      Epoch    GPU_mem   box_loss   cls_loss   dfl_loss  Instances       Size\n"
     ]
    },
    {
     "name": "stderr",
     "output_type": "stream",
     "text": [
      "\n",
      "      17/25      11.3G     0.6655     0.4753     0.8003         22        70\n",
      "                 Class     Images  Instances      Box(P          R      mAP5"
     ]
    },
    {
     "name": "stdout",
     "output_type": "stream",
     "text": [
      "                   all         75        955      0.798      0.891      0.894      0.718\n",
      "\n",
      "      Epoch    GPU_mem   box_loss   cls_loss   dfl_loss  Instances       Size\n"
     ]
    },
    {
     "name": "stderr",
     "output_type": "stream",
     "text": [
      "\n",
      "      18/25      11.3G      0.662     0.4734     0.8027          7        70\n",
      "                 Class     Images  Instances      Box(P          R      mAP5"
     ]
    },
    {
     "name": "stdout",
     "output_type": "stream",
     "text": [
      "                   all         75        955      0.795      0.891      0.894      0.718\n",
      "\n",
      "      Epoch    GPU_mem   box_loss   cls_loss   dfl_loss  Instances       Size\n"
     ]
    },
    {
     "name": "stderr",
     "output_type": "stream",
     "text": [
      "\n",
      "      19/25      11.3G     0.6607     0.4819     0.8026          7        70\n",
      "                 Class     Images  Instances      Box(P          R      mAP5"
     ]
    },
    {
     "name": "stdout",
     "output_type": "stream",
     "text": [
      "                   all         75        955      0.798      0.891      0.895      0.724\n",
      "\n",
      "      Epoch    GPU_mem   box_loss   cls_loss   dfl_loss  Instances       Size\n"
     ]
    },
    {
     "name": "stderr",
     "output_type": "stream",
     "text": [
      "\n",
      "      20/25      11.3G      0.667     0.4742     0.8075         28        70\n",
      "                 Class     Images  Instances      Box(P          R      mAP5"
     ]
    },
    {
     "name": "stdout",
     "output_type": "stream",
     "text": [
      "                   all         75        955      0.798      0.888      0.895      0.719\n",
      "\n",
      "      Epoch    GPU_mem   box_loss   cls_loss   dfl_loss  Instances       Size\n"
     ]
    },
    {
     "name": "stderr",
     "output_type": "stream",
     "text": [
      "\n",
      "      21/25      11.3G     0.6711     0.4744     0.8036         50        70\n",
      "                 Class     Images  Instances      Box(P          R      mAP5"
     ]
    },
    {
     "name": "stdout",
     "output_type": "stream",
     "text": [
      "                   all         75        955      0.798       0.89      0.895      0.722\n",
      "\n",
      "      Epoch    GPU_mem   box_loss   cls_loss   dfl_loss  Instances       Size\n"
     ]
    },
    {
     "name": "stderr",
     "output_type": "stream",
     "text": [
      "\n",
      "      22/25      11.2G     0.6528     0.4711     0.8058         15        70\n",
      "                 Class     Images  Instances      Box(P          R      mAP5"
     ]
    },
    {
     "name": "stdout",
     "output_type": "stream",
     "text": [
      "                   all         75        955      0.796      0.892      0.895      0.723\n",
      "\n",
      "      Epoch    GPU_mem   box_loss   cls_loss   dfl_loss  Instances       Size\n"
     ]
    },
    {
     "name": "stderr",
     "output_type": "stream",
     "text": [
      "\n",
      "      23/25      11.3G     0.6633     0.4718     0.8027          3        70\n",
      "                 Class     Images  Instances      Box(P          R      mAP5"
     ]
    },
    {
     "name": "stdout",
     "output_type": "stream",
     "text": [
      "                   all         75        955      0.798       0.89      0.895      0.723\n",
      "\n",
      "      Epoch    GPU_mem   box_loss   cls_loss   dfl_loss  Instances       Size\n"
     ]
    },
    {
     "name": "stderr",
     "output_type": "stream",
     "text": [
      "\n",
      "      24/25      11.3G     0.6977     0.4912     0.8068         16        70\n",
      "                 Class     Images  Instances      Box(P          R      mAP5"
     ]
    },
    {
     "name": "stdout",
     "output_type": "stream",
     "text": [
      "                   all         75        955      0.798      0.891      0.895      0.722\n",
      "\n",
      "      Epoch    GPU_mem   box_loss   cls_loss   dfl_loss  Instances       Size\n"
     ]
    },
    {
     "name": "stderr",
     "output_type": "stream",
     "text": [
      "\n",
      "      25/25      11.3G     0.6919     0.4862     0.8093         18        70\n",
      "                 Class     Images  Instances      Box(P          R      mAP5"
     ]
    },
    {
     "name": "stdout",
     "output_type": "stream",
     "text": [
      "                   all         75        955      0.798      0.892      0.895      0.722\n"
     ]
    },
    {
     "name": "stderr",
     "output_type": "stream",
     "text": [
      "\n"
     ]
    },
    {
     "name": "stdout",
     "output_type": "stream",
     "text": [
      "\n",
      "25 epochs completed in 0.366 hours.\n",
      "Optimizer stripped from runs/detect/optuna_trial_yolov12l_5/weights/last.pt, 53.5MB\n"
     ]
    },
    {
     "name": "stderr",
     "output_type": "stream",
     "text": [
      "[I 2025-08-25 20:23:40,963] Trial 5 finished with value: 0.7220097514918274 and parameters: {'lr0': 0.00019010245319870352, 'lrf': 0.001959497205867916, 'momentum': 0.8549542764940538, 'weight_decay': 0.0002858051065806936, 'optimizer': 'SGD', 'warmup_epochs': 5, 'warmup_momentum': 0.75, 'degrees': 45, 'translate': 0.1, 'scale': 0.06, 'flipud': 0.5, 'fliplr': 0.5, 'mosaic': 0, 'close_mosaic': 0}. Best is trial 5 with value: 0.7220097514918274.\n"
     ]
    },
    {
     "name": "stdout",
     "output_type": "stream",
     "text": [
      "New https://pypi.org/project/ultralytics/8.3.186 available 😃 Update with 'pip install -U ultralytics'\n",
      "Ultralytics 8.3.169 🚀 Python-3.11.13 torch-2.6.0+cu124 CUDA:0 (NVIDIA TITAN Xp, 12190MiB)\n",
      "\u001b[34m\u001b[1mengine/trainer: \u001b[0magnostic_nms=False, amp=True, augment=False, auto_augment=randaugment, batch=8, bgr=0.0, box=7.5, cache=False, cfg=None, classes=None, close_mosaic=0, cls=0.5, conf=None, copy_paste=0.0, copy_paste_mode=flip, cos_lr=False, cutmix=0.0, data=cells.yaml, degrees=45, deterministic=True, device=None, dfl=1.5, dnn=False, dropout=0.0, dynamic=False, embed=None, epochs=25, erasing=0.4, exist_ok=False, fliplr=0.5, flipud=0.5, format=torchscript, fraction=1.0, freeze=None, half=False, hsv_h=0.015, hsv_s=0.7, hsv_v=0.4, imgsz=704, int8=False, iou=0.7, keras=False, kobj=1.0, line_width=None, lr0=0.0015304852121831463, lrf=0.001112885317490573, mask_ratio=4, max_det=300, mixup=0.0, mode=train, model=yolo/yolo_models/yolo12l.pt, momentum=0.8911317277852158, mosaic=0, multi_scale=False, name=optuna_trial_yolov12l_6, nbs=64, nms=False, opset=None, optimize=False, optimizer=AdamW, overlap_mask=True, patience=100, perspective=0.0, plots=True, pose=12.0, pretrained=True, profile=False, project=None, rect=False, resume=False, retina_masks=False, save=False, save_conf=False, save_crop=False, save_dir=runs/detect/optuna_trial_yolov12l_6, save_frames=False, save_json=False, save_period=-1, save_txt=False, scale=0.06, seed=42, shear=0.0, show=False, show_boxes=True, show_conf=True, show_labels=True, simplify=True, single_cls=False, source=None, split=val, stream_buffer=False, task=detect, time=None, tracker=botsort.yaml, translate=0.1, val=True, verbose=False, vid_stride=1, visualize=False, warmup_bias_lr=0.1, warmup_epochs=5, warmup_momentum=0.75, weight_decay=0.00014808945119975197, workers=0, workspace=None\n",
      "\n",
      "                   from  n    params  module                                       arguments                     \n",
      "  0                  -1  1      1856  ultralytics.nn.modules.conv.Conv             [3, 64, 3, 2]                 \n",
      "  1                  -1  1     73984  ultralytics.nn.modules.conv.Conv             [64, 128, 3, 2]               \n",
      "  2                  -1  2    173824  ultralytics.nn.modules.block.C3k2            [128, 256, 2, True, 0.25]     \n",
      "  3                  -1  1    590336  ultralytics.nn.modules.conv.Conv             [256, 256, 3, 2]              \n",
      "  4                  -1  2    691712  ultralytics.nn.modules.block.C3k2            [256, 512, 2, True, 0.25]     \n",
      "  5                  -1  1   2360320  ultralytics.nn.modules.conv.Conv             [512, 512, 3, 2]              \n",
      "  6                  -1  4   4272944  ultralytics.nn.modules.block.A2C2f           [512, 512, 4, True, 4, True, 1.2]\n",
      "  7                  -1  1   2360320  ultralytics.nn.modules.conv.Conv             [512, 512, 3, 2]              \n",
      "  8                  -1  4   4272944  ultralytics.nn.modules.block.A2C2f           [512, 512, 4, True, 1, True, 1.2]\n",
      "  9                  -1  1         0  torch.nn.modules.upsampling.Upsample         [None, 2, 'nearest']          \n",
      " 10             [-1, 6]  1         0  ultralytics.nn.modules.conv.Concat           [1]                           \n",
      " 11                  -1  2   2102784  ultralytics.nn.modules.block.A2C2f           [1024, 512, 2, False, -1, True, 1.2]\n",
      " 12                  -1  1         0  torch.nn.modules.upsampling.Upsample         [None, 2, 'nearest']          \n",
      " 13             [-1, 4]  1         0  ultralytics.nn.modules.conv.Concat           [1]                           \n",
      " 14                  -1  2    592640  ultralytics.nn.modules.block.A2C2f           [1024, 256, 2, False, -1, True, 1.2]\n",
      " 15                  -1  1    590336  ultralytics.nn.modules.conv.Conv             [256, 256, 3, 2]              \n",
      " 16            [-1, 11]  1         0  ultralytics.nn.modules.conv.Concat           [1]                           \n",
      " 17                  -1  2   2037248  ultralytics.nn.modules.block.A2C2f           [768, 512, 2, False, -1, True, 1.2]\n",
      " 18                  -1  1   2360320  ultralytics.nn.modules.conv.Conv             [512, 512, 3, 2]              \n",
      " 19             [-1, 8]  1         0  ultralytics.nn.modules.conv.Concat           [1]                           \n",
      " 20                  -1  2   2496512  ultralytics.nn.modules.block.C3k2            [1024, 512, 2, True]          \n",
      " 21        [14, 17, 20]  1   1411795  ultralytics.nn.modules.head.Detect           [1, [256, 512, 512]]          \n",
      "YOLOv12l summary: 488 layers, 26,389,875 parameters, 26,389,859 gradients, 89.4 GFLOPs\n",
      "\n",
      "Transferred 1245/1245 items from pretrained weights\n",
      "Freezing layer 'model.21.dfl.conv.weight'\n",
      "\u001b[34m\u001b[1mAMP: \u001b[0mrunning Automatic Mixed Precision (AMP) checks...\n",
      "\u001b[34m\u001b[1mAMP: \u001b[0mchecks passed ✅\n",
      "\u001b[34m\u001b[1mtrain: \u001b[0mFast image access ✅ (ping: 0.0±0.0 ms, read: 1826.0±813.8 MB/s, size: 87.9 KB)\n"
     ]
    },
    {
     "name": "stderr",
     "output_type": "stream",
     "text": [
      "\u001b[34m\u001b[1mtrain: \u001b[0mScanning /home/aitor/tfm/03.Datasets/YOLO_Datasets/split/train/labels\u001b[0m"
     ]
    },
    {
     "name": "stdout",
     "output_type": "stream",
     "text": [
      "\u001b[34m\u001b[1mval: \u001b[0mFast image access ✅ (ping: 0.0±0.0 ms, read: 2003.5±345.5 MB/s, size: 89.7 KB)\n"
     ]
    },
    {
     "name": "stderr",
     "output_type": "stream",
     "text": [
      "\n",
      "\u001b[34m\u001b[1mval: \u001b[0mScanning /home/aitor/tfm/03.Datasets/YOLO_Datasets/split/val/labels.cac\u001b[0m"
     ]
    },
    {
     "name": "stdout",
     "output_type": "stream",
     "text": [
      "Plotting labels to runs/detect/optuna_trial_yolov12l_6/labels.jpg... \n"
     ]
    },
    {
     "name": "stderr",
     "output_type": "stream",
     "text": [
      "\n"
     ]
    },
    {
     "name": "stdout",
     "output_type": "stream",
     "text": [
      "\u001b[34m\u001b[1moptimizer:\u001b[0m AdamW(lr=0.0015304852121831463, momentum=0.8911317277852158) with parameter groups 205 weight(decay=0.0), 214 weight(decay=0.00014808945119975197), 211 bias(decay=0.0)\n",
      "Image sizes 704 train, 704 val\n",
      "Using 0 dataloader workers\n",
      "Logging results to \u001b[1mruns/detect/optuna_trial_yolov12l_6\u001b[0m\n",
      "Starting training for 25 epochs...\n",
      "\n",
      "      Epoch    GPU_mem   box_loss   cls_loss   dfl_loss  Instances       Size\n"
     ]
    },
    {
     "name": "stderr",
     "output_type": "stream",
     "text": [
      "       1/25      11.5G       1.03     0.7004      0.851         50        70\n",
      "                 Class     Images  Instances      Box(P          R      mAP5"
     ]
    },
    {
     "name": "stdout",
     "output_type": "stream",
     "text": [
      "                   all         75        955      0.798       0.75      0.818      0.279\n",
      "\n",
      "      Epoch    GPU_mem   box_loss   cls_loss   dfl_loss  Instances       Size\n"
     ]
    },
    {
     "name": "stderr",
     "output_type": "stream",
     "text": [
      "\n",
      "       2/25      11.6G      1.102     0.7999     0.8682          4        70\n",
      "                 Class     Images  Instances      Box(P          R      mAP5"
     ]
    },
    {
     "name": "stdout",
     "output_type": "stream",
     "text": [
      "                   all         75        955      0.669      0.592      0.576      0.196\n",
      "\n",
      "      Epoch    GPU_mem   box_loss   cls_loss   dfl_loss  Instances       Size\n"
     ]
    },
    {
     "name": "stderr",
     "output_type": "stream",
     "text": [
      "\n",
      "       3/25      11.4G      1.145     0.8387     0.8856         28        70\n",
      "                 Class     Images  Instances      Box(P          R      mAP5"
     ]
    },
    {
     "name": "stdout",
     "output_type": "stream",
     "text": [
      "                   all         75        955      0.684      0.826      0.737      0.441\n",
      "\n",
      "      Epoch    GPU_mem   box_loss   cls_loss   dfl_loss  Instances       Size\n"
     ]
    },
    {
     "name": "stderr",
     "output_type": "stream",
     "text": [
      "\n",
      "       4/25      11.4G      1.172     0.9751     0.8816         25        70\n",
      "                 Class     Images  Instances      Box(P          R      mAP5"
     ]
    },
    {
     "name": "stdout",
     "output_type": "stream",
     "text": [
      "                   all         75        955      0.711      0.864       0.79      0.289\n",
      "\n",
      "      Epoch    GPU_mem   box_loss   cls_loss   dfl_loss  Instances       Size\n"
     ]
    },
    {
     "name": "stderr",
     "output_type": "stream",
     "text": [
      "\n",
      "       5/25      11.4G      1.192      1.479     0.8702          0        70\n",
      "                 Class     Images  Instances      Box(P          R      mAP5"
     ]
    },
    {
     "name": "stdout",
     "output_type": "stream",
     "text": [
      "                   all         75        955      0.768      0.725       0.78      0.321\n",
      "\n",
      "      Epoch    GPU_mem   box_loss   cls_loss   dfl_loss  Instances       Size\n"
     ]
    },
    {
     "name": "stderr",
     "output_type": "stream",
     "text": [
      "\n",
      "       6/25      11.4G      1.117     0.8206     0.8805          8        70\n",
      "                 Class     Images  Instances      Box(P          R      mAP5"
     ]
    },
    {
     "name": "stdout",
     "output_type": "stream",
     "text": [
      "                   all         75        955       0.76      0.843      0.852      0.497\n",
      "\n",
      "      Epoch    GPU_mem   box_loss   cls_loss   dfl_loss  Instances       Size\n"
     ]
    },
    {
     "name": "stderr",
     "output_type": "stream",
     "text": [
      "\n",
      "       7/25      11.5G      1.101     0.8788     0.8686          8        70\n",
      "                 Class     Images  Instances      Box(P          R      mAP5"
     ]
    },
    {
     "name": "stdout",
     "output_type": "stream",
     "text": [
      "                   all         75        955      0.811      0.789      0.843      0.603\n",
      "\n",
      "      Epoch    GPU_mem   box_loss   cls_loss   dfl_loss  Instances       Size\n"
     ]
    },
    {
     "name": "stderr",
     "output_type": "stream",
     "text": [
      "\n",
      "       8/25      11.4G       1.06     0.8645     0.8634          5        70\n",
      "                 Class     Images  Instances      Box(P          R      mAP5"
     ]
    },
    {
     "name": "stdout",
     "output_type": "stream",
     "text": [
      "                   all         75        955      0.765      0.827      0.841      0.587\n",
      "\n",
      "      Epoch    GPU_mem   box_loss   cls_loss   dfl_loss  Instances       Size\n"
     ]
    },
    {
     "name": "stderr",
     "output_type": "stream",
     "text": [
      "\n",
      "       9/25      11.4G      1.048     0.7689      0.859          4        70\n",
      "                 Class     Images  Instances      Box(P          R      mAP5"
     ]
    },
    {
     "name": "stdout",
     "output_type": "stream",
     "text": [
      "                   all         75        955      0.792      0.832       0.87      0.605\n",
      "\n",
      "      Epoch    GPU_mem   box_loss   cls_loss   dfl_loss  Instances       Size\n"
     ]
    },
    {
     "name": "stderr",
     "output_type": "stream",
     "text": [
      "\n",
      "      10/25      11.4G      1.074     0.7588     0.8751         31        70\n",
      "                 Class     Images  Instances      Box(P          R      mAP5"
     ]
    },
    {
     "name": "stdout",
     "output_type": "stream",
     "text": [
      "                   all         75        955      0.793      0.838      0.857      0.553\n",
      "\n",
      "      Epoch    GPU_mem   box_loss   cls_loss   dfl_loss  Instances       Size\n"
     ]
    },
    {
     "name": "stderr",
     "output_type": "stream",
     "text": [
      "\n",
      "      11/25      11.4G      1.014     0.7358     0.8601         42        70\n",
      "                 Class     Images  Instances      Box(P          R      mAP5"
     ]
    },
    {
     "name": "stdout",
     "output_type": "stream",
     "text": [
      "                   all         75        955      0.785      0.832      0.858      0.648\n",
      "\n",
      "      Epoch    GPU_mem   box_loss   cls_loss   dfl_loss  Instances       Size\n"
     ]
    },
    {
     "name": "stderr",
     "output_type": "stream",
     "text": [
      "\n",
      "      12/25      11.4G      1.046     0.7349     0.8638         22        70\n",
      "                 Class     Images  Instances      Box(P          R      mAP5"
     ]
    },
    {
     "name": "stdout",
     "output_type": "stream",
     "text": [
      "                   all         75        955      0.792      0.827      0.844      0.317\n",
      "\n",
      "      Epoch    GPU_mem   box_loss   cls_loss   dfl_loss  Instances       Size\n"
     ]
    },
    {
     "name": "stderr",
     "output_type": "stream",
     "text": [
      "\n",
      "      13/25      11.4G     0.9443     0.7256      0.849         13        70\n",
      "                 Class     Images  Instances      Box(P          R      mAP5"
     ]
    },
    {
     "name": "stdout",
     "output_type": "stream",
     "text": [
      "                   all         75        955      0.804      0.841       0.86      0.625\n",
      "\n",
      "      Epoch    GPU_mem   box_loss   cls_loss   dfl_loss  Instances       Size\n"
     ]
    },
    {
     "name": "stderr",
     "output_type": "stream",
     "text": [
      "\n",
      "      14/25      11.4G     0.8982     0.6773     0.8393         48        70\n",
      "                 Class     Images  Instances      Box(P          R      mAP5"
     ]
    },
    {
     "name": "stdout",
     "output_type": "stream",
     "text": [
      "                   all         75        955      0.801      0.845      0.869      0.517\n",
      "\n",
      "      Epoch    GPU_mem   box_loss   cls_loss   dfl_loss  Instances       Size\n"
     ]
    },
    {
     "name": "stderr",
     "output_type": "stream",
     "text": [
      "\n",
      "      15/25      11.4G     0.9027     0.6858     0.8378          2        70\n",
      "                 Class     Images  Instances      Box(P          R      mAP5"
     ]
    },
    {
     "name": "stdout",
     "output_type": "stream",
     "text": [
      "                   all         75        955      0.793      0.835      0.871      0.653\n",
      "\n",
      "      Epoch    GPU_mem   box_loss   cls_loss   dfl_loss  Instances       Size\n"
     ]
    },
    {
     "name": "stderr",
     "output_type": "stream",
     "text": [
      "\n",
      "      16/25      11.4G      0.938     0.6918     0.8475          2        70\n",
      "                 Class     Images  Instances      Box(P          R      mAP5"
     ]
    },
    {
     "name": "stdout",
     "output_type": "stream",
     "text": [
      "                   all         75        955      0.782      0.846      0.864      0.618\n",
      "\n",
      "      Epoch    GPU_mem   box_loss   cls_loss   dfl_loss  Instances       Size\n"
     ]
    },
    {
     "name": "stderr",
     "output_type": "stream",
     "text": [
      "\n",
      "      17/25      11.4G     0.8937     0.6747     0.8361         22        70\n",
      "                 Class     Images  Instances      Box(P          R      mAP5"
     ]
    },
    {
     "name": "stdout",
     "output_type": "stream",
     "text": [
      "                   all         75        955      0.805      0.815      0.868       0.65\n",
      "\n",
      "      Epoch    GPU_mem   box_loss   cls_loss   dfl_loss  Instances       Size\n"
     ]
    },
    {
     "name": "stderr",
     "output_type": "stream",
     "text": [
      "\n",
      "      18/25      11.4G     0.8685     0.6532     0.8358          7        70\n",
      "                 Class     Images  Instances      Box(P          R      mAP5"
     ]
    },
    {
     "name": "stdout",
     "output_type": "stream",
     "text": [
      "                   all         75        955      0.782      0.852      0.873      0.659\n",
      "\n",
      "      Epoch    GPU_mem   box_loss   cls_loss   dfl_loss  Instances       Size\n"
     ]
    },
    {
     "name": "stderr",
     "output_type": "stream",
     "text": [
      "\n",
      "      19/25      11.4G      0.884     0.6459     0.8359          7        70\n",
      "                 Class     Images  Instances      Box(P          R      mAP5"
     ]
    },
    {
     "name": "stdout",
     "output_type": "stream",
     "text": [
      "                   all         75        955      0.804      0.858      0.874      0.593\n",
      "\n",
      "      Epoch    GPU_mem   box_loss   cls_loss   dfl_loss  Instances       Size\n"
     ]
    },
    {
     "name": "stderr",
     "output_type": "stream",
     "text": [
      "\n",
      "      20/25      11.4G     0.8521     0.6211     0.8366         28        70\n",
      "                 Class     Images  Instances      Box(P          R      mAP5"
     ]
    },
    {
     "name": "stdout",
     "output_type": "stream",
     "text": [
      "                   all         75        955      0.808      0.854      0.878      0.675\n",
      "\n",
      "      Epoch    GPU_mem   box_loss   cls_loss   dfl_loss  Instances       Size\n"
     ]
    },
    {
     "name": "stderr",
     "output_type": "stream",
     "text": [
      "\n",
      "      21/25      11.4G     0.8314     0.5963     0.8267         50        70\n",
      "                 Class     Images  Instances      Box(P          R      mAP5"
     ]
    },
    {
     "name": "stdout",
     "output_type": "stream",
     "text": [
      "                   all         75        955      0.792      0.865       0.88      0.682\n",
      "\n",
      "      Epoch    GPU_mem   box_loss   cls_loss   dfl_loss  Instances       Size\n"
     ]
    },
    {
     "name": "stderr",
     "output_type": "stream",
     "text": [
      "\n",
      "      22/25      11.3G     0.8113     0.5876     0.8289         15        70\n",
      "                 Class     Images  Instances      Box(P          R      mAP5"
     ]
    },
    {
     "name": "stdout",
     "output_type": "stream",
     "text": [
      "                   all         75        955      0.775      0.881      0.876      0.638\n",
      "\n",
      "      Epoch    GPU_mem   box_loss   cls_loss   dfl_loss  Instances       Size\n"
     ]
    },
    {
     "name": "stderr",
     "output_type": "stream",
     "text": [
      "\n",
      "      23/25      11.4G     0.8082     0.6032     0.8236          3        70\n",
      "                 Class     Images  Instances      Box(P          R      mAP5"
     ]
    },
    {
     "name": "stdout",
     "output_type": "stream",
     "text": [
      "                   all         75        955       0.82      0.826      0.878      0.625\n",
      "\n",
      "      Epoch    GPU_mem   box_loss   cls_loss   dfl_loss  Instances       Size\n"
     ]
    },
    {
     "name": "stderr",
     "output_type": "stream",
     "text": [
      "\n",
      "      24/25      11.4G      0.796     0.5847     0.8222         16        70\n",
      "                 Class     Images  Instances      Box(P          R      mAP5"
     ]
    },
    {
     "name": "stdout",
     "output_type": "stream",
     "text": [
      "                   all         75        955      0.783      0.873      0.881      0.667\n",
      "\n",
      "      Epoch    GPU_mem   box_loss   cls_loss   dfl_loss  Instances       Size\n"
     ]
    },
    {
     "name": "stderr",
     "output_type": "stream",
     "text": [
      "\n",
      "      25/25      11.4G     0.7826     0.5619     0.8236         18        70\n",
      "                 Class     Images  Instances      Box(P          R      mAP5"
     ]
    },
    {
     "name": "stdout",
     "output_type": "stream",
     "text": [
      "                   all         75        955      0.794      0.857      0.885      0.688\n"
     ]
    },
    {
     "name": "stderr",
     "output_type": "stream",
     "text": [
      "\n"
     ]
    },
    {
     "name": "stdout",
     "output_type": "stream",
     "text": [
      "\n",
      "25 epochs completed in 0.365 hours.\n",
      "Optimizer stripped from runs/detect/optuna_trial_yolov12l_6/weights/last.pt, 53.5MB\n",
      "Optimizer stripped from runs/detect/optuna_trial_yolov12l_6/weights/best.pt, 53.5MB\n",
      "\n",
      "Validating runs/detect/optuna_trial_yolov12l_6/weights/best.pt...\n",
      "Ultralytics 8.3.169 🚀 Python-3.11.13 torch-2.6.0+cu124 CUDA:0 (NVIDIA TITAN Xp, 12190MiB)\n",
      "YOLOv12l summary (fused): 283 layers, 26,339,843 parameters, 0 gradients, 88.5 GFLOPs\n"
     ]
    },
    {
     "name": "stderr",
     "output_type": "stream",
     "text": [
      "                 Class     Images  Instances      Box(P          R      mAP5\n"
     ]
    },
    {
     "name": "stdout",
     "output_type": "stream",
     "text": [
      "                   all         75        955      0.794      0.857      0.885      0.687\n",
      "Speed: 0.3ms preprocess, 34.9ms inference, 0.0ms loss, 1.2ms postprocess per image\n",
      "Results saved to \u001b[1mruns/detect/optuna_trial_yolov12l_6\u001b[0m\n"
     ]
    },
    {
     "name": "stderr",
     "output_type": "stream",
     "text": [
      "[I 2025-08-25 20:45:49,524] Trial 6 finished with value: 0.6873780336078766 and parameters: {'lr0': 0.0015304852121831463, 'lrf': 0.001112885317490573, 'momentum': 0.8911317277852158, 'weight_decay': 0.00014808945119975197, 'optimizer': 'AdamW', 'warmup_epochs': 5, 'warmup_momentum': 0.75, 'degrees': 45, 'translate': 0.1, 'scale': 0.06, 'flipud': 0.5, 'fliplr': 0.5, 'mosaic': 0, 'close_mosaic': 0}. Best is trial 5 with value: 0.7220097514918274.\n"
     ]
    },
    {
     "name": "stdout",
     "output_type": "stream",
     "text": [
      "Número de trials completados: 7\n"
     ]
    }
   ],
   "source": [
    "study = optuna.create_study(\n",
    "    direction=\"maximize\",  # Maximizar mAP@0.5:0.95\n",
    "    study_name=selected_model,\n",
    "    storage=storage_name,\n",
    "    load_if_exists=True,\n",
    "    sampler=optuna.samplers.TPESampler(seed = config.SEED),  \n",
    "    pruner=optuna.pruners.MedianPruner(n_startup_trials=3, n_warmup_steps=10)\n",
    ")\n",
    "\n",
    "study.optimize(lambda trial: optuna_utils.optuna_objective(trial, model, selected_model), n_trials=config.N_TRIALS, timeout=None)\n",
    "\n",
    "print(\"Número de trials completados:\", len(study.trials))\n",
    "\n",
    "with open(best_params_path, 'w') as f:\n",
    "    json.dump(study.best_trial.params, f, indent=2)"
   ]
  },
  {
   "cell_type": "code",
   "execution_count": 6,
   "metadata": {},
   "outputs": [
    {
     "data": {
      "image/png": "[encoded data removed]",
      "text/plain": [
       "<Figure size 1200x800 with 4 Axes>"
      ]
     },
     "metadata": {},
     "output_type": "display_data"
    }
   ],
   "source": [
    "%matplotlib inline\n",
    "optuna_utils.optuna_optimization_history(study, output_path=image_optuna_path)"
   ]
  },
  {
   "cell_type": "code",
   "execution_count": 7,
   "metadata": {},
   "outputs": [
    {
     "name": "stdout",
     "output_type": "stream",
     "text": [
      "Mejores hiperparámetros:\n",
      "  lr0: 0.00019010245319870352\n",
      "  lrf: 0.001959497205867916\n",
      "  momentum: 0.8549542764940538\n",
      "  weight_decay: 0.0002858051065806936\n",
      "  optimizer: SGD\n",
      "  warmup_epochs: 5\n",
      "  warmup_momentum: 0.75\n",
      "  degrees: 45\n",
      "  translate: 0.1\n",
      "  scale: 0.06\n",
      "  flipud: 0.5\n",
      "  fliplr: 0.5\n",
      "  mosaic: 0\n",
      "  close_mosaic: 0\n"
     ]
    }
   ],
   "source": [
    "with open(f\"optuna/optuna_studies/{selected_model}_best_params.json\", \"r\") as f:\n",
    "    best_params = json.load(f)\n",
    "\n",
    "print(\"Mejores hiperparámetros:\")\n",
    "for key, value in best_params.items():\n",
    "    print(f\"  {key}: {value}\")"
   ]
  },
  {
   "cell_type": "markdown",
   "metadata": {
    "jp-MarkdownHeadingCollapsed": true
   },
   "source": [
    "### **K-Fold Cross Validation**"
   ]
  },
  {
   "cell_type": "markdown",
   "metadata": {},
   "source": [
    "Se concatena train y val para tener un dataset mayor para k-fold 373 imagenes en 4 folds."
   ]
  },
  {
   "cell_type": "code",
   "execution_count": 11,
   "metadata": {
    "scrolled": true
   },
   "outputs": [
    {
     "name": "stdout",
     "output_type": "stream",
     "text": [
      "\n",
      "==================================================\n",
      "Entrenando fold_1 (1/4)\n",
      "==================================================\n",
      "New https://pypi.org/project/ultralytics/8.3.186 available 😃 Update with 'pip install -U ultralytics'\n",
      "Ultralytics 8.3.169 🚀 Python-3.11.13 torch-2.6.0+cu124 CUDA:0 (NVIDIA TITAN Xp, 12190MiB)\n",
      "\u001b[34m\u001b[1mengine/trainer: \u001b[0magnostic_nms=False, amp=True, augment=False, auto_augment=randaugment, batch=8, bgr=0.0, box=7.5, cache=False, cfg=None, classes=None, close_mosaic=0, cls=0.5, conf=None, copy_paste=0.0, copy_paste_mode=flip, cos_lr=False, cutmix=0.0, data=kfold/fold_1/data.yaml, degrees=45, deterministic=True, device=None, dfl=1.5, dnn=False, dropout=0.0, dynamic=False, embed=None, epochs=40, erasing=0.4, exist_ok=False, fliplr=0.5, flipud=0.5, format=torchscript, fraction=1.0, freeze=None, half=False, hsv_h=0.015, hsv_s=0.7, hsv_v=0.4, imgsz=704, int8=False, iou=0.7, keras=False, kobj=1.0, line_width=None, lr0=0.00019010245319870352, lrf=0.001959497205867916, mask_ratio=4, max_det=300, mixup=0.0, mode=train, model=yolo/yolo_models/yolo12l.pt, momentum=0.8549542764940538, mosaic=0, multi_scale=False, name=fold_1, nbs=64, nms=False, opset=None, optimize=False, optimizer=SGD, overlap_mask=True, patience=100, perspective=0.0, plots=True, pose=12.0, pretrained=True, profile=False, project=None, rect=False, resume=False, retina_masks=False, save=True, save_conf=False, save_crop=False, save_dir=runs/detect/final_model_yolov12l_kfold/fold_1, save_frames=False, save_json=False, save_period=-1, save_txt=False, scale=0.06, seed=42, shear=0.0, show=False, show_boxes=True, show_conf=True, show_labels=True, simplify=True, single_cls=False, source=None, split=val, stream_buffer=False, task=detect, time=None, tracker=botsort.yaml, translate=0.1, val=True, verbose=False, vid_stride=1, visualize=False, warmup_bias_lr=0.1, warmup_epochs=5, warmup_momentum=0.75, weight_decay=0.0002858051065806936, workers=0, workspace=None\n",
      "\n",
      "                   from  n    params  module                                       arguments                     \n",
      "  0                  -1  1      1856  ultralytics.nn.modules.conv.Conv             [3, 64, 3, 2]                 \n",
      "  1                  -1  1     73984  ultralytics.nn.modules.conv.Conv             [64, 128, 3, 2]               \n",
      "  2                  -1  2    173824  ultralytics.nn.modules.block.C3k2            [128, 256, 2, True, 0.25]     \n",
      "  3                  -1  1    590336  ultralytics.nn.modules.conv.Conv             [256, 256, 3, 2]              \n",
      "  4                  -1  2    691712  ultralytics.nn.modules.block.C3k2            [256, 512, 2, True, 0.25]     \n",
      "  5                  -1  1   2360320  ultralytics.nn.modules.conv.Conv             [512, 512, 3, 2]              \n",
      "  6                  -1  4   4272944  ultralytics.nn.modules.block.A2C2f           [512, 512, 4, True, 4, True, 1.2]\n",
      "  7                  -1  1   2360320  ultralytics.nn.modules.conv.Conv             [512, 512, 3, 2]              \n",
      "  8                  -1  4   4272944  ultralytics.nn.modules.block.A2C2f           [512, 512, 4, True, 1, True, 1.2]\n",
      "  9                  -1  1         0  torch.nn.modules.upsampling.Upsample         [None, 2, 'nearest']          \n",
      " 10             [-1, 6]  1         0  ultralytics.nn.modules.conv.Concat           [1]                           \n",
      " 11                  -1  2   2102784  ultralytics.nn.modules.block.A2C2f           [1024, 512, 2, False, -1, True, 1.2]\n",
      " 12                  -1  1         0  torch.nn.modules.upsampling.Upsample         [None, 2, 'nearest']          \n",
      " 13             [-1, 4]  1         0  ultralytics.nn.modules.conv.Concat           [1]                           \n",
      " 14                  -1  2    592640  ultralytics.nn.modules.block.A2C2f           [1024, 256, 2, False, -1, True, 1.2]\n",
      " 15                  -1  1    590336  ultralytics.nn.modules.conv.Conv             [256, 256, 3, 2]              \n",
      " 16            [-1, 11]  1         0  ultralytics.nn.modules.conv.Concat           [1]                           \n",
      " 17                  -1  2   2037248  ultralytics.nn.modules.block.A2C2f           [768, 512, 2, False, -1, True, 1.2]\n",
      " 18                  -1  1   2360320  ultralytics.nn.modules.conv.Conv             [512, 512, 3, 2]              \n",
      " 19             [-1, 8]  1         0  ultralytics.nn.modules.conv.Concat           [1]                           \n",
      " 20                  -1  2   2496512  ultralytics.nn.modules.block.C3k2            [1024, 512, 2, True]          \n",
      " 21        [14, 17, 20]  1   1411795  ultralytics.nn.modules.head.Detect           [1, [256, 512, 512]]          \n",
      "YOLOv12l summary: 488 layers, 26,389,875 parameters, 26,389,859 gradients, 89.4 GFLOPs\n",
      "\n",
      "Transferred 1245/1245 items from pretrained weights\n",
      "Freezing layer 'model.21.dfl.conv.weight'\n",
      "\u001b[34m\u001b[1mAMP: \u001b[0mrunning Automatic Mixed Precision (AMP) checks...\n",
      "\u001b[34m\u001b[1mAMP: \u001b[0mchecks passed ✅\n",
      "\u001b[34m\u001b[1mtrain: \u001b[0mFast image access ✅ (ping: 0.0±0.0 ms, read: 1589.0±355.0 MB/s, size: 89.8 KB)\n"
     ]
    },
    {
     "name": "stderr",
     "output_type": "stream",
     "text": [
      "\u001b[34m\u001b[1mtrain: \u001b[0mScanning /home/aitor/tfm/04.Codigo/kfold/fold_1/train/labels.cache...\u001b[0m"
     ]
    },
    {
     "name": "stdout",
     "output_type": "stream",
     "text": [
      "\u001b[34m\u001b[1mval: \u001b[0mFast image access ✅ (ping: 0.0±0.0 ms, read: 1714.8±140.6 MB/s, size: 90.0 KB)\n"
     ]
    },
    {
     "name": "stderr",
     "output_type": "stream",
     "text": [
      "\n",
      "\u001b[34m\u001b[1mval: \u001b[0mScanning /home/aitor/tfm/04.Codigo/kfold/fold_1/val/labels.cache... 94 \u001b[0m\n"
     ]
    },
    {
     "name": "stdout",
     "output_type": "stream",
     "text": [
      "Plotting labels to runs/detect/final_model_yolov12l_kfold/fold_1/labels.jpg... \n",
      "\u001b[34m\u001b[1moptimizer:\u001b[0m SGD(lr=0.00019010245319870352, momentum=0.8549542764940538) with parameter groups 205 weight(decay=0.0), 214 weight(decay=0.0002858051065806936), 211 bias(decay=0.0)\n",
      "Image sizes 704 train, 704 val\n",
      "Using 0 dataloader workers\n",
      "Logging results to \u001b[1mruns/detect/final_model_yolov12l_kfold/fold_1\u001b[0m\n",
      "Starting training for 40 epochs...\n",
      "\n",
      "      Epoch    GPU_mem   box_loss   cls_loss   dfl_loss  Instances       Size\n"
     ]
    },
    {
     "name": "stderr",
     "output_type": "stream",
     "text": [
      "       1/40      11.4G     0.7604     0.5543     0.8221         45        70\n",
      "                 Class     Images  Instances      Box(P          R      mAP5"
     ]
    },
    {
     "name": "stdout",
     "output_type": "stream",
     "text": [
      "                   all         94       1100      0.842       0.85      0.896      0.691\n"
     ]
    },
    {
     "name": "stderr",
     "output_type": "stream",
     "text": [
      "\n"
     ]
    },
    {
     "name": "stdout",
     "output_type": "stream",
     "text": [
      "\n",
      "      Epoch    GPU_mem   box_loss   cls_loss   dfl_loss  Instances       Size\n"
     ]
    },
    {
     "name": "stderr",
     "output_type": "stream",
     "text": [
      "       2/40      11.5G     0.7541     0.5556     0.8185         70        70\n",
      "                 Class     Images  Instances      Box(P          R      mAP5"
     ]
    },
    {
     "name": "stdout",
     "output_type": "stream",
     "text": [
      "                   all         94       1100      0.836      0.856      0.897      0.692\n"
     ]
    },
    {
     "name": "stderr",
     "output_type": "stream",
     "text": [
      "\n"
     ]
    },
    {
     "name": "stdout",
     "output_type": "stream",
     "text": [
      "\n",
      "      Epoch    GPU_mem   box_loss   cls_loss   dfl_loss  Instances       Size\n"
     ]
    },
    {
     "name": "stderr",
     "output_type": "stream",
     "text": [
      "       3/40      11.3G     0.7363     0.5451     0.8172         59        70\n",
      "                 Class     Images  Instances      Box(P          R      mAP5"
     ]
    },
    {
     "name": "stdout",
     "output_type": "stream",
     "text": [
      "                   all         94       1100      0.837      0.856      0.896       0.69\n"
     ]
    },
    {
     "name": "stderr",
     "output_type": "stream",
     "text": [
      "\n"
     ]
    },
    {
     "name": "stdout",
     "output_type": "stream",
     "text": [
      "\n",
      "      Epoch    GPU_mem   box_loss   cls_loss   dfl_loss  Instances       Size\n"
     ]
    },
    {
     "name": "stderr",
     "output_type": "stream",
     "text": [
      "       4/40      11.5G     0.7501     0.5572     0.8151        105        70\n",
      "                 Class     Images  Instances      Box(P          R      mAP5"
     ]
    },
    {
     "name": "stdout",
     "output_type": "stream",
     "text": [
      "                   all         94       1100      0.835      0.861      0.896      0.703\n"
     ]
    },
    {
     "name": "stderr",
     "output_type": "stream",
     "text": [
      "\n"
     ]
    },
    {
     "name": "stdout",
     "output_type": "stream",
     "text": [
      "\n",
      "      Epoch    GPU_mem   box_loss   cls_loss   dfl_loss  Instances       Size\n"
     ]
    },
    {
     "name": "stderr",
     "output_type": "stream",
     "text": [
      "       5/40      11.3G     0.7477     0.5556     0.8177        101        70\n",
      "                 Class     Images  Instances      Box(P          R      mAP5"
     ]
    },
    {
     "name": "stdout",
     "output_type": "stream",
     "text": [
      "                   all         94       1100      0.836       0.86      0.896      0.671\n"
     ]
    },
    {
     "name": "stderr",
     "output_type": "stream",
     "text": [
      "\n"
     ]
    },
    {
     "name": "stdout",
     "output_type": "stream",
     "text": [
      "\n",
      "      Epoch    GPU_mem   box_loss   cls_loss   dfl_loss  Instances       Size\n"
     ]
    },
    {
     "name": "stderr",
     "output_type": "stream",
     "text": [
      "       6/40      11.3G     0.7671     0.5547     0.8198         68        70\n",
      "                 Class     Images  Instances      Box(P          R      mAP5"
     ]
    },
    {
     "name": "stdout",
     "output_type": "stream",
     "text": [
      "                   all         94       1100      0.824      0.864      0.897      0.693\n"
     ]
    },
    {
     "name": "stderr",
     "output_type": "stream",
     "text": [
      "\n"
     ]
    },
    {
     "name": "stdout",
     "output_type": "stream",
     "text": [
      "\n",
      "      Epoch    GPU_mem   box_loss   cls_loss   dfl_loss  Instances       Size\n"
     ]
    },
    {
     "name": "stderr",
     "output_type": "stream",
     "text": [
      "       7/40      11.5G     0.7422     0.5564     0.8173         61        70\n",
      "                 Class     Images  Instances      Box(P          R      mAP5"
     ]
    },
    {
     "name": "stdout",
     "output_type": "stream",
     "text": [
      "                   all         94       1100      0.825      0.865      0.897      0.688\n"
     ]
    },
    {
     "name": "stderr",
     "output_type": "stream",
     "text": [
      "\n"
     ]
    },
    {
     "name": "stdout",
     "output_type": "stream",
     "text": [
      "\n",
      "      Epoch    GPU_mem   box_loss   cls_loss   dfl_loss  Instances       Size\n"
     ]
    },
    {
     "name": "stderr",
     "output_type": "stream",
     "text": [
      "       8/40      11.3G      0.751     0.5471     0.8196         70        70\n",
      "                 Class     Images  Instances      Box(P          R      mAP5"
     ]
    },
    {
     "name": "stdout",
     "output_type": "stream",
     "text": [
      "                   all         94       1100      0.829      0.865      0.897       0.69\n"
     ]
    },
    {
     "name": "stderr",
     "output_type": "stream",
     "text": [
      "\n"
     ]
    },
    {
     "name": "stdout",
     "output_type": "stream",
     "text": [
      "\n",
      "      Epoch    GPU_mem   box_loss   cls_loss   dfl_loss  Instances       Size\n"
     ]
    },
    {
     "name": "stderr",
     "output_type": "stream",
     "text": [
      "       9/40      11.3G     0.7486     0.5508      0.818         80        70\n",
      "                 Class     Images  Instances      Box(P          R      mAP5"
     ]
    },
    {
     "name": "stdout",
     "output_type": "stream",
     "text": [
      "                   all         94       1100      0.832      0.858      0.896      0.691\n"
     ]
    },
    {
     "name": "stderr",
     "output_type": "stream",
     "text": [
      "\n"
     ]
    },
    {
     "name": "stdout",
     "output_type": "stream",
     "text": [
      "\n",
      "      Epoch    GPU_mem   box_loss   cls_loss   dfl_loss  Instances       Size\n"
     ]
    },
    {
     "name": "stderr",
     "output_type": "stream",
     "text": [
      "      10/40      11.3G     0.7367     0.5525      0.819        111        70\n",
      "                 Class     Images  Instances      Box(P          R      mAP5"
     ]
    },
    {
     "name": "stdout",
     "output_type": "stream",
     "text": [
      "                   all         94       1100      0.833      0.857      0.897       0.69\n"
     ]
    },
    {
     "name": "stderr",
     "output_type": "stream",
     "text": [
      "\n"
     ]
    },
    {
     "name": "stdout",
     "output_type": "stream",
     "text": [
      "\n",
      "      Epoch    GPU_mem   box_loss   cls_loss   dfl_loss  Instances       Size\n"
     ]
    },
    {
     "name": "stderr",
     "output_type": "stream",
     "text": [
      "      11/40      11.3G     0.7495     0.5552     0.8189         83        70\n",
      "                 Class     Images  Instances      Box(P          R      mAP5"
     ]
    },
    {
     "name": "stdout",
     "output_type": "stream",
     "text": [
      "                   all         94       1100      0.831      0.861      0.897        0.7\n"
     ]
    },
    {
     "name": "stderr",
     "output_type": "stream",
     "text": [
      "\n"
     ]
    },
    {
     "name": "stdout",
     "output_type": "stream",
     "text": [
      "\n",
      "      Epoch    GPU_mem   box_loss   cls_loss   dfl_loss  Instances       Size\n"
     ]
    },
    {
     "name": "stderr",
     "output_type": "stream",
     "text": [
      "      12/40      11.3G     0.7418     0.5402      0.816         93        70\n",
      "                 Class     Images  Instances      Box(P          R      mAP5"
     ]
    },
    {
     "name": "stdout",
     "output_type": "stream",
     "text": [
      "                   all         94       1100       0.84      0.855      0.896      0.706\n"
     ]
    },
    {
     "name": "stderr",
     "output_type": "stream",
     "text": [
      "\n"
     ]
    },
    {
     "name": "stdout",
     "output_type": "stream",
     "text": [
      "\n",
      "      Epoch    GPU_mem   box_loss   cls_loss   dfl_loss  Instances       Size\n"
     ]
    },
    {
     "name": "stderr",
     "output_type": "stream",
     "text": [
      "      13/40      11.3G     0.7504      0.564     0.8243         80        70\n",
      "                 Class     Images  Instances      Box(P          R      mAP5"
     ]
    },
    {
     "name": "stdout",
     "output_type": "stream",
     "text": [
      "                   all         94       1100      0.839      0.856      0.897      0.696\n"
     ]
    },
    {
     "name": "stderr",
     "output_type": "stream",
     "text": [
      "\n"
     ]
    },
    {
     "name": "stdout",
     "output_type": "stream",
     "text": [
      "\n",
      "      Epoch    GPU_mem   box_loss   cls_loss   dfl_loss  Instances       Size\n"
     ]
    },
    {
     "name": "stderr",
     "output_type": "stream",
     "text": [
      "      14/40      11.3G     0.7466      0.548     0.8192        116        70\n",
      "                 Class     Images  Instances      Box(P          R      mAP5"
     ]
    },
    {
     "name": "stdout",
     "output_type": "stream",
     "text": [
      "                   all         94       1100      0.833      0.863      0.898      0.696\n"
     ]
    },
    {
     "name": "stderr",
     "output_type": "stream",
     "text": [
      "\n"
     ]
    },
    {
     "name": "stdout",
     "output_type": "stream",
     "text": [
      "\n",
      "      Epoch    GPU_mem   box_loss   cls_loss   dfl_loss  Instances       Size\n"
     ]
    },
    {
     "name": "stderr",
     "output_type": "stream",
     "text": [
      "      15/40      11.5G     0.7373     0.5488     0.8171         53        70\n",
      "                 Class     Images  Instances      Box(P          R      mAP5"
     ]
    },
    {
     "name": "stdout",
     "output_type": "stream",
     "text": [
      "                   all         94       1100      0.837      0.858      0.898      0.696\n"
     ]
    },
    {
     "name": "stderr",
     "output_type": "stream",
     "text": [
      "\n"
     ]
    },
    {
     "name": "stdout",
     "output_type": "stream",
     "text": [
      "\n",
      "      Epoch    GPU_mem   box_loss   cls_loss   dfl_loss  Instances       Size\n"
     ]
    },
    {
     "name": "stderr",
     "output_type": "stream",
     "text": [
      "      16/40      11.3G     0.7433     0.5565     0.8188         28        70\n",
      "                 Class     Images  Instances      Box(P          R      mAP5"
     ]
    },
    {
     "name": "stdout",
     "output_type": "stream",
     "text": [
      "                   all         94       1100      0.838      0.861      0.898      0.697\n"
     ]
    },
    {
     "name": "stderr",
     "output_type": "stream",
     "text": [
      "\n"
     ]
    },
    {
     "name": "stdout",
     "output_type": "stream",
     "text": [
      "\n",
      "      Epoch    GPU_mem   box_loss   cls_loss   dfl_loss  Instances       Size\n"
     ]
    },
    {
     "name": "stderr",
     "output_type": "stream",
     "text": [
      "      17/40      11.3G      0.751     0.5548     0.8223        130        70\n",
      "                 Class     Images  Instances      Box(P          R      mAP5"
     ]
    },
    {
     "name": "stdout",
     "output_type": "stream",
     "text": [
      "                   all         94       1100      0.835      0.863      0.898      0.697\n"
     ]
    },
    {
     "name": "stderr",
     "output_type": "stream",
     "text": [
      "\n"
     ]
    },
    {
     "name": "stdout",
     "output_type": "stream",
     "text": [
      "\n",
      "      Epoch    GPU_mem   box_loss   cls_loss   dfl_loss  Instances       Size\n"
     ]
    },
    {
     "name": "stderr",
     "output_type": "stream",
     "text": [
      "      18/40      11.3G     0.7253     0.5543     0.8129         92        70\n",
      "                 Class     Images  Instances      Box(P          R      mAP5"
     ]
    },
    {
     "name": "stdout",
     "output_type": "stream",
     "text": [
      "                   all         94       1100       0.84      0.854      0.897      0.702\n"
     ]
    },
    {
     "name": "stderr",
     "output_type": "stream",
     "text": [
      "\n"
     ]
    },
    {
     "name": "stdout",
     "output_type": "stream",
     "text": [
      "\n",
      "      Epoch    GPU_mem   box_loss   cls_loss   dfl_loss  Instances       Size\n"
     ]
    },
    {
     "name": "stderr",
     "output_type": "stream",
     "text": [
      "      19/40      11.3G      0.751     0.5473     0.8241         68        70\n",
      "                 Class     Images  Instances      Box(P          R      mAP5"
     ]
    },
    {
     "name": "stdout",
     "output_type": "stream",
     "text": [
      "                   all         94       1100      0.841      0.854      0.897      0.696\n"
     ]
    },
    {
     "name": "stderr",
     "output_type": "stream",
     "text": [
      "\n"
     ]
    },
    {
     "name": "stdout",
     "output_type": "stream",
     "text": [
      "\n",
      "      Epoch    GPU_mem   box_loss   cls_loss   dfl_loss  Instances       Size\n"
     ]
    },
    {
     "name": "stderr",
     "output_type": "stream",
     "text": [
      "      20/40      11.3G     0.7663     0.5748     0.8261        128        70\n",
      "                 Class     Images  Instances      Box(P          R      mAP5"
     ]
    },
    {
     "name": "stdout",
     "output_type": "stream",
     "text": [
      "                   all         94       1100      0.836      0.863      0.897      0.699\n"
     ]
    },
    {
     "name": "stderr",
     "output_type": "stream",
     "text": [
      "\n"
     ]
    },
    {
     "name": "stdout",
     "output_type": "stream",
     "text": [
      "\n",
      "      Epoch    GPU_mem   box_loss   cls_loss   dfl_loss  Instances       Size\n"
     ]
    },
    {
     "name": "stderr",
     "output_type": "stream",
     "text": [
      "      21/40      11.3G     0.7364     0.5521     0.8159         67        70\n",
      "                 Class     Images  Instances      Box(P          R      mAP5"
     ]
    },
    {
     "name": "stdout",
     "output_type": "stream",
     "text": [
      "                   all         94       1100      0.837      0.861      0.897      0.703\n"
     ]
    },
    {
     "name": "stderr",
     "output_type": "stream",
     "text": [
      "\n"
     ]
    },
    {
     "name": "stdout",
     "output_type": "stream",
     "text": [
      "\n",
      "      Epoch    GPU_mem   box_loss   cls_loss   dfl_loss  Instances       Size\n"
     ]
    },
    {
     "name": "stderr",
     "output_type": "stream",
     "text": [
      "      22/40      11.3G     0.7498     0.5528     0.8204        124        70\n",
      "                 Class     Images  Instances      Box(P          R      mAP5"
     ]
    },
    {
     "name": "stdout",
     "output_type": "stream",
     "text": [
      "                   all         94       1100      0.839      0.857      0.897      0.699\n"
     ]
    },
    {
     "name": "stderr",
     "output_type": "stream",
     "text": [
      "\n"
     ]
    },
    {
     "name": "stdout",
     "output_type": "stream",
     "text": [
      "\n",
      "      Epoch    GPU_mem   box_loss   cls_loss   dfl_loss  Instances       Size\n"
     ]
    },
    {
     "name": "stderr",
     "output_type": "stream",
     "text": [
      "      23/40      11.5G      0.741     0.5421     0.8186         62        70\n",
      "                 Class     Images  Instances      Box(P          R      mAP5"
     ]
    },
    {
     "name": "stdout",
     "output_type": "stream",
     "text": [
      "                   all         94       1100       0.84      0.852      0.898        0.7\n"
     ]
    },
    {
     "name": "stderr",
     "output_type": "stream",
     "text": [
      "\n"
     ]
    },
    {
     "name": "stdout",
     "output_type": "stream",
     "text": [
      "\n",
      "      Epoch    GPU_mem   box_loss   cls_loss   dfl_loss  Instances       Size\n"
     ]
    },
    {
     "name": "stderr",
     "output_type": "stream",
     "text": [
      "      24/40      11.3G     0.7517     0.5567     0.8193         36        70\n",
      "                 Class     Images  Instances      Box(P          R      mAP5"
     ]
    },
    {
     "name": "stdout",
     "output_type": "stream",
     "text": [
      "                   all         94       1100      0.835      0.862      0.897      0.692\n"
     ]
    },
    {
     "name": "stderr",
     "output_type": "stream",
     "text": [
      "\n"
     ]
    },
    {
     "name": "stdout",
     "output_type": "stream",
     "text": [
      "\n",
      "      Epoch    GPU_mem   box_loss   cls_loss   dfl_loss  Instances       Size\n"
     ]
    },
    {
     "name": "stderr",
     "output_type": "stream",
     "text": [
      "      25/40      11.3G      0.728      0.542     0.8135         46        70\n",
      "                 Class     Images  Instances      Box(P          R      mAP5"
     ]
    },
    {
     "name": "stdout",
     "output_type": "stream",
     "text": [
      "                   all         94       1100       0.84      0.857      0.897      0.698\n"
     ]
    },
    {
     "name": "stderr",
     "output_type": "stream",
     "text": [
      "\n"
     ]
    },
    {
     "name": "stdout",
     "output_type": "stream",
     "text": [
      "\n",
      "      Epoch    GPU_mem   box_loss   cls_loss   dfl_loss  Instances       Size\n"
     ]
    },
    {
     "name": "stderr",
     "output_type": "stream",
     "text": [
      "      26/40      11.3G      0.738     0.5495     0.8185         96        70\n",
      "                 Class     Images  Instances      Box(P          R      mAP5"
     ]
    },
    {
     "name": "stdout",
     "output_type": "stream",
     "text": [
      "                   all         94       1100       0.84      0.857      0.897      0.691\n"
     ]
    },
    {
     "name": "stderr",
     "output_type": "stream",
     "text": [
      "\n"
     ]
    },
    {
     "name": "stdout",
     "output_type": "stream",
     "text": [
      "\n",
      "      Epoch    GPU_mem   box_loss   cls_loss   dfl_loss  Instances       Size\n"
     ]
    },
    {
     "name": "stderr",
     "output_type": "stream",
     "text": [
      "      27/40      11.3G     0.7614     0.5501      0.818         77        70\n",
      "                 Class     Images  Instances      Box(P          R      mAP5"
     ]
    },
    {
     "name": "stdout",
     "output_type": "stream",
     "text": [
      "                   all         94       1100      0.838      0.856      0.897      0.698\n"
     ]
    },
    {
     "name": "stderr",
     "output_type": "stream",
     "text": [
      "\n"
     ]
    },
    {
     "name": "stdout",
     "output_type": "stream",
     "text": [
      "\n",
      "      Epoch    GPU_mem   box_loss   cls_loss   dfl_loss  Instances       Size\n"
     ]
    },
    {
     "name": "stderr",
     "output_type": "stream",
     "text": [
      "      28/40      11.3G     0.7356      0.542     0.8141         49        70\n",
      "                 Class     Images  Instances      Box(P          R      mAP5"
     ]
    },
    {
     "name": "stdout",
     "output_type": "stream",
     "text": [
      "                   all         94       1100      0.839       0.86      0.898      0.698\n"
     ]
    },
    {
     "name": "stderr",
     "output_type": "stream",
     "text": [
      "\n"
     ]
    },
    {
     "name": "stdout",
     "output_type": "stream",
     "text": [
      "\n",
      "      Epoch    GPU_mem   box_loss   cls_loss   dfl_loss  Instances       Size\n"
     ]
    },
    {
     "name": "stderr",
     "output_type": "stream",
     "text": [
      "      29/40      11.3G     0.7314     0.5472     0.8189         81        70\n",
      "                 Class     Images  Instances      Box(P          R      mAP5"
     ]
    },
    {
     "name": "stdout",
     "output_type": "stream",
     "text": [
      "                   all         94       1100      0.836      0.862      0.898      0.697\n"
     ]
    },
    {
     "name": "stderr",
     "output_type": "stream",
     "text": [
      "\n"
     ]
    },
    {
     "name": "stdout",
     "output_type": "stream",
     "text": [
      "\n",
      "      Epoch    GPU_mem   box_loss   cls_loss   dfl_loss  Instances       Size\n"
     ]
    },
    {
     "name": "stderr",
     "output_type": "stream",
     "text": [
      "      30/40      11.3G     0.7339     0.5494     0.8077         47        70\n",
      "                 Class     Images  Instances      Box(P          R      mAP5"
     ]
    },
    {
     "name": "stdout",
     "output_type": "stream",
     "text": [
      "                   all         94       1100      0.836      0.861      0.897      0.697\n"
     ]
    },
    {
     "name": "stderr",
     "output_type": "stream",
     "text": [
      "\n"
     ]
    },
    {
     "name": "stdout",
     "output_type": "stream",
     "text": [
      "\n",
      "      Epoch    GPU_mem   box_loss   cls_loss   dfl_loss  Instances       Size\n"
     ]
    },
    {
     "name": "stderr",
     "output_type": "stream",
     "text": [
      "      31/40      11.5G     0.7436     0.5493     0.8167         46        70\n",
      "                 Class     Images  Instances      Box(P          R      mAP5"
     ]
    },
    {
     "name": "stdout",
     "output_type": "stream",
     "text": [
      "                   all         94       1100      0.839       0.86      0.898      0.696\n"
     ]
    },
    {
     "name": "stderr",
     "output_type": "stream",
     "text": [
      "\n"
     ]
    },
    {
     "name": "stdout",
     "output_type": "stream",
     "text": [
      "\n",
      "      Epoch    GPU_mem   box_loss   cls_loss   dfl_loss  Instances       Size\n"
     ]
    },
    {
     "name": "stderr",
     "output_type": "stream",
     "text": [
      "      32/40      11.3G     0.7411     0.5389     0.8171        119        70\n",
      "                 Class     Images  Instances      Box(P          R      mAP5"
     ]
    },
    {
     "name": "stdout",
     "output_type": "stream",
     "text": [
      "                   all         94       1100      0.837       0.86      0.898      0.701\n"
     ]
    },
    {
     "name": "stderr",
     "output_type": "stream",
     "text": [
      "\n"
     ]
    },
    {
     "name": "stdout",
     "output_type": "stream",
     "text": [
      "\n",
      "      Epoch    GPU_mem   box_loss   cls_loss   dfl_loss  Instances       Size\n"
     ]
    },
    {
     "name": "stderr",
     "output_type": "stream",
     "text": [
      "      33/40      11.3G     0.7412     0.5461     0.8193        178        70\n",
      "                 Class     Images  Instances      Box(P          R      mAP5"
     ]
    },
    {
     "name": "stdout",
     "output_type": "stream",
     "text": [
      "                   all         94       1100      0.837      0.859      0.898      0.696\n"
     ]
    },
    {
     "name": "stderr",
     "output_type": "stream",
     "text": [
      "\n"
     ]
    },
    {
     "name": "stdout",
     "output_type": "stream",
     "text": [
      "\n",
      "      Epoch    GPU_mem   box_loss   cls_loss   dfl_loss  Instances       Size\n"
     ]
    },
    {
     "name": "stderr",
     "output_type": "stream",
     "text": [
      "      34/40      11.3G     0.7676     0.5501     0.8172         48        70\n",
      "                 Class     Images  Instances      Box(P          R      mAP5"
     ]
    },
    {
     "name": "stdout",
     "output_type": "stream",
     "text": [
      "                   all         94       1100      0.835      0.862      0.898      0.695\n"
     ]
    },
    {
     "name": "stderr",
     "output_type": "stream",
     "text": [
      "\n"
     ]
    },
    {
     "name": "stdout",
     "output_type": "stream",
     "text": [
      "\n",
      "      Epoch    GPU_mem   box_loss   cls_loss   dfl_loss  Instances       Size\n"
     ]
    },
    {
     "name": "stderr",
     "output_type": "stream",
     "text": [
      "      35/40      11.4G     0.7454      0.555     0.8194         58        70\n",
      "                 Class     Images  Instances      Box(P          R      mAP5"
     ]
    },
    {
     "name": "stdout",
     "output_type": "stream",
     "text": [
      "                   all         94       1100      0.836      0.862      0.897      0.696\n"
     ]
    },
    {
     "name": "stderr",
     "output_type": "stream",
     "text": [
      "\n"
     ]
    },
    {
     "name": "stdout",
     "output_type": "stream",
     "text": [
      "\n",
      "      Epoch    GPU_mem   box_loss   cls_loss   dfl_loss  Instances       Size\n"
     ]
    },
    {
     "name": "stderr",
     "output_type": "stream",
     "text": [
      "      36/40      11.3G     0.7252     0.5411     0.8106         85        70\n",
      "                 Class     Images  Instances      Box(P          R      mAP5"
     ]
    },
    {
     "name": "stdout",
     "output_type": "stream",
     "text": [
      "                   all         94       1100      0.834      0.862      0.897      0.698\n"
     ]
    },
    {
     "name": "stderr",
     "output_type": "stream",
     "text": [
      "\n"
     ]
    },
    {
     "name": "stdout",
     "output_type": "stream",
     "text": [
      "\n",
      "      Epoch    GPU_mem   box_loss   cls_loss   dfl_loss  Instances       Size\n"
     ]
    },
    {
     "name": "stderr",
     "output_type": "stream",
     "text": [
      "      37/40      11.3G     0.7405       0.54     0.8146         89        70\n",
      "                 Class     Images  Instances      Box(P          R      mAP5"
     ]
    },
    {
     "name": "stdout",
     "output_type": "stream",
     "text": [
      "                   all         94       1100      0.837      0.862      0.897      0.694\n"
     ]
    },
    {
     "name": "stderr",
     "output_type": "stream",
     "text": [
      "\n"
     ]
    },
    {
     "name": "stdout",
     "output_type": "stream",
     "text": [
      "\n",
      "      Epoch    GPU_mem   box_loss   cls_loss   dfl_loss  Instances       Size\n"
     ]
    },
    {
     "name": "stderr",
     "output_type": "stream",
     "text": [
      "      38/40      11.3G     0.7556     0.5569     0.8165         42        70\n",
      "                 Class     Images  Instances      Box(P          R      mAP5"
     ]
    },
    {
     "name": "stdout",
     "output_type": "stream",
     "text": [
      "                   all         94       1100      0.834       0.86      0.898      0.696\n"
     ]
    },
    {
     "name": "stderr",
     "output_type": "stream",
     "text": [
      "\n"
     ]
    },
    {
     "name": "stdout",
     "output_type": "stream",
     "text": [
      "\n",
      "      Epoch    GPU_mem   box_loss   cls_loss   dfl_loss  Instances       Size\n"
     ]
    },
    {
     "name": "stderr",
     "output_type": "stream",
     "text": [
      "      39/40      11.5G     0.7535     0.5428     0.8183        105        70\n",
      "                 Class     Images  Instances      Box(P          R      mAP5"
     ]
    },
    {
     "name": "stdout",
     "output_type": "stream",
     "text": [
      "                   all         94       1100      0.833      0.861      0.898      0.698\n"
     ]
    },
    {
     "name": "stderr",
     "output_type": "stream",
     "text": [
      "\n"
     ]
    },
    {
     "name": "stdout",
     "output_type": "stream",
     "text": [
      "\n",
      "      Epoch    GPU_mem   box_loss   cls_loss   dfl_loss  Instances       Size\n"
     ]
    },
    {
     "name": "stderr",
     "output_type": "stream",
     "text": [
      "      40/40      11.4G     0.7277     0.5398     0.8133         81        70\n",
      "                 Class     Images  Instances      Box(P          R      mAP5"
     ]
    },
    {
     "name": "stdout",
     "output_type": "stream",
     "text": [
      "                   all         94       1100      0.837      0.859      0.897      0.695\n"
     ]
    },
    {
     "name": "stderr",
     "output_type": "stream",
     "text": [
      "\n"
     ]
    },
    {
     "name": "stdout",
     "output_type": "stream",
     "text": [
      "\n",
      "40 epochs completed in 0.565 hours.\n",
      "Optimizer stripped from runs/detect/final_model_yolov12l_kfold/fold_1/weights/last.pt, 53.5MB\n",
      "Optimizer stripped from runs/detect/final_model_yolov12l_kfold/fold_1/weights/best.pt, 53.5MB\n",
      "\n",
      "Validating runs/detect/final_model_yolov12l_kfold/fold_1/weights/best.pt...\n",
      "Ultralytics 8.3.169 🚀 Python-3.11.13 torch-2.6.0+cu124 CUDA:0 (NVIDIA TITAN Xp, 12190MiB)\n",
      "YOLOv12l summary (fused): 283 layers, 26,339,843 parameters, 0 gradients, 88.5 GFLOPs\n"
     ]
    },
    {
     "name": "stderr",
     "output_type": "stream",
     "text": [
      "                 Class     Images  Instances      Box(P          R      mAP5\n"
     ]
    },
    {
     "name": "stdout",
     "output_type": "stream",
     "text": [
      "                   all         94       1100       0.84      0.855      0.896      0.705\n",
      "Speed: 0.2ms preprocess, 34.0ms inference, 0.0ms loss, 1.1ms postprocess per image\n",
      "Results saved to \u001b[1mruns/detect/final_model_yolov12l_kfold/fold_1\u001b[0m\n",
      "\n",
      "==================================================\n",
      "Entrenando fold_2 (2/4)\n",
      "==================================================\n",
      "New https://pypi.org/project/ultralytics/8.3.186 available 😃 Update with 'pip install -U ultralytics'\n",
      "Ultralytics 8.3.169 🚀 Python-3.11.13 torch-2.6.0+cu124 CUDA:0 (NVIDIA TITAN Xp, 12190MiB)\n",
      "\u001b[34m\u001b[1mengine/trainer: \u001b[0magnostic_nms=False, amp=True, augment=False, auto_augment=randaugment, batch=8, bgr=0.0, box=7.5, cache=False, cfg=None, classes=None, close_mosaic=0, cls=0.5, conf=None, copy_paste=0.0, copy_paste_mode=flip, cos_lr=False, cutmix=0.0, data=kfold/fold_2/data.yaml, degrees=45, deterministic=True, device=None, dfl=1.5, dnn=False, dropout=0.0, dynamic=False, embed=None, epochs=40, erasing=0.4, exist_ok=False, fliplr=0.5, flipud=0.5, format=torchscript, fraction=1.0, freeze=None, half=False, hsv_h=0.015, hsv_s=0.7, hsv_v=0.4, imgsz=704, int8=False, iou=0.7, keras=False, kobj=1.0, line_width=None, lr0=0.00019010245319870352, lrf=0.001959497205867916, mask_ratio=4, max_det=300, mixup=0.0, mode=train, model=yolo/yolo_models/yolo12l.pt, momentum=0.8549542764940538, mosaic=0, multi_scale=False, name=fold_2, nbs=64, nms=False, opset=None, optimize=False, optimizer=SGD, overlap_mask=True, patience=100, perspective=0.0, plots=True, pose=12.0, pretrained=True, profile=False, project=None, rect=False, resume=False, retina_masks=False, save=True, save_conf=False, save_crop=False, save_dir=runs/detect/final_model_yolov12l_kfold/fold_2, save_frames=False, save_json=False, save_period=-1, save_txt=False, scale=0.06, seed=42, shear=0.0, show=False, show_boxes=True, show_conf=True, show_labels=True, simplify=True, single_cls=False, source=None, split=val, stream_buffer=False, task=detect, time=None, tracker=botsort.yaml, translate=0.1, val=True, verbose=False, vid_stride=1, visualize=False, warmup_bias_lr=0.1, warmup_epochs=5, warmup_momentum=0.75, weight_decay=0.0002858051065806936, workers=0, workspace=None\n",
      "\n",
      "                   from  n    params  module                                       arguments                     \n",
      "  0                  -1  1      1856  ultralytics.nn.modules.conv.Conv             [3, 64, 3, 2]                 \n",
      "  1                  -1  1     73984  ultralytics.nn.modules.conv.Conv             [64, 128, 3, 2]               \n",
      "  2                  -1  2    173824  ultralytics.nn.modules.block.C3k2            [128, 256, 2, True, 0.25]     \n",
      "  3                  -1  1    590336  ultralytics.nn.modules.conv.Conv             [256, 256, 3, 2]              \n",
      "  4                  -1  2    691712  ultralytics.nn.modules.block.C3k2            [256, 512, 2, True, 0.25]     \n",
      "  5                  -1  1   2360320  ultralytics.nn.modules.conv.Conv             [512, 512, 3, 2]              \n",
      "  6                  -1  4   4272944  ultralytics.nn.modules.block.A2C2f           [512, 512, 4, True, 4, True, 1.2]\n",
      "  7                  -1  1   2360320  ultralytics.nn.modules.conv.Conv             [512, 512, 3, 2]              \n",
      "  8                  -1  4   4272944  ultralytics.nn.modules.block.A2C2f           [512, 512, 4, True, 1, True, 1.2]\n",
      "  9                  -1  1         0  torch.nn.modules.upsampling.Upsample         [None, 2, 'nearest']          \n",
      " 10             [-1, 6]  1         0  ultralytics.nn.modules.conv.Concat           [1]                           \n",
      " 11                  -1  2   2102784  ultralytics.nn.modules.block.A2C2f           [1024, 512, 2, False, -1, True, 1.2]\n",
      " 12                  -1  1         0  torch.nn.modules.upsampling.Upsample         [None, 2, 'nearest']          \n",
      " 13             [-1, 4]  1         0  ultralytics.nn.modules.conv.Concat           [1]                           \n",
      " 14                  -1  2    592640  ultralytics.nn.modules.block.A2C2f           [1024, 256, 2, False, -1, True, 1.2]\n",
      " 15                  -1  1    590336  ultralytics.nn.modules.conv.Conv             [256, 256, 3, 2]              \n",
      " 16            [-1, 11]  1         0  ultralytics.nn.modules.conv.Concat           [1]                           \n",
      " 17                  -1  2   2037248  ultralytics.nn.modules.block.A2C2f           [768, 512, 2, False, -1, True, 1.2]\n",
      " 18                  -1  1   2360320  ultralytics.nn.modules.conv.Conv             [512, 512, 3, 2]              \n",
      " 19             [-1, 8]  1         0  ultralytics.nn.modules.conv.Concat           [1]                           \n",
      " 20                  -1  2   2496512  ultralytics.nn.modules.block.C3k2            [1024, 512, 2, True]          \n",
      " 21        [14, 17, 20]  1   1411795  ultralytics.nn.modules.head.Detect           [1, [256, 512, 512]]          \n",
      "YOLOv12l summary: 488 layers, 26,389,875 parameters, 26,389,859 gradients, 89.4 GFLOPs\n",
      "\n",
      "Transferred 1245/1245 items from pretrained weights\n",
      "Freezing layer 'model.21.dfl.conv.weight'\n",
      "\u001b[34m\u001b[1mAMP: \u001b[0mrunning Automatic Mixed Precision (AMP) checks...\n",
      "\u001b[34m\u001b[1mAMP: \u001b[0mchecks passed ✅\n",
      "\u001b[34m\u001b[1mtrain: \u001b[0mFast image access ✅ (ping: 0.0±0.0 ms, read: 1888.0±511.3 MB/s, size: 98.8 KB)\n"
     ]
    },
    {
     "name": "stderr",
     "output_type": "stream",
     "text": [
      "\u001b[34m\u001b[1mtrain: \u001b[0mScanning /home/aitor/tfm/04.Codigo/kfold/fold_2/train/labels.cache...\u001b[0m"
     ]
    },
    {
     "name": "stdout",
     "output_type": "stream",
     "text": [
      "\u001b[34m\u001b[1mval: \u001b[0mFast image access ✅ (ping: 0.0±0.0 ms, read: 2154.8±516.8 MB/s, size: 98.9 KB)\n"
     ]
    },
    {
     "name": "stderr",
     "output_type": "stream",
     "text": [
      "\n",
      "\u001b[34m\u001b[1mval: \u001b[0mScanning /home/aitor/tfm/04.Codigo/kfold/fold_2/val/labels.cache... 93 \u001b[0m"
     ]
    },
    {
     "name": "stdout",
     "output_type": "stream",
     "text": [
      "Plotting labels to runs/detect/final_model_yolov12l_kfold/fold_2/labels.jpg... \n"
     ]
    },
    {
     "name": "stderr",
     "output_type": "stream",
     "text": [
      "\n"
     ]
    },
    {
     "name": "stdout",
     "output_type": "stream",
     "text": [
      "\u001b[34m\u001b[1moptimizer:\u001b[0m SGD(lr=0.00019010245319870352, momentum=0.8549542764940538) with parameter groups 205 weight(decay=0.0), 214 weight(decay=0.0002858051065806936), 211 bias(decay=0.0)\n",
      "Image sizes 704 train, 704 val\n",
      "Using 0 dataloader workers\n",
      "Logging results to \u001b[1mruns/detect/final_model_yolov12l_kfold/fold_2\u001b[0m\n",
      "Starting training for 40 epochs...\n",
      "\n",
      "      Epoch    GPU_mem   box_loss   cls_loss   dfl_loss  Instances       Size\n"
     ]
    },
    {
     "name": "stderr",
     "output_type": "stream",
     "text": [
      "       1/40      11.2G      0.749      0.564      0.813        117        70\n",
      "                 Class     Images  Instances      Box(P          R      mAP5"
     ]
    },
    {
     "name": "stdout",
     "output_type": "stream",
     "text": [
      "                   all         93       1358      0.839      0.876      0.916      0.721\n"
     ]
    },
    {
     "name": "stderr",
     "output_type": "stream",
     "text": [
      "\n"
     ]
    },
    {
     "name": "stdout",
     "output_type": "stream",
     "text": [
      "\n",
      "      Epoch    GPU_mem   box_loss   cls_loss   dfl_loss  Instances       Size\n"
     ]
    },
    {
     "name": "stderr",
     "output_type": "stream",
     "text": [
      "       2/40      11.5G     0.7585     0.5668     0.8183         66        70\n",
      "                 Class     Images  Instances      Box(P          R      mAP5"
     ]
    },
    {
     "name": "stdout",
     "output_type": "stream",
     "text": [
      "                   all         93       1358      0.836      0.884      0.917      0.724\n"
     ]
    },
    {
     "name": "stderr",
     "output_type": "stream",
     "text": [
      "\n"
     ]
    },
    {
     "name": "stdout",
     "output_type": "stream",
     "text": [
      "\n",
      "      Epoch    GPU_mem   box_loss   cls_loss   dfl_loss  Instances       Size\n"
     ]
    },
    {
     "name": "stderr",
     "output_type": "stream",
     "text": [
      "       3/40      11.3G      0.753     0.5521     0.8199        131        70\n",
      "                 Class     Images  Instances      Box(P          R      mAP5"
     ]
    },
    {
     "name": "stdout",
     "output_type": "stream",
     "text": [
      "                   all         93       1358      0.837      0.886      0.918      0.712\n"
     ]
    },
    {
     "name": "stderr",
     "output_type": "stream",
     "text": [
      "\n"
     ]
    },
    {
     "name": "stdout",
     "output_type": "stream",
     "text": [
      "\n",
      "      Epoch    GPU_mem   box_loss   cls_loss   dfl_loss  Instances       Size\n"
     ]
    },
    {
     "name": "stderr",
     "output_type": "stream",
     "text": [
      "       4/40      11.6G      0.751     0.5591     0.8184        144        70\n",
      "                 Class     Images  Instances      Box(P          R      mAP5"
     ]
    },
    {
     "name": "stdout",
     "output_type": "stream",
     "text": [
      "                   all         93       1358      0.835       0.89      0.918      0.717\n"
     ]
    },
    {
     "name": "stderr",
     "output_type": "stream",
     "text": [
      "\n"
     ]
    },
    {
     "name": "stdout",
     "output_type": "stream",
     "text": [
      "\n",
      "      Epoch    GPU_mem   box_loss   cls_loss   dfl_loss  Instances       Size\n"
     ]
    },
    {
     "name": "stderr",
     "output_type": "stream",
     "text": [
      "       5/40      11.3G     0.7332     0.5506     0.8126         77        70\n",
      "                 Class     Images  Instances      Box(P          R      mAP5"
     ]
    },
    {
     "name": "stdout",
     "output_type": "stream",
     "text": [
      "                   all         93       1358      0.835      0.887      0.917      0.722\n"
     ]
    },
    {
     "name": "stderr",
     "output_type": "stream",
     "text": [
      "\n"
     ]
    },
    {
     "name": "stdout",
     "output_type": "stream",
     "text": [
      "\n",
      "      Epoch    GPU_mem   box_loss   cls_loss   dfl_loss  Instances       Size\n"
     ]
    },
    {
     "name": "stderr",
     "output_type": "stream",
     "text": [
      "       6/40      11.3G     0.7556     0.5582     0.8189         70        70\n",
      "                 Class     Images  Instances      Box(P          R      mAP5"
     ]
    },
    {
     "name": "stdout",
     "output_type": "stream",
     "text": [
      "                   all         93       1358       0.83       0.89      0.917      0.717\n"
     ]
    },
    {
     "name": "stderr",
     "output_type": "stream",
     "text": [
      "\n"
     ]
    },
    {
     "name": "stdout",
     "output_type": "stream",
     "text": [
      "\n",
      "      Epoch    GPU_mem   box_loss   cls_loss   dfl_loss  Instances       Size\n"
     ]
    },
    {
     "name": "stderr",
     "output_type": "stream",
     "text": [
      "       7/40      11.5G     0.7337     0.5505     0.8147        111        70\n",
      "                 Class     Images  Instances      Box(P          R      mAP5"
     ]
    },
    {
     "name": "stdout",
     "output_type": "stream",
     "text": [
      "                   all         93       1358      0.835      0.888      0.918      0.715\n"
     ]
    },
    {
     "name": "stderr",
     "output_type": "stream",
     "text": [
      "\n"
     ]
    },
    {
     "name": "stdout",
     "output_type": "stream",
     "text": [
      "\n",
      "      Epoch    GPU_mem   box_loss   cls_loss   dfl_loss  Instances       Size\n"
     ]
    },
    {
     "name": "stderr",
     "output_type": "stream",
     "text": [
      "       8/40      11.3G     0.7406     0.5539     0.8139         90        70\n",
      "                 Class     Images  Instances      Box(P          R      mAP5"
     ]
    },
    {
     "name": "stdout",
     "output_type": "stream",
     "text": [
      "                   all         93       1358      0.835      0.893      0.917      0.715\n"
     ]
    },
    {
     "name": "stderr",
     "output_type": "stream",
     "text": [
      "\n"
     ]
    },
    {
     "name": "stdout",
     "output_type": "stream",
     "text": [
      "\n",
      "      Epoch    GPU_mem   box_loss   cls_loss   dfl_loss  Instances       Size\n"
     ]
    },
    {
     "name": "stderr",
     "output_type": "stream",
     "text": [
      "       9/40      11.3G     0.7409     0.5507     0.8175         58        70\n",
      "                 Class     Images  Instances      Box(P          R      mAP5"
     ]
    },
    {
     "name": "stdout",
     "output_type": "stream",
     "text": [
      "                   all         93       1358      0.833      0.893      0.917      0.712\n"
     ]
    },
    {
     "name": "stderr",
     "output_type": "stream",
     "text": [
      "\n"
     ]
    },
    {
     "name": "stdout",
     "output_type": "stream",
     "text": [
      "\n",
      "      Epoch    GPU_mem   box_loss   cls_loss   dfl_loss  Instances       Size\n"
     ]
    },
    {
     "name": "stderr",
     "output_type": "stream",
     "text": [
      "      10/40      11.3G     0.7468     0.5514     0.8176         60        70\n",
      "                 Class     Images  Instances      Box(P          R      mAP5"
     ]
    },
    {
     "name": "stdout",
     "output_type": "stream",
     "text": [
      "                   all         93       1358      0.833      0.894      0.917      0.703\n"
     ]
    },
    {
     "name": "stderr",
     "output_type": "stream",
     "text": [
      "\n"
     ]
    },
    {
     "name": "stdout",
     "output_type": "stream",
     "text": [
      "\n",
      "      Epoch    GPU_mem   box_loss   cls_loss   dfl_loss  Instances       Size\n"
     ]
    },
    {
     "name": "stderr",
     "output_type": "stream",
     "text": [
      "      11/40      11.3G     0.7512     0.5448      0.813         61        70\n",
      "                 Class     Images  Instances      Box(P          R      mAP5"
     ]
    },
    {
     "name": "stdout",
     "output_type": "stream",
     "text": [
      "                   all         93       1358      0.835      0.892      0.918      0.714\n"
     ]
    },
    {
     "name": "stderr",
     "output_type": "stream",
     "text": [
      "\n"
     ]
    },
    {
     "name": "stdout",
     "output_type": "stream",
     "text": [
      "\n",
      "      Epoch    GPU_mem   box_loss   cls_loss   dfl_loss  Instances       Size\n"
     ]
    },
    {
     "name": "stderr",
     "output_type": "stream",
     "text": [
      "      12/40      11.4G     0.7769      0.567     0.8233        109        70\n",
      "                 Class     Images  Instances      Box(P          R      mAP5"
     ]
    },
    {
     "name": "stdout",
     "output_type": "stream",
     "text": [
      "                   all         93       1358      0.839      0.884      0.917      0.722\n"
     ]
    },
    {
     "name": "stderr",
     "output_type": "stream",
     "text": [
      "\n"
     ]
    },
    {
     "name": "stdout",
     "output_type": "stream",
     "text": [
      "\n",
      "      Epoch    GPU_mem   box_loss   cls_loss   dfl_loss  Instances       Size\n"
     ]
    },
    {
     "name": "stderr",
     "output_type": "stream",
     "text": [
      "      13/40      11.3G     0.7335     0.5468     0.8161         81        70\n",
      "                 Class     Images  Instances      Box(P          R      mAP5"
     ]
    },
    {
     "name": "stdout",
     "output_type": "stream",
     "text": [
      "                   all         93       1358      0.836      0.884      0.918      0.721\n"
     ]
    },
    {
     "name": "stderr",
     "output_type": "stream",
     "text": [
      "\n"
     ]
    },
    {
     "name": "stdout",
     "output_type": "stream",
     "text": [
      "\n",
      "      Epoch    GPU_mem   box_loss   cls_loss   dfl_loss  Instances       Size\n"
     ]
    },
    {
     "name": "stderr",
     "output_type": "stream",
     "text": [
      "      14/40      11.3G      0.745     0.5492     0.8166         79        70\n",
      "                 Class     Images  Instances      Box(P          R      mAP5"
     ]
    },
    {
     "name": "stdout",
     "output_type": "stream",
     "text": [
      "                   all         93       1358      0.838      0.883      0.916      0.726\n"
     ]
    },
    {
     "name": "stderr",
     "output_type": "stream",
     "text": [
      "\n"
     ]
    },
    {
     "name": "stdout",
     "output_type": "stream",
     "text": [
      "\n",
      "      Epoch    GPU_mem   box_loss   cls_loss   dfl_loss  Instances       Size\n"
     ]
    },
    {
     "name": "stderr",
     "output_type": "stream",
     "text": [
      "      15/40      11.5G     0.7473     0.5485     0.8188         97        70\n",
      "                 Class     Images  Instances      Box(P          R      mAP5"
     ]
    },
    {
     "name": "stdout",
     "output_type": "stream",
     "text": [
      "                   all         93       1358      0.837      0.881      0.916      0.723\n"
     ]
    },
    {
     "name": "stderr",
     "output_type": "stream",
     "text": [
      "\n"
     ]
    },
    {
     "name": "stdout",
     "output_type": "stream",
     "text": [
      "\n",
      "      Epoch    GPU_mem   box_loss   cls_loss   dfl_loss  Instances       Size\n"
     ]
    },
    {
     "name": "stderr",
     "output_type": "stream",
     "text": [
      "      16/40      11.3G     0.7499     0.5572     0.8152        160        70\n",
      "                 Class     Images  Instances      Box(P          R      mAP5"
     ]
    },
    {
     "name": "stdout",
     "output_type": "stream",
     "text": [
      "                   all         93       1358      0.834      0.885      0.917      0.721\n"
     ]
    },
    {
     "name": "stderr",
     "output_type": "stream",
     "text": [
      "\n"
     ]
    },
    {
     "name": "stdout",
     "output_type": "stream",
     "text": [
      "\n",
      "      Epoch    GPU_mem   box_loss   cls_loss   dfl_loss  Instances       Size\n"
     ]
    },
    {
     "name": "stderr",
     "output_type": "stream",
     "text": [
      "      17/40      11.3G     0.7644     0.5759     0.8256        189        70\n",
      "                 Class     Images  Instances      Box(P          R      mAP5"
     ]
    },
    {
     "name": "stdout",
     "output_type": "stream",
     "text": [
      "                   all         93       1358      0.834      0.883      0.916      0.719\n"
     ]
    },
    {
     "name": "stderr",
     "output_type": "stream",
     "text": [
      "\n"
     ]
    },
    {
     "name": "stdout",
     "output_type": "stream",
     "text": [
      "\n",
      "      Epoch    GPU_mem   box_loss   cls_loss   dfl_loss  Instances       Size\n"
     ]
    },
    {
     "name": "stderr",
     "output_type": "stream",
     "text": [
      "      18/40      11.3G     0.7549     0.5652     0.8187        139        70\n",
      "                 Class     Images  Instances      Box(P          R      mAP5"
     ]
    },
    {
     "name": "stdout",
     "output_type": "stream",
     "text": [
      "                   all         93       1358      0.834      0.887      0.916       0.72\n"
     ]
    },
    {
     "name": "stderr",
     "output_type": "stream",
     "text": [
      "\n"
     ]
    },
    {
     "name": "stdout",
     "output_type": "stream",
     "text": [
      "\n",
      "      Epoch    GPU_mem   box_loss   cls_loss   dfl_loss  Instances       Size\n"
     ]
    },
    {
     "name": "stderr",
     "output_type": "stream",
     "text": [
      "      19/40      11.3G     0.7472     0.5594     0.8184        157        70\n",
      "                 Class     Images  Instances      Box(P          R      mAP5"
     ]
    },
    {
     "name": "stdout",
     "output_type": "stream",
     "text": [
      "                   all         93       1358      0.838      0.883      0.916       0.72\n"
     ]
    },
    {
     "name": "stderr",
     "output_type": "stream",
     "text": [
      "\n"
     ]
    },
    {
     "name": "stdout",
     "output_type": "stream",
     "text": [
      "\n",
      "      Epoch    GPU_mem   box_loss   cls_loss   dfl_loss  Instances       Size\n"
     ]
    },
    {
     "name": "stderr",
     "output_type": "stream",
     "text": [
      "      20/40      11.3G     0.7397     0.5424     0.8122         62        70\n",
      "                 Class     Images  Instances      Box(P          R      mAP5"
     ]
    },
    {
     "name": "stdout",
     "output_type": "stream",
     "text": [
      "                   all         93       1358      0.839       0.88      0.917      0.707\n"
     ]
    },
    {
     "name": "stderr",
     "output_type": "stream",
     "text": [
      "\n"
     ]
    },
    {
     "name": "stdout",
     "output_type": "stream",
     "text": [
      "\n",
      "      Epoch    GPU_mem   box_loss   cls_loss   dfl_loss  Instances       Size\n"
     ]
    },
    {
     "name": "stderr",
     "output_type": "stream",
     "text": [
      "      21/40      11.3G     0.7388     0.5501     0.8192         91        70\n",
      "                 Class     Images  Instances      Box(P          R      mAP5"
     ]
    },
    {
     "name": "stdout",
     "output_type": "stream",
     "text": [
      "                   all         93       1358      0.838      0.886      0.917      0.713\n"
     ]
    },
    {
     "name": "stderr",
     "output_type": "stream",
     "text": [
      "\n"
     ]
    },
    {
     "name": "stdout",
     "output_type": "stream",
     "text": [
      "\n",
      "      Epoch    GPU_mem   box_loss   cls_loss   dfl_loss  Instances       Size\n"
     ]
    },
    {
     "name": "stderr",
     "output_type": "stream",
     "text": [
      "      22/40      11.3G     0.7537     0.5619     0.8158         47        70\n",
      "                 Class     Images  Instances      Box(P          R      mAP5"
     ]
    },
    {
     "name": "stdout",
     "output_type": "stream",
     "text": [
      "                   all         93       1358      0.834      0.884      0.917      0.721\n"
     ]
    },
    {
     "name": "stderr",
     "output_type": "stream",
     "text": [
      "\n"
     ]
    },
    {
     "name": "stdout",
     "output_type": "stream",
     "text": [
      "\n",
      "      Epoch    GPU_mem   box_loss   cls_loss   dfl_loss  Instances       Size\n"
     ]
    },
    {
     "name": "stderr",
     "output_type": "stream",
     "text": [
      "      23/40      11.5G     0.7462     0.5543     0.8129         71        70\n",
      "                 Class     Images  Instances      Box(P          R      mAP5"
     ]
    },
    {
     "name": "stdout",
     "output_type": "stream",
     "text": [
      "                   all         93       1358      0.835      0.883      0.916      0.724\n"
     ]
    },
    {
     "name": "stderr",
     "output_type": "stream",
     "text": [
      "\n"
     ]
    },
    {
     "name": "stdout",
     "output_type": "stream",
     "text": [
      "\n",
      "      Epoch    GPU_mem   box_loss   cls_loss   dfl_loss  Instances       Size\n"
     ]
    },
    {
     "name": "stderr",
     "output_type": "stream",
     "text": [
      "      24/40      11.3G     0.7352     0.5478     0.8141         65        70\n",
      "                 Class     Images  Instances      Box(P          R      mAP5"
     ]
    },
    {
     "name": "stdout",
     "output_type": "stream",
     "text": [
      "                   all         93       1358      0.838      0.884      0.917      0.721\n"
     ]
    },
    {
     "name": "stderr",
     "output_type": "stream",
     "text": [
      "\n"
     ]
    },
    {
     "name": "stdout",
     "output_type": "stream",
     "text": [
      "\n",
      "      Epoch    GPU_mem   box_loss   cls_loss   dfl_loss  Instances       Size\n"
     ]
    },
    {
     "name": "stderr",
     "output_type": "stream",
     "text": [
      "      25/40      11.3G     0.7389      0.558     0.8203        112        70\n",
      "                 Class     Images  Instances      Box(P          R      mAP5"
     ]
    },
    {
     "name": "stdout",
     "output_type": "stream",
     "text": [
      "                   all         93       1358      0.845      0.876      0.916      0.724\n"
     ]
    },
    {
     "name": "stderr",
     "output_type": "stream",
     "text": [
      "\n"
     ]
    },
    {
     "name": "stdout",
     "output_type": "stream",
     "text": [
      "\n",
      "      Epoch    GPU_mem   box_loss   cls_loss   dfl_loss  Instances       Size\n"
     ]
    },
    {
     "name": "stderr",
     "output_type": "stream",
     "text": [
      "      26/40      11.3G     0.7418     0.5495     0.8193         52        70\n",
      "                 Class     Images  Instances      Box(P          R      mAP5"
     ]
    },
    {
     "name": "stdout",
     "output_type": "stream",
     "text": [
      "                   all         93       1358      0.842      0.878      0.917      0.721\n"
     ]
    },
    {
     "name": "stderr",
     "output_type": "stream",
     "text": [
      "\n"
     ]
    },
    {
     "name": "stdout",
     "output_type": "stream",
     "text": [
      "\n",
      "      Epoch    GPU_mem   box_loss   cls_loss   dfl_loss  Instances       Size\n"
     ]
    },
    {
     "name": "stderr",
     "output_type": "stream",
     "text": [
      "      27/40      11.3G     0.7422     0.5606     0.8157        145        70\n",
      "                 Class     Images  Instances      Box(P          R      mAP5"
     ]
    },
    {
     "name": "stdout",
     "output_type": "stream",
     "text": [
      "                   all         93       1358      0.832      0.887      0.917      0.719\n"
     ]
    },
    {
     "name": "stderr",
     "output_type": "stream",
     "text": [
      "\n"
     ]
    },
    {
     "name": "stdout",
     "output_type": "stream",
     "text": [
      "\n",
      "      Epoch    GPU_mem   box_loss   cls_loss   dfl_loss  Instances       Size\n"
     ]
    },
    {
     "name": "stderr",
     "output_type": "stream",
     "text": [
      "      28/40      11.3G     0.7431      0.542     0.8175        136        70\n",
      "                 Class     Images  Instances      Box(P          R      mAP5"
     ]
    },
    {
     "name": "stdout",
     "output_type": "stream",
     "text": [
      "                   all         93       1358      0.835      0.887      0.917      0.721\n"
     ]
    },
    {
     "name": "stderr",
     "output_type": "stream",
     "text": [
      "\n"
     ]
    },
    {
     "name": "stdout",
     "output_type": "stream",
     "text": [
      "\n",
      "      Epoch    GPU_mem   box_loss   cls_loss   dfl_loss  Instances       Size\n"
     ]
    },
    {
     "name": "stderr",
     "output_type": "stream",
     "text": [
      "      29/40      11.3G     0.7404     0.5456     0.8172         74        70\n",
      "                 Class     Images  Instances      Box(P          R      mAP5"
     ]
    },
    {
     "name": "stdout",
     "output_type": "stream",
     "text": [
      "                   all         93       1358      0.839      0.884      0.917      0.719\n"
     ]
    },
    {
     "name": "stderr",
     "output_type": "stream",
     "text": [
      "\n"
     ]
    },
    {
     "name": "stdout",
     "output_type": "stream",
     "text": [
      "\n",
      "      Epoch    GPU_mem   box_loss   cls_loss   dfl_loss  Instances       Size\n"
     ]
    },
    {
     "name": "stderr",
     "output_type": "stream",
     "text": [
      "      30/40      11.3G     0.7352     0.5723     0.8069         66        70\n",
      "                 Class     Images  Instances      Box(P          R      mAP5"
     ]
    },
    {
     "name": "stdout",
     "output_type": "stream",
     "text": [
      "                   all         93       1358      0.838      0.885      0.917       0.72\n"
     ]
    },
    {
     "name": "stderr",
     "output_type": "stream",
     "text": [
      "\n"
     ]
    },
    {
     "name": "stdout",
     "output_type": "stream",
     "text": [
      "\n",
      "      Epoch    GPU_mem   box_loss   cls_loss   dfl_loss  Instances       Size\n"
     ]
    },
    {
     "name": "stderr",
     "output_type": "stream",
     "text": [
      "      31/40      11.5G     0.7322     0.5473     0.8132         56        70\n",
      "                 Class     Images  Instances      Box(P          R      mAP5"
     ]
    },
    {
     "name": "stdout",
     "output_type": "stream",
     "text": [
      "                   all         93       1358      0.833      0.885      0.917       0.72\n"
     ]
    },
    {
     "name": "stderr",
     "output_type": "stream",
     "text": [
      "\n"
     ]
    },
    {
     "name": "stdout",
     "output_type": "stream",
     "text": [
      "\n",
      "      Epoch    GPU_mem   box_loss   cls_loss   dfl_loss  Instances       Size\n"
     ]
    },
    {
     "name": "stderr",
     "output_type": "stream",
     "text": [
      "      32/40      11.3G     0.7405      0.554     0.8194         88        70\n",
      "                 Class     Images  Instances      Box(P          R      mAP5"
     ]
    },
    {
     "name": "stdout",
     "output_type": "stream",
     "text": [
      "                   all         93       1358      0.838      0.884      0.917       0.72\n"
     ]
    },
    {
     "name": "stderr",
     "output_type": "stream",
     "text": [
      "\n"
     ]
    },
    {
     "name": "stdout",
     "output_type": "stream",
     "text": [
      "\n",
      "      Epoch    GPU_mem   box_loss   cls_loss   dfl_loss  Instances       Size\n"
     ]
    },
    {
     "name": "stderr",
     "output_type": "stream",
     "text": [
      "      33/40      11.3G     0.7316     0.5517     0.8129         91        70\n",
      "                 Class     Images  Instances      Box(P          R      mAP5"
     ]
    },
    {
     "name": "stdout",
     "output_type": "stream",
     "text": [
      "                   all         93       1358      0.841      0.882      0.917      0.719\n"
     ]
    },
    {
     "name": "stderr",
     "output_type": "stream",
     "text": [
      "\n"
     ]
    },
    {
     "name": "stdout",
     "output_type": "stream",
     "text": [
      "\n",
      "      Epoch    GPU_mem   box_loss   cls_loss   dfl_loss  Instances       Size\n"
     ]
    },
    {
     "name": "stderr",
     "output_type": "stream",
     "text": [
      "      34/40      11.3G      0.753       0.57     0.8243         58        70\n",
      "                 Class     Images  Instances      Box(P          R      mAP5"
     ]
    },
    {
     "name": "stdout",
     "output_type": "stream",
     "text": [
      "                   all         93       1358      0.839      0.881      0.917      0.718\n"
     ]
    },
    {
     "name": "stderr",
     "output_type": "stream",
     "text": [
      "\n"
     ]
    },
    {
     "name": "stdout",
     "output_type": "stream",
     "text": [
      "\n",
      "      Epoch    GPU_mem   box_loss   cls_loss   dfl_loss  Instances       Size\n"
     ]
    },
    {
     "name": "stderr",
     "output_type": "stream",
     "text": [
      "      35/40      11.3G     0.7433      0.552     0.8159        121        70\n",
      "                 Class     Images  Instances      Box(P          R      mAP5"
     ]
    },
    {
     "name": "stdout",
     "output_type": "stream",
     "text": [
      "                   all         93       1358      0.831      0.891      0.917      0.717\n"
     ]
    },
    {
     "name": "stderr",
     "output_type": "stream",
     "text": [
      "\n"
     ]
    },
    {
     "name": "stdout",
     "output_type": "stream",
     "text": [
      "\n",
      "      Epoch    GPU_mem   box_loss   cls_loss   dfl_loss  Instances       Size\n"
     ]
    },
    {
     "name": "stderr",
     "output_type": "stream",
     "text": [
      "      36/40      11.3G     0.7306     0.5314     0.8136         64        70\n",
      "                 Class     Images  Instances      Box(P          R      mAP5"
     ]
    },
    {
     "name": "stdout",
     "output_type": "stream",
     "text": [
      "                   all         93       1358      0.842       0.88      0.917      0.718\n"
     ]
    },
    {
     "name": "stderr",
     "output_type": "stream",
     "text": [
      "\n"
     ]
    },
    {
     "name": "stdout",
     "output_type": "stream",
     "text": [
      "\n",
      "      Epoch    GPU_mem   box_loss   cls_loss   dfl_loss  Instances       Size\n"
     ]
    },
    {
     "name": "stderr",
     "output_type": "stream",
     "text": [
      "      37/40      11.3G      0.739     0.5534     0.8173        111        70\n",
      "                 Class     Images  Instances      Box(P          R      mAP5"
     ]
    },
    {
     "name": "stdout",
     "output_type": "stream",
     "text": [
      "                   all         93       1358       0.84       0.88      0.917      0.715\n"
     ]
    },
    {
     "name": "stderr",
     "output_type": "stream",
     "text": [
      "\n"
     ]
    },
    {
     "name": "stdout",
     "output_type": "stream",
     "text": [
      "\n",
      "      Epoch    GPU_mem   box_loss   cls_loss   dfl_loss  Instances       Size\n"
     ]
    },
    {
     "name": "stderr",
     "output_type": "stream",
     "text": [
      "      38/40      11.3G     0.7253     0.5371      0.813         89        70\n",
      "                 Class     Images  Instances      Box(P          R      mAP5"
     ]
    },
    {
     "name": "stdout",
     "output_type": "stream",
     "text": [
      "                   all         93       1358      0.843      0.879      0.917      0.719\n"
     ]
    },
    {
     "name": "stderr",
     "output_type": "stream",
     "text": [
      "\n"
     ]
    },
    {
     "name": "stdout",
     "output_type": "stream",
     "text": [
      "\n",
      "      Epoch    GPU_mem   box_loss   cls_loss   dfl_loss  Instances       Size\n"
     ]
    },
    {
     "name": "stderr",
     "output_type": "stream",
     "text": [
      "      39/40      11.5G     0.7766     0.5707     0.8284         85        70\n",
      "                 Class     Images  Instances      Box(P          R      mAP5"
     ]
    },
    {
     "name": "stdout",
     "output_type": "stream",
     "text": [
      "                   all         93       1358      0.837      0.887      0.917       0.72\n"
     ]
    },
    {
     "name": "stderr",
     "output_type": "stream",
     "text": [
      "\n"
     ]
    },
    {
     "name": "stdout",
     "output_type": "stream",
     "text": [
      "\n",
      "      Epoch    GPU_mem   box_loss   cls_loss   dfl_loss  Instances       Size\n"
     ]
    },
    {
     "name": "stderr",
     "output_type": "stream",
     "text": [
      "      40/40      11.3G     0.7445     0.5489     0.8179         83        70\n",
      "                 Class     Images  Instances      Box(P          R      mAP5"
     ]
    },
    {
     "name": "stdout",
     "output_type": "stream",
     "text": [
      "                   all         93       1358      0.838      0.887      0.918      0.721\n"
     ]
    },
    {
     "name": "stderr",
     "output_type": "stream",
     "text": [
      "\n"
     ]
    },
    {
     "name": "stdout",
     "output_type": "stream",
     "text": [
      "\n",
      "40 epochs completed in 0.567 hours.\n",
      "Optimizer stripped from runs/detect/final_model_yolov12l_kfold/fold_2/weights/last.pt, 53.5MB\n",
      "Optimizer stripped from runs/detect/final_model_yolov12l_kfold/fold_2/weights/best.pt, 53.5MB\n",
      "\n",
      "Validating runs/detect/final_model_yolov12l_kfold/fold_2/weights/best.pt...\n",
      "Ultralytics 8.3.169 🚀 Python-3.11.13 torch-2.6.0+cu124 CUDA:0 (NVIDIA TITAN Xp, 12190MiB)\n",
      "YOLOv12l summary (fused): 283 layers, 26,339,843 parameters, 0 gradients, 88.5 GFLOPs\n"
     ]
    },
    {
     "name": "stderr",
     "output_type": "stream",
     "text": [
      "                 Class     Images  Instances      Box(P          R      mAP5\n"
     ]
    },
    {
     "name": "stdout",
     "output_type": "stream",
     "text": [
      "                   all         93       1358      0.837      0.883      0.916      0.725\n",
      "Speed: 0.2ms preprocess, 34.1ms inference, 0.0ms loss, 1.2ms postprocess per image\n",
      "Results saved to \u001b[1mruns/detect/final_model_yolov12l_kfold/fold_2\u001b[0m\n",
      "\n",
      "==================================================\n",
      "Entrenando fold_3 (3/4)\n",
      "==================================================\n",
      "New https://pypi.org/project/ultralytics/8.3.186 available 😃 Update with 'pip install -U ultralytics'\n",
      "Ultralytics 8.3.169 🚀 Python-3.11.13 torch-2.6.0+cu124 CUDA:0 (NVIDIA TITAN Xp, 12190MiB)\n",
      "\u001b[34m\u001b[1mengine/trainer: \u001b[0magnostic_nms=False, amp=True, augment=False, auto_augment=randaugment, batch=8, bgr=0.0, box=7.5, cache=False, cfg=None, classes=None, close_mosaic=0, cls=0.5, conf=None, copy_paste=0.0, copy_paste_mode=flip, cos_lr=False, cutmix=0.0, data=kfold/fold_3/data.yaml, degrees=45, deterministic=True, device=None, dfl=1.5, dnn=False, dropout=0.0, dynamic=False, embed=None, epochs=40, erasing=0.4, exist_ok=False, fliplr=0.5, flipud=0.5, format=torchscript, fraction=1.0, freeze=None, half=False, hsv_h=0.015, hsv_s=0.7, hsv_v=0.4, imgsz=704, int8=False, iou=0.7, keras=False, kobj=1.0, line_width=None, lr0=0.00019010245319870352, lrf=0.001959497205867916, mask_ratio=4, max_det=300, mixup=0.0, mode=train, model=yolo/yolo_models/yolo12l.pt, momentum=0.8549542764940538, mosaic=0, multi_scale=False, name=fold_3, nbs=64, nms=False, opset=None, optimize=False, optimizer=SGD, overlap_mask=True, patience=100, perspective=0.0, plots=True, pose=12.0, pretrained=True, profile=False, project=None, rect=False, resume=False, retina_masks=False, save=True, save_conf=False, save_crop=False, save_dir=runs/detect/final_model_yolov12l_kfold/fold_3, save_frames=False, save_json=False, save_period=-1, save_txt=False, scale=0.06, seed=42, shear=0.0, show=False, show_boxes=True, show_conf=True, show_labels=True, simplify=True, single_cls=False, source=None, split=val, stream_buffer=False, task=detect, time=None, tracker=botsort.yaml, translate=0.1, val=True, verbose=False, vid_stride=1, visualize=False, warmup_bias_lr=0.1, warmup_epochs=5, warmup_momentum=0.75, weight_decay=0.0002858051065806936, workers=0, workspace=None\n",
      "\n",
      "                   from  n    params  module                                       arguments                     \n",
      "  0                  -1  1      1856  ultralytics.nn.modules.conv.Conv             [3, 64, 3, 2]                 \n",
      "  1                  -1  1     73984  ultralytics.nn.modules.conv.Conv             [64, 128, 3, 2]               \n",
      "  2                  -1  2    173824  ultralytics.nn.modules.block.C3k2            [128, 256, 2, True, 0.25]     \n",
      "  3                  -1  1    590336  ultralytics.nn.modules.conv.Conv             [256, 256, 3, 2]              \n",
      "  4                  -1  2    691712  ultralytics.nn.modules.block.C3k2            [256, 512, 2, True, 0.25]     \n",
      "  5                  -1  1   2360320  ultralytics.nn.modules.conv.Conv             [512, 512, 3, 2]              \n",
      "  6                  -1  4   4272944  ultralytics.nn.modules.block.A2C2f           [512, 512, 4, True, 4, True, 1.2]\n",
      "  7                  -1  1   2360320  ultralytics.nn.modules.conv.Conv             [512, 512, 3, 2]              \n",
      "  8                  -1  4   4272944  ultralytics.nn.modules.block.A2C2f           [512, 512, 4, True, 1, True, 1.2]\n",
      "  9                  -1  1         0  torch.nn.modules.upsampling.Upsample         [None, 2, 'nearest']          \n",
      " 10             [-1, 6]  1         0  ultralytics.nn.modules.conv.Concat           [1]                           \n",
      " 11                  -1  2   2102784  ultralytics.nn.modules.block.A2C2f           [1024, 512, 2, False, -1, True, 1.2]\n",
      " 12                  -1  1         0  torch.nn.modules.upsampling.Upsample         [None, 2, 'nearest']          \n",
      " 13             [-1, 4]  1         0  ultralytics.nn.modules.conv.Concat           [1]                           \n",
      " 14                  -1  2    592640  ultralytics.nn.modules.block.A2C2f           [1024, 256, 2, False, -1, True, 1.2]\n",
      " 15                  -1  1    590336  ultralytics.nn.modules.conv.Conv             [256, 256, 3, 2]              \n",
      " 16            [-1, 11]  1         0  ultralytics.nn.modules.conv.Concat           [1]                           \n",
      " 17                  -1  2   2037248  ultralytics.nn.modules.block.A2C2f           [768, 512, 2, False, -1, True, 1.2]\n",
      " 18                  -1  1   2360320  ultralytics.nn.modules.conv.Conv             [512, 512, 3, 2]              \n",
      " 19             [-1, 8]  1         0  ultralytics.nn.modules.conv.Concat           [1]                           \n",
      " 20                  -1  2   2496512  ultralytics.nn.modules.block.C3k2            [1024, 512, 2, True]          \n",
      " 21        [14, 17, 20]  1   1411795  ultralytics.nn.modules.head.Detect           [1, [256, 512, 512]]          \n",
      "YOLOv12l summary: 488 layers, 26,389,875 parameters, 26,389,859 gradients, 89.4 GFLOPs\n",
      "\n",
      "Transferred 1245/1245 items from pretrained weights\n",
      "Freezing layer 'model.21.dfl.conv.weight'\n",
      "\u001b[34m\u001b[1mAMP: \u001b[0mrunning Automatic Mixed Precision (AMP) checks...\n",
      "\u001b[34m\u001b[1mAMP: \u001b[0mchecks passed ✅\n",
      "\u001b[34m\u001b[1mtrain: \u001b[0mFast image access ✅ (ping: 0.0±0.0 ms, read: 1813.8±359.4 MB/s, size: 90.0 KB)\n"
     ]
    },
    {
     "name": "stderr",
     "output_type": "stream",
     "text": [
      "\u001b[34m\u001b[1mtrain: \u001b[0mScanning /home/aitor/tfm/04.Codigo/kfold/fold_3/train/labels.cache...\u001b[0m"
     ]
    },
    {
     "name": "stdout",
     "output_type": "stream",
     "text": [
      "\u001b[34m\u001b[1mval: \u001b[0mFast image access ✅ (ping: 0.0±0.0 ms, read: 1926.9±100.6 MB/s, size: 96.2 KB)\n"
     ]
    },
    {
     "name": "stderr",
     "output_type": "stream",
     "text": [
      "\n",
      "\u001b[34m\u001b[1mval: \u001b[0mScanning /home/aitor/tfm/04.Codigo/kfold/fold_3/val/labels.cache... 93 \u001b[0m"
     ]
    },
    {
     "name": "stdout",
     "output_type": "stream",
     "text": [
      "Plotting labels to runs/detect/final_model_yolov12l_kfold/fold_3/labels.jpg... \n"
     ]
    },
    {
     "name": "stderr",
     "output_type": "stream",
     "text": [
      "\n"
     ]
    },
    {
     "name": "stdout",
     "output_type": "stream",
     "text": [
      "\u001b[34m\u001b[1moptimizer:\u001b[0m SGD(lr=0.00019010245319870352, momentum=0.8549542764940538) with parameter groups 205 weight(decay=0.0), 214 weight(decay=0.0002858051065806936), 211 bias(decay=0.0)\n",
      "Image sizes 704 train, 704 val\n",
      "Using 0 dataloader workers\n",
      "Logging results to \u001b[1mruns/detect/final_model_yolov12l_kfold/fold_3\u001b[0m\n",
      "Starting training for 40 epochs...\n",
      "\n",
      "      Epoch    GPU_mem   box_loss   cls_loss   dfl_loss  Instances       Size\n"
     ]
    },
    {
     "name": "stderr",
     "output_type": "stream",
     "text": [
      "       1/40      11.2G     0.7689     0.5446     0.8244         60        70\n",
      "                 Class     Images  Instances      Box(P          R      mAP5"
     ]
    },
    {
     "name": "stdout",
     "output_type": "stream",
     "text": [
      "                   all         93       1207      0.836      0.866      0.914      0.722\n"
     ]
    },
    {
     "name": "stderr",
     "output_type": "stream",
     "text": [
      "\n"
     ]
    },
    {
     "name": "stdout",
     "output_type": "stream",
     "text": [
      "\n",
      "      Epoch    GPU_mem   box_loss   cls_loss   dfl_loss  Instances       Size\n"
     ]
    },
    {
     "name": "stderr",
     "output_type": "stream",
     "text": [
      "       2/40      11.5G     0.7464     0.5497     0.8179         69        70\n",
      "                 Class     Images  Instances      Box(P          R      mAP5"
     ]
    },
    {
     "name": "stdout",
     "output_type": "stream",
     "text": [
      "                   all         93       1207      0.845      0.855      0.914      0.728\n"
     ]
    },
    {
     "name": "stderr",
     "output_type": "stream",
     "text": [
      "\n"
     ]
    },
    {
     "name": "stdout",
     "output_type": "stream",
     "text": [
      "\n",
      "      Epoch    GPU_mem   box_loss   cls_loss   dfl_loss  Instances       Size\n"
     ]
    },
    {
     "name": "stderr",
     "output_type": "stream",
     "text": [
      "       3/40      11.3G     0.7489     0.5589     0.8127        121        70\n",
      "                 Class     Images  Instances      Box(P          R      mAP5"
     ]
    },
    {
     "name": "stdout",
     "output_type": "stream",
     "text": [
      "                   all         93       1207      0.841      0.862      0.914      0.716\n"
     ]
    },
    {
     "name": "stderr",
     "output_type": "stream",
     "text": [
      "\n"
     ]
    },
    {
     "name": "stdout",
     "output_type": "stream",
     "text": [
      "\n",
      "      Epoch    GPU_mem   box_loss   cls_loss   dfl_loss  Instances       Size\n"
     ]
    },
    {
     "name": "stderr",
     "output_type": "stream",
     "text": [
      "       4/40      11.5G      0.752     0.5515     0.8158        139        70\n",
      "                 Class     Images  Instances      Box(P          R      mAP5"
     ]
    },
    {
     "name": "stdout",
     "output_type": "stream",
     "text": [
      "                   all         93       1207      0.837      0.862      0.913      0.717\n"
     ]
    },
    {
     "name": "stderr",
     "output_type": "stream",
     "text": [
      "\n"
     ]
    },
    {
     "name": "stdout",
     "output_type": "stream",
     "text": [
      "\n",
      "      Epoch    GPU_mem   box_loss   cls_loss   dfl_loss  Instances       Size\n"
     ]
    },
    {
     "name": "stderr",
     "output_type": "stream",
     "text": [
      "       5/40      11.3G     0.7436     0.5497     0.8227        110        70\n",
      "                 Class     Images  Instances      Box(P          R      mAP5"
     ]
    },
    {
     "name": "stdout",
     "output_type": "stream",
     "text": [
      "                   all         93       1207      0.838      0.864      0.915      0.721\n"
     ]
    },
    {
     "name": "stderr",
     "output_type": "stream",
     "text": [
      "\n"
     ]
    },
    {
     "name": "stdout",
     "output_type": "stream",
     "text": [
      "\n",
      "      Epoch    GPU_mem   box_loss   cls_loss   dfl_loss  Instances       Size\n"
     ]
    },
    {
     "name": "stderr",
     "output_type": "stream",
     "text": [
      "       6/40      11.4G     0.7549     0.5461     0.8175         63        70\n",
      "                 Class     Images  Instances      Box(P          R      mAP5"
     ]
    },
    {
     "name": "stdout",
     "output_type": "stream",
     "text": [
      "                   all         93       1207      0.837      0.862      0.914      0.726\n"
     ]
    },
    {
     "name": "stderr",
     "output_type": "stream",
     "text": [
      "\n"
     ]
    },
    {
     "name": "stdout",
     "output_type": "stream",
     "text": [
      "\n",
      "      Epoch    GPU_mem   box_loss   cls_loss   dfl_loss  Instances       Size\n"
     ]
    },
    {
     "name": "stderr",
     "output_type": "stream",
     "text": [
      "       7/40      11.5G     0.7576     0.5493     0.8157        186        70\n",
      "                 Class     Images  Instances      Box(P          R      mAP5"
     ]
    },
    {
     "name": "stdout",
     "output_type": "stream",
     "text": [
      "                   all         93       1207      0.838      0.861      0.913      0.726\n"
     ]
    },
    {
     "name": "stderr",
     "output_type": "stream",
     "text": [
      "\n"
     ]
    },
    {
     "name": "stdout",
     "output_type": "stream",
     "text": [
      "\n",
      "      Epoch    GPU_mem   box_loss   cls_loss   dfl_loss  Instances       Size\n"
     ]
    },
    {
     "name": "stderr",
     "output_type": "stream",
     "text": [
      "       8/40      11.3G      0.761     0.5467      0.819        162        70\n",
      "                 Class     Images  Instances      Box(P          R      mAP5"
     ]
    },
    {
     "name": "stdout",
     "output_type": "stream",
     "text": [
      "                   all         93       1207      0.842      0.859      0.914      0.726\n"
     ]
    },
    {
     "name": "stderr",
     "output_type": "stream",
     "text": [
      "\n"
     ]
    },
    {
     "name": "stdout",
     "output_type": "stream",
     "text": [
      "\n",
      "      Epoch    GPU_mem   box_loss   cls_loss   dfl_loss  Instances       Size\n"
     ]
    },
    {
     "name": "stderr",
     "output_type": "stream",
     "text": [
      "       9/40      11.3G     0.7575     0.5464     0.8204         29        70\n",
      "                 Class     Images  Instances      Box(P          R      mAP5"
     ]
    },
    {
     "name": "stdout",
     "output_type": "stream",
     "text": [
      "                   all         93       1207      0.837      0.862      0.914      0.726\n"
     ]
    },
    {
     "name": "stderr",
     "output_type": "stream",
     "text": [
      "\n"
     ]
    },
    {
     "name": "stdout",
     "output_type": "stream",
     "text": [
      "\n",
      "      Epoch    GPU_mem   box_loss   cls_loss   dfl_loss  Instances       Size\n"
     ]
    },
    {
     "name": "stderr",
     "output_type": "stream",
     "text": [
      "      10/40      11.3G     0.7549       0.55     0.8185        169        70\n",
      "                 Class     Images  Instances      Box(P          R      mAP5"
     ]
    },
    {
     "name": "stdout",
     "output_type": "stream",
     "text": [
      "                   all         93       1207      0.828      0.872      0.914      0.723\n"
     ]
    },
    {
     "name": "stderr",
     "output_type": "stream",
     "text": [
      "\n"
     ]
    },
    {
     "name": "stdout",
     "output_type": "stream",
     "text": [
      "\n",
      "      Epoch    GPU_mem   box_loss   cls_loss   dfl_loss  Instances       Size\n"
     ]
    },
    {
     "name": "stderr",
     "output_type": "stream",
     "text": [
      "      11/40      11.3G     0.7425     0.5524     0.8129         96        70\n",
      "                 Class     Images  Instances      Box(P          R      mAP5"
     ]
    },
    {
     "name": "stdout",
     "output_type": "stream",
     "text": [
      "                   all         93       1207      0.845      0.855      0.914      0.725\n"
     ]
    },
    {
     "name": "stderr",
     "output_type": "stream",
     "text": [
      "\n"
     ]
    },
    {
     "name": "stdout",
     "output_type": "stream",
     "text": [
      "\n",
      "      Epoch    GPU_mem   box_loss   cls_loss   dfl_loss  Instances       Size\n"
     ]
    },
    {
     "name": "stderr",
     "output_type": "stream",
     "text": [
      "      12/40      11.3G      0.751     0.5545     0.8178         91        70\n",
      "                 Class     Images  Instances      Box(P          R      mAP5"
     ]
    },
    {
     "name": "stdout",
     "output_type": "stream",
     "text": [
      "                   all         93       1207      0.843      0.858      0.914      0.728\n"
     ]
    },
    {
     "name": "stderr",
     "output_type": "stream",
     "text": [
      "\n"
     ]
    },
    {
     "name": "stdout",
     "output_type": "stream",
     "text": [
      "\n",
      "      Epoch    GPU_mem   box_loss   cls_loss   dfl_loss  Instances       Size\n"
     ]
    },
    {
     "name": "stderr",
     "output_type": "stream",
     "text": [
      "      13/40      11.3G     0.7387     0.5472     0.8179         58        70\n",
      "                 Class     Images  Instances      Box(P          R      mAP5"
     ]
    },
    {
     "name": "stdout",
     "output_type": "stream",
     "text": [
      "                   all         93       1207      0.832      0.872      0.914       0.72\n"
     ]
    },
    {
     "name": "stderr",
     "output_type": "stream",
     "text": [
      "\n"
     ]
    },
    {
     "name": "stdout",
     "output_type": "stream",
     "text": [
      "\n",
      "      Epoch    GPU_mem   box_loss   cls_loss   dfl_loss  Instances       Size\n"
     ]
    },
    {
     "name": "stderr",
     "output_type": "stream",
     "text": [
      "      14/40      11.3G     0.7353     0.5483     0.8157         79        70\n",
      "                 Class     Images  Instances      Box(P          R      mAP5"
     ]
    },
    {
     "name": "stdout",
     "output_type": "stream",
     "text": [
      "                   all         93       1207      0.843      0.856      0.915      0.723\n"
     ]
    },
    {
     "name": "stderr",
     "output_type": "stream",
     "text": [
      "\n"
     ]
    },
    {
     "name": "stdout",
     "output_type": "stream",
     "text": [
      "\n",
      "      Epoch    GPU_mem   box_loss   cls_loss   dfl_loss  Instances       Size\n"
     ]
    },
    {
     "name": "stderr",
     "output_type": "stream",
     "text": [
      "      17/40      11.3G     0.7519     0.5535     0.8156        128        70\n",
      "                 Class     Images  Instances      Box(P          R      mAP5"
     ]
    },
    {
     "name": "stdout",
     "output_type": "stream",
     "text": [
      "                   all         93       1207      0.845      0.857      0.914      0.723\n"
     ]
    },
    {
     "name": "stderr",
     "output_type": "stream",
     "text": [
      "\n"
     ]
    },
    {
     "name": "stdout",
     "output_type": "stream",
     "text": [
      "\n",
      "      Epoch    GPU_mem   box_loss   cls_loss   dfl_loss  Instances       Size\n"
     ]
    },
    {
     "name": "stderr",
     "output_type": "stream",
     "text": [
      "      18/40      11.3G     0.7403     0.5386      0.815         50        70\n",
      "                 Class     Images  Instances      Box(P          R      mAP5"
     ]
    },
    {
     "name": "stdout",
     "output_type": "stream",
     "text": [
      "                   all         93       1207      0.831       0.87      0.914      0.723\n"
     ]
    },
    {
     "name": "stderr",
     "output_type": "stream",
     "text": [
      "\n"
     ]
    },
    {
     "name": "stdout",
     "output_type": "stream",
     "text": [
      "\n",
      "      Epoch    GPU_mem   box_loss   cls_loss   dfl_loss  Instances       Size\n"
     ]
    },
    {
     "name": "stderr",
     "output_type": "stream",
     "text": [
      "      19/40      11.3G     0.7403     0.5447     0.8157         67        70\n",
      "                 Class     Images  Instances      Box(P          R      mAP5"
     ]
    },
    {
     "name": "stdout",
     "output_type": "stream",
     "text": [
      "                   all         93       1207      0.832       0.87      0.914      0.722\n"
     ]
    },
    {
     "name": "stderr",
     "output_type": "stream",
     "text": [
      "\n"
     ]
    },
    {
     "name": "stdout",
     "output_type": "stream",
     "text": [
      "\n",
      "      Epoch    GPU_mem   box_loss   cls_loss   dfl_loss  Instances       Size\n"
     ]
    },
    {
     "name": "stderr",
     "output_type": "stream",
     "text": [
      "      20/40      11.3G     0.7422     0.5456      0.819         52        70\n",
      "                 Class     Images  Instances      Box(P          R      mAP5"
     ]
    },
    {
     "name": "stdout",
     "output_type": "stream",
     "text": [
      "                   all         93       1207      0.844      0.857      0.915      0.726\n"
     ]
    },
    {
     "name": "stderr",
     "output_type": "stream",
     "text": [
      "\n"
     ]
    },
    {
     "name": "stdout",
     "output_type": "stream",
     "text": [
      "\n",
      "      Epoch    GPU_mem   box_loss   cls_loss   dfl_loss  Instances       Size\n"
     ]
    },
    {
     "name": "stderr",
     "output_type": "stream",
     "text": [
      "      21/40      11.3G     0.7319     0.5357     0.8179         91        70\n",
      "                 Class     Images  Instances      Box(P          R      mAP5"
     ]
    },
    {
     "name": "stdout",
     "output_type": "stream",
     "text": [
      "                   all         93       1207      0.843      0.859      0.915      0.718\n"
     ]
    },
    {
     "name": "stderr",
     "output_type": "stream",
     "text": [
      "\n"
     ]
    },
    {
     "name": "stdout",
     "output_type": "stream",
     "text": [
      "\n",
      "      Epoch    GPU_mem   box_loss   cls_loss   dfl_loss  Instances       Size\n"
     ]
    },
    {
     "name": "stderr",
     "output_type": "stream",
     "text": [
      "      22/40      11.3G     0.7413     0.5344     0.8162         59        70\n",
      "                 Class     Images  Instances      Box(P          R      mAP5"
     ]
    },
    {
     "name": "stdout",
     "output_type": "stream",
     "text": [
      "                   all         93       1207      0.843      0.857      0.914       0.72\n"
     ]
    },
    {
     "name": "stderr",
     "output_type": "stream",
     "text": [
      "\n"
     ]
    },
    {
     "name": "stdout",
     "output_type": "stream",
     "text": [
      "\n",
      "      Epoch    GPU_mem   box_loss   cls_loss   dfl_loss  Instances       Size\n"
     ]
    },
    {
     "name": "stderr",
     "output_type": "stream",
     "text": [
      "      23/40      11.5G     0.7396     0.5481     0.8141         53        70\n",
      "                 Class     Images  Instances      Box(P          R      mAP5"
     ]
    },
    {
     "name": "stdout",
     "output_type": "stream",
     "text": [
      "                   all         93       1207      0.846      0.856      0.914      0.727\n"
     ]
    },
    {
     "name": "stderr",
     "output_type": "stream",
     "text": [
      "\n"
     ]
    },
    {
     "name": "stdout",
     "output_type": "stream",
     "text": [
      "\n",
      "      Epoch    GPU_mem   box_loss   cls_loss   dfl_loss  Instances       Size\n"
     ]
    },
    {
     "name": "stderr",
     "output_type": "stream",
     "text": [
      "      24/40      11.3G     0.7509     0.5449     0.8182         77        70\n",
      "                 Class     Images  Instances      Box(P          R      mAP5"
     ]
    },
    {
     "name": "stdout",
     "output_type": "stream",
     "text": [
      "                   all         93       1207      0.848      0.855      0.914      0.721\n"
     ]
    },
    {
     "name": "stderr",
     "output_type": "stream",
     "text": [
      "\n"
     ]
    },
    {
     "name": "stdout",
     "output_type": "stream",
     "text": [
      "\n",
      "      Epoch    GPU_mem   box_loss   cls_loss   dfl_loss  Instances       Size\n"
     ]
    },
    {
     "name": "stderr",
     "output_type": "stream",
     "text": [
      "      25/40      11.3G     0.7272     0.5381     0.8142        113        70\n",
      "                 Class     Images  Instances      Box(P          R      mAP5"
     ]
    },
    {
     "name": "stdout",
     "output_type": "stream",
     "text": [
      "                   all         93       1207      0.846      0.857      0.914      0.724\n"
     ]
    },
    {
     "name": "stderr",
     "output_type": "stream",
     "text": [
      "\n"
     ]
    },
    {
     "name": "stdout",
     "output_type": "stream",
     "text": [
      "\n",
      "      Epoch    GPU_mem   box_loss   cls_loss   dfl_loss  Instances       Size\n"
     ]
    },
    {
     "name": "stderr",
     "output_type": "stream",
     "text": [
      "      26/40      11.3G     0.7442      0.537     0.8185         77        70\n",
      "                 Class     Images  Instances      Box(P          R      mAP5"
     ]
    },
    {
     "name": "stdout",
     "output_type": "stream",
     "text": [
      "                   all         93       1207       0.84      0.858      0.914      0.725\n"
     ]
    },
    {
     "name": "stderr",
     "output_type": "stream",
     "text": [
      "\n"
     ]
    },
    {
     "name": "stdout",
     "output_type": "stream",
     "text": [
      "\n",
      "      Epoch    GPU_mem   box_loss   cls_loss   dfl_loss  Instances       Size\n"
     ]
    },
    {
     "name": "stderr",
     "output_type": "stream",
     "text": [
      "      27/40      11.3G     0.7256     0.5395     0.8099        154        70\n",
      "                 Class     Images  Instances      Box(P          R      mAP5"
     ]
    },
    {
     "name": "stdout",
     "output_type": "stream",
     "text": [
      "                   all         93       1207      0.843      0.857      0.914      0.724\n"
     ]
    },
    {
     "name": "stderr",
     "output_type": "stream",
     "text": [
      "\n"
     ]
    },
    {
     "name": "stdout",
     "output_type": "stream",
     "text": [
      "\n",
      "      Epoch    GPU_mem   box_loss   cls_loss   dfl_loss  Instances       Size\n"
     ]
    },
    {
     "name": "stderr",
     "output_type": "stream",
     "text": [
      "      28/40      11.3G     0.7421     0.5348     0.8137         48        70\n",
      "                 Class     Images  Instances      Box(P          R      mAP5"
     ]
    },
    {
     "name": "stdout",
     "output_type": "stream",
     "text": [
      "                   all         93       1207      0.837      0.867      0.915      0.724\n"
     ]
    },
    {
     "name": "stderr",
     "output_type": "stream",
     "text": [
      "\n"
     ]
    },
    {
     "name": "stdout",
     "output_type": "stream",
     "text": [
      "\n",
      "      Epoch    GPU_mem   box_loss   cls_loss   dfl_loss  Instances       Size\n"
     ]
    },
    {
     "name": "stderr",
     "output_type": "stream",
     "text": [
      "      29/40      11.3G      0.738     0.5404     0.8234        130        70\n",
      "                 Class     Images  Instances      Box(P          R      mAP5"
     ]
    },
    {
     "name": "stdout",
     "output_type": "stream",
     "text": [
      "                   all         93       1207      0.839       0.86      0.915      0.724\n"
     ]
    },
    {
     "name": "stderr",
     "output_type": "stream",
     "text": [
      "\n"
     ]
    },
    {
     "name": "stdout",
     "output_type": "stream",
     "text": [
      "\n",
      "      Epoch    GPU_mem   box_loss   cls_loss   dfl_loss  Instances       Size\n"
     ]
    },
    {
     "name": "stderr",
     "output_type": "stream",
     "text": [
      "      30/40      11.3G     0.7364     0.5357     0.8127         98        70\n",
      "                 Class     Images  Instances      Box(P          R      mAP5"
     ]
    },
    {
     "name": "stdout",
     "output_type": "stream",
     "text": [
      "                   all         93       1207      0.844      0.858      0.914      0.723\n"
     ]
    },
    {
     "name": "stderr",
     "output_type": "stream",
     "text": [
      "\n"
     ]
    },
    {
     "name": "stdout",
     "output_type": "stream",
     "text": [
      "\n",
      "      Epoch    GPU_mem   box_loss   cls_loss   dfl_loss  Instances       Size\n"
     ]
    },
    {
     "name": "stderr",
     "output_type": "stream",
     "text": [
      "      31/40      11.5G     0.7405     0.5438     0.8142         51        70\n",
      "                 Class     Images  Instances      Box(P          R      mAP5"
     ]
    },
    {
     "name": "stdout",
     "output_type": "stream",
     "text": [
      "                   all         93       1207      0.839      0.861      0.915      0.721\n"
     ]
    },
    {
     "name": "stderr",
     "output_type": "stream",
     "text": [
      "\n"
     ]
    },
    {
     "name": "stdout",
     "output_type": "stream",
     "text": [
      "\n",
      "      Epoch    GPU_mem   box_loss   cls_loss   dfl_loss  Instances       Size\n"
     ]
    },
    {
     "name": "stderr",
     "output_type": "stream",
     "text": [
      "      32/40      11.3G     0.7386     0.5397     0.8149         83        70\n",
      "                 Class     Images  Instances      Box(P          R      mAP5"
     ]
    },
    {
     "name": "stdout",
     "output_type": "stream",
     "text": [
      "                   all         93       1207       0.84      0.862      0.915      0.722\n"
     ]
    },
    {
     "name": "stderr",
     "output_type": "stream",
     "text": [
      "\n"
     ]
    },
    {
     "name": "stdout",
     "output_type": "stream",
     "text": [
      "\n",
      "      Epoch    GPU_mem   box_loss   cls_loss   dfl_loss  Instances       Size\n"
     ]
    },
    {
     "name": "stderr",
     "output_type": "stream",
     "text": [
      "      33/40      11.3G     0.7373     0.5419     0.8197         51        70\n",
      "                 Class     Images  Instances      Box(P          R      mAP5"
     ]
    },
    {
     "name": "stdout",
     "output_type": "stream",
     "text": [
      "                   all         93       1207      0.841       0.86      0.914      0.723\n"
     ]
    },
    {
     "name": "stderr",
     "output_type": "stream",
     "text": [
      "\n"
     ]
    },
    {
     "name": "stdout",
     "output_type": "stream",
     "text": [
      "\n",
      "      Epoch    GPU_mem   box_loss   cls_loss   dfl_loss  Instances       Size\n"
     ]
    },
    {
     "name": "stderr",
     "output_type": "stream",
     "text": [
      "      34/40      11.3G     0.7428     0.5387     0.8219         97        70\n",
      "                 Class     Images  Instances      Box(P          R      mAP5"
     ]
    },
    {
     "name": "stdout",
     "output_type": "stream",
     "text": [
      "                   all         93       1207      0.841      0.861      0.914      0.721\n"
     ]
    },
    {
     "name": "stderr",
     "output_type": "stream",
     "text": [
      "\n"
     ]
    },
    {
     "name": "stdout",
     "output_type": "stream",
     "text": [
      "\n",
      "      Epoch    GPU_mem   box_loss   cls_loss   dfl_loss  Instances       Size\n"
     ]
    },
    {
     "name": "stderr",
     "output_type": "stream",
     "text": [
      "      35/40      11.3G     0.7489      0.541     0.8225        130        70\n",
      "                 Class     Images  Instances      Box(P          R      mAP5"
     ]
    },
    {
     "name": "stdout",
     "output_type": "stream",
     "text": [
      "                   all         93       1207      0.841      0.861      0.914       0.72\n"
     ]
    },
    {
     "name": "stderr",
     "output_type": "stream",
     "text": [
      "\n"
     ]
    },
    {
     "name": "stdout",
     "output_type": "stream",
     "text": [
      "\n",
      "      Epoch    GPU_mem   box_loss   cls_loss   dfl_loss  Instances       Size\n"
     ]
    },
    {
     "name": "stderr",
     "output_type": "stream",
     "text": [
      "      36/40      11.3G     0.7263     0.5394     0.8159        142        70\n",
      "                 Class     Images  Instances      Box(P          R      mAP5"
     ]
    },
    {
     "name": "stdout",
     "output_type": "stream",
     "text": [
      "                   all         93       1207       0.84      0.861      0.914      0.723\n"
     ]
    },
    {
     "name": "stderr",
     "output_type": "stream",
     "text": [
      "\n"
     ]
    },
    {
     "name": "stdout",
     "output_type": "stream",
     "text": [
      "\n",
      "      Epoch    GPU_mem   box_loss   cls_loss   dfl_loss  Instances       Size\n"
     ]
    },
    {
     "name": "stderr",
     "output_type": "stream",
     "text": [
      "      37/40      11.3G      0.754     0.5343     0.8179        113        70\n",
      "                 Class     Images  Instances      Box(P          R      mAP5"
     ]
    },
    {
     "name": "stdout",
     "output_type": "stream",
     "text": [
      "                   all         93       1207      0.841      0.861      0.914      0.722\n"
     ]
    },
    {
     "name": "stderr",
     "output_type": "stream",
     "text": [
      "\n"
     ]
    },
    {
     "name": "stdout",
     "output_type": "stream",
     "text": [
      "\n",
      "      Epoch    GPU_mem   box_loss   cls_loss   dfl_loss  Instances       Size\n"
     ]
    },
    {
     "name": "stderr",
     "output_type": "stream",
     "text": [
      "      38/40      11.3G     0.7325     0.5345     0.8181         77        70\n",
      "                 Class     Images  Instances      Box(P          R      mAP5"
     ]
    },
    {
     "name": "stdout",
     "output_type": "stream",
     "text": [
      "                   all         93       1207      0.842      0.859      0.914      0.722\n"
     ]
    },
    {
     "name": "stderr",
     "output_type": "stream",
     "text": [
      "\n"
     ]
    },
    {
     "name": "stdout",
     "output_type": "stream",
     "text": [
      "\n",
      "      Epoch    GPU_mem   box_loss   cls_loss   dfl_loss  Instances       Size\n"
     ]
    },
    {
     "name": "stderr",
     "output_type": "stream",
     "text": [
      "      39/40      11.5G      0.732     0.5463     0.8118         99        70\n",
      "                 Class     Images  Instances      Box(P          R      mAP5"
     ]
    },
    {
     "name": "stdout",
     "output_type": "stream",
     "text": [
      "                   all         93       1207      0.843       0.86      0.914      0.723\n"
     ]
    },
    {
     "name": "stderr",
     "output_type": "stream",
     "text": [
      "\n"
     ]
    },
    {
     "name": "stdout",
     "output_type": "stream",
     "text": [
      "\n",
      "      Epoch    GPU_mem   box_loss   cls_loss   dfl_loss  Instances       Size\n"
     ]
    },
    {
     "name": "stderr",
     "output_type": "stream",
     "text": [
      "      40/40      11.3G     0.7489      0.547     0.8212         85        70\n",
      "                 Class     Images  Instances      Box(P          R      mAP5"
     ]
    },
    {
     "name": "stdout",
     "output_type": "stream",
     "text": [
      "                   all         93       1207       0.84      0.862      0.915      0.724\n"
     ]
    },
    {
     "name": "stderr",
     "output_type": "stream",
     "text": [
      "\n"
     ]
    },
    {
     "name": "stdout",
     "output_type": "stream",
     "text": [
      "\n",
      "40 epochs completed in 0.569 hours.\n",
      "Optimizer stripped from runs/detect/final_model_yolov12l_kfold/fold_3/weights/last.pt, 53.5MB\n",
      "Optimizer stripped from runs/detect/final_model_yolov12l_kfold/fold_3/weights/best.pt, 53.5MB\n",
      "\n",
      "Validating runs/detect/final_model_yolov12l_kfold/fold_3/weights/best.pt...\n",
      "Ultralytics 8.3.169 🚀 Python-3.11.13 torch-2.6.0+cu124 CUDA:0 (NVIDIA TITAN Xp, 12190MiB)\n",
      "YOLOv12l summary (fused): 283 layers, 26,339,843 parameters, 0 gradients, 88.5 GFLOPs\n"
     ]
    },
    {
     "name": "stderr",
     "output_type": "stream",
     "text": [
      "                 Class     Images  Instances      Box(P          R      mAP5\n"
     ]
    },
    {
     "name": "stdout",
     "output_type": "stream",
     "text": [
      "                   all         93       1207      0.843      0.858      0.914      0.728\n",
      "Speed: 0.2ms preprocess, 34.5ms inference, 0.0ms loss, 1.0ms postprocess per image\n",
      "Results saved to \u001b[1mruns/detect/final_model_yolov12l_kfold/fold_3\u001b[0m\n",
      "\n",
      "==================================================\n",
      "Entrenando fold_4 (4/4)\n",
      "==================================================\n",
      "New https://pypi.org/project/ultralytics/8.3.186 available 😃 Update with 'pip install -U ultralytics'\n",
      "Ultralytics 8.3.169 🚀 Python-3.11.13 torch-2.6.0+cu124 CUDA:0 (NVIDIA TITAN Xp, 12190MiB)\n",
      "\u001b[34m\u001b[1mengine/trainer: \u001b[0magnostic_nms=False, amp=True, augment=False, auto_augment=randaugment, batch=8, bgr=0.0, box=7.5, cache=False, cfg=None, classes=None, close_mosaic=0, cls=0.5, conf=None, copy_paste=0.0, copy_paste_mode=flip, cos_lr=False, cutmix=0.0, data=kfold/fold_4/data.yaml, degrees=45, deterministic=True, device=None, dfl=1.5, dnn=False, dropout=0.0, dynamic=False, embed=None, epochs=40, erasing=0.4, exist_ok=False, fliplr=0.5, flipud=0.5, format=torchscript, fraction=1.0, freeze=None, half=False, hsv_h=0.015, hsv_s=0.7, hsv_v=0.4, imgsz=704, int8=False, iou=0.7, keras=False, kobj=1.0, line_width=None, lr0=0.00019010245319870352, lrf=0.001959497205867916, mask_ratio=4, max_det=300, mixup=0.0, mode=train, model=yolo/yolo_models/yolo12l.pt, momentum=0.8549542764940538, mosaic=0, multi_scale=False, name=fold_4, nbs=64, nms=False, opset=None, optimize=False, optimizer=SGD, overlap_mask=True, patience=100, perspective=0.0, plots=True, pose=12.0, pretrained=True, profile=False, project=None, rect=False, resume=False, retina_masks=False, save=True, save_conf=False, save_crop=False, save_dir=runs/detect/final_model_yolov12l_kfold/fold_4, save_frames=False, save_json=False, save_period=-1, save_txt=False, scale=0.06, seed=42, shear=0.0, show=False, show_boxes=True, show_conf=True, show_labels=True, simplify=True, single_cls=False, source=None, split=val, stream_buffer=False, task=detect, time=None, tracker=botsort.yaml, translate=0.1, val=True, verbose=False, vid_stride=1, visualize=False, warmup_bias_lr=0.1, warmup_epochs=5, warmup_momentum=0.75, weight_decay=0.0002858051065806936, workers=0, workspace=None\n",
      "\n",
      "                   from  n    params  module                                       arguments                     \n",
      "  0                  -1  1      1856  ultralytics.nn.modules.conv.Conv             [3, 64, 3, 2]                 \n",
      "  1                  -1  1     73984  ultralytics.nn.modules.conv.Conv             [64, 128, 3, 2]               \n",
      "  2                  -1  2    173824  ultralytics.nn.modules.block.C3k2            [128, 256, 2, True, 0.25]     \n",
      "  3                  -1  1    590336  ultralytics.nn.modules.conv.Conv             [256, 256, 3, 2]              \n",
      "  4                  -1  2    691712  ultralytics.nn.modules.block.C3k2            [256, 512, 2, True, 0.25]     \n",
      "  5                  -1  1   2360320  ultralytics.nn.modules.conv.Conv             [512, 512, 3, 2]              \n",
      "  6                  -1  4   4272944  ultralytics.nn.modules.block.A2C2f           [512, 512, 4, True, 4, True, 1.2]\n",
      "  7                  -1  1   2360320  ultralytics.nn.modules.conv.Conv             [512, 512, 3, 2]              \n",
      "  8                  -1  4   4272944  ultralytics.nn.modules.block.A2C2f           [512, 512, 4, True, 1, True, 1.2]\n",
      "  9                  -1  1         0  torch.nn.modules.upsampling.Upsample         [None, 2, 'nearest']          \n",
      " 10             [-1, 6]  1         0  ultralytics.nn.modules.conv.Concat           [1]                           \n",
      " 11                  -1  2   2102784  ultralytics.nn.modules.block.A2C2f           [1024, 512, 2, False, -1, True, 1.2]\n",
      " 12                  -1  1         0  torch.nn.modules.upsampling.Upsample         [None, 2, 'nearest']          \n",
      " 13             [-1, 4]  1         0  ultralytics.nn.modules.conv.Concat           [1]                           \n",
      " 14                  -1  2    592640  ultralytics.nn.modules.block.A2C2f           [1024, 256, 2, False, -1, True, 1.2]\n",
      " 15                  -1  1    590336  ultralytics.nn.modules.conv.Conv             [256, 256, 3, 2]              \n",
      " 16            [-1, 11]  1         0  ultralytics.nn.modules.conv.Concat           [1]                           \n",
      " 17                  -1  2   2037248  ultralytics.nn.modules.block.A2C2f           [768, 512, 2, False, -1, True, 1.2]\n",
      " 18                  -1  1   2360320  ultralytics.nn.modules.conv.Conv             [512, 512, 3, 2]              \n",
      " 19             [-1, 8]  1         0  ultralytics.nn.modules.conv.Concat           [1]                           \n",
      " 20                  -1  2   2496512  ultralytics.nn.modules.block.C3k2            [1024, 512, 2, True]          \n",
      " 21        [14, 17, 20]  1   1411795  ultralytics.nn.modules.head.Detect           [1, [256, 512, 512]]          \n",
      "YOLOv12l summary: 488 layers, 26,389,875 parameters, 26,389,859 gradients, 89.4 GFLOPs\n",
      "\n",
      "Transferred 1245/1245 items from pretrained weights\n",
      "Freezing layer 'model.21.dfl.conv.weight'\n",
      "\u001b[34m\u001b[1mAMP: \u001b[0mrunning Automatic Mixed Precision (AMP) checks...\n",
      "\u001b[34m\u001b[1mAMP: \u001b[0mchecks passed ✅\n",
      "\u001b[34m\u001b[1mtrain: \u001b[0mFast image access ✅ (ping: 0.0±0.0 ms, read: 2149.5±552.0 MB/s, size: 104.4 KB)\n"
     ]
    },
    {
     "name": "stderr",
     "output_type": "stream",
     "text": [
      "\u001b[34m\u001b[1mtrain: \u001b[0mScanning /home/aitor/tfm/04.Codigo/kfold/fold_4/train/labels.cache...\u001b[0m"
     ]
    },
    {
     "name": "stdout",
     "output_type": "stream",
     "text": [
      "\u001b[34m\u001b[1mval: \u001b[0mFast image access ✅ (ping: 0.0±0.0 ms, read: 1877.6±393.0 MB/s, size: 85.3 KB)\n"
     ]
    },
    {
     "name": "stderr",
     "output_type": "stream",
     "text": [
      "\n",
      "\u001b[34m\u001b[1mval: \u001b[0mScanning /home/aitor/tfm/04.Codigo/kfold/fold_4/val/labels.cache... 93 \u001b[0m"
     ]
    },
    {
     "name": "stdout",
     "output_type": "stream",
     "text": [
      "Plotting labels to runs/detect/final_model_yolov12l_kfold/fold_4/labels.jpg... \n"
     ]
    },
    {
     "name": "stderr",
     "output_type": "stream",
     "text": [
      "\n"
     ]
    },
    {
     "name": "stdout",
     "output_type": "stream",
     "text": [
      "\u001b[34m\u001b[1moptimizer:\u001b[0m SGD(lr=0.00019010245319870352, momentum=0.8549542764940538) with parameter groups 205 weight(decay=0.0), 214 weight(decay=0.0002858051065806936), 211 bias(decay=0.0)\n",
      "Image sizes 704 train, 704 val\n",
      "Using 0 dataloader workers\n",
      "Logging results to \u001b[1mruns/detect/final_model_yolov12l_kfold/fold_4\u001b[0m\n",
      "Starting training for 40 epochs...\n",
      "\n",
      "      Epoch    GPU_mem   box_loss   cls_loss   dfl_loss  Instances       Size\n"
     ]
    },
    {
     "name": "stderr",
     "output_type": "stream",
     "text": [
      "       1/40      11.7G     0.7214     0.5519     0.8104        120        70\n",
      "                 Class     Images  Instances      Box(P          R      mAP5"
     ]
    },
    {
     "name": "stdout",
     "output_type": "stream",
     "text": [
      "                   all         93       1147      0.844      0.875      0.923      0.733\n"
     ]
    },
    {
     "name": "stderr",
     "output_type": "stream",
     "text": [
      "\n"
     ]
    },
    {
     "name": "stdout",
     "output_type": "stream",
     "text": [
      "\n",
      "      Epoch    GPU_mem   box_loss   cls_loss   dfl_loss  Instances       Size\n"
     ]
    },
    {
     "name": "stderr",
     "output_type": "stream",
     "text": [
      "       2/40      11.5G     0.7549     0.5478     0.8205         56        70\n",
      "                 Class     Images  Instances      Box(P          R      mAP5"
     ]
    },
    {
     "name": "stdout",
     "output_type": "stream",
     "text": [
      "                   all         93       1147      0.851      0.867      0.923      0.734\n"
     ]
    },
    {
     "name": "stderr",
     "output_type": "stream",
     "text": [
      "\n"
     ]
    },
    {
     "name": "stdout",
     "output_type": "stream",
     "text": [
      "\n",
      "      Epoch    GPU_mem   box_loss   cls_loss   dfl_loss  Instances       Size\n"
     ]
    },
    {
     "name": "stderr",
     "output_type": "stream",
     "text": [
      "       3/40      11.3G      0.755     0.5589     0.8202        238        70\n",
      "                 Class     Images  Instances      Box(P          R      mAP5"
     ]
    },
    {
     "name": "stdout",
     "output_type": "stream",
     "text": [
      "                   all         93       1147      0.845      0.875      0.923      0.729\n"
     ]
    },
    {
     "name": "stderr",
     "output_type": "stream",
     "text": [
      "\n"
     ]
    },
    {
     "name": "stdout",
     "output_type": "stream",
     "text": [
      "\n",
      "      Epoch    GPU_mem   box_loss   cls_loss   dfl_loss  Instances       Size\n"
     ]
    },
    {
     "name": "stderr",
     "output_type": "stream",
     "text": [
      "       4/40      11.5G     0.7338     0.5376      0.817         91        70\n",
      "                 Class     Images  Instances      Box(P          R      mAP5"
     ]
    },
    {
     "name": "stdout",
     "output_type": "stream",
     "text": [
      "                   all         93       1147      0.832      0.888      0.923      0.729\n"
     ]
    },
    {
     "name": "stderr",
     "output_type": "stream",
     "text": [
      "\n"
     ]
    },
    {
     "name": "stdout",
     "output_type": "stream",
     "text": [
      "\n",
      "      Epoch    GPU_mem   box_loss   cls_loss   dfl_loss  Instances       Size\n"
     ]
    },
    {
     "name": "stderr",
     "output_type": "stream",
     "text": [
      "       5/40      11.3G     0.7266     0.5493     0.8148        108        70\n",
      "                 Class     Images  Instances      Box(P          R      mAP5"
     ]
    },
    {
     "name": "stdout",
     "output_type": "stream",
     "text": [
      "                   all         93       1147      0.845      0.873      0.923      0.735\n"
     ]
    },
    {
     "name": "stderr",
     "output_type": "stream",
     "text": [
      "\n"
     ]
    },
    {
     "name": "stdout",
     "output_type": "stream",
     "text": [
      "\n",
      "      Epoch    GPU_mem   box_loss   cls_loss   dfl_loss  Instances       Size\n"
     ]
    },
    {
     "name": "stderr",
     "output_type": "stream",
     "text": [
      "       6/40      11.3G     0.7545     0.5505      0.817         37        70\n",
      "                 Class     Images  Instances      Box(P          R      mAP5"
     ]
    },
    {
     "name": "stdout",
     "output_type": "stream",
     "text": [
      "                   all         93       1147      0.846      0.874      0.923      0.736\n"
     ]
    },
    {
     "name": "stderr",
     "output_type": "stream",
     "text": [
      "\n"
     ]
    },
    {
     "name": "stdout",
     "output_type": "stream",
     "text": [
      "\n",
      "      Epoch    GPU_mem   box_loss   cls_loss   dfl_loss  Instances       Size\n"
     ]
    },
    {
     "name": "stderr",
     "output_type": "stream",
     "text": [
      "       7/40      11.5G     0.7412     0.5507     0.8164         28        70\n",
      "                 Class     Images  Instances      Box(P          R      mAP5"
     ]
    },
    {
     "name": "stdout",
     "output_type": "stream",
     "text": [
      "                   all         93       1147      0.839      0.881      0.923      0.733\n"
     ]
    },
    {
     "name": "stderr",
     "output_type": "stream",
     "text": [
      "\n"
     ]
    },
    {
     "name": "stdout",
     "output_type": "stream",
     "text": [
      "\n",
      "      Epoch    GPU_mem   box_loss   cls_loss   dfl_loss  Instances       Size\n"
     ]
    },
    {
     "name": "stderr",
     "output_type": "stream",
     "text": [
      "       8/40      11.3G     0.7379     0.5527     0.8144        156        70\n",
      "                 Class     Images  Instances      Box(P          R      mAP5"
     ]
    },
    {
     "name": "stdout",
     "output_type": "stream",
     "text": [
      "                   all         93       1147      0.843      0.876      0.923      0.732\n"
     ]
    },
    {
     "name": "stderr",
     "output_type": "stream",
     "text": [
      "\n"
     ]
    },
    {
     "name": "stdout",
     "output_type": "stream",
     "text": [
      "\n",
      "      Epoch    GPU_mem   box_loss   cls_loss   dfl_loss  Instances       Size\n"
     ]
    },
    {
     "name": "stderr",
     "output_type": "stream",
     "text": [
      "       9/40      11.3G     0.7271     0.5441      0.815        115        70\n",
      "                 Class     Images  Instances      Box(P          R      mAP5"
     ]
    },
    {
     "name": "stdout",
     "output_type": "stream",
     "text": [
      "                   all         93       1147      0.838      0.875      0.922      0.731\n"
     ]
    },
    {
     "name": "stderr",
     "output_type": "stream",
     "text": [
      "\n"
     ]
    },
    {
     "name": "stdout",
     "output_type": "stream",
     "text": [
      "\n",
      "      Epoch    GPU_mem   box_loss   cls_loss   dfl_loss  Instances       Size\n"
     ]
    },
    {
     "name": "stderr",
     "output_type": "stream",
     "text": [
      "      10/40      11.3G     0.7406     0.5566     0.8138         40        70\n",
      "                 Class     Images  Instances      Box(P          R      mAP5"
     ]
    },
    {
     "name": "stdout",
     "output_type": "stream",
     "text": [
      "                   all         93       1147       0.84      0.877      0.923      0.732\n"
     ]
    },
    {
     "name": "stderr",
     "output_type": "stream",
     "text": [
      "\n"
     ]
    },
    {
     "name": "stdout",
     "output_type": "stream",
     "text": [
      "\n",
      "      Epoch    GPU_mem   box_loss   cls_loss   dfl_loss  Instances       Size\n"
     ]
    },
    {
     "name": "stderr",
     "output_type": "stream",
     "text": [
      "      11/40      11.3G     0.7636     0.5604     0.8194        105        70\n",
      "                 Class     Images  Instances      Box(P          R      mAP5"
     ]
    },
    {
     "name": "stdout",
     "output_type": "stream",
     "text": [
      "                   all         93       1147      0.841      0.883      0.923      0.729\n"
     ]
    },
    {
     "name": "stderr",
     "output_type": "stream",
     "text": [
      "\n"
     ]
    },
    {
     "name": "stdout",
     "output_type": "stream",
     "text": [
      "\n",
      "      Epoch    GPU_mem   box_loss   cls_loss   dfl_loss  Instances       Size\n"
     ]
    },
    {
     "name": "stderr",
     "output_type": "stream",
     "text": [
      "      12/40      11.3G     0.7534     0.5604     0.8209         67        70\n",
      "                 Class     Images  Instances      Box(P          R      mAP5"
     ]
    },
    {
     "name": "stdout",
     "output_type": "stream",
     "text": [
      "                   all         93       1147      0.835      0.885      0.923      0.734\n"
     ]
    },
    {
     "name": "stderr",
     "output_type": "stream",
     "text": [
      "\n"
     ]
    },
    {
     "name": "stdout",
     "output_type": "stream",
     "text": [
      "\n",
      "      Epoch    GPU_mem   box_loss   cls_loss   dfl_loss  Instances       Size\n"
     ]
    },
    {
     "name": "stderr",
     "output_type": "stream",
     "text": [
      "      13/40      11.3G     0.7233     0.5471     0.8189         61        70\n",
      "                 Class     Images  Instances      Box(P          R      mAP5"
     ]
    },
    {
     "name": "stdout",
     "output_type": "stream",
     "text": [
      "                   all         93       1147       0.84      0.879      0.923      0.731\n"
     ]
    },
    {
     "name": "stderr",
     "output_type": "stream",
     "text": [
      "\n"
     ]
    },
    {
     "name": "stdout",
     "output_type": "stream",
     "text": [
      "\n",
      "      Epoch    GPU_mem   box_loss   cls_loss   dfl_loss  Instances       Size\n"
     ]
    },
    {
     "name": "stderr",
     "output_type": "stream",
     "text": [
      "      14/40      11.3G     0.7561     0.5579     0.8154         77        70\n",
      "                 Class     Images  Instances      Box(P          R      mAP5"
     ]
    },
    {
     "name": "stdout",
     "output_type": "stream",
     "text": [
      "                   all         93       1147      0.841      0.881      0.923      0.735\n"
     ]
    },
    {
     "name": "stderr",
     "output_type": "stream",
     "text": [
      "\n"
     ]
    },
    {
     "name": "stdout",
     "output_type": "stream",
     "text": [
      "\n",
      "      Epoch    GPU_mem   box_loss   cls_loss   dfl_loss  Instances       Size\n"
     ]
    },
    {
     "name": "stderr",
     "output_type": "stream",
     "text": [
      "      15/40      11.5G     0.7275     0.5493     0.8133        177        70\n",
      "                 Class     Images  Instances      Box(P          R      mAP5"
     ]
    },
    {
     "name": "stdout",
     "output_type": "stream",
     "text": [
      "                   all         93       1147      0.844      0.879      0.923      0.735\n"
     ]
    },
    {
     "name": "stderr",
     "output_type": "stream",
     "text": [
      "\n"
     ]
    },
    {
     "name": "stdout",
     "output_type": "stream",
     "text": [
      "\n",
      "      Epoch    GPU_mem   box_loss   cls_loss   dfl_loss  Instances       Size\n"
     ]
    },
    {
     "name": "stderr",
     "output_type": "stream",
     "text": [
      "      16/40      11.3G     0.7492      0.551      0.821         68        70\n",
      "                 Class     Images  Instances      Box(P          R      mAP5"
     ]
    },
    {
     "name": "stdout",
     "output_type": "stream",
     "text": [
      "                   all         93       1147      0.842      0.877      0.922      0.734\n"
     ]
    },
    {
     "name": "stderr",
     "output_type": "stream",
     "text": [
      "\n"
     ]
    },
    {
     "name": "stdout",
     "output_type": "stream",
     "text": [
      "\n",
      "      Epoch    GPU_mem   box_loss   cls_loss   dfl_loss  Instances       Size\n"
     ]
    },
    {
     "name": "stderr",
     "output_type": "stream",
     "text": [
      "      17/40      11.3G     0.7479     0.5516     0.8205        151        70\n",
      "                 Class     Images  Instances      Box(P          R      mAP5"
     ]
    },
    {
     "name": "stdout",
     "output_type": "stream",
     "text": [
      "                   all         93       1147      0.837      0.881      0.923      0.732\n"
     ]
    },
    {
     "name": "stderr",
     "output_type": "stream",
     "text": [
      "\n"
     ]
    },
    {
     "name": "stdout",
     "output_type": "stream",
     "text": [
      "\n",
      "      Epoch    GPU_mem   box_loss   cls_loss   dfl_loss  Instances       Size\n"
     ]
    },
    {
     "name": "stderr",
     "output_type": "stream",
     "text": [
      "      18/40      11.3G      0.728     0.5541      0.816        142        70\n",
      "                 Class     Images  Instances      Box(P          R      mAP5"
     ]
    },
    {
     "name": "stdout",
     "output_type": "stream",
     "text": [
      "                   all         93       1147      0.843      0.874      0.922      0.732\n"
     ]
    },
    {
     "name": "stderr",
     "output_type": "stream",
     "text": [
      "\n"
     ]
    },
    {
     "name": "stdout",
     "output_type": "stream",
     "text": [
      "\n",
      "      Epoch    GPU_mem   box_loss   cls_loss   dfl_loss  Instances       Size\n"
     ]
    },
    {
     "name": "stderr",
     "output_type": "stream",
     "text": [
      "      19/40      11.3G     0.7582     0.5449     0.8201        176        70\n",
      "                 Class     Images  Instances      Box(P          R      mAP5"
     ]
    },
    {
     "name": "stdout",
     "output_type": "stream",
     "text": [
      "                   all         93       1147      0.845      0.877      0.922      0.732\n"
     ]
    },
    {
     "name": "stderr",
     "output_type": "stream",
     "text": [
      "\n"
     ]
    },
    {
     "name": "stdout",
     "output_type": "stream",
     "text": [
      "\n",
      "      Epoch    GPU_mem   box_loss   cls_loss   dfl_loss  Instances       Size\n"
     ]
    },
    {
     "name": "stderr",
     "output_type": "stream",
     "text": [
      "      20/40      11.3G     0.7118     0.5307     0.8132        118        70\n",
      "                 Class     Images  Instances      Box(P          R      mAP5"
     ]
    },
    {
     "name": "stdout",
     "output_type": "stream",
     "text": [
      "                   all         93       1147      0.846      0.875      0.922      0.732\n"
     ]
    },
    {
     "name": "stderr",
     "output_type": "stream",
     "text": [
      "\n"
     ]
    },
    {
     "name": "stdout",
     "output_type": "stream",
     "text": [
      "\n",
      "      Epoch    GPU_mem   box_loss   cls_loss   dfl_loss  Instances       Size\n"
     ]
    },
    {
     "name": "stderr",
     "output_type": "stream",
     "text": [
      "      21/40      11.3G     0.7143     0.5378     0.8126        115        70\n",
      "                 Class     Images  Instances      Box(P          R      mAP5"
     ]
    },
    {
     "name": "stdout",
     "output_type": "stream",
     "text": [
      "                   all         93       1147      0.842      0.877      0.922      0.732\n"
     ]
    },
    {
     "name": "stderr",
     "output_type": "stream",
     "text": [
      "\n"
     ]
    },
    {
     "name": "stdout",
     "output_type": "stream",
     "text": [
      "\n",
      "      Epoch    GPU_mem   box_loss   cls_loss   dfl_loss  Instances       Size\n"
     ]
    },
    {
     "name": "stderr",
     "output_type": "stream",
     "text": [
      "      22/40      11.3G     0.7179     0.5318     0.8158         87        70\n",
      "                 Class     Images  Instances      Box(P          R      mAP5"
     ]
    },
    {
     "name": "stdout",
     "output_type": "stream",
     "text": [
      "                   all         93       1147       0.84      0.877      0.922      0.733\n"
     ]
    },
    {
     "name": "stderr",
     "output_type": "stream",
     "text": [
      "\n"
     ]
    },
    {
     "name": "stdout",
     "output_type": "stream",
     "text": [
      "\n",
      "      Epoch    GPU_mem   box_loss   cls_loss   dfl_loss  Instances       Size\n"
     ]
    },
    {
     "name": "stderr",
     "output_type": "stream",
     "text": [
      "      23/40      11.5G     0.7361     0.5471     0.8144         78        70\n",
      "                 Class     Images  Instances      Box(P          R      mAP5"
     ]
    },
    {
     "name": "stdout",
     "output_type": "stream",
     "text": [
      "                   all         93       1147      0.836      0.885      0.922      0.736\n"
     ]
    },
    {
     "name": "stderr",
     "output_type": "stream",
     "text": [
      "\n"
     ]
    },
    {
     "name": "stdout",
     "output_type": "stream",
     "text": [
      "\n",
      "      Epoch    GPU_mem   box_loss   cls_loss   dfl_loss  Instances       Size\n"
     ]
    },
    {
     "name": "stderr",
     "output_type": "stream",
     "text": [
      "      24/40      11.3G     0.7452     0.5523     0.8197         72        70\n",
      "                 Class     Images  Instances      Box(P          R      mAP5"
     ]
    },
    {
     "name": "stdout",
     "output_type": "stream",
     "text": [
      "                   all         93       1147      0.841      0.878      0.923      0.734\n"
     ]
    },
    {
     "name": "stderr",
     "output_type": "stream",
     "text": [
      "\n"
     ]
    },
    {
     "name": "stdout",
     "output_type": "stream",
     "text": [
      "\n",
      "      Epoch    GPU_mem   box_loss   cls_loss   dfl_loss  Instances       Size\n"
     ]
    },
    {
     "name": "stderr",
     "output_type": "stream",
     "text": [
      "      25/40      11.3G     0.7306     0.5418     0.8181        130        70\n",
      "                 Class     Images  Instances      Box(P          R      mAP5"
     ]
    },
    {
     "name": "stdout",
     "output_type": "stream",
     "text": [
      "                   all         93       1147       0.84      0.876      0.922      0.732\n"
     ]
    },
    {
     "name": "stderr",
     "output_type": "stream",
     "text": [
      "\n"
     ]
    },
    {
     "name": "stdout",
     "output_type": "stream",
     "text": [
      "\n",
      "      Epoch    GPU_mem   box_loss   cls_loss   dfl_loss  Instances       Size\n"
     ]
    },
    {
     "name": "stderr",
     "output_type": "stream",
     "text": [
      "      26/40      11.3G     0.7296     0.5464     0.8184         63        70\n",
      "                 Class     Images  Instances      Box(P          R      mAP5"
     ]
    },
    {
     "name": "stdout",
     "output_type": "stream",
     "text": [
      "                   all         93       1147      0.842      0.874      0.923      0.736\n"
     ]
    },
    {
     "name": "stderr",
     "output_type": "stream",
     "text": [
      "\n"
     ]
    },
    {
     "name": "stdout",
     "output_type": "stream",
     "text": [
      "\n",
      "      Epoch    GPU_mem   box_loss   cls_loss   dfl_loss  Instances       Size\n"
     ]
    },
    {
     "name": "stderr",
     "output_type": "stream",
     "text": [
      "      27/40      11.3G     0.7205     0.5398     0.8137        125        70\n",
      "                 Class     Images  Instances      Box(P          R      mAP5"
     ]
    },
    {
     "name": "stdout",
     "output_type": "stream",
     "text": [
      "                   all         93       1147       0.84      0.876      0.923      0.734\n"
     ]
    },
    {
     "name": "stderr",
     "output_type": "stream",
     "text": [
      "\n"
     ]
    },
    {
     "name": "stdout",
     "output_type": "stream",
     "text": [
      "\n",
      "      Epoch    GPU_mem   box_loss   cls_loss   dfl_loss  Instances       Size\n"
     ]
    },
    {
     "name": "stderr",
     "output_type": "stream",
     "text": [
      "      28/40      11.3G      0.729     0.5391     0.8116        113        70\n",
      "                 Class     Images  Instances      Box(P          R      mAP5"
     ]
    },
    {
     "name": "stdout",
     "output_type": "stream",
     "text": [
      "                   all         93       1147      0.842      0.875      0.923      0.733\n"
     ]
    },
    {
     "name": "stderr",
     "output_type": "stream",
     "text": [
      "\n"
     ]
    },
    {
     "name": "stdout",
     "output_type": "stream",
     "text": [
      "\n",
      "      Epoch    GPU_mem   box_loss   cls_loss   dfl_loss  Instances       Size\n"
     ]
    },
    {
     "name": "stderr",
     "output_type": "stream",
     "text": [
      "      29/40      11.3G     0.7312     0.5413     0.8148         65        70\n",
      "                 Class     Images  Instances      Box(P          R      mAP5"
     ]
    },
    {
     "name": "stdout",
     "output_type": "stream",
     "text": [
      "                   all         93       1147      0.839      0.878      0.923      0.735\n"
     ]
    },
    {
     "name": "stderr",
     "output_type": "stream",
     "text": [
      "\n"
     ]
    },
    {
     "name": "stdout",
     "output_type": "stream",
     "text": [
      "\n",
      "      Epoch    GPU_mem   box_loss   cls_loss   dfl_loss  Instances       Size\n"
     ]
    },
    {
     "name": "stderr",
     "output_type": "stream",
     "text": [
      "      30/40      11.3G     0.7407      0.548     0.8211        125        70\n",
      "                 Class     Images  Instances      Box(P          R      mAP5"
     ]
    },
    {
     "name": "stdout",
     "output_type": "stream",
     "text": [
      "                   all         93       1147      0.837      0.881      0.922      0.734\n"
     ]
    },
    {
     "name": "stderr",
     "output_type": "stream",
     "text": [
      "\n"
     ]
    },
    {
     "name": "stdout",
     "output_type": "stream",
     "text": [
      "\n",
      "      Epoch    GPU_mem   box_loss   cls_loss   dfl_loss  Instances       Size\n"
     ]
    },
    {
     "name": "stderr",
     "output_type": "stream",
     "text": [
      "      31/40      11.5G     0.7309     0.5525     0.8129         96        70\n",
      "                 Class     Images  Instances      Box(P          R      mAP5"
     ]
    },
    {
     "name": "stdout",
     "output_type": "stream",
     "text": [
      "                   all         93       1147      0.837      0.881      0.923      0.733\n"
     ]
    },
    {
     "name": "stderr",
     "output_type": "stream",
     "text": [
      "\n"
     ]
    },
    {
     "name": "stdout",
     "output_type": "stream",
     "text": [
      "\n",
      "      Epoch    GPU_mem   box_loss   cls_loss   dfl_loss  Instances       Size\n"
     ]
    },
    {
     "name": "stderr",
     "output_type": "stream",
     "text": [
      "      32/40      11.3G     0.7184     0.5372     0.8105         91        70\n",
      "                 Class     Images  Instances      Box(P          R      mAP5"
     ]
    },
    {
     "name": "stdout",
     "output_type": "stream",
     "text": [
      "                   all         93       1147      0.837       0.88      0.923      0.733\n"
     ]
    },
    {
     "name": "stderr",
     "output_type": "stream",
     "text": [
      "\n"
     ]
    },
    {
     "name": "stdout",
     "output_type": "stream",
     "text": [
      "\n",
      "      Epoch    GPU_mem   box_loss   cls_loss   dfl_loss  Instances       Size\n"
     ]
    },
    {
     "name": "stderr",
     "output_type": "stream",
     "text": [
      "      33/40      11.3G     0.7409     0.5538     0.8167        123        70\n",
      "                 Class     Images  Instances      Box(P          R      mAP5"
     ]
    },
    {
     "name": "stdout",
     "output_type": "stream",
     "text": [
      "                   all         93       1147      0.836      0.882      0.923      0.734\n"
     ]
    },
    {
     "name": "stderr",
     "output_type": "stream",
     "text": [
      "\n"
     ]
    },
    {
     "name": "stdout",
     "output_type": "stream",
     "text": [
      "\n",
      "      Epoch    GPU_mem   box_loss   cls_loss   dfl_loss  Instances       Size\n"
     ]
    },
    {
     "name": "stderr",
     "output_type": "stream",
     "text": [
      "      34/40      11.3G     0.7242     0.5311     0.8136         27        70\n",
      "                 Class     Images  Instances      Box(P          R      mAP5"
     ]
    },
    {
     "name": "stdout",
     "output_type": "stream",
     "text": [
      "                   all         93       1147      0.836      0.882      0.923      0.733\n"
     ]
    },
    {
     "name": "stderr",
     "output_type": "stream",
     "text": [
      "\n"
     ]
    },
    {
     "name": "stdout",
     "output_type": "stream",
     "text": [
      "\n",
      "      Epoch    GPU_mem   box_loss   cls_loss   dfl_loss  Instances       Size\n"
     ]
    },
    {
     "name": "stderr",
     "output_type": "stream",
     "text": [
      "      35/40      11.3G     0.7219     0.5451     0.8132         60        70\n",
      "                 Class     Images  Instances      Box(P          R      mAP5"
     ]
    },
    {
     "name": "stdout",
     "output_type": "stream",
     "text": [
      "                   all         93       1147      0.835      0.884      0.923      0.734\n"
     ]
    },
    {
     "name": "stderr",
     "output_type": "stream",
     "text": [
      "\n"
     ]
    },
    {
     "name": "stdout",
     "output_type": "stream",
     "text": [
      "\n",
      "      Epoch    GPU_mem   box_loss   cls_loss   dfl_loss  Instances       Size\n"
     ]
    },
    {
     "name": "stderr",
     "output_type": "stream",
     "text": [
      "      36/40      11.3G     0.7248     0.5454     0.8119         93        70\n",
      "                 Class     Images  Instances      Box(P          R      mAP5"
     ]
    },
    {
     "name": "stdout",
     "output_type": "stream",
     "text": [
      "                   all         93       1147      0.835      0.884      0.923      0.733\n"
     ]
    },
    {
     "name": "stderr",
     "output_type": "stream",
     "text": [
      "\n"
     ]
    },
    {
     "name": "stdout",
     "output_type": "stream",
     "text": [
      "\n",
      "      Epoch    GPU_mem   box_loss   cls_loss   dfl_loss  Instances       Size\n"
     ]
    },
    {
     "name": "stderr",
     "output_type": "stream",
     "text": [
      "      37/40      11.3G      0.725     0.5366     0.8131        119        70\n",
      "                 Class     Images  Instances      Box(P          R      mAP5"
     ]
    },
    {
     "name": "stdout",
     "output_type": "stream",
     "text": [
      "                   all         93       1147       0.84      0.878      0.923      0.734\n"
     ]
    },
    {
     "name": "stderr",
     "output_type": "stream",
     "text": [
      "\n"
     ]
    },
    {
     "name": "stdout",
     "output_type": "stream",
     "text": [
      "\n",
      "      Epoch    GPU_mem   box_loss   cls_loss   dfl_loss  Instances       Size\n"
     ]
    },
    {
     "name": "stderr",
     "output_type": "stream",
     "text": [
      "      38/40      11.3G     0.7253     0.5418     0.8137        107        70\n",
      "                 Class     Images  Instances      Box(P          R      mAP5"
     ]
    },
    {
     "name": "stdout",
     "output_type": "stream",
     "text": [
      "                   all         93       1147      0.837      0.884      0.923      0.734\n"
     ]
    },
    {
     "name": "stderr",
     "output_type": "stream",
     "text": [
      "\n"
     ]
    },
    {
     "name": "stdout",
     "output_type": "stream",
     "text": [
      "\n",
      "      Epoch    GPU_mem   box_loss   cls_loss   dfl_loss  Instances       Size\n"
     ]
    },
    {
     "name": "stderr",
     "output_type": "stream",
     "text": [
      "      39/40      11.5G     0.7438     0.5389     0.8141        110        70\n",
      "                 Class     Images  Instances      Box(P          R      mAP5"
     ]
    },
    {
     "name": "stdout",
     "output_type": "stream",
     "text": [
      "                   all         93       1147      0.838       0.88      0.923      0.733\n"
     ]
    },
    {
     "name": "stderr",
     "output_type": "stream",
     "text": [
      "\n"
     ]
    },
    {
     "name": "stdout",
     "output_type": "stream",
     "text": [
      "\n",
      "      Epoch    GPU_mem   box_loss   cls_loss   dfl_loss  Instances       Size\n"
     ]
    },
    {
     "name": "stderr",
     "output_type": "stream",
     "text": [
      "      40/40      11.3G     0.7239     0.5565       0.82         76        70\n",
      "                 Class     Images  Instances      Box(P          R      mAP5"
     ]
    },
    {
     "name": "stdout",
     "output_type": "stream",
     "text": [
      "                   all         93       1147       0.84      0.878      0.923      0.733\n"
     ]
    },
    {
     "name": "stderr",
     "output_type": "stream",
     "text": [
      "\n"
     ]
    },
    {
     "name": "stdout",
     "output_type": "stream",
     "text": [
      "\n",
      "40 epochs completed in 0.570 hours.\n",
      "Optimizer stripped from runs/detect/final_model_yolov12l_kfold/fold_4/weights/last.pt, 53.5MB\n",
      "Optimizer stripped from runs/detect/final_model_yolov12l_kfold/fold_4/weights/best.pt, 53.5MB\n",
      "\n",
      "Validating runs/detect/final_model_yolov12l_kfold/fold_4/weights/best.pt...\n",
      "Ultralytics 8.3.169 🚀 Python-3.11.13 torch-2.6.0+cu124 CUDA:0 (NVIDIA TITAN Xp, 12190MiB)\n",
      "YOLOv12l summary (fused): 283 layers, 26,339,843 parameters, 0 gradients, 88.5 GFLOPs\n"
     ]
    },
    {
     "name": "stderr",
     "output_type": "stream",
     "text": [
      "                 Class     Images  Instances      Box(P          R      mAP5\n"
     ]
    },
    {
     "name": "stdout",
     "output_type": "stream",
     "text": [
      "                   all         93       1147      0.842      0.874      0.922      0.736\n",
      "Speed: 0.2ms preprocess, 33.7ms inference, 0.0ms loss, 1.0ms postprocess per image\n",
      "Results saved to \u001b[1mruns/detect/final_model_yolov12l_kfold/fold_4\u001b[0m\n"
     ]
    }
   ],
   "source": [
    "params = best_params\n",
    "# params = getattr(config, name_best_params)\n",
    "metrics_df = kfold_utils.train(model, params, model_output_kfold)"
   ]
  },
  {
   "cell_type": "code",
   "execution_count": 12,
   "metadata": {},
   "outputs": [
    {
     "name": "stdout",
     "output_type": "stream",
     "text": [
      "\n",
      "Resultados por fold:\n",
      "   fold  mAP50-95    mAP50  precision   recall\n",
      "0     1   0.70587  0.89631    0.83983  0.85455\n",
      "1     2   0.72552  0.91620    0.83838  0.88292\n",
      "2     3   0.72768  0.91399    0.84307  0.85833\n",
      "3     4   0.73609  0.92258    0.84188  0.87358\n",
      "\n",
      "Promedio de métricas:\n",
      "mAP50-95     0.723790\n",
      "mAP50        0.912270\n",
      "precision    0.840790\n",
      "recall       0.867345\n",
      "dtype: float64\n",
      "\n",
      "Desviación estándar de métricas:\n",
      "mAP50-95     0.012787\n",
      "mAP50        0.011246\n",
      "precision    0.002091\n",
      "recall       0.013247\n",
      "dtype: float64\n",
      "\n",
      "Directorios temporales eliminados.\n"
     ]
    }
   ],
   "source": [
    "kfold_utils.save_results(metrics_df, model_output_kfold)"
   ]
  },
  {
   "cell_type": "code",
   "execution_count": 13,
   "metadata": {},
   "outputs": [
    {
     "name": "stdout",
     "output_type": "stream",
     "text": [
      "Gráfico guardado en: runs/detect/final_model_yolov12l_kfold/kfold_metrics.png\n"
     ]
    },
    {
     "data": {
      "image/png": "[encoded data removed]",
      "text/plain": [
       "<Figure size 1000x600 with 1 Axes>"
      ]
     },
     "metadata": {},
     "output_type": "display_data"
    }
   ],
   "source": [
    "%matplotlib inline\n",
    "kfold_utils.plot_kfold_metrics(metrics_df, model_output_kfold)"
   ]
  },
  {
   "cell_type": "markdown",
   "metadata": {
    "jp-MarkdownHeadingCollapsed": true
   },
   "source": [
    "### **Train**"
   ]
  },
  {
   "cell_type": "code",
   "execution_count": 8,
   "metadata": {
    "scrolled": true
   },
   "outputs": [
    {
     "name": "stdout",
     "output_type": "stream",
     "text": [
      "New https://pypi.org/project/ultralytics/8.3.186 available 😃 Update with 'pip install -U ultralytics'\n",
      "Ultralytics 8.3.169 🚀 Python-3.11.13 torch-2.6.0+cu124 CUDA:0 (NVIDIA TITAN Xp, 12190MiB)\n",
      "\u001b[34m\u001b[1mengine/trainer: \u001b[0magnostic_nms=False, amp=True, augment=False, auto_augment=randaugment, batch=8, bgr=0.0, box=7.5, cache=False, cfg=None, classes=None, close_mosaic=0, cls=0.5, conf=None, copy_paste=0.0, copy_paste_mode=flip, cos_lr=False, cutmix=0.0, data=cells.yaml, degrees=45, deterministic=True, device=None, dfl=1.5, dnn=False, dropout=0.0, dynamic=False, embed=None, epochs=40, erasing=0.4, exist_ok=False, fliplr=0.5, flipud=0.5, format=torchscript, fraction=1.0, freeze=None, half=False, hsv_h=0.015, hsv_s=0.7, hsv_v=0.4, imgsz=704, int8=False, iou=0.7, keras=False, kobj=1.0, line_width=None, lr0=0.00019010245319870352, lrf=0.001959497205867916, mask_ratio=4, max_det=300, mixup=0.0, mode=train, model=yolo/yolo_models/yolo12l.pt, momentum=0.8549542764940538, mosaic=0, multi_scale=False, name=final_model_yolov12l, nbs=64, nms=False, opset=None, optimize=False, optimizer=SGD, overlap_mask=True, patience=100, perspective=0.0, plots=True, pose=12.0, pretrained=True, profile=False, project=None, rect=False, resume=False, retina_masks=False, save=True, save_conf=False, save_crop=False, save_dir=runs/detect/final_model_yolov12l, save_frames=False, save_json=False, save_period=-1, save_txt=False, scale=0.06, seed=42, shear=0.0, show=False, show_boxes=True, show_conf=True, show_labels=True, simplify=True, single_cls=False, source=None, split=val, stream_buffer=False, task=detect, time=None, tracker=botsort.yaml, translate=0.1, val=True, verbose=False, vid_stride=1, visualize=False, warmup_bias_lr=0.1, warmup_epochs=5, warmup_momentum=0.75, weight_decay=0.0002858051065806936, workers=0, workspace=None\n",
      "\n",
      "                   from  n    params  module                                       arguments                     \n",
      "  0                  -1  1      1856  ultralytics.nn.modules.conv.Conv             [3, 64, 3, 2]                 \n",
      "  1                  -1  1     73984  ultralytics.nn.modules.conv.Conv             [64, 128, 3, 2]               \n",
      "  2                  -1  2    173824  ultralytics.nn.modules.block.C3k2            [128, 256, 2, True, 0.25]     \n",
      "  3                  -1  1    590336  ultralytics.nn.modules.conv.Conv             [256, 256, 3, 2]              \n",
      "  4                  -1  2    691712  ultralytics.nn.modules.block.C3k2            [256, 512, 2, True, 0.25]     \n",
      "  5                  -1  1   2360320  ultralytics.nn.modules.conv.Conv             [512, 512, 3, 2]              \n",
      "  6                  -1  4   4272944  ultralytics.nn.modules.block.A2C2f           [512, 512, 4, True, 4, True, 1.2]\n",
      "  7                  -1  1   2360320  ultralytics.nn.modules.conv.Conv             [512, 512, 3, 2]              \n",
      "  8                  -1  4   4272944  ultralytics.nn.modules.block.A2C2f           [512, 512, 4, True, 1, True, 1.2]\n",
      "  9                  -1  1         0  torch.nn.modules.upsampling.Upsample         [None, 2, 'nearest']          \n",
      " 10             [-1, 6]  1         0  ultralytics.nn.modules.conv.Concat           [1]                           \n",
      " 11                  -1  2   2102784  ultralytics.nn.modules.block.A2C2f           [1024, 512, 2, False, -1, True, 1.2]\n",
      " 12                  -1  1         0  torch.nn.modules.upsampling.Upsample         [None, 2, 'nearest']          \n",
      " 13             [-1, 4]  1         0  ultralytics.nn.modules.conv.Concat           [1]                           \n",
      " 14                  -1  2    592640  ultralytics.nn.modules.block.A2C2f           [1024, 256, 2, False, -1, True, 1.2]\n",
      " 15                  -1  1    590336  ultralytics.nn.modules.conv.Conv             [256, 256, 3, 2]              \n",
      " 16            [-1, 11]  1         0  ultralytics.nn.modules.conv.Concat           [1]                           \n",
      " 17                  -1  2   2037248  ultralytics.nn.modules.block.A2C2f           [768, 512, 2, False, -1, True, 1.2]\n",
      " 18                  -1  1   2360320  ultralytics.nn.modules.conv.Conv             [512, 512, 3, 2]              \n",
      " 19             [-1, 8]  1         0  ultralytics.nn.modules.conv.Concat           [1]                           \n",
      " 20                  -1  2   2496512  ultralytics.nn.modules.block.C3k2            [1024, 512, 2, True]          \n",
      " 21        [14, 17, 20]  1   1411795  ultralytics.nn.modules.head.Detect           [1, [256, 512, 512]]          \n",
      "YOLOv12l summary: 488 layers, 26,389,875 parameters, 26,389,859 gradients, 89.4 GFLOPs\n",
      "\n",
      "Transferred 1245/1245 items from pretrained weights\n",
      "Freezing layer 'model.21.dfl.conv.weight'\n",
      "\u001b[34m\u001b[1mAMP: \u001b[0mrunning Automatic Mixed Precision (AMP) checks...\n",
      "\u001b[34m\u001b[1mAMP: \u001b[0mchecks passed ✅\n",
      "\u001b[34m\u001b[1mtrain: \u001b[0mFast image access ✅ (ping: 0.0±0.0 ms, read: 1920.5±759.8 MB/s, size: 87.9 KB)\n"
     ]
    },
    {
     "name": "stderr",
     "output_type": "stream",
     "text": [
      "\u001b[34m\u001b[1mtrain: \u001b[0mScanning /home/aitor/tfm/03.Datasets/YOLO_Datasets/split/train/labels\u001b[0m"
     ]
    },
    {
     "name": "stdout",
     "output_type": "stream",
     "text": [
      "\u001b[34m\u001b[1mval: \u001b[0mFast image access ✅ (ping: 0.0±0.0 ms, read: 1819.7±281.6 MB/s, size: 89.7 KB)\n"
     ]
    },
    {
     "name": "stderr",
     "output_type": "stream",
     "text": [
      "\n",
      "\u001b[34m\u001b[1mval: \u001b[0mScanning /home/aitor/tfm/03.Datasets/YOLO_Datasets/split/val/labels.cac\u001b[0m"
     ]
    },
    {
     "name": "stdout",
     "output_type": "stream",
     "text": [
      "Plotting labels to runs/detect/final_model_yolov12l/labels.jpg... \n"
     ]
    },
    {
     "name": "stderr",
     "output_type": "stream",
     "text": [
      "\n"
     ]
    },
    {
     "name": "stdout",
     "output_type": "stream",
     "text": [
      "\u001b[34m\u001b[1moptimizer:\u001b[0m SGD(lr=0.00019010245319870352, momentum=0.8549542764940538) with parameter groups 205 weight(decay=0.0), 214 weight(decay=0.0002858051065806936), 211 bias(decay=0.0)\n",
      "Image sizes 704 train, 704 val\n",
      "Using 0 dataloader workers\n",
      "Logging results to \u001b[1mruns/detect/final_model_yolov12l\u001b[0m\n",
      "Starting training for 40 epochs...\n",
      "\n",
      "      Epoch    GPU_mem   box_loss   cls_loss   dfl_loss  Instances       Size\n"
     ]
    },
    {
     "name": "stderr",
     "output_type": "stream",
     "text": [
      "       1/40      11.5G     0.7663     0.5456     0.8147         50        70\n",
      "                 Class     Images  Instances      Box(P          R      mAP5"
     ]
    },
    {
     "name": "stdout",
     "output_type": "stream",
     "text": [
      "                   all         75        955      0.793      0.865      0.884      0.671\n"
     ]
    },
    {
     "name": "stderr",
     "output_type": "stream",
     "text": [
      "\n"
     ]
    },
    {
     "name": "stdout",
     "output_type": "stream",
     "text": [
      "\n",
      "      Epoch    GPU_mem   box_loss   cls_loss   dfl_loss  Instances       Size\n"
     ]
    },
    {
     "name": "stderr",
     "output_type": "stream",
     "text": [
      "       2/40      11.6G     0.7729     0.5739     0.8185          4        70\n",
      "                 Class     Images  Instances      Box(P          R      mAP5"
     ]
    },
    {
     "name": "stdout",
     "output_type": "stream",
     "text": [
      "                   all         75        955       0.79      0.867      0.884      0.676\n"
     ]
    },
    {
     "name": "stderr",
     "output_type": "stream",
     "text": [
      "\n"
     ]
    },
    {
     "name": "stdout",
     "output_type": "stream",
     "text": [
      "\n",
      "      Epoch    GPU_mem   box_loss   cls_loss   dfl_loss  Instances       Size\n"
     ]
    },
    {
     "name": "stderr",
     "output_type": "stream",
     "text": [
      "       3/40      11.4G     0.7615     0.5454     0.8212         28        70\n",
      "                 Class     Images  Instances      Box(P          R      mAP5"
     ]
    },
    {
     "name": "stdout",
     "output_type": "stream",
     "text": [
      "                   all         75        955      0.794      0.867      0.885      0.674\n"
     ]
    },
    {
     "name": "stderr",
     "output_type": "stream",
     "text": [
      "\n"
     ]
    },
    {
     "name": "stdout",
     "output_type": "stream",
     "text": [
      "\n",
      "      Epoch    GPU_mem   box_loss   cls_loss   dfl_loss  Instances       Size\n"
     ]
    },
    {
     "name": "stderr",
     "output_type": "stream",
     "text": [
      "       4/40      11.5G     0.7544     0.5456     0.8168         25        70\n",
      "                 Class     Images  Instances      Box(P          R      mAP5"
     ]
    },
    {
     "name": "stdout",
     "output_type": "stream",
     "text": [
      "                   all         75        955      0.793      0.871      0.885      0.681\n"
     ]
    },
    {
     "name": "stderr",
     "output_type": "stream",
     "text": [
      "\n"
     ]
    },
    {
     "name": "stdout",
     "output_type": "stream",
     "text": [
      "\n",
      "      Epoch    GPU_mem   box_loss   cls_loss   dfl_loss  Instances       Size\n"
     ]
    },
    {
     "name": "stderr",
     "output_type": "stream",
     "text": [
      "       5/40      11.4G     0.7586     0.6947     0.8033          0        70\n",
      "                 Class     Images  Instances      Box(P          R      mAP5"
     ]
    },
    {
     "name": "stdout",
     "output_type": "stream",
     "text": [
      "                   all         75        955      0.792      0.867      0.885      0.679\n"
     ]
    },
    {
     "name": "stderr",
     "output_type": "stream",
     "text": [
      "\n"
     ]
    },
    {
     "name": "stdout",
     "output_type": "stream",
     "text": [
      "\n",
      "      Epoch    GPU_mem   box_loss   cls_loss   dfl_loss  Instances       Size\n"
     ]
    },
    {
     "name": "stderr",
     "output_type": "stream",
     "text": [
      "       6/40      11.4G     0.7356     0.5414     0.8167          8        70\n",
      "                 Class     Images  Instances      Box(P          R      mAP5"
     ]
    },
    {
     "name": "stdout",
     "output_type": "stream",
     "text": [
      "                   all         75        955      0.799      0.863      0.885      0.669\n"
     ]
    },
    {
     "name": "stderr",
     "output_type": "stream",
     "text": [
      "\n"
     ]
    },
    {
     "name": "stdout",
     "output_type": "stream",
     "text": [
      "\n",
      "      Epoch    GPU_mem   box_loss   cls_loss   dfl_loss  Instances       Size\n"
     ]
    },
    {
     "name": "stderr",
     "output_type": "stream",
     "text": [
      "       7/40      11.5G      0.748     0.5655     0.8146          8        70\n",
      "                 Class     Images  Instances      Box(P          R      mAP5"
     ]
    },
    {
     "name": "stdout",
     "output_type": "stream",
     "text": [
      "                   all         75        955      0.801      0.861      0.885      0.682\n"
     ]
    },
    {
     "name": "stderr",
     "output_type": "stream",
     "text": [
      "\n"
     ]
    },
    {
     "name": "stdout",
     "output_type": "stream",
     "text": [
      "\n",
      "      Epoch    GPU_mem   box_loss   cls_loss   dfl_loss  Instances       Size\n"
     ]
    },
    {
     "name": "stderr",
     "output_type": "stream",
     "text": [
      "       8/40      11.4G     0.7434     0.5385     0.8119          5        70\n",
      "                 Class     Images  Instances      Box(P          R      mAP5"
     ]
    },
    {
     "name": "stdout",
     "output_type": "stream",
     "text": [
      "                   all         75        955      0.797      0.865      0.883       0.69\n"
     ]
    },
    {
     "name": "stderr",
     "output_type": "stream",
     "text": [
      "\n"
     ]
    },
    {
     "name": "stdout",
     "output_type": "stream",
     "text": [
      "\n",
      "      Epoch    GPU_mem   box_loss   cls_loss   dfl_loss  Instances       Size\n"
     ]
    },
    {
     "name": "stderr",
     "output_type": "stream",
     "text": [
      "       9/40      11.4G     0.7258     0.5456     0.8099          4        70\n",
      "                 Class     Images  Instances      Box(P          R      mAP5"
     ]
    },
    {
     "name": "stdout",
     "output_type": "stream",
     "text": [
      "                   all         75        955      0.795      0.867      0.885      0.681\n"
     ]
    },
    {
     "name": "stderr",
     "output_type": "stream",
     "text": [
      "\n"
     ]
    },
    {
     "name": "stdout",
     "output_type": "stream",
     "text": [
      "\n",
      "      Epoch    GPU_mem   box_loss   cls_loss   dfl_loss  Instances       Size\n"
     ]
    },
    {
     "name": "stderr",
     "output_type": "stream",
     "text": [
      "      10/40      11.4G     0.7475     0.5433     0.8175         31        70\n",
      "                 Class     Images  Instances      Box(P          R      mAP5"
     ]
    },
    {
     "name": "stdout",
     "output_type": "stream",
     "text": [
      "                   all         75        955      0.802      0.862      0.886      0.685\n"
     ]
    },
    {
     "name": "stderr",
     "output_type": "stream",
     "text": [
      "\n"
     ]
    },
    {
     "name": "stdout",
     "output_type": "stream",
     "text": [
      "\n",
      "      Epoch    GPU_mem   box_loss   cls_loss   dfl_loss  Instances       Size\n"
     ]
    },
    {
     "name": "stderr",
     "output_type": "stream",
     "text": [
      "      11/40      11.4G      0.739     0.5419     0.8153         42        70\n",
      "                 Class     Images  Instances      Box(P          R      mAP5"
     ]
    },
    {
     "name": "stdout",
     "output_type": "stream",
     "text": [
      "                   all         75        955      0.803      0.858      0.884      0.684\n"
     ]
    },
    {
     "name": "stderr",
     "output_type": "stream",
     "text": [
      "\n"
     ]
    },
    {
     "name": "stdout",
     "output_type": "stream",
     "text": [
      "\n",
      "      Epoch    GPU_mem   box_loss   cls_loss   dfl_loss  Instances       Size\n"
     ]
    },
    {
     "name": "stderr",
     "output_type": "stream",
     "text": [
      "      12/40      11.4G     0.7503     0.5342     0.8197         22        70\n",
      "                 Class     Images  Instances      Box(P          R      mAP5"
     ]
    },
    {
     "name": "stdout",
     "output_type": "stream",
     "text": [
      "                   all         75        955      0.805      0.857      0.886      0.678\n"
     ]
    },
    {
     "name": "stderr",
     "output_type": "stream",
     "text": [
      "\n"
     ]
    },
    {
     "name": "stdout",
     "output_type": "stream",
     "text": [
      "\n",
      "      Epoch    GPU_mem   box_loss   cls_loss   dfl_loss  Instances       Size\n"
     ]
    },
    {
     "name": "stderr",
     "output_type": "stream",
     "text": [
      "      13/40      11.4G     0.7013     0.5355     0.8131         13        70\n",
      "                 Class     Images  Instances      Box(P          R      mAP5"
     ]
    },
    {
     "name": "stdout",
     "output_type": "stream",
     "text": [
      "                   all         75        955      0.793      0.863      0.885      0.691\n"
     ]
    },
    {
     "name": "stderr",
     "output_type": "stream",
     "text": [
      "\n"
     ]
    },
    {
     "name": "stdout",
     "output_type": "stream",
     "text": [
      "\n",
      "      Epoch    GPU_mem   box_loss   cls_loss   dfl_loss  Instances       Size\n"
     ]
    },
    {
     "name": "stderr",
     "output_type": "stream",
     "text": [
      "      14/40      11.4G     0.7213     0.5245     0.8125         48        70\n",
      "                 Class     Images  Instances      Box(P          R      mAP5"
     ]
    },
    {
     "name": "stdout",
     "output_type": "stream",
     "text": [
      "                   all         75        955      0.801      0.858      0.886      0.673\n"
     ]
    },
    {
     "name": "stderr",
     "output_type": "stream",
     "text": [
      "\n"
     ]
    },
    {
     "name": "stdout",
     "output_type": "stream",
     "text": [
      "\n",
      "      Epoch    GPU_mem   box_loss   cls_loss   dfl_loss  Instances       Size\n"
     ]
    },
    {
     "name": "stderr",
     "output_type": "stream",
     "text": [
      "      15/40      11.4G     0.7207     0.5426     0.8112          2        70\n",
      "                 Class     Images  Instances      Box(P          R      mAP5"
     ]
    },
    {
     "name": "stdout",
     "output_type": "stream",
     "text": [
      "                   all         75        955      0.801       0.86      0.886      0.685\n"
     ]
    },
    {
     "name": "stderr",
     "output_type": "stream",
     "text": [
      "\n"
     ]
    },
    {
     "name": "stdout",
     "output_type": "stream",
     "text": [
      "\n",
      "      Epoch    GPU_mem   box_loss   cls_loss   dfl_loss  Instances       Size\n"
     ]
    },
    {
     "name": "stderr",
     "output_type": "stream",
     "text": [
      "      16/40      11.4G      0.718      0.534     0.8151          2        70\n",
      "                 Class     Images  Instances      Box(P          R      mAP5"
     ]
    },
    {
     "name": "stdout",
     "output_type": "stream",
     "text": [
      "                   all         75        955      0.802       0.86      0.886      0.682\n"
     ]
    },
    {
     "name": "stderr",
     "output_type": "stream",
     "text": [
      "\n"
     ]
    },
    {
     "name": "stdout",
     "output_type": "stream",
     "text": [
      "\n",
      "      Epoch    GPU_mem   box_loss   cls_loss   dfl_loss  Instances       Size\n"
     ]
    },
    {
     "name": "stderr",
     "output_type": "stream",
     "text": [
      "      17/40      11.4G     0.7255     0.5377     0.8105         22        70\n",
      "                 Class     Images  Instances      Box(P          R      mAP5"
     ]
    },
    {
     "name": "stdout",
     "output_type": "stream",
     "text": [
      "                   all         75        955      0.792      0.867      0.885       0.69\n"
     ]
    },
    {
     "name": "stderr",
     "output_type": "stream",
     "text": [
      "\n"
     ]
    },
    {
     "name": "stdout",
     "output_type": "stream",
     "text": [
      "\n",
      "      Epoch    GPU_mem   box_loss   cls_loss   dfl_loss  Instances       Size\n"
     ]
    },
    {
     "name": "stderr",
     "output_type": "stream",
     "text": [
      "      18/40      11.4G      0.725     0.5417     0.8136          7        70\n",
      "                 Class     Images  Instances      Box(P          R      mAP5"
     ]
    },
    {
     "name": "stdout",
     "output_type": "stream",
     "text": [
      "                   all         75        955      0.793      0.867      0.885       0.68\n"
     ]
    },
    {
     "name": "stderr",
     "output_type": "stream",
     "text": [
      "\n"
     ]
    },
    {
     "name": "stdout",
     "output_type": "stream",
     "text": [
      "\n",
      "      Epoch    GPU_mem   box_loss   cls_loss   dfl_loss  Instances       Size\n"
     ]
    },
    {
     "name": "stderr",
     "output_type": "stream",
     "text": [
      "      19/40      11.4G     0.7195     0.5315     0.8116          7        70\n",
      "                 Class     Images  Instances      Box(P          R      mAP5"
     ]
    },
    {
     "name": "stdout",
     "output_type": "stream",
     "text": [
      "                   all         75        955      0.794      0.867      0.885      0.696\n"
     ]
    },
    {
     "name": "stderr",
     "output_type": "stream",
     "text": [
      "\n"
     ]
    },
    {
     "name": "stdout",
     "output_type": "stream",
     "text": [
      "\n",
      "      Epoch    GPU_mem   box_loss   cls_loss   dfl_loss  Instances       Size\n"
     ]
    },
    {
     "name": "stderr",
     "output_type": "stream",
     "text": [
      "      20/40      11.4G     0.7168     0.5291     0.8166         28        70\n",
      "                 Class     Images  Instances      Box(P          R      mAP5"
     ]
    },
    {
     "name": "stdout",
     "output_type": "stream",
     "text": [
      "                   all         75        955      0.799      0.859      0.886      0.685\n"
     ]
    },
    {
     "name": "stderr",
     "output_type": "stream",
     "text": [
      "\n"
     ]
    },
    {
     "name": "stdout",
     "output_type": "stream",
     "text": [
      "\n",
      "      Epoch    GPU_mem   box_loss   cls_loss   dfl_loss  Instances       Size\n"
     ]
    },
    {
     "name": "stderr",
     "output_type": "stream",
     "text": [
      "      21/40      11.4G     0.7094     0.5204     0.8105         50        70\n",
      "                 Class     Images  Instances      Box(P          R      mAP5"
     ]
    },
    {
     "name": "stdout",
     "output_type": "stream",
     "text": [
      "                   all         75        955      0.802      0.859      0.886      0.697\n"
     ]
    },
    {
     "name": "stderr",
     "output_type": "stream",
     "text": [
      "\n"
     ]
    },
    {
     "name": "stdout",
     "output_type": "stream",
     "text": [
      "\n",
      "      Epoch    GPU_mem   box_loss   cls_loss   dfl_loss  Instances       Size\n"
     ]
    },
    {
     "name": "stderr",
     "output_type": "stream",
     "text": [
      "      22/40      11.4G     0.7031     0.5237      0.814         15        70\n",
      "                 Class     Images  Instances      Box(P          R      mAP5"
     ]
    },
    {
     "name": "stdout",
     "output_type": "stream",
     "text": [
      "                   all         75        955      0.798      0.863      0.887      0.696\n"
     ]
    },
    {
     "name": "stderr",
     "output_type": "stream",
     "text": [
      "\n"
     ]
    },
    {
     "name": "stdout",
     "output_type": "stream",
     "text": [
      "\n",
      "      Epoch    GPU_mem   box_loss   cls_loss   dfl_loss  Instances       Size\n"
     ]
    },
    {
     "name": "stderr",
     "output_type": "stream",
     "text": [
      "      23/40      11.4G     0.7096       0.54     0.8104          3        70\n",
      "                 Class     Images  Instances      Box(P          R      mAP5"
     ]
    },
    {
     "name": "stdout",
     "output_type": "stream",
     "text": [
      "                   all         75        955      0.797      0.868      0.887      0.691\n"
     ]
    },
    {
     "name": "stderr",
     "output_type": "stream",
     "text": [
      "\n"
     ]
    },
    {
     "name": "stdout",
     "output_type": "stream",
     "text": [
      "\n",
      "      Epoch    GPU_mem   box_loss   cls_loss   dfl_loss  Instances       Size\n"
     ]
    },
    {
     "name": "stderr",
     "output_type": "stream",
     "text": [
      "      24/40      11.5G      0.737      0.544     0.8146         16        70\n",
      "                 Class     Images  Instances      Box(P          R      mAP5"
     ]
    },
    {
     "name": "stdout",
     "output_type": "stream",
     "text": [
      "                   all         75        955      0.791       0.87      0.886      0.693\n"
     ]
    },
    {
     "name": "stderr",
     "output_type": "stream",
     "text": [
      "\n"
     ]
    },
    {
     "name": "stdout",
     "output_type": "stream",
     "text": [
      "\n",
      "      Epoch    GPU_mem   box_loss   cls_loss   dfl_loss  Instances       Size\n"
     ]
    },
    {
     "name": "stderr",
     "output_type": "stream",
     "text": [
      "      25/40      11.4G     0.7457     0.5343     0.8179         18        70\n",
      "                 Class     Images  Instances      Box(P          R      mAP5"
     ]
    },
    {
     "name": "stdout",
     "output_type": "stream",
     "text": [
      "                   all         75        955      0.796      0.869      0.886      0.699\n"
     ]
    },
    {
     "name": "stderr",
     "output_type": "stream",
     "text": [
      "\n"
     ]
    },
    {
     "name": "stdout",
     "output_type": "stream",
     "text": [
      "\n",
      "      Epoch    GPU_mem   box_loss   cls_loss   dfl_loss  Instances       Size\n"
     ]
    },
    {
     "name": "stderr",
     "output_type": "stream",
     "text": [
      "      26/40      11.4G     0.7567     0.5467     0.8186         25        70\n",
      "                 Class     Images  Instances      Box(P          R      mAP5"
     ]
    },
    {
     "name": "stdout",
     "output_type": "stream",
     "text": [
      "                   all         75        955      0.794      0.863      0.886      0.694\n"
     ]
    },
    {
     "name": "stderr",
     "output_type": "stream",
     "text": [
      "\n"
     ]
    },
    {
     "name": "stdout",
     "output_type": "stream",
     "text": [
      "\n",
      "      Epoch    GPU_mem   box_loss   cls_loss   dfl_loss  Instances       Size\n"
     ]
    },
    {
     "name": "stderr",
     "output_type": "stream",
     "text": [
      "      27/40      11.4G     0.7475     0.5544     0.8181         48        70\n",
      "                 Class     Images  Instances      Box(P          R      mAP5"
     ]
    },
    {
     "name": "stdout",
     "output_type": "stream",
     "text": [
      "                   all         75        955      0.799      0.867      0.886      0.686\n"
     ]
    },
    {
     "name": "stderr",
     "output_type": "stream",
     "text": [
      "\n"
     ]
    },
    {
     "name": "stdout",
     "output_type": "stream",
     "text": [
      "\n",
      "      Epoch    GPU_mem   box_loss   cls_loss   dfl_loss  Instances       Size\n"
     ]
    },
    {
     "name": "stderr",
     "output_type": "stream",
     "text": [
      "      28/40      11.4G      0.735      0.542     0.8136         20        70\n",
      "                 Class     Images  Instances      Box(P          R      mAP5"
     ]
    },
    {
     "name": "stdout",
     "output_type": "stream",
     "text": [
      "                   all         75        955      0.792      0.868      0.887      0.691\n"
     ]
    },
    {
     "name": "stderr",
     "output_type": "stream",
     "text": [
      "\n"
     ]
    },
    {
     "name": "stdout",
     "output_type": "stream",
     "text": [
      "\n",
      "      Epoch    GPU_mem   box_loss   cls_loss   dfl_loss  Instances       Size\n"
     ]
    },
    {
     "name": "stderr",
     "output_type": "stream",
     "text": [
      "      29/40      11.5G     0.7552     0.5364     0.8183         35        70\n",
      "                 Class     Images  Instances      Box(P          R      mAP5"
     ]
    },
    {
     "name": "stdout",
     "output_type": "stream",
     "text": [
      "                   all         75        955      0.792      0.873      0.886      0.693\n"
     ]
    },
    {
     "name": "stderr",
     "output_type": "stream",
     "text": [
      "\n"
     ]
    },
    {
     "name": "stdout",
     "output_type": "stream",
     "text": [
      "\n",
      "      Epoch    GPU_mem   box_loss   cls_loss   dfl_loss  Instances       Size\n"
     ]
    },
    {
     "name": "stderr",
     "output_type": "stream",
     "text": [
      "      30/40      11.4G      0.761     0.5613     0.8166          4        70\n",
      "                 Class     Images  Instances      Box(P          R      mAP5"
     ]
    },
    {
     "name": "stdout",
     "output_type": "stream",
     "text": [
      "                   all         75        955      0.792      0.871      0.887      0.695\n"
     ]
    },
    {
     "name": "stderr",
     "output_type": "stream",
     "text": [
      "\n"
     ]
    },
    {
     "name": "stdout",
     "output_type": "stream",
     "text": [
      "\n",
      "      Epoch    GPU_mem   box_loss   cls_loss   dfl_loss  Instances       Size\n"
     ]
    },
    {
     "name": "stderr",
     "output_type": "stream",
     "text": [
      "      31/40      11.4G     0.7476     0.5459     0.8164         23        70\n",
      "                 Class     Images  Instances      Box(P          R      mAP5"
     ]
    },
    {
     "name": "stdout",
     "output_type": "stream",
     "text": [
      "                   all         75        955      0.793       0.87      0.887      0.699\n"
     ]
    },
    {
     "name": "stderr",
     "output_type": "stream",
     "text": [
      "\n"
     ]
    },
    {
     "name": "stdout",
     "output_type": "stream",
     "text": [
      "\n",
      "      Epoch    GPU_mem   box_loss   cls_loss   dfl_loss  Instances       Size\n"
     ]
    },
    {
     "name": "stderr",
     "output_type": "stream",
     "text": [
      "      32/40      11.4G     0.7512     0.5489     0.8168          8        70\n",
      "                 Class     Images  Instances      Box(P          R      mAP5"
     ]
    },
    {
     "name": "stdout",
     "output_type": "stream",
     "text": [
      "                   all         75        955      0.797      0.869      0.887      0.698\n"
     ]
    },
    {
     "name": "stderr",
     "output_type": "stream",
     "text": [
      "\n"
     ]
    },
    {
     "name": "stdout",
     "output_type": "stream",
     "text": [
      "\n",
      "      Epoch    GPU_mem   box_loss   cls_loss   dfl_loss  Instances       Size\n"
     ]
    },
    {
     "name": "stderr",
     "output_type": "stream",
     "text": [
      "      33/40      11.4G     0.7414     0.5532     0.8149          5        70\n",
      "                 Class     Images  Instances      Box(P          R      mAP5"
     ]
    },
    {
     "name": "stdout",
     "output_type": "stream",
     "text": [
      "                   all         75        955      0.794      0.867      0.887      0.695\n"
     ]
    },
    {
     "name": "stderr",
     "output_type": "stream",
     "text": [
      "\n"
     ]
    },
    {
     "name": "stdout",
     "output_type": "stream",
     "text": [
      "\n",
      "      Epoch    GPU_mem   box_loss   cls_loss   dfl_loss  Instances       Size\n"
     ]
    },
    {
     "name": "stderr",
     "output_type": "stream",
     "text": [
      "      34/40      11.4G     0.7597     0.5451     0.8179         22        70\n",
      "                 Class     Images  Instances      Box(P          R      mAP5"
     ]
    },
    {
     "name": "stdout",
     "output_type": "stream",
     "text": [
      "                   all         75        955      0.798      0.868      0.887        0.7\n"
     ]
    },
    {
     "name": "stderr",
     "output_type": "stream",
     "text": [
      "\n"
     ]
    },
    {
     "name": "stdout",
     "output_type": "stream",
     "text": [
      "\n",
      "      Epoch    GPU_mem   box_loss   cls_loss   dfl_loss  Instances       Size\n"
     ]
    },
    {
     "name": "stderr",
     "output_type": "stream",
     "text": [
      "      35/40      11.4G     0.7599     0.5512     0.8182         17        70\n",
      "                 Class     Images  Instances      Box(P          R      mAP5"
     ]
    },
    {
     "name": "stdout",
     "output_type": "stream",
     "text": [
      "                   all         75        955      0.796      0.867      0.886        0.7\n"
     ]
    },
    {
     "name": "stderr",
     "output_type": "stream",
     "text": [
      "\n"
     ]
    },
    {
     "name": "stdout",
     "output_type": "stream",
     "text": [
      "\n",
      "      Epoch    GPU_mem   box_loss   cls_loss   dfl_loss  Instances       Size\n"
     ]
    },
    {
     "name": "stderr",
     "output_type": "stream",
     "text": [
      "      36/40      11.4G     0.7573     0.5379      0.816         32        70\n",
      "                 Class     Images  Instances      Box(P          R      mAP5"
     ]
    },
    {
     "name": "stdout",
     "output_type": "stream",
     "text": [
      "                   all         75        955      0.792      0.867      0.885      0.701\n"
     ]
    },
    {
     "name": "stderr",
     "output_type": "stream",
     "text": [
      "\n"
     ]
    },
    {
     "name": "stdout",
     "output_type": "stream",
     "text": [
      "\n",
      "      Epoch    GPU_mem   box_loss   cls_loss   dfl_loss  Instances       Size\n"
     ]
    },
    {
     "name": "stderr",
     "output_type": "stream",
     "text": [
      "      37/40      11.4G     0.7472     0.5397     0.8207         12        70\n",
      "                 Class     Images  Instances      Box(P          R      mAP5"
     ]
    },
    {
     "name": "stdout",
     "output_type": "stream",
     "text": [
      "                   all         75        955      0.795      0.865      0.885      0.701\n"
     ]
    },
    {
     "name": "stderr",
     "output_type": "stream",
     "text": [
      "\n"
     ]
    },
    {
     "name": "stdout",
     "output_type": "stream",
     "text": [
      "\n",
      "      Epoch    GPU_mem   box_loss   cls_loss   dfl_loss  Instances       Size\n"
     ]
    },
    {
     "name": "stderr",
     "output_type": "stream",
     "text": [
      "      38/40      11.4G     0.7616     0.5522     0.8184          4        70\n",
      "                 Class     Images  Instances      Box(P          R      mAP5"
     ]
    },
    {
     "name": "stdout",
     "output_type": "stream",
     "text": [
      "                   all         75        955      0.788      0.867      0.885      0.702\n"
     ]
    },
    {
     "name": "stderr",
     "output_type": "stream",
     "text": [
      "\n"
     ]
    },
    {
     "name": "stdout",
     "output_type": "stream",
     "text": [
      "\n",
      "      Epoch    GPU_mem   box_loss   cls_loss   dfl_loss  Instances       Size\n"
     ]
    },
    {
     "name": "stderr",
     "output_type": "stream",
     "text": [
      "      39/40      11.4G     0.7351      0.547     0.8162         20        70\n",
      "                 Class     Images  Instances      Box(P          R      mAP5"
     ]
    },
    {
     "name": "stdout",
     "output_type": "stream",
     "text": [
      "                   all         75        955      0.791      0.866      0.886        0.7\n"
     ]
    },
    {
     "name": "stderr",
     "output_type": "stream",
     "text": [
      "\n"
     ]
    },
    {
     "name": "stdout",
     "output_type": "stream",
     "text": [
      "\n",
      "      Epoch    GPU_mem   box_loss   cls_loss   dfl_loss  Instances       Size\n"
     ]
    },
    {
     "name": "stderr",
     "output_type": "stream",
     "text": [
      "      40/40      11.4G      0.727     0.5373     0.8137         28        70\n",
      "                 Class     Images  Instances      Box(P          R      mAP5"
     ]
    },
    {
     "name": "stdout",
     "output_type": "stream",
     "text": [
      "                   all         75        955       0.79      0.867      0.887        0.7\n"
     ]
    },
    {
     "name": "stderr",
     "output_type": "stream",
     "text": [
      "\n"
     ]
    },
    {
     "name": "stdout",
     "output_type": "stream",
     "text": [
      "\n",
      "40 epochs completed in 0.597 hours.\n",
      "Optimizer stripped from runs/detect/final_model_yolov12l/weights/last.pt, 53.5MB\n",
      "Optimizer stripped from runs/detect/final_model_yolov12l/weights/best.pt, 53.5MB\n",
      "\n",
      "Validating runs/detect/final_model_yolov12l/weights/best.pt...\n",
      "Ultralytics 8.3.169 🚀 Python-3.11.13 torch-2.6.0+cu124 CUDA:0 (NVIDIA TITAN Xp, 12190MiB)\n",
      "YOLOv12l summary (fused): 283 layers, 26,339,843 parameters, 0 gradients, 88.5 GFLOPs\n"
     ]
    },
    {
     "name": "stderr",
     "output_type": "stream",
     "text": [
      "                 Class     Images  Instances      Box(P          R      mAP5\n"
     ]
    },
    {
     "name": "stdout",
     "output_type": "stream",
     "text": [
      "                   all         75        955      0.789      0.868      0.885      0.702\n",
      "Speed: 0.2ms preprocess, 35.2ms inference, 0.0ms loss, 1.1ms postprocess per image\n",
      "Results saved to \u001b[1mruns/detect/final_model_yolov12l\u001b[0m\n"
     ]
    },
    {
     "data": {
      "text/plain": [
       "ultralytics.utils.metrics.DetMetrics object with attributes:\n",
       "\n",
       "ap_class_index: array([0])\n",
       "box: ultralytics.utils.metrics.Metric object\n",
       "confusion_matrix: <ultralytics.utils.metrics.ConfusionMatrix object at 0x7fdafc759ed0>\n",
       "curves: ['Precision-Recall(B)', 'F1-Confidence(B)', 'Precision-Confidence(B)', 'Recall-Confidence(B)']\n",
       "curves_results: [[array([          0,    0.001001,    0.002002,    0.003003,    0.004004,    0.005005,    0.006006,    0.007007,    0.008008,    0.009009,     0.01001,    0.011011,    0.012012,    0.013013,    0.014014,    0.015015,    0.016016,    0.017017,    0.018018,    0.019019,     0.02002,    0.021021,    0.022022,    0.023023,\n",
       "          0.024024,    0.025025,    0.026026,    0.027027,    0.028028,    0.029029,     0.03003,    0.031031,    0.032032,    0.033033,    0.034034,    0.035035,    0.036036,    0.037037,    0.038038,    0.039039,     0.04004,    0.041041,    0.042042,    0.043043,    0.044044,    0.045045,    0.046046,    0.047047,\n",
       "          0.048048,    0.049049,     0.05005,    0.051051,    0.052052,    0.053053,    0.054054,    0.055055,    0.056056,    0.057057,    0.058058,    0.059059,     0.06006,    0.061061,    0.062062,    0.063063,    0.064064,    0.065065,    0.066066,    0.067067,    0.068068,    0.069069,     0.07007,    0.071071,\n",
       "          0.072072,    0.073073,    0.074074,    0.075075,    0.076076,    0.077077,    0.078078,    0.079079,     0.08008,    0.081081,    0.082082,    0.083083,    0.084084,    0.085085,    0.086086,    0.087087,    0.088088,    0.089089,     0.09009,    0.091091,    0.092092,    0.093093,    0.094094,    0.095095,\n",
       "          0.096096,    0.097097,    0.098098,    0.099099,      0.1001,      0.1011,      0.1021,      0.1031,      0.1041,     0.10511,     0.10611,     0.10711,     0.10811,     0.10911,     0.11011,     0.11111,     0.11211,     0.11311,     0.11411,     0.11512,     0.11612,     0.11712,     0.11812,     0.11912,\n",
       "           0.12012,     0.12112,     0.12212,     0.12312,     0.12412,     0.12513,     0.12613,     0.12713,     0.12813,     0.12913,     0.13013,     0.13113,     0.13213,     0.13313,     0.13413,     0.13514,     0.13614,     0.13714,     0.13814,     0.13914,     0.14014,     0.14114,     0.14214,     0.14314,\n",
       "           0.14414,     0.14515,     0.14615,     0.14715,     0.14815,     0.14915,     0.15015,     0.15115,     0.15215,     0.15315,     0.15415,     0.15516,     0.15616,     0.15716,     0.15816,     0.15916,     0.16016,     0.16116,     0.16216,     0.16316,     0.16416,     0.16517,     0.16617,     0.16717,\n",
       "           0.16817,     0.16917,     0.17017,     0.17117,     0.17217,     0.17317,     0.17417,     0.17518,     0.17618,     0.17718,     0.17818,     0.17918,     0.18018,     0.18118,     0.18218,     0.18318,     0.18418,     0.18519,     0.18619,     0.18719,     0.18819,     0.18919,     0.19019,     0.19119,\n",
       "           0.19219,     0.19319,     0.19419,      0.1952,      0.1962,      0.1972,      0.1982,      0.1992,      0.2002,      0.2012,      0.2022,      0.2032,      0.2042,     0.20521,     0.20621,     0.20721,     0.20821,     0.20921,     0.21021,     0.21121,     0.21221,     0.21321,     0.21421,     0.21522,\n",
       "           0.21622,     0.21722,     0.21822,     0.21922,     0.22022,     0.22122,     0.22222,     0.22322,     0.22422,     0.22523,     0.22623,     0.22723,     0.22823,     0.22923,     0.23023,     0.23123,     0.23223,     0.23323,     0.23423,     0.23524,     0.23624,     0.23724,     0.23824,     0.23924,\n",
       "           0.24024,     0.24124,     0.24224,     0.24324,     0.24424,     0.24525,     0.24625,     0.24725,     0.24825,     0.24925,     0.25025,     0.25125,     0.25225,     0.25325,     0.25425,     0.25526,     0.25626,     0.25726,     0.25826,     0.25926,     0.26026,     0.26126,     0.26226,     0.26326,\n",
       "           0.26426,     0.26527,     0.26627,     0.26727,     0.26827,     0.26927,     0.27027,     0.27127,     0.27227,     0.27327,     0.27427,     0.27528,     0.27628,     0.27728,     0.27828,     0.27928,     0.28028,     0.28128,     0.28228,     0.28328,     0.28428,     0.28529,     0.28629,     0.28729,\n",
       "           0.28829,     0.28929,     0.29029,     0.29129,     0.29229,     0.29329,     0.29429,      0.2953,      0.2963,      0.2973,      0.2983,      0.2993,      0.3003,      0.3013,      0.3023,      0.3033,      0.3043,     0.30531,     0.30631,     0.30731,     0.30831,     0.30931,     0.31031,     0.31131,\n",
       "           0.31231,     0.31331,     0.31431,     0.31532,     0.31632,     0.31732,     0.31832,     0.31932,     0.32032,     0.32132,     0.32232,     0.32332,     0.32432,     0.32533,     0.32633,     0.32733,     0.32833,     0.32933,     0.33033,     0.33133,     0.33233,     0.33333,     0.33433,     0.33534,\n",
       "           0.33634,     0.33734,     0.33834,     0.33934,     0.34034,     0.34134,     0.34234,     0.34334,     0.34434,     0.34535,     0.34635,     0.34735,     0.34835,     0.34935,     0.35035,     0.35135,     0.35235,     0.35335,     0.35435,     0.35536,     0.35636,     0.35736,     0.35836,     0.35936,\n",
       "           0.36036,     0.36136,     0.36236,     0.36336,     0.36436,     0.36537,     0.36637,     0.36737,     0.36837,     0.36937,     0.37037,     0.37137,     0.37237,     0.37337,     0.37437,     0.37538,     0.37638,     0.37738,     0.37838,     0.37938,     0.38038,     0.38138,     0.38238,     0.38338,\n",
       "           0.38438,     0.38539,     0.38639,     0.38739,     0.38839,     0.38939,     0.39039,     0.39139,     0.39239,     0.39339,     0.39439,      0.3954,      0.3964,      0.3974,      0.3984,      0.3994,      0.4004,      0.4014,      0.4024,      0.4034,      0.4044,     0.40541,     0.40641,     0.40741,\n",
       "           0.40841,     0.40941,     0.41041,     0.41141,     0.41241,     0.41341,     0.41441,     0.41542,     0.41642,     0.41742,     0.41842,     0.41942,     0.42042,     0.42142,     0.42242,     0.42342,     0.42442,     0.42543,     0.42643,     0.42743,     0.42843,     0.42943,     0.43043,     0.43143,\n",
       "           0.43243,     0.43343,     0.43443,     0.43544,     0.43644,     0.43744,     0.43844,     0.43944,     0.44044,     0.44144,     0.44244,     0.44344,     0.44444,     0.44545,     0.44645,     0.44745,     0.44845,     0.44945,     0.45045,     0.45145,     0.45245,     0.45345,     0.45445,     0.45546,\n",
       "           0.45646,     0.45746,     0.45846,     0.45946,     0.46046,     0.46146,     0.46246,     0.46346,     0.46446,     0.46547,     0.46647,     0.46747,     0.46847,     0.46947,     0.47047,     0.47147,     0.47247,     0.47347,     0.47447,     0.47548,     0.47648,     0.47748,     0.47848,     0.47948,\n",
       "           0.48048,     0.48148,     0.48248,     0.48348,     0.48448,     0.48549,     0.48649,     0.48749,     0.48849,     0.48949,     0.49049,     0.49149,     0.49249,     0.49349,     0.49449,      0.4955,      0.4965,      0.4975,      0.4985,      0.4995,      0.5005,      0.5015,      0.5025,      0.5035,\n",
       "            0.5045,     0.50551,     0.50651,     0.50751,     0.50851,     0.50951,     0.51051,     0.51151,     0.51251,     0.51351,     0.51451,     0.51552,     0.51652,     0.51752,     0.51852,     0.51952,     0.52052,     0.52152,     0.52252,     0.52352,     0.52452,     0.52553,     0.52653,     0.52753,\n",
       "           0.52853,     0.52953,     0.53053,     0.53153,     0.53253,     0.53353,     0.53453,     0.53554,     0.53654,     0.53754,     0.53854,     0.53954,     0.54054,     0.54154,     0.54254,     0.54354,     0.54454,     0.54555,     0.54655,     0.54755,     0.54855,     0.54955,     0.55055,     0.55155,\n",
       "           0.55255,     0.55355,     0.55455,     0.55556,     0.55656,     0.55756,     0.55856,     0.55956,     0.56056,     0.56156,     0.56256,     0.56356,     0.56456,     0.56557,     0.56657,     0.56757,     0.56857,     0.56957,     0.57057,     0.57157,     0.57257,     0.57357,     0.57457,     0.57558,\n",
       "           0.57658,     0.57758,     0.57858,     0.57958,     0.58058,     0.58158,     0.58258,     0.58358,     0.58458,     0.58559,     0.58659,     0.58759,     0.58859,     0.58959,     0.59059,     0.59159,     0.59259,     0.59359,     0.59459,      0.5956,      0.5966,      0.5976,      0.5986,      0.5996,\n",
       "            0.6006,      0.6016,      0.6026,      0.6036,      0.6046,     0.60561,     0.60661,     0.60761,     0.60861,     0.60961,     0.61061,     0.61161,     0.61261,     0.61361,     0.61461,     0.61562,     0.61662,     0.61762,     0.61862,     0.61962,     0.62062,     0.62162,     0.62262,     0.62362,\n",
       "           0.62462,     0.62563,     0.62663,     0.62763,     0.62863,     0.62963,     0.63063,     0.63163,     0.63263,     0.63363,     0.63463,     0.63564,     0.63664,     0.63764,     0.63864,     0.63964,     0.64064,     0.64164,     0.64264,     0.64364,     0.64464,     0.64565,     0.64665,     0.64765,\n",
       "           0.64865,     0.64965,     0.65065,     0.65165,     0.65265,     0.65365,     0.65465,     0.65566,     0.65666,     0.65766,     0.65866,     0.65966,     0.66066,     0.66166,     0.66266,     0.66366,     0.66466,     0.66567,     0.66667,     0.66767,     0.66867,     0.66967,     0.67067,     0.67167,\n",
       "           0.67267,     0.67367,     0.67467,     0.67568,     0.67668,     0.67768,     0.67868,     0.67968,     0.68068,     0.68168,     0.68268,     0.68368,     0.68468,     0.68569,     0.68669,     0.68769,     0.68869,     0.68969,     0.69069,     0.69169,     0.69269,     0.69369,     0.69469,      0.6957,\n",
       "            0.6967,      0.6977,      0.6987,      0.6997,      0.7007,      0.7017,      0.7027,      0.7037,      0.7047,     0.70571,     0.70671,     0.70771,     0.70871,     0.70971,     0.71071,     0.71171,     0.71271,     0.71371,     0.71471,     0.71572,     0.71672,     0.71772,     0.71872,     0.71972,\n",
       "           0.72072,     0.72172,     0.72272,     0.72372,     0.72472,     0.72573,     0.72673,     0.72773,     0.72873,     0.72973,     0.73073,     0.73173,     0.73273,     0.73373,     0.73473,     0.73574,     0.73674,     0.73774,     0.73874,     0.73974,     0.74074,     0.74174,     0.74274,     0.74374,\n",
       "           0.74474,     0.74575,     0.74675,     0.74775,     0.74875,     0.74975,     0.75075,     0.75175,     0.75275,     0.75375,     0.75475,     0.75576,     0.75676,     0.75776,     0.75876,     0.75976,     0.76076,     0.76176,     0.76276,     0.76376,     0.76476,     0.76577,     0.76677,     0.76777,\n",
       "           0.76877,     0.76977,     0.77077,     0.77177,     0.77277,     0.77377,     0.77477,     0.77578,     0.77678,     0.77778,     0.77878,     0.77978,     0.78078,     0.78178,     0.78278,     0.78378,     0.78478,     0.78579,     0.78679,     0.78779,     0.78879,     0.78979,     0.79079,     0.79179,\n",
       "           0.79279,     0.79379,     0.79479,      0.7958,      0.7968,      0.7978,      0.7988,      0.7998,      0.8008,      0.8018,      0.8028,      0.8038,      0.8048,     0.80581,     0.80681,     0.80781,     0.80881,     0.80981,     0.81081,     0.81181,     0.81281,     0.81381,     0.81481,     0.81582,\n",
       "           0.81682,     0.81782,     0.81882,     0.81982,     0.82082,     0.82182,     0.82282,     0.82382,     0.82482,     0.82583,     0.82683,     0.82783,     0.82883,     0.82983,     0.83083,     0.83183,     0.83283,     0.83383,     0.83483,     0.83584,     0.83684,     0.83784,     0.83884,     0.83984,\n",
       "           0.84084,     0.84184,     0.84284,     0.84384,     0.84484,     0.84585,     0.84685,     0.84785,     0.84885,     0.84985,     0.85085,     0.85185,     0.85285,     0.85385,     0.85485,     0.85586,     0.85686,     0.85786,     0.85886,     0.85986,     0.86086,     0.86186,     0.86286,     0.86386,\n",
       "           0.86486,     0.86587,     0.86687,     0.86787,     0.86887,     0.86987,     0.87087,     0.87187,     0.87287,     0.87387,     0.87487,     0.87588,     0.87688,     0.87788,     0.87888,     0.87988,     0.88088,     0.88188,     0.88288,     0.88388,     0.88488,     0.88589,     0.88689,     0.88789,\n",
       "           0.88889,     0.88989,     0.89089,     0.89189,     0.89289,     0.89389,     0.89489,      0.8959,      0.8969,      0.8979,      0.8989,      0.8999,      0.9009,      0.9019,      0.9029,      0.9039,      0.9049,     0.90591,     0.90691,     0.90791,     0.90891,     0.90991,     0.91091,     0.91191,\n",
       "           0.91291,     0.91391,     0.91491,     0.91592,     0.91692,     0.91792,     0.91892,     0.91992,     0.92092,     0.92192,     0.92292,     0.92392,     0.92492,     0.92593,     0.92693,     0.92793,     0.92893,     0.92993,     0.93093,     0.93193,     0.93293,     0.93393,     0.93493,     0.93594,\n",
       "           0.93694,     0.93794,     0.93894,     0.93994,     0.94094,     0.94194,     0.94294,     0.94394,     0.94494,     0.94595,     0.94695,     0.94795,     0.94895,     0.94995,     0.95095,     0.95195,     0.95295,     0.95395,     0.95495,     0.95596,     0.95696,     0.95796,     0.95896,     0.95996,\n",
       "           0.96096,     0.96196,     0.96296,     0.96396,     0.96496,     0.96597,     0.96697,     0.96797,     0.96897,     0.96997,     0.97097,     0.97197,     0.97297,     0.97397,     0.97497,     0.97598,     0.97698,     0.97798,     0.97898,     0.97998,     0.98098,     0.98198,     0.98298,     0.98398,\n",
       "           0.98498,     0.98599,     0.98699,     0.98799,     0.98899,     0.98999,     0.99099,     0.99199,     0.99299,     0.99399,     0.99499,       0.996,       0.997,       0.998,       0.999,           1]), array([[          1,           1,           1,           1,           1,           1,           1,           1,           1,           1,           1,           1,     0.98795,     0.98795,     0.98795,     0.98795,     0.98795,     0.98795,     0.98795,     0.98795,     0.98795,     0.98795,     0.98795,\n",
       "            0.98795,     0.98795,     0.98795,     0.98795,     0.98795,     0.98795,     0.98795,     0.98795,     0.98795,     0.98795,     0.98795,     0.98795,     0.98795,     0.98795,     0.98795,     0.98795,     0.98795,     0.98795,     0.98795,     0.98795,     0.98795,     0.98795,     0.98795,\n",
       "            0.98795,     0.98795,     0.98795,     0.98795,     0.98795,     0.98795,     0.98795,     0.98795,     0.98795,     0.98795,     0.98795,     0.98795,     0.98795,     0.98795,     0.98795,     0.98795,     0.98795,     0.98795,     0.98795,     0.98795,     0.98795,     0.98795,     0.98795,\n",
       "            0.98795,     0.98795,     0.98795,     0.98795,     0.98795,     0.98795,     0.98795,     0.98795,     0.98795,     0.98795,     0.98795,     0.98795,     0.98795,     0.98795,     0.98795,     0.98795,     0.98795,     0.98601,     0.98601,     0.98601,     0.98601,     0.98601,     0.98601,\n",
       "            0.98601,     0.98601,     0.98601,     0.98601,     0.98601,     0.98601,     0.98601,     0.98601,     0.98601,     0.98601,     0.98601,     0.98601,     0.98601,     0.98601,     0.98601,     0.98601,     0.98601,     0.98601,     0.98601,     0.98601,     0.98601,     0.98601,     0.98601,\n",
       "            0.98601,     0.98601,     0.98601,     0.98601,     0.98601,     0.98601,     0.98601,     0.98601,     0.98601,     0.98601,     0.98601,     0.98601,     0.98601,     0.98601,     0.98601,     0.98601,     0.98601,     0.98601,     0.98601,     0.98601,     0.98601,     0.98601,     0.98601,\n",
       "            0.98601,     0.98601,     0.98601,     0.98601,     0.98601,     0.98601,     0.98601,     0.98601,     0.98601,     0.98601,     0.98077,     0.98077,     0.98077,     0.98077,     0.98077,     0.98077,     0.98077,     0.98077,     0.98077,     0.98077,     0.98077,     0.98077,     0.98077,\n",
       "            0.97661,     0.97661,     0.97661,     0.97661,     0.97661,     0.97661,     0.97661,     0.97661,     0.97661,     0.97661,     0.97661,     0.97661,     0.97661,     0.97661,     0.97175,     0.97175,     0.97175,     0.97175,     0.97175,     0.96757,     0.96757,     0.96757,     0.96757,\n",
       "            0.96757,     0.96757,     0.96757,     0.96757,     0.96552,     0.96552,     0.96552,     0.96552,     0.96552,     0.96552,     0.96552,     0.96552,     0.96552,     0.96552,     0.96552,     0.96552,     0.96552,     0.96552,     0.96552,     0.96552,     0.96552,     0.96552,     0.96452,\n",
       "            0.96452,     0.96452,     0.96452,     0.96452,     0.96452,     0.96452,     0.96452,     0.96452,     0.96452,     0.96452,     0.96452,     0.96452,     0.96452,     0.96452,     0.96452,     0.96452,     0.96452,     0.96452,     0.96452,     0.96452,     0.96452,     0.96452,     0.96452,\n",
       "            0.96452,     0.96452,     0.96452,     0.96452,     0.96452,     0.96452,     0.96452,     0.96452,     0.96452,     0.96452,     0.96452,     0.96452,     0.96452,     0.96452,     0.96452,     0.96452,     0.96452,     0.96452,     0.96452,     0.96452,     0.96452,     0.96452,     0.96452,\n",
       "            0.96452,     0.96452,     0.96452,     0.96452,     0.96452,     0.96452,     0.96452,     0.96452,     0.96452,     0.96452,     0.96452,     0.96452,     0.96452,     0.96452,     0.96452,     0.96452,     0.96452,     0.96452,     0.96452,     0.96452,     0.96452,     0.96452,     0.96452,\n",
       "            0.96452,     0.96452,     0.96452,     0.96452,     0.96452,     0.96452,     0.96452,     0.96452,     0.96452,     0.96452,     0.96452,     0.96452,     0.96452,     0.96452,     0.96452,     0.96452,     0.96452,     0.96452,     0.96452,     0.96452,     0.96452,     0.96452,     0.96452,\n",
       "            0.96452,     0.96452,     0.96452,     0.96452,     0.96452,     0.96452,     0.96452,     0.96452,     0.96452,     0.96452,     0.96452,     0.96452,     0.96452,     0.96452,     0.96379,     0.96379,     0.96379,     0.96379,     0.96379,     0.96379,     0.96379,     0.96379,     0.96379,\n",
       "            0.96379,     0.96379,     0.96379,     0.96379,     0.96379,     0.96379,     0.96379,     0.96379,     0.96379,     0.96379,     0.96379,     0.96379,     0.96379,     0.96379,     0.96379,     0.96379,     0.96379,     0.96379,     0.96379,     0.96379,     0.96379,     0.96379,     0.96379,\n",
       "            0.96379,     0.96379,     0.96379,     0.96379,     0.96379,     0.96379,     0.96379,     0.96379,     0.96379,     0.96379,     0.96379,     0.96379,     0.96379,     0.96379,     0.96379,     0.96379,     0.96379,     0.95935,     0.95935,     0.95935,     0.95935,     0.95935,     0.95935,\n",
       "            0.95935,     0.95935,     0.95935,     0.95699,     0.95699,     0.95467,     0.95467,     0.95443,     0.95443,     0.95443,     0.95443,     0.95443,     0.95443,     0.95443,     0.95443,     0.95443,     0.95443,     0.95443,     0.95443,     0.95443,     0.95443,     0.95443,     0.95443,\n",
       "            0.95443,     0.95443,     0.95443,     0.95443,     0.95433,     0.95433,     0.95433,     0.95433,     0.95433,     0.95433,     0.95433,     0.95433,     0.95433,     0.95433,     0.95433,     0.95433,     0.95433,     0.95433,     0.95433,     0.95433,     0.95433,     0.95433,     0.95433,\n",
       "            0.95433,     0.95433,     0.95227,     0.95227,      0.9507,      0.9507,      0.9507,      0.9507,      0.9507,      0.9507,     0.94872,     0.94872,     0.94872,     0.94872,     0.94872,     0.94872,     0.94872,     0.94872,     0.94872,     0.94872,     0.94872,     0.94872,     0.94872,\n",
       "            0.94872,     0.94872,     0.94872,     0.94872,     0.94872,     0.94872,     0.94872,     0.94872,     0.94872,     0.94872,     0.94872,     0.94872,     0.94872,     0.94872,     0.94872,     0.94872,     0.94872,     0.94872,     0.94872,     0.94872,     0.94872,     0.94872,     0.94872,\n",
       "            0.94872,     0.94872,     0.94872,     0.94872,     0.94872,     0.94872,     0.94872,     0.94872,     0.94872,     0.94872,     0.94872,     0.94872,     0.94872,     0.94872,     0.94872,     0.94872,     0.94872,     0.94872,     0.94872,     0.94872,     0.94872,     0.94872,     0.94872,\n",
       "            0.94872,     0.94872,     0.94872,     0.94872,     0.94872,     0.94872,     0.94872,     0.94872,     0.94872,     0.94872,     0.94872,     0.94872,     0.94872,     0.94872,     0.94872,     0.94872,     0.94872,     0.94872,     0.94872,     0.94872,     0.94872,     0.94706,     0.94706,\n",
       "            0.94563,     0.94563,     0.94563,     0.94563,     0.94444,     0.94444,     0.94444,     0.94444,     0.94444,     0.94444,     0.94413,     0.94413,     0.94413,     0.94413,     0.94413,     0.94413,     0.94413,     0.94413,     0.94413,     0.94413,     0.94413,     0.94413,     0.94413,\n",
       "            0.94413,     0.94413,      0.9415,      0.9415,      0.9415,      0.9415,      0.9415,      0.9415,      0.9415,      0.9415,     0.94107,     0.94107,     0.94107,     0.94107,     0.94107,     0.94107,     0.94107,     0.94107,     0.94107,     0.94107,     0.94107,     0.94107,     0.94107,\n",
       "            0.93993,     0.93993,     0.93993,     0.93993,     0.93993,     0.93739,     0.93739,     0.93739,     0.93739,     0.93739,     0.93739,     0.93739,     0.93599,     0.93599,     0.93151,     0.93151,     0.93151,     0.93151,     0.93003,     0.92869,     0.92869,     0.92724,     0.92654,\n",
       "            0.92654,     0.92654,     0.92654,     0.92654,     0.92654,     0.92654,     0.92537,     0.92537,     0.92537,     0.92471,     0.92471,     0.92471,     0.92471,     0.92471,     0.92471,     0.92471,     0.92471,     0.92345,     0.92345,     0.92332,     0.92332,     0.92332,     0.92332,\n",
       "            0.92332,     0.92332,     0.92332,     0.92332,     0.92332,     0.92332,     0.92332,     0.92063,     0.92063,     0.91576,     0.91576,     0.91576,     0.91576,     0.91576,     0.91576,     0.91576,     0.91576,     0.91473,     0.91473,     0.91473,     0.91437,     0.91437,     0.91437,\n",
       "            0.91437,     0.91437,     0.91437,     0.91437,     0.91437,     0.91185,     0.91185,     0.91061,     0.91004,     0.91004,     0.91004,     0.91004,     0.91004,     0.91004,     0.90746,     0.90746,     0.90639,     0.90639,     0.90574,     0.90574,     0.90574,     0.90574,     0.90574,\n",
       "            0.90511,     0.90511,     0.90511,     0.90511,     0.90511,      0.9029,      0.9029,      0.9029,     0.90173,     0.90058,     0.89843,     0.89843,     0.89843,     0.89601,     0.89504,     0.89504,     0.89504,     0.89407,     0.89407,     0.89311,     0.89311,     0.89208,     0.89208,\n",
       "            0.89208,     0.89208,     0.89208,     0.89208,     0.89208,     0.89208,     0.89208,     0.89208,     0.89208,     0.89208,     0.89208,     0.89208,     0.89208,     0.89208,     0.89208,     0.89208,     0.89208,     0.89145,     0.89145,     0.89145,     0.89145,     0.89142,     0.89142,\n",
       "            0.89142,     0.89142,     0.89142,     0.89142,     0.89142,     0.89142,     0.88815,     0.88815,     0.88801,     0.88801,     0.88801,     0.88801,     0.88801,     0.88801,     0.88801,     0.88801,     0.88729,     0.88729,     0.88729,     0.88542,     0.88542,     0.88542,     0.88357,\n",
       "            0.88357,     0.88357,     0.88303,     0.88303,     0.88303,     0.88303,     0.88092,     0.88025,     0.88025,     0.88025,     0.87863,     0.87863,     0.87863,     0.87863,     0.87863,     0.87814,     0.87814,     0.87814,     0.87814,     0.87702,     0.87702,     0.87702,     0.87702,\n",
       "            0.87702,     0.87702,     0.87702,     0.87531,     0.87531,     0.87531,     0.87438,     0.87346,     0.87073,     0.87073,     0.87073,     0.86983,     0.86893,     0.86747,     0.86747,     0.86747,     0.86747,     0.86747,     0.86571,     0.86571,     0.86483,     0.86293,       0.859,\n",
       "            0.85832,     0.85832,     0.85664,     0.85664,     0.85631,     0.85631,     0.85631,     0.85631,     0.85448,     0.85366,     0.85185,     0.85023,     0.85023,     0.85023,     0.84845,     0.84783,     0.84783,     0.84414,     0.84354,     0.84354,     0.84199,     0.84199,     0.84063,\n",
       "            0.84063,     0.84063,     0.83942,     0.83942,     0.83942,     0.83942,     0.83942,     0.83942,     0.83942,     0.83942,     0.83942,     0.83903,     0.83903,     0.83903,     0.83903,     0.83846,     0.83846,     0.83807,     0.83807,     0.83807,     0.83751,     0.83751,     0.83678,\n",
       "            0.83532,     0.83532,     0.83369,     0.83297,     0.83136,      0.8312,      0.8312,      0.8312,      0.8312,     0.83067,     0.83067,     0.83033,     0.83033,     0.83033,     0.83033,     0.82632,     0.82632,     0.82563,     0.82513,     0.82513,     0.82414,     0.82414,     0.82414,\n",
       "            0.82414,     0.82347,      0.8228,      0.8179,     0.81493,     0.81493,     0.81429,      0.8132,      0.8132,      0.8132,     0.81256,      0.8113,      0.8113,      0.8113,     0.81062,     0.81062,     0.81062,     0.81062,     0.81062,        0.81,     0.80938,     0.80876,     0.80553,\n",
       "            0.80553,     0.80553,     0.80553,     0.80334,     0.80275,     0.80235,     0.80235,     0.80019,     0.79825,     0.79825,     0.79691,     0.79251,     0.79251,     0.79119,     0.78932,     0.78932,     0.78897,     0.78897,     0.78768,     0.78645,     0.78645,     0.78645,     0.78645,\n",
       "            0.78645,     0.78612,     0.78612,     0.78578,     0.78578,     0.78378,     0.78326,       0.782,     0.78148,     0.78116,     0.78116,     0.77706,     0.77706,     0.77656,     0.77646,     0.77646,     0.77646,     0.77244,     0.77125,     0.76937,     0.76888,     0.76703,     0.76313,\n",
       "            0.76267,     0.75926,     0.75926,     0.75926,     0.75747,     0.75702,     0.75239,     0.75239,     0.75239,        0.75,     0.74443,     0.74337,     0.74337,     0.74043,     0.74024,     0.74024,      0.7392,      0.7388,     0.73529,      0.7349,     0.73434,     0.73434,     0.73434,\n",
       "            0.72488,      0.7186,     0.71847,     0.71847,     0.71812,     0.71602,      0.7088,     0.70397,     0.70309,     0.69945,     0.69695,     0.69695,     0.69177,     0.68196,     0.68064,     0.67727,     0.67142,     0.66841,     0.66841,     0.66175,     0.66054,     0.65646,     0.65148,\n",
       "            0.64659,     0.64134,     0.63553,     0.63553,     0.63445,     0.63294,     0.63099,     0.62863,     0.62759,     0.61889,     0.61789,     0.61789,     0.59987,     0.59895,     0.59147,     0.57429,     0.54164,     0.47247,     0.47152,     0.46512,     0.44386,     0.43697,     0.42731,\n",
       "            0.41491,     0.40026,     0.39421,     0.38449,     0.36109,     0.31556,     0.21705,     0.20901,     0.20097,     0.19293,     0.18489,     0.17685,     0.16882,     0.16078,     0.15274,      0.1447,     0.13666,     0.12862,     0.12058,     0.11254,      0.1045,    0.096466,    0.088427,\n",
       "           0.080388,     0.07235,    0.064311,    0.056272,    0.048233,    0.040194,    0.032155,    0.024117,    0.016078,   0.0080388,           0]]), 'Recall', 'Precision'], [array([          0,    0.001001,    0.002002,    0.003003,    0.004004,    0.005005,    0.006006,    0.007007,    0.008008,    0.009009,     0.01001,    0.011011,    0.012012,    0.013013,    0.014014,    0.015015,    0.016016,    0.017017,    0.018018,    0.019019,     0.02002,    0.021021,    0.022022,    0.023023,\n",
       "          0.024024,    0.025025,    0.026026,    0.027027,    0.028028,    0.029029,     0.03003,    0.031031,    0.032032,    0.033033,    0.034034,    0.035035,    0.036036,    0.037037,    0.038038,    0.039039,     0.04004,    0.041041,    0.042042,    0.043043,    0.044044,    0.045045,    0.046046,    0.047047,\n",
       "          0.048048,    0.049049,     0.05005,    0.051051,    0.052052,    0.053053,    0.054054,    0.055055,    0.056056,    0.057057,    0.058058,    0.059059,     0.06006,    0.061061,    0.062062,    0.063063,    0.064064,    0.065065,    0.066066,    0.067067,    0.068068,    0.069069,     0.07007,    0.071071,\n",
       "          0.072072,    0.073073,    0.074074,    0.075075,    0.076076,    0.077077,    0.078078,    0.079079,     0.08008,    0.081081,    0.082082,    0.083083,    0.084084,    0.085085,    0.086086,    0.087087,    0.088088,    0.089089,     0.09009,    0.091091,    0.092092,    0.093093,    0.094094,    0.095095,\n",
       "          0.096096,    0.097097,    0.098098,    0.099099,      0.1001,      0.1011,      0.1021,      0.1031,      0.1041,     0.10511,     0.10611,     0.10711,     0.10811,     0.10911,     0.11011,     0.11111,     0.11211,     0.11311,     0.11411,     0.11512,     0.11612,     0.11712,     0.11812,     0.11912,\n",
       "           0.12012,     0.12112,     0.12212,     0.12312,     0.12412,     0.12513,     0.12613,     0.12713,     0.12813,     0.12913,     0.13013,     0.13113,     0.13213,     0.13313,     0.13413,     0.13514,     0.13614,     0.13714,     0.13814,     0.13914,     0.14014,     0.14114,     0.14214,     0.14314,\n",
       "           0.14414,     0.14515,     0.14615,     0.14715,     0.14815,     0.14915,     0.15015,     0.15115,     0.15215,     0.15315,     0.15415,     0.15516,     0.15616,     0.15716,     0.15816,     0.15916,     0.16016,     0.16116,     0.16216,     0.16316,     0.16416,     0.16517,     0.16617,     0.16717,\n",
       "           0.16817,     0.16917,     0.17017,     0.17117,     0.17217,     0.17317,     0.17417,     0.17518,     0.17618,     0.17718,     0.17818,     0.17918,     0.18018,     0.18118,     0.18218,     0.18318,     0.18418,     0.18519,     0.18619,     0.18719,     0.18819,     0.18919,     0.19019,     0.19119,\n",
       "           0.19219,     0.19319,     0.19419,      0.1952,      0.1962,      0.1972,      0.1982,      0.1992,      0.2002,      0.2012,      0.2022,      0.2032,      0.2042,     0.20521,     0.20621,     0.20721,     0.20821,     0.20921,     0.21021,     0.21121,     0.21221,     0.21321,     0.21421,     0.21522,\n",
       "           0.21622,     0.21722,     0.21822,     0.21922,     0.22022,     0.22122,     0.22222,     0.22322,     0.22422,     0.22523,     0.22623,     0.22723,     0.22823,     0.22923,     0.23023,     0.23123,     0.23223,     0.23323,     0.23423,     0.23524,     0.23624,     0.23724,     0.23824,     0.23924,\n",
       "           0.24024,     0.24124,     0.24224,     0.24324,     0.24424,     0.24525,     0.24625,     0.24725,     0.24825,     0.24925,     0.25025,     0.25125,     0.25225,     0.25325,     0.25425,     0.25526,     0.25626,     0.25726,     0.25826,     0.25926,     0.26026,     0.26126,     0.26226,     0.26326,\n",
       "           0.26426,     0.26527,     0.26627,     0.26727,     0.26827,     0.26927,     0.27027,     0.27127,     0.27227,     0.27327,     0.27427,     0.27528,     0.27628,     0.27728,     0.27828,     0.27928,     0.28028,     0.28128,     0.28228,     0.28328,     0.28428,     0.28529,     0.28629,     0.28729,\n",
       "           0.28829,     0.28929,     0.29029,     0.29129,     0.29229,     0.29329,     0.29429,      0.2953,      0.2963,      0.2973,      0.2983,      0.2993,      0.3003,      0.3013,      0.3023,      0.3033,      0.3043,     0.30531,     0.30631,     0.30731,     0.30831,     0.30931,     0.31031,     0.31131,\n",
       "           0.31231,     0.31331,     0.31431,     0.31532,     0.31632,     0.31732,     0.31832,     0.31932,     0.32032,     0.32132,     0.32232,     0.32332,     0.32432,     0.32533,     0.32633,     0.32733,     0.32833,     0.32933,     0.33033,     0.33133,     0.33233,     0.33333,     0.33433,     0.33534,\n",
       "           0.33634,     0.33734,     0.33834,     0.33934,     0.34034,     0.34134,     0.34234,     0.34334,     0.34434,     0.34535,     0.34635,     0.34735,     0.34835,     0.34935,     0.35035,     0.35135,     0.35235,     0.35335,     0.35435,     0.35536,     0.35636,     0.35736,     0.35836,     0.35936,\n",
       "           0.36036,     0.36136,     0.36236,     0.36336,     0.36436,     0.36537,     0.36637,     0.36737,     0.36837,     0.36937,     0.37037,     0.37137,     0.37237,     0.37337,     0.37437,     0.37538,     0.37638,     0.37738,     0.37838,     0.37938,     0.38038,     0.38138,     0.38238,     0.38338,\n",
       "           0.38438,     0.38539,     0.38639,     0.38739,     0.38839,     0.38939,     0.39039,     0.39139,     0.39239,     0.39339,     0.39439,      0.3954,      0.3964,      0.3974,      0.3984,      0.3994,      0.4004,      0.4014,      0.4024,      0.4034,      0.4044,     0.40541,     0.40641,     0.40741,\n",
       "           0.40841,     0.40941,     0.41041,     0.41141,     0.41241,     0.41341,     0.41441,     0.41542,     0.41642,     0.41742,     0.41842,     0.41942,     0.42042,     0.42142,     0.42242,     0.42342,     0.42442,     0.42543,     0.42643,     0.42743,     0.42843,     0.42943,     0.43043,     0.43143,\n",
       "           0.43243,     0.43343,     0.43443,     0.43544,     0.43644,     0.43744,     0.43844,     0.43944,     0.44044,     0.44144,     0.44244,     0.44344,     0.44444,     0.44545,     0.44645,     0.44745,     0.44845,     0.44945,     0.45045,     0.45145,     0.45245,     0.45345,     0.45445,     0.45546,\n",
       "           0.45646,     0.45746,     0.45846,     0.45946,     0.46046,     0.46146,     0.46246,     0.46346,     0.46446,     0.46547,     0.46647,     0.46747,     0.46847,     0.46947,     0.47047,     0.47147,     0.47247,     0.47347,     0.47447,     0.47548,     0.47648,     0.47748,     0.47848,     0.47948,\n",
       "           0.48048,     0.48148,     0.48248,     0.48348,     0.48448,     0.48549,     0.48649,     0.48749,     0.48849,     0.48949,     0.49049,     0.49149,     0.49249,     0.49349,     0.49449,      0.4955,      0.4965,      0.4975,      0.4985,      0.4995,      0.5005,      0.5015,      0.5025,      0.5035,\n",
       "            0.5045,     0.50551,     0.50651,     0.50751,     0.50851,     0.50951,     0.51051,     0.51151,     0.51251,     0.51351,     0.51451,     0.51552,     0.51652,     0.51752,     0.51852,     0.51952,     0.52052,     0.52152,     0.52252,     0.52352,     0.52452,     0.52553,     0.52653,     0.52753,\n",
       "           0.52853,     0.52953,     0.53053,     0.53153,     0.53253,     0.53353,     0.53453,     0.53554,     0.53654,     0.53754,     0.53854,     0.53954,     0.54054,     0.54154,     0.54254,     0.54354,     0.54454,     0.54555,     0.54655,     0.54755,     0.54855,     0.54955,     0.55055,     0.55155,\n",
       "           0.55255,     0.55355,     0.55455,     0.55556,     0.55656,     0.55756,     0.55856,     0.55956,     0.56056,     0.56156,     0.56256,     0.56356,     0.56456,     0.56557,     0.56657,     0.56757,     0.56857,     0.56957,     0.57057,     0.57157,     0.57257,     0.57357,     0.57457,     0.57558,\n",
       "           0.57658,     0.57758,     0.57858,     0.57958,     0.58058,     0.58158,     0.58258,     0.58358,     0.58458,     0.58559,     0.58659,     0.58759,     0.58859,     0.58959,     0.59059,     0.59159,     0.59259,     0.59359,     0.59459,      0.5956,      0.5966,      0.5976,      0.5986,      0.5996,\n",
       "            0.6006,      0.6016,      0.6026,      0.6036,      0.6046,     0.60561,     0.60661,     0.60761,     0.60861,     0.60961,     0.61061,     0.61161,     0.61261,     0.61361,     0.61461,     0.61562,     0.61662,     0.61762,     0.61862,     0.61962,     0.62062,     0.62162,     0.62262,     0.62362,\n",
       "           0.62462,     0.62563,     0.62663,     0.62763,     0.62863,     0.62963,     0.63063,     0.63163,     0.63263,     0.63363,     0.63463,     0.63564,     0.63664,     0.63764,     0.63864,     0.63964,     0.64064,     0.64164,     0.64264,     0.64364,     0.64464,     0.64565,     0.64665,     0.64765,\n",
       "           0.64865,     0.64965,     0.65065,     0.65165,     0.65265,     0.65365,     0.65465,     0.65566,     0.65666,     0.65766,     0.65866,     0.65966,     0.66066,     0.66166,     0.66266,     0.66366,     0.66466,     0.66567,     0.66667,     0.66767,     0.66867,     0.66967,     0.67067,     0.67167,\n",
       "           0.67267,     0.67367,     0.67467,     0.67568,     0.67668,     0.67768,     0.67868,     0.67968,     0.68068,     0.68168,     0.68268,     0.68368,     0.68468,     0.68569,     0.68669,     0.68769,     0.68869,     0.68969,     0.69069,     0.69169,     0.69269,     0.69369,     0.69469,      0.6957,\n",
       "            0.6967,      0.6977,      0.6987,      0.6997,      0.7007,      0.7017,      0.7027,      0.7037,      0.7047,     0.70571,     0.70671,     0.70771,     0.70871,     0.70971,     0.71071,     0.71171,     0.71271,     0.71371,     0.71471,     0.71572,     0.71672,     0.71772,     0.71872,     0.71972,\n",
       "           0.72072,     0.72172,     0.72272,     0.72372,     0.72472,     0.72573,     0.72673,     0.72773,     0.72873,     0.72973,     0.73073,     0.73173,     0.73273,     0.73373,     0.73473,     0.73574,     0.73674,     0.73774,     0.73874,     0.73974,     0.74074,     0.74174,     0.74274,     0.74374,\n",
       "           0.74474,     0.74575,     0.74675,     0.74775,     0.74875,     0.74975,     0.75075,     0.75175,     0.75275,     0.75375,     0.75475,     0.75576,     0.75676,     0.75776,     0.75876,     0.75976,     0.76076,     0.76176,     0.76276,     0.76376,     0.76476,     0.76577,     0.76677,     0.76777,\n",
       "           0.76877,     0.76977,     0.77077,     0.77177,     0.77277,     0.77377,     0.77477,     0.77578,     0.77678,     0.77778,     0.77878,     0.77978,     0.78078,     0.78178,     0.78278,     0.78378,     0.78478,     0.78579,     0.78679,     0.78779,     0.78879,     0.78979,     0.79079,     0.79179,\n",
       "           0.79279,     0.79379,     0.79479,      0.7958,      0.7968,      0.7978,      0.7988,      0.7998,      0.8008,      0.8018,      0.8028,      0.8038,      0.8048,     0.80581,     0.80681,     0.80781,     0.80881,     0.80981,     0.81081,     0.81181,     0.81281,     0.81381,     0.81481,     0.81582,\n",
       "           0.81682,     0.81782,     0.81882,     0.81982,     0.82082,     0.82182,     0.82282,     0.82382,     0.82482,     0.82583,     0.82683,     0.82783,     0.82883,     0.82983,     0.83083,     0.83183,     0.83283,     0.83383,     0.83483,     0.83584,     0.83684,     0.83784,     0.83884,     0.83984,\n",
       "           0.84084,     0.84184,     0.84284,     0.84384,     0.84484,     0.84585,     0.84685,     0.84785,     0.84885,     0.84985,     0.85085,     0.85185,     0.85285,     0.85385,     0.85485,     0.85586,     0.85686,     0.85786,     0.85886,     0.85986,     0.86086,     0.86186,     0.86286,     0.86386,\n",
       "           0.86486,     0.86587,     0.86687,     0.86787,     0.86887,     0.86987,     0.87087,     0.87187,     0.87287,     0.87387,     0.87487,     0.87588,     0.87688,     0.87788,     0.87888,     0.87988,     0.88088,     0.88188,     0.88288,     0.88388,     0.88488,     0.88589,     0.88689,     0.88789,\n",
       "           0.88889,     0.88989,     0.89089,     0.89189,     0.89289,     0.89389,     0.89489,      0.8959,      0.8969,      0.8979,      0.8989,      0.8999,      0.9009,      0.9019,      0.9029,      0.9039,      0.9049,     0.90591,     0.90691,     0.90791,     0.90891,     0.90991,     0.91091,     0.91191,\n",
       "           0.91291,     0.91391,     0.91491,     0.91592,     0.91692,     0.91792,     0.91892,     0.91992,     0.92092,     0.92192,     0.92292,     0.92392,     0.92492,     0.92593,     0.92693,     0.92793,     0.92893,     0.92993,     0.93093,     0.93193,     0.93293,     0.93393,     0.93493,     0.93594,\n",
       "           0.93694,     0.93794,     0.93894,     0.93994,     0.94094,     0.94194,     0.94294,     0.94394,     0.94494,     0.94595,     0.94695,     0.94795,     0.94895,     0.94995,     0.95095,     0.95195,     0.95295,     0.95395,     0.95495,     0.95596,     0.95696,     0.95796,     0.95896,     0.95996,\n",
       "           0.96096,     0.96196,     0.96296,     0.96396,     0.96496,     0.96597,     0.96697,     0.96797,     0.96897,     0.96997,     0.97097,     0.97197,     0.97297,     0.97397,     0.97497,     0.97598,     0.97698,     0.97798,     0.97898,     0.97998,     0.98098,     0.98198,     0.98298,     0.98398,\n",
       "           0.98498,     0.98599,     0.98699,     0.98799,     0.98899,     0.98999,     0.99099,     0.99199,     0.99299,     0.99399,     0.99499,       0.996,       0.997,       0.998,       0.999,           1]), array([[    0.35703,     0.35703,     0.46069,     0.50877,     0.53847,     0.56098,     0.57482,     0.58563,     0.59581,     0.60499,     0.61415,     0.62239,      0.6272,     0.63306,     0.63772,     0.64321,     0.64713,     0.65233,     0.65637,     0.65927,     0.66384,     0.66775,     0.67103,\n",
       "            0.67425,     0.67754,     0.67966,     0.68156,     0.68348,     0.68627,     0.68749,      0.6897,     0.69136,     0.69255,     0.69387,     0.69529,     0.69761,      0.7009,     0.70348,     0.70605,     0.70822,     0.70958,     0.71041,     0.71174,     0.71316,     0.71522,     0.71743,\n",
       "            0.71864,     0.72064,     0.72211,      0.7239,     0.72619,      0.7281,     0.73055,     0.73126,     0.73121,     0.73186,      0.7327,     0.73428,       0.736,     0.73664,      0.7369,     0.73769,     0.73903,     0.74087,     0.74184,      0.7432,     0.74416,     0.74499,     0.74633,\n",
       "            0.74759,     0.74969,     0.74982,     0.75072,     0.75103,     0.75271,      0.7529,     0.75389,     0.75564,     0.75662,     0.75715,     0.75762,     0.75915,     0.75912,     0.76054,     0.75981,     0.76106,     0.76212,     0.76343,     0.76379,     0.76426,     0.76473,     0.76508,\n",
       "            0.76589,     0.76648,     0.76742,     0.76786,     0.76913,     0.76977,     0.77004,     0.77037,     0.77074,      0.7723,     0.77302,     0.77385,     0.77372,     0.77359,     0.77346,     0.77401,     0.77423,     0.77483,     0.77512,     0.77555,     0.77606,     0.77618,     0.77631,\n",
       "             0.7761,      0.7766,     0.77791,     0.77909,     0.77963,     0.78021,     0.78085,     0.78038,     0.78012,     0.78009,     0.78083,     0.78214,     0.78261,     0.78323,     0.78532,     0.78582,     0.78637,     0.78762,     0.78768,     0.78785,     0.78823,     0.78793,     0.78799,\n",
       "            0.78864,      0.7891,     0.78946,     0.78969,     0.78988,      0.7911,     0.79163,     0.79318,     0.79343,     0.79416,     0.79399,     0.79471,     0.79484,     0.79496,     0.79541,     0.79576,     0.79681,     0.79745,     0.79711,      0.7982,      0.7985,     0.79926,      0.7996,\n",
       "            0.80031,     0.80064,     0.80087,     0.80073,     0.80058,     0.80043,     0.80068,     0.80175,     0.80225,     0.80246,     0.80264,     0.80281,     0.80316,     0.80354,     0.80423,     0.80445,     0.80487,     0.80522,     0.80615,     0.80682,     0.80764,     0.80752,     0.80755,\n",
       "            0.80803,      0.8086,     0.80836,     0.80753,     0.80773,     0.80769,     0.80773,     0.80785,     0.80797,     0.80809,     0.80821,     0.80833,     0.80847,     0.80931,     0.80958,      0.8097,     0.80982,     0.81032,     0.81063,     0.81107,     0.81123,     0.81138,     0.81101,\n",
       "             0.8112,     0.81145,      0.8126,     0.81297,     0.81338,     0.81411,     0.81454,     0.81504,     0.81511,     0.81518,     0.81525,     0.81532,     0.81539,     0.81629,     0.81668,     0.81676,     0.81621,     0.81595,     0.81565,     0.81574,     0.81556,     0.81648,     0.81692,\n",
       "            0.81758,     0.81734,     0.81708,     0.81697,      0.8173,     0.81741,     0.81752,     0.81761,     0.81723,     0.81667,     0.81678,      0.8172,     0.81738,     0.81767,     0.81812,     0.81786,     0.81782,     0.81808,     0.81827,     0.81846,     0.81818,     0.81846,     0.81976,\n",
       "             0.8209,     0.82169,     0.82187,      0.8223,     0.82153,     0.82076,     0.82124,     0.82217,     0.82269,     0.82282,     0.82294,     0.82306,     0.82323,     0.82341,     0.82365,     0.82384,     0.82372,      0.8236,     0.82348,     0.82336,     0.82353,     0.82324,      0.8236,\n",
       "            0.82399,     0.82415,     0.82431,     0.82367,     0.82328,     0.82294,     0.82305,     0.82347,     0.82363,     0.82379,     0.82429,     0.82469,     0.82436,     0.82505,     0.82518,     0.82531,     0.82543,     0.82605,     0.82631,     0.82644,      0.8263,     0.82725,      0.8269,\n",
       "            0.82667,     0.82701,     0.82713,     0.82724,      0.8274,     0.82755,     0.82779,      0.8279,     0.82776,     0.82763,     0.82749,     0.82762,     0.82837,     0.82864,     0.82879,     0.82894,     0.82946,     0.82953,      0.8296,     0.82967,     0.82974,     0.82981,     0.82953,\n",
       "            0.82919,     0.82906,     0.82892,     0.82878,     0.82846,      0.8283,     0.82813,     0.82796,     0.82779,     0.82831,     0.82877,     0.82914,     0.82938,     0.82977,     0.83019,     0.82926,     0.82892,     0.82925,     0.82946,     0.82938,     0.82904,     0.82885,     0.82967,\n",
       "            0.82994,     0.82893,     0.82904,     0.82915,     0.82926,     0.82846,     0.82794,     0.82617,     0.82609,     0.82625,      0.8264,     0.82659,      0.8268,     0.82639,     0.82654,      0.8271,     0.82676,     0.82601,     0.82625,     0.82599,     0.82544,     0.82616,      0.8264,\n",
       "            0.82585,     0.82606,     0.82635,      0.8266,     0.82692,     0.82701,      0.8271,     0.82719,     0.82728,     0.82769,     0.82812,     0.82835,     0.82855,     0.82821,     0.82845,     0.82866,     0.82771,     0.82795,     0.82849,     0.82855,      0.8286,     0.82866,     0.82871,\n",
       "            0.82877,     0.82882,     0.82885,      0.8285,     0.82844,      0.8287,     0.82854,      0.8285,     0.82831,     0.82804,      0.8281,     0.82817,     0.82823,     0.82829,     0.82836,     0.82842,     0.82893,     0.82914,     0.82853,     0.82804,     0.82789,     0.82773,     0.82758,\n",
       "             0.8274,     0.82718,     0.82696,     0.82759,     0.82803,      0.8283,     0.82852,      0.8289,     0.82887,      0.8287,     0.82854,     0.82843,     0.82864,     0.82871,     0.82858,     0.82827,     0.82808,     0.82823,     0.82837,     0.82777,     0.82746,     0.82575,     0.82556,\n",
       "             0.8257,     0.82585,      0.8262,     0.82608,     0.82577,     0.82546,     0.82515,     0.82543,     0.82554,     0.82575,     0.82549,     0.82518,     0.82487,     0.82455,     0.82397,     0.82439,     0.82461,     0.82453,     0.82357,     0.82392,     0.82414,     0.82436,     0.82458,\n",
       "            0.82474,     0.82485,     0.82496,     0.82507,     0.82499,     0.82478,     0.82458,     0.82458,     0.82469,      0.8248,     0.82491,     0.82613,       0.827,     0.82657,     0.82664,     0.82633,     0.82649,     0.82671,     0.82429,     0.82491,      0.8239,     0.82432,       0.824,\n",
       "            0.82409,     0.82349,     0.82318,     0.82298,     0.82342,     0.82382,     0.82405,     0.82432,     0.82477,     0.82489,     0.82425,     0.82361,     0.82341,     0.82278,     0.82251,     0.82273,     0.82215,     0.82199,     0.82183,     0.82167,     0.82042,     0.82043,     0.82068,\n",
       "            0.82042,     0.82095,     0.82064,     0.81999,     0.82021,     0.82021,     0.82019,     0.82034,     0.82049,     0.81932,     0.81965,      0.8191,     0.81845,     0.81811,     0.81779,     0.81802,     0.81819,     0.81734,     0.81606,     0.81552,     0.81575,     0.81517,     0.81459,\n",
       "            0.81426,     0.81393,      0.8136,     0.81318,     0.81188,     0.81102,     0.81078,     0.81013,     0.80996,      0.8098,     0.80963,      0.8101,     0.80961,     0.80928,     0.80939,     0.80897,       0.809,     0.80902,     0.80879,     0.80857,     0.80928,     0.80973,     0.81001,\n",
       "            0.81024,     0.81001,     0.80967,     0.80913,      0.8088,     0.80948,     0.80929,      0.8091,     0.80866,     0.80903,     0.80883,     0.80929,     0.80909,     0.80915,      0.8093,     0.80945,     0.80837,     0.80769,     0.80702,     0.80721,      0.8072,     0.80707,     0.80693,\n",
       "             0.8068,     0.80666,     0.80603,     0.80642,      0.8057,     0.80586,     0.80535,     0.80566,     0.80605,     0.80651,     0.80671,     0.80677,     0.80723,     0.80713,     0.80679,     0.80705,     0.80596,       0.806,     0.80623,     0.80547,     0.80412,     0.80413,     0.80424,\n",
       "            0.80434,     0.80444,     0.80477,     0.80443,     0.80454,     0.80419,     0.80433,      0.8034,     0.80268,     0.80302,     0.80342,     0.80358,     0.80373,     0.80343,     0.80309,     0.80317,     0.80247,     0.80187,      0.8014,     0.80179,     0.80204,     0.80227,     0.80125,\n",
       "            0.80021,     0.79986,     0.79948,     0.79881,     0.79834,     0.79779,     0.79793,     0.79653,     0.79582,     0.79605,     0.79487,     0.79381,     0.79344,     0.79309,     0.79235,     0.79251,     0.79283,     0.79217,     0.79146,     0.79057,     0.79039,     0.79022,     0.79008,\n",
       "            0.79039,     0.79028,     0.78993,     0.78932,     0.78861,     0.78924,     0.78888,     0.78734,     0.78771,     0.78784,     0.78798,     0.78811,     0.78606,     0.78509,     0.78401,     0.78345,     0.78309,     0.78182,     0.78107,     0.78078,     0.78103,      0.7815,     0.78165,\n",
       "            0.77996,     0.77923,     0.77795,     0.77739,     0.77665,     0.77564,     0.77393,     0.77353,     0.77205,      0.7713,     0.76969,     0.76947,     0.76926,      0.7683,     0.76608,     0.76535,     0.76505,     0.76475,     0.76268,     0.76192,     0.76194,     0.76214,     0.76089,\n",
       "             0.7612,     0.76098,      0.7606,     0.76011,     0.75983,     0.75997,      0.7601,     0.76023,     0.75914,     0.75897,     0.75846,     0.75934,     0.75859,     0.75807,     0.75786,      0.7571,     0.75729,      0.7564,     0.75539,     0.75552,     0.75361,     0.75283,     0.75259,\n",
       "            0.75211,     0.75056,     0.74939,     0.74874,     0.74758,     0.74798,      0.7483,     0.74806,     0.74613,     0.74581,     0.74549,     0.74411,     0.74356,     0.74309,     0.74256,      0.7408,     0.73764,     0.73708,     0.73549,     0.73216,     0.73027,     0.73042,     0.73089,\n",
       "            0.72924,     0.72853,     0.72798,     0.72702,     0.72675,     0.72647,     0.72508,     0.72425,     0.72269,     0.72213,     0.72139,     0.72143,     0.72041,      0.7179,     0.71652,     0.71596,     0.71503,      0.7141,     0.71353,     0.71296,     0.71074,     0.71017,     0.70801,\n",
       "            0.70664,     0.70535,     0.70567,     0.70429,     0.70195,     0.69862,     0.69803,      0.6936,     0.68867,     0.68808,     0.68552,     0.67944,     0.67884,      0.6747,     0.66951,     0.66723,     0.66754,     0.66521,      0.6614,     0.66078,       0.658,     0.65462,     0.65214,\n",
       "            0.64405,     0.64341,     0.63786,     0.63615,     0.63264,     0.63199,     0.62824,     0.62268,     0.61521,     0.61454,     0.61208,     0.60641,     0.60075,     0.60007,     0.59808,     0.59132,     0.58648,     0.58679,     0.58137,     0.57286,     0.57215,     0.56491,     0.55873,\n",
       "              0.553,     0.54111,     0.54036,     0.53644,     0.52975,     0.51957,     0.51283,     0.51205,     0.50057,     0.49361,     0.48741,     0.47786,     0.46631,     0.46547,     0.45441,     0.43434,     0.43347,     0.42341,     0.40681,     0.38977,     0.38203,     0.37245,     0.36484,\n",
       "             0.3639,     0.35139,     0.33597,     0.32288,     0.30877,     0.29735,     0.27527,     0.26544,     0.25457,     0.24194,     0.24084,      0.2245,      0.1926,     0.16659,     0.14536,     0.13809,     0.12343,     0.10862,     0.10734,    0.088581,    0.080858,     0.06723,    0.061302,\n",
       "           0.051373,    0.043347,    0.039283,    0.025056,    0.022772,    0.018834,    0.012598,    0.010476,   0.0073067,   0.0062332,     0.00481,    0.002987,           0,           0,           0,           0,           0,           0,           0,           0,           0,           0,           0,\n",
       "                  0,           0,           0,           0,           0,           0,           0,           0,           0,           0,           0,           0,           0,           0,           0,           0,           0,           0,           0,           0,           0,           0,           0,\n",
       "                  0,           0,           0,           0,           0,           0,           0,           0,           0,           0,           0,           0,           0,           0,           0,           0,           0,           0,           0,           0,           0,           0,           0,\n",
       "                  0,           0,           0,           0,           0,           0,           0,           0,           0,           0,           0,           0,           0,           0,           0,           0,           0,           0,           0,           0,           0,           0,           0,\n",
       "                  0,           0,           0,           0,           0,           0,           0,           0,           0,           0,           0,           0,           0,           0,           0,           0,           0,           0,           0,           0,           0,           0,           0,\n",
       "                  0,           0,           0,           0,           0,           0,           0,           0,           0,           0,           0,           0,           0,           0,           0,           0,           0,           0,           0,           0,           0,           0,           0,\n",
       "                  0,           0,           0,           0,           0,           0,           0,           0,           0,           0,           0]]), 'Confidence', 'F1'], [array([          0,    0.001001,    0.002002,    0.003003,    0.004004,    0.005005,    0.006006,    0.007007,    0.008008,    0.009009,     0.01001,    0.011011,    0.012012,    0.013013,    0.014014,    0.015015,    0.016016,    0.017017,    0.018018,    0.019019,     0.02002,    0.021021,    0.022022,    0.023023,\n",
       "          0.024024,    0.025025,    0.026026,    0.027027,    0.028028,    0.029029,     0.03003,    0.031031,    0.032032,    0.033033,    0.034034,    0.035035,    0.036036,    0.037037,    0.038038,    0.039039,     0.04004,    0.041041,    0.042042,    0.043043,    0.044044,    0.045045,    0.046046,    0.047047,\n",
       "          0.048048,    0.049049,     0.05005,    0.051051,    0.052052,    0.053053,    0.054054,    0.055055,    0.056056,    0.057057,    0.058058,    0.059059,     0.06006,    0.061061,    0.062062,    0.063063,    0.064064,    0.065065,    0.066066,    0.067067,    0.068068,    0.069069,     0.07007,    0.071071,\n",
       "          0.072072,    0.073073,    0.074074,    0.075075,    0.076076,    0.077077,    0.078078,    0.079079,     0.08008,    0.081081,    0.082082,    0.083083,    0.084084,    0.085085,    0.086086,    0.087087,    0.088088,    0.089089,     0.09009,    0.091091,    0.092092,    0.093093,    0.094094,    0.095095,\n",
       "          0.096096,    0.097097,    0.098098,    0.099099,      0.1001,      0.1011,      0.1021,      0.1031,      0.1041,     0.10511,     0.10611,     0.10711,     0.10811,     0.10911,     0.11011,     0.11111,     0.11211,     0.11311,     0.11411,     0.11512,     0.11612,     0.11712,     0.11812,     0.11912,\n",
       "           0.12012,     0.12112,     0.12212,     0.12312,     0.12412,     0.12513,     0.12613,     0.12713,     0.12813,     0.12913,     0.13013,     0.13113,     0.13213,     0.13313,     0.13413,     0.13514,     0.13614,     0.13714,     0.13814,     0.13914,     0.14014,     0.14114,     0.14214,     0.14314,\n",
       "           0.14414,     0.14515,     0.14615,     0.14715,     0.14815,     0.14915,     0.15015,     0.15115,     0.15215,     0.15315,     0.15415,     0.15516,     0.15616,     0.15716,     0.15816,     0.15916,     0.16016,     0.16116,     0.16216,     0.16316,     0.16416,     0.16517,     0.16617,     0.16717,\n",
       "           0.16817,     0.16917,     0.17017,     0.17117,     0.17217,     0.17317,     0.17417,     0.17518,     0.17618,     0.17718,     0.17818,     0.17918,     0.18018,     0.18118,     0.18218,     0.18318,     0.18418,     0.18519,     0.18619,     0.18719,     0.18819,     0.18919,     0.19019,     0.19119,\n",
       "           0.19219,     0.19319,     0.19419,      0.1952,      0.1962,      0.1972,      0.1982,      0.1992,      0.2002,      0.2012,      0.2022,      0.2032,      0.2042,     0.20521,     0.20621,     0.20721,     0.20821,     0.20921,     0.21021,     0.21121,     0.21221,     0.21321,     0.21421,     0.21522,\n",
       "           0.21622,     0.21722,     0.21822,     0.21922,     0.22022,     0.22122,     0.22222,     0.22322,     0.22422,     0.22523,     0.22623,     0.22723,     0.22823,     0.22923,     0.23023,     0.23123,     0.23223,     0.23323,     0.23423,     0.23524,     0.23624,     0.23724,     0.23824,     0.23924,\n",
       "           0.24024,     0.24124,     0.24224,     0.24324,     0.24424,     0.24525,     0.24625,     0.24725,     0.24825,     0.24925,     0.25025,     0.25125,     0.25225,     0.25325,     0.25425,     0.25526,     0.25626,     0.25726,     0.25826,     0.25926,     0.26026,     0.26126,     0.26226,     0.26326,\n",
       "           0.26426,     0.26527,     0.26627,     0.26727,     0.26827,     0.26927,     0.27027,     0.27127,     0.27227,     0.27327,     0.27427,     0.27528,     0.27628,     0.27728,     0.27828,     0.27928,     0.28028,     0.28128,     0.28228,     0.28328,     0.28428,     0.28529,     0.28629,     0.28729,\n",
       "           0.28829,     0.28929,     0.29029,     0.29129,     0.29229,     0.29329,     0.29429,      0.2953,      0.2963,      0.2973,      0.2983,      0.2993,      0.3003,      0.3013,      0.3023,      0.3033,      0.3043,     0.30531,     0.30631,     0.30731,     0.30831,     0.30931,     0.31031,     0.31131,\n",
       "           0.31231,     0.31331,     0.31431,     0.31532,     0.31632,     0.31732,     0.31832,     0.31932,     0.32032,     0.32132,     0.32232,     0.32332,     0.32432,     0.32533,     0.32633,     0.32733,     0.32833,     0.32933,     0.33033,     0.33133,     0.33233,     0.33333,     0.33433,     0.33534,\n",
       "           0.33634,     0.33734,     0.33834,     0.33934,     0.34034,     0.34134,     0.34234,     0.34334,     0.34434,     0.34535,     0.34635,     0.34735,     0.34835,     0.34935,     0.35035,     0.35135,     0.35235,     0.35335,     0.35435,     0.35536,     0.35636,     0.35736,     0.35836,     0.35936,\n",
       "           0.36036,     0.36136,     0.36236,     0.36336,     0.36436,     0.36537,     0.36637,     0.36737,     0.36837,     0.36937,     0.37037,     0.37137,     0.37237,     0.37337,     0.37437,     0.37538,     0.37638,     0.37738,     0.37838,     0.37938,     0.38038,     0.38138,     0.38238,     0.38338,\n",
       "           0.38438,     0.38539,     0.38639,     0.38739,     0.38839,     0.38939,     0.39039,     0.39139,     0.39239,     0.39339,     0.39439,      0.3954,      0.3964,      0.3974,      0.3984,      0.3994,      0.4004,      0.4014,      0.4024,      0.4034,      0.4044,     0.40541,     0.40641,     0.40741,\n",
       "           0.40841,     0.40941,     0.41041,     0.41141,     0.41241,     0.41341,     0.41441,     0.41542,     0.41642,     0.41742,     0.41842,     0.41942,     0.42042,     0.42142,     0.42242,     0.42342,     0.42442,     0.42543,     0.42643,     0.42743,     0.42843,     0.42943,     0.43043,     0.43143,\n",
       "           0.43243,     0.43343,     0.43443,     0.43544,     0.43644,     0.43744,     0.43844,     0.43944,     0.44044,     0.44144,     0.44244,     0.44344,     0.44444,     0.44545,     0.44645,     0.44745,     0.44845,     0.44945,     0.45045,     0.45145,     0.45245,     0.45345,     0.45445,     0.45546,\n",
       "           0.45646,     0.45746,     0.45846,     0.45946,     0.46046,     0.46146,     0.46246,     0.46346,     0.46446,     0.46547,     0.46647,     0.46747,     0.46847,     0.46947,     0.47047,     0.47147,     0.47247,     0.47347,     0.47447,     0.47548,     0.47648,     0.47748,     0.47848,     0.47948,\n",
       "           0.48048,     0.48148,     0.48248,     0.48348,     0.48448,     0.48549,     0.48649,     0.48749,     0.48849,     0.48949,     0.49049,     0.49149,     0.49249,     0.49349,     0.49449,      0.4955,      0.4965,      0.4975,      0.4985,      0.4995,      0.5005,      0.5015,      0.5025,      0.5035,\n",
       "            0.5045,     0.50551,     0.50651,     0.50751,     0.50851,     0.50951,     0.51051,     0.51151,     0.51251,     0.51351,     0.51451,     0.51552,     0.51652,     0.51752,     0.51852,     0.51952,     0.52052,     0.52152,     0.52252,     0.52352,     0.52452,     0.52553,     0.52653,     0.52753,\n",
       "           0.52853,     0.52953,     0.53053,     0.53153,     0.53253,     0.53353,     0.53453,     0.53554,     0.53654,     0.53754,     0.53854,     0.53954,     0.54054,     0.54154,     0.54254,     0.54354,     0.54454,     0.54555,     0.54655,     0.54755,     0.54855,     0.54955,     0.55055,     0.55155,\n",
       "           0.55255,     0.55355,     0.55455,     0.55556,     0.55656,     0.55756,     0.55856,     0.55956,     0.56056,     0.56156,     0.56256,     0.56356,     0.56456,     0.56557,     0.56657,     0.56757,     0.56857,     0.56957,     0.57057,     0.57157,     0.57257,     0.57357,     0.57457,     0.57558,\n",
       "           0.57658,     0.57758,     0.57858,     0.57958,     0.58058,     0.58158,     0.58258,     0.58358,     0.58458,     0.58559,     0.58659,     0.58759,     0.58859,     0.58959,     0.59059,     0.59159,     0.59259,     0.59359,     0.59459,      0.5956,      0.5966,      0.5976,      0.5986,      0.5996,\n",
       "            0.6006,      0.6016,      0.6026,      0.6036,      0.6046,     0.60561,     0.60661,     0.60761,     0.60861,     0.60961,     0.61061,     0.61161,     0.61261,     0.61361,     0.61461,     0.61562,     0.61662,     0.61762,     0.61862,     0.61962,     0.62062,     0.62162,     0.62262,     0.62362,\n",
       "           0.62462,     0.62563,     0.62663,     0.62763,     0.62863,     0.62963,     0.63063,     0.63163,     0.63263,     0.63363,     0.63463,     0.63564,     0.63664,     0.63764,     0.63864,     0.63964,     0.64064,     0.64164,     0.64264,     0.64364,     0.64464,     0.64565,     0.64665,     0.64765,\n",
       "           0.64865,     0.64965,     0.65065,     0.65165,     0.65265,     0.65365,     0.65465,     0.65566,     0.65666,     0.65766,     0.65866,     0.65966,     0.66066,     0.66166,     0.66266,     0.66366,     0.66466,     0.66567,     0.66667,     0.66767,     0.66867,     0.66967,     0.67067,     0.67167,\n",
       "           0.67267,     0.67367,     0.67467,     0.67568,     0.67668,     0.67768,     0.67868,     0.67968,     0.68068,     0.68168,     0.68268,     0.68368,     0.68468,     0.68569,     0.68669,     0.68769,     0.68869,     0.68969,     0.69069,     0.69169,     0.69269,     0.69369,     0.69469,      0.6957,\n",
       "            0.6967,      0.6977,      0.6987,      0.6997,      0.7007,      0.7017,      0.7027,      0.7037,      0.7047,     0.70571,     0.70671,     0.70771,     0.70871,     0.70971,     0.71071,     0.71171,     0.71271,     0.71371,     0.71471,     0.71572,     0.71672,     0.71772,     0.71872,     0.71972,\n",
       "           0.72072,     0.72172,     0.72272,     0.72372,     0.72472,     0.72573,     0.72673,     0.72773,     0.72873,     0.72973,     0.73073,     0.73173,     0.73273,     0.73373,     0.73473,     0.73574,     0.73674,     0.73774,     0.73874,     0.73974,     0.74074,     0.74174,     0.74274,     0.74374,\n",
       "           0.74474,     0.74575,     0.74675,     0.74775,     0.74875,     0.74975,     0.75075,     0.75175,     0.75275,     0.75375,     0.75475,     0.75576,     0.75676,     0.75776,     0.75876,     0.75976,     0.76076,     0.76176,     0.76276,     0.76376,     0.76476,     0.76577,     0.76677,     0.76777,\n",
       "           0.76877,     0.76977,     0.77077,     0.77177,     0.77277,     0.77377,     0.77477,     0.77578,     0.77678,     0.77778,     0.77878,     0.77978,     0.78078,     0.78178,     0.78278,     0.78378,     0.78478,     0.78579,     0.78679,     0.78779,     0.78879,     0.78979,     0.79079,     0.79179,\n",
       "           0.79279,     0.79379,     0.79479,      0.7958,      0.7968,      0.7978,      0.7988,      0.7998,      0.8008,      0.8018,      0.8028,      0.8038,      0.8048,     0.80581,     0.80681,     0.80781,     0.80881,     0.80981,     0.81081,     0.81181,     0.81281,     0.81381,     0.81481,     0.81582,\n",
       "           0.81682,     0.81782,     0.81882,     0.81982,     0.82082,     0.82182,     0.82282,     0.82382,     0.82482,     0.82583,     0.82683,     0.82783,     0.82883,     0.82983,     0.83083,     0.83183,     0.83283,     0.83383,     0.83483,     0.83584,     0.83684,     0.83784,     0.83884,     0.83984,\n",
       "           0.84084,     0.84184,     0.84284,     0.84384,     0.84484,     0.84585,     0.84685,     0.84785,     0.84885,     0.84985,     0.85085,     0.85185,     0.85285,     0.85385,     0.85485,     0.85586,     0.85686,     0.85786,     0.85886,     0.85986,     0.86086,     0.86186,     0.86286,     0.86386,\n",
       "           0.86486,     0.86587,     0.86687,     0.86787,     0.86887,     0.86987,     0.87087,     0.87187,     0.87287,     0.87387,     0.87487,     0.87588,     0.87688,     0.87788,     0.87888,     0.87988,     0.88088,     0.88188,     0.88288,     0.88388,     0.88488,     0.88589,     0.88689,     0.88789,\n",
       "           0.88889,     0.88989,     0.89089,     0.89189,     0.89289,     0.89389,     0.89489,      0.8959,      0.8969,      0.8979,      0.8989,      0.8999,      0.9009,      0.9019,      0.9029,      0.9039,      0.9049,     0.90591,     0.90691,     0.90791,     0.90891,     0.90991,     0.91091,     0.91191,\n",
       "           0.91291,     0.91391,     0.91491,     0.91592,     0.91692,     0.91792,     0.91892,     0.91992,     0.92092,     0.92192,     0.92292,     0.92392,     0.92492,     0.92593,     0.92693,     0.92793,     0.92893,     0.92993,     0.93093,     0.93193,     0.93293,     0.93393,     0.93493,     0.93594,\n",
       "           0.93694,     0.93794,     0.93894,     0.93994,     0.94094,     0.94194,     0.94294,     0.94394,     0.94494,     0.94595,     0.94695,     0.94795,     0.94895,     0.94995,     0.95095,     0.95195,     0.95295,     0.95395,     0.95495,     0.95596,     0.95696,     0.95796,     0.95896,     0.95996,\n",
       "           0.96096,     0.96196,     0.96296,     0.96396,     0.96496,     0.96597,     0.96697,     0.96797,     0.96897,     0.96997,     0.97097,     0.97197,     0.97297,     0.97397,     0.97497,     0.97598,     0.97698,     0.97798,     0.97898,     0.97998,     0.98098,     0.98198,     0.98298,     0.98398,\n",
       "           0.98498,     0.98599,     0.98699,     0.98799,     0.98899,     0.98999,     0.99099,     0.99199,     0.99299,     0.99399,     0.99499,       0.996,       0.997,       0.998,       0.999,           1]), array([[    0.21864,     0.21864,     0.30181,     0.34459,     0.37257,     0.39483,     0.40886,     0.42009,     0.43086,     0.44074,     0.45076,     0.45969,     0.46521,     0.47193,     0.47739,     0.48356,     0.48801,     0.49396,      0.4986,     0.50196,     0.50727,     0.51185,     0.51571,\n",
       "            0.51953,     0.52345,     0.52598,     0.52826,     0.53057,     0.53394,     0.53541,     0.53811,     0.54012,     0.54158,     0.54354,     0.54527,     0.54813,     0.55221,     0.55543,     0.55863,     0.56135,     0.56307,     0.56411,     0.56579,     0.56759,     0.57021,     0.57302,\n",
       "            0.57494,      0.5775,      0.5794,      0.5817,     0.58467,     0.58715,     0.59034,     0.59126,     0.59136,     0.59245,     0.59355,     0.59562,      0.5979,     0.59914,     0.59972,     0.60095,     0.60274,     0.60519,     0.60648,     0.60831,      0.6096,      0.6107,      0.6125,\n",
       "            0.61421,     0.61705,     0.61766,     0.61888,     0.61974,     0.62204,      0.6223,     0.62365,     0.62606,     0.62785,     0.62904,     0.62968,     0.63227,     0.63269,     0.63514,     0.63506,     0.63682,     0.63829,     0.64013,     0.64065,      0.6413,     0.64245,     0.64295,\n",
       "            0.64409,     0.64493,     0.64626,     0.64737,     0.64918,     0.65009,     0.65048,     0.65145,     0.65198,     0.65422,     0.65525,     0.65645,     0.65639,     0.65633,     0.65626,     0.65718,      0.6575,     0.65836,     0.65879,      0.6594,     0.66014,     0.66032,      0.6605,\n",
       "            0.66071,     0.66197,     0.66387,     0.66559,     0.66637,     0.66722,     0.66833,     0.66811,     0.66799,     0.66811,      0.6692,     0.67112,     0.67236,     0.67327,     0.67636,     0.67711,     0.67847,     0.68033,     0.68057,     0.68123,     0.68191,     0.68178,       0.682,\n",
       "            0.68297,     0.68366,      0.6842,     0.68455,     0.68484,     0.68668,     0.68748,     0.68981,     0.69019,     0.69129,     0.69162,     0.69272,      0.6929,     0.69308,     0.69377,     0.69431,     0.69591,     0.69693,     0.69678,     0.69862,     0.69934,     0.70084,     0.70136,\n",
       "            0.70305,     0.70356,     0.70396,     0.70389,     0.70383,     0.70376,     0.70423,     0.70589,     0.70665,     0.70698,     0.70727,     0.70752,     0.70808,     0.70866,     0.71036,     0.71069,     0.71135,      0.7119,     0.71335,     0.71441,     0.71569,     0.71588,     0.71617,\n",
       "            0.71693,     0.71804,     0.71837,     0.71803,     0.71835,     0.71851,     0.71898,     0.71917,     0.71936,     0.71956,     0.71975,     0.71994,     0.72016,      0.7215,     0.72192,     0.72211,     0.72231,      0.7231,     0.72359,      0.7243,     0.72454,     0.72479,     0.72485,\n",
       "            0.72515,     0.72555,     0.72739,     0.72798,     0.72864,     0.72982,     0.73051,     0.73131,     0.73142,     0.73153,     0.73165,     0.73176,     0.73187,     0.73332,     0.73396,     0.73427,     0.73405,     0.73395,     0.73475,     0.73525,      0.7355,       0.737,     0.73771,\n",
       "             0.7388,     0.73917,     0.73907,     0.73916,      0.7397,     0.73988,     0.74006,     0.74023,     0.74008,     0.74005,     0.74038,     0.74162,     0.74191,     0.74238,     0.74331,     0.74321,     0.74332,     0.74376,     0.74407,     0.74438,     0.74431,     0.74509,     0.74725,\n",
       "            0.74985,     0.75119,     0.75148,     0.75234,     0.75205,     0.75175,      0.7526,     0.75416,     0.75504,     0.75525,     0.75545,     0.75566,     0.75595,     0.75625,     0.75666,     0.75701,     0.75696,     0.75692,     0.75687,     0.75682,     0.75719,      0.7573,     0.75804,\n",
       "             0.7587,     0.75897,     0.75925,     0.75901,     0.75887,     0.75874,     0.75934,     0.76005,     0.76033,     0.76061,     0.76145,     0.76308,     0.76296,     0.76427,      0.7645,     0.76471,     0.76493,     0.76598,     0.76644,     0.76695,     0.76719,     0.76882,     0.76929,\n",
       "             0.7692,     0.76996,     0.77016,     0.77036,     0.77063,     0.77117,      0.7721,     0.77241,     0.77236,     0.77231,     0.77226,     0.77259,     0.77389,     0.77436,     0.77462,     0.77488,      0.7758,     0.77592,     0.77604,     0.77616,     0.77628,      0.7764,     0.77635,\n",
       "            0.77623,     0.77618,     0.77613,     0.77608,     0.77653,     0.77647,     0.77641,     0.77635,     0.77687,     0.77778,     0.77858,     0.77924,     0.77967,     0.78036,      0.7811,     0.78198,     0.78186,      0.7827,     0.78308,     0.78319,     0.78308,     0.78364,     0.78513,\n",
       "            0.78575,     0.78546,     0.78566,     0.78586,     0.78606,     0.78583,     0.78625,     0.78563,     0.78628,     0.78656,     0.78683,     0.78718,     0.78756,     0.78767,     0.78795,     0.78897,     0.78885,      0.7887,     0.78914,      0.7892,      0.7894,     0.79072,     0.79116,\n",
       "              0.791,     0.79141,     0.79194,     0.79329,     0.79388,     0.79405,     0.79421,     0.79438,     0.79454,      0.7953,      0.7961,     0.79651,      0.7969,     0.79679,      0.7976,       0.798,     0.79802,     0.79848,     0.79948,     0.79959,     0.79969,     0.79979,     0.79989,\n",
       "                0.8,      0.8001,     0.80019,     0.80007,      0.8003,     0.80208,      0.8023,     0.80266,     0.80325,     0.80321,     0.80333,     0.80345,     0.80357,     0.80369,     0.80381,     0.80393,     0.80488,     0.80549,     0.80529,     0.80513,     0.80508,     0.80503,     0.80498,\n",
       "            0.80493,     0.80485,     0.80478,      0.8061,     0.80692,     0.80745,     0.80786,     0.80859,     0.80872,     0.80867,     0.80862,     0.80863,     0.80904,     0.80935,     0.80998,     0.80988,     0.80988,     0.81016,     0.81043,      0.8104,      0.8103,     0.80976,     0.80985,\n",
       "            0.81013,     0.81041,     0.81109,     0.81123,     0.81113,     0.81103,     0.81094,      0.8124,     0.81274,     0.81316,     0.81311,     0.81301,     0.81291,     0.81282,     0.81266,     0.81348,     0.81391,      0.8149,     0.81487,     0.81556,     0.81599,     0.81642,     0.81685,\n",
       "            0.81717,     0.81738,      0.8176,     0.81781,     0.81786,      0.8178,     0.81773,     0.81786,     0.81807,     0.81829,     0.81851,     0.82092,     0.82264,     0.82264,     0.82339,      0.8233,     0.82368,     0.82411,     0.82341,     0.82469,     0.82477,     0.82563,     0.82553,\n",
       "             0.8263,     0.82612,     0.82603,     0.82609,     0.82699,     0.82779,     0.82824,      0.8288,      0.8297,     0.83027,     0.83009,      0.8299,      0.8306,     0.83042,      0.8305,     0.83096,     0.83099,     0.83095,      0.8309,     0.83085,     0.83126,     0.83173,     0.83337,\n",
       "            0.83357,     0.83504,     0.83519,      0.8353,     0.83576,     0.83664,     0.83685,     0.83716,     0.83747,     0.83718,     0.83799,     0.83791,     0.83773,     0.83763,     0.83755,     0.83802,     0.83845,     0.83901,     0.83865,     0.83856,     0.83904,     0.83921,     0.83905,\n",
       "            0.83896,     0.83887,     0.83877,     0.83865,     0.83829,     0.83886,     0.83911,     0.84025,     0.84021,     0.84016,     0.84011,     0.84189,     0.84176,     0.84167,     0.84219,     0.84325,     0.84379,      0.8441,     0.84404,     0.84398,     0.84564,     0.84663,     0.84724,\n",
       "            0.84774,     0.84775,     0.84766,     0.84837,     0.84828,     0.85018,     0.85013,     0.85008,     0.84997,      0.8514,     0.85224,     0.85325,      0.8541,     0.85552,     0.85586,      0.8562,     0.85602,     0.85585,     0.85567,     0.85643,     0.85661,     0.85658,     0.85654,\n",
       "            0.85651,     0.85647,     0.85631,     0.85728,     0.85832,     0.85867,     0.85886,     0.85956,     0.86046,     0.86151,     0.86283,     0.86345,     0.86451,     0.86477,     0.86469,     0.86546,     0.86542,     0.86581,     0.86634,     0.86717,     0.86685,     0.86704,     0.86728,\n",
       "            0.86752,     0.86776,     0.86889,     0.86881,     0.86978,      0.8697,     0.87032,     0.87047,     0.87073,     0.87153,     0.87247,     0.87284,      0.8732,     0.87434,     0.87457,     0.87526,      0.8751,     0.87496,     0.87485,     0.87587,     0.87646,     0.87701,     0.87679,\n",
       "            0.87656,     0.87648,     0.87639,     0.87624,     0.87613,     0.87667,     0.87803,     0.87772,     0.87794,      0.8785,     0.87836,     0.87812,     0.88008,        0.88,     0.88086,     0.88221,     0.88299,     0.88289,     0.88273,     0.88254,      0.8825,     0.88246,      0.8825,\n",
       "            0.88328,     0.88352,     0.88344,     0.88332,     0.88316,      0.8854,     0.88532,      0.8853,     0.88623,     0.88657,     0.88691,     0.88725,     0.88685,     0.88772,      0.8875,     0.88738,      0.8873,     0.88704,     0.88797,      0.8879,     0.88918,      0.8904,     0.89137,\n",
       "            0.89103,     0.89088,     0.89062,      0.8905,     0.89035,     0.89126,     0.89091,     0.89195,     0.89165,      0.8915,     0.89117,     0.89112,     0.89108,     0.89088,     0.89042,     0.89027,     0.89021,     0.89015,     0.88972,     0.88956,      0.8921,     0.89308,     0.89301,\n",
       "            0.89387,     0.89401,     0.89393,     0.89383,      0.8939,     0.89427,     0.89464,     0.89501,     0.89482,     0.89536,     0.89589,     0.89842,     0.89827,     0.89817,     0.90008,     0.90193,     0.90246,      0.9027,     0.90251,     0.90345,     0.90465,     0.90451,     0.90526,\n",
       "            0.90563,     0.90534,     0.90513,     0.90627,     0.90733,     0.90864,     0.90958,     0.90998,     0.90964,     0.90958,     0.90952,     0.90928,     0.91067,      0.9117,     0.91161,     0.91395,     0.91341,     0.91466,     0.91546,     0.91519,     0.91487,     0.91608,     0.91757,\n",
       "            0.92303,     0.92292,     0.92283,     0.92268,     0.92264,      0.9226,     0.92238,     0.92226,     0.92344,     0.92336,     0.92324,     0.92469,     0.92454,     0.92416,     0.92394,     0.92386,     0.92518,     0.92652,     0.92643,     0.92635,     0.92602,     0.92593,     0.92861,\n",
       "            0.93044,     0.93439,     0.93549,     0.93638,     0.93705,     0.93981,     0.93974,     0.94081,      0.9402,     0.94013,     0.94063,     0.94072,     0.94065,     0.94355,     0.94293,     0.94308,     0.94432,     0.94416,     0.94549,     0.94542,     0.94871,     0.94834,     0.94807,\n",
       "            0.94715,     0.94708,     0.94643,     0.94623,     0.94582,     0.94574,      0.9453,     0.94462,      0.9437,     0.94362,     0.94532,     0.94462,     0.94392,     0.94383,     0.94358,     0.94271,     0.94522,     0.94856,     0.95012,     0.95366,     0.95358,     0.95278,     0.95209,\n",
       "            0.95383,     0.95249,     0.95241,     0.95627,     0.95885,     0.96314,     0.96251,     0.96244,     0.96133,      0.9623,     0.96292,     0.96197,      0.9639,     0.96382,     0.96271,     0.96057,     0.96047,     0.95932,       0.961,     0.95895,     0.95796,     0.95668,      0.9641,\n",
       "            0.96399,     0.96249,     0.96521,     0.96358,     0.96693,     0.97104,     0.97684,     0.97995,     0.98587,     0.98504,     0.98496,     0.98374,     0.98077,     0.97752,     0.98683,     0.98609,     0.98434,     0.98211,     0.98189,     0.97792,     0.97577,      0.9708,     0.96797,\n",
       "            0.96183,      0.9549,     0.95037,     0.92378,     0.99137,           1,           1,           1,           1,           1,           1,           1,           1,           1,           1,           1,           1,           1,           1,           1,           1,           1,           1,\n",
       "                  1,           1,           1,           1,           1,           1,           1,           1,           1,           1,           1,           1,           1,           1,           1,           1,           1,           1,           1,           1,           1,           1,           1,\n",
       "                  1,           1,           1,           1,           1,           1,           1,           1,           1,           1,           1,           1,           1,           1,           1,           1,           1,           1,           1,           1,           1,           1,           1,\n",
       "                  1,           1,           1,           1,           1,           1,           1,           1,           1,           1,           1,           1,           1,           1,           1,           1,           1,           1,           1,           1,           1,           1,           1,\n",
       "                  1,           1,           1,           1,           1,           1,           1,           1,           1,           1,           1,           1,           1,           1,           1,           1,           1,           1,           1,           1,           1,           1,           1,\n",
       "                  1,           1,           1,           1,           1,           1,           1,           1,           1,           1,           1,           1,           1,           1,           1,           1,           1,           1,           1,           1,           1,           1,           1,\n",
       "                  1,           1,           1,           1,           1,           1,           1,           1,           1,           1,           1]]), 'Confidence', 'Precision'], [array([          0,    0.001001,    0.002002,    0.003003,    0.004004,    0.005005,    0.006006,    0.007007,    0.008008,    0.009009,     0.01001,    0.011011,    0.012012,    0.013013,    0.014014,    0.015015,    0.016016,    0.017017,    0.018018,    0.019019,     0.02002,    0.021021,    0.022022,    0.023023,\n",
       "          0.024024,    0.025025,    0.026026,    0.027027,    0.028028,    0.029029,     0.03003,    0.031031,    0.032032,    0.033033,    0.034034,    0.035035,    0.036036,    0.037037,    0.038038,    0.039039,     0.04004,    0.041041,    0.042042,    0.043043,    0.044044,    0.045045,    0.046046,    0.047047,\n",
       "          0.048048,    0.049049,     0.05005,    0.051051,    0.052052,    0.053053,    0.054054,    0.055055,    0.056056,    0.057057,    0.058058,    0.059059,     0.06006,    0.061061,    0.062062,    0.063063,    0.064064,    0.065065,    0.066066,    0.067067,    0.068068,    0.069069,     0.07007,    0.071071,\n",
       "          0.072072,    0.073073,    0.074074,    0.075075,    0.076076,    0.077077,    0.078078,    0.079079,     0.08008,    0.081081,    0.082082,    0.083083,    0.084084,    0.085085,    0.086086,    0.087087,    0.088088,    0.089089,     0.09009,    0.091091,    0.092092,    0.093093,    0.094094,    0.095095,\n",
       "          0.096096,    0.097097,    0.098098,    0.099099,      0.1001,      0.1011,      0.1021,      0.1031,      0.1041,     0.10511,     0.10611,     0.10711,     0.10811,     0.10911,     0.11011,     0.11111,     0.11211,     0.11311,     0.11411,     0.11512,     0.11612,     0.11712,     0.11812,     0.11912,\n",
       "           0.12012,     0.12112,     0.12212,     0.12312,     0.12412,     0.12513,     0.12613,     0.12713,     0.12813,     0.12913,     0.13013,     0.13113,     0.13213,     0.13313,     0.13413,     0.13514,     0.13614,     0.13714,     0.13814,     0.13914,     0.14014,     0.14114,     0.14214,     0.14314,\n",
       "           0.14414,     0.14515,     0.14615,     0.14715,     0.14815,     0.14915,     0.15015,     0.15115,     0.15215,     0.15315,     0.15415,     0.15516,     0.15616,     0.15716,     0.15816,     0.15916,     0.16016,     0.16116,     0.16216,     0.16316,     0.16416,     0.16517,     0.16617,     0.16717,\n",
       "           0.16817,     0.16917,     0.17017,     0.17117,     0.17217,     0.17317,     0.17417,     0.17518,     0.17618,     0.17718,     0.17818,     0.17918,     0.18018,     0.18118,     0.18218,     0.18318,     0.18418,     0.18519,     0.18619,     0.18719,     0.18819,     0.18919,     0.19019,     0.19119,\n",
       "           0.19219,     0.19319,     0.19419,      0.1952,      0.1962,      0.1972,      0.1982,      0.1992,      0.2002,      0.2012,      0.2022,      0.2032,      0.2042,     0.20521,     0.20621,     0.20721,     0.20821,     0.20921,     0.21021,     0.21121,     0.21221,     0.21321,     0.21421,     0.21522,\n",
       "           0.21622,     0.21722,     0.21822,     0.21922,     0.22022,     0.22122,     0.22222,     0.22322,     0.22422,     0.22523,     0.22623,     0.22723,     0.22823,     0.22923,     0.23023,     0.23123,     0.23223,     0.23323,     0.23423,     0.23524,     0.23624,     0.23724,     0.23824,     0.23924,\n",
       "           0.24024,     0.24124,     0.24224,     0.24324,     0.24424,     0.24525,     0.24625,     0.24725,     0.24825,     0.24925,     0.25025,     0.25125,     0.25225,     0.25325,     0.25425,     0.25526,     0.25626,     0.25726,     0.25826,     0.25926,     0.26026,     0.26126,     0.26226,     0.26326,\n",
       "           0.26426,     0.26527,     0.26627,     0.26727,     0.26827,     0.26927,     0.27027,     0.27127,     0.27227,     0.27327,     0.27427,     0.27528,     0.27628,     0.27728,     0.27828,     0.27928,     0.28028,     0.28128,     0.28228,     0.28328,     0.28428,     0.28529,     0.28629,     0.28729,\n",
       "           0.28829,     0.28929,     0.29029,     0.29129,     0.29229,     0.29329,     0.29429,      0.2953,      0.2963,      0.2973,      0.2983,      0.2993,      0.3003,      0.3013,      0.3023,      0.3033,      0.3043,     0.30531,     0.30631,     0.30731,     0.30831,     0.30931,     0.31031,     0.31131,\n",
       "           0.31231,     0.31331,     0.31431,     0.31532,     0.31632,     0.31732,     0.31832,     0.31932,     0.32032,     0.32132,     0.32232,     0.32332,     0.32432,     0.32533,     0.32633,     0.32733,     0.32833,     0.32933,     0.33033,     0.33133,     0.33233,     0.33333,     0.33433,     0.33534,\n",
       "           0.33634,     0.33734,     0.33834,     0.33934,     0.34034,     0.34134,     0.34234,     0.34334,     0.34434,     0.34535,     0.34635,     0.34735,     0.34835,     0.34935,     0.35035,     0.35135,     0.35235,     0.35335,     0.35435,     0.35536,     0.35636,     0.35736,     0.35836,     0.35936,\n",
       "           0.36036,     0.36136,     0.36236,     0.36336,     0.36436,     0.36537,     0.36637,     0.36737,     0.36837,     0.36937,     0.37037,     0.37137,     0.37237,     0.37337,     0.37437,     0.37538,     0.37638,     0.37738,     0.37838,     0.37938,     0.38038,     0.38138,     0.38238,     0.38338,\n",
       "           0.38438,     0.38539,     0.38639,     0.38739,     0.38839,     0.38939,     0.39039,     0.39139,     0.39239,     0.39339,     0.39439,      0.3954,      0.3964,      0.3974,      0.3984,      0.3994,      0.4004,      0.4014,      0.4024,      0.4034,      0.4044,     0.40541,     0.40641,     0.40741,\n",
       "           0.40841,     0.40941,     0.41041,     0.41141,     0.41241,     0.41341,     0.41441,     0.41542,     0.41642,     0.41742,     0.41842,     0.41942,     0.42042,     0.42142,     0.42242,     0.42342,     0.42442,     0.42543,     0.42643,     0.42743,     0.42843,     0.42943,     0.43043,     0.43143,\n",
       "           0.43243,     0.43343,     0.43443,     0.43544,     0.43644,     0.43744,     0.43844,     0.43944,     0.44044,     0.44144,     0.44244,     0.44344,     0.44444,     0.44545,     0.44645,     0.44745,     0.44845,     0.44945,     0.45045,     0.45145,     0.45245,     0.45345,     0.45445,     0.45546,\n",
       "           0.45646,     0.45746,     0.45846,     0.45946,     0.46046,     0.46146,     0.46246,     0.46346,     0.46446,     0.46547,     0.46647,     0.46747,     0.46847,     0.46947,     0.47047,     0.47147,     0.47247,     0.47347,     0.47447,     0.47548,     0.47648,     0.47748,     0.47848,     0.47948,\n",
       "           0.48048,     0.48148,     0.48248,     0.48348,     0.48448,     0.48549,     0.48649,     0.48749,     0.48849,     0.48949,     0.49049,     0.49149,     0.49249,     0.49349,     0.49449,      0.4955,      0.4965,      0.4975,      0.4985,      0.4995,      0.5005,      0.5015,      0.5025,      0.5035,\n",
       "            0.5045,     0.50551,     0.50651,     0.50751,     0.50851,     0.50951,     0.51051,     0.51151,     0.51251,     0.51351,     0.51451,     0.51552,     0.51652,     0.51752,     0.51852,     0.51952,     0.52052,     0.52152,     0.52252,     0.52352,     0.52452,     0.52553,     0.52653,     0.52753,\n",
       "           0.52853,     0.52953,     0.53053,     0.53153,     0.53253,     0.53353,     0.53453,     0.53554,     0.53654,     0.53754,     0.53854,     0.53954,     0.54054,     0.54154,     0.54254,     0.54354,     0.54454,     0.54555,     0.54655,     0.54755,     0.54855,     0.54955,     0.55055,     0.55155,\n",
       "           0.55255,     0.55355,     0.55455,     0.55556,     0.55656,     0.55756,     0.55856,     0.55956,     0.56056,     0.56156,     0.56256,     0.56356,     0.56456,     0.56557,     0.56657,     0.56757,     0.56857,     0.56957,     0.57057,     0.57157,     0.57257,     0.57357,     0.57457,     0.57558,\n",
       "           0.57658,     0.57758,     0.57858,     0.57958,     0.58058,     0.58158,     0.58258,     0.58358,     0.58458,     0.58559,     0.58659,     0.58759,     0.58859,     0.58959,     0.59059,     0.59159,     0.59259,     0.59359,     0.59459,      0.5956,      0.5966,      0.5976,      0.5986,      0.5996,\n",
       "            0.6006,      0.6016,      0.6026,      0.6036,      0.6046,     0.60561,     0.60661,     0.60761,     0.60861,     0.60961,     0.61061,     0.61161,     0.61261,     0.61361,     0.61461,     0.61562,     0.61662,     0.61762,     0.61862,     0.61962,     0.62062,     0.62162,     0.62262,     0.62362,\n",
       "           0.62462,     0.62563,     0.62663,     0.62763,     0.62863,     0.62963,     0.63063,     0.63163,     0.63263,     0.63363,     0.63463,     0.63564,     0.63664,     0.63764,     0.63864,     0.63964,     0.64064,     0.64164,     0.64264,     0.64364,     0.64464,     0.64565,     0.64665,     0.64765,\n",
       "           0.64865,     0.64965,     0.65065,     0.65165,     0.65265,     0.65365,     0.65465,     0.65566,     0.65666,     0.65766,     0.65866,     0.65966,     0.66066,     0.66166,     0.66266,     0.66366,     0.66466,     0.66567,     0.66667,     0.66767,     0.66867,     0.66967,     0.67067,     0.67167,\n",
       "           0.67267,     0.67367,     0.67467,     0.67568,     0.67668,     0.67768,     0.67868,     0.67968,     0.68068,     0.68168,     0.68268,     0.68368,     0.68468,     0.68569,     0.68669,     0.68769,     0.68869,     0.68969,     0.69069,     0.69169,     0.69269,     0.69369,     0.69469,      0.6957,\n",
       "            0.6967,      0.6977,      0.6987,      0.6997,      0.7007,      0.7017,      0.7027,      0.7037,      0.7047,     0.70571,     0.70671,     0.70771,     0.70871,     0.70971,     0.71071,     0.71171,     0.71271,     0.71371,     0.71471,     0.71572,     0.71672,     0.71772,     0.71872,     0.71972,\n",
       "           0.72072,     0.72172,     0.72272,     0.72372,     0.72472,     0.72573,     0.72673,     0.72773,     0.72873,     0.72973,     0.73073,     0.73173,     0.73273,     0.73373,     0.73473,     0.73574,     0.73674,     0.73774,     0.73874,     0.73974,     0.74074,     0.74174,     0.74274,     0.74374,\n",
       "           0.74474,     0.74575,     0.74675,     0.74775,     0.74875,     0.74975,     0.75075,     0.75175,     0.75275,     0.75375,     0.75475,     0.75576,     0.75676,     0.75776,     0.75876,     0.75976,     0.76076,     0.76176,     0.76276,     0.76376,     0.76476,     0.76577,     0.76677,     0.76777,\n",
       "           0.76877,     0.76977,     0.77077,     0.77177,     0.77277,     0.77377,     0.77477,     0.77578,     0.77678,     0.77778,     0.77878,     0.77978,     0.78078,     0.78178,     0.78278,     0.78378,     0.78478,     0.78579,     0.78679,     0.78779,     0.78879,     0.78979,     0.79079,     0.79179,\n",
       "           0.79279,     0.79379,     0.79479,      0.7958,      0.7968,      0.7978,      0.7988,      0.7998,      0.8008,      0.8018,      0.8028,      0.8038,      0.8048,     0.80581,     0.80681,     0.80781,     0.80881,     0.80981,     0.81081,     0.81181,     0.81281,     0.81381,     0.81481,     0.81582,\n",
       "           0.81682,     0.81782,     0.81882,     0.81982,     0.82082,     0.82182,     0.82282,     0.82382,     0.82482,     0.82583,     0.82683,     0.82783,     0.82883,     0.82983,     0.83083,     0.83183,     0.83283,     0.83383,     0.83483,     0.83584,     0.83684,     0.83784,     0.83884,     0.83984,\n",
       "           0.84084,     0.84184,     0.84284,     0.84384,     0.84484,     0.84585,     0.84685,     0.84785,     0.84885,     0.84985,     0.85085,     0.85185,     0.85285,     0.85385,     0.85485,     0.85586,     0.85686,     0.85786,     0.85886,     0.85986,     0.86086,     0.86186,     0.86286,     0.86386,\n",
       "           0.86486,     0.86587,     0.86687,     0.86787,     0.86887,     0.86987,     0.87087,     0.87187,     0.87287,     0.87387,     0.87487,     0.87588,     0.87688,     0.87788,     0.87888,     0.87988,     0.88088,     0.88188,     0.88288,     0.88388,     0.88488,     0.88589,     0.88689,     0.88789,\n",
       "           0.88889,     0.88989,     0.89089,     0.89189,     0.89289,     0.89389,     0.89489,      0.8959,      0.8969,      0.8979,      0.8989,      0.8999,      0.9009,      0.9019,      0.9029,      0.9039,      0.9049,     0.90591,     0.90691,     0.90791,     0.90891,     0.90991,     0.91091,     0.91191,\n",
       "           0.91291,     0.91391,     0.91491,     0.91592,     0.91692,     0.91792,     0.91892,     0.91992,     0.92092,     0.92192,     0.92292,     0.92392,     0.92492,     0.92593,     0.92693,     0.92793,     0.92893,     0.92993,     0.93093,     0.93193,     0.93293,     0.93393,     0.93493,     0.93594,\n",
       "           0.93694,     0.93794,     0.93894,     0.93994,     0.94094,     0.94194,     0.94294,     0.94394,     0.94494,     0.94595,     0.94695,     0.94795,     0.94895,     0.94995,     0.95095,     0.95195,     0.95295,     0.95395,     0.95495,     0.95596,     0.95696,     0.95796,     0.95896,     0.95996,\n",
       "           0.96096,     0.96196,     0.96296,     0.96396,     0.96496,     0.96597,     0.96697,     0.96797,     0.96897,     0.96997,     0.97097,     0.97197,     0.97297,     0.97397,     0.97497,     0.97598,     0.97698,     0.97798,     0.97898,     0.97998,     0.98098,     0.98198,     0.98298,     0.98398,\n",
       "           0.98498,     0.98599,     0.98699,     0.98799,     0.98899,     0.98999,     0.99099,     0.99199,     0.99299,     0.99399,     0.99499,       0.996,       0.997,       0.998,       0.999,           1]), array([[    0.97277,     0.97277,     0.97277,     0.97173,     0.97068,     0.96859,     0.96754,     0.96649,     0.96545,      0.9644,     0.96335,     0.96335,      0.9623,     0.96126,     0.96021,     0.96021,     0.96021,     0.96021,     0.96021,     0.96021,     0.96021,     0.96021,     0.96021,\n",
       "            0.96021,     0.96021,     0.96021,     0.96021,     0.96021,     0.96021,     0.96021,     0.96021,     0.96021,     0.96021,     0.95916,     0.95916,     0.95916,     0.95916,     0.95916,     0.95916,     0.95916,     0.95916,     0.95916,     0.95916,     0.95916,     0.95916,     0.95916,\n",
       "            0.95812,     0.95812,     0.95812,     0.95812,     0.95812,     0.95812,     0.95812,     0.95812,     0.95768,     0.95707,     0.95707,     0.95707,     0.95707,     0.95602,     0.95545,     0.95497,     0.95497,     0.95497,     0.95497,     0.95497,     0.95497,     0.95497,     0.95497,\n",
       "            0.95497,     0.95497,     0.95393,     0.95393,     0.95288,     0.95288,     0.95288,     0.95288,     0.95288,     0.95183,     0.95079,     0.95079,     0.94974,     0.94871,     0.94764,     0.94555,     0.94555,     0.94555,     0.94555,     0.94555,     0.94555,      0.9445,      0.9445,\n",
       "             0.9445,      0.9445,      0.9445,     0.94346,     0.94346,     0.94346,     0.94346,     0.94241,     0.94241,     0.94241,     0.94241,     0.94239,     0.94213,     0.94187,     0.94161,     0.94136,     0.94136,     0.94136,     0.94136,     0.94136,     0.94136,     0.94136,     0.94136,\n",
       "            0.94031,     0.93927,     0.93927,     0.93927,     0.93927,     0.93927,     0.93893,     0.93801,      0.9375,     0.93717,     0.93717,     0.93717,     0.93613,     0.93613,     0.93613,     0.93613,     0.93508,     0.93508,     0.93479,     0.93403,     0.93382,     0.93325,     0.93298,\n",
       "            0.93298,     0.93298,     0.93298,     0.93298,     0.93298,     0.93298,     0.93298,     0.93298,     0.93298,     0.93298,     0.93194,     0.93194,     0.93194,     0.93194,     0.93194,     0.93194,     0.93194,     0.93185,     0.93119,     0.93089,     0.93041,     0.92984,     0.92984,\n",
       "             0.9288,      0.9288,     0.92874,     0.92845,     0.92817,     0.92788,     0.92775,     0.92775,     0.92775,     0.92775,     0.92775,     0.92775,     0.92775,     0.92775,      0.9267,      0.9267,      0.9267,      0.9267,      0.9267,      0.9267,      0.9267,     0.92606,     0.92565,\n",
       "            0.92565,      0.9253,     0.92414,     0.92251,     0.92251,     0.92213,     0.92147,     0.92147,     0.92147,     0.92147,     0.92147,     0.92147,     0.92147,     0.92147,     0.92147,     0.92147,     0.92147,     0.92147,     0.92147,     0.92147,     0.92147,     0.92147,     0.92042,\n",
       "            0.92042,     0.92042,     0.92042,     0.92042,     0.92042,     0.92042,     0.92042,     0.92042,     0.92042,     0.92042,     0.92042,     0.92042,     0.92042,     0.92042,     0.92042,     0.92012,     0.91909,     0.91858,     0.91657,     0.91601,     0.91518,     0.91518,     0.91518,\n",
       "            0.91518,       0.914,     0.91349,     0.91309,     0.91309,     0.91309,     0.91309,     0.91305,     0.91233,     0.91099,     0.91078,     0.90995,     0.90995,     0.90995,     0.90967,     0.90919,      0.9089,      0.9089,      0.9089,      0.9089,     0.90833,     0.90785,     0.90785,\n",
       "            0.90681,     0.90681,     0.90681,     0.90659,     0.90516,     0.90373,     0.90366,     0.90366,     0.90366,     0.90366,     0.90366,     0.90366,     0.90366,     0.90366,     0.90366,     0.90362,     0.90339,     0.90317,     0.90294,     0.90272,     0.90262,     0.90177,     0.90157,\n",
       "            0.90157,     0.90157,     0.90157,     0.90036,     0.89965,     0.89901,     0.89843,     0.89843,     0.89843,     0.89843,     0.89843,     0.89712,     0.89651,     0.89634,     0.89634,     0.89634,     0.89634,     0.89634,     0.89634,     0.89593,     0.89529,     0.89529,     0.89384,\n",
       "            0.89341,     0.89319,     0.89319,     0.89319,     0.89319,     0.89282,     0.89215,     0.89198,     0.89173,     0.89148,     0.89123,      0.8911,      0.8911,      0.8911,      0.8911,      0.8911,      0.8911,      0.8911,      0.8911,      0.8911,      0.8911,      0.8911,     0.89054,\n",
       "            0.88991,     0.88966,     0.88941,     0.88916,     0.88784,     0.88753,     0.88722,     0.88692,     0.88586,     0.88586,     0.88586,     0.88586,     0.88586,     0.88586,     0.88586,     0.88261,       0.882,     0.88168,     0.88168,     0.88136,     0.88074,     0.87958,     0.87958,\n",
       "            0.87939,     0.87749,     0.87749,     0.87749,     0.87749,     0.87599,     0.87431,     0.87112,     0.87016,     0.87016,     0.87016,     0.87016,     0.87016,     0.86911,     0.86911,      0.8691,     0.86849,     0.86702,     0.86702,     0.86638,     0.86492,     0.86492,     0.86492,\n",
       "            0.86392,     0.86387,     0.86387,     0.86283,     0.86283,     0.86283,     0.86283,     0.86283,     0.86283,     0.86283,     0.86283,     0.86283,     0.86282,     0.86221,     0.86178,     0.86178,     0.85969,     0.85969,     0.85969,     0.85969,     0.85969,     0.85969,     0.85969,\n",
       "            0.85969,     0.85969,     0.85964,     0.85902,     0.85864,     0.85716,     0.85654,     0.85606,     0.85499,     0.85445,     0.85445,     0.85445,     0.85445,     0.85445,     0.85445,     0.85445,     0.85445,     0.85423,     0.85316,     0.85229,     0.85202,     0.85175,     0.85148,\n",
       "            0.85117,     0.85078,     0.85039,     0.85026,     0.85026,     0.85026,     0.85026,     0.85026,     0.85004,     0.84975,     0.84946,     0.84921,     0.84921,     0.84902,     0.84806,     0.84752,     0.84712,     0.84712,     0.84712,      0.8459,     0.84536,     0.84239,     0.84188,\n",
       "            0.84188,     0.84188,     0.84188,     0.84149,     0.84095,     0.84041,     0.83988,     0.83889,     0.83874,     0.83874,     0.83825,     0.83772,     0.83718,     0.83664,      0.8356,      0.8356,      0.8356,      0.8344,     0.83246,     0.83246,     0.83246,     0.83246,     0.83246,\n",
       "            0.83246,     0.83246,     0.83246,     0.83246,     0.83225,     0.83189,     0.83153,     0.83141,     0.83141,     0.83141,     0.83141,     0.83141,     0.83141,     0.83054,     0.82992,     0.82938,     0.82932,     0.82932,     0.82517,     0.82513,     0.82304,     0.82302,     0.82248,\n",
       "             0.8219,     0.82088,     0.82035,      0.8199,      0.8199,      0.8199,      0.8199,      0.8199,      0.8199,     0.81957,     0.81849,     0.81742,     0.81635,     0.81527,     0.81466,     0.81466,     0.81348,     0.81322,     0.81295,     0.81268,     0.80986,     0.80942,     0.80838,\n",
       "            0.80768,     0.80733,     0.80658,     0.80524,     0.80524,     0.80441,     0.80419,     0.80419,     0.80419,     0.80221,     0.80209,     0.80111,     0.80004,     0.79948,     0.79895,     0.79895,     0.79889,     0.79677,     0.79465,     0.79372,     0.79372,     0.79247,     0.79151,\n",
       "            0.79097,     0.79044,      0.7899,      0.7892,     0.78708,     0.78496,     0.78429,     0.78209,     0.78182,     0.78155,     0.78129,     0.78061,     0.77982,     0.77929,     0.77906,     0.77737,     0.77696,     0.77673,     0.77637,     0.77602,     0.77592,     0.77592,     0.77592,\n",
       "            0.77592,     0.77548,     0.77494,     0.77336,     0.77282,     0.77249,     0.77219,     0.77188,     0.77119,     0.77068,     0.76963,     0.76963,     0.76859,     0.76754,     0.76754,     0.76754,     0.76574,     0.76467,      0.7636,     0.76335,     0.76318,     0.76297,     0.76275,\n",
       "            0.76254,     0.76232,     0.76132,     0.76126,     0.75916,     0.75916,     0.75812,     0.75812,     0.75812,     0.75812,     0.75745,     0.75707,     0.75707,     0.75669,     0.75616,     0.75602,     0.75415,     0.75393,     0.75393,     0.75197,     0.74985,     0.74974,     0.74974,\n",
       "            0.74974,     0.74974,     0.74947,     0.74893,      0.7484,     0.74786,     0.74764,     0.74593,      0.7445,      0.7445,      0.7445,      0.7445,      0.7445,     0.74315,     0.74241,     0.74205,     0.74098,     0.74004,     0.73933,     0.73927,     0.73927,     0.73927,     0.73769,\n",
       "             0.7361,     0.73557,     0.73498,     0.73395,     0.73324,     0.73194,     0.73121,     0.72909,     0.72775,     0.72775,     0.72587,     0.72428,     0.72233,      0.7218,     0.72001,     0.71937,     0.71937,     0.71836,     0.71729,     0.71596,      0.7157,     0.71543,     0.71518,\n",
       "            0.71518,     0.71485,     0.71431,     0.71341,     0.71234,     0.71192,     0.71138,      0.7089,      0.7089,      0.7089,      0.7089,      0.7089,     0.70585,     0.70373,     0.70213,     0.70131,     0.70078,     0.69891,     0.69714,     0.69672,     0.69634,     0.69634,     0.69599,\n",
       "            0.69352,     0.69244,     0.69058,     0.68977,      0.6887,     0.68658,      0.6841,     0.68286,     0.68074,     0.67967,     0.67735,     0.67705,     0.67674,     0.67537,     0.67221,     0.67118,     0.67075,     0.67032,     0.66739,     0.66632,     0.66492,     0.66469,     0.66283,\n",
       "            0.66283,     0.66241,     0.66188,     0.66119,     0.66073,     0.66073,     0.66073,     0.66073,      0.6592,     0.65864,     0.65759,     0.65755,      0.6565,     0.65578,     0.65445,     0.65236,     0.65236,     0.65091,     0.64951,     0.64921,     0.64579,     0.64472,     0.64398,\n",
       "             0.6431,     0.64098,     0.63938,     0.63787,     0.63566,      0.6356,      0.6356,     0.63506,     0.63244,     0.63201,     0.63158,     0.62972,     0.62827,     0.62711,     0.62639,     0.62281,     0.61859,     0.61724,     0.61466,     0.61014,     0.60766,     0.60733,     0.60733,\n",
       "             0.6027,     0.60178,     0.60107,     0.59983,     0.59947,     0.59911,     0.59731,     0.59624,     0.59363,     0.59292,     0.59197,     0.59142,     0.59012,     0.58692,     0.58515,     0.58444,     0.58267,     0.58091,      0.5802,     0.57948,     0.57667,     0.57596,      0.5721,\n",
       "            0.56963,     0.56649,     0.56649,      0.5644,     0.56116,     0.55594,     0.55522,     0.54927,     0.54332,      0.5426,     0.53927,     0.53175,     0.53103,     0.52508,     0.51901,     0.51623,     0.51623,     0.51349,     0.50859,     0.50787,     0.50366,     0.49981,       0.497,\n",
       "            0.48791,     0.48719,     0.48103,     0.47913,     0.47527,     0.47456,     0.47045,      0.4644,     0.45636,     0.45564,     0.45254,     0.44653,     0.44058,     0.43986,     0.43778,     0.43075,     0.42513,     0.42479,     0.41883,     0.40939,     0.40868,     0.40147,     0.39538,\n",
       "            0.38938,     0.37789,     0.37718,     0.37277,     0.36597,     0.35574,     0.34953,     0.34882,     0.33838,     0.33194,     0.32629,     0.31788,     0.30754,     0.30683,     0.29739,     0.28061,      0.2799,     0.27165,     0.25802,     0.24459,     0.23859,     0.23123,     0.22499,\n",
       "            0.22428,     0.21493,     0.20338,     0.19393,     0.18372,     0.17555,     0.16021,     0.15351,     0.14616,     0.13791,     0.13719,     0.12671,     0.10678,    0.091051,     0.07846,    0.074245,    0.065842,     0.05749,    0.056774,    0.046391,    0.042177,    0.034821,    0.031653,\n",
       "           0.026391,    0.022177,    0.020056,      0.0127,    0.011518,   0.0095064,   0.0063388,   0.0052655,   0.0036668,   0.0031263,   0.0024108,   0.0014957,           0,           0,           0,           0,           0,           0,           0,           0,           0,           0,           0,\n",
       "                  0,           0,           0,           0,           0,           0,           0,           0,           0,           0,           0,           0,           0,           0,           0,           0,           0,           0,           0,           0,           0,           0,           0,\n",
       "                  0,           0,           0,           0,           0,           0,           0,           0,           0,           0,           0,           0,           0,           0,           0,           0,           0,           0,           0,           0,           0,           0,           0,\n",
       "                  0,           0,           0,           0,           0,           0,           0,           0,           0,           0,           0,           0,           0,           0,           0,           0,           0,           0,           0,           0,           0,           0,           0,\n",
       "                  0,           0,           0,           0,           0,           0,           0,           0,           0,           0,           0,           0,           0,           0,           0,           0,           0,           0,           0,           0,           0,           0,           0,\n",
       "                  0,           0,           0,           0,           0,           0,           0,           0,           0,           0,           0,           0,           0,           0,           0,           0,           0,           0,           0,           0,           0,           0,           0,\n",
       "                  0,           0,           0,           0,           0,           0,           0,           0,           0,           0,           0]]), 'Confidence', 'Recall']]\n",
       "fitness: np.float64(0.7206424760240229)\n",
       "keys: ['metrics/precision(B)', 'metrics/recall(B)', 'metrics/mAP50(B)', 'metrics/mAP50-95(B)']\n",
       "maps: array([    0.70234])\n",
       "names: {0: 'cell'}\n",
       "nt_per_class: array([955])\n",
       "nt_per_image: array([73])\n",
       "results_dict: {'metrics/precision(B)': np.float64(0.7888547439852914), 'metrics/recall(B)': np.float64(0.8684912287006528), 'metrics/mAP50(B)': np.float64(0.8854048829373197), 'metrics/mAP50-95(B)': np.float64(0.7023355419225454), 'fitness': np.float64(0.7206424760240229)}\n",
       "save_dir: PosixPath('runs/detect/final_model_yolov12l')\n",
       "speed: {'preprocess': 0.21365933120250702, 'inference': 35.162920455137886, 'loss': 0.0006192425886789957, 'postprocess': 1.128211294611295}\n",
       "stats: {'tp': [], 'conf': [], 'pred_cls': [], 'target_cls': [], 'target_img': []}\n",
       "task: 'detect'"
      ]
     },
     "execution_count": 8,
     "metadata": {},
     "output_type": "execute_result"
    }
   ],
   "source": [
    "# params = getattr(config, name_best_params)\n",
    "params = best_params\n",
    "\n",
    "model.train(\n",
    "    data=\"cells.yaml\",\n",
    "    epochs=config.EPOCH_TRAIN,   \n",
    "    imgsz=config.IMGSZ,          \n",
    "    batch=config.BATCH,           \n",
    "    name=model_output,\n",
    "    save=True,  \n",
    "    seed=config.SEED, \n",
    "    workers=0,\n",
    "    **params\n",
    ")"
   ]
  },
  {
   "cell_type": "markdown",
   "metadata": {
    "jp-MarkdownHeadingCollapsed": true
   },
   "source": [
    "### **Train Plots**"
   ]
  },
  {
   "cell_type": "code",
   "execution_count": null,
   "metadata": {},
   "outputs": [],
   "source": [
    "plots_dir = 'yolo/yolo_plots'\n",
    "dfs = plot_utils.load_experiment_results(config.results_csv_paths)\n",
    "\n",
    "plot_utils.create_and_save_individual_plot(dfs, plots_dir,'map50-95', 'metrics/mAP50-95(B)', 'Training mAP@0.5:0.95', 'mAP@0.5:0.95')\n",
    "plot_utils.create_and_save_individual_plot(dfs, plots_dir,'map50', 'metrics/mAP50(B)', 'Training mAP@0.5', 'mAP@0.5')\n",
    "plot_utils.create_and_save_individual_plot(dfs, plots_dir,'precision', 'metrics/precision(B)', 'Val Precision', 'Precision')\n",
    "plot_utils.create_and_save_individual_plot(dfs, plots_dir,'recall', 'metrics/recall(B)', 'Val Recall', 'Recall')\n",
    "plot_utils.create_and_save_individual_plot(dfs, plots_dir,'box_loss', ['train/box_loss', 'val/box_loss'], \n",
    "                               'Training & Validation Box Loss', 'Box Loss', True, (0, 4))\n",
    "plot_utils.create_and_save_individual_plot(dfs, plots_dir,'cls_loss', ['train/cls_loss', 'val/cls_loss'], \n",
    "                               'Training & Validation Classification Loss', 'Cls Loss', True, (0, 4))"
   ]
  },
  {
   "cell_type": "markdown",
   "metadata": {},
   "source": [
    "## **Evaluación**"
   ]
  },
  {
   "cell_type": "code",
   "execution_count": null,
   "metadata": {},
   "outputs": [
    {
     "name": "stdout",
     "output_type": "stream",
     "text": [
      "Ultralytics 8.3.169 🚀 Python-3.11.13 torch-2.6.0+cu124 CUDA:0 (NVIDIA TITAN Xp, 12190MiB)\n",
      "YOLOv12l summary (fused): 283 layers, 26,339,843 parameters, 0 gradients, 88.5 GFLOPs\n",
      "\u001b[34m\u001b[1mval: \u001b[0mFast image access ✅ (ping: 0.0±0.0 ms, read: 1765.8±702.6 MB/s, size: 92.1 KB)\n"
     ]
    },
    {
     "name": "stderr",
     "output_type": "stream",
     "text": [
      "\u001b[34m\u001b[1mval: \u001b[0mScanning /home/aitor/tfm/03.Datasets/YOLO_Datasets/test/labels.cache...\u001b[0m\n",
      "                 Class     Images  Instances      Box(P          R      mAP5\n"
     ]
    },
    {
     "name": "stdout",
     "output_type": "stream",
     "text": [
      "                   all         94       1412      0.846      0.889      0.934      0.714\n",
      "Speed: 0.2ms preprocess, 26.0ms inference, 0.0ms loss, 5.1ms postprocess per image\n",
      "Results saved to \u001b[1mruns/detect/eval_yolov12l_test2\u001b[0m\n",
      "Ultralytics 8.3.169 🚀 Python-3.11.13 torch-2.6.0+cu124 CUDA:0 (NVIDIA TITAN Xp, 12190MiB)\n",
      "YOLOv12l summary (fused): 283 layers, 26,339,843 parameters, 0 gradients, 88.5 GFLOPs\n",
      "\u001b[34m\u001b[1mval: \u001b[0mFast image access ✅ (ping: 0.0±0.0 ms, read: 2337.0±322.5 MB/s, size: 103.4 KB)\n"
     ]
    },
    {
     "name": "stderr",
     "output_type": "stream",
     "text": [
      "\u001b[34m\u001b[1mval: \u001b[0mScanning ../03.Datasets/YOLO_Datasets/test2/labels... 10 images, 0 back\u001b[0m"
     ]
    },
    {
     "name": "stdout",
     "output_type": "stream",
     "text": [
      "\u001b[34m\u001b[1mval: \u001b[0mNew cache created: ../03.Datasets/YOLO_Datasets/test2/labels.cache\n"
     ]
    },
    {
     "name": "stderr",
     "output_type": "stream",
     "text": [
      "\n",
      "                 Class     Images  Instances      Box(P          R      mAP5\n"
     ]
    },
    {
     "name": "stdout",
     "output_type": "stream",
     "text": [
      "                   all         10        144      0.957      0.926      0.975      0.562\n",
      "Speed: 0.2ms preprocess, 39.8ms inference, 0.0ms loss, 1.1ms postprocess per image\n",
      "Results saved to \u001b[1mruns/detect/eval_yolov12l_test22\u001b[0m\n",
      "Ultralytics 8.3.169 🚀 Python-3.11.13 torch-2.6.0+cu124 CUDA:0 (NVIDIA TITAN Xp, 12190MiB)\n",
      "YOLOv12l summary (fused): 283 layers, 26,339,843 parameters, 0 gradients, 88.5 GFLOPs\n",
      "\u001b[34m\u001b[1mval: \u001b[0mFast image access ✅ (ping: 0.0±0.0 ms, read: 3437.5±786.4 MB/s, size: 248.0 KB)\n"
     ]
    },
    {
     "name": "stderr",
     "output_type": "stream",
     "text": [
      "\u001b[34m\u001b[1mval: \u001b[0mScanning ../03.Datasets/YOLO_Datasets/test3/labels... 59 images, 0 back\u001b[0m"
     ]
    },
    {
     "name": "stdout",
     "output_type": "stream",
     "text": [
      "\u001b[34m\u001b[1mval: \u001b[0mNew cache created: ../03.Datasets/YOLO_Datasets/test3/labels.cache\n"
     ]
    },
    {
     "name": "stderr",
     "output_type": "stream",
     "text": [
      "\n",
      "                 Class     Images  Instances      Box(P          R      mAP5\n"
     ]
    },
    {
     "name": "stdout",
     "output_type": "stream",
     "text": [
      "                   all         59       1135      0.849      0.894      0.942      0.701\n",
      "Speed: 0.3ms preprocess, 25.9ms inference, 0.0ms loss, 1.1ms postprocess per image\n",
      "Results saved to \u001b[1mruns/detect/eval_yolov12l_test3\u001b[0m\n"
     ]
    }
   ],
   "source": [
    "# tests = [\"original_test\"]\n",
    "tests = [\"test\", \"test2\", \"test3\"]\n",
    "\n",
    "results = evaluation.evaluate_models(tests=tests)"
   ]
  },
  {
   "cell_type": "code",
   "execution_count": null,
   "metadata": {},
   "outputs": [],
   "source": [
    "# RESULTADOS CUANDO SE CARGARON LAS ANOTACIONES DE TEST ORIGINAL\n",
    "df = pd.DataFrame(results)\n",
    "display(df[df[\"Test\"] == \"original_test\"])"
   ]
  },
  {
   "cell_type": "code",
   "execution_count": 4,
   "metadata": {},
   "outputs": [
    {
     "data": {
      "text/html": [
       "<div>\n",
       "<style scoped>\n",
       "    .dataframe tbody tr th:only-of-type {\n",
       "        vertical-align: middle;\n",
       "    }\n",
       "\n",
       "    .dataframe tbody tr th {\n",
       "        vertical-align: top;\n",
       "    }\n",
       "\n",
       "    .dataframe thead th {\n",
       "        text-align: right;\n",
       "    }\n",
       "</style>\n",
       "<table border=\"1\" class=\"dataframe\">\n",
       "  <thead>\n",
       "    <tr style=\"text-align: right;\">\n",
       "      <th></th>\n",
       "      <th>Modelo</th>\n",
       "      <th>Test</th>\n",
       "      <th>Precisión</th>\n",
       "      <th>Recall</th>\n",
       "      <th>mAP@0.5</th>\n",
       "      <th>mAP@0.5:0.95</th>\n",
       "      <th>Time_s</th>\n",
       "      <th>Inferencia_ms</th>\n",
       "    </tr>\n",
       "  </thead>\n",
       "  <tbody>\n",
       "    <tr>\n",
       "      <th>0</th>\n",
       "      <td>yolov12l</td>\n",
       "      <td>test</td>\n",
       "      <td>0.846</td>\n",
       "      <td>0.889</td>\n",
       "      <td>0.934</td>\n",
       "      <td>0.714</td>\n",
       "      <td>8.917</td>\n",
       "      <td>26.006</td>\n",
       "    </tr>\n",
       "    <tr>\n",
       "      <th>1</th>\n",
       "      <td>yolov12l</td>\n",
       "      <td>test2</td>\n",
       "      <td>0.957</td>\n",
       "      <td>0.926</td>\n",
       "      <td>0.975</td>\n",
       "      <td>0.562</td>\n",
       "      <td>3.538</td>\n",
       "      <td>39.849</td>\n",
       "    </tr>\n",
       "    <tr>\n",
       "      <th>2</th>\n",
       "      <td>yolov12l</td>\n",
       "      <td>test3</td>\n",
       "      <td>0.849</td>\n",
       "      <td>0.894</td>\n",
       "      <td>0.942</td>\n",
       "      <td>0.701</td>\n",
       "      <td>6.008</td>\n",
       "      <td>25.930</td>\n",
       "    </tr>\n",
       "  </tbody>\n",
       "</table>\n",
       "</div>"
      ],
      "text/plain": [
       "     Modelo   Test  Precisión  Recall  mAP@0.5  mAP@0.5:0.95  Time_s  \\\n",
       "0  yolov12l   test      0.846   0.889    0.934         0.714   8.917   \n",
       "1  yolov12l  test2      0.957   0.926    0.975         0.562   3.538   \n",
       "2  yolov12l  test3      0.849   0.894    0.942         0.701   6.008   \n",
       "\n",
       "   Inferencia_ms  \n",
       "0         26.006  \n",
       "1         39.849  \n",
       "2         25.930  "
      ]
     },
     "metadata": {},
     "output_type": "display_data"
    }
   ],
   "source": [
    "df = pd.DataFrame(results)\n",
    "display(df)"
   ]
  }
 ],
 "metadata": {
  "kernelspec": {
   "display_name": "Python 3 (ipykernel)",
   "language": "python",
   "name": "python3"
  },
  "language_info": {
   "codemirror_mode": {
    "name": "ipython",
    "version": 3
   },
   "file_extension": ".py",
   "mimetype": "text/x-python",
   "name": "python",
   "nbconvert_exporter": "python",
   "pygments_lexer": "ipython3",
   "version": "3.11.13"
  }
 },
 "nbformat": 4,
 "nbformat_minor": 4
}
