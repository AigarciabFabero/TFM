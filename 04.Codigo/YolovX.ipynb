{
 "cells": [
  {
   "cell_type": "markdown",
   "metadata": {},
   "source": [
    "# <span style=\"color:turquoise\">**Detección de células redondas utilizando Yolo**</span>"
   ]
  },
  {
   "cell_type": "markdown",
   "metadata": {},
   "source": [
    "## **Hardware**"
   ]
  },
  {
   "cell_type": "markdown",
   "metadata": {},
   "source": [
    "**PC** Lenovo Idealpad Gaming3\n",
    "\n",
    "**Procesador** AMD Ryzen 5 5600H with Radeon Graphics 3.3 GHz\n",
    "\n",
    "\tVelocidad de base:\t3,30 GHz\n",
    "\tSockets:\t1\n",
    "\tNúcleos:\t6\n",
    "\tProcesadores lógicos:\t12\n",
    "\tVirtualización:\tHabilitado\n",
    "\tCaché L1:\t384 kB\n",
    "\tCaché L2:\t3,0 MB\n",
    "\tCaché L3:\t16,0 MB\n",
    "\n",
    "**Gráficos dedicados** NVIDIA GeForce RTX 3050 Laptop \n",
    "\n",
    "\tVersión del controlador:\t31.0.15.5176\n",
    "\tFecha del controlador:\t01/03/2024\n",
    "\tVersión de DirectX:\t12 (FL 12.1)\n",
    "\tMemoria de GPU dedicada\t4,0 GB\n",
    "\tMemoria de GPU compartida\t7,7 GB\n",
    "\tMemoria de GPU\t11,7 GB\n",
    "\t\n",
    "**RAM** 16 GB SODIMM DDR4 \n",
    "\n",
    "\tVelocidad:\t3200 MHz\n",
    "\tRanuras usadas:\t2 de 2\n",
    "\tFactor de forma:\tSODIMM\n",
    "\n",
    "**Memoria estado sólido** SSD 512 GB 2210 NVMe PCIe Gen3 x4  Micron MTFDHBA512QFD\n",
    "\n",
    "**Google Colab** \n",
    "\t12.7 GB RAM, 15 GB RAM GPU Tesla T4, SSD 78.2 GB"
   ]
  },
  {
   "cell_type": "code",
   "execution_count": 2,
   "metadata": {},
   "outputs": [
    {
     "name": "stdout",
     "output_type": "stream",
     "text": [
      "Sun Jul  6 23:39:10 2025       \n",
      "+-----------------------------------------------------------------------------------------+\n",
      "| NVIDIA-SMI 576.02                 Driver Version: 576.02         CUDA Version: 12.9     |\n",
      "|-----------------------------------------+------------------------+----------------------+\n",
      "| GPU  Name                  Driver-Model | Bus-Id          Disp.A | Volatile Uncorr. ECC |\n",
      "| Fan  Temp   Perf          Pwr:Usage/Cap |           Memory-Usage | GPU-Util  Compute M. |\n",
      "|                                         |                        |               MIG M. |\n",
      "|=========================================+========================+======================|\n",
      "|   0  NVIDIA GeForce RTX 3050 ...  WDDM  |   00000000:01:00.0 Off |                  N/A |\n",
      "| N/A   47C    P5              6W /   60W |     334MiB /   4096MiB |     29%      Default |\n",
      "|                                         |                        |                  N/A |\n",
      "+-----------------------------------------+------------------------+----------------------+\n",
      "                                                                                         \n",
      "+-----------------------------------------------------------------------------------------+\n",
      "| Processes:                                                                              |\n",
      "|  GPU   GI   CI              PID   Type   Process name                        GPU Memory |\n",
      "|        ID   ID                                                               Usage      |\n",
      "|=========================================================================================|\n",
      "|    0   N/A  N/A           22876    C+G   ...ms\\Microsoft VS Code\\Code.exe      N/A      |\n",
      "+-----------------------------------------------------------------------------------------+\n"
     ]
    }
   ],
   "source": [
    "!nvidia-smi"
   ]
  },
  {
   "cell_type": "markdown",
   "metadata": {},
   "source": [
    "## **Introducción**"
   ]
  },
  {
   "cell_type": "markdown",
   "metadata": {},
   "source": [
    "En este TFM se pretende realizar un estudio del arte y entrenamiento de diferentes modelos (YOLO, Fast-RCNN, propio) para la detección de células y artefactos en imágenes médicas. Para esto, se aplican técnicas de visión por computador y aprendizaje profundo. Además, se realizará un exahustiva revisión de la bibliografía existente, mejora del dataset y análisis estadistico fundamentado en las diferentes métricas."
   ]
  },
  {
   "cell_type": "markdown",
   "metadata": {},
   "source": [
    "## **Dependencias**"
   ]
  },
  {
   "cell_type": "code",
   "execution_count": 1,
   "metadata": {},
   "outputs": [],
   "source": [
    "import cv2\n",
    "import os\n",
    "import pandas as pd\n",
    "import matplotlib.pyplot as plt\n",
    "\n",
    "import torch\n",
    "from ultralytics import YOLO"
   ]
  },
  {
   "cell_type": "markdown",
   "metadata": {},
   "source": [
    "## **Entrenamineto de los modelos YOLOv11 y YOLOv12**"
   ]
  },
  {
   "cell_type": "code",
   "execution_count": 2,
   "metadata": {},
   "outputs": [
    {
     "name": "stdout",
     "output_type": "stream",
     "text": [
      "PyTorch ha sido importado con éxito.\n",
      "Versión de PyTorch: 2.6.0+cu126\n",
      "¿CUDA está disponible? True\n",
      "Versión de CUDA: 12.6\n",
      "Dispositivo CUDA: NVIDIA GeForce RTX 3050 Laptop GPU\n"
     ]
    }
   ],
   "source": [
    "print(\"PyTorch ha sido importado con éxito.\")\n",
    "print(f\"Versión de PyTorch: {torch.__version__}\")\n",
    "print(f\"¿CUDA está disponible? {torch.cuda.is_available()}\")\n",
    "print(f\"Versión de CUDA: {torch.version.cuda}\")\n",
    "print(f\"Dispositivo CUDA: {torch.cuda.get_device_name(0)}\")"
   ]
  },
  {
   "cell_type": "code",
   "execution_count": 7,
   "metadata": {},
   "outputs": [],
   "source": [
    "# %pip install ultralytics"
   ]
  },
  {
   "cell_type": "markdown",
   "metadata": {},
   "source": [
    "------------------------------------------------------------------------------------"
   ]
  },
  {
   "cell_type": "code",
   "execution_count": null,
   "metadata": {},
   "outputs": [],
   "source": [
    "# !pip install optuna"
   ]
  },
  {
   "cell_type": "code",
   "execution_count": 3,
   "metadata": {},
   "outputs": [
    {
     "name": "stderr",
     "output_type": "stream",
     "text": [
      "c:\\Users\\mini7\\miniconda3\\envs\\TFM\\Lib\\site-packages\\tqdm\\auto.py:21: TqdmWarning: IProgress not found. Please update jupyter and ipywidgets. See https://ipywidgets.readthedocs.io/en/stable/user_install.html\n",
      "  from .autonotebook import tqdm as notebook_tqdm\n"
     ]
    }
   ],
   "source": [
    "import optuna\n",
    "\n",
    "def objective(trial):\n",
    "    params = {\n",
    "        # 🎯 OPTIMIZACIÓN\n",
    "        'lr0': trial.suggest_float('lr0', 0.0001, 0.01, log=True),\n",
    "        'lrf': trial.suggest_float('lrf', 0.001, 0.01, log=True),\n",
    "        'momentum': trial.suggest_float('momentum', 0.8, 0.95),\n",
    "        'weight_decay': trial.suggest_float('weight_decay', 0.0001, 0.001, log=True), # YOLO solo tiene regulación L2\n",
    "        'optimizer': trial.suggest_categorical('optimizer', ['SGD', 'Adam', 'AdamW']),\n",
    "\n",
    "        'warmup_epochs': 5,\n",
    "        'warmup_momentum': 0.75,\n",
    "\n",
    "        # 📐 AUGMENTACIÓN GEOMÉTRICA\n",
    "        'degrees': 45,\n",
    "        'translate': 0.1,\n",
    "        'flipud': 0.5,\n",
    "        'fliplr': 0.5,\n",
    "        'mosaic': 0,\n",
    "        'close_mosaic': 0,\n",
    "        # Interesantes: 'label_smoothing', 'mixup', 'cutmix'\n",
    "\n",
    "        # ⚖️ PÉRDIDAS\n",
    "        # 'box': trial.suggest_float('box', 0.02, 0.2),\n",
    "        # 'cls': trial.suggest_float('cls', 0.2, 4.0),\n",
    "        # 'dfl': trial.suggest_float('dfl', 0.5, 3.0),\n",
    "    }\n",
    "\n",
    "    trial_name = f\"optuna_trial_{trial.number}\"\n",
    "\n",
    "    try:\n",
    "        model = YOLO(\"yolo_models/yolo12s.pt\")\n",
    "        results = model.train(\n",
    "            data=\"cells.yaml\",\n",
    "            epochs=25,\n",
    "            imgsz=704,\n",
    "            batch=8,\n",
    "            name=trial_name,\n",
    "            save=False,\n",
    "            verbose=False,\n",
    "            **params\n",
    "        )\n",
    "        metrics = results.results_dict\n",
    "        return metrics.get('metrics/mAP50-95(B)', 0.0)\n",
    "    except Exception as e:\n",
    "        print(f\"Error en trial {trial.number}: {str(e)}\")\n",
    "        return 0.0"
   ]
  },
  {
   "cell_type": "code",
   "execution_count": 4,
   "metadata": {},
   "outputs": [
    {
     "name": "stderr",
     "output_type": "stream",
     "text": [
      "[I 2025-07-08 11:59:19,813] Using an existing study with name 'prueba5v12s' instead of creating a new one.\n"
     ]
    },
    {
     "name": "stdout",
     "output_type": "stream",
     "text": [
      "New https://pypi.org/project/ultralytics/8.3.162 available  Update with 'pip install -U ultralytics'\n",
      "Ultralytics 8.3.81  Python-3.11.11 torch-2.6.0+cu126 CUDA:0 (NVIDIA GeForce RTX 3050 Laptop GPU, 4096MiB)\n",
      "\u001b[34m\u001b[1mengine\\trainer: \u001b[0mtask=detect, mode=train, model=yolo_models/yolo12s.pt, data=cells.yaml, epochs=25, time=None, patience=100, batch=8, imgsz=704, save=False, save_period=-1, cache=False, device=None, workers=8, project=None, name=optuna_trial_36, exist_ok=False, pretrained=True, optimizer=SGD, verbose=False, seed=0, deterministic=True, single_cls=False, rect=False, cos_lr=False, close_mosaic=0, resume=False, amp=True, fraction=1.0, profile=False, freeze=None, multi_scale=False, overlap_mask=True, mask_ratio=4, dropout=0.0, val=True, split=val, save_json=False, save_hybrid=False, conf=None, iou=0.7, max_det=300, half=False, dnn=False, plots=True, source=None, vid_stride=1, stream_buffer=False, visualize=False, augment=False, agnostic_nms=False, classes=None, retina_masks=False, embed=None, show=False, save_frames=False, save_txt=False, save_conf=False, save_crop=False, show_labels=True, show_conf=True, show_boxes=True, line_width=None, format=torchscript, keras=False, optimize=False, int8=False, dynamic=False, simplify=True, opset=None, workspace=None, nms=False, lr0=0.0005611516415334506, lrf=0.00892718030435363, momentum=0.9097990912717108, weight_decay=0.00039687933304443713, warmup_epochs=5, warmup_momentum=0.75, warmup_bias_lr=0.1, box=7.5, cls=0.5, dfl=1.5, pose=12.0, kobj=1.0, nbs=64, hsv_h=0.015, hsv_s=0.7, hsv_v=0.4, degrees=45, translate=0.1, scale=0.5, shear=0.0, perspective=0.0, flipud=0.5, fliplr=0.5, bgr=0.0, mosaic=0, mixup=0.0, copy_paste=0.0, copy_paste_mode=flip, auto_augment=randaugment, erasing=0.4, crop_fraction=1.0, cfg=None, tracker=botsort.yaml, save_dir=runs\\detect\\optuna_trial_36\n",
      "Overriding model.yaml nc=80 with nc=1\n",
      "\n",
      "                   from  n    params  module                                       arguments                     \n",
      "  0                  -1  1       928  ultralytics.nn.modules.conv.Conv             [3, 32, 3, 2]                 \n",
      "  1                  -1  1     18560  ultralytics.nn.modules.conv.Conv             [32, 64, 3, 2]                \n",
      "  2                  -1  1     26080  ultralytics.nn.modules.block.C3k2            [64, 128, 1, False, 0.25]     \n",
      "  3                  -1  1    147712  ultralytics.nn.modules.conv.Conv             [128, 128, 3, 2]              \n",
      "  4                  -1  1    103360  ultralytics.nn.modules.block.C3k2            [128, 256, 1, False, 0.25]    \n",
      "  5                  -1  1    590336  ultralytics.nn.modules.conv.Conv             [256, 256, 3, 2]              \n",
      "  6                  -1  2    689408  ultralytics.nn.modules.block.A2C2f           [256, 256, 2, True, 4]        \n",
      "  7                  -1  1   1180672  ultralytics.nn.modules.conv.Conv             [256, 512, 3, 2]              \n",
      "  8                  -1  2   2689536  ultralytics.nn.modules.block.A2C2f           [512, 512, 2, True, 1]        \n",
      "  9                  -1  1         0  torch.nn.modules.upsampling.Upsample         [None, 2, 'nearest']          \n",
      " 10             [-1, 6]  1         0  ultralytics.nn.modules.conv.Concat           [1]                           \n",
      " 11                  -1  1    345856  ultralytics.nn.modules.block.A2C2f           [768, 256, 1, False, -1]      \n",
      " 12                  -1  1         0  torch.nn.modules.upsampling.Upsample         [None, 2, 'nearest']          \n",
      " 13             [-1, 4]  1         0  ultralytics.nn.modules.conv.Concat           [1]                           \n",
      " 14                  -1  1     95104  ultralytics.nn.modules.block.A2C2f           [512, 128, 1, False, -1]      \n",
      " 15                  -1  1    147712  ultralytics.nn.modules.conv.Conv             [128, 128, 3, 2]              \n",
      " 16            [-1, 11]  1         0  ultralytics.nn.modules.conv.Concat           [1]                           \n",
      " 17                  -1  1    296704  ultralytics.nn.modules.block.A2C2f           [384, 256, 1, False, -1]      \n",
      " 18                  -1  1    590336  ultralytics.nn.modules.conv.Conv             [256, 256, 3, 2]              \n",
      " 19             [-1, 8]  1         0  ultralytics.nn.modules.conv.Concat           [1]                           \n",
      " 20                  -1  1   1511424  ultralytics.nn.modules.block.C3k2            [768, 512, 1, True]           \n",
      " 21        [14, 17, 20]  1    819795  ultralytics.nn.modules.head.Detect           [1, [128, 256, 512]]          \n",
      "YOLOv12s summary: 272 layers, 9,253,523 parameters, 9,253,507 gradients, 21.5 GFLOPs\n",
      "\n",
      "Transferred 685/691 items from pretrained weights\n",
      "Freezing layer 'model.21.dfl.conv.weight'\n",
      "\u001b[34m\u001b[1mAMP: \u001b[0mrunning Automatic Mixed Precision (AMP) checks...\n",
      "\u001b[34m\u001b[1mAMP: \u001b[0mchecks passed \n"
     ]
    },
    {
     "name": "stderr",
     "output_type": "stream",
     "text": [
      "\u001b[34m\u001b[1mtrain: \u001b[0mScanning C:\\Users\\mini7\\Desktop\\Master\\Materias\\TFM\\Laura\\2025_MURIA_Aitor García Blanco\\03.Datasets\\YOLO_Datasets\\split\\train\\labels.cache... 336 images, 0 backgrounds, 0 corrupt: 100%|██████████| 336/336 [00:00<?, ?it/s]\n",
      "\u001b[34m\u001b[1mval: \u001b[0mScanning C:\\Users\\mini7\\Desktop\\Master\\Materias\\TFM\\Laura\\2025_MURIA_Aitor García Blanco\\03.Datasets\\YOLO_Datasets\\split\\val\\labels.cache... 95 images, 0 backgrounds, 0 corrupt: 100%|██████████| 95/95 [00:00<?, ?it/s]\n"
     ]
    },
    {
     "name": "stdout",
     "output_type": "stream",
     "text": [
      "Plotting labels to runs\\detect\\optuna_trial_36\\labels.jpg... \n",
      "\u001b[34m\u001b[1moptimizer:\u001b[0m SGD(lr=0.0005611516415334506, momentum=0.9097990912717108) with parameter groups 113 weight(decay=0.0), 120 weight(decay=0.00039687933304443713), 119 bias(decay=0.0)\n",
      "Image sizes 704 train, 704 val\n",
      "Using 8 dataloader workers\n",
      "Logging results to \u001b[1mruns\\detect\\optuna_trial_36\u001b[0m\n",
      "Starting training for 25 epochs...\n",
      "\n",
      "      Epoch    GPU_mem   box_loss   cls_loss   dfl_loss  Instances       Size\n"
     ]
    },
    {
     "name": "stderr",
     "output_type": "stream",
     "text": [
      "       1/25      3.86G      2.638      4.245      1.472        148        704: 100%|██████████| 42/42 [00:47<00:00,  1.14s/it]\n",
      "                 Class     Images  Instances      Box(P          R      mAP50  mAP50-95): 100%|██████████| 6/6 [00:04<00:00,  1.28it/s]"
     ]
    },
    {
     "name": "stdout",
     "output_type": "stream",
     "text": [
      "                   all         95       1347      0.263      0.192      0.121     0.0524\n"
     ]
    },
    {
     "name": "stderr",
     "output_type": "stream",
     "text": [
      "\n"
     ]
    },
    {
     "name": "stdout",
     "output_type": "stream",
     "text": [
      "\n",
      "      Epoch    GPU_mem   box_loss   cls_loss   dfl_loss  Instances       Size\n"
     ]
    },
    {
     "name": "stderr",
     "output_type": "stream",
     "text": [
      "       2/25      3.96G       2.24      2.609      1.261         95        704: 100%|██████████| 42/42 [01:06<00:00,  1.58s/it]\n",
      "                 Class     Images  Instances      Box(P          R      mAP50  mAP50-95): 100%|██████████| 6/6 [00:08<00:00,  1.48s/it]"
     ]
    },
    {
     "name": "stdout",
     "output_type": "stream",
     "text": [
      "                   all         95       1347      0.499      0.461      0.395      0.154\n"
     ]
    },
    {
     "name": "stderr",
     "output_type": "stream",
     "text": [
      "\n"
     ]
    },
    {
     "name": "stdout",
     "output_type": "stream",
     "text": [
      "\n",
      "      Epoch    GPU_mem   box_loss   cls_loss   dfl_loss  Instances       Size\n"
     ]
    },
    {
     "name": "stderr",
     "output_type": "stream",
     "text": [
      "       3/25      3.93G      1.969      2.043      1.152         22        704: 100%|██████████| 42/42 [00:51<00:00,  1.22s/it]\n",
      "                 Class     Images  Instances      Box(P          R      mAP50  mAP50-95): 100%|██████████| 6/6 [00:05<00:00,  1.08it/s]"
     ]
    },
    {
     "name": "stdout",
     "output_type": "stream",
     "text": [
      "                   all         95       1347      0.557      0.562      0.504      0.168\n"
     ]
    },
    {
     "name": "stderr",
     "output_type": "stream",
     "text": [
      "\n"
     ]
    },
    {
     "name": "stdout",
     "output_type": "stream",
     "text": [
      "\n",
      "      Epoch    GPU_mem   box_loss   cls_loss   dfl_loss  Instances       Size\n"
     ]
    },
    {
     "name": "stderr",
     "output_type": "stream",
     "text": [
      "       4/25      3.97G      1.777      1.678      1.069        122        704: 100%|██████████| 42/42 [01:09<00:00,  1.65s/it]\n",
      "                 Class     Images  Instances      Box(P          R      mAP50  mAP50-95): 100%|██████████| 6/6 [00:06<00:00,  1.00s/it]"
     ]
    },
    {
     "name": "stdout",
     "output_type": "stream",
     "text": [
      "                   all         95       1347       0.58      0.643      0.605      0.246\n"
     ]
    },
    {
     "name": "stderr",
     "output_type": "stream",
     "text": [
      "\n"
     ]
    },
    {
     "name": "stdout",
     "output_type": "stream",
     "text": [
      "\n",
      "      Epoch    GPU_mem   box_loss   cls_loss   dfl_loss  Instances       Size\n"
     ]
    },
    {
     "name": "stderr",
     "output_type": "stream",
     "text": [
      "       5/25      3.94G      1.596      1.466      1.026         51        704: 100%|██████████| 42/42 [01:09<00:00,  1.65s/it]\n",
      "                 Class     Images  Instances      Box(P          R      mAP50  mAP50-95): 100%|██████████| 6/6 [00:11<00:00,  1.85s/it]"
     ]
    },
    {
     "name": "stdout",
     "output_type": "stream",
     "text": [
      "                   all         95       1347      0.537      0.609      0.496      0.133\n"
     ]
    },
    {
     "name": "stderr",
     "output_type": "stream",
     "text": [
      "\n"
     ]
    },
    {
     "name": "stdout",
     "output_type": "stream",
     "text": [
      "\n",
      "      Epoch    GPU_mem   box_loss   cls_loss   dfl_loss  Instances       Size\n"
     ]
    },
    {
     "name": "stderr",
     "output_type": "stream",
     "text": [
      "       6/25      3.91G       1.56        1.4     0.9983         72        704: 100%|██████████| 42/42 [01:07<00:00,  1.61s/it]\n",
      "                 Class     Images  Instances      Box(P          R      mAP50  mAP50-95): 100%|██████████| 6/6 [00:06<00:00,  1.11s/it]"
     ]
    },
    {
     "name": "stdout",
     "output_type": "stream",
     "text": [
      "                   all         95       1347      0.651      0.706      0.664      0.173\n"
     ]
    },
    {
     "name": "stderr",
     "output_type": "stream",
     "text": [
      "\n"
     ]
    },
    {
     "name": "stdout",
     "output_type": "stream",
     "text": [
      "\n",
      "      Epoch    GPU_mem   box_loss   cls_loss   dfl_loss  Instances       Size\n"
     ]
    },
    {
     "name": "stderr",
     "output_type": "stream",
     "text": [
      "       7/25      3.92G      1.554       1.36      1.005        101        704: 100%|██████████| 42/42 [01:06<00:00,  1.58s/it]\n",
      "                 Class     Images  Instances      Box(P          R      mAP50  mAP50-95): 100%|██████████| 6/6 [00:05<00:00,  1.13it/s]"
     ]
    },
    {
     "name": "stdout",
     "output_type": "stream",
     "text": [
      "                   all         95       1347      0.673      0.767       0.69      0.287\n"
     ]
    },
    {
     "name": "stderr",
     "output_type": "stream",
     "text": [
      "\n"
     ]
    },
    {
     "name": "stdout",
     "output_type": "stream",
     "text": [
      "\n",
      "      Epoch    GPU_mem   box_loss   cls_loss   dfl_loss  Instances       Size\n"
     ]
    },
    {
     "name": "stderr",
     "output_type": "stream",
     "text": [
      "       8/25      3.91G      1.437      1.312     0.9755        111        704: 100%|██████████| 42/42 [01:11<00:00,  1.71s/it]\n",
      "                 Class     Images  Instances      Box(P          R      mAP50  mAP50-95): 100%|██████████| 6/6 [00:06<00:00,  1.06s/it]"
     ]
    },
    {
     "name": "stdout",
     "output_type": "stream",
     "text": [
      "                   all         95       1347      0.718      0.785      0.781      0.395\n"
     ]
    },
    {
     "name": "stderr",
     "output_type": "stream",
     "text": [
      "\n"
     ]
    },
    {
     "name": "stdout",
     "output_type": "stream",
     "text": [
      "\n",
      "      Epoch    GPU_mem   box_loss   cls_loss   dfl_loss  Instances       Size\n"
     ]
    },
    {
     "name": "stderr",
     "output_type": "stream",
     "text": [
      "       9/25      3.94G      1.378      1.198     0.9527         83        704: 100%|██████████| 42/42 [00:53<00:00,  1.27s/it]\n",
      "                 Class     Images  Instances      Box(P          R      mAP50  mAP50-95): 100%|██████████| 6/6 [00:05<00:00,  1.03it/s]"
     ]
    },
    {
     "name": "stdout",
     "output_type": "stream",
     "text": [
      "                   all         95       1347      0.743      0.785      0.775      0.334\n"
     ]
    },
    {
     "name": "stderr",
     "output_type": "stream",
     "text": [
      "\n"
     ]
    },
    {
     "name": "stdout",
     "output_type": "stream",
     "text": [
      "\n",
      "      Epoch    GPU_mem   box_loss   cls_loss   dfl_loss  Instances       Size\n"
     ]
    },
    {
     "name": "stderr",
     "output_type": "stream",
     "text": [
      "      10/25      3.96G      1.299      1.105     0.9355        101        704: 100%|██████████| 42/42 [01:08<00:00,  1.63s/it]\n",
      "                 Class     Images  Instances      Box(P          R      mAP50  mAP50-95): 100%|██████████| 6/6 [00:08<00:00,  1.50s/it]"
     ]
    },
    {
     "name": "stdout",
     "output_type": "stream",
     "text": [
      "                   all         95       1347      0.766      0.777      0.809      0.392\n"
     ]
    },
    {
     "name": "stderr",
     "output_type": "stream",
     "text": [
      "\n"
     ]
    },
    {
     "name": "stdout",
     "output_type": "stream",
     "text": [
      "\n",
      "      Epoch    GPU_mem   box_loss   cls_loss   dfl_loss  Instances       Size\n"
     ]
    },
    {
     "name": "stderr",
     "output_type": "stream",
     "text": [
      "      11/25       3.9G      1.263      1.044      0.934         90        704: 100%|██████████| 42/42 [00:56<00:00,  1.36s/it]\n",
      "                 Class     Images  Instances      Box(P          R      mAP50  mAP50-95): 100%|██████████| 6/6 [00:06<00:00,  1.13s/it]"
     ]
    },
    {
     "name": "stdout",
     "output_type": "stream",
     "text": [
      "                   all         95       1347      0.768      0.811      0.821      0.473\n"
     ]
    },
    {
     "name": "stderr",
     "output_type": "stream",
     "text": [
      "\n"
     ]
    },
    {
     "name": "stdout",
     "output_type": "stream",
     "text": [
      "\n",
      "      Epoch    GPU_mem   box_loss   cls_loss   dfl_loss  Instances       Size\n"
     ]
    },
    {
     "name": "stderr",
     "output_type": "stream",
     "text": [
      "      12/25         4G       1.24      1.022     0.9186         59        704: 100%|██████████| 42/42 [00:58<00:00,  1.40s/it]\n",
      "                 Class     Images  Instances      Box(P          R      mAP50  mAP50-95): 100%|██████████| 6/6 [00:06<00:00,  1.15s/it]"
     ]
    },
    {
     "name": "stdout",
     "output_type": "stream",
     "text": [
      "                   all         95       1347      0.762      0.784      0.829      0.542\n"
     ]
    },
    {
     "name": "stderr",
     "output_type": "stream",
     "text": [
      "\n"
     ]
    },
    {
     "name": "stdout",
     "output_type": "stream",
     "text": [
      "\n",
      "      Epoch    GPU_mem   box_loss   cls_loss   dfl_loss  Instances       Size\n"
     ]
    },
    {
     "name": "stderr",
     "output_type": "stream",
     "text": [
      "      13/25      3.97G      1.187     0.9623      0.907         79        704: 100%|██████████| 42/42 [00:55<00:00,  1.32s/it]\n",
      "                 Class     Images  Instances      Box(P          R      mAP50  mAP50-95): 100%|██████████| 6/6 [00:07<00:00,  1.25s/it]"
     ]
    },
    {
     "name": "stdout",
     "output_type": "stream",
     "text": [
      "                   all         95       1347      0.759      0.817      0.836       0.56\n"
     ]
    },
    {
     "name": "stderr",
     "output_type": "stream",
     "text": [
      "\n"
     ]
    },
    {
     "name": "stdout",
     "output_type": "stream",
     "text": [
      "\n",
      "      Epoch    GPU_mem   box_loss   cls_loss   dfl_loss  Instances       Size\n"
     ]
    },
    {
     "name": "stderr",
     "output_type": "stream",
     "text": [
      "      14/25      3.91G       1.23     0.9454     0.9082        133        704: 100%|██████████| 42/42 [01:21<00:00,  1.94s/it]\n",
      "                 Class     Images  Instances      Box(P          R      mAP50  mAP50-95): 100%|██████████| 6/6 [00:07<00:00,  1.29s/it]"
     ]
    },
    {
     "name": "stdout",
     "output_type": "stream",
     "text": [
      "                   all         95       1347      0.748       0.82      0.837      0.569\n"
     ]
    },
    {
     "name": "stderr",
     "output_type": "stream",
     "text": [
      "\n"
     ]
    },
    {
     "name": "stdout",
     "output_type": "stream",
     "text": [
      "\n",
      "      Epoch    GPU_mem   box_loss   cls_loss   dfl_loss  Instances       Size\n"
     ]
    },
    {
     "name": "stderr",
     "output_type": "stream",
     "text": [
      "      15/25      3.89G       1.18      0.926     0.9004        149        704: 100%|██████████| 42/42 [00:45<00:00,  1.08s/it]\n",
      "                 Class     Images  Instances      Box(P          R      mAP50  mAP50-95): 100%|██████████| 6/6 [00:05<00:00,  1.07it/s]"
     ]
    },
    {
     "name": "stdout",
     "output_type": "stream",
     "text": [
      "                   all         95       1347      0.766      0.825      0.858      0.585\n"
     ]
    },
    {
     "name": "stderr",
     "output_type": "stream",
     "text": [
      "\n"
     ]
    },
    {
     "name": "stdout",
     "output_type": "stream",
     "text": [
      "\n",
      "      Epoch    GPU_mem   box_loss   cls_loss   dfl_loss  Instances       Size\n"
     ]
    },
    {
     "name": "stderr",
     "output_type": "stream",
     "text": [
      "      16/25      3.96G      1.176     0.9019     0.9057         90        704: 100%|██████████| 42/42 [01:08<00:00,  1.62s/it]\n",
      "                 Class     Images  Instances      Box(P          R      mAP50  mAP50-95): 100%|██████████| 6/6 [00:09<00:00,  1.66s/it]"
     ]
    },
    {
     "name": "stdout",
     "output_type": "stream",
     "text": [
      "                   all         95       1347      0.781      0.811      0.866      0.593\n"
     ]
    },
    {
     "name": "stderr",
     "output_type": "stream",
     "text": [
      "\n"
     ]
    },
    {
     "name": "stdout",
     "output_type": "stream",
     "text": [
      "\n",
      "      Epoch    GPU_mem   box_loss   cls_loss   dfl_loss  Instances       Size\n"
     ]
    },
    {
     "name": "stderr",
     "output_type": "stream",
     "text": [
      "      17/25      3.92G       1.18     0.9207     0.9029         97        704: 100%|██████████| 42/42 [01:00<00:00,  1.45s/it]\n",
      "                 Class     Images  Instances      Box(P          R      mAP50  mAP50-95): 100%|██████████| 6/6 [00:10<00:00,  1.77s/it]"
     ]
    },
    {
     "name": "stdout",
     "output_type": "stream",
     "text": [
      "                   all         95       1347      0.781      0.826      0.869      0.598\n"
     ]
    },
    {
     "name": "stderr",
     "output_type": "stream",
     "text": [
      "\n"
     ]
    },
    {
     "name": "stdout",
     "output_type": "stream",
     "text": [
      "\n",
      "      Epoch    GPU_mem   box_loss   cls_loss   dfl_loss  Instances       Size\n"
     ]
    },
    {
     "name": "stderr",
     "output_type": "stream",
     "text": [
      "      18/25      3.92G      1.132     0.8811     0.8932        123        704: 100%|██████████| 42/42 [01:00<00:00,  1.45s/it]\n",
      "                 Class     Images  Instances      Box(P          R      mAP50  mAP50-95): 100%|██████████| 6/6 [00:07<00:00,  1.18s/it]"
     ]
    },
    {
     "name": "stdout",
     "output_type": "stream",
     "text": [
      "                   all         95       1347      0.777      0.816      0.857      0.592\n"
     ]
    },
    {
     "name": "stderr",
     "output_type": "stream",
     "text": [
      "\n"
     ]
    },
    {
     "name": "stdout",
     "output_type": "stream",
     "text": [
      "\n",
      "      Epoch    GPU_mem   box_loss   cls_loss   dfl_loss  Instances       Size\n"
     ]
    },
    {
     "name": "stderr",
     "output_type": "stream",
     "text": [
      "      19/25      3.93G      1.134     0.8537     0.8914         78        704: 100%|██████████| 42/42 [00:53<00:00,  1.27s/it]\n",
      "                 Class     Images  Instances      Box(P          R      mAP50  mAP50-95): 100%|██████████| 6/6 [00:05<00:00,  1.12it/s]"
     ]
    },
    {
     "name": "stdout",
     "output_type": "stream",
     "text": [
      "                   all         95       1347      0.782      0.808       0.85      0.561\n"
     ]
    },
    {
     "name": "stderr",
     "output_type": "stream",
     "text": [
      "\n"
     ]
    },
    {
     "name": "stdout",
     "output_type": "stream",
     "text": [
      "\n",
      "      Epoch    GPU_mem   box_loss   cls_loss   dfl_loss  Instances       Size\n"
     ]
    },
    {
     "name": "stderr",
     "output_type": "stream",
     "text": [
      "      20/25       3.9G      1.151     0.8744     0.8937         69        704: 100%|██████████| 42/42 [00:52<00:00,  1.25s/it]\n",
      "                 Class     Images  Instances      Box(P          R      mAP50  mAP50-95): 100%|██████████| 6/6 [00:05<00:00,  1.13it/s]"
     ]
    },
    {
     "name": "stdout",
     "output_type": "stream",
     "text": [
      "                   all         95       1347      0.763      0.811      0.852      0.594\n"
     ]
    },
    {
     "name": "stderr",
     "output_type": "stream",
     "text": [
      "\n"
     ]
    },
    {
     "name": "stdout",
     "output_type": "stream",
     "text": [
      "\n",
      "      Epoch    GPU_mem   box_loss   cls_loss   dfl_loss  Instances       Size\n"
     ]
    },
    {
     "name": "stderr",
     "output_type": "stream",
     "text": [
      "      21/25      3.91G      1.125     0.8764     0.8966         29        704: 100%|██████████| 42/42 [01:04<00:00,  1.54s/it]\n",
      "                 Class     Images  Instances      Box(P          R      mAP50  mAP50-95): 100%|██████████| 6/6 [00:04<00:00,  1.25it/s]"
     ]
    },
    {
     "name": "stdout",
     "output_type": "stream",
     "text": [
      "                   all         95       1347      0.774      0.834      0.866      0.603\n"
     ]
    },
    {
     "name": "stderr",
     "output_type": "stream",
     "text": [
      "\n"
     ]
    },
    {
     "name": "stdout",
     "output_type": "stream",
     "text": [
      "\n",
      "      Epoch    GPU_mem   box_loss   cls_loss   dfl_loss  Instances       Size\n"
     ]
    },
    {
     "name": "stderr",
     "output_type": "stream",
     "text": [
      "      22/25      4.02G       1.13     0.8764     0.8908        111        704: 100%|██████████| 42/42 [01:08<00:00,  1.64s/it]\n",
      "                 Class     Images  Instances      Box(P          R      mAP50  mAP50-95): 100%|██████████| 6/6 [00:07<00:00,  1.17s/it]"
     ]
    },
    {
     "name": "stdout",
     "output_type": "stream",
     "text": [
      "                   all         95       1347      0.788      0.817      0.872       0.61\n"
     ]
    },
    {
     "name": "stderr",
     "output_type": "stream",
     "text": [
      "\n"
     ]
    },
    {
     "name": "stdout",
     "output_type": "stream",
     "text": [
      "\n",
      "      Epoch    GPU_mem   box_loss   cls_loss   dfl_loss  Instances       Size\n"
     ]
    },
    {
     "name": "stderr",
     "output_type": "stream",
     "text": [
      "      23/25      3.91G       1.09     0.8396     0.8773         83        704: 100%|██████████| 42/42 [01:20<00:00,  1.92s/it]\n",
      "                 Class     Images  Instances      Box(P          R      mAP50  mAP50-95): 100%|██████████| 6/6 [00:06<00:00,  1.02s/it]"
     ]
    },
    {
     "name": "stdout",
     "output_type": "stream",
     "text": [
      "                   all         95       1347       0.78      0.819      0.866       0.61\n"
     ]
    },
    {
     "name": "stderr",
     "output_type": "stream",
     "text": [
      "\n"
     ]
    },
    {
     "name": "stdout",
     "output_type": "stream",
     "text": [
      "\n",
      "      Epoch    GPU_mem   box_loss   cls_loss   dfl_loss  Instances       Size\n"
     ]
    },
    {
     "name": "stderr",
     "output_type": "stream",
     "text": [
      "      24/25      3.97G      1.111     0.8251     0.8925        112        704: 100%|██████████| 42/42 [01:04<00:00,  1.52s/it]\n",
      "                 Class     Images  Instances      Box(P          R      mAP50  mAP50-95): 100%|██████████| 6/6 [00:05<00:00,  1.00it/s]"
     ]
    },
    {
     "name": "stdout",
     "output_type": "stream",
     "text": [
      "                   all         95       1347      0.789      0.809      0.865      0.614\n"
     ]
    },
    {
     "name": "stderr",
     "output_type": "stream",
     "text": [
      "\n"
     ]
    },
    {
     "name": "stdout",
     "output_type": "stream",
     "text": [
      "\n",
      "      Epoch    GPU_mem   box_loss   cls_loss   dfl_loss  Instances       Size\n"
     ]
    },
    {
     "name": "stderr",
     "output_type": "stream",
     "text": [
      "      25/25      3.96G      1.076     0.8228     0.8799         72        704: 100%|██████████| 42/42 [01:10<00:00,  1.68s/it]\n",
      "                 Class     Images  Instances      Box(P          R      mAP50  mAP50-95): 100%|██████████| 6/6 [00:05<00:00,  1.19it/s]"
     ]
    },
    {
     "name": "stdout",
     "output_type": "stream",
     "text": [
      "                   all         95       1347      0.796      0.802      0.867      0.615\n"
     ]
    },
    {
     "name": "stderr",
     "output_type": "stream",
     "text": [
      "\n"
     ]
    },
    {
     "name": "stdout",
     "output_type": "stream",
     "text": [
      "\n",
      "25 epochs completed in 0.487 hours.\n",
      "Optimizer stripped from runs\\detect\\optuna_trial_36\\weights\\last.pt, 18.9MB\n",
      "Optimizer stripped from runs\\detect\\optuna_trial_36\\weights\\best.pt, 18.9MB\n",
      "\n",
      "Validating runs\\detect\\optuna_trial_36\\weights\\best.pt...\n",
      "Ultralytics 8.3.81  Python-3.11.11 torch-2.6.0+cu126 CUDA:0 (NVIDIA GeForce RTX 3050 Laptop GPU, 4096MiB)\n",
      "YOLOv12s summary (fused): 159 layers, 9,231,267 parameters, 0 gradients, 21.2 GFLOPs\n"
     ]
    },
    {
     "name": "stderr",
     "output_type": "stream",
     "text": [
      "                 Class     Images  Instances      Box(P          R      mAP50  mAP50-95): 100%|██████████| 6/6 [00:02<00:00,  2.02it/s]\n"
     ]
    },
    {
     "name": "stdout",
     "output_type": "stream",
     "text": [
      "                   all         95       1347      0.798      0.803      0.867      0.615\n",
      "Speed: 0.4ms preprocess, 16.9ms inference, 0.0ms loss, 3.6ms postprocess per image\n",
      "Results saved to \u001b[1mruns\\detect\\optuna_trial_36\u001b[0m\n"
     ]
    },
    {
     "name": "stderr",
     "output_type": "stream",
     "text": [
      "[I 2025-07-08 12:29:57,014] Trial 3 finished with value: 0.6148968426999508 and parameters: {'lr0': 0.0005611516415334506, 'lrf': 0.00892718030435363, 'momentum': 0.9097990912717108, 'weight_decay': 0.00039687933304443713, 'optimizer': 'SGD'}. Best is trial 3 with value: 0.6148968426999508.\n"
     ]
    },
    {
     "name": "stdout",
     "output_type": "stream",
     "text": [
      "New https://pypi.org/project/ultralytics/8.3.162 available  Update with 'pip install -U ultralytics'\n",
      "Ultralytics 8.3.81  Python-3.11.11 torch-2.6.0+cu126 CUDA:0 (NVIDIA GeForce RTX 3050 Laptop GPU, 4096MiB)\n",
      "\u001b[34m\u001b[1mengine\\trainer: \u001b[0mtask=detect, mode=train, model=yolo_models/yolo12s.pt, data=cells.yaml, epochs=25, time=None, patience=100, batch=8, imgsz=704, save=False, save_period=-1, cache=False, device=None, workers=8, project=None, name=optuna_trial_46, exist_ok=False, pretrained=True, optimizer=SGD, verbose=False, seed=0, deterministic=True, single_cls=False, rect=False, cos_lr=False, close_mosaic=0, resume=False, amp=True, fraction=1.0, profile=False, freeze=None, multi_scale=False, overlap_mask=True, mask_ratio=4, dropout=0.0, val=True, split=val, save_json=False, save_hybrid=False, conf=None, iou=0.7, max_det=300, half=False, dnn=False, plots=True, source=None, vid_stride=1, stream_buffer=False, visualize=False, augment=False, agnostic_nms=False, classes=None, retina_masks=False, embed=None, show=False, save_frames=False, save_txt=False, save_conf=False, save_crop=False, show_labels=True, show_conf=True, show_boxes=True, line_width=None, format=torchscript, keras=False, optimize=False, int8=False, dynamic=False, simplify=True, opset=None, workspace=None, nms=False, lr0=0.005399484409787433, lrf=0.003991305878561679, momentum=0.9062108866694067, weight_decay=0.00010485387725194633, warmup_epochs=5, warmup_momentum=0.75, warmup_bias_lr=0.1, box=7.5, cls=0.5, dfl=1.5, pose=12.0, kobj=1.0, nbs=64, hsv_h=0.015, hsv_s=0.7, hsv_v=0.4, degrees=45, translate=0.1, scale=0.5, shear=0.0, perspective=0.0, flipud=0.5, fliplr=0.5, bgr=0.0, mosaic=0, mixup=0.0, copy_paste=0.0, copy_paste_mode=flip, auto_augment=randaugment, erasing=0.4, crop_fraction=1.0, cfg=None, tracker=botsort.yaml, save_dir=runs\\detect\\optuna_trial_46\n",
      "Overriding model.yaml nc=80 with nc=1\n",
      "\n",
      "                   from  n    params  module                                       arguments                     \n",
      "  0                  -1  1       928  ultralytics.nn.modules.conv.Conv             [3, 32, 3, 2]                 \n",
      "  1                  -1  1     18560  ultralytics.nn.modules.conv.Conv             [32, 64, 3, 2]                \n",
      "  2                  -1  1     26080  ultralytics.nn.modules.block.C3k2            [64, 128, 1, False, 0.25]     \n",
      "  3                  -1  1    147712  ultralytics.nn.modules.conv.Conv             [128, 128, 3, 2]              \n",
      "  4                  -1  1    103360  ultralytics.nn.modules.block.C3k2            [128, 256, 1, False, 0.25]    \n",
      "  5                  -1  1    590336  ultralytics.nn.modules.conv.Conv             [256, 256, 3, 2]              \n",
      "  6                  -1  2    689408  ultralytics.nn.modules.block.A2C2f           [256, 256, 2, True, 4]        \n",
      "  7                  -1  1   1180672  ultralytics.nn.modules.conv.Conv             [256, 512, 3, 2]              \n",
      "  8                  -1  2   2689536  ultralytics.nn.modules.block.A2C2f           [512, 512, 2, True, 1]        \n",
      "  9                  -1  1         0  torch.nn.modules.upsampling.Upsample         [None, 2, 'nearest']          \n",
      " 10             [-1, 6]  1         0  ultralytics.nn.modules.conv.Concat           [1]                           \n",
      " 11                  -1  1    345856  ultralytics.nn.modules.block.A2C2f           [768, 256, 1, False, -1]      \n",
      " 12                  -1  1         0  torch.nn.modules.upsampling.Upsample         [None, 2, 'nearest']          \n",
      " 13             [-1, 4]  1         0  ultralytics.nn.modules.conv.Concat           [1]                           \n",
      " 14                  -1  1     95104  ultralytics.nn.modules.block.A2C2f           [512, 128, 1, False, -1]      \n",
      " 15                  -1  1    147712  ultralytics.nn.modules.conv.Conv             [128, 128, 3, 2]              \n",
      " 16            [-1, 11]  1         0  ultralytics.nn.modules.conv.Concat           [1]                           \n",
      " 17                  -1  1    296704  ultralytics.nn.modules.block.A2C2f           [384, 256, 1, False, -1]      \n",
      " 18                  -1  1    590336  ultralytics.nn.modules.conv.Conv             [256, 256, 3, 2]              \n",
      " 19             [-1, 8]  1         0  ultralytics.nn.modules.conv.Concat           [1]                           \n",
      " 20                  -1  1   1511424  ultralytics.nn.modules.block.C3k2            [768, 512, 1, True]           \n",
      " 21        [14, 17, 20]  1    819795  ultralytics.nn.modules.head.Detect           [1, [128, 256, 512]]          \n",
      "YOLOv12s summary: 272 layers, 9,253,523 parameters, 9,253,507 gradients, 21.5 GFLOPs\n",
      "\n",
      "Transferred 685/691 items from pretrained weights\n",
      "Freezing layer 'model.21.dfl.conv.weight'\n",
      "\u001b[34m\u001b[1mAMP: \u001b[0mrunning Automatic Mixed Precision (AMP) checks...\n",
      "\u001b[34m\u001b[1mAMP: \u001b[0mchecks passed \n"
     ]
    },
    {
     "name": "stderr",
     "output_type": "stream",
     "text": [
      "\u001b[34m\u001b[1mtrain: \u001b[0mScanning C:\\Users\\mini7\\Desktop\\Master\\Materias\\TFM\\Laura\\2025_MURIA_Aitor García Blanco\\03.Datasets\\YOLO_Datasets\\split\\train\\labels.cache... 336 images, 0 backgrounds, 0 corrupt: 100%|██████████| 336/336 [00:00<?, ?it/s]\n",
      "\u001b[34m\u001b[1mval: \u001b[0mScanning C:\\Users\\mini7\\Desktop\\Master\\Materias\\TFM\\Laura\\2025_MURIA_Aitor García Blanco\\03.Datasets\\YOLO_Datasets\\split\\val\\labels.cache... 95 images, 0 backgrounds, 0 corrupt: 100%|██████████| 95/95 [00:00<?, ?it/s]\n"
     ]
    },
    {
     "name": "stdout",
     "output_type": "stream",
     "text": [
      "Plotting labels to runs\\detect\\optuna_trial_46\\labels.jpg... \n",
      "\u001b[34m\u001b[1moptimizer:\u001b[0m SGD(lr=0.005399484409787433, momentum=0.9062108866694067) with parameter groups 113 weight(decay=0.0), 120 weight(decay=0.00010485387725194633), 119 bias(decay=0.0)\n",
      "Image sizes 704 train, 704 val\n",
      "Using 8 dataloader workers\n",
      "Logging results to \u001b[1mruns\\detect\\optuna_trial_46\u001b[0m\n",
      "Starting training for 25 epochs...\n",
      "\n",
      "      Epoch    GPU_mem   box_loss   cls_loss   dfl_loss  Instances       Size\n"
     ]
    },
    {
     "name": "stderr",
     "output_type": "stream",
     "text": [
      "       1/25       3.9G      2.351      3.363      1.346        148        704: 100%|██████████| 42/42 [00:57<00:00,  1.37s/it]\n",
      "                 Class     Images  Instances      Box(P          R      mAP50  mAP50-95): 100%|██████████| 6/6 [00:06<00:00,  1.10s/it]"
     ]
    },
    {
     "name": "stdout",
     "output_type": "stream",
     "text": [
      "                   all         95       1347      0.268      0.307      0.131     0.0302\n"
     ]
    },
    {
     "name": "stderr",
     "output_type": "stream",
     "text": [
      "\n"
     ]
    },
    {
     "name": "stdout",
     "output_type": "stream",
     "text": [
      "\n",
      "      Epoch    GPU_mem   box_loss   cls_loss   dfl_loss  Instances       Size\n"
     ]
    },
    {
     "name": "stderr",
     "output_type": "stream",
     "text": [
      "       2/25      3.95G      1.693      1.757      1.051         95        704: 100%|██████████| 42/42 [01:05<00:00,  1.55s/it]\n",
      "                 Class     Images  Instances      Box(P          R      mAP50  mAP50-95): 100%|██████████| 6/6 [00:05<00:00,  1.03it/s]"
     ]
    },
    {
     "name": "stdout",
     "output_type": "stream",
     "text": [
      "                   all         95       1347       0.78      0.226      0.452      0.235\n"
     ]
    },
    {
     "name": "stderr",
     "output_type": "stream",
     "text": [
      "\n"
     ]
    },
    {
     "name": "stdout",
     "output_type": "stream",
     "text": [
      "\n",
      "      Epoch    GPU_mem   box_loss   cls_loss   dfl_loss  Instances       Size\n"
     ]
    },
    {
     "name": "stderr",
     "output_type": "stream",
     "text": [
      "       3/25      3.92G      1.488      1.692     0.9822         22        704: 100%|██████████| 42/42 [01:04<00:00,  1.54s/it]\n",
      "                 Class     Images  Instances      Box(P          R      mAP50  mAP50-95): 100%|██████████| 6/6 [00:05<00:00,  1.16it/s]"
     ]
    },
    {
     "name": "stdout",
     "output_type": "stream",
     "text": [
      "                   all         95       1347      0.331      0.565       0.28      0.055\n"
     ]
    },
    {
     "name": "stderr",
     "output_type": "stream",
     "text": [
      "\n"
     ]
    },
    {
     "name": "stdout",
     "output_type": "stream",
     "text": [
      "\n",
      "      Epoch    GPU_mem   box_loss   cls_loss   dfl_loss  Instances       Size\n"
     ]
    },
    {
     "name": "stderr",
     "output_type": "stream",
     "text": [
      "       4/25      3.96G      1.527      1.526     0.9689        122        704: 100%|██████████| 42/42 [01:25<00:00,  2.03s/it]\n",
      "                 Class     Images  Instances      Box(P          R      mAP50  mAP50-95): 100%|██████████| 6/6 [00:03<00:00,  1.50it/s]"
     ]
    },
    {
     "name": "stdout",
     "output_type": "stream",
     "text": [
      "                   all         95       1347      0.692      0.713      0.729      0.383\n"
     ]
    },
    {
     "name": "stderr",
     "output_type": "stream",
     "text": [
      "\n"
     ]
    },
    {
     "name": "stdout",
     "output_type": "stream",
     "text": [
      "\n",
      "      Epoch    GPU_mem   box_loss   cls_loss   dfl_loss  Instances       Size\n"
     ]
    },
    {
     "name": "stderr",
     "output_type": "stream",
     "text": [
      "       5/25      3.95G      1.453      1.547     0.9609         51        704: 100%|██████████| 42/42 [01:10<00:00,  1.68s/it]\n",
      "                 Class     Images  Instances      Box(P          R      mAP50  mAP50-95): 100%|██████████| 6/6 [00:06<00:00,  1.04s/it]"
     ]
    },
    {
     "name": "stdout",
     "output_type": "stream",
     "text": [
      "                   all         95       1347      0.662      0.731      0.662      0.159\n"
     ]
    },
    {
     "name": "stderr",
     "output_type": "stream",
     "text": [
      "\n"
     ]
    },
    {
     "name": "stdout",
     "output_type": "stream",
     "text": [
      "\n",
      "      Epoch    GPU_mem   box_loss   cls_loss   dfl_loss  Instances       Size\n"
     ]
    },
    {
     "name": "stderr",
     "output_type": "stream",
     "text": [
      "       6/25      3.94G      1.479      1.386     0.9535         72        704: 100%|██████████| 42/42 [01:03<00:00,  1.52s/it]\n",
      "                 Class     Images  Instances      Box(P          R      mAP50  mAP50-95): 100%|██████████| 6/6 [00:04<00:00,  1.22it/s]"
     ]
    },
    {
     "name": "stdout",
     "output_type": "stream",
     "text": [
      "                   all         95       1347      0.809      0.717      0.822      0.394\n"
     ]
    },
    {
     "name": "stderr",
     "output_type": "stream",
     "text": [
      "\n"
     ]
    },
    {
     "name": "stdout",
     "output_type": "stream",
     "text": [
      "\n",
      "      Epoch    GPU_mem   box_loss   cls_loss   dfl_loss  Instances       Size\n"
     ]
    },
    {
     "name": "stderr",
     "output_type": "stream",
     "text": [
      "       7/25      3.93G      1.527       1.25     0.9582        101        704: 100%|██████████| 42/42 [01:12<00:00,  1.73s/it]\n",
      "                 Class     Images  Instances      Box(P          R      mAP50  mAP50-95): 100%|██████████| 6/6 [00:05<00:00,  1.15it/s]"
     ]
    },
    {
     "name": "stdout",
     "output_type": "stream",
     "text": [
      "                   all         95       1347      0.752      0.692      0.766      0.371\n"
     ]
    },
    {
     "name": "stderr",
     "output_type": "stream",
     "text": [
      "\n"
     ]
    },
    {
     "name": "stdout",
     "output_type": "stream",
     "text": [
      "\n",
      "      Epoch    GPU_mem   box_loss   cls_loss   dfl_loss  Instances       Size\n"
     ]
    },
    {
     "name": "stderr",
     "output_type": "stream",
     "text": [
      "       8/25      3.91G      1.405      1.123     0.9362        111        704: 100%|██████████| 42/42 [01:01<00:00,  1.45s/it]\n",
      "                 Class     Images  Instances      Box(P          R      mAP50  mAP50-95): 100%|██████████| 6/6 [00:05<00:00,  1.01it/s]"
     ]
    },
    {
     "name": "stdout",
     "output_type": "stream",
     "text": [
      "                   all         95       1347      0.826      0.702      0.834      0.484\n"
     ]
    },
    {
     "name": "stderr",
     "output_type": "stream",
     "text": [
      "\n"
     ]
    },
    {
     "name": "stdout",
     "output_type": "stream",
     "text": [
      "\n",
      "      Epoch    GPU_mem   box_loss   cls_loss   dfl_loss  Instances       Size\n"
     ]
    },
    {
     "name": "stderr",
     "output_type": "stream",
     "text": [
      "       9/25      3.94G      1.344      1.127     0.9263         83        704: 100%|██████████| 42/42 [01:15<00:00,  1.80s/it]\n",
      "                 Class     Images  Instances      Box(P          R      mAP50  mAP50-95): 100%|██████████| 6/6 [00:05<00:00,  1.13it/s]"
     ]
    },
    {
     "name": "stdout",
     "output_type": "stream",
     "text": [
      "                   all         95       1347      0.777      0.817       0.83       0.37\n"
     ]
    },
    {
     "name": "stderr",
     "output_type": "stream",
     "text": [
      "\n"
     ]
    },
    {
     "name": "stdout",
     "output_type": "stream",
     "text": [
      "\n",
      "      Epoch    GPU_mem   box_loss   cls_loss   dfl_loss  Instances       Size\n"
     ]
    },
    {
     "name": "stderr",
     "output_type": "stream",
     "text": [
      "      10/25      3.98G      1.227      1.093     0.9025        101        704: 100%|██████████| 42/42 [01:10<00:00,  1.68s/it]\n",
      "                 Class     Images  Instances      Box(P          R      mAP50  mAP50-95): 100%|██████████| 6/6 [00:04<00:00,  1.41it/s]"
     ]
    },
    {
     "name": "stdout",
     "output_type": "stream",
     "text": [
      "                   all         95       1347       0.76      0.814      0.799      0.518\n"
     ]
    },
    {
     "name": "stderr",
     "output_type": "stream",
     "text": [
      "\n"
     ]
    },
    {
     "name": "stdout",
     "output_type": "stream",
     "text": [
      "\n",
      "      Epoch    GPU_mem   box_loss   cls_loss   dfl_loss  Instances       Size\n"
     ]
    },
    {
     "name": "stderr",
     "output_type": "stream",
     "text": [
      "      11/25       3.9G      1.241     0.9883       0.91         90        704: 100%|██████████| 42/42 [00:52<00:00,  1.24s/it]\n",
      "                 Class     Images  Instances      Box(P          R      mAP50  mAP50-95): 100%|██████████| 6/6 [00:03<00:00,  1.60it/s]"
     ]
    },
    {
     "name": "stdout",
     "output_type": "stream",
     "text": [
      "                   all         95       1347      0.777      0.846       0.85      0.373\n"
     ]
    },
    {
     "name": "stderr",
     "output_type": "stream",
     "text": [
      "\n"
     ]
    },
    {
     "name": "stdout",
     "output_type": "stream",
     "text": [
      "\n",
      "      Epoch    GPU_mem   box_loss   cls_loss   dfl_loss  Instances       Size\n"
     ]
    },
    {
     "name": "stderr",
     "output_type": "stream",
     "text": [
      "      12/25         4G       1.22     0.9935     0.8968         59        704: 100%|██████████| 42/42 [01:06<00:00,  1.59s/it]\n",
      "                 Class     Images  Instances      Box(P          R      mAP50  mAP50-95): 100%|██████████| 6/6 [00:04<00:00,  1.26it/s]"
     ]
    },
    {
     "name": "stdout",
     "output_type": "stream",
     "text": [
      "                   all         95       1347      0.777      0.837      0.858      0.555\n"
     ]
    },
    {
     "name": "stderr",
     "output_type": "stream",
     "text": [
      "\n"
     ]
    },
    {
     "name": "stdout",
     "output_type": "stream",
     "text": [
      "\n",
      "      Epoch    GPU_mem   box_loss   cls_loss   dfl_loss  Instances       Size\n"
     ]
    },
    {
     "name": "stderr",
     "output_type": "stream",
     "text": [
      "      13/25      3.97G      1.123     0.8964     0.8833         79        704: 100%|██████████| 42/42 [00:59<00:00,  1.41s/it]\n",
      "                 Class     Images  Instances      Box(P          R      mAP50  mAP50-95): 100%|██████████| 6/6 [00:06<00:00,  1.14s/it]"
     ]
    },
    {
     "name": "stdout",
     "output_type": "stream",
     "text": [
      "                   all         95       1347      0.798      0.835      0.874      0.613\n"
     ]
    },
    {
     "name": "stderr",
     "output_type": "stream",
     "text": [
      "\n"
     ]
    },
    {
     "name": "stdout",
     "output_type": "stream",
     "text": [
      "\n",
      "      Epoch    GPU_mem   box_loss   cls_loss   dfl_loss  Instances       Size\n"
     ]
    },
    {
     "name": "stderr",
     "output_type": "stream",
     "text": [
      "      14/25      3.92G      1.239     0.9073     0.9004        133        704: 100%|██████████| 42/42 [01:01<00:00,  1.47s/it]\n",
      "                 Class     Images  Instances      Box(P          R      mAP50  mAP50-95): 100%|██████████| 6/6 [00:06<00:00,  1.14s/it]"
     ]
    },
    {
     "name": "stdout",
     "output_type": "stream",
     "text": [
      "                   all         95       1347      0.791      0.839      0.871      0.593\n"
     ]
    },
    {
     "name": "stderr",
     "output_type": "stream",
     "text": [
      "\n"
     ]
    },
    {
     "name": "stdout",
     "output_type": "stream",
     "text": [
      "\n",
      "      Epoch    GPU_mem   box_loss   cls_loss   dfl_loss  Instances       Size\n"
     ]
    },
    {
     "name": "stderr",
     "output_type": "stream",
     "text": [
      "      15/25      3.89G      1.095     0.8377      0.878        149        704: 100%|██████████| 42/42 [00:52<00:00,  1.24s/it]\n",
      "                 Class     Images  Instances      Box(P          R      mAP50  mAP50-95): 100%|██████████| 6/6 [00:05<00:00,  1.03it/s]"
     ]
    },
    {
     "name": "stdout",
     "output_type": "stream",
     "text": [
      "                   all         95       1347      0.792      0.829      0.873      0.504\n"
     ]
    },
    {
     "name": "stderr",
     "output_type": "stream",
     "text": [
      "\n"
     ]
    },
    {
     "name": "stdout",
     "output_type": "stream",
     "text": [
      "\n",
      "      Epoch    GPU_mem   box_loss   cls_loss   dfl_loss  Instances       Size\n"
     ]
    },
    {
     "name": "stderr",
     "output_type": "stream",
     "text": [
      "      16/25      3.96G      1.106     0.8171     0.8829         90        704: 100%|██████████| 42/42 [00:57<00:00,  1.36s/it]\n",
      "                 Class     Images  Instances      Box(P          R      mAP50  mAP50-95): 100%|██████████| 6/6 [00:07<00:00,  1.25s/it]"
     ]
    },
    {
     "name": "stdout",
     "output_type": "stream",
     "text": [
      "                   all         95       1347      0.818      0.819      0.874      0.618\n"
     ]
    },
    {
     "name": "stderr",
     "output_type": "stream",
     "text": [
      "\n"
     ]
    },
    {
     "name": "stdout",
     "output_type": "stream",
     "text": [
      "\n",
      "      Epoch    GPU_mem   box_loss   cls_loss   dfl_loss  Instances       Size\n"
     ]
    },
    {
     "name": "stderr",
     "output_type": "stream",
     "text": [
      "      17/25      3.92G      1.147     0.8261     0.8844         97        704: 100%|██████████| 42/42 [00:38<00:00,  1.10it/s]\n",
      "                 Class     Images  Instances      Box(P          R      mAP50  mAP50-95): 100%|██████████| 6/6 [00:08<00:00,  1.35s/it]"
     ]
    },
    {
     "name": "stdout",
     "output_type": "stream",
     "text": [
      "                   all         95       1347      0.821      0.819      0.881      0.577\n"
     ]
    },
    {
     "name": "stderr",
     "output_type": "stream",
     "text": [
      "\n"
     ]
    },
    {
     "name": "stdout",
     "output_type": "stream",
     "text": [
      "\n",
      "      Epoch    GPU_mem   box_loss   cls_loss   dfl_loss  Instances       Size\n"
     ]
    },
    {
     "name": "stderr",
     "output_type": "stream",
     "text": [
      "      18/25      3.91G      1.031     0.7768     0.8692        123        704: 100%|██████████| 42/42 [00:53<00:00,  1.28s/it]\n",
      "                 Class     Images  Instances      Box(P          R      mAP50  mAP50-95): 100%|██████████| 6/6 [00:04<00:00,  1.24it/s]"
     ]
    },
    {
     "name": "stdout",
     "output_type": "stream",
     "text": [
      "                   all         95       1347       0.79      0.846      0.884        0.6\n"
     ]
    },
    {
     "name": "stderr",
     "output_type": "stream",
     "text": [
      "\n"
     ]
    },
    {
     "name": "stdout",
     "output_type": "stream",
     "text": [
      "\n",
      "      Epoch    GPU_mem   box_loss   cls_loss   dfl_loss  Instances       Size\n"
     ]
    },
    {
     "name": "stderr",
     "output_type": "stream",
     "text": [
      "      19/25      3.92G     0.9974     0.7434     0.8611         78        704: 100%|██████████| 42/42 [01:02<00:00,  1.50s/it]\n",
      "                 Class     Images  Instances      Box(P          R      mAP50  mAP50-95): 100%|██████████| 6/6 [00:04<00:00,  1.35it/s]"
     ]
    },
    {
     "name": "stdout",
     "output_type": "stream",
     "text": [
      "                   all         95       1347      0.797      0.855      0.889      0.643\n"
     ]
    },
    {
     "name": "stderr",
     "output_type": "stream",
     "text": [
      "\n"
     ]
    },
    {
     "name": "stdout",
     "output_type": "stream",
     "text": [
      "\n",
      "      Epoch    GPU_mem   box_loss   cls_loss   dfl_loss  Instances       Size\n"
     ]
    },
    {
     "name": "stderr",
     "output_type": "stream",
     "text": [
      "      20/25       3.9G      1.012     0.7479     0.8611         69        704: 100%|██████████| 42/42 [01:02<00:00,  1.50s/it]\n",
      "                 Class     Images  Instances      Box(P          R      mAP50  mAP50-95): 100%|██████████| 6/6 [00:03<00:00,  1.56it/s]"
     ]
    },
    {
     "name": "stdout",
     "output_type": "stream",
     "text": [
      "                   all         95       1347      0.818      0.839       0.89      0.641\n"
     ]
    },
    {
     "name": "stderr",
     "output_type": "stream",
     "text": [
      "\n"
     ]
    },
    {
     "name": "stdout",
     "output_type": "stream",
     "text": [
      "\n",
      "      Epoch    GPU_mem   box_loss   cls_loss   dfl_loss  Instances       Size\n"
     ]
    },
    {
     "name": "stderr",
     "output_type": "stream",
     "text": [
      "      21/25       3.9G     0.9634     0.7384     0.8617         29        704: 100%|██████████| 42/42 [00:50<00:00,  1.21s/it]\n",
      "                 Class     Images  Instances      Box(P          R      mAP50  mAP50-95): 100%|██████████| 6/6 [00:04<00:00,  1.27it/s]"
     ]
    },
    {
     "name": "stdout",
     "output_type": "stream",
     "text": [
      "                   all         95       1347      0.816      0.849      0.899      0.648\n"
     ]
    },
    {
     "name": "stderr",
     "output_type": "stream",
     "text": [
      "\n"
     ]
    },
    {
     "name": "stdout",
     "output_type": "stream",
     "text": [
      "\n",
      "      Epoch    GPU_mem   box_loss   cls_loss   dfl_loss  Instances       Size\n"
     ]
    },
    {
     "name": "stderr",
     "output_type": "stream",
     "text": [
      "      22/25         4G       1.02     0.7379     0.8671        111        704: 100%|██████████| 42/42 [01:19<00:00,  1.90s/it]\n",
      "                 Class     Images  Instances      Box(P          R      mAP50  mAP50-95): 100%|██████████| 6/6 [00:04<00:00,  1.38it/s]"
     ]
    },
    {
     "name": "stdout",
     "output_type": "stream",
     "text": [
      "                   all         95       1347      0.812      0.863        0.9       0.66\n"
     ]
    },
    {
     "name": "stderr",
     "output_type": "stream",
     "text": [
      "\n"
     ]
    },
    {
     "name": "stdout",
     "output_type": "stream",
     "text": [
      "\n",
      "      Epoch    GPU_mem   box_loss   cls_loss   dfl_loss  Instances       Size\n"
     ]
    },
    {
     "name": "stderr",
     "output_type": "stream",
     "text": [
      "      23/25      3.92G     0.9326     0.7142     0.8424         83        704: 100%|██████████| 42/42 [00:59<00:00,  1.42s/it]\n",
      "                 Class     Images  Instances      Box(P          R      mAP50  mAP50-95): 100%|██████████| 6/6 [00:05<00:00,  1.13it/s]"
     ]
    },
    {
     "name": "stdout",
     "output_type": "stream",
     "text": [
      "                   all         95       1347      0.804      0.866      0.899      0.651\n"
     ]
    },
    {
     "name": "stderr",
     "output_type": "stream",
     "text": [
      "\n"
     ]
    },
    {
     "name": "stdout",
     "output_type": "stream",
     "text": [
      "\n",
      "      Epoch    GPU_mem   box_loss   cls_loss   dfl_loss  Instances       Size\n"
     ]
    },
    {
     "name": "stderr",
     "output_type": "stream",
     "text": [
      "      24/25      3.97G     0.9613     0.6798     0.8614        112        704: 100%|██████████| 42/42 [00:46<00:00,  1.11s/it]\n",
      "                 Class     Images  Instances      Box(P          R      mAP50  mAP50-95): 100%|██████████| 6/6 [00:07<00:00,  1.29s/it]"
     ]
    },
    {
     "name": "stdout",
     "output_type": "stream",
     "text": [
      "                   all         95       1347       0.81      0.866        0.9      0.672\n"
     ]
    },
    {
     "name": "stderr",
     "output_type": "stream",
     "text": [
      "\n"
     ]
    },
    {
     "name": "stdout",
     "output_type": "stream",
     "text": [
      "\n",
      "      Epoch    GPU_mem   box_loss   cls_loss   dfl_loss  Instances       Size\n"
     ]
    },
    {
     "name": "stderr",
     "output_type": "stream",
     "text": [
      "      25/25      3.94G     0.9119     0.6747     0.8467         72        704: 100%|██████████| 42/42 [00:57<00:00,  1.37s/it]\n",
      "                 Class     Images  Instances      Box(P          R      mAP50  mAP50-95): 100%|██████████| 6/6 [00:05<00:00,  1.14it/s]"
     ]
    },
    {
     "name": "stdout",
     "output_type": "stream",
     "text": [
      "                   all         95       1347       0.81      0.869      0.902      0.677\n"
     ]
    },
    {
     "name": "stderr",
     "output_type": "stream",
     "text": [
      "\n"
     ]
    },
    {
     "name": "stdout",
     "output_type": "stream",
     "text": [
      "\n",
      "25 epochs completed in 0.471 hours.\n",
      "Optimizer stripped from runs\\detect\\optuna_trial_46\\weights\\last.pt, 18.9MB\n",
      "Optimizer stripped from runs\\detect\\optuna_trial_46\\weights\\best.pt, 18.9MB\n",
      "\n",
      "Validating runs\\detect\\optuna_trial_46\\weights\\best.pt...\n",
      "Ultralytics 8.3.81  Python-3.11.11 torch-2.6.0+cu126 CUDA:0 (NVIDIA GeForce RTX 3050 Laptop GPU, 4096MiB)\n",
      "YOLOv12s summary (fused): 159 layers, 9,231,267 parameters, 0 gradients, 21.2 GFLOPs\n"
     ]
    },
    {
     "name": "stderr",
     "output_type": "stream",
     "text": [
      "                 Class     Images  Instances      Box(P          R      mAP50  mAP50-95): 100%|██████████| 6/6 [00:02<00:00,  2.07it/s]\n"
     ]
    },
    {
     "name": "stdout",
     "output_type": "stream",
     "text": [
      "                   all         95       1347       0.81      0.869      0.902      0.677\n",
      "Speed: 0.5ms preprocess, 16.1ms inference, 0.0ms loss, 2.9ms postprocess per image\n",
      "Results saved to \u001b[1mruns\\detect\\optuna_trial_46\u001b[0m\n"
     ]
    },
    {
     "name": "stderr",
     "output_type": "stream",
     "text": [
      "[I 2025-07-08 12:59:37,773] Trial 4 finished with value: 0.6774234057479595 and parameters: {'lr0': 0.005399484409787433, 'lrf': 0.003991305878561679, 'momentum': 0.9062108866694067, 'weight_decay': 0.00010485387725194633, 'optimizer': 'SGD'}. Best is trial 4 with value: 0.6774234057479595.\n"
     ]
    },
    {
     "name": "stdout",
     "output_type": "stream",
     "text": [
      "New https://pypi.org/project/ultralytics/8.3.162 available  Update with 'pip install -U ultralytics'\n",
      "Ultralytics 8.3.81  Python-3.11.11 torch-2.6.0+cu126 CUDA:0 (NVIDIA GeForce RTX 3050 Laptop GPU, 4096MiB)\n",
      "\u001b[34m\u001b[1mengine\\trainer: \u001b[0mtask=detect, mode=train, model=yolo_models/yolo12s.pt, data=cells.yaml, epochs=25, time=None, patience=100, batch=8, imgsz=704, save=False, save_period=-1, cache=False, device=None, workers=8, project=None, name=optuna_trial_54, exist_ok=False, pretrained=True, optimizer=AdamW, verbose=False, seed=0, deterministic=True, single_cls=False, rect=False, cos_lr=False, close_mosaic=0, resume=False, amp=True, fraction=1.0, profile=False, freeze=None, multi_scale=False, overlap_mask=True, mask_ratio=4, dropout=0.0, val=True, split=val, save_json=False, save_hybrid=False, conf=None, iou=0.7, max_det=300, half=False, dnn=False, plots=True, source=None, vid_stride=1, stream_buffer=False, visualize=False, augment=False, agnostic_nms=False, classes=None, retina_masks=False, embed=None, show=False, save_frames=False, save_txt=False, save_conf=False, save_crop=False, show_labels=True, show_conf=True, show_boxes=True, line_width=None, format=torchscript, keras=False, optimize=False, int8=False, dynamic=False, simplify=True, opset=None, workspace=None, nms=False, lr0=0.0002310201887845295, lrf=0.0015254729458052604, momentum=0.8456363364439307, weight_decay=0.0003347776308515934, warmup_epochs=5, warmup_momentum=0.75, warmup_bias_lr=0.1, box=7.5, cls=0.5, dfl=1.5, pose=12.0, kobj=1.0, nbs=64, hsv_h=0.015, hsv_s=0.7, hsv_v=0.4, degrees=45, translate=0.1, scale=0.5, shear=0.0, perspective=0.0, flipud=0.5, fliplr=0.5, bgr=0.0, mosaic=0, mixup=0.0, copy_paste=0.0, copy_paste_mode=flip, auto_augment=randaugment, erasing=0.4, crop_fraction=1.0, cfg=None, tracker=botsort.yaml, save_dir=runs\\detect\\optuna_trial_54\n",
      "Overriding model.yaml nc=80 with nc=1\n",
      "\n",
      "                   from  n    params  module                                       arguments                     \n",
      "  0                  -1  1       928  ultralytics.nn.modules.conv.Conv             [3, 32, 3, 2]                 \n",
      "  1                  -1  1     18560  ultralytics.nn.modules.conv.Conv             [32, 64, 3, 2]                \n",
      "  2                  -1  1     26080  ultralytics.nn.modules.block.C3k2            [64, 128, 1, False, 0.25]     \n",
      "  3                  -1  1    147712  ultralytics.nn.modules.conv.Conv             [128, 128, 3, 2]              \n",
      "  4                  -1  1    103360  ultralytics.nn.modules.block.C3k2            [128, 256, 1, False, 0.25]    \n",
      "  5                  -1  1    590336  ultralytics.nn.modules.conv.Conv             [256, 256, 3, 2]              \n",
      "  6                  -1  2    689408  ultralytics.nn.modules.block.A2C2f           [256, 256, 2, True, 4]        \n",
      "  7                  -1  1   1180672  ultralytics.nn.modules.conv.Conv             [256, 512, 3, 2]              \n",
      "  8                  -1  2   2689536  ultralytics.nn.modules.block.A2C2f           [512, 512, 2, True, 1]        \n",
      "  9                  -1  1         0  torch.nn.modules.upsampling.Upsample         [None, 2, 'nearest']          \n",
      " 10             [-1, 6]  1         0  ultralytics.nn.modules.conv.Concat           [1]                           \n",
      " 11                  -1  1    345856  ultralytics.nn.modules.block.A2C2f           [768, 256, 1, False, -1]      \n",
      " 12                  -1  1         0  torch.nn.modules.upsampling.Upsample         [None, 2, 'nearest']          \n",
      " 13             [-1, 4]  1         0  ultralytics.nn.modules.conv.Concat           [1]                           \n",
      " 14                  -1  1     95104  ultralytics.nn.modules.block.A2C2f           [512, 128, 1, False, -1]      \n",
      " 15                  -1  1    147712  ultralytics.nn.modules.conv.Conv             [128, 128, 3, 2]              \n",
      " 16            [-1, 11]  1         0  ultralytics.nn.modules.conv.Concat           [1]                           \n",
      " 17                  -1  1    296704  ultralytics.nn.modules.block.A2C2f           [384, 256, 1, False, -1]      \n",
      " 18                  -1  1    590336  ultralytics.nn.modules.conv.Conv             [256, 256, 3, 2]              \n",
      " 19             [-1, 8]  1         0  ultralytics.nn.modules.conv.Concat           [1]                           \n",
      " 20                  -1  1   1511424  ultralytics.nn.modules.block.C3k2            [768, 512, 1, True]           \n",
      " 21        [14, 17, 20]  1    819795  ultralytics.nn.modules.head.Detect           [1, [128, 256, 512]]          \n",
      "YOLOv12s summary: 272 layers, 9,253,523 parameters, 9,253,507 gradients, 21.5 GFLOPs\n",
      "\n",
      "Transferred 685/691 items from pretrained weights\n",
      "Freezing layer 'model.21.dfl.conv.weight'\n",
      "\u001b[34m\u001b[1mAMP: \u001b[0mrunning Automatic Mixed Precision (AMP) checks...\n",
      "\u001b[34m\u001b[1mAMP: \u001b[0mchecks passed \n"
     ]
    },
    {
     "name": "stderr",
     "output_type": "stream",
     "text": [
      "\u001b[34m\u001b[1mtrain: \u001b[0mScanning C:\\Users\\mini7\\Desktop\\Master\\Materias\\TFM\\Laura\\2025_MURIA_Aitor García Blanco\\03.Datasets\\YOLO_Datasets\\split\\train\\labels.cache... 336 images, 0 backgrounds, 0 corrupt: 100%|██████████| 336/336 [00:00<?, ?it/s]\n",
      "\u001b[34m\u001b[1mval: \u001b[0mScanning C:\\Users\\mini7\\Desktop\\Master\\Materias\\TFM\\Laura\\2025_MURIA_Aitor García Blanco\\03.Datasets\\YOLO_Datasets\\split\\val\\labels.cache... 95 images, 0 backgrounds, 0 corrupt: 100%|██████████| 95/95 [00:00<?, ?it/s]\n"
     ]
    },
    {
     "name": "stdout",
     "output_type": "stream",
     "text": [
      "Plotting labels to runs\\detect\\optuna_trial_54\\labels.jpg... \n",
      "\u001b[34m\u001b[1moptimizer:\u001b[0m AdamW(lr=0.0002310201887845295, momentum=0.8456363364439307) with parameter groups 113 weight(decay=0.0), 120 weight(decay=0.0003347776308515934), 119 bias(decay=0.0)\n",
      "Image sizes 704 train, 704 val\n",
      "Using 8 dataloader workers\n",
      "Logging results to \u001b[1mruns\\detect\\optuna_trial_54\u001b[0m\n",
      "Starting training for 25 epochs...\n",
      "\n",
      "      Epoch    GPU_mem   box_loss   cls_loss   dfl_loss  Instances       Size\n"
     ]
    },
    {
     "name": "stderr",
     "output_type": "stream",
     "text": [
      "       1/25      4.02G      1.999      2.274      1.206        148        704: 100%|██████████| 42/42 [01:03<00:00,  1.52s/it]\n",
      "                 Class     Images  Instances      Box(P          R      mAP50  mAP50-95): 100%|██████████| 6/6 [00:04<00:00,  1.37it/s]"
     ]
    },
    {
     "name": "stdout",
     "output_type": "stream",
     "text": [
      "                   all         95       1347       0.71      0.387      0.523      0.158\n"
     ]
    },
    {
     "name": "stderr",
     "output_type": "stream",
     "text": [
      "\n"
     ]
    },
    {
     "name": "stdout",
     "output_type": "stream",
     "text": [
      "\n",
      "      Epoch    GPU_mem   box_loss   cls_loss   dfl_loss  Instances       Size\n"
     ]
    },
    {
     "name": "stderr",
     "output_type": "stream",
     "text": [
      "       2/25      3.97G      1.526      1.223     0.9899         95        704: 100%|██████████| 42/42 [00:58<00:00,  1.40s/it]\n",
      "                 Class     Images  Instances      Box(P          R      mAP50  mAP50-95): 100%|██████████| 6/6 [00:05<00:00,  1.12it/s]"
     ]
    },
    {
     "name": "stdout",
     "output_type": "stream",
     "text": [
      "                   all         95       1347      0.736      0.518      0.677      0.408\n"
     ]
    },
    {
     "name": "stderr",
     "output_type": "stream",
     "text": [
      "\n"
     ]
    },
    {
     "name": "stdout",
     "output_type": "stream",
     "text": [
      "\n",
      "      Epoch    GPU_mem   box_loss   cls_loss   dfl_loss  Instances       Size\n"
     ]
    },
    {
     "name": "stderr",
     "output_type": "stream",
     "text": [
      "       3/25      3.96G      1.382       1.11     0.9502         22        704: 100%|██████████| 42/42 [01:07<00:00,  1.62s/it]\n",
      "                 Class     Images  Instances      Box(P          R      mAP50  mAP50-95): 100%|██████████| 6/6 [00:03<00:00,  1.66it/s]"
     ]
    },
    {
     "name": "stdout",
     "output_type": "stream",
     "text": [
      "                   all         95       1347      0.777      0.777      0.828      0.349\n"
     ]
    },
    {
     "name": "stderr",
     "output_type": "stream",
     "text": [
      "\n"
     ]
    },
    {
     "name": "stdout",
     "output_type": "stream",
     "text": [
      "\n",
      "      Epoch    GPU_mem   box_loss   cls_loss   dfl_loss  Instances       Size\n"
     ]
    },
    {
     "name": "stderr",
     "output_type": "stream",
     "text": [
      "       4/25         4G      1.287      1.047     0.9167        122        704: 100%|██████████| 42/42 [01:09<00:00,  1.65s/it]\n",
      "                 Class     Images  Instances      Box(P          R      mAP50  mAP50-95): 100%|██████████| 6/6 [00:04<00:00,  1.31it/s]"
     ]
    },
    {
     "name": "stdout",
     "output_type": "stream",
     "text": [
      "                   all         95       1347      0.732      0.816      0.827      0.565\n"
     ]
    },
    {
     "name": "stderr",
     "output_type": "stream",
     "text": [
      "\n"
     ]
    },
    {
     "name": "stdout",
     "output_type": "stream",
     "text": [
      "\n",
      "      Epoch    GPU_mem   box_loss   cls_loss   dfl_loss  Instances       Size\n"
     ]
    },
    {
     "name": "stderr",
     "output_type": "stream",
     "text": [
      "       5/25      3.98G      1.383      1.008     0.9475         51        704: 100%|██████████| 42/42 [00:59<00:00,  1.41s/it]\n",
      "                 Class     Images  Instances      Box(P          R      mAP50  mAP50-95): 100%|██████████| 6/6 [00:06<00:00,  1.12s/it]"
     ]
    },
    {
     "name": "stdout",
     "output_type": "stream",
     "text": [
      "                   all         95       1347      0.704      0.807      0.803      0.545\n"
     ]
    },
    {
     "name": "stderr",
     "output_type": "stream",
     "text": [
      "\n"
     ]
    },
    {
     "name": "stdout",
     "output_type": "stream",
     "text": [
      "\n",
      "      Epoch    GPU_mem   box_loss   cls_loss   dfl_loss  Instances       Size\n"
     ]
    },
    {
     "name": "stderr",
     "output_type": "stream",
     "text": [
      "       6/25      3.96G      1.179      1.004     0.8972         72        704: 100%|██████████| 42/42 [01:20<00:00,  1.93s/it]\n",
      "                 Class     Images  Instances      Box(P          R      mAP50  mAP50-95): 100%|██████████| 6/6 [00:04<00:00,  1.28it/s]"
     ]
    },
    {
     "name": "stdout",
     "output_type": "stream",
     "text": [
      "                   all         95       1347      0.767      0.836      0.858      0.545\n"
     ]
    },
    {
     "name": "stderr",
     "output_type": "stream",
     "text": [
      "\n"
     ]
    },
    {
     "name": "stdout",
     "output_type": "stream",
     "text": [
      "\n",
      "      Epoch    GPU_mem   box_loss   cls_loss   dfl_loss  Instances       Size\n"
     ]
    },
    {
     "name": "stderr",
     "output_type": "stream",
     "text": [
      "       7/25      3.96G       1.15     0.9465     0.8954        101        704: 100%|██████████| 42/42 [01:07<00:00,  1.62s/it]\n",
      "                 Class     Images  Instances      Box(P          R      mAP50  mAP50-95): 100%|██████████| 6/6 [00:06<00:00,  1.01s/it]"
     ]
    },
    {
     "name": "stdout",
     "output_type": "stream",
     "text": [
      "                   all         95       1347      0.734      0.847      0.818      0.565\n"
     ]
    },
    {
     "name": "stderr",
     "output_type": "stream",
     "text": [
      "\n"
     ]
    },
    {
     "name": "stdout",
     "output_type": "stream",
     "text": [
      "\n",
      "      Epoch    GPU_mem   box_loss   cls_loss   dfl_loss  Instances       Size\n"
     ]
    },
    {
     "name": "stderr",
     "output_type": "stream",
     "text": [
      "       8/25      3.95G      1.263     0.9479     0.9239        111        704: 100%|██████████| 42/42 [01:08<00:00,  1.63s/it]\n",
      "                 Class     Images  Instances      Box(P          R      mAP50  mAP50-95): 100%|██████████| 6/6 [00:05<00:00,  1.11it/s]"
     ]
    },
    {
     "name": "stdout",
     "output_type": "stream",
     "text": [
      "                   all         95       1347      0.758      0.831      0.841      0.612\n"
     ]
    },
    {
     "name": "stderr",
     "output_type": "stream",
     "text": [
      "\n"
     ]
    },
    {
     "name": "stdout",
     "output_type": "stream",
     "text": [
      "\n",
      "      Epoch    GPU_mem   box_loss   cls_loss   dfl_loss  Instances       Size\n"
     ]
    },
    {
     "name": "stderr",
     "output_type": "stream",
     "text": [
      "       9/25      3.98G      1.275     0.9378     0.9181         83        704: 100%|██████████| 42/42 [01:00<00:00,  1.44s/it]\n",
      "                 Class     Images  Instances      Box(P          R      mAP50  mAP50-95): 100%|██████████| 6/6 [00:04<00:00,  1.20it/s]"
     ]
    },
    {
     "name": "stdout",
     "output_type": "stream",
     "text": [
      "                   all         95       1347      0.759      0.796      0.832      0.603\n"
     ]
    },
    {
     "name": "stderr",
     "output_type": "stream",
     "text": [
      "\n"
     ]
    },
    {
     "name": "stdout",
     "output_type": "stream",
     "text": [
      "\n",
      "      Epoch    GPU_mem   box_loss   cls_loss   dfl_loss  Instances       Size\n"
     ]
    },
    {
     "name": "stderr",
     "output_type": "stream",
     "text": [
      "      10/25         4G      1.102     0.8579     0.8867        101        704: 100%|██████████| 42/42 [00:57<00:00,  1.36s/it]\n",
      "                 Class     Images  Instances      Box(P          R      mAP50  mAP50-95): 100%|██████████| 6/6 [00:07<00:00,  1.18s/it]"
     ]
    },
    {
     "name": "stdout",
     "output_type": "stream",
     "text": [
      "                   all         95       1347      0.802      0.823      0.877      0.613\n"
     ]
    },
    {
     "name": "stderr",
     "output_type": "stream",
     "text": [
      "\n"
     ]
    },
    {
     "name": "stdout",
     "output_type": "stream",
     "text": [
      "\n",
      "      Epoch    GPU_mem   box_loss   cls_loss   dfl_loss  Instances       Size\n"
     ]
    },
    {
     "name": "stderr",
     "output_type": "stream",
     "text": [
      "      11/25      3.93G      1.093     0.8252     0.8886         90        704: 100%|██████████| 42/42 [00:48<00:00,  1.15s/it]\n",
      "                 Class     Images  Instances      Box(P          R      mAP50  mAP50-95): 100%|██████████| 6/6 [00:06<00:00,  1.04s/it]"
     ]
    },
    {
     "name": "stdout",
     "output_type": "stream",
     "text": [
      "                   all         95       1347      0.793      0.844      0.879      0.586\n"
     ]
    },
    {
     "name": "stderr",
     "output_type": "stream",
     "text": [
      "\n"
     ]
    },
    {
     "name": "stdout",
     "output_type": "stream",
     "text": [
      "\n",
      "      Epoch    GPU_mem   box_loss   cls_loss   dfl_loss  Instances       Size\n"
     ]
    },
    {
     "name": "stderr",
     "output_type": "stream",
     "text": [
      "      12/25      4.04G      1.068     0.8118     0.8756         59        704: 100%|██████████| 42/42 [01:17<00:00,  1.86s/it]\n",
      "                 Class     Images  Instances      Box(P          R      mAP50  mAP50-95): 100%|██████████| 6/6 [00:03<00:00,  1.61it/s]"
     ]
    },
    {
     "name": "stdout",
     "output_type": "stream",
     "text": [
      "                   all         95       1347      0.786      0.853      0.867      0.627\n"
     ]
    },
    {
     "name": "stderr",
     "output_type": "stream",
     "text": [
      "\n"
     ]
    },
    {
     "name": "stdout",
     "output_type": "stream",
     "text": [
      "\n",
      "      Epoch    GPU_mem   box_loss   cls_loss   dfl_loss  Instances       Size\n"
     ]
    },
    {
     "name": "stderr",
     "output_type": "stream",
     "text": [
      "      13/25      3.97G      1.051     0.7709     0.8719         79        704: 100%|██████████| 42/42 [01:01<00:00,  1.46s/it]\n",
      "                 Class     Images  Instances      Box(P          R      mAP50  mAP50-95): 100%|██████████| 6/6 [00:05<00:00,  1.00it/s]"
     ]
    },
    {
     "name": "stdout",
     "output_type": "stream",
     "text": [
      "                   all         95       1347      0.813      0.843      0.875       0.65\n"
     ]
    },
    {
     "name": "stderr",
     "output_type": "stream",
     "text": [
      "\n"
     ]
    },
    {
     "name": "stdout",
     "output_type": "stream",
     "text": [
      "\n",
      "      Epoch    GPU_mem   box_loss   cls_loss   dfl_loss  Instances       Size\n"
     ]
    },
    {
     "name": "stderr",
     "output_type": "stream",
     "text": [
      "      14/25      3.95G      1.085      0.789     0.8764        133        704: 100%|██████████| 42/42 [01:22<00:00,  1.97s/it]\n",
      "                 Class     Images  Instances      Box(P          R      mAP50  mAP50-95): 100%|██████████| 6/6 [00:04<00:00,  1.39it/s]"
     ]
    },
    {
     "name": "stdout",
     "output_type": "stream",
     "text": [
      "                   all         95       1347       0.78      0.851      0.868      0.656\n"
     ]
    },
    {
     "name": "stderr",
     "output_type": "stream",
     "text": [
      "\n"
     ]
    },
    {
     "name": "stdout",
     "output_type": "stream",
     "text": [
      "\n",
      "      Epoch    GPU_mem   box_loss   cls_loss   dfl_loss  Instances       Size\n"
     ]
    },
    {
     "name": "stderr",
     "output_type": "stream",
     "text": [
      "      15/25      3.92G     0.9786     0.7512     0.8609        149        704: 100%|██████████| 42/42 [00:48<00:00,  1.15s/it]\n",
      "                 Class     Images  Instances      Box(P          R      mAP50  mAP50-95): 100%|██████████| 6/6 [00:07<00:00,  1.28s/it]"
     ]
    },
    {
     "name": "stdout",
     "output_type": "stream",
     "text": [
      "                   all         95       1347      0.807       0.86      0.893      0.671\n"
     ]
    },
    {
     "name": "stderr",
     "output_type": "stream",
     "text": [
      "\n"
     ]
    },
    {
     "name": "stdout",
     "output_type": "stream",
     "text": [
      "\n",
      "      Epoch    GPU_mem   box_loss   cls_loss   dfl_loss  Instances       Size\n"
     ]
    },
    {
     "name": "stderr",
     "output_type": "stream",
     "text": [
      "      16/25      3.99G      1.003     0.7435     0.8681         90        704: 100%|██████████| 42/42 [00:51<00:00,  1.23s/it]\n",
      "                 Class     Images  Instances      Box(P          R      mAP50  mAP50-95): 100%|██████████| 6/6 [00:06<00:00,  1.12s/it]"
     ]
    },
    {
     "name": "stdout",
     "output_type": "stream",
     "text": [
      "                   all         95       1347      0.838      0.833      0.897      0.643\n"
     ]
    },
    {
     "name": "stderr",
     "output_type": "stream",
     "text": [
      "\n"
     ]
    },
    {
     "name": "stdout",
     "output_type": "stream",
     "text": [
      "\n",
      "      Epoch    GPU_mem   box_loss   cls_loss   dfl_loss  Instances       Size\n"
     ]
    },
    {
     "name": "stderr",
     "output_type": "stream",
     "text": [
      "      17/25      3.97G      1.019     0.7546     0.8652         97        704: 100%|██████████| 42/42 [00:59<00:00,  1.42s/it]\n",
      "                 Class     Images  Instances      Box(P          R      mAP50  mAP50-95): 100%|██████████| 6/6 [00:08<00:00,  1.39s/it]"
     ]
    },
    {
     "name": "stdout",
     "output_type": "stream",
     "text": [
      "                   all         95       1347      0.819      0.843      0.891      0.667\n"
     ]
    },
    {
     "name": "stderr",
     "output_type": "stream",
     "text": [
      "\n"
     ]
    },
    {
     "name": "stdout",
     "output_type": "stream",
     "text": [
      "\n",
      "      Epoch    GPU_mem   box_loss   cls_loss   dfl_loss  Instances       Size\n"
     ]
    },
    {
     "name": "stderr",
     "output_type": "stream",
     "text": [
      "      18/25      3.96G     0.9663       0.74     0.8554        123        704: 100%|██████████| 42/42 [01:07<00:00,  1.60s/it]\n",
      "                 Class     Images  Instances      Box(P          R      mAP50  mAP50-95): 100%|██████████| 6/6 [00:04<00:00,  1.45it/s]"
     ]
    },
    {
     "name": "stdout",
     "output_type": "stream",
     "text": [
      "                   all         95       1347       0.81      0.859      0.901      0.646\n"
     ]
    },
    {
     "name": "stderr",
     "output_type": "stream",
     "text": [
      "\n"
     ]
    },
    {
     "name": "stdout",
     "output_type": "stream",
     "text": [
      "\n",
      "      Epoch    GPU_mem   box_loss   cls_loss   dfl_loss  Instances       Size\n"
     ]
    },
    {
     "name": "stderr",
     "output_type": "stream",
     "text": [
      "      19/25      3.94G     0.9568     0.7181     0.8566         78        704: 100%|██████████| 42/42 [00:54<00:00,  1.31s/it]\n",
      "                 Class     Images  Instances      Box(P          R      mAP50  mAP50-95): 100%|██████████| 6/6 [00:04<00:00,  1.21it/s]"
     ]
    },
    {
     "name": "stdout",
     "output_type": "stream",
     "text": [
      "                   all         95       1347      0.825      0.851      0.899      0.657\n"
     ]
    },
    {
     "name": "stderr",
     "output_type": "stream",
     "text": [
      "\n"
     ]
    },
    {
     "name": "stdout",
     "output_type": "stream",
     "text": [
      "\n",
      "      Epoch    GPU_mem   box_loss   cls_loss   dfl_loss  Instances       Size\n"
     ]
    },
    {
     "name": "stderr",
     "output_type": "stream",
     "text": [
      "      20/25      3.95G     0.9679     0.7137     0.8545         69        704: 100%|██████████| 42/42 [01:13<00:00,  1.75s/it]\n",
      "                 Class     Images  Instances      Box(P          R      mAP50  mAP50-95): 100%|██████████| 6/6 [00:05<00:00,  1.12it/s]"
     ]
    },
    {
     "name": "stdout",
     "output_type": "stream",
     "text": [
      "                   all         95       1347      0.826      0.856      0.899       0.68\n"
     ]
    },
    {
     "name": "stderr",
     "output_type": "stream",
     "text": [
      "\n"
     ]
    },
    {
     "name": "stdout",
     "output_type": "stream",
     "text": [
      "\n",
      "      Epoch    GPU_mem   box_loss   cls_loss   dfl_loss  Instances       Size\n"
     ]
    },
    {
     "name": "stderr",
     "output_type": "stream",
     "text": [
      "      21/25      3.96G     0.9489      0.721     0.8599         29        704: 100%|██████████| 42/42 [00:53<00:00,  1.27s/it]\n",
      "                 Class     Images  Instances      Box(P          R      mAP50  mAP50-95): 100%|██████████| 6/6 [00:04<00:00,  1.46it/s]"
     ]
    },
    {
     "name": "stdout",
     "output_type": "stream",
     "text": [
      "                   all         95       1347      0.816      0.876      0.904      0.665\n"
     ]
    },
    {
     "name": "stderr",
     "output_type": "stream",
     "text": [
      "\n"
     ]
    },
    {
     "name": "stdout",
     "output_type": "stream",
     "text": [
      "\n",
      "      Epoch    GPU_mem   box_loss   cls_loss   dfl_loss  Instances       Size\n"
     ]
    },
    {
     "name": "stderr",
     "output_type": "stream",
     "text": [
      "      22/25      4.03G     0.9941     0.7213      0.862        111        704: 100%|██████████| 42/42 [01:14<00:00,  1.78s/it]\n",
      "                 Class     Images  Instances      Box(P          R      mAP50  mAP50-95): 100%|██████████| 6/6 [00:07<00:00,  1.21s/it]"
     ]
    },
    {
     "name": "stdout",
     "output_type": "stream",
     "text": [
      "                   all         95       1347      0.819      0.866      0.906      0.691\n"
     ]
    },
    {
     "name": "stderr",
     "output_type": "stream",
     "text": [
      "\n"
     ]
    },
    {
     "name": "stdout",
     "output_type": "stream",
     "text": [
      "\n",
      "      Epoch    GPU_mem   box_loss   cls_loss   dfl_loss  Instances       Size\n"
     ]
    },
    {
     "name": "stderr",
     "output_type": "stream",
     "text": [
      "      23/25      3.95G     0.9261     0.6936     0.8432         83        704: 100%|██████████| 42/42 [01:11<00:00,  1.71s/it]\n",
      "                 Class     Images  Instances      Box(P          R      mAP50  mAP50-95): 100%|██████████| 6/6 [00:04<00:00,  1.23it/s]"
     ]
    },
    {
     "name": "stdout",
     "output_type": "stream",
     "text": [
      "                   all         95       1347      0.822      0.862      0.903      0.658\n"
     ]
    },
    {
     "name": "stderr",
     "output_type": "stream",
     "text": [
      "\n"
     ]
    },
    {
     "name": "stdout",
     "output_type": "stream",
     "text": [
      "\n",
      "      Epoch    GPU_mem   box_loss   cls_loss   dfl_loss  Instances       Size\n"
     ]
    },
    {
     "name": "stderr",
     "output_type": "stream",
     "text": [
      "      24/25      3.98G     0.9318      0.663     0.8577        112        704: 100%|██████████| 42/42 [00:56<00:00,  1.35s/it]\n",
      "                 Class     Images  Instances      Box(P          R      mAP50  mAP50-95): 100%|██████████| 6/6 [00:07<00:00,  1.19s/it]"
     ]
    },
    {
     "name": "stdout",
     "output_type": "stream",
     "text": [
      "                   all         95       1347      0.828       0.86      0.907       0.68\n"
     ]
    },
    {
     "name": "stderr",
     "output_type": "stream",
     "text": [
      "\n"
     ]
    },
    {
     "name": "stdout",
     "output_type": "stream",
     "text": [
      "\n",
      "      Epoch    GPU_mem   box_loss   cls_loss   dfl_loss  Instances       Size\n"
     ]
    },
    {
     "name": "stderr",
     "output_type": "stream",
     "text": [
      "      25/25      3.98G     0.8895     0.6604     0.8458         72        704: 100%|██████████| 42/42 [01:06<00:00,  1.58s/it]\n",
      "                 Class     Images  Instances      Box(P          R      mAP50  mAP50-95): 100%|██████████| 6/6 [00:09<00:00,  1.58s/it]"
     ]
    },
    {
     "name": "stdout",
     "output_type": "stream",
     "text": [
      "                   all         95       1347      0.836      0.858      0.907      0.676\n"
     ]
    },
    {
     "name": "stderr",
     "output_type": "stream",
     "text": [
      "\n"
     ]
    },
    {
     "name": "stdout",
     "output_type": "stream",
     "text": [
      "\n",
      "25 epochs completed in 0.487 hours.\n",
      "Optimizer stripped from runs\\detect\\optuna_trial_54\\weights\\last.pt, 18.9MB\n"
     ]
    },
    {
     "name": "stderr",
     "output_type": "stream",
     "text": [
      "[I 2025-07-08 13:30:24,436] Trial 5 finished with value: 0.6760700828700992 and parameters: {'lr0': 0.0002310201887845295, 'lrf': 0.0015254729458052604, 'momentum': 0.8456363364439307, 'weight_decay': 0.0003347776308515934, 'optimizer': 'AdamW'}. Best is trial 4 with value: 0.6774234057479595.\n"
     ]
    },
    {
     "name": "stdout",
     "output_type": "stream",
     "text": [
      "New https://pypi.org/project/ultralytics/8.3.163 available  Update with 'pip install -U ultralytics'\n",
      "Ultralytics 8.3.81  Python-3.11.11 torch-2.6.0+cu126 CUDA:0 (NVIDIA GeForce RTX 3050 Laptop GPU, 4096MiB)\n",
      "\u001b[34m\u001b[1mengine\\trainer: \u001b[0mtask=detect, mode=train, model=yolo_models/yolo12s.pt, data=cells.yaml, epochs=25, time=None, patience=100, batch=8, imgsz=704, save=False, save_period=-1, cache=False, device=None, workers=8, project=None, name=optuna_trial_64, exist_ok=False, pretrained=True, optimizer=SGD, verbose=False, seed=0, deterministic=True, single_cls=False, rect=False, cos_lr=False, close_mosaic=0, resume=False, amp=True, fraction=1.0, profile=False, freeze=None, multi_scale=False, overlap_mask=True, mask_ratio=4, dropout=0.0, val=True, split=val, save_json=False, save_hybrid=False, conf=None, iou=0.7, max_det=300, half=False, dnn=False, plots=True, source=None, vid_stride=1, stream_buffer=False, visualize=False, augment=False, agnostic_nms=False, classes=None, retina_masks=False, embed=None, show=False, save_frames=False, save_txt=False, save_conf=False, save_crop=False, show_labels=True, show_conf=True, show_boxes=True, line_width=None, format=torchscript, keras=False, optimize=False, int8=False, dynamic=False, simplify=True, opset=None, workspace=None, nms=False, lr0=0.00019010245319870352, lrf=0.001959497205867916, momentum=0.8549542764940538, weight_decay=0.0002858051065806936, warmup_epochs=5, warmup_momentum=0.75, warmup_bias_lr=0.1, box=7.5, cls=0.5, dfl=1.5, pose=12.0, kobj=1.0, nbs=64, hsv_h=0.015, hsv_s=0.7, hsv_v=0.4, degrees=45, translate=0.1, scale=0.5, shear=0.0, perspective=0.0, flipud=0.5, fliplr=0.5, bgr=0.0, mosaic=0, mixup=0.0, copy_paste=0.0, copy_paste_mode=flip, auto_augment=randaugment, erasing=0.4, crop_fraction=1.0, cfg=None, tracker=botsort.yaml, save_dir=runs\\detect\\optuna_trial_64\n",
      "Overriding model.yaml nc=80 with nc=1\n",
      "\n",
      "                   from  n    params  module                                       arguments                     \n",
      "  0                  -1  1       928  ultralytics.nn.modules.conv.Conv             [3, 32, 3, 2]                 \n",
      "  1                  -1  1     18560  ultralytics.nn.modules.conv.Conv             [32, 64, 3, 2]                \n",
      "  2                  -1  1     26080  ultralytics.nn.modules.block.C3k2            [64, 128, 1, False, 0.25]     \n",
      "  3                  -1  1    147712  ultralytics.nn.modules.conv.Conv             [128, 128, 3, 2]              \n",
      "  4                  -1  1    103360  ultralytics.nn.modules.block.C3k2            [128, 256, 1, False, 0.25]    \n",
      "  5                  -1  1    590336  ultralytics.nn.modules.conv.Conv             [256, 256, 3, 2]              \n",
      "  6                  -1  2    689408  ultralytics.nn.modules.block.A2C2f           [256, 256, 2, True, 4]        \n",
      "  7                  -1  1   1180672  ultralytics.nn.modules.conv.Conv             [256, 512, 3, 2]              \n",
      "  8                  -1  2   2689536  ultralytics.nn.modules.block.A2C2f           [512, 512, 2, True, 1]        \n",
      "  9                  -1  1         0  torch.nn.modules.upsampling.Upsample         [None, 2, 'nearest']          \n",
      " 10             [-1, 6]  1         0  ultralytics.nn.modules.conv.Concat           [1]                           \n",
      " 11                  -1  1    345856  ultralytics.nn.modules.block.A2C2f           [768, 256, 1, False, -1]      \n",
      " 12                  -1  1         0  torch.nn.modules.upsampling.Upsample         [None, 2, 'nearest']          \n",
      " 13             [-1, 4]  1         0  ultralytics.nn.modules.conv.Concat           [1]                           \n",
      " 14                  -1  1     95104  ultralytics.nn.modules.block.A2C2f           [512, 128, 1, False, -1]      \n",
      " 15                  -1  1    147712  ultralytics.nn.modules.conv.Conv             [128, 128, 3, 2]              \n",
      " 16            [-1, 11]  1         0  ultralytics.nn.modules.conv.Concat           [1]                           \n",
      " 17                  -1  1    296704  ultralytics.nn.modules.block.A2C2f           [384, 256, 1, False, -1]      \n",
      " 18                  -1  1    590336  ultralytics.nn.modules.conv.Conv             [256, 256, 3, 2]              \n",
      " 19             [-1, 8]  1         0  ultralytics.nn.modules.conv.Concat           [1]                           \n",
      " 20                  -1  1   1511424  ultralytics.nn.modules.block.C3k2            [768, 512, 1, True]           \n",
      " 21        [14, 17, 20]  1    819795  ultralytics.nn.modules.head.Detect           [1, [128, 256, 512]]          \n",
      "YOLOv12s summary: 272 layers, 9,253,523 parameters, 9,253,507 gradients, 21.5 GFLOPs\n",
      "\n",
      "Transferred 685/691 items from pretrained weights\n",
      "Freezing layer 'model.21.dfl.conv.weight'\n",
      "\u001b[34m\u001b[1mAMP: \u001b[0mrunning Automatic Mixed Precision (AMP) checks...\n",
      "\u001b[34m\u001b[1mAMP: \u001b[0mchecks passed \n"
     ]
    },
    {
     "name": "stderr",
     "output_type": "stream",
     "text": [
      "\u001b[34m\u001b[1mtrain: \u001b[0mScanning C:\\Users\\mini7\\Desktop\\Master\\Materias\\TFM\\Laura\\2025_MURIA_Aitor García Blanco\\03.Datasets\\YOLO_Datasets\\split\\train\\labels.cache... 336 images, 0 backgrounds, 0 corrupt: 100%|██████████| 336/336 [00:00<?, ?it/s]\n",
      "\u001b[34m\u001b[1mval: \u001b[0mScanning C:\\Users\\mini7\\Desktop\\Master\\Materias\\TFM\\Laura\\2025_MURIA_Aitor García Blanco\\03.Datasets\\YOLO_Datasets\\split\\val\\labels.cache... 95 images, 0 backgrounds, 0 corrupt: 100%|██████████| 95/95 [00:00<?, ?it/s]\n"
     ]
    },
    {
     "name": "stdout",
     "output_type": "stream",
     "text": [
      "Plotting labels to runs\\detect\\optuna_trial_64\\labels.jpg... \n",
      "\u001b[34m\u001b[1moptimizer:\u001b[0m SGD(lr=0.00019010245319870352, momentum=0.8549542764940538) with parameter groups 113 weight(decay=0.0), 120 weight(decay=0.0002858051065806936), 119 bias(decay=0.0)\n",
      "Image sizes 704 train, 704 val\n",
      "Using 8 dataloader workers\n",
      "Logging results to \u001b[1mruns\\detect\\optuna_trial_64\u001b[0m\n",
      "Starting training for 25 epochs...\n",
      "\n",
      "      Epoch    GPU_mem   box_loss   cls_loss   dfl_loss  Instances       Size\n"
     ]
    },
    {
     "name": "stderr",
     "output_type": "stream",
     "text": [
      "       1/25      4.03G      2.694      4.484      1.508        148        704: 100%|██████████| 42/42 [01:17<00:00,  1.83s/it]\n",
      "                 Class     Images  Instances      Box(P          R      mAP50  mAP50-95): 100%|██████████| 6/6 [00:07<00:00,  1.29s/it]"
     ]
    },
    {
     "name": "stdout",
     "output_type": "stream",
     "text": [
      "                   all         95       1347     0.0199      0.421     0.0153    0.00718\n"
     ]
    },
    {
     "name": "stderr",
     "output_type": "stream",
     "text": [
      "\n"
     ]
    },
    {
     "name": "stdout",
     "output_type": "stream",
     "text": [
      "\n",
      "      Epoch    GPU_mem   box_loss   cls_loss   dfl_loss  Instances       Size\n"
     ]
    },
    {
     "name": "stderr",
     "output_type": "stream",
     "text": [
      "       2/25      3.95G      2.434      3.328      1.344         95        704: 100%|██████████| 42/42 [01:06<00:00,  1.58s/it]\n",
      "                 Class     Images  Instances      Box(P          R      mAP50  mAP50-95): 100%|██████████| 6/6 [00:06<00:00,  1.01s/it]"
     ]
    },
    {
     "name": "stdout",
     "output_type": "stream",
     "text": [
      "                   all         95       1347      0.347      0.317      0.239      0.103\n"
     ]
    },
    {
     "name": "stderr",
     "output_type": "stream",
     "text": [
      "\n"
     ]
    },
    {
     "name": "stdout",
     "output_type": "stream",
     "text": [
      "\n",
      "      Epoch    GPU_mem   box_loss   cls_loss   dfl_loss  Instances       Size\n"
     ]
    },
    {
     "name": "stderr",
     "output_type": "stream",
     "text": [
      "       3/25       3.9G      2.287      2.726      1.274         22        704: 100%|██████████| 42/42 [00:58<00:00,  1.40s/it]\n",
      "                 Class     Images  Instances      Box(P          R      mAP50  mAP50-95): 100%|██████████| 6/6 [00:06<00:00,  1.06s/it]"
     ]
    },
    {
     "name": "stdout",
     "output_type": "stream",
     "text": [
      "                   all         95       1347      0.373      0.432      0.303      0.119\n"
     ]
    },
    {
     "name": "stderr",
     "output_type": "stream",
     "text": [
      "\n"
     ]
    },
    {
     "name": "stdout",
     "output_type": "stream",
     "text": [
      "\n",
      "      Epoch    GPU_mem   box_loss   cls_loss   dfl_loss  Instances       Size\n"
     ]
    },
    {
     "name": "stderr",
     "output_type": "stream",
     "text": [
      "       4/25      3.95G      2.157       2.23        1.2        122        704: 100%|██████████| 42/42 [01:01<00:00,  1.47s/it]\n",
      "                 Class     Images  Instances      Box(P          R      mAP50  mAP50-95): 100%|██████████| 6/6 [00:05<00:00,  1.14it/s]"
     ]
    },
    {
     "name": "stdout",
     "output_type": "stream",
     "text": [
      "                   all         95       1347      0.501      0.486      0.423      0.165\n"
     ]
    },
    {
     "name": "stderr",
     "output_type": "stream",
     "text": [
      "\n"
     ]
    },
    {
     "name": "stdout",
     "output_type": "stream",
     "text": [
      "\n",
      "      Epoch    GPU_mem   box_loss   cls_loss   dfl_loss  Instances       Size\n"
     ]
    },
    {
     "name": "stderr",
     "output_type": "stream",
     "text": [
      "       5/25      3.94G      2.001      1.976      1.161         51        704: 100%|██████████| 42/42 [01:05<00:00,  1.56s/it]\n",
      "                 Class     Images  Instances      Box(P          R      mAP50  mAP50-95): 100%|██████████| 6/6 [00:06<00:00,  1.09s/it]"
     ]
    },
    {
     "name": "stdout",
     "output_type": "stream",
     "text": [
      "                   all         95       1347      0.479      0.545      0.416      0.133\n"
     ]
    },
    {
     "name": "stderr",
     "output_type": "stream",
     "text": [
      "\n"
     ]
    },
    {
     "name": "stdout",
     "output_type": "stream",
     "text": [
      "\n",
      "      Epoch    GPU_mem   box_loss   cls_loss   dfl_loss  Instances       Size\n"
     ]
    },
    {
     "name": "stderr",
     "output_type": "stream",
     "text": [
      "       6/25      3.93G      1.877      1.872      1.103         72        704: 100%|██████████| 42/42 [00:53<00:00,  1.27s/it]\n",
      "                 Class     Images  Instances      Box(P          R      mAP50  mAP50-95): 100%|██████████| 6/6 [00:05<00:00,  1.05it/s]"
     ]
    },
    {
     "name": "stdout",
     "output_type": "stream",
     "text": [
      "                   all         95       1347      0.575      0.575      0.535      0.184\n"
     ]
    },
    {
     "name": "stderr",
     "output_type": "stream",
     "text": [
      "\n"
     ]
    },
    {
     "name": "stdout",
     "output_type": "stream",
     "text": [
      "\n",
      "      Epoch    GPU_mem   box_loss   cls_loss   dfl_loss  Instances       Size\n"
     ]
    },
    {
     "name": "stderr",
     "output_type": "stream",
     "text": [
      "       7/25      3.92G      1.811      1.781       1.09        101        704: 100%|██████████| 42/42 [00:51<00:00,  1.23s/it]\n",
      "                 Class     Images  Instances      Box(P          R      mAP50  mAP50-95): 100%|██████████| 6/6 [00:06<00:00,  1.02s/it]"
     ]
    },
    {
     "name": "stdout",
     "output_type": "stream",
     "text": [
      "                   all         95       1347      0.616      0.603      0.611      0.259\n"
     ]
    },
    {
     "name": "stderr",
     "output_type": "stream",
     "text": [
      "\n"
     ]
    },
    {
     "name": "stdout",
     "output_type": "stream",
     "text": [
      "\n",
      "      Epoch    GPU_mem   box_loss   cls_loss   dfl_loss  Instances       Size\n"
     ]
    },
    {
     "name": "stderr",
     "output_type": "stream",
     "text": [
      "       8/25      3.91G      1.743      1.694      1.068        111        704: 100%|██████████| 42/42 [01:18<00:00,  1.86s/it]\n",
      "                 Class     Images  Instances      Box(P          R      mAP50  mAP50-95): 100%|██████████| 6/6 [00:07<00:00,  1.18s/it]"
     ]
    },
    {
     "name": "stdout",
     "output_type": "stream",
     "text": [
      "                   all         95       1347      0.635      0.647       0.64      0.239\n"
     ]
    },
    {
     "name": "stderr",
     "output_type": "stream",
     "text": [
      "\n"
     ]
    },
    {
     "name": "stdout",
     "output_type": "stream",
     "text": [
      "\n",
      "      Epoch    GPU_mem   box_loss   cls_loss   dfl_loss  Instances       Size\n"
     ]
    },
    {
     "name": "stderr",
     "output_type": "stream",
     "text": [
      "       9/25      3.95G      1.687       1.58      1.042         83        704: 100%|██████████| 42/42 [01:01<00:00,  1.46s/it]\n",
      "                 Class     Images  Instances      Box(P          R      mAP50  mAP50-95): 100%|██████████| 6/6 [00:05<00:00,  1.09it/s]"
     ]
    },
    {
     "name": "stdout",
     "output_type": "stream",
     "text": [
      "                   all         95       1347       0.65       0.64      0.671      0.258\n"
     ]
    },
    {
     "name": "stderr",
     "output_type": "stream",
     "text": [
      "\n"
     ]
    },
    {
     "name": "stdout",
     "output_type": "stream",
     "text": [
      "\n",
      "      Epoch    GPU_mem   box_loss   cls_loss   dfl_loss  Instances       Size\n"
     ]
    },
    {
     "name": "stderr",
     "output_type": "stream",
     "text": [
      "      10/25      3.97G      1.619      1.454      1.031        101        704: 100%|██████████| 42/42 [01:14<00:00,  1.76s/it]\n",
      "                 Class     Images  Instances      Box(P          R      mAP50  mAP50-95): 100%|██████████| 6/6 [00:07<00:00,  1.17s/it]"
     ]
    },
    {
     "name": "stdout",
     "output_type": "stream",
     "text": [
      "                   all         95       1347      0.603      0.661      0.637      0.205\n"
     ]
    },
    {
     "name": "stderr",
     "output_type": "stream",
     "text": [
      "\n"
     ]
    },
    {
     "name": "stdout",
     "output_type": "stream",
     "text": [
      "\n",
      "      Epoch    GPU_mem   box_loss   cls_loss   dfl_loss  Instances       Size\n"
     ]
    },
    {
     "name": "stderr",
     "output_type": "stream",
     "text": [
      "      11/25       3.9G      1.593      1.447      1.038         90        704: 100%|██████████| 42/42 [00:56<00:00,  1.35s/it]\n",
      "                 Class     Images  Instances      Box(P          R      mAP50  mAP50-95): 100%|██████████| 6/6 [00:04<00:00,  1.49it/s]"
     ]
    },
    {
     "name": "stdout",
     "output_type": "stream",
     "text": [
      "                   all         95       1347       0.63      0.669      0.646       0.22\n"
     ]
    },
    {
     "name": "stderr",
     "output_type": "stream",
     "text": [
      "\n"
     ]
    },
    {
     "name": "stdout",
     "output_type": "stream",
     "text": [
      "\n",
      "      Epoch    GPU_mem   box_loss   cls_loss   dfl_loss  Instances       Size\n"
     ]
    },
    {
     "name": "stderr",
     "output_type": "stream",
     "text": [
      "      12/25      3.98G      1.564      1.446      1.017         59        704: 100%|██████████| 42/42 [01:12<00:00,  1.73s/it]\n",
      "                 Class     Images  Instances      Box(P          R      mAP50  mAP50-95): 100%|██████████| 6/6 [00:05<00:00,  1.07it/s]"
     ]
    },
    {
     "name": "stdout",
     "output_type": "stream",
     "text": [
      "                   all         95       1347      0.665      0.713      0.718      0.286\n"
     ]
    },
    {
     "name": "stderr",
     "output_type": "stream",
     "text": [
      "\n"
     ]
    },
    {
     "name": "stdout",
     "output_type": "stream",
     "text": [
      "\n",
      "      Epoch    GPU_mem   box_loss   cls_loss   dfl_loss  Instances       Size\n"
     ]
    },
    {
     "name": "stderr",
     "output_type": "stream",
     "text": [
      "      13/25      3.96G      1.529      1.363      1.009         79        704: 100%|██████████| 42/42 [00:55<00:00,  1.32s/it]\n",
      "                 Class     Images  Instances      Box(P          R      mAP50  mAP50-95): 100%|██████████| 6/6 [00:09<00:00,  1.51s/it]"
     ]
    },
    {
     "name": "stdout",
     "output_type": "stream",
     "text": [
      "                   all         95       1347      0.686      0.729      0.732      0.332\n"
     ]
    },
    {
     "name": "stderr",
     "output_type": "stream",
     "text": [
      "\n"
     ]
    },
    {
     "name": "stdout",
     "output_type": "stream",
     "text": [
      "\n",
      "      Epoch    GPU_mem   box_loss   cls_loss   dfl_loss  Instances       Size\n"
     ]
    },
    {
     "name": "stderr",
     "output_type": "stream",
     "text": [
      "      14/25      3.91G      1.537      1.368     0.9991        133        704: 100%|██████████| 42/42 [01:20<00:00,  1.92s/it]\n",
      "                 Class     Images  Instances      Box(P          R      mAP50  mAP50-95): 100%|██████████| 6/6 [00:05<00:00,  1.04it/s]"
     ]
    },
    {
     "name": "stdout",
     "output_type": "stream",
     "text": [
      "                   all         95       1347        0.7      0.746      0.752      0.374\n"
     ]
    },
    {
     "name": "stderr",
     "output_type": "stream",
     "text": [
      "\n"
     ]
    },
    {
     "name": "stdout",
     "output_type": "stream",
     "text": [
      "\n",
      "      Epoch    GPU_mem   box_loss   cls_loss   dfl_loss  Instances       Size\n"
     ]
    },
    {
     "name": "stderr",
     "output_type": "stream",
     "text": [
      "      15/25      3.89G      1.517       1.33      1.004        149        704: 100%|██████████| 42/42 [00:38<00:00,  1.09it/s]\n",
      "                 Class     Images  Instances      Box(P          R      mAP50  mAP50-95): 100%|██████████| 6/6 [00:05<00:00,  1.00it/s]"
     ]
    },
    {
     "name": "stdout",
     "output_type": "stream",
     "text": [
      "                   all         95       1347      0.685      0.702      0.726      0.249\n"
     ]
    },
    {
     "name": "stderr",
     "output_type": "stream",
     "text": [
      "\n"
     ]
    },
    {
     "name": "stdout",
     "output_type": "stream",
     "text": [
      "\n",
      "      Epoch    GPU_mem   box_loss   cls_loss   dfl_loss  Instances       Size\n"
     ]
    },
    {
     "name": "stderr",
     "output_type": "stream",
     "text": [
      "      16/25      3.96G      1.472      1.285      0.991         90        704: 100%|██████████| 42/42 [00:55<00:00,  1.31s/it]\n",
      "                 Class     Images  Instances      Box(P          R      mAP50  mAP50-95): 100%|██████████| 6/6 [00:07<00:00,  1.28s/it]"
     ]
    },
    {
     "name": "stdout",
     "output_type": "stream",
     "text": [
      "                   all         95       1347      0.703      0.725      0.737       0.28\n"
     ]
    },
    {
     "name": "stderr",
     "output_type": "stream",
     "text": [
      "\n"
     ]
    },
    {
     "name": "stdout",
     "output_type": "stream",
     "text": [
      "\n",
      "      Epoch    GPU_mem   box_loss   cls_loss   dfl_loss  Instances       Size\n"
     ]
    },
    {
     "name": "stderr",
     "output_type": "stream",
     "text": [
      "      17/25      3.92G      1.517      1.334          1         97        704: 100%|██████████| 42/42 [00:46<00:00,  1.10s/it]\n",
      "                 Class     Images  Instances      Box(P          R      mAP50  mAP50-95): 100%|██████████| 6/6 [00:06<00:00,  1.06s/it]"
     ]
    },
    {
     "name": "stdout",
     "output_type": "stream",
     "text": [
      "                   all         95       1347      0.716      0.701      0.734      0.276\n"
     ]
    },
    {
     "name": "stderr",
     "output_type": "stream",
     "text": [
      "\n"
     ]
    },
    {
     "name": "stdout",
     "output_type": "stream",
     "text": [
      "\n",
      "      Epoch    GPU_mem   box_loss   cls_loss   dfl_loss  Instances       Size\n"
     ]
    },
    {
     "name": "stderr",
     "output_type": "stream",
     "text": [
      "      18/25       3.9G      1.459      1.255     0.9802        123        704: 100%|██████████| 42/42 [00:32<00:00,  1.30it/s]\n",
      "                 Class     Images  Instances      Box(P          R      mAP50  mAP50-95): 100%|██████████| 6/6 [00:05<00:00,  1.18it/s]"
     ]
    },
    {
     "name": "stdout",
     "output_type": "stream",
     "text": [
      "                   all         95       1347      0.696      0.721      0.731      0.294\n"
     ]
    },
    {
     "name": "stderr",
     "output_type": "stream",
     "text": [
      "\n"
     ]
    },
    {
     "name": "stdout",
     "output_type": "stream",
     "text": [
      "\n",
      "      Epoch    GPU_mem   box_loss   cls_loss   dfl_loss  Instances       Size\n"
     ]
    },
    {
     "name": "stderr",
     "output_type": "stream",
     "text": [
      "      19/25      3.92G      1.449      1.225      0.977         78        704: 100%|██████████| 42/42 [01:00<00:00,  1.45s/it]\n",
      "                 Class     Images  Instances      Box(P          R      mAP50  mAP50-95): 100%|██████████| 6/6 [00:03<00:00,  1.56it/s]"
     ]
    },
    {
     "name": "stdout",
     "output_type": "stream",
     "text": [
      "                   all         95       1347      0.696      0.753      0.745       0.31\n"
     ]
    },
    {
     "name": "stderr",
     "output_type": "stream",
     "text": [
      "\n"
     ]
    },
    {
     "name": "stdout",
     "output_type": "stream",
     "text": [
      "\n",
      "      Epoch    GPU_mem   box_loss   cls_loss   dfl_loss  Instances       Size\n"
     ]
    },
    {
     "name": "stderr",
     "output_type": "stream",
     "text": [
      "      20/25       3.9G      1.509      1.284     0.9914         69        704: 100%|██████████| 42/42 [00:40<00:00,  1.03it/s]\n",
      "                 Class     Images  Instances      Box(P          R      mAP50  mAP50-95): 100%|██████████| 6/6 [00:04<00:00,  1.46it/s]"
     ]
    },
    {
     "name": "stdout",
     "output_type": "stream",
     "text": [
      "                   all         95       1347      0.683      0.738      0.725      0.281\n"
     ]
    },
    {
     "name": "stderr",
     "output_type": "stream",
     "text": [
      "\n"
     ]
    },
    {
     "name": "stdout",
     "output_type": "stream",
     "text": [
      "\n",
      "      Epoch    GPU_mem   box_loss   cls_loss   dfl_loss  Instances       Size\n"
     ]
    },
    {
     "name": "stderr",
     "output_type": "stream",
     "text": [
      "      21/25      3.92G      1.426      1.254     0.9861         29        704: 100%|██████████| 42/42 [00:54<00:00,  1.30s/it]\n",
      "                 Class     Images  Instances      Box(P          R      mAP50  mAP50-95): 100%|██████████| 6/6 [00:06<00:00,  1.09s/it]"
     ]
    },
    {
     "name": "stdout",
     "output_type": "stream",
     "text": [
      "                   all         95       1347      0.692      0.746      0.735      0.294\n"
     ]
    },
    {
     "name": "stderr",
     "output_type": "stream",
     "text": [
      "\n"
     ]
    },
    {
     "name": "stdout",
     "output_type": "stream",
     "text": [
      "\n",
      "      Epoch    GPU_mem   box_loss   cls_loss   dfl_loss  Instances       Size\n"
     ]
    },
    {
     "name": "stderr",
     "output_type": "stream",
     "text": [
      "      22/25         4G      1.517       1.28     0.9928        111        704: 100%|██████████| 42/42 [00:55<00:00,  1.33s/it]\n",
      "                 Class     Images  Instances      Box(P          R      mAP50  mAP50-95): 100%|██████████| 6/6 [00:05<00:00,  1.06it/s]"
     ]
    },
    {
     "name": "stdout",
     "output_type": "stream",
     "text": [
      "                   all         95       1347      0.697      0.761      0.755      0.327\n"
     ]
    },
    {
     "name": "stderr",
     "output_type": "stream",
     "text": [
      "\n"
     ]
    },
    {
     "name": "stdout",
     "output_type": "stream",
     "text": [
      "\n",
      "      Epoch    GPU_mem   box_loss   cls_loss   dfl_loss  Instances       Size\n"
     ]
    },
    {
     "name": "stderr",
     "output_type": "stream",
     "text": [
      "      23/25      3.92G       1.43      1.238     0.9637         83        704: 100%|██████████| 42/42 [00:43<00:00,  1.03s/it]\n",
      "                 Class     Images  Instances      Box(P          R      mAP50  mAP50-95): 100%|██████████| 6/6 [00:05<00:00,  1.04it/s]"
     ]
    },
    {
     "name": "stdout",
     "output_type": "stream",
     "text": [
      "                   all         95       1347      0.698      0.759      0.762      0.337\n"
     ]
    },
    {
     "name": "stderr",
     "output_type": "stream",
     "text": [
      "\n"
     ]
    },
    {
     "name": "stdout",
     "output_type": "stream",
     "text": [
      "\n",
      "      Epoch    GPU_mem   box_loss   cls_loss   dfl_loss  Instances       Size\n"
     ]
    },
    {
     "name": "stderr",
     "output_type": "stream",
     "text": [
      "      24/25      3.96G      1.419      1.209     0.9806        112        704: 100%|██████████| 42/42 [00:56<00:00,  1.34s/it]\n",
      "                 Class     Images  Instances      Box(P          R      mAP50  mAP50-95): 100%|██████████| 6/6 [00:07<00:00,  1.24s/it]"
     ]
    },
    {
     "name": "stdout",
     "output_type": "stream",
     "text": [
      "                   all         95       1347      0.713      0.756      0.767      0.364\n"
     ]
    },
    {
     "name": "stderr",
     "output_type": "stream",
     "text": [
      "\n"
     ]
    },
    {
     "name": "stdout",
     "output_type": "stream",
     "text": [
      "\n",
      "      Epoch    GPU_mem   box_loss   cls_loss   dfl_loss  Instances       Size\n"
     ]
    },
    {
     "name": "stderr",
     "output_type": "stream",
     "text": [
      "      25/25      3.93G      1.403      1.206     0.9665         72        704: 100%|██████████| 42/42 [00:52<00:00,  1.26s/it]\n",
      "                 Class     Images  Instances      Box(P          R      mAP50  mAP50-95): 100%|██████████| 6/6 [00:04<00:00,  1.22it/s]"
     ]
    },
    {
     "name": "stdout",
     "output_type": "stream",
     "text": [
      "                   all         95       1347      0.712      0.757      0.766       0.35\n"
     ]
    },
    {
     "name": "stderr",
     "output_type": "stream",
     "text": [
      "\n"
     ]
    },
    {
     "name": "stdout",
     "output_type": "stream",
     "text": [
      "\n",
      "25 epochs completed in 0.448 hours.\n",
      "Optimizer stripped from runs\\detect\\optuna_trial_64\\weights\\last.pt, 18.9MB\n"
     ]
    },
    {
     "name": "stderr",
     "output_type": "stream",
     "text": [
      "[I 2025-07-08 13:58:37,249] Trial 6 finished with value: 0.34978708795773944 and parameters: {'lr0': 0.00019010245319870352, 'lrf': 0.001959497205867916, 'momentum': 0.8549542764940538, 'weight_decay': 0.0002858051065806936, 'optimizer': 'SGD'}. Best is trial 4 with value: 0.6774234057479595.\n"
     ]
    },
    {
     "name": "stdout",
     "output_type": "stream",
     "text": [
      "New https://pypi.org/project/ultralytics/8.3.163 available  Update with 'pip install -U ultralytics'\n",
      "Ultralytics 8.3.81  Python-3.11.11 torch-2.6.0+cu126 CUDA:0 (NVIDIA GeForce RTX 3050 Laptop GPU, 4096MiB)\n",
      "\u001b[34m\u001b[1mengine\\trainer: \u001b[0mtask=detect, mode=train, model=yolo_models/yolo12s.pt, data=cells.yaml, epochs=25, time=None, patience=100, batch=8, imgsz=704, save=False, save_period=-1, cache=False, device=None, workers=8, project=None, name=optuna_trial_74, exist_ok=False, pretrained=True, optimizer=AdamW, verbose=False, seed=0, deterministic=True, single_cls=False, rect=False, cos_lr=False, close_mosaic=0, resume=False, amp=True, fraction=1.0, profile=False, freeze=None, multi_scale=False, overlap_mask=True, mask_ratio=4, dropout=0.0, val=True, split=val, save_json=False, save_hybrid=False, conf=None, iou=0.7, max_det=300, half=False, dnn=False, plots=True, source=None, vid_stride=1, stream_buffer=False, visualize=False, augment=False, agnostic_nms=False, classes=None, retina_masks=False, embed=None, show=False, save_frames=False, save_txt=False, save_conf=False, save_crop=False, show_labels=True, show_conf=True, show_boxes=True, line_width=None, format=torchscript, keras=False, optimize=False, int8=False, dynamic=False, simplify=True, opset=None, workspace=None, nms=False, lr0=0.0015304852121831463, lrf=0.001112885317490573, momentum=0.8911317277852158, weight_decay=0.00014808945119975197, warmup_epochs=5, warmup_momentum=0.75, warmup_bias_lr=0.1, box=7.5, cls=0.5, dfl=1.5, pose=12.0, kobj=1.0, nbs=64, hsv_h=0.015, hsv_s=0.7, hsv_v=0.4, degrees=45, translate=0.1, scale=0.5, shear=0.0, perspective=0.0, flipud=0.5, fliplr=0.5, bgr=0.0, mosaic=0, mixup=0.0, copy_paste=0.0, copy_paste_mode=flip, auto_augment=randaugment, erasing=0.4, crop_fraction=1.0, cfg=None, tracker=botsort.yaml, save_dir=runs\\detect\\optuna_trial_74\n",
      "Overriding model.yaml nc=80 with nc=1\n",
      "\n",
      "                   from  n    params  module                                       arguments                     \n",
      "  0                  -1  1       928  ultralytics.nn.modules.conv.Conv             [3, 32, 3, 2]                 \n",
      "  1                  -1  1     18560  ultralytics.nn.modules.conv.Conv             [32, 64, 3, 2]                \n",
      "  2                  -1  1     26080  ultralytics.nn.modules.block.C3k2            [64, 128, 1, False, 0.25]     \n",
      "  3                  -1  1    147712  ultralytics.nn.modules.conv.Conv             [128, 128, 3, 2]              \n",
      "  4                  -1  1    103360  ultralytics.nn.modules.block.C3k2            [128, 256, 1, False, 0.25]    \n",
      "  5                  -1  1    590336  ultralytics.nn.modules.conv.Conv             [256, 256, 3, 2]              \n",
      "  6                  -1  2    689408  ultralytics.nn.modules.block.A2C2f           [256, 256, 2, True, 4]        \n",
      "  7                  -1  1   1180672  ultralytics.nn.modules.conv.Conv             [256, 512, 3, 2]              \n",
      "  8                  -1  2   2689536  ultralytics.nn.modules.block.A2C2f           [512, 512, 2, True, 1]        \n",
      "  9                  -1  1         0  torch.nn.modules.upsampling.Upsample         [None, 2, 'nearest']          \n",
      " 10             [-1, 6]  1         0  ultralytics.nn.modules.conv.Concat           [1]                           \n",
      " 11                  -1  1    345856  ultralytics.nn.modules.block.A2C2f           [768, 256, 1, False, -1]      \n",
      " 12                  -1  1         0  torch.nn.modules.upsampling.Upsample         [None, 2, 'nearest']          \n",
      " 13             [-1, 4]  1         0  ultralytics.nn.modules.conv.Concat           [1]                           \n",
      " 14                  -1  1     95104  ultralytics.nn.modules.block.A2C2f           [512, 128, 1, False, -1]      \n",
      " 15                  -1  1    147712  ultralytics.nn.modules.conv.Conv             [128, 128, 3, 2]              \n",
      " 16            [-1, 11]  1         0  ultralytics.nn.modules.conv.Concat           [1]                           \n",
      " 17                  -1  1    296704  ultralytics.nn.modules.block.A2C2f           [384, 256, 1, False, -1]      \n",
      " 18                  -1  1    590336  ultralytics.nn.modules.conv.Conv             [256, 256, 3, 2]              \n",
      " 19             [-1, 8]  1         0  ultralytics.nn.modules.conv.Concat           [1]                           \n",
      " 20                  -1  1   1511424  ultralytics.nn.modules.block.C3k2            [768, 512, 1, True]           \n",
      " 21        [14, 17, 20]  1    819795  ultralytics.nn.modules.head.Detect           [1, [128, 256, 512]]          \n",
      "YOLOv12s summary: 272 layers, 9,253,523 parameters, 9,253,507 gradients, 21.5 GFLOPs\n",
      "\n",
      "Transferred 685/691 items from pretrained weights\n",
      "Freezing layer 'model.21.dfl.conv.weight'\n",
      "\u001b[34m\u001b[1mAMP: \u001b[0mrunning Automatic Mixed Precision (AMP) checks...\n",
      "\u001b[34m\u001b[1mAMP: \u001b[0mchecks passed \n"
     ]
    },
    {
     "name": "stderr",
     "output_type": "stream",
     "text": [
      "\u001b[34m\u001b[1mtrain: \u001b[0mScanning C:\\Users\\mini7\\Desktop\\Master\\Materias\\TFM\\Laura\\2025_MURIA_Aitor García Blanco\\03.Datasets\\YOLO_Datasets\\split\\train\\labels.cache... 336 images, 0 backgrounds, 0 corrupt: 100%|██████████| 336/336 [00:00<?, ?it/s]\n",
      "\u001b[34m\u001b[1mval: \u001b[0mScanning C:\\Users\\mini7\\Desktop\\Master\\Materias\\TFM\\Laura\\2025_MURIA_Aitor García Blanco\\03.Datasets\\YOLO_Datasets\\split\\val\\labels.cache... 95 images, 0 backgrounds, 0 corrupt: 100%|██████████| 95/95 [00:00<?, ?it/s]\n"
     ]
    },
    {
     "name": "stdout",
     "output_type": "stream",
     "text": [
      "Plotting labels to runs\\detect\\optuna_trial_74\\labels.jpg... \n",
      "\u001b[34m\u001b[1moptimizer:\u001b[0m AdamW(lr=0.0015304852121831463, momentum=0.8911317277852158) with parameter groups 113 weight(decay=0.0), 120 weight(decay=0.00014808945119975197), 119 bias(decay=0.0)\n",
      "Image sizes 704 train, 704 val\n",
      "Using 8 dataloader workers\n",
      "Logging results to \u001b[1mruns\\detect\\optuna_trial_74\u001b[0m\n",
      "Starting training for 25 epochs...\n",
      "\n",
      "      Epoch    GPU_mem   box_loss   cls_loss   dfl_loss  Instances       Size\n"
     ]
    },
    {
     "name": "stderr",
     "output_type": "stream",
     "text": [
      "       1/25       3.9G      1.949      2.329      1.179        148        704: 100%|██████████| 42/42 [00:58<00:00,  1.39s/it]\n",
      "                 Class     Images  Instances      Box(P          R      mAP50  mAP50-95): 100%|██████████| 6/6 [00:05<00:00,  1.04it/s]"
     ]
    },
    {
     "name": "stdout",
     "output_type": "stream",
     "text": [
      "                   all         95       1347      0.831      0.262      0.543      0.137\n"
     ]
    },
    {
     "name": "stderr",
     "output_type": "stream",
     "text": [
      "\n"
     ]
    },
    {
     "name": "stdout",
     "output_type": "stream",
     "text": [
      "\n",
      "      Epoch    GPU_mem   box_loss   cls_loss   dfl_loss  Instances       Size\n"
     ]
    },
    {
     "name": "stderr",
     "output_type": "stream",
     "text": [
      "       2/25      3.99G      1.552      1.364     0.9963         95        704: 100%|██████████| 42/42 [01:02<00:00,  1.50s/it]\n",
      "                 Class     Images  Instances      Box(P          R      mAP50  mAP50-95): 100%|██████████| 6/6 [00:05<00:00,  1.19it/s]"
     ]
    },
    {
     "name": "stdout",
     "output_type": "stream",
     "text": [
      "                   all         95       1347      0.672       0.79      0.718      0.223\n"
     ]
    },
    {
     "name": "stderr",
     "output_type": "stream",
     "text": [
      "\n"
     ]
    },
    {
     "name": "stdout",
     "output_type": "stream",
     "text": [
      "\n",
      "      Epoch    GPU_mem   box_loss   cls_loss   dfl_loss  Instances       Size\n"
     ]
    },
    {
     "name": "stderr",
     "output_type": "stream",
     "text": [
      "       3/25      3.95G      1.555       1.38     0.9996         22        704: 100%|██████████| 42/42 [00:58<00:00,  1.39s/it]\n",
      "                 Class     Images  Instances      Box(P          R      mAP50  mAP50-95): 100%|██████████| 6/6 [00:05<00:00,  1.09it/s]"
     ]
    },
    {
     "name": "stdout",
     "output_type": "stream",
     "text": [
      "                   all         95       1347      0.411      0.501      0.299     0.0535\n"
     ]
    },
    {
     "name": "stderr",
     "output_type": "stream",
     "text": [
      "\n"
     ]
    },
    {
     "name": "stdout",
     "output_type": "stream",
     "text": [
      "\n",
      "      Epoch    GPU_mem   box_loss   cls_loss   dfl_loss  Instances       Size\n"
     ]
    },
    {
     "name": "stderr",
     "output_type": "stream",
     "text": [
      "       4/25         4G      1.492      1.256     0.9665        122        704: 100%|██████████| 42/42 [01:16<00:00,  1.81s/it]\n",
      "                 Class     Images  Instances      Box(P          R      mAP50  mAP50-95): 100%|██████████| 6/6 [00:04<00:00,  1.40it/s]"
     ]
    },
    {
     "name": "stdout",
     "output_type": "stream",
     "text": [
      "                   all         95       1347       0.79      0.794       0.84       0.36\n"
     ]
    },
    {
     "name": "stderr",
     "output_type": "stream",
     "text": [
      "\n"
     ]
    },
    {
     "name": "stdout",
     "output_type": "stream",
     "text": [
      "\n",
      "      Epoch    GPU_mem   box_loss   cls_loss   dfl_loss  Instances       Size\n"
     ]
    },
    {
     "name": "stderr",
     "output_type": "stream",
     "text": [
      "       5/25      3.96G      1.368      1.188     0.9503         51        704: 100%|██████████| 42/42 [01:08<00:00,  1.62s/it]\n",
      "                 Class     Images  Instances      Box(P          R      mAP50  mAP50-95): 100%|██████████| 6/6 [00:04<00:00,  1.27it/s]"
     ]
    },
    {
     "name": "stdout",
     "output_type": "stream",
     "text": [
      "                   all         95       1347      0.442      0.745      0.472      0.261\n"
     ]
    },
    {
     "name": "stderr",
     "output_type": "stream",
     "text": [
      "\n"
     ]
    },
    {
     "name": "stdout",
     "output_type": "stream",
     "text": [
      "\n",
      "      Epoch    GPU_mem   box_loss   cls_loss   dfl_loss  Instances       Size\n"
     ]
    },
    {
     "name": "stderr",
     "output_type": "stream",
     "text": [
      "       6/25      3.96G      1.429      1.233     0.9554         72        704: 100%|██████████| 42/42 [01:17<00:00,  1.84s/it]\n",
      "                 Class     Images  Instances      Box(P          R      mAP50  mAP50-95): 100%|██████████| 6/6 [00:03<00:00,  1.73it/s]"
     ]
    },
    {
     "name": "stdout",
     "output_type": "stream",
     "text": [
      "                   all         95       1347      0.576      0.655      0.608      0.196\n"
     ]
    },
    {
     "name": "stderr",
     "output_type": "stream",
     "text": [
      "\n"
     ]
    },
    {
     "name": "stdout",
     "output_type": "stream",
     "text": [
      "\n",
      "      Epoch    GPU_mem   box_loss   cls_loss   dfl_loss  Instances       Size\n"
     ]
    },
    {
     "name": "stderr",
     "output_type": "stream",
     "text": [
      "       7/25      3.96G      1.356      1.194     0.9405        101        704: 100%|██████████| 42/42 [01:10<00:00,  1.67s/it]\n",
      "                 Class     Images  Instances      Box(P          R      mAP50  mAP50-95): 100%|██████████| 6/6 [00:05<00:00,  1.03it/s]"
     ]
    },
    {
     "name": "stdout",
     "output_type": "stream",
     "text": [
      "                   all         95       1347      0.672       0.73      0.716      0.309\n"
     ]
    },
    {
     "name": "stderr",
     "output_type": "stream",
     "text": [
      "\n"
     ]
    },
    {
     "name": "stdout",
     "output_type": "stream",
     "text": [
      "\n",
      "      Epoch    GPU_mem   box_loss   cls_loss   dfl_loss  Instances       Size\n"
     ]
    },
    {
     "name": "stderr",
     "output_type": "stream",
     "text": [
      "       8/25      3.94G      1.469      1.196     0.9811        111        704: 100%|██████████| 42/42 [01:07<00:00,  1.60s/it]\n",
      "                 Class     Images  Instances      Box(P          R      mAP50  mAP50-95): 100%|██████████| 6/6 [00:06<00:00,  1.16s/it]"
     ]
    },
    {
     "name": "stdout",
     "output_type": "stream",
     "text": [
      "                   all         95       1347      0.662      0.769      0.747      0.389\n"
     ]
    },
    {
     "name": "stderr",
     "output_type": "stream",
     "text": [
      "\n"
     ]
    },
    {
     "name": "stdout",
     "output_type": "stream",
     "text": [
      "\n",
      "      Epoch    GPU_mem   box_loss   cls_loss   dfl_loss  Instances       Size\n"
     ]
    },
    {
     "name": "stderr",
     "output_type": "stream",
     "text": [
      "       9/25      3.98G      1.301      1.134     0.9376         83        704: 100%|██████████| 42/42 [01:07<00:00,  1.60s/it]\n",
      "                 Class     Images  Instances      Box(P          R      mAP50  mAP50-95): 100%|██████████| 6/6 [00:04<00:00,  1.31it/s]"
     ]
    },
    {
     "name": "stdout",
     "output_type": "stream",
     "text": [
      "                   all         95       1347      0.669      0.696      0.697      0.333\n"
     ]
    },
    {
     "name": "stderr",
     "output_type": "stream",
     "text": [
      "\n"
     ]
    },
    {
     "name": "stdout",
     "output_type": "stream",
     "text": [
      "\n",
      "      Epoch    GPU_mem   box_loss   cls_loss   dfl_loss  Instances       Size\n"
     ]
    },
    {
     "name": "stderr",
     "output_type": "stream",
     "text": [
      "      10/25         4G      1.238      1.108     0.9197        101        704: 100%|██████████| 42/42 [01:02<00:00,  1.49s/it]\n",
      "                 Class     Images  Instances      Box(P          R      mAP50  mAP50-95): 100%|██████████| 6/6 [00:03<00:00,  1.56it/s]"
     ]
    },
    {
     "name": "stdout",
     "output_type": "stream",
     "text": [
      "                   all         95       1347       0.75      0.738      0.787      0.326\n"
     ]
    },
    {
     "name": "stderr",
     "output_type": "stream",
     "text": [
      "\n"
     ]
    },
    {
     "name": "stdout",
     "output_type": "stream",
     "text": [
      "\n",
      "      Epoch    GPU_mem   box_loss   cls_loss   dfl_loss  Instances       Size\n"
     ]
    },
    {
     "name": "stderr",
     "output_type": "stream",
     "text": [
      "      11/25      3.93G      1.222       1.09     0.9218         90        704: 100%|██████████| 42/42 [00:53<00:00,  1.26s/it]\n",
      "                 Class     Images  Instances      Box(P          R      mAP50  mAP50-95): 100%|██████████| 6/6 [00:04<00:00,  1.49it/s]"
     ]
    },
    {
     "name": "stdout",
     "output_type": "stream",
     "text": [
      "                   all         95       1347      0.777      0.789      0.837      0.456\n"
     ]
    },
    {
     "name": "stderr",
     "output_type": "stream",
     "text": [
      "\n"
     ]
    },
    {
     "name": "stdout",
     "output_type": "stream",
     "text": [
      "\n",
      "      Epoch    GPU_mem   box_loss   cls_loss   dfl_loss  Instances       Size\n"
     ]
    },
    {
     "name": "stderr",
     "output_type": "stream",
     "text": [
      "      12/25      4.02G      1.204      1.076     0.9082         59        704: 100%|██████████| 42/42 [00:59<00:00,  1.41s/it]\n",
      "                 Class     Images  Instances      Box(P          R      mAP50  mAP50-95): 100%|██████████| 6/6 [00:07<00:00,  1.17s/it]"
     ]
    },
    {
     "name": "stdout",
     "output_type": "stream",
     "text": [
      "                   all         95       1347      0.798      0.788      0.833      0.558\n"
     ]
    },
    {
     "name": "stderr",
     "output_type": "stream",
     "text": [
      "\n"
     ]
    },
    {
     "name": "stdout",
     "output_type": "stream",
     "text": [
      "\n",
      "      Epoch    GPU_mem   box_loss   cls_loss   dfl_loss  Instances       Size\n"
     ]
    },
    {
     "name": "stderr",
     "output_type": "stream",
     "text": [
      "      13/25         4G      1.103     0.9727     0.8904         79        704: 100%|██████████| 42/42 [01:04<00:00,  1.55s/it]\n",
      "                 Class     Images  Instances      Box(P          R      mAP50  mAP50-95): 100%|██████████| 6/6 [00:04<00:00,  1.22it/s]"
     ]
    },
    {
     "name": "stdout",
     "output_type": "stream",
     "text": [
      "                   all         95       1347      0.773      0.797      0.838      0.551\n"
     ]
    },
    {
     "name": "stderr",
     "output_type": "stream",
     "text": [
      "\n"
     ]
    },
    {
     "name": "stdout",
     "output_type": "stream",
     "text": [
      "\n",
      "      Epoch    GPU_mem   box_loss   cls_loss   dfl_loss  Instances       Size\n"
     ]
    },
    {
     "name": "stderr",
     "output_type": "stream",
     "text": [
      "      14/25      3.94G      1.171     0.9421     0.8995        133        704: 100%|██████████| 42/42 [01:03<00:00,  1.50s/it]\n",
      "                 Class     Images  Instances      Box(P          R      mAP50  mAP50-95): 100%|██████████| 6/6 [00:05<00:00,  1.11it/s]"
     ]
    },
    {
     "name": "stdout",
     "output_type": "stream",
     "text": [
      "                   all         95       1347        0.8      0.834      0.872      0.574\n"
     ]
    },
    {
     "name": "stderr",
     "output_type": "stream",
     "text": [
      "\n"
     ]
    },
    {
     "name": "stdout",
     "output_type": "stream",
     "text": [
      "\n",
      "      Epoch    GPU_mem   box_loss   cls_loss   dfl_loss  Instances       Size\n"
     ]
    },
    {
     "name": "stderr",
     "output_type": "stream",
     "text": [
      "      15/25      3.92G      1.155     0.9103     0.8997        149        704: 100%|██████████| 42/42 [01:08<00:00,  1.63s/it]\n",
      "                 Class     Images  Instances      Box(P          R      mAP50  mAP50-95): 100%|██████████| 6/6 [00:05<00:00,  1.08it/s]"
     ]
    },
    {
     "name": "stdout",
     "output_type": "stream",
     "text": [
      "                   all         95       1347       0.78      0.825      0.862      0.537\n"
     ]
    },
    {
     "name": "stderr",
     "output_type": "stream",
     "text": [
      "\n"
     ]
    },
    {
     "name": "stdout",
     "output_type": "stream",
     "text": [
      "\n",
      "      Epoch    GPU_mem   box_loss   cls_loss   dfl_loss  Instances       Size\n"
     ]
    },
    {
     "name": "stderr",
     "output_type": "stream",
     "text": [
      "      16/25      3.99G      1.216     0.9599     0.9059         90        704: 100%|██████████| 42/42 [01:09<00:00,  1.66s/it]\n",
      "                 Class     Images  Instances      Box(P          R      mAP50  mAP50-95): 100%|██████████| 6/6 [00:06<00:00,  1.05s/it]"
     ]
    },
    {
     "name": "stdout",
     "output_type": "stream",
     "text": [
      "                   all         95       1347      0.798      0.776      0.841      0.453\n"
     ]
    },
    {
     "name": "stderr",
     "output_type": "stream",
     "text": [
      "\n"
     ]
    },
    {
     "name": "stdout",
     "output_type": "stream",
     "text": [
      "\n",
      "      Epoch    GPU_mem   box_loss   cls_loss   dfl_loss  Instances       Size\n"
     ]
    },
    {
     "name": "stderr",
     "output_type": "stream",
     "text": [
      "      17/25      3.97G      1.129     0.9339      0.887         97        704: 100%|██████████| 42/42 [01:14<00:00,  1.76s/it]\n",
      "                 Class     Images  Instances      Box(P          R      mAP50  mAP50-95): 100%|██████████| 6/6 [00:07<00:00,  1.31s/it]"
     ]
    },
    {
     "name": "stdout",
     "output_type": "stream",
     "text": [
      "                   all         95       1347      0.756      0.749      0.798      0.462\n"
     ]
    },
    {
     "name": "stderr",
     "output_type": "stream",
     "text": [
      "\n"
     ]
    },
    {
     "name": "stdout",
     "output_type": "stream",
     "text": [
      "\n",
      "      Epoch    GPU_mem   box_loss   cls_loss   dfl_loss  Instances       Size\n"
     ]
    },
    {
     "name": "stderr",
     "output_type": "stream",
     "text": [
      "      18/25      3.95G       1.11     0.8907      0.882        123        704: 100%|██████████| 42/42 [01:13<00:00,  1.75s/it]\n",
      "                 Class     Images  Instances      Box(P          R      mAP50  mAP50-95): 100%|██████████| 6/6 [00:03<00:00,  1.85it/s]"
     ]
    },
    {
     "name": "stdout",
     "output_type": "stream",
     "text": [
      "                   all         95       1347      0.771        0.8      0.829      0.596\n"
     ]
    },
    {
     "name": "stderr",
     "output_type": "stream",
     "text": [
      "\n"
     ]
    },
    {
     "name": "stdout",
     "output_type": "stream",
     "text": [
      "\n",
      "      Epoch    GPU_mem   box_loss   cls_loss   dfl_loss  Instances       Size\n"
     ]
    },
    {
     "name": "stderr",
     "output_type": "stream",
     "text": [
      "      19/25      3.96G      1.101     0.8507     0.8831         78        704: 100%|██████████| 42/42 [00:55<00:00,  1.33s/it]\n",
      "                 Class     Images  Instances      Box(P          R      mAP50  mAP50-95): 100%|██████████| 6/6 [00:05<00:00,  1.09it/s]"
     ]
    },
    {
     "name": "stdout",
     "output_type": "stream",
     "text": [
      "                   all         95       1347      0.768      0.815      0.853      0.495\n"
     ]
    },
    {
     "name": "stderr",
     "output_type": "stream",
     "text": [
      "\n"
     ]
    },
    {
     "name": "stdout",
     "output_type": "stream",
     "text": [
      "\n",
      "      Epoch    GPU_mem   box_loss   cls_loss   dfl_loss  Instances       Size\n"
     ]
    },
    {
     "name": "stderr",
     "output_type": "stream",
     "text": [
      "      20/25      3.95G      1.082     0.8779     0.8756         69        704: 100%|██████████| 42/42 [00:53<00:00,  1.28s/it]\n",
      "                 Class     Images  Instances      Box(P          R      mAP50  mAP50-95): 100%|██████████| 6/6 [00:03<00:00,  1.51it/s]"
     ]
    },
    {
     "name": "stdout",
     "output_type": "stream",
     "text": [
      "                   all         95       1347      0.779      0.816      0.847      0.466\n"
     ]
    },
    {
     "name": "stderr",
     "output_type": "stream",
     "text": [
      "\n"
     ]
    },
    {
     "name": "stdout",
     "output_type": "stream",
     "text": [
      "\n",
      "      Epoch    GPU_mem   box_loss   cls_loss   dfl_loss  Instances       Size\n"
     ]
    },
    {
     "name": "stderr",
     "output_type": "stream",
     "text": [
      "      21/25      3.96G       1.04     0.8533     0.8806         29        704: 100%|██████████| 42/42 [01:10<00:00,  1.67s/it]\n",
      "                 Class     Images  Instances      Box(P          R      mAP50  mAP50-95): 100%|██████████| 6/6 [00:05<00:00,  1.18it/s]"
     ]
    },
    {
     "name": "stdout",
     "output_type": "stream",
     "text": [
      "                   all         95       1347      0.794      0.824      0.864      0.429\n"
     ]
    },
    {
     "name": "stderr",
     "output_type": "stream",
     "text": [
      "\n"
     ]
    },
    {
     "name": "stdout",
     "output_type": "stream",
     "text": [
      "\n",
      "      Epoch    GPU_mem   box_loss   cls_loss   dfl_loss  Instances       Size\n"
     ]
    },
    {
     "name": "stderr",
     "output_type": "stream",
     "text": [
      "      22/25      4.05G      1.062     0.8453     0.8785        111        704: 100%|██████████| 42/42 [01:08<00:00,  1.62s/it]\n",
      "                 Class     Images  Instances      Box(P          R      mAP50  mAP50-95): 100%|██████████| 6/6 [00:08<00:00,  1.34s/it]"
     ]
    },
    {
     "name": "stdout",
     "output_type": "stream",
     "text": [
      "                   all         95       1347      0.803      0.817       0.87      0.487\n"
     ]
    },
    {
     "name": "stderr",
     "output_type": "stream",
     "text": [
      "\n"
     ]
    },
    {
     "name": "stdout",
     "output_type": "stream",
     "text": [
      "\n",
      "      Epoch    GPU_mem   box_loss   cls_loss   dfl_loss  Instances       Size\n"
     ]
    },
    {
     "name": "stderr",
     "output_type": "stream",
     "text": [
      "      23/25      3.95G     0.9726     0.7916     0.8511         83        704: 100%|██████████| 42/42 [00:43<00:00,  1.04s/it]\n",
      "                 Class     Images  Instances      Box(P          R      mAP50  mAP50-95): 100%|██████████| 6/6 [00:06<00:00,  1.03s/it]"
     ]
    },
    {
     "name": "stdout",
     "output_type": "stream",
     "text": [
      "                   all         95       1347      0.804      0.837      0.881      0.459\n"
     ]
    },
    {
     "name": "stderr",
     "output_type": "stream",
     "text": [
      "\n"
     ]
    },
    {
     "name": "stdout",
     "output_type": "stream",
     "text": [
      "\n",
      "      Epoch    GPU_mem   box_loss   cls_loss   dfl_loss  Instances       Size\n"
     ]
    },
    {
     "name": "stderr",
     "output_type": "stream",
     "text": [
      "      24/25      3.97G          1     0.7711     0.8688        112        704: 100%|██████████| 42/42 [01:10<00:00,  1.67s/it]\n",
      "                 Class     Images  Instances      Box(P          R      mAP50  mAP50-95): 100%|██████████| 6/6 [00:08<00:00,  1.41s/it]"
     ]
    },
    {
     "name": "stdout",
     "output_type": "stream",
     "text": [
      "                   all         95       1347       0.82      0.837      0.885      0.484\n"
     ]
    },
    {
     "name": "stderr",
     "output_type": "stream",
     "text": [
      "\n"
     ]
    },
    {
     "name": "stdout",
     "output_type": "stream",
     "text": [
      "\n",
      "      Epoch    GPU_mem   box_loss   cls_loss   dfl_loss  Instances       Size\n"
     ]
    },
    {
     "name": "stderr",
     "output_type": "stream",
     "text": [
      "      25/25      3.96G      0.928     0.7449     0.8541         72        704: 100%|██████████| 42/42 [00:43<00:00,  1.03s/it]\n",
      "                 Class     Images  Instances      Box(P          R      mAP50  mAP50-95): 100%|██████████| 6/6 [00:06<00:00,  1.04s/it]"
     ]
    },
    {
     "name": "stdout",
     "output_type": "stream",
     "text": [
      "                   all         95       1347      0.821      0.837      0.886      0.519\n"
     ]
    },
    {
     "name": "stderr",
     "output_type": "stream",
     "text": [
      "\n"
     ]
    },
    {
     "name": "stdout",
     "output_type": "stream",
     "text": [
      "\n",
      "25 epochs completed in 0.485 hours.\n",
      "Optimizer stripped from runs\\detect\\optuna_trial_74\\weights\\last.pt, 18.9MB\n"
     ]
    },
    {
     "name": "stderr",
     "output_type": "stream",
     "text": [
      "[I 2025-07-08 14:29:04,214] Trial 7 finished with value: 0.5193207618025201 and parameters: {'lr0': 0.0015304852121831463, 'lrf': 0.001112885317490573, 'momentum': 0.8911317277852158, 'weight_decay': 0.00014808945119975197, 'optimizer': 'AdamW'}. Best is trial 4 with value: 0.6774234057479595.\n"
     ]
    },
    {
     "name": "stdout",
     "output_type": "stream",
     "text": [
      "New https://pypi.org/project/ultralytics/8.3.163 available  Update with 'pip install -U ultralytics'\n",
      "Ultralytics 8.3.81  Python-3.11.11 torch-2.6.0+cu126 CUDA:0 (NVIDIA GeForce RTX 3050 Laptop GPU, 4096MiB)\n",
      "\u001b[34m\u001b[1mengine\\trainer: \u001b[0mtask=detect, mode=train, model=yolo_models/yolo12s.pt, data=cells.yaml, epochs=25, time=None, patience=100, batch=8, imgsz=704, save=False, save_period=-1, cache=False, device=None, workers=8, project=None, name=optuna_trial_83, exist_ok=False, pretrained=True, optimizer=AdamW, verbose=False, seed=0, deterministic=True, single_cls=False, rect=False, cos_lr=False, close_mosaic=0, resume=False, amp=True, fraction=1.0, profile=False, freeze=None, multi_scale=False, overlap_mask=True, mask_ratio=4, dropout=0.0, val=True, split=val, save_json=False, save_hybrid=False, conf=None, iou=0.7, max_det=300, half=False, dnn=False, plots=True, source=None, vid_stride=1, stream_buffer=False, visualize=False, augment=False, agnostic_nms=False, classes=None, retina_masks=False, embed=None, show=False, save_frames=False, save_txt=False, save_conf=False, save_crop=False, show_labels=True, show_conf=True, show_boxes=True, line_width=None, format=torchscript, keras=False, optimize=False, int8=False, dynamic=False, simplify=True, opset=None, workspace=None, nms=False, lr0=0.004138040112561018, lrf=0.0020165721691808598, momentum=0.8146508171009577, weight_decay=0.0004833180632488466, warmup_epochs=5, warmup_momentum=0.75, warmup_bias_lr=0.1, box=7.5, cls=0.5, dfl=1.5, pose=12.0, kobj=1.0, nbs=64, hsv_h=0.015, hsv_s=0.7, hsv_v=0.4, degrees=45, translate=0.1, scale=0.5, shear=0.0, perspective=0.0, flipud=0.5, fliplr=0.5, bgr=0.0, mosaic=0, mixup=0.0, copy_paste=0.0, copy_paste_mode=flip, auto_augment=randaugment, erasing=0.4, crop_fraction=1.0, cfg=None, tracker=botsort.yaml, save_dir=runs\\detect\\optuna_trial_83\n",
      "Overriding model.yaml nc=80 with nc=1\n",
      "\n",
      "                   from  n    params  module                                       arguments                     \n",
      "  0                  -1  1       928  ultralytics.nn.modules.conv.Conv             [3, 32, 3, 2]                 \n",
      "  1                  -1  1     18560  ultralytics.nn.modules.conv.Conv             [32, 64, 3, 2]                \n",
      "  2                  -1  1     26080  ultralytics.nn.modules.block.C3k2            [64, 128, 1, False, 0.25]     \n",
      "  3                  -1  1    147712  ultralytics.nn.modules.conv.Conv             [128, 128, 3, 2]              \n",
      "  4                  -1  1    103360  ultralytics.nn.modules.block.C3k2            [128, 256, 1, False, 0.25]    \n",
      "  5                  -1  1    590336  ultralytics.nn.modules.conv.Conv             [256, 256, 3, 2]              \n",
      "  6                  -1  2    689408  ultralytics.nn.modules.block.A2C2f           [256, 256, 2, True, 4]        \n",
      "  7                  -1  1   1180672  ultralytics.nn.modules.conv.Conv             [256, 512, 3, 2]              \n",
      "  8                  -1  2   2689536  ultralytics.nn.modules.block.A2C2f           [512, 512, 2, True, 1]        \n",
      "  9                  -1  1         0  torch.nn.modules.upsampling.Upsample         [None, 2, 'nearest']          \n",
      " 10             [-1, 6]  1         0  ultralytics.nn.modules.conv.Concat           [1]                           \n",
      " 11                  -1  1    345856  ultralytics.nn.modules.block.A2C2f           [768, 256, 1, False, -1]      \n",
      " 12                  -1  1         0  torch.nn.modules.upsampling.Upsample         [None, 2, 'nearest']          \n",
      " 13             [-1, 4]  1         0  ultralytics.nn.modules.conv.Concat           [1]                           \n",
      " 14                  -1  1     95104  ultralytics.nn.modules.block.A2C2f           [512, 128, 1, False, -1]      \n",
      " 15                  -1  1    147712  ultralytics.nn.modules.conv.Conv             [128, 128, 3, 2]              \n",
      " 16            [-1, 11]  1         0  ultralytics.nn.modules.conv.Concat           [1]                           \n",
      " 17                  -1  1    296704  ultralytics.nn.modules.block.A2C2f           [384, 256, 1, False, -1]      \n",
      " 18                  -1  1    590336  ultralytics.nn.modules.conv.Conv             [256, 256, 3, 2]              \n",
      " 19             [-1, 8]  1         0  ultralytics.nn.modules.conv.Concat           [1]                           \n",
      " 20                  -1  1   1511424  ultralytics.nn.modules.block.C3k2            [768, 512, 1, True]           \n",
      " 21        [14, 17, 20]  1    819795  ultralytics.nn.modules.head.Detect           [1, [128, 256, 512]]          \n",
      "YOLOv12s summary: 272 layers, 9,253,523 parameters, 9,253,507 gradients, 21.5 GFLOPs\n",
      "\n",
      "Transferred 685/691 items from pretrained weights\n",
      "Freezing layer 'model.21.dfl.conv.weight'\n",
      "\u001b[34m\u001b[1mAMP: \u001b[0mrunning Automatic Mixed Precision (AMP) checks...\n",
      "\u001b[34m\u001b[1mAMP: \u001b[0mchecks passed \n"
     ]
    },
    {
     "name": "stderr",
     "output_type": "stream",
     "text": [
      "\u001b[34m\u001b[1mtrain: \u001b[0mScanning C:\\Users\\mini7\\Desktop\\Master\\Materias\\TFM\\Laura\\2025_MURIA_Aitor García Blanco\\03.Datasets\\YOLO_Datasets\\split\\train\\labels.cache... 336 images, 0 backgrounds, 0 corrupt: 100%|██████████| 336/336 [00:00<?, ?it/s]\n",
      "\u001b[34m\u001b[1mval: \u001b[0mScanning C:\\Users\\mini7\\Desktop\\Master\\Materias\\TFM\\Laura\\2025_MURIA_Aitor García Blanco\\03.Datasets\\YOLO_Datasets\\split\\val\\labels.cache... 95 images, 0 backgrounds, 0 corrupt: 100%|██████████| 95/95 [00:00<?, ?it/s]\n"
     ]
    },
    {
     "name": "stdout",
     "output_type": "stream",
     "text": [
      "Plotting labels to runs\\detect\\optuna_trial_83\\labels.jpg... \n",
      "\u001b[34m\u001b[1moptimizer:\u001b[0m AdamW(lr=0.004138040112561018, momentum=0.8146508171009577) with parameter groups 113 weight(decay=0.0), 120 weight(decay=0.0004833180632488466), 119 bias(decay=0.0)\n",
      "Image sizes 704 train, 704 val\n",
      "Using 8 dataloader workers\n",
      "Logging results to \u001b[1mruns\\detect\\optuna_trial_83\u001b[0m\n",
      "Starting training for 25 epochs...\n",
      "\n",
      "      Epoch    GPU_mem   box_loss   cls_loss   dfl_loss  Instances       Size\n"
     ]
    },
    {
     "name": "stderr",
     "output_type": "stream",
     "text": [
      "       1/25      4.02G      2.076       2.55      1.225        148        704: 100%|██████████| 42/42 [01:21<00:00,  1.93s/it]\n",
      "                 Class     Images  Instances      Box(P          R      mAP50  mAP50-95): 100%|██████████| 6/6 [00:04<00:00,  1.23it/s]"
     ]
    },
    {
     "name": "stdout",
     "output_type": "stream",
     "text": [
      "                   all         95       1347     0.0571     0.0839     0.0123    0.00275\n"
     ]
    },
    {
     "name": "stderr",
     "output_type": "stream",
     "text": [
      "\n"
     ]
    },
    {
     "name": "stdout",
     "output_type": "stream",
     "text": [
      "\n",
      "      Epoch    GPU_mem   box_loss   cls_loss   dfl_loss  Instances       Size\n"
     ]
    },
    {
     "name": "stderr",
     "output_type": "stream",
     "text": [
      "       2/25      3.97G      1.821      1.519       1.07         95        704: 100%|██████████| 42/42 [01:07<00:00,  1.60s/it]\n",
      "                 Class     Images  Instances      Box(P          R      mAP50  mAP50-95): 100%|██████████| 6/6 [00:05<00:00,  1.14it/s]"
     ]
    },
    {
     "name": "stdout",
     "output_type": "stream",
     "text": [
      "                   all         95       1347     0.0123      0.168    0.00675    0.00235\n"
     ]
    },
    {
     "name": "stderr",
     "output_type": "stream",
     "text": [
      "\n"
     ]
    },
    {
     "name": "stdout",
     "output_type": "stream",
     "text": [
      "\n",
      "      Epoch    GPU_mem   box_loss   cls_loss   dfl_loss  Instances       Size\n"
     ]
    },
    {
     "name": "stderr",
     "output_type": "stream",
     "text": [
      "       3/25      3.94G      1.667      1.416      1.033         22        704: 100%|██████████| 42/42 [00:57<00:00,  1.38s/it]\n",
      "                 Class     Images  Instances      Box(P          R      mAP50  mAP50-95): 100%|██████████| 6/6 [00:07<00:00,  1.26s/it]"
     ]
    },
    {
     "name": "stdout",
     "output_type": "stream",
     "text": [
      "                   all         95       1347   0.000328    0.00668   0.000164   6.74e-05\n"
     ]
    },
    {
     "name": "stderr",
     "output_type": "stream",
     "text": [
      "\n"
     ]
    },
    {
     "name": "stdout",
     "output_type": "stream",
     "text": [
      "\n",
      "      Epoch    GPU_mem   box_loss   cls_loss   dfl_loss  Instances       Size\n"
     ]
    },
    {
     "name": "stderr",
     "output_type": "stream",
     "text": [
      "       4/25      3.99G      1.819      1.618      1.063        122        704: 100%|██████████| 42/42 [01:15<00:00,  1.79s/it]\n",
      "                 Class     Images  Instances      Box(P          R      mAP50  mAP50-95): 100%|██████████| 6/6 [00:05<00:00,  1.16it/s]"
     ]
    },
    {
     "name": "stdout",
     "output_type": "stream",
     "text": [
      "                   all         95       1347       0.49      0.578      0.536      0.215\n"
     ]
    },
    {
     "name": "stderr",
     "output_type": "stream",
     "text": [
      "\n"
     ]
    },
    {
     "name": "stdout",
     "output_type": "stream",
     "text": [
      "\n",
      "      Epoch    GPU_mem   box_loss   cls_loss   dfl_loss  Instances       Size\n"
     ]
    },
    {
     "name": "stderr",
     "output_type": "stream",
     "text": [
      "       5/25      3.96G      1.627       1.43      1.022         51        704: 100%|██████████| 42/42 [01:12<00:00,  1.73s/it]\n",
      "                 Class     Images  Instances      Box(P          R      mAP50  mAP50-95): 100%|██████████| 6/6 [00:04<00:00,  1.22it/s]"
     ]
    },
    {
     "name": "stdout",
     "output_type": "stream",
     "text": [
      "                   all         95       1347      0.602      0.672      0.627      0.272\n"
     ]
    },
    {
     "name": "stderr",
     "output_type": "stream",
     "text": [
      "\n"
     ]
    },
    {
     "name": "stdout",
     "output_type": "stream",
     "text": [
      "\n",
      "      Epoch    GPU_mem   box_loss   cls_loss   dfl_loss  Instances       Size\n"
     ]
    },
    {
     "name": "stderr",
     "output_type": "stream",
     "text": [
      "       6/25      3.95G      1.725      1.508      1.047         72        704: 100%|██████████| 42/42 [01:00<00:00,  1.44s/it]\n",
      "                 Class     Images  Instances      Box(P          R      mAP50  mAP50-95): 100%|██████████| 6/6 [00:04<00:00,  1.33it/s]"
     ]
    },
    {
     "name": "stdout",
     "output_type": "stream",
     "text": [
      "                   all         95       1347      0.148      0.222     0.0595       0.01\n"
     ]
    },
    {
     "name": "stderr",
     "output_type": "stream",
     "text": [
      "\n"
     ]
    },
    {
     "name": "stdout",
     "output_type": "stream",
     "text": [
      "\n",
      "      Epoch    GPU_mem   box_loss   cls_loss   dfl_loss  Instances       Size\n"
     ]
    },
    {
     "name": "stderr",
     "output_type": "stream",
     "text": [
      "       7/25      3.96G      1.654      1.586      1.025        101        704: 100%|██████████| 42/42 [01:07<00:00,  1.60s/it]\n",
      "                 Class     Images  Instances      Box(P          R      mAP50  mAP50-95): 100%|██████████| 6/6 [00:07<00:00,  1.26s/it]"
     ]
    },
    {
     "name": "stdout",
     "output_type": "stream",
     "text": [
      "                   all         95       1347      0.312       0.32      0.138      0.041\n"
     ]
    },
    {
     "name": "stderr",
     "output_type": "stream",
     "text": [
      "\n"
     ]
    },
    {
     "name": "stdout",
     "output_type": "stream",
     "text": [
      "\n",
      "      Epoch    GPU_mem   box_loss   cls_loss   dfl_loss  Instances       Size\n"
     ]
    },
    {
     "name": "stderr",
     "output_type": "stream",
     "text": [
      "       8/25      3.95G      1.527      1.385     0.9937        111        704: 100%|██████████| 42/42 [01:02<00:00,  1.48s/it]\n",
      "                 Class     Images  Instances      Box(P          R      mAP50  mAP50-95): 100%|██████████| 6/6 [00:07<00:00,  1.30s/it]"
     ]
    },
    {
     "name": "stdout",
     "output_type": "stream",
     "text": [
      "                   all         95       1347       0.43      0.567       0.32      0.087\n"
     ]
    },
    {
     "name": "stderr",
     "output_type": "stream",
     "text": [
      "\n"
     ]
    },
    {
     "name": "stdout",
     "output_type": "stream",
     "text": [
      "\n",
      "      Epoch    GPU_mem   box_loss   cls_loss   dfl_loss  Instances       Size\n"
     ]
    },
    {
     "name": "stderr",
     "output_type": "stream",
     "text": [
      "       9/25      3.97G      1.481      1.252     0.9733         83        704: 100%|██████████| 42/42 [01:06<00:00,  1.58s/it]\n",
      "                 Class     Images  Instances      Box(P          R      mAP50  mAP50-95): 100%|██████████| 6/6 [00:06<00:00,  1.06s/it]"
     ]
    },
    {
     "name": "stdout",
     "output_type": "stream",
     "text": [
      "                   all         95       1347      0.694      0.751      0.733      0.197\n"
     ]
    },
    {
     "name": "stderr",
     "output_type": "stream",
     "text": [
      "\n"
     ]
    },
    {
     "name": "stdout",
     "output_type": "stream",
     "text": [
      "\n",
      "      Epoch    GPU_mem   box_loss   cls_loss   dfl_loss  Instances       Size\n"
     ]
    },
    {
     "name": "stderr",
     "output_type": "stream",
     "text": [
      "      10/25      3.99G      1.442      1.193      0.964        101        704: 100%|██████████| 42/42 [01:00<00:00,  1.44s/it]\n",
      "                 Class     Images  Instances      Box(P          R      mAP50  mAP50-95): 100%|██████████| 6/6 [00:05<00:00,  1.14it/s]"
     ]
    },
    {
     "name": "stdout",
     "output_type": "stream",
     "text": [
      "                   all         95       1347      0.576      0.614      0.482      0.101\n"
     ]
    },
    {
     "name": "stderr",
     "output_type": "stream",
     "text": [
      "\n"
     ]
    },
    {
     "name": "stdout",
     "output_type": "stream",
     "text": [
      "\n",
      "      Epoch    GPU_mem   box_loss   cls_loss   dfl_loss  Instances       Size\n"
     ]
    },
    {
     "name": "stderr",
     "output_type": "stream",
     "text": [
      "      11/25      3.93G      1.351       1.23      0.955         90        704: 100%|██████████| 42/42 [01:07<00:00,  1.60s/it]\n",
      "                 Class     Images  Instances      Box(P          R      mAP50  mAP50-95): 100%|██████████| 6/6 [00:05<00:00,  1.16it/s]"
     ]
    },
    {
     "name": "stdout",
     "output_type": "stream",
     "text": [
      "                   all         95       1347      0.687      0.759      0.746      0.172\n"
     ]
    },
    {
     "name": "stderr",
     "output_type": "stream",
     "text": [
      "\n"
     ]
    },
    {
     "name": "stdout",
     "output_type": "stream",
     "text": [
      "\n",
      "      Epoch    GPU_mem   box_loss   cls_loss   dfl_loss  Instances       Size\n"
     ]
    },
    {
     "name": "stderr",
     "output_type": "stream",
     "text": [
      "      12/25      4.04G      1.377      1.274     0.9546         59        704: 100%|██████████| 42/42 [01:00<00:00,  1.44s/it]\n",
      "                 Class     Images  Instances      Box(P          R      mAP50  mAP50-95): 100%|██████████| 6/6 [00:05<00:00,  1.08it/s]"
     ]
    },
    {
     "name": "stdout",
     "output_type": "stream",
     "text": [
      "                   all         95       1347      0.745      0.726      0.764      0.236\n"
     ]
    },
    {
     "name": "stderr",
     "output_type": "stream",
     "text": [
      "\n"
     ]
    },
    {
     "name": "stdout",
     "output_type": "stream",
     "text": [
      "\n",
      "      Epoch    GPU_mem   box_loss   cls_loss   dfl_loss  Instances       Size\n"
     ]
    },
    {
     "name": "stderr",
     "output_type": "stream",
     "text": [
      "      13/25         4G      1.326      1.238     0.9414         79        704: 100%|██████████| 42/42 [00:59<00:00,  1.41s/it]\n",
      "                 Class     Images  Instances      Box(P          R      mAP50  mAP50-95): 100%|██████████| 6/6 [00:07<00:00,  1.32s/it]"
     ]
    },
    {
     "name": "stdout",
     "output_type": "stream",
     "text": [
      "                   all         95       1347       0.74      0.772       0.78      0.321\n"
     ]
    },
    {
     "name": "stderr",
     "output_type": "stream",
     "text": [
      "\n"
     ]
    },
    {
     "name": "stdout",
     "output_type": "stream",
     "text": [
      "\n",
      "      Epoch    GPU_mem   box_loss   cls_loss   dfl_loss  Instances       Size\n"
     ]
    },
    {
     "name": "stderr",
     "output_type": "stream",
     "text": [
      "      14/25      3.96G      1.449      1.257     0.9603        133        704: 100%|██████████| 42/42 [00:49<00:00,  1.19s/it]\n",
      "                 Class     Images  Instances      Box(P          R      mAP50  mAP50-95): 100%|██████████| 6/6 [00:07<00:00,  1.23s/it]"
     ]
    },
    {
     "name": "stdout",
     "output_type": "stream",
     "text": [
      "                   all         95       1347      0.735      0.792      0.785      0.436\n"
     ]
    },
    {
     "name": "stderr",
     "output_type": "stream",
     "text": [
      "\n"
     ]
    },
    {
     "name": "stdout",
     "output_type": "stream",
     "text": [
      "\n",
      "      Epoch    GPU_mem   box_loss   cls_loss   dfl_loss  Instances       Size\n"
     ]
    },
    {
     "name": "stderr",
     "output_type": "stream",
     "text": [
      "      15/25      3.93G        1.3      1.203      0.934        149        704: 100%|██████████| 42/42 [01:10<00:00,  1.67s/it]\n",
      "                 Class     Images  Instances      Box(P          R      mAP50  mAP50-95): 100%|██████████| 6/6 [00:05<00:00,  1.08it/s]"
     ]
    },
    {
     "name": "stdout",
     "output_type": "stream",
     "text": [
      "                   all         95       1347      0.747      0.785        0.8      0.245\n"
     ]
    },
    {
     "name": "stderr",
     "output_type": "stream",
     "text": [
      "\n"
     ]
    },
    {
     "name": "stdout",
     "output_type": "stream",
     "text": [
      "\n",
      "      Epoch    GPU_mem   box_loss   cls_loss   dfl_loss  Instances       Size\n"
     ]
    },
    {
     "name": "stderr",
     "output_type": "stream",
     "text": [
      "      16/25      3.99G      1.289      1.124     0.9328         90        704: 100%|██████████| 42/42 [01:01<00:00,  1.47s/it]\n",
      "                 Class     Images  Instances      Box(P          R      mAP50  mAP50-95): 100%|██████████| 6/6 [00:06<00:00,  1.04s/it]"
     ]
    },
    {
     "name": "stdout",
     "output_type": "stream",
     "text": [
      "                   all         95       1347      0.748      0.768      0.792      0.247\n"
     ]
    },
    {
     "name": "stderr",
     "output_type": "stream",
     "text": [
      "\n"
     ]
    },
    {
     "name": "stdout",
     "output_type": "stream",
     "text": [
      "\n",
      "      Epoch    GPU_mem   box_loss   cls_loss   dfl_loss  Instances       Size\n"
     ]
    },
    {
     "name": "stderr",
     "output_type": "stream",
     "text": [
      "      17/25      3.96G      1.314      1.132     0.9321         97        704: 100%|██████████| 42/42 [00:40<00:00,  1.04it/s]\n",
      "                 Class     Images  Instances      Box(P          R      mAP50  mAP50-95): 100%|██████████| 6/6 [00:10<00:00,  1.78s/it]"
     ]
    },
    {
     "name": "stdout",
     "output_type": "stream",
     "text": [
      "                   all         95       1347      0.787      0.773      0.811      0.331\n"
     ]
    },
    {
     "name": "stderr",
     "output_type": "stream",
     "text": [
      "\n"
     ]
    },
    {
     "name": "stdout",
     "output_type": "stream",
     "text": [
      "\n",
      "      Epoch    GPU_mem   box_loss   cls_loss   dfl_loss  Instances       Size\n"
     ]
    },
    {
     "name": "stderr",
     "output_type": "stream",
     "text": [
      "      18/25      3.94G      1.301      1.131     0.9261        123        704: 100%|██████████| 42/42 [01:12<00:00,  1.73s/it]\n",
      "                 Class     Images  Instances      Box(P          R      mAP50  mAP50-95): 100%|██████████| 6/6 [00:04<00:00,  1.36it/s]"
     ]
    },
    {
     "name": "stdout",
     "output_type": "stream",
     "text": [
      "                   all         95       1347      0.719      0.729       0.72       0.22\n"
     ]
    },
    {
     "name": "stderr",
     "output_type": "stream",
     "text": [
      "\n"
     ]
    },
    {
     "name": "stdout",
     "output_type": "stream",
     "text": [
      "\n",
      "      Epoch    GPU_mem   box_loss   cls_loss   dfl_loss  Instances       Size\n"
     ]
    },
    {
     "name": "stderr",
     "output_type": "stream",
     "text": [
      "      19/25      3.96G      1.252      1.112      0.919         78        704: 100%|██████████| 42/42 [01:11<00:00,  1.70s/it]\n",
      "                 Class     Images  Instances      Box(P          R      mAP50  mAP50-95): 100%|██████████| 6/6 [00:03<00:00,  1.64it/s]"
     ]
    },
    {
     "name": "stdout",
     "output_type": "stream",
     "text": [
      "                   all         95       1347      0.763      0.743      0.801      0.219\n"
     ]
    },
    {
     "name": "stderr",
     "output_type": "stream",
     "text": [
      "\n"
     ]
    },
    {
     "name": "stdout",
     "output_type": "stream",
     "text": [
      "\n",
      "      Epoch    GPU_mem   box_loss   cls_loss   dfl_loss  Instances       Size\n"
     ]
    },
    {
     "name": "stderr",
     "output_type": "stream",
     "text": [
      "      20/25      3.93G      1.298      1.166     0.9199         69        704: 100%|██████████| 42/42 [00:43<00:00,  1.04s/it]\n",
      "                 Class     Images  Instances      Box(P          R      mAP50  mAP50-95): 100%|██████████| 6/6 [00:04<00:00,  1.22it/s]"
     ]
    },
    {
     "name": "stdout",
     "output_type": "stream",
     "text": [
      "                   all         95       1347      0.753      0.734      0.756       0.38\n"
     ]
    },
    {
     "name": "stderr",
     "output_type": "stream",
     "text": [
      "\n"
     ]
    },
    {
     "name": "stdout",
     "output_type": "stream",
     "text": [
      "\n",
      "      Epoch    GPU_mem   box_loss   cls_loss   dfl_loss  Instances       Size\n"
     ]
    },
    {
     "name": "stderr",
     "output_type": "stream",
     "text": [
      "      21/25      3.96G      1.203      1.176     0.9093         29        704: 100%|██████████| 42/42 [00:56<00:00,  1.35s/it]\n",
      "                 Class     Images  Instances      Box(P          R      mAP50  mAP50-95): 100%|██████████| 6/6 [00:07<00:00,  1.25s/it]"
     ]
    },
    {
     "name": "stdout",
     "output_type": "stream",
     "text": [
      "                   all         95       1347      0.759      0.746      0.761      0.195\n"
     ]
    },
    {
     "name": "stderr",
     "output_type": "stream",
     "text": [
      "\n"
     ]
    },
    {
     "name": "stdout",
     "output_type": "stream",
     "text": [
      "\n",
      "      Epoch    GPU_mem   box_loss   cls_loss   dfl_loss  Instances       Size\n"
     ]
    },
    {
     "name": "stderr",
     "output_type": "stream",
     "text": [
      "      22/25      4.05G      1.275      1.156      0.922        111        704: 100%|██████████| 42/42 [01:09<00:00,  1.65s/it]\n",
      "                 Class     Images  Instances      Box(P          R      mAP50  mAP50-95): 100%|██████████| 6/6 [00:07<00:00,  1.33s/it]"
     ]
    },
    {
     "name": "stdout",
     "output_type": "stream",
     "text": [
      "                   all         95       1347      0.746      0.778      0.772       0.33\n"
     ]
    },
    {
     "name": "stderr",
     "output_type": "stream",
     "text": [
      "\n"
     ]
    },
    {
     "name": "stdout",
     "output_type": "stream",
     "text": [
      "\n",
      "      Epoch    GPU_mem   box_loss   cls_loss   dfl_loss  Instances       Size\n"
     ]
    },
    {
     "name": "stderr",
     "output_type": "stream",
     "text": [
      "      23/25      3.95G      1.167      1.066     0.8868         83        704: 100%|██████████| 42/42 [01:14<00:00,  1.76s/it]\n",
      "                 Class     Images  Instances      Box(P          R      mAP50  mAP50-95): 100%|██████████| 6/6 [00:04<00:00,  1.44it/s]"
     ]
    },
    {
     "name": "stdout",
     "output_type": "stream",
     "text": [
      "                   all         95       1347       0.77      0.771      0.788      0.242\n"
     ]
    },
    {
     "name": "stderr",
     "output_type": "stream",
     "text": [
      "\n"
     ]
    },
    {
     "name": "stdout",
     "output_type": "stream",
     "text": [
      "\n",
      "      Epoch    GPU_mem   box_loss   cls_loss   dfl_loss  Instances       Size\n"
     ]
    },
    {
     "name": "stderr",
     "output_type": "stream",
     "text": [
      "      24/25      3.99G      1.156       1.02     0.9005        112        704: 100%|██████████| 42/42 [00:43<00:00,  1.05s/it]\n",
      "                 Class     Images  Instances      Box(P          R      mAP50  mAP50-95): 100%|██████████| 6/6 [00:07<00:00,  1.29s/it]"
     ]
    },
    {
     "name": "stdout",
     "output_type": "stream",
     "text": [
      "                   all         95       1347      0.756      0.756      0.764      0.207\n"
     ]
    },
    {
     "name": "stderr",
     "output_type": "stream",
     "text": [
      "\n"
     ]
    },
    {
     "name": "stdout",
     "output_type": "stream",
     "text": [
      "\n",
      "      Epoch    GPU_mem   box_loss   cls_loss   dfl_loss  Instances       Size\n"
     ]
    },
    {
     "name": "stderr",
     "output_type": "stream",
     "text": [
      "      25/25      3.97G      1.091     0.9798     0.8838         72        704: 100%|██████████| 42/42 [00:46<00:00,  1.11s/it]\n",
      "                 Class     Images  Instances      Box(P          R      mAP50  mAP50-95): 100%|██████████| 6/6 [00:06<00:00,  1.05s/it]"
     ]
    },
    {
     "name": "stdout",
     "output_type": "stream",
     "text": [
      "                   all         95       1347      0.754      0.782      0.789      0.224\n"
     ]
    },
    {
     "name": "stderr",
     "output_type": "stream",
     "text": [
      "\n"
     ]
    },
    {
     "name": "stdout",
     "output_type": "stream",
     "text": [
      "\n",
      "25 epochs completed in 0.478 hours.\n",
      "Optimizer stripped from runs\\detect\\optuna_trial_83\\weights\\last.pt, 18.9MB\n"
     ]
    },
    {
     "name": "stderr",
     "output_type": "stream",
     "text": [
      "[I 2025-07-08 14:59:08,096] Trial 8 finished with value: 0.22426229817161808 and parameters: {'lr0': 0.004138040112561018, 'lrf': 0.0020165721691808598, 'momentum': 0.8146508171009577, 'weight_decay': 0.0004833180632488466, 'optimizer': 'AdamW'}. Best is trial 4 with value: 0.6774234057479595.\n"
     ]
    },
    {
     "name": "stdout",
     "output_type": "stream",
     "text": [
      "New https://pypi.org/project/ultralytics/8.3.163 available  Update with 'pip install -U ultralytics'\n",
      "Ultralytics 8.3.81  Python-3.11.11 torch-2.6.0+cu126 CUDA:0 (NVIDIA GeForce RTX 3050 Laptop GPU, 4096MiB)\n",
      "\u001b[34m\u001b[1mengine\\trainer: \u001b[0mtask=detect, mode=train, model=yolo_models/yolo12s.pt, data=cells.yaml, epochs=25, time=None, patience=100, batch=8, imgsz=704, save=False, save_period=-1, cache=False, device=None, workers=8, project=None, name=optuna_trial_92, exist_ok=False, pretrained=True, optimizer=AdamW, verbose=False, seed=0, deterministic=True, single_cls=False, rect=False, cos_lr=False, close_mosaic=0, resume=False, amp=True, fraction=1.0, profile=False, freeze=None, multi_scale=False, overlap_mask=True, mask_ratio=4, dropout=0.0, val=True, split=val, save_json=False, save_hybrid=False, conf=None, iou=0.7, max_det=300, half=False, dnn=False, plots=True, source=None, vid_stride=1, stream_buffer=False, visualize=False, augment=False, agnostic_nms=False, classes=None, retina_masks=False, embed=None, show=False, save_frames=False, save_txt=False, save_conf=False, save_crop=False, show_labels=True, show_conf=True, show_boxes=True, line_width=None, format=torchscript, keras=False, optimize=False, int8=False, dynamic=False, simplify=True, opset=None, workspace=None, nms=False, lr0=0.00011715937392307068, lrf=0.008115595675970505, momentum=0.8388169972400026, weight_decay=0.0004597505784732166, warmup_epochs=5, warmup_momentum=0.75, warmup_bias_lr=0.1, box=7.5, cls=0.5, dfl=1.5, pose=12.0, kobj=1.0, nbs=64, hsv_h=0.015, hsv_s=0.7, hsv_v=0.4, degrees=45, translate=0.1, scale=0.5, shear=0.0, perspective=0.0, flipud=0.5, fliplr=0.5, bgr=0.0, mosaic=0, mixup=0.0, copy_paste=0.0, copy_paste_mode=flip, auto_augment=randaugment, erasing=0.4, crop_fraction=1.0, cfg=None, tracker=botsort.yaml, save_dir=runs\\detect\\optuna_trial_92\n",
      "Overriding model.yaml nc=80 with nc=1\n",
      "\n",
      "                   from  n    params  module                                       arguments                     \n",
      "  0                  -1  1       928  ultralytics.nn.modules.conv.Conv             [3, 32, 3, 2]                 \n",
      "  1                  -1  1     18560  ultralytics.nn.modules.conv.Conv             [32, 64, 3, 2]                \n",
      "  2                  -1  1     26080  ultralytics.nn.modules.block.C3k2            [64, 128, 1, False, 0.25]     \n",
      "  3                  -1  1    147712  ultralytics.nn.modules.conv.Conv             [128, 128, 3, 2]              \n",
      "  4                  -1  1    103360  ultralytics.nn.modules.block.C3k2            [128, 256, 1, False, 0.25]    \n",
      "  5                  -1  1    590336  ultralytics.nn.modules.conv.Conv             [256, 256, 3, 2]              \n",
      "  6                  -1  2    689408  ultralytics.nn.modules.block.A2C2f           [256, 256, 2, True, 4]        \n",
      "  7                  -1  1   1180672  ultralytics.nn.modules.conv.Conv             [256, 512, 3, 2]              \n",
      "  8                  -1  2   2689536  ultralytics.nn.modules.block.A2C2f           [512, 512, 2, True, 1]        \n",
      "  9                  -1  1         0  torch.nn.modules.upsampling.Upsample         [None, 2, 'nearest']          \n",
      " 10             [-1, 6]  1         0  ultralytics.nn.modules.conv.Concat           [1]                           \n",
      " 11                  -1  1    345856  ultralytics.nn.modules.block.A2C2f           [768, 256, 1, False, -1]      \n",
      " 12                  -1  1         0  torch.nn.modules.upsampling.Upsample         [None, 2, 'nearest']          \n",
      " 13             [-1, 4]  1         0  ultralytics.nn.modules.conv.Concat           [1]                           \n",
      " 14                  -1  1     95104  ultralytics.nn.modules.block.A2C2f           [512, 128, 1, False, -1]      \n",
      " 15                  -1  1    147712  ultralytics.nn.modules.conv.Conv             [128, 128, 3, 2]              \n",
      " 16            [-1, 11]  1         0  ultralytics.nn.modules.conv.Concat           [1]                           \n",
      " 17                  -1  1    296704  ultralytics.nn.modules.block.A2C2f           [384, 256, 1, False, -1]      \n",
      " 18                  -1  1    590336  ultralytics.nn.modules.conv.Conv             [256, 256, 3, 2]              \n",
      " 19             [-1, 8]  1         0  ultralytics.nn.modules.conv.Concat           [1]                           \n",
      " 20                  -1  1   1511424  ultralytics.nn.modules.block.C3k2            [768, 512, 1, True]           \n",
      " 21        [14, 17, 20]  1    819795  ultralytics.nn.modules.head.Detect           [1, [128, 256, 512]]          \n",
      "YOLOv12s summary: 272 layers, 9,253,523 parameters, 9,253,507 gradients, 21.5 GFLOPs\n",
      "\n",
      "Transferred 685/691 items from pretrained weights\n",
      "Freezing layer 'model.21.dfl.conv.weight'\n",
      "\u001b[34m\u001b[1mAMP: \u001b[0mrunning Automatic Mixed Precision (AMP) checks...\n",
      "\u001b[34m\u001b[1mAMP: \u001b[0mchecks passed \n"
     ]
    },
    {
     "name": "stderr",
     "output_type": "stream",
     "text": [
      "\u001b[34m\u001b[1mtrain: \u001b[0mScanning C:\\Users\\mini7\\Desktop\\Master\\Materias\\TFM\\Laura\\2025_MURIA_Aitor García Blanco\\03.Datasets\\YOLO_Datasets\\split\\train\\labels.cache... 336 images, 0 backgrounds, 0 corrupt: 100%|██████████| 336/336 [00:00<?, ?it/s]\n",
      "\u001b[34m\u001b[1mval: \u001b[0mScanning C:\\Users\\mini7\\Desktop\\Master\\Materias\\TFM\\Laura\\2025_MURIA_Aitor García Blanco\\03.Datasets\\YOLO_Datasets\\split\\val\\labels.cache... 95 images, 0 backgrounds, 0 corrupt: 100%|██████████| 95/95 [00:00<?, ?it/s]\n"
     ]
    },
    {
     "name": "stdout",
     "output_type": "stream",
     "text": [
      "Plotting labels to runs\\detect\\optuna_trial_92\\labels.jpg... \n",
      "\u001b[34m\u001b[1moptimizer:\u001b[0m AdamW(lr=0.00011715937392307068, momentum=0.8388169972400026) with parameter groups 113 weight(decay=0.0), 120 weight(decay=0.0004597505784732166), 119 bias(decay=0.0)\n",
      "Image sizes 704 train, 704 val\n",
      "Using 8 dataloader workers\n",
      "Logging results to \u001b[1mruns\\detect\\optuna_trial_92\u001b[0m\n",
      "Starting training for 25 epochs...\n",
      "\n",
      "      Epoch    GPU_mem   box_loss   cls_loss   dfl_loss  Instances       Size\n"
     ]
    },
    {
     "name": "stderr",
     "output_type": "stream",
     "text": [
      "       1/25      4.03G      2.004      2.293      1.213        148        704: 100%|██████████| 42/42 [01:20<00:00,  1.92s/it]\n",
      "                 Class     Images  Instances      Box(P          R      mAP50  mAP50-95): 100%|██████████| 6/6 [00:07<00:00,  1.18s/it]"
     ]
    },
    {
     "name": "stdout",
     "output_type": "stream",
     "text": [
      "                   all         95       1347      0.615       0.52      0.573       0.24\n"
     ]
    },
    {
     "name": "stderr",
     "output_type": "stream",
     "text": [
      "\n"
     ]
    },
    {
     "name": "stdout",
     "output_type": "stream",
     "text": [
      "\n",
      "      Epoch    GPU_mem   box_loss   cls_loss   dfl_loss  Instances       Size\n"
     ]
    },
    {
     "name": "stderr",
     "output_type": "stream",
     "text": [
      "       2/25      3.99G      1.548      1.282          1         95        704: 100%|██████████| 42/42 [00:51<00:00,  1.22s/it]\n",
      "                 Class     Images  Instances      Box(P          R      mAP50  mAP50-95): 100%|██████████| 6/6 [00:05<00:00,  1.06it/s]"
     ]
    },
    {
     "name": "stdout",
     "output_type": "stream",
     "text": [
      "                   all         95       1347      0.755       0.61      0.724      0.426\n"
     ]
    },
    {
     "name": "stderr",
     "output_type": "stream",
     "text": [
      "\n"
     ]
    },
    {
     "name": "stdout",
     "output_type": "stream",
     "text": [
      "\n",
      "      Epoch    GPU_mem   box_loss   cls_loss   dfl_loss  Instances       Size\n"
     ]
    },
    {
     "name": "stderr",
     "output_type": "stream",
     "text": [
      "       3/25      3.96G      1.422      1.147     0.9603         22        704: 100%|██████████| 42/42 [00:51<00:00,  1.23s/it]\n",
      "                 Class     Images  Instances      Box(P          R      mAP50  mAP50-95): 100%|██████████| 6/6 [00:04<00:00,  1.31it/s]"
     ]
    },
    {
     "name": "stdout",
     "output_type": "stream",
     "text": [
      "                   all         95       1347      0.804      0.689      0.799      0.316\n"
     ]
    },
    {
     "name": "stderr",
     "output_type": "stream",
     "text": [
      "\n"
     ]
    },
    {
     "name": "stdout",
     "output_type": "stream",
     "text": [
      "\n",
      "      Epoch    GPU_mem   box_loss   cls_loss   dfl_loss  Instances       Size\n"
     ]
    },
    {
     "name": "stderr",
     "output_type": "stream",
     "text": [
      "       4/25      4.01G      1.312      1.052     0.9236        122        704: 100%|██████████| 42/42 [01:05<00:00,  1.56s/it]\n",
      "                 Class     Images  Instances      Box(P          R      mAP50  mAP50-95): 100%|██████████| 6/6 [00:03<00:00,  1.84it/s]"
     ]
    },
    {
     "name": "stdout",
     "output_type": "stream",
     "text": [
      "                   all         95       1347      0.777      0.791      0.848      0.574\n"
     ]
    },
    {
     "name": "stderr",
     "output_type": "stream",
     "text": [
      "\n"
     ]
    },
    {
     "name": "stdout",
     "output_type": "stream",
     "text": [
      "\n",
      "      Epoch    GPU_mem   box_loss   cls_loss   dfl_loss  Instances       Size\n"
     ]
    },
    {
     "name": "stderr",
     "output_type": "stream",
     "text": [
      "       5/25      3.99G      1.236     0.9494     0.9157         51        704: 100%|██████████| 42/42 [00:49<00:00,  1.18s/it]\n",
      "                 Class     Images  Instances      Box(P          R      mAP50  mAP50-95): 100%|██████████| 6/6 [00:03<00:00,  1.57it/s]"
     ]
    },
    {
     "name": "stdout",
     "output_type": "stream",
     "text": [
      "                   all         95       1347      0.806      0.816      0.871      0.499\n"
     ]
    },
    {
     "name": "stderr",
     "output_type": "stream",
     "text": [
      "\n"
     ]
    },
    {
     "name": "stdout",
     "output_type": "stream",
     "text": [
      "\n",
      "      Epoch    GPU_mem   box_loss   cls_loss   dfl_loss  Instances       Size\n"
     ]
    },
    {
     "name": "stderr",
     "output_type": "stream",
     "text": [
      "       6/25      3.96G      1.189     0.9483     0.8979         72        704: 100%|██████████| 42/42 [00:46<00:00,  1.11s/it]\n",
      "                 Class     Images  Instances      Box(P          R      mAP50  mAP50-95): 100%|██████████| 6/6 [00:04<00:00,  1.38it/s]"
     ]
    },
    {
     "name": "stdout",
     "output_type": "stream",
     "text": [
      "                   all         95       1347       0.79      0.808       0.86      0.518\n"
     ]
    },
    {
     "name": "stderr",
     "output_type": "stream",
     "text": [
      "\n"
     ]
    },
    {
     "name": "stdout",
     "output_type": "stream",
     "text": [
      "\n",
      "      Epoch    GPU_mem   box_loss   cls_loss   dfl_loss  Instances       Size\n"
     ]
    },
    {
     "name": "stderr",
     "output_type": "stream",
     "text": [
      "       7/25      3.94G      1.198     0.9367     0.9026        101        704: 100%|██████████| 42/42 [01:06<00:00,  1.59s/it]\n",
      "                 Class     Images  Instances      Box(P          R      mAP50  mAP50-95): 100%|██████████| 6/6 [00:05<00:00,  1.19it/s]"
     ]
    },
    {
     "name": "stdout",
     "output_type": "stream",
     "text": [
      "                   all         95       1347      0.734       0.82      0.809      0.581\n"
     ]
    },
    {
     "name": "stderr",
     "output_type": "stream",
     "text": [
      "\n"
     ]
    },
    {
     "name": "stdout",
     "output_type": "stream",
     "text": [
      "\n",
      "      Epoch    GPU_mem   box_loss   cls_loss   dfl_loss  Instances       Size\n"
     ]
    },
    {
     "name": "stderr",
     "output_type": "stream",
     "text": [
      "       8/25      3.94G      1.171     0.9318     0.9025        111        704: 100%|██████████| 42/42 [00:51<00:00,  1.23s/it]\n",
      "                 Class     Images  Instances      Box(P          R      mAP50  mAP50-95): 100%|██████████| 6/6 [00:04<00:00,  1.22it/s]"
     ]
    },
    {
     "name": "stdout",
     "output_type": "stream",
     "text": [
      "                   all         95       1347      0.776      0.841      0.856      0.624\n"
     ]
    },
    {
     "name": "stderr",
     "output_type": "stream",
     "text": [
      "\n"
     ]
    },
    {
     "name": "stdout",
     "output_type": "stream",
     "text": [
      "\n",
      "      Epoch    GPU_mem   box_loss   cls_loss   dfl_loss  Instances       Size\n"
     ]
    },
    {
     "name": "stderr",
     "output_type": "stream",
     "text": [
      "       9/25      3.97G      1.103      0.888     0.8836         83        704: 100%|██████████| 42/42 [00:51<00:00,  1.22s/it]\n",
      "                 Class     Images  Instances      Box(P          R      mAP50  mAP50-95): 100%|██████████| 6/6 [00:05<00:00,  1.16it/s]"
     ]
    },
    {
     "name": "stdout",
     "output_type": "stream",
     "text": [
      "                   all         95       1347      0.704      0.819      0.798      0.589\n"
     ]
    },
    {
     "name": "stderr",
     "output_type": "stream",
     "text": [
      "\n"
     ]
    },
    {
     "name": "stdout",
     "output_type": "stream",
     "text": [
      "\n",
      "      Epoch    GPU_mem   box_loss   cls_loss   dfl_loss  Instances       Size\n"
     ]
    },
    {
     "name": "stderr",
     "output_type": "stream",
     "text": [
      "      10/25      3.99G      1.045      0.856      0.875        101        704: 100%|██████████| 42/42 [01:01<00:00,  1.46s/it]\n",
      "                 Class     Images  Instances      Box(P          R      mAP50  mAP50-95): 100%|██████████| 6/6 [00:03<00:00,  1.57it/s]"
     ]
    },
    {
     "name": "stdout",
     "output_type": "stream",
     "text": [
      "                   all         95       1347      0.811      0.844      0.885      0.604\n"
     ]
    },
    {
     "name": "stderr",
     "output_type": "stream",
     "text": [
      "\n"
     ]
    },
    {
     "name": "stdout",
     "output_type": "stream",
     "text": [
      "\n",
      "      Epoch    GPU_mem   box_loss   cls_loss   dfl_loss  Instances       Size\n"
     ]
    },
    {
     "name": "stderr",
     "output_type": "stream",
     "text": [
      "      11/25      3.93G      1.064     0.8413     0.8842         90        704: 100%|██████████| 42/42 [00:53<00:00,  1.28s/it]\n",
      "                 Class     Images  Instances      Box(P          R      mAP50  mAP50-95): 100%|██████████| 6/6 [00:03<00:00,  1.55it/s]"
     ]
    },
    {
     "name": "stdout",
     "output_type": "stream",
     "text": [
      "                   all         95       1347      0.805      0.839      0.881      0.636\n"
     ]
    },
    {
     "name": "stderr",
     "output_type": "stream",
     "text": [
      "\n"
     ]
    },
    {
     "name": "stdout",
     "output_type": "stream",
     "text": [
      "\n",
      "      Epoch    GPU_mem   box_loss   cls_loss   dfl_loss  Instances       Size\n"
     ]
    },
    {
     "name": "stderr",
     "output_type": "stream",
     "text": [
      "      12/25      4.02G      1.059     0.8188     0.8755         59        704: 100%|██████████| 42/42 [01:08<00:00,  1.62s/it]\n",
      "                 Class     Images  Instances      Box(P          R      mAP50  mAP50-95): 100%|██████████| 6/6 [00:04<00:00,  1.30it/s]"
     ]
    },
    {
     "name": "stdout",
     "output_type": "stream",
     "text": [
      "                   all         95       1347      0.798       0.83      0.876      0.628\n"
     ]
    },
    {
     "name": "stderr",
     "output_type": "stream",
     "text": [
      "\n"
     ]
    },
    {
     "name": "stdout",
     "output_type": "stream",
     "text": [
      "\n",
      "      Epoch    GPU_mem   box_loss   cls_loss   dfl_loss  Instances       Size\n"
     ]
    },
    {
     "name": "stderr",
     "output_type": "stream",
     "text": [
      "      13/25      3.98G      0.995     0.7494     0.8644         79        704: 100%|██████████| 42/42 [00:46<00:00,  1.10s/it]\n",
      "                 Class     Images  Instances      Box(P          R      mAP50  mAP50-95): 100%|██████████| 6/6 [00:06<00:00,  1.06s/it]"
     ]
    },
    {
     "name": "stdout",
     "output_type": "stream",
     "text": [
      "                   all         95       1347      0.795      0.829      0.876      0.656\n"
     ]
    },
    {
     "name": "stderr",
     "output_type": "stream",
     "text": [
      "\n"
     ]
    },
    {
     "name": "stdout",
     "output_type": "stream",
     "text": [
      "\n",
      "      Epoch    GPU_mem   box_loss   cls_loss   dfl_loss  Instances       Size\n"
     ]
    },
    {
     "name": "stderr",
     "output_type": "stream",
     "text": [
      "      14/25      3.96G      1.024      0.772     0.8692        133        704: 100%|██████████| 42/42 [00:55<00:00,  1.32s/it]\n",
      "                 Class     Images  Instances      Box(P          R      mAP50  mAP50-95): 100%|██████████| 6/6 [00:04<00:00,  1.30it/s]"
     ]
    },
    {
     "name": "stdout",
     "output_type": "stream",
     "text": [
      "                   all         95       1347      0.766      0.831      0.859      0.651\n"
     ]
    },
    {
     "name": "stderr",
     "output_type": "stream",
     "text": [
      "\n"
     ]
    },
    {
     "name": "stdout",
     "output_type": "stream",
     "text": [
      "\n",
      "      Epoch    GPU_mem   box_loss   cls_loss   dfl_loss  Instances       Size\n"
     ]
    },
    {
     "name": "stderr",
     "output_type": "stream",
     "text": [
      "      15/25      3.93G      1.033     0.7601     0.8682        149        704: 100%|██████████| 42/42 [00:51<00:00,  1.23s/it]\n",
      "                 Class     Images  Instances      Box(P          R      mAP50  mAP50-95): 100%|██████████| 6/6 [00:03<00:00,  1.52it/s]"
     ]
    },
    {
     "name": "stdout",
     "output_type": "stream",
     "text": [
      "                   all         95       1347      0.797      0.842      0.882      0.534\n"
     ]
    },
    {
     "name": "stderr",
     "output_type": "stream",
     "text": [
      "\n"
     ]
    },
    {
     "name": "stdout",
     "output_type": "stream",
     "text": [
      "\n",
      "      Epoch    GPU_mem   box_loss   cls_loss   dfl_loss  Instances       Size\n"
     ]
    },
    {
     "name": "stderr",
     "output_type": "stream",
     "text": [
      "      16/25         4G      1.032     0.7527     0.8764         90        704: 100%|██████████| 42/42 [00:51<00:00,  1.22s/it]\n",
      "                 Class     Images  Instances      Box(P          R      mAP50  mAP50-95): 100%|██████████| 6/6 [00:06<00:00,  1.09s/it]"
     ]
    },
    {
     "name": "stdout",
     "output_type": "stream",
     "text": [
      "                   all         95       1347      0.824       0.83      0.887      0.634\n"
     ]
    },
    {
     "name": "stderr",
     "output_type": "stream",
     "text": [
      "\n"
     ]
    },
    {
     "name": "stdout",
     "output_type": "stream",
     "text": [
      "\n",
      "      Epoch    GPU_mem   box_loss   cls_loss   dfl_loss  Instances       Size\n"
     ]
    },
    {
     "name": "stderr",
     "output_type": "stream",
     "text": [
      "      17/25      3.97G      1.018     0.7601      0.865         97        704: 100%|██████████| 42/42 [00:50<00:00,  1.21s/it]\n",
      "                 Class     Images  Instances      Box(P          R      mAP50  mAP50-95): 100%|██████████| 6/6 [00:07<00:00,  1.18s/it]"
     ]
    },
    {
     "name": "stdout",
     "output_type": "stream",
     "text": [
      "                   all         95       1347      0.809       0.85      0.885       0.67\n"
     ]
    },
    {
     "name": "stderr",
     "output_type": "stream",
     "text": [
      "\n"
     ]
    },
    {
     "name": "stdout",
     "output_type": "stream",
     "text": [
      "\n",
      "      Epoch    GPU_mem   box_loss   cls_loss   dfl_loss  Instances       Size\n"
     ]
    },
    {
     "name": "stderr",
     "output_type": "stream",
     "text": [
      "      18/25      3.94G      1.013     0.7512     0.8624        123        704: 100%|██████████| 42/42 [00:59<00:00,  1.43s/it]\n",
      "                 Class     Images  Instances      Box(P          R      mAP50  mAP50-95): 100%|██████████| 6/6 [00:03<00:00,  1.55it/s]"
     ]
    },
    {
     "name": "stdout",
     "output_type": "stream",
     "text": [
      "                   all         95       1347      0.822      0.851      0.895      0.644\n"
     ]
    },
    {
     "name": "stderr",
     "output_type": "stream",
     "text": [
      "\n"
     ]
    },
    {
     "name": "stdout",
     "output_type": "stream",
     "text": [
      "\n",
      "      Epoch    GPU_mem   box_loss   cls_loss   dfl_loss  Instances       Size\n"
     ]
    },
    {
     "name": "stderr",
     "output_type": "stream",
     "text": [
      "      19/25      3.94G     0.9739     0.7148     0.8563         78        704: 100%|██████████| 42/42 [00:52<00:00,  1.25s/it]\n",
      "                 Class     Images  Instances      Box(P          R      mAP50  mAP50-95): 100%|██████████| 6/6 [00:04<00:00,  1.22it/s]"
     ]
    },
    {
     "name": "stdout",
     "output_type": "stream",
     "text": [
      "                   all         95       1347      0.823      0.853      0.893      0.628\n"
     ]
    },
    {
     "name": "stderr",
     "output_type": "stream",
     "text": [
      "\n"
     ]
    },
    {
     "name": "stdout",
     "output_type": "stream",
     "text": [
      "\n",
      "      Epoch    GPU_mem   box_loss   cls_loss   dfl_loss  Instances       Size\n"
     ]
    },
    {
     "name": "stderr",
     "output_type": "stream",
     "text": [
      "      20/25      3.93G     0.9836     0.7281     0.8583         69        704: 100%|██████████| 42/42 [00:53<00:00,  1.26s/it]\n",
      "                 Class     Images  Instances      Box(P          R      mAP50  mAP50-95): 100%|██████████| 6/6 [00:03<00:00,  1.58it/s]"
     ]
    },
    {
     "name": "stdout",
     "output_type": "stream",
     "text": [
      "                   all         95       1347      0.812      0.852      0.886      0.672\n"
     ]
    },
    {
     "name": "stderr",
     "output_type": "stream",
     "text": [
      "\n"
     ]
    },
    {
     "name": "stdout",
     "output_type": "stream",
     "text": [
      "\n",
      "      Epoch    GPU_mem   box_loss   cls_loss   dfl_loss  Instances       Size\n"
     ]
    },
    {
     "name": "stderr",
     "output_type": "stream",
     "text": [
      "      21/25      3.94G     0.9665      0.731     0.8616         29        704: 100%|██████████| 42/42 [01:08<00:00,  1.62s/it]\n",
      "                 Class     Images  Instances      Box(P          R      mAP50  mAP50-95): 100%|██████████| 6/6 [00:03<00:00,  1.73it/s]"
     ]
    },
    {
     "name": "stdout",
     "output_type": "stream",
     "text": [
      "                   all         95       1347      0.823      0.849      0.895       0.66\n"
     ]
    },
    {
     "name": "stderr",
     "output_type": "stream",
     "text": [
      "\n"
     ]
    },
    {
     "name": "stdout",
     "output_type": "stream",
     "text": [
      "\n",
      "      Epoch    GPU_mem   box_loss   cls_loss   dfl_loss  Instances       Size\n"
     ]
    },
    {
     "name": "stderr",
     "output_type": "stream",
     "text": [
      "      22/25      4.05G       1.02     0.7317     0.8651        111        704: 100%|██████████| 42/42 [01:11<00:00,  1.69s/it]\n",
      "                 Class     Images  Instances      Box(P          R      mAP50  mAP50-95): 100%|██████████| 6/6 [00:05<00:00,  1.08it/s]"
     ]
    },
    {
     "name": "stdout",
     "output_type": "stream",
     "text": [
      "                   all         95       1347      0.826      0.858      0.898      0.671\n"
     ]
    },
    {
     "name": "stderr",
     "output_type": "stream",
     "text": [
      "\n"
     ]
    },
    {
     "name": "stdout",
     "output_type": "stream",
     "text": [
      "\n",
      "      Epoch    GPU_mem   box_loss   cls_loss   dfl_loss  Instances       Size\n"
     ]
    },
    {
     "name": "stderr",
     "output_type": "stream",
     "text": [
      "      23/25      3.95G     0.9275     0.7087      0.843         83        704: 100%|██████████| 42/42 [01:01<00:00,  1.47s/it]\n",
      "                 Class     Images  Instances      Box(P          R      mAP50  mAP50-95): 100%|██████████| 6/6 [00:05<00:00,  1.00it/s]"
     ]
    },
    {
     "name": "stdout",
     "output_type": "stream",
     "text": [
      "                   all         95       1347      0.811       0.86      0.892      0.661\n"
     ]
    },
    {
     "name": "stderr",
     "output_type": "stream",
     "text": [
      "\n"
     ]
    },
    {
     "name": "stdout",
     "output_type": "stream",
     "text": [
      "\n",
      "      Epoch    GPU_mem   box_loss   cls_loss   dfl_loss  Instances       Size\n"
     ]
    },
    {
     "name": "stderr",
     "output_type": "stream",
     "text": [
      "      24/25      3.99G     0.9549      0.687     0.8619        112        704: 100%|██████████| 42/42 [01:05<00:00,  1.56s/it]\n",
      "                 Class     Images  Instances      Box(P          R      mAP50  mAP50-95): 100%|██████████| 6/6 [00:05<00:00,  1.03it/s]"
     ]
    },
    {
     "name": "stdout",
     "output_type": "stream",
     "text": [
      "                   all         95       1347      0.816      0.855      0.892      0.673\n"
     ]
    },
    {
     "name": "stderr",
     "output_type": "stream",
     "text": [
      "\n"
     ]
    },
    {
     "name": "stdout",
     "output_type": "stream",
     "text": [
      "\n",
      "      Epoch    GPU_mem   box_loss   cls_loss   dfl_loss  Instances       Size\n"
     ]
    },
    {
     "name": "stderr",
     "output_type": "stream",
     "text": [
      "      25/25      3.99G     0.9244     0.6861     0.8523         72        704: 100%|██████████| 42/42 [00:53<00:00,  1.27s/it]\n",
      "                 Class     Images  Instances      Box(P          R      mAP50  mAP50-95): 100%|██████████| 6/6 [00:05<00:00,  1.15it/s]"
     ]
    },
    {
     "name": "stdout",
     "output_type": "stream",
     "text": [
      "                   all         95       1347      0.813      0.857      0.893      0.676\n"
     ]
    },
    {
     "name": "stderr",
     "output_type": "stream",
     "text": [
      "\n"
     ]
    },
    {
     "name": "stdout",
     "output_type": "stream",
     "text": [
      "\n",
      "25 epochs completed in 0.436 hours.\n",
      "Optimizer stripped from runs\\detect\\optuna_trial_92\\weights\\last.pt, 18.9MB\n",
      "Optimizer stripped from runs\\detect\\optuna_trial_92\\weights\\best.pt, 18.9MB\n",
      "\n",
      "Validating runs\\detect\\optuna_trial_92\\weights\\best.pt...\n",
      "Ultralytics 8.3.81  Python-3.11.11 torch-2.6.0+cu126 CUDA:0 (NVIDIA GeForce RTX 3050 Laptop GPU, 4096MiB)\n",
      "YOLOv12s summary (fused): 159 layers, 9,231,267 parameters, 0 gradients, 21.2 GFLOPs\n"
     ]
    },
    {
     "name": "stderr",
     "output_type": "stream",
     "text": [
      "                 Class     Images  Instances      Box(P          R      mAP50  mAP50-95): 100%|██████████| 6/6 [00:02<00:00,  2.07it/s]\n"
     ]
    },
    {
     "name": "stdout",
     "output_type": "stream",
     "text": [
      "                   all         95       1347      0.814      0.857      0.892      0.676\n",
      "Speed: 0.4ms preprocess, 16.4ms inference, 0.0ms loss, 4.4ms postprocess per image\n",
      "Results saved to \u001b[1mruns\\detect\\optuna_trial_92\u001b[0m\n"
     ]
    },
    {
     "name": "stderr",
     "output_type": "stream",
     "text": [
      "[I 2025-07-08 15:26:52,273] Trial 9 finished with value: 0.6757899224420256 and parameters: {'lr0': 0.00011715937392307068, 'lrf': 0.008115595675970505, 'momentum': 0.8388169972400026, 'weight_decay': 0.0004597505784732166, 'optimizer': 'AdamW'}. Best is trial 4 with value: 0.6774234057479595.\n"
     ]
    },
    {
     "name": "stdout",
     "output_type": "stream",
     "text": [
      "New https://pypi.org/project/ultralytics/8.3.163 available  Update with 'pip install -U ultralytics'\n",
      "Ultralytics 8.3.81  Python-3.11.11 torch-2.6.0+cu126 CUDA:0 (NVIDIA GeForce RTX 3050 Laptop GPU, 4096MiB)\n",
      "\u001b[34m\u001b[1mengine\\trainer: \u001b[0mtask=detect, mode=train, model=yolo_models/yolo12s.pt, data=cells.yaml, epochs=25, time=None, patience=100, batch=8, imgsz=704, save=False, save_period=-1, cache=False, device=None, workers=8, project=None, name=optuna_trial_103, exist_ok=False, pretrained=True, optimizer=AdamW, verbose=False, seed=0, deterministic=True, single_cls=False, rect=False, cos_lr=False, close_mosaic=0, resume=False, amp=True, fraction=1.0, profile=False, freeze=None, multi_scale=False, overlap_mask=True, mask_ratio=4, dropout=0.0, val=True, split=val, save_json=False, save_hybrid=False, conf=None, iou=0.7, max_det=300, half=False, dnn=False, plots=True, source=None, vid_stride=1, stream_buffer=False, visualize=False, augment=False, agnostic_nms=False, classes=None, retina_masks=False, embed=None, show=False, save_frames=False, save_txt=False, save_conf=False, save_crop=False, show_labels=True, show_conf=True, show_boxes=True, line_width=None, format=torchscript, keras=False, optimize=False, int8=False, dynamic=False, simplify=True, opset=None, workspace=None, nms=False, lr0=0.00023426581058204064, lrf=0.009323621351781481, momentum=0.9162699235041671, weight_decay=0.0008699593128513321, warmup_epochs=5, warmup_momentum=0.75, warmup_bias_lr=0.1, box=7.5, cls=0.5, dfl=1.5, pose=12.0, kobj=1.0, nbs=64, hsv_h=0.015, hsv_s=0.7, hsv_v=0.4, degrees=45, translate=0.1, scale=0.5, shear=0.0, perspective=0.0, flipud=0.5, fliplr=0.5, bgr=0.0, mosaic=0, mixup=0.0, copy_paste=0.0, copy_paste_mode=flip, auto_augment=randaugment, erasing=0.4, crop_fraction=1.0, cfg=None, tracker=botsort.yaml, save_dir=runs\\detect\\optuna_trial_103\n",
      "Overriding model.yaml nc=80 with nc=1\n",
      "\n",
      "                   from  n    params  module                                       arguments                     \n",
      "  0                  -1  1       928  ultralytics.nn.modules.conv.Conv             [3, 32, 3, 2]                 \n",
      "  1                  -1  1     18560  ultralytics.nn.modules.conv.Conv             [32, 64, 3, 2]                \n",
      "  2                  -1  1     26080  ultralytics.nn.modules.block.C3k2            [64, 128, 1, False, 0.25]     \n",
      "  3                  -1  1    147712  ultralytics.nn.modules.conv.Conv             [128, 128, 3, 2]              \n",
      "  4                  -1  1    103360  ultralytics.nn.modules.block.C3k2            [128, 256, 1, False, 0.25]    \n",
      "  5                  -1  1    590336  ultralytics.nn.modules.conv.Conv             [256, 256, 3, 2]              \n",
      "  6                  -1  2    689408  ultralytics.nn.modules.block.A2C2f           [256, 256, 2, True, 4]        \n",
      "  7                  -1  1   1180672  ultralytics.nn.modules.conv.Conv             [256, 512, 3, 2]              \n",
      "  8                  -1  2   2689536  ultralytics.nn.modules.block.A2C2f           [512, 512, 2, True, 1]        \n",
      "  9                  -1  1         0  torch.nn.modules.upsampling.Upsample         [None, 2, 'nearest']          \n",
      " 10             [-1, 6]  1         0  ultralytics.nn.modules.conv.Concat           [1]                           \n",
      " 11                  -1  1    345856  ultralytics.nn.modules.block.A2C2f           [768, 256, 1, False, -1]      \n",
      " 12                  -1  1         0  torch.nn.modules.upsampling.Upsample         [None, 2, 'nearest']          \n",
      " 13             [-1, 4]  1         0  ultralytics.nn.modules.conv.Concat           [1]                           \n",
      " 14                  -1  1     95104  ultralytics.nn.modules.block.A2C2f           [512, 128, 1, False, -1]      \n",
      " 15                  -1  1    147712  ultralytics.nn.modules.conv.Conv             [128, 128, 3, 2]              \n",
      " 16            [-1, 11]  1         0  ultralytics.nn.modules.conv.Concat           [1]                           \n",
      " 17                  -1  1    296704  ultralytics.nn.modules.block.A2C2f           [384, 256, 1, False, -1]      \n",
      " 18                  -1  1    590336  ultralytics.nn.modules.conv.Conv             [256, 256, 3, 2]              \n",
      " 19             [-1, 8]  1         0  ultralytics.nn.modules.conv.Concat           [1]                           \n",
      " 20                  -1  1   1511424  ultralytics.nn.modules.block.C3k2            [768, 512, 1, True]           \n",
      " 21        [14, 17, 20]  1    819795  ultralytics.nn.modules.head.Detect           [1, [128, 256, 512]]          \n",
      "YOLOv12s summary: 272 layers, 9,253,523 parameters, 9,253,507 gradients, 21.5 GFLOPs\n",
      "\n",
      "Transferred 685/691 items from pretrained weights\n",
      "Freezing layer 'model.21.dfl.conv.weight'\n",
      "\u001b[34m\u001b[1mAMP: \u001b[0mrunning Automatic Mixed Precision (AMP) checks...\n",
      "\u001b[34m\u001b[1mAMP: \u001b[0mchecks passed \n"
     ]
    },
    {
     "name": "stderr",
     "output_type": "stream",
     "text": [
      "\u001b[34m\u001b[1mtrain: \u001b[0mScanning C:\\Users\\mini7\\Desktop\\Master\\Materias\\TFM\\Laura\\2025_MURIA_Aitor García Blanco\\03.Datasets\\YOLO_Datasets\\split\\train\\labels.cache... 336 images, 0 backgrounds, 0 corrupt: 100%|██████████| 336/336 [00:00<?, ?it/s]\n",
      "\u001b[34m\u001b[1mval: \u001b[0mScanning C:\\Users\\mini7\\Desktop\\Master\\Materias\\TFM\\Laura\\2025_MURIA_Aitor García Blanco\\03.Datasets\\YOLO_Datasets\\split\\val\\labels.cache... 95 images, 0 backgrounds, 0 corrupt: 100%|██████████| 95/95 [00:00<?, ?it/s]\n"
     ]
    },
    {
     "name": "stdout",
     "output_type": "stream",
     "text": [
      "Plotting labels to runs\\detect\\optuna_trial_103\\labels.jpg... \n",
      "\u001b[34m\u001b[1moptimizer:\u001b[0m AdamW(lr=0.00023426581058204064, momentum=0.9162699235041671) with parameter groups 113 weight(decay=0.0), 120 weight(decay=0.0008699593128513321), 119 bias(decay=0.0)\n",
      "Image sizes 704 train, 704 val\n",
      "Using 8 dataloader workers\n",
      "Logging results to \u001b[1mruns\\detect\\optuna_trial_103\u001b[0m\n",
      "Starting training for 25 epochs...\n",
      "\n",
      "      Epoch    GPU_mem   box_loss   cls_loss   dfl_loss  Instances       Size\n"
     ]
    },
    {
     "name": "stderr",
     "output_type": "stream",
     "text": [
      "       1/25      3.91G      2.002      2.271      1.211        148        704: 100%|██████████| 42/42 [01:09<00:00,  1.66s/it]\n",
      "                 Class     Images  Instances      Box(P          R      mAP50  mAP50-95): 100%|██████████| 6/6 [00:07<00:00,  1.30s/it]"
     ]
    },
    {
     "name": "stdout",
     "output_type": "stream",
     "text": [
      "                   all         95       1347      0.464      0.633      0.544      0.289\n"
     ]
    },
    {
     "name": "stderr",
     "output_type": "stream",
     "text": [
      "\n"
     ]
    },
    {
     "name": "stdout",
     "output_type": "stream",
     "text": [
      "\n",
      "      Epoch    GPU_mem   box_loss   cls_loss   dfl_loss  Instances       Size\n"
     ]
    },
    {
     "name": "stderr",
     "output_type": "stream",
     "text": [
      "       2/25      3.97G      1.533      1.237     0.9931         95        704: 100%|██████████| 42/42 [01:14<00:00,  1.78s/it]\n",
      "                 Class     Images  Instances      Box(P          R      mAP50  mAP50-95): 100%|██████████| 6/6 [00:04<00:00,  1.42it/s]"
     ]
    },
    {
     "name": "stdout",
     "output_type": "stream",
     "text": [
      "                   all         95       1347      0.799      0.682      0.805      0.374\n"
     ]
    },
    {
     "name": "stderr",
     "output_type": "stream",
     "text": [
      "\n"
     ]
    },
    {
     "name": "stdout",
     "output_type": "stream",
     "text": [
      "\n",
      "      Epoch    GPU_mem   box_loss   cls_loss   dfl_loss  Instances       Size\n"
     ]
    },
    {
     "name": "stderr",
     "output_type": "stream",
     "text": [
      "       3/25      3.96G      1.393      1.131     0.9489         22        704: 100%|██████████| 42/42 [01:15<00:00,  1.79s/it]\n",
      "                 Class     Images  Instances      Box(P          R      mAP50  mAP50-95): 100%|██████████| 6/6 [00:04<00:00,  1.22it/s]"
     ]
    },
    {
     "name": "stdout",
     "output_type": "stream",
     "text": [
      "                   all         95       1347      0.727      0.817       0.82      0.453\n"
     ]
    },
    {
     "name": "stderr",
     "output_type": "stream",
     "text": [
      "\n"
     ]
    },
    {
     "name": "stdout",
     "output_type": "stream",
     "text": [
      "\n",
      "      Epoch    GPU_mem   box_loss   cls_loss   dfl_loss  Instances       Size\n"
     ]
    },
    {
     "name": "stderr",
     "output_type": "stream",
     "text": [
      "       4/25      3.99G      1.313       1.05     0.9247        122        704: 100%|██████████| 42/42 [01:11<00:00,  1.69s/it]\n",
      "                 Class     Images  Instances      Box(P          R      mAP50  mAP50-95): 100%|██████████| 6/6 [00:06<00:00,  1.08s/it]"
     ]
    },
    {
     "name": "stdout",
     "output_type": "stream",
     "text": [
      "                   all         95       1347      0.765      0.801      0.826      0.558\n"
     ]
    },
    {
     "name": "stderr",
     "output_type": "stream",
     "text": [
      "\n"
     ]
    },
    {
     "name": "stdout",
     "output_type": "stream",
     "text": [
      "\n",
      "      Epoch    GPU_mem   box_loss   cls_loss   dfl_loss  Instances       Size\n"
     ]
    },
    {
     "name": "stderr",
     "output_type": "stream",
     "text": [
      "       5/25      3.98G      1.213     0.9632     0.9076         51        704: 100%|██████████| 42/42 [01:16<00:00,  1.82s/it]\n",
      "                 Class     Images  Instances      Box(P          R      mAP50  mAP50-95): 100%|██████████| 6/6 [00:06<00:00,  1.09s/it]"
     ]
    },
    {
     "name": "stdout",
     "output_type": "stream",
     "text": [
      "                   all         95       1347      0.738      0.789      0.785      0.522\n"
     ]
    },
    {
     "name": "stderr",
     "output_type": "stream",
     "text": [
      "\n"
     ]
    },
    {
     "name": "stdout",
     "output_type": "stream",
     "text": [
      "\n",
      "      Epoch    GPU_mem   box_loss   cls_loss   dfl_loss  Instances       Size\n"
     ]
    },
    {
     "name": "stderr",
     "output_type": "stream",
     "text": [
      "       6/25      3.97G      1.188     0.9379      0.896         72        704: 100%|██████████| 42/42 [01:17<00:00,  1.83s/it]\n",
      "                 Class     Images  Instances      Box(P          R      mAP50  mAP50-95): 100%|██████████| 6/6 [00:04<00:00,  1.31it/s]"
     ]
    },
    {
     "name": "stdout",
     "output_type": "stream",
     "text": [
      "                   all         95       1347      0.763      0.825      0.834      0.509\n"
     ]
    },
    {
     "name": "stderr",
     "output_type": "stream",
     "text": [
      "\n"
     ]
    },
    {
     "name": "stdout",
     "output_type": "stream",
     "text": [
      "\n",
      "      Epoch    GPU_mem   box_loss   cls_loss   dfl_loss  Instances       Size\n"
     ]
    },
    {
     "name": "stderr",
     "output_type": "stream",
     "text": [
      "       7/25      3.96G      1.166     0.9079     0.9023        101        704: 100%|██████████| 42/42 [01:26<00:00,  2.06s/it]\n",
      "                 Class     Images  Instances      Box(P          R      mAP50  mAP50-95): 100%|██████████| 6/6 [00:04<00:00,  1.49it/s]"
     ]
    },
    {
     "name": "stdout",
     "output_type": "stream",
     "text": [
      "                   all         95       1347       0.77      0.838      0.852      0.617\n"
     ]
    },
    {
     "name": "stderr",
     "output_type": "stream",
     "text": [
      "\n"
     ]
    },
    {
     "name": "stdout",
     "output_type": "stream",
     "text": [
      "\n",
      "      Epoch    GPU_mem   box_loss   cls_loss   dfl_loss  Instances       Size\n"
     ]
    },
    {
     "name": "stderr",
     "output_type": "stream",
     "text": [
      "       8/25      3.95G      1.173     0.9079     0.9011        111        704: 100%|██████████| 42/42 [01:11<00:00,  1.69s/it]\n",
      "                 Class     Images  Instances      Box(P          R      mAP50  mAP50-95): 100%|██████████| 6/6 [00:07<00:00,  1.18s/it]"
     ]
    },
    {
     "name": "stdout",
     "output_type": "stream",
     "text": [
      "                   all         95       1347      0.769      0.832      0.848      0.615\n"
     ]
    },
    {
     "name": "stderr",
     "output_type": "stream",
     "text": [
      "\n"
     ]
    },
    {
     "name": "stdout",
     "output_type": "stream",
     "text": [
      "\n",
      "      Epoch    GPU_mem   box_loss   cls_loss   dfl_loss  Instances       Size\n"
     ]
    },
    {
     "name": "stderr",
     "output_type": "stream",
     "text": [
      "       9/25      3.99G      1.162     0.8737     0.8957         83        704: 100%|██████████| 42/42 [01:15<00:00,  1.79s/it]\n",
      "                 Class     Images  Instances      Box(P          R      mAP50  mAP50-95): 100%|██████████| 6/6 [00:05<00:00,  1.14it/s]"
     ]
    },
    {
     "name": "stdout",
     "output_type": "stream",
     "text": [
      "                   all         95       1347      0.722      0.824      0.796      0.589\n"
     ]
    },
    {
     "name": "stderr",
     "output_type": "stream",
     "text": [
      "\n"
     ]
    },
    {
     "name": "stdout",
     "output_type": "stream",
     "text": [
      "\n",
      "      Epoch    GPU_mem   box_loss   cls_loss   dfl_loss  Instances       Size\n"
     ]
    },
    {
     "name": "stderr",
     "output_type": "stream",
     "text": [
      "      10/25         4G      1.075     0.8275     0.8784        101        704: 100%|██████████| 42/42 [01:02<00:00,  1.49s/it]\n",
      "                 Class     Images  Instances      Box(P          R      mAP50  mAP50-95): 100%|██████████| 6/6 [00:04<00:00,  1.34it/s]"
     ]
    },
    {
     "name": "stdout",
     "output_type": "stream",
     "text": [
      "                   all         95       1347      0.808      0.835      0.878      0.507\n"
     ]
    },
    {
     "name": "stderr",
     "output_type": "stream",
     "text": [
      "\n"
     ]
    },
    {
     "name": "stdout",
     "output_type": "stream",
     "text": [
      "\n",
      "      Epoch    GPU_mem   box_loss   cls_loss   dfl_loss  Instances       Size\n"
     ]
    },
    {
     "name": "stderr",
     "output_type": "stream",
     "text": [
      "      11/25      3.95G      1.063     0.8184     0.8825         90        704: 100%|██████████| 42/42 [01:18<00:00,  1.86s/it]\n",
      "                 Class     Images  Instances      Box(P          R      mAP50  mAP50-95): 100%|██████████| 6/6 [00:04<00:00,  1.44it/s]"
     ]
    },
    {
     "name": "stdout",
     "output_type": "stream",
     "text": [
      "                   all         95       1347       0.77      0.854      0.865      0.579\n"
     ]
    },
    {
     "name": "stderr",
     "output_type": "stream",
     "text": [
      "\n"
     ]
    },
    {
     "name": "stdout",
     "output_type": "stream",
     "text": [
      "\n",
      "      Epoch    GPU_mem   box_loss   cls_loss   dfl_loss  Instances       Size\n"
     ]
    },
    {
     "name": "stderr",
     "output_type": "stream",
     "text": [
      "      12/25      4.02G      1.052     0.8108     0.8761         59        704: 100%|██████████| 42/42 [00:55<00:00,  1.31s/it]\n",
      "                 Class     Images  Instances      Box(P          R      mAP50  mAP50-95): 100%|██████████| 6/6 [00:06<00:00,  1.15s/it]"
     ]
    },
    {
     "name": "stdout",
     "output_type": "stream",
     "text": [
      "                   all         95       1347      0.797      0.846      0.875      0.646\n"
     ]
    },
    {
     "name": "stderr",
     "output_type": "stream",
     "text": [
      "\n"
     ]
    },
    {
     "name": "stdout",
     "output_type": "stream",
     "text": [
      "\n",
      "      Epoch    GPU_mem   box_loss   cls_loss   dfl_loss  Instances       Size\n"
     ]
    },
    {
     "name": "stderr",
     "output_type": "stream",
     "text": [
      "      13/25      3.99G      1.007     0.7616     0.8664         79        704: 100%|██████████| 42/42 [01:03<00:00,  1.50s/it]\n",
      "                 Class     Images  Instances      Box(P          R      mAP50  mAP50-95): 100%|██████████| 6/6 [00:06<00:00,  1.15s/it]"
     ]
    },
    {
     "name": "stdout",
     "output_type": "stream",
     "text": [
      "                   all         95       1347      0.794      0.835      0.872      0.647\n"
     ]
    },
    {
     "name": "stderr",
     "output_type": "stream",
     "text": [
      "\n"
     ]
    },
    {
     "name": "stdout",
     "output_type": "stream",
     "text": [
      "\n",
      "      Epoch    GPU_mem   box_loss   cls_loss   dfl_loss  Instances       Size\n"
     ]
    },
    {
     "name": "stderr",
     "output_type": "stream",
     "text": [
      "      14/25      3.95G      1.026     0.7802      0.869        133        704: 100%|██████████| 42/42 [01:10<00:00,  1.68s/it]\n",
      "                 Class     Images  Instances      Box(P          R      mAP50  mAP50-95): 100%|██████████| 6/6 [00:04<00:00,  1.22it/s]"
     ]
    },
    {
     "name": "stdout",
     "output_type": "stream",
     "text": [
      "                   all         95       1347      0.761      0.862      0.858      0.628\n"
     ]
    },
    {
     "name": "stderr",
     "output_type": "stream",
     "text": [
      "\n"
     ]
    },
    {
     "name": "stdout",
     "output_type": "stream",
     "text": [
      "\n",
      "      Epoch    GPU_mem   box_loss   cls_loss   dfl_loss  Instances       Size\n"
     ]
    },
    {
     "name": "stderr",
     "output_type": "stream",
     "text": [
      "      15/25      3.92G     0.9974     0.7504     0.8663        149        704: 100%|██████████| 42/42 [01:22<00:00,  1.97s/it]\n",
      "                 Class     Images  Instances      Box(P          R      mAP50  mAP50-95): 100%|██████████| 6/6 [00:04<00:00,  1.39it/s]"
     ]
    },
    {
     "name": "stdout",
     "output_type": "stream",
     "text": [
      "                   all         95       1347      0.807       0.86      0.887       0.65\n"
     ]
    },
    {
     "name": "stderr",
     "output_type": "stream",
     "text": [
      "\n"
     ]
    },
    {
     "name": "stdout",
     "output_type": "stream",
     "text": [
      "\n",
      "      Epoch    GPU_mem   box_loss   cls_loss   dfl_loss  Instances       Size\n"
     ]
    },
    {
     "name": "stderr",
     "output_type": "stream",
     "text": [
      "      16/25      3.99G      1.023     0.7414     0.8728         90        704: 100%|██████████| 42/42 [00:58<00:00,  1.39s/it]\n",
      "                 Class     Images  Instances      Box(P          R      mAP50  mAP50-95): 100%|██████████| 6/6 [00:05<00:00,  1.03it/s]"
     ]
    },
    {
     "name": "stdout",
     "output_type": "stream",
     "text": [
      "                   all         95       1347       0.79      0.859       0.88      0.651\n"
     ]
    },
    {
     "name": "stderr",
     "output_type": "stream",
     "text": [
      "\n"
     ]
    },
    {
     "name": "stdout",
     "output_type": "stream",
     "text": [
      "\n",
      "      Epoch    GPU_mem   box_loss   cls_loss   dfl_loss  Instances       Size\n"
     ]
    },
    {
     "name": "stderr",
     "output_type": "stream",
     "text": [
      "      17/25      3.97G      0.996     0.7501     0.8617         97        704: 100%|██████████| 42/42 [01:16<00:00,  1.82s/it]\n",
      "                 Class     Images  Instances      Box(P          R      mAP50  mAP50-95): 100%|██████████| 6/6 [00:08<00:00,  1.48s/it]"
     ]
    },
    {
     "name": "stdout",
     "output_type": "stream",
     "text": [
      "                   all         95       1347      0.801      0.869      0.892      0.665\n"
     ]
    },
    {
     "name": "stderr",
     "output_type": "stream",
     "text": [
      "\n"
     ]
    },
    {
     "name": "stdout",
     "output_type": "stream",
     "text": [
      "\n",
      "      Epoch    GPU_mem   box_loss   cls_loss   dfl_loss  Instances       Size\n"
     ]
    },
    {
     "name": "stderr",
     "output_type": "stream",
     "text": [
      "      18/25      3.96G     0.9888     0.7267     0.8588        123        704: 100%|██████████| 42/42 [00:59<00:00,  1.41s/it]\n",
      "                 Class     Images  Instances      Box(P          R      mAP50  mAP50-95): 100%|██████████| 6/6 [00:04<00:00,  1.29it/s]"
     ]
    },
    {
     "name": "stdout",
     "output_type": "stream",
     "text": [
      "                   all         95       1347        0.8      0.876      0.894      0.571\n"
     ]
    },
    {
     "name": "stderr",
     "output_type": "stream",
     "text": [
      "\n"
     ]
    },
    {
     "name": "stdout",
     "output_type": "stream",
     "text": [
      "\n",
      "      Epoch    GPU_mem   box_loss   cls_loss   dfl_loss  Instances       Size\n"
     ]
    },
    {
     "name": "stderr",
     "output_type": "stream",
     "text": [
      "      19/25      3.95G     0.9703     0.7158     0.8563         78        704: 100%|██████████| 42/42 [00:57<00:00,  1.38s/it]\n",
      "                 Class     Images  Instances      Box(P          R      mAP50  mAP50-95): 100%|██████████| 6/6 [00:04<00:00,  1.26it/s]"
     ]
    },
    {
     "name": "stdout",
     "output_type": "stream",
     "text": [
      "                   all         95       1347      0.806      0.856      0.892       0.59\n"
     ]
    },
    {
     "name": "stderr",
     "output_type": "stream",
     "text": [
      "\n"
     ]
    },
    {
     "name": "stdout",
     "output_type": "stream",
     "text": [
      "\n",
      "      Epoch    GPU_mem   box_loss   cls_loss   dfl_loss  Instances       Size\n"
     ]
    },
    {
     "name": "stderr",
     "output_type": "stream",
     "text": [
      "      20/25      3.93G     0.9584     0.7132     0.8537         69        704: 100%|██████████| 42/42 [01:15<00:00,  1.80s/it]\n",
      "                 Class     Images  Instances      Box(P          R      mAP50  mAP50-95): 100%|██████████| 6/6 [00:03<00:00,  1.52it/s]"
     ]
    },
    {
     "name": "stdout",
     "output_type": "stream",
     "text": [
      "                   all         95       1347      0.818      0.836       0.89      0.678\n"
     ]
    },
    {
     "name": "stderr",
     "output_type": "stream",
     "text": [
      "\n"
     ]
    },
    {
     "name": "stdout",
     "output_type": "stream",
     "text": [
      "\n",
      "      Epoch    GPU_mem   box_loss   cls_loss   dfl_loss  Instances       Size\n"
     ]
    },
    {
     "name": "stderr",
     "output_type": "stream",
     "text": [
      "      21/25      3.94G     0.9696     0.7305     0.8642         29        704: 100%|██████████| 42/42 [01:10<00:00,  1.68s/it]\n",
      "                 Class     Images  Instances      Box(P          R      mAP50  mAP50-95): 100%|██████████| 6/6 [00:04<00:00,  1.41it/s]"
     ]
    },
    {
     "name": "stdout",
     "output_type": "stream",
     "text": [
      "                   all         95       1347      0.814      0.854      0.893       0.66\n"
     ]
    },
    {
     "name": "stderr",
     "output_type": "stream",
     "text": [
      "\n"
     ]
    },
    {
     "name": "stdout",
     "output_type": "stream",
     "text": [
      "\n",
      "      Epoch    GPU_mem   box_loss   cls_loss   dfl_loss  Instances       Size\n"
     ]
    },
    {
     "name": "stderr",
     "output_type": "stream",
     "text": [
      "      22/25      4.05G      1.011     0.7231      0.863        111        704: 100%|██████████| 42/42 [01:11<00:00,  1.71s/it]\n",
      "                 Class     Images  Instances      Box(P          R      mAP50  mAP50-95): 100%|██████████| 6/6 [00:04<00:00,  1.31it/s]"
     ]
    },
    {
     "name": "stdout",
     "output_type": "stream",
     "text": [
      "                   all         95       1347      0.823      0.859      0.899      0.639\n"
     ]
    },
    {
     "name": "stderr",
     "output_type": "stream",
     "text": [
      "\n"
     ]
    },
    {
     "name": "stdout",
     "output_type": "stream",
     "text": [
      "\n",
      "      Epoch    GPU_mem   box_loss   cls_loss   dfl_loss  Instances       Size\n"
     ]
    },
    {
     "name": "stderr",
     "output_type": "stream",
     "text": [
      "      23/25      3.94G     0.9091     0.6988     0.8388         83        704: 100%|██████████| 42/42 [01:02<00:00,  1.50s/it]\n",
      "                 Class     Images  Instances      Box(P          R      mAP50  mAP50-95): 100%|██████████| 6/6 [00:06<00:00,  1.04s/it]"
     ]
    },
    {
     "name": "stdout",
     "output_type": "stream",
     "text": [
      "                   all         95       1347      0.822      0.854      0.899      0.656\n"
     ]
    },
    {
     "name": "stderr",
     "output_type": "stream",
     "text": [
      "\n"
     ]
    },
    {
     "name": "stdout",
     "output_type": "stream",
     "text": [
      "\n",
      "      Epoch    GPU_mem   box_loss   cls_loss   dfl_loss  Instances       Size\n"
     ]
    },
    {
     "name": "stderr",
     "output_type": "stream",
     "text": [
      "      24/25      3.99G     0.9386     0.6721      0.858        112        704: 100%|██████████| 42/42 [01:15<00:00,  1.80s/it]\n",
      "                 Class     Images  Instances      Box(P          R      mAP50  mAP50-95): 100%|██████████| 6/6 [00:06<00:00,  1.01s/it]"
     ]
    },
    {
     "name": "stdout",
     "output_type": "stream",
     "text": [
      "                   all         95       1347      0.821      0.861      0.901      0.676\n"
     ]
    },
    {
     "name": "stderr",
     "output_type": "stream",
     "text": [
      "\n"
     ]
    },
    {
     "name": "stdout",
     "output_type": "stream",
     "text": [
      "\n",
      "      Epoch    GPU_mem   box_loss   cls_loss   dfl_loss  Instances       Size\n"
     ]
    },
    {
     "name": "stderr",
     "output_type": "stream",
     "text": [
      "      25/25      3.98G     0.8971     0.6753     0.8473         72        704: 100%|██████████| 42/42 [01:20<00:00,  1.93s/it]\n",
      "                 Class     Images  Instances      Box(P          R      mAP50  mAP50-95): 100%|██████████| 6/6 [00:07<00:00,  1.21s/it]"
     ]
    },
    {
     "name": "stdout",
     "output_type": "stream",
     "text": [
      "                   all         95       1347      0.815       0.86      0.898      0.685\n"
     ]
    },
    {
     "name": "stderr",
     "output_type": "stream",
     "text": [
      "\n"
     ]
    },
    {
     "name": "stdout",
     "output_type": "stream",
     "text": [
      "\n",
      "25 epochs completed in 0.535 hours.\n",
      "Optimizer stripped from runs\\detect\\optuna_trial_103\\weights\\last.pt, 18.9MB\n",
      "Optimizer stripped from runs\\detect\\optuna_trial_103\\weights\\best.pt, 18.9MB\n",
      "\n",
      "Validating runs\\detect\\optuna_trial_103\\weights\\best.pt...\n",
      "Ultralytics 8.3.81  Python-3.11.11 torch-2.6.0+cu126 CUDA:0 (NVIDIA GeForce RTX 3050 Laptop GPU, 4096MiB)\n",
      "YOLOv12s summary (fused): 159 layers, 9,231,267 parameters, 0 gradients, 21.2 GFLOPs\n"
     ]
    },
    {
     "name": "stderr",
     "output_type": "stream",
     "text": [
      "                 Class     Images  Instances      Box(P          R      mAP50  mAP50-95): 100%|██████████| 6/6 [00:05<00:00,  1.15it/s]\n"
     ]
    },
    {
     "name": "stdout",
     "output_type": "stream",
     "text": [
      "                   all         95       1347      0.817      0.859      0.898      0.685\n",
      "Speed: 2.6ms preprocess, 41.5ms inference, 0.0ms loss, 1.5ms postprocess per image\n",
      "Results saved to \u001b[1mruns\\detect\\optuna_trial_103\u001b[0m\n"
     ]
    },
    {
     "name": "stderr",
     "output_type": "stream",
     "text": [
      "[I 2025-07-08 16:00:27,205] Trial 10 finished with value: 0.6848513484747123 and parameters: {'lr0': 0.00023426581058204064, 'lrf': 0.009323621351781481, 'momentum': 0.9162699235041671, 'weight_decay': 0.0008699593128513321, 'optimizer': 'AdamW'}. Best is trial 10 with value: 0.6848513484747123.\n"
     ]
    },
    {
     "name": "stdout",
     "output_type": "stream",
     "text": [
      "Número de trials completados: 11\n",
      "Mejor trial:\n",
      "  Valor: 0.6848513484747123\n",
      "  Parámetros:\n",
      "    lr0: 0.00023426581058204064\n",
      "    lrf: 0.009323621351781481\n",
      "    momentum: 0.9162699235041671\n",
      "    weight_decay: 0.0008699593128513321\n",
      "    optimizer: AdamW\n",
      "Mejores parámetros guardados en: optuna_studies/prueba5v12s_best_params.json\n"
     ]
    }
   ],
   "source": [
    "import os\n",
    "os.environ[\"KMP_DUPLICATE_LIB_OK\"] = \"TRUE\"\n",
    "\n",
    "# Crear o cargar estudio\n",
    "import json\n",
    "study_name = \"prueba5v12s\"\n",
    "n_trials = 8\n",
    "storage_name = f\"sqlite:///optuna_studies/{study_name}.db\"\n",
    "os.makedirs(\"optuna_studies\", exist_ok=True)\n",
    "\n",
    "study = optuna.create_study(\n",
    "    direction=\"maximize\",  # Maximizar mAP\n",
    "    study_name=study_name,\n",
    "    storage=storage_name,\n",
    "    load_if_exists=True,\n",
    "    sampler=optuna.samplers.TPESampler(seed=42)  # Usar TPE sampler para mejor eficiencia\n",
    ")\n",
    "\n",
    "# Ejecutar optimización\n",
    "study.optimize(objective, n_trials=n_trials, timeout=None)\n",
    "\n",
    "# Mostrar resultados\n",
    "print(\"Número de trials completados:\", len(study.trials))\n",
    "print(\"Mejor trial:\")\n",
    "trial = study.best_trial\n",
    "print(f\"  Valor: {trial.value}\")\n",
    "print(\"  Parámetros:\")\n",
    "for key, value in trial.params.items():\n",
    "    print(f\"    {key}: {value}\")\n",
    "\n",
    "# Guardar mejores parámetros\n",
    "best_params_path = f\"optuna_studies/{study_name}_best_params.json\"\n",
    "with open(best_params_path, 'w') as f:\n",
    "    json.dump(trial.params, f, indent=2)\n",
    "\n",
    "print(f\"Mejores parámetros guardados en: {best_params_path}\")"
   ]
  },
  {
   "cell_type": "code",
   "execution_count": 6,
   "metadata": {},
   "outputs": [
    {
     "name": "stdout",
     "output_type": "stream",
     "text": [
      "Entrenando modelo final con mejores parámetros...\n",
      "Parámetros:\n",
      "  lr0: 0.00023426581058204064\n",
      "  lrf: 0.009323621351781481\n",
      "  momentum: 0.9162699235041671\n",
      "  weight_decay: 0.0008699593128513321\n",
      "  optimizer: AdamW\n",
      "New https://pypi.org/project/ultralytics/8.3.163 available  Update with 'pip install -U ultralytics'\n",
      "Ultralytics 8.3.81  Python-3.11.11 torch-2.6.0+cu126 CUDA:0 (NVIDIA GeForce RTX 3050 Laptop GPU, 4096MiB)\n",
      "\u001b[34m\u001b[1mengine\\trainer: \u001b[0mtask=detect, mode=train, model=yolo_models/yolo12s.pt, data=cells.yaml, epochs=60, time=None, patience=100, batch=8, imgsz=704, save=True, save_period=-1, cache=False, device=None, workers=8, project=None, name=final_model_optunav12s, exist_ok=False, pretrained=True, optimizer=AdamW, verbose=True, seed=0, deterministic=True, single_cls=False, rect=False, cos_lr=False, close_mosaic=10, resume=False, amp=True, fraction=1.0, profile=False, freeze=None, multi_scale=False, overlap_mask=True, mask_ratio=4, dropout=0.0, val=True, split=val, save_json=False, save_hybrid=False, conf=None, iou=0.7, max_det=300, half=False, dnn=False, plots=True, source=None, vid_stride=1, stream_buffer=False, visualize=False, augment=False, agnostic_nms=False, classes=None, retina_masks=False, embed=None, show=False, save_frames=False, save_txt=False, save_conf=False, save_crop=False, show_labels=True, show_conf=True, show_boxes=True, line_width=None, format=torchscript, keras=False, optimize=False, int8=False, dynamic=False, simplify=True, opset=None, workspace=None, nms=False, lr0=0.00023426581058204064, lrf=0.009323621351781481, momentum=0.9162699235041671, weight_decay=0.0008699593128513321, warmup_epochs=3.0, warmup_momentum=0.8, warmup_bias_lr=0.1, box=7.5, cls=0.5, dfl=1.5, pose=12.0, kobj=1.0, nbs=64, hsv_h=0.015, hsv_s=0.7, hsv_v=0.4, degrees=0.0, translate=0.1, scale=0.5, shear=0.0, perspective=0.0, flipud=0.0, fliplr=0.5, bgr=0.0, mosaic=1.0, mixup=0.0, copy_paste=0.0, copy_paste_mode=flip, auto_augment=randaugment, erasing=0.4, crop_fraction=1.0, cfg=None, tracker=botsort.yaml, save_dir=runs\\detect\\final_model_optunav12s\n",
      "Overriding model.yaml nc=80 with nc=1\n",
      "\n",
      "                   from  n    params  module                                       arguments                     \n",
      "  0                  -1  1       928  ultralytics.nn.modules.conv.Conv             [3, 32, 3, 2]                 \n",
      "  1                  -1  1     18560  ultralytics.nn.modules.conv.Conv             [32, 64, 3, 2]                \n",
      "  2                  -1  1     26080  ultralytics.nn.modules.block.C3k2            [64, 128, 1, False, 0.25]     \n",
      "  3                  -1  1    147712  ultralytics.nn.modules.conv.Conv             [128, 128, 3, 2]              \n",
      "  4                  -1  1    103360  ultralytics.nn.modules.block.C3k2            [128, 256, 1, False, 0.25]    \n",
      "  5                  -1  1    590336  ultralytics.nn.modules.conv.Conv             [256, 256, 3, 2]              \n",
      "  6                  -1  2    689408  ultralytics.nn.modules.block.A2C2f           [256, 256, 2, True, 4]        \n",
      "  7                  -1  1   1180672  ultralytics.nn.modules.conv.Conv             [256, 512, 3, 2]              \n",
      "  8                  -1  2   2689536  ultralytics.nn.modules.block.A2C2f           [512, 512, 2, True, 1]        \n",
      "  9                  -1  1         0  torch.nn.modules.upsampling.Upsample         [None, 2, 'nearest']          \n",
      " 10             [-1, 6]  1         0  ultralytics.nn.modules.conv.Concat           [1]                           \n",
      " 11                  -1  1    345856  ultralytics.nn.modules.block.A2C2f           [768, 256, 1, False, -1]      \n",
      " 12                  -1  1         0  torch.nn.modules.upsampling.Upsample         [None, 2, 'nearest']          \n",
      " 13             [-1, 4]  1         0  ultralytics.nn.modules.conv.Concat           [1]                           \n",
      " 14                  -1  1     95104  ultralytics.nn.modules.block.A2C2f           [512, 128, 1, False, -1]      \n",
      " 15                  -1  1    147712  ultralytics.nn.modules.conv.Conv             [128, 128, 3, 2]              \n",
      " 16            [-1, 11]  1         0  ultralytics.nn.modules.conv.Concat           [1]                           \n",
      " 17                  -1  1    296704  ultralytics.nn.modules.block.A2C2f           [384, 256, 1, False, -1]      \n",
      " 18                  -1  1    590336  ultralytics.nn.modules.conv.Conv             [256, 256, 3, 2]              \n",
      " 19             [-1, 8]  1         0  ultralytics.nn.modules.conv.Concat           [1]                           \n",
      " 20                  -1  1   1511424  ultralytics.nn.modules.block.C3k2            [768, 512, 1, True]           \n",
      " 21        [14, 17, 20]  1    819795  ultralytics.nn.modules.head.Detect           [1, [128, 256, 512]]          \n",
      "YOLOv12s summary: 272 layers, 9,253,523 parameters, 9,253,507 gradients, 21.5 GFLOPs\n",
      "\n",
      "Transferred 685/691 items from pretrained weights\n",
      "Freezing layer 'model.21.dfl.conv.weight'\n",
      "\u001b[34m\u001b[1mAMP: \u001b[0mrunning Automatic Mixed Precision (AMP) checks...\n",
      "\u001b[34m\u001b[1mAMP: \u001b[0mchecks passed \n"
     ]
    },
    {
     "name": "stderr",
     "output_type": "stream",
     "text": [
      "\u001b[34m\u001b[1mtrain: \u001b[0mScanning C:\\Users\\mini7\\Desktop\\Master\\Materias\\TFM\\Laura\\2025_MURIA_Aitor García Blanco\\03.Datasets\\YOLO_Datasets\\split\\train\\labels.cache... 336 images, 0 backgrounds, 0 corrupt: 100%|██████████| 336/336 [00:00<?, ?it/s]\n",
      "\u001b[34m\u001b[1mval: \u001b[0mScanning C:\\Users\\mini7\\Desktop\\Master\\Materias\\TFM\\Laura\\2025_MURIA_Aitor García Blanco\\03.Datasets\\YOLO_Datasets\\split\\val\\labels.cache... 95 images, 0 backgrounds, 0 corrupt: 100%|██████████| 95/95 [00:00<?, ?it/s]\n"
     ]
    },
    {
     "name": "stdout",
     "output_type": "stream",
     "text": [
      "Plotting labels to runs\\detect\\final_model_optunav12s\\labels.jpg... \n",
      "\u001b[34m\u001b[1moptimizer:\u001b[0m AdamW(lr=0.00023426581058204064, momentum=0.9162699235041671) with parameter groups 113 weight(decay=0.0), 120 weight(decay=0.0008699593128513321), 119 bias(decay=0.0)\n",
      "Image sizes 704 train, 704 val\n",
      "Using 8 dataloader workers\n",
      "Logging results to \u001b[1mruns\\detect\\final_model_optunav12s\u001b[0m\n",
      "Starting training for 60 epochs...\n",
      "\n",
      "      Epoch    GPU_mem   box_loss   cls_loss   dfl_loss  Instances       Size\n"
     ]
    },
    {
     "name": "stderr",
     "output_type": "stream",
     "text": [
      "       1/60      4.18G      2.103      2.803       1.07        325        704: 100%|██████████| 42/42 [01:02<00:00,  1.48s/it]\n",
      "                 Class     Images  Instances      Box(P          R      mAP50  mAP50-95): 100%|██████████| 6/6 [00:07<00:00,  1.17s/it]"
     ]
    },
    {
     "name": "stdout",
     "output_type": "stream",
     "text": [
      "                   all         95       1347      0.527      0.598      0.492      0.197\n"
     ]
    },
    {
     "name": "stderr",
     "output_type": "stream",
     "text": [
      "\n"
     ]
    },
    {
     "name": "stdout",
     "output_type": "stream",
     "text": [
      "\n",
      "      Epoch    GPU_mem   box_loss   cls_loss   dfl_loss  Instances       Size\n"
     ]
    },
    {
     "name": "stderr",
     "output_type": "stream",
     "text": [
      "       2/60         4G      1.398      1.025     0.8894        149        704: 100%|██████████| 42/42 [00:56<00:00,  1.34s/it]\n",
      "                 Class     Images  Instances      Box(P          R      mAP50  mAP50-95): 100%|██████████| 6/6 [00:07<00:00,  1.25s/it]"
     ]
    },
    {
     "name": "stdout",
     "output_type": "stream",
     "text": [
      "                   all         95       1347      0.771      0.797      0.822      0.513\n"
     ]
    },
    {
     "name": "stderr",
     "output_type": "stream",
     "text": [
      "\n"
     ]
    },
    {
     "name": "stdout",
     "output_type": "stream",
     "text": [
      "\n",
      "      Epoch    GPU_mem   box_loss   cls_loss   dfl_loss  Instances       Size\n"
     ]
    },
    {
     "name": "stderr",
     "output_type": "stream",
     "text": [
      "       3/60      4.13G      1.288     0.9873     0.8617        140        704: 100%|██████████| 42/42 [01:09<00:00,  1.66s/it]\n",
      "                 Class     Images  Instances      Box(P          R      mAP50  mAP50-95): 100%|██████████| 6/6 [00:03<00:00,  1.50it/s]"
     ]
    },
    {
     "name": "stdout",
     "output_type": "stream",
     "text": [
      "                   all         95       1347      0.765      0.813      0.847      0.608\n"
     ]
    },
    {
     "name": "stderr",
     "output_type": "stream",
     "text": [
      "\n"
     ]
    },
    {
     "name": "stdout",
     "output_type": "stream",
     "text": [
      "\n",
      "      Epoch    GPU_mem   box_loss   cls_loss   dfl_loss  Instances       Size\n"
     ]
    },
    {
     "name": "stderr",
     "output_type": "stream",
     "text": [
      "       4/60      4.22G      1.144     0.8813     0.8457        171        704: 100%|██████████| 42/42 [00:57<00:00,  1.37s/it]\n",
      "                 Class     Images  Instances      Box(P          R      mAP50  mAP50-95): 100%|██████████| 6/6 [00:03<00:00,  1.58it/s]"
     ]
    },
    {
     "name": "stdout",
     "output_type": "stream",
     "text": [
      "                   all         95       1347      0.804      0.814       0.87      0.627\n"
     ]
    },
    {
     "name": "stderr",
     "output_type": "stream",
     "text": [
      "\n"
     ]
    },
    {
     "name": "stdout",
     "output_type": "stream",
     "text": [
      "\n",
      "      Epoch    GPU_mem   box_loss   cls_loss   dfl_loss  Instances       Size\n"
     ]
    },
    {
     "name": "stderr",
     "output_type": "stream",
     "text": [
      "       5/60      4.02G      1.138     0.8411     0.8403        200        704: 100%|██████████| 42/42 [01:11<00:00,  1.71s/it]\n",
      "                 Class     Images  Instances      Box(P          R      mAP50  mAP50-95): 100%|██████████| 6/6 [00:04<00:00,  1.25it/s]"
     ]
    },
    {
     "name": "stdout",
     "output_type": "stream",
     "text": [
      "                   all         95       1347      0.785      0.832      0.854      0.638\n"
     ]
    },
    {
     "name": "stderr",
     "output_type": "stream",
     "text": [
      "\n"
     ]
    },
    {
     "name": "stdout",
     "output_type": "stream",
     "text": [
      "\n",
      "      Epoch    GPU_mem   box_loss   cls_loss   dfl_loss  Instances       Size\n"
     ]
    },
    {
     "name": "stderr",
     "output_type": "stream",
     "text": [
      "       6/60      3.98G      1.091     0.8289     0.8352        101        704: 100%|██████████| 42/42 [01:10<00:00,  1.68s/it]\n",
      "                 Class     Images  Instances      Box(P          R      mAP50  mAP50-95): 100%|██████████| 6/6 [00:03<00:00,  1.51it/s]"
     ]
    },
    {
     "name": "stdout",
     "output_type": "stream",
     "text": [
      "                   all         95       1347      0.824      0.846      0.891      0.669\n"
     ]
    },
    {
     "name": "stderr",
     "output_type": "stream",
     "text": [
      "\n"
     ]
    },
    {
     "name": "stdout",
     "output_type": "stream",
     "text": [
      "\n",
      "      Epoch    GPU_mem   box_loss   cls_loss   dfl_loss  Instances       Size\n"
     ]
    },
    {
     "name": "stderr",
     "output_type": "stream",
     "text": [
      "       7/60      4.01G      1.056     0.7531     0.8306        152        704: 100%|██████████| 42/42 [01:11<00:00,  1.71s/it]\n",
      "                 Class     Images  Instances      Box(P          R      mAP50  mAP50-95): 100%|██████████| 6/6 [00:03<00:00,  1.57it/s]"
     ]
    },
    {
     "name": "stdout",
     "output_type": "stream",
     "text": [
      "                   all         95       1347      0.815      0.827      0.885      0.669\n"
     ]
    },
    {
     "name": "stderr",
     "output_type": "stream",
     "text": [
      "\n"
     ]
    },
    {
     "name": "stdout",
     "output_type": "stream",
     "text": [
      "\n",
      "      Epoch    GPU_mem   box_loss   cls_loss   dfl_loss  Instances       Size\n"
     ]
    },
    {
     "name": "stderr",
     "output_type": "stream",
     "text": [
      "       8/60      4.03G      1.077     0.7946     0.8339        307        704: 100%|██████████| 42/42 [01:05<00:00,  1.56s/it]\n",
      "                 Class     Images  Instances      Box(P          R      mAP50  mAP50-95): 100%|██████████| 6/6 [00:04<00:00,  1.34it/s]"
     ]
    },
    {
     "name": "stdout",
     "output_type": "stream",
     "text": [
      "                   all         95       1347      0.814      0.836      0.887      0.664\n"
     ]
    },
    {
     "name": "stderr",
     "output_type": "stream",
     "text": [
      "\n"
     ]
    },
    {
     "name": "stdout",
     "output_type": "stream",
     "text": [
      "\n",
      "      Epoch    GPU_mem   box_loss   cls_loss   dfl_loss  Instances       Size\n"
     ]
    },
    {
     "name": "stderr",
     "output_type": "stream",
     "text": [
      "       9/60      4.11G      1.081      0.784     0.8306        181        704: 100%|██████████| 42/42 [01:21<00:00,  1.93s/it]\n",
      "                 Class     Images  Instances      Box(P          R      mAP50  mAP50-95): 100%|██████████| 6/6 [00:05<00:00,  1.09it/s]"
     ]
    },
    {
     "name": "stdout",
     "output_type": "stream",
     "text": [
      "                   all         95       1347      0.811      0.857      0.898      0.686\n"
     ]
    },
    {
     "name": "stderr",
     "output_type": "stream",
     "text": [
      "\n"
     ]
    },
    {
     "name": "stdout",
     "output_type": "stream",
     "text": [
      "\n",
      "      Epoch    GPU_mem   box_loss   cls_loss   dfl_loss  Instances       Size\n"
     ]
    },
    {
     "name": "stderr",
     "output_type": "stream",
     "text": [
      "      10/60         4G      1.062     0.7335     0.8343        128        704: 100%|██████████| 42/42 [00:50<00:00,  1.21s/it]\n",
      "                 Class     Images  Instances      Box(P          R      mAP50  mAP50-95): 100%|██████████| 6/6 [00:03<00:00,  1.57it/s]"
     ]
    },
    {
     "name": "stdout",
     "output_type": "stream",
     "text": [
      "                   all         95       1347      0.814      0.865      0.901      0.668\n"
     ]
    },
    {
     "name": "stderr",
     "output_type": "stream",
     "text": [
      "\n"
     ]
    },
    {
     "name": "stdout",
     "output_type": "stream",
     "text": [
      "\n",
      "      Epoch    GPU_mem   box_loss   cls_loss   dfl_loss  Instances       Size\n"
     ]
    },
    {
     "name": "stderr",
     "output_type": "stream",
     "text": [
      "      11/60      4.02G      1.033     0.7407      0.832        145        704: 100%|██████████| 42/42 [01:03<00:00,  1.52s/it]\n",
      "                 Class     Images  Instances      Box(P          R      mAP50  mAP50-95): 100%|██████████| 6/6 [00:04<00:00,  1.22it/s]"
     ]
    },
    {
     "name": "stdout",
     "output_type": "stream",
     "text": [
      "                   all         95       1347      0.838       0.84      0.896       0.69\n"
     ]
    },
    {
     "name": "stderr",
     "output_type": "stream",
     "text": [
      "\n"
     ]
    },
    {
     "name": "stdout",
     "output_type": "stream",
     "text": [
      "\n",
      "      Epoch    GPU_mem   box_loss   cls_loss   dfl_loss  Instances       Size\n"
     ]
    },
    {
     "name": "stderr",
     "output_type": "stream",
     "text": [
      "      12/60      4.26G     0.9938     0.7378     0.8275         92        704: 100%|██████████| 42/42 [01:02<00:00,  1.48s/it]\n",
      "                 Class     Images  Instances      Box(P          R      mAP50  mAP50-95): 100%|██████████| 6/6 [00:02<00:00,  2.59it/s]"
     ]
    },
    {
     "name": "stdout",
     "output_type": "stream",
     "text": [
      "                   all         95       1347      0.813       0.85      0.894      0.658\n"
     ]
    },
    {
     "name": "stderr",
     "output_type": "stream",
     "text": [
      "\n"
     ]
    },
    {
     "name": "stdout",
     "output_type": "stream",
     "text": [
      "\n",
      "      Epoch    GPU_mem   box_loss   cls_loss   dfl_loss  Instances       Size\n"
     ]
    },
    {
     "name": "stderr",
     "output_type": "stream",
     "text": [
      "      13/60       4.1G     0.9896     0.7092     0.8227        124        704: 100%|██████████| 42/42 [01:00<00:00,  1.44s/it]\n",
      "                 Class     Images  Instances      Box(P          R      mAP50  mAP50-95): 100%|██████████| 6/6 [00:05<00:00,  1.17it/s]"
     ]
    },
    {
     "name": "stdout",
     "output_type": "stream",
     "text": [
      "                   all         95       1347      0.824      0.854        0.9      0.687\n"
     ]
    },
    {
     "name": "stderr",
     "output_type": "stream",
     "text": [
      "\n"
     ]
    },
    {
     "name": "stdout",
     "output_type": "stream",
     "text": [
      "\n",
      "      Epoch    GPU_mem   box_loss   cls_loss   dfl_loss  Instances       Size\n"
     ]
    },
    {
     "name": "stderr",
     "output_type": "stream",
     "text": [
      "      14/60      3.95G     0.9838     0.7162     0.8255        211        704: 100%|██████████| 42/42 [00:47<00:00,  1.14s/it]\n",
      "                 Class     Images  Instances      Box(P          R      mAP50  mAP50-95): 100%|██████████| 6/6 [00:03<00:00,  1.50it/s]"
     ]
    },
    {
     "name": "stdout",
     "output_type": "stream",
     "text": [
      "                   all         95       1347       0.81      0.871      0.901      0.675\n"
     ]
    },
    {
     "name": "stderr",
     "output_type": "stream",
     "text": [
      "\n"
     ]
    },
    {
     "name": "stdout",
     "output_type": "stream",
     "text": [
      "\n",
      "      Epoch    GPU_mem   box_loss   cls_loss   dfl_loss  Instances       Size\n"
     ]
    },
    {
     "name": "stderr",
     "output_type": "stream",
     "text": [
      "      15/60      4.13G     0.9855     0.7091     0.8234        214        704: 100%|██████████| 42/42 [00:53<00:00,  1.27s/it]\n",
      "                 Class     Images  Instances      Box(P          R      mAP50  mAP50-95): 100%|██████████| 6/6 [00:05<00:00,  1.13it/s]"
     ]
    },
    {
     "name": "stdout",
     "output_type": "stream",
     "text": [
      "                   all         95       1347      0.827      0.839      0.894      0.684\n"
     ]
    },
    {
     "name": "stderr",
     "output_type": "stream",
     "text": [
      "\n"
     ]
    },
    {
     "name": "stdout",
     "output_type": "stream",
     "text": [
      "\n",
      "      Epoch    GPU_mem   box_loss   cls_loss   dfl_loss  Instances       Size\n"
     ]
    },
    {
     "name": "stderr",
     "output_type": "stream",
     "text": [
      "      16/60      4.09G     0.9621     0.6944     0.8192        216        704: 100%|██████████| 42/42 [00:50<00:00,  1.21s/it]\n",
      "                 Class     Images  Instances      Box(P          R      mAP50  mAP50-95): 100%|██████████| 6/6 [00:05<00:00,  1.16it/s]"
     ]
    },
    {
     "name": "stdout",
     "output_type": "stream",
     "text": [
      "                   all         95       1347      0.814      0.859      0.895       0.67\n"
     ]
    },
    {
     "name": "stderr",
     "output_type": "stream",
     "text": [
      "\n"
     ]
    },
    {
     "name": "stdout",
     "output_type": "stream",
     "text": [
      "\n",
      "      Epoch    GPU_mem   box_loss   cls_loss   dfl_loss  Instances       Size\n"
     ]
    },
    {
     "name": "stderr",
     "output_type": "stream",
     "text": [
      "      17/60      4.02G     0.9712     0.6981     0.8219        158        704: 100%|██████████| 42/42 [00:53<00:00,  1.27s/it]\n",
      "                 Class     Images  Instances      Box(P          R      mAP50  mAP50-95): 100%|██████████| 6/6 [00:06<00:00,  1.07s/it]"
     ]
    },
    {
     "name": "stdout",
     "output_type": "stream",
     "text": [
      "                   all         95       1347      0.837      0.856       0.91      0.696\n"
     ]
    },
    {
     "name": "stderr",
     "output_type": "stream",
     "text": [
      "\n"
     ]
    },
    {
     "name": "stdout",
     "output_type": "stream",
     "text": [
      "\n",
      "      Epoch    GPU_mem   box_loss   cls_loss   dfl_loss  Instances       Size\n"
     ]
    },
    {
     "name": "stderr",
     "output_type": "stream",
     "text": [
      "      18/60      4.12G     0.9474     0.7102     0.8188        142        704: 100%|██████████| 42/42 [01:06<00:00,  1.59s/it]\n",
      "                 Class     Images  Instances      Box(P          R      mAP50  mAP50-95): 100%|██████████| 6/6 [00:04<00:00,  1.25it/s]"
     ]
    },
    {
     "name": "stdout",
     "output_type": "stream",
     "text": [
      "                   all         95       1347      0.811      0.864      0.904      0.703\n"
     ]
    },
    {
     "name": "stderr",
     "output_type": "stream",
     "text": [
      "\n"
     ]
    },
    {
     "name": "stdout",
     "output_type": "stream",
     "text": [
      "\n",
      "      Epoch    GPU_mem   box_loss   cls_loss   dfl_loss  Instances       Size\n"
     ]
    },
    {
     "name": "stderr",
     "output_type": "stream",
     "text": [
      "      19/60      3.99G     0.9637     0.7025     0.8212        131        704: 100%|██████████| 42/42 [00:48<00:00,  1.16s/it]\n",
      "                 Class     Images  Instances      Box(P          R      mAP50  mAP50-95): 100%|██████████| 6/6 [00:04<00:00,  1.47it/s]"
     ]
    },
    {
     "name": "stdout",
     "output_type": "stream",
     "text": [
      "                   all         95       1347      0.828      0.849      0.905      0.696\n"
     ]
    },
    {
     "name": "stderr",
     "output_type": "stream",
     "text": [
      "\n"
     ]
    },
    {
     "name": "stdout",
     "output_type": "stream",
     "text": [
      "\n",
      "      Epoch    GPU_mem   box_loss   cls_loss   dfl_loss  Instances       Size\n"
     ]
    },
    {
     "name": "stderr",
     "output_type": "stream",
     "text": [
      "      20/60      4.13G     0.9797     0.6875     0.8208        139        704: 100%|██████████| 42/42 [00:55<00:00,  1.32s/it]\n",
      "                 Class     Images  Instances      Box(P          R      mAP50  mAP50-95): 100%|██████████| 6/6 [00:04<00:00,  1.32it/s]"
     ]
    },
    {
     "name": "stdout",
     "output_type": "stream",
     "text": [
      "                   all         95       1347      0.846      0.854      0.914       0.71\n"
     ]
    },
    {
     "name": "stderr",
     "output_type": "stream",
     "text": [
      "\n"
     ]
    },
    {
     "name": "stdout",
     "output_type": "stream",
     "text": [
      "\n",
      "      Epoch    GPU_mem   box_loss   cls_loss   dfl_loss  Instances       Size\n"
     ]
    },
    {
     "name": "stderr",
     "output_type": "stream",
     "text": [
      "      21/60      3.99G     0.9664     0.6909     0.8155        172        704: 100%|██████████| 42/42 [01:06<00:00,  1.57s/it]\n",
      "                 Class     Images  Instances      Box(P          R      mAP50  mAP50-95): 100%|██████████| 6/6 [00:04<00:00,  1.42it/s]"
     ]
    },
    {
     "name": "stdout",
     "output_type": "stream",
     "text": [
      "                   all         95       1347       0.84      0.857      0.903      0.687\n"
     ]
    },
    {
     "name": "stderr",
     "output_type": "stream",
     "text": [
      "\n"
     ]
    },
    {
     "name": "stdout",
     "output_type": "stream",
     "text": [
      "\n",
      "      Epoch    GPU_mem   box_loss   cls_loss   dfl_loss  Instances       Size\n"
     ]
    },
    {
     "name": "stderr",
     "output_type": "stream",
     "text": [
      "      22/60      3.97G      0.942     0.6576     0.8193        101        704: 100%|██████████| 42/42 [00:46<00:00,  1.12s/it]\n",
      "                 Class     Images  Instances      Box(P          R      mAP50  mAP50-95): 100%|██████████| 6/6 [00:04<00:00,  1.40it/s]"
     ]
    },
    {
     "name": "stdout",
     "output_type": "stream",
     "text": [
      "                   all         95       1347      0.835      0.872       0.92      0.708\n"
     ]
    },
    {
     "name": "stderr",
     "output_type": "stream",
     "text": [
      "\n"
     ]
    },
    {
     "name": "stdout",
     "output_type": "stream",
     "text": [
      "\n",
      "      Epoch    GPU_mem   box_loss   cls_loss   dfl_loss  Instances       Size\n"
     ]
    },
    {
     "name": "stderr",
     "output_type": "stream",
     "text": [
      "      23/60      4.12G     0.9473     0.6687     0.8189        174        704: 100%|██████████| 42/42 [01:02<00:00,  1.49s/it]\n",
      "                 Class     Images  Instances      Box(P          R      mAP50  mAP50-95): 100%|██████████| 6/6 [00:03<00:00,  1.58it/s]"
     ]
    },
    {
     "name": "stdout",
     "output_type": "stream",
     "text": [
      "                   all         95       1347      0.822      0.875      0.911       0.69\n"
     ]
    },
    {
     "name": "stderr",
     "output_type": "stream",
     "text": [
      "\n"
     ]
    },
    {
     "name": "stdout",
     "output_type": "stream",
     "text": [
      "\n",
      "      Epoch    GPU_mem   box_loss   cls_loss   dfl_loss  Instances       Size\n"
     ]
    },
    {
     "name": "stderr",
     "output_type": "stream",
     "text": [
      "      24/60       4.2G     0.9298     0.6571      0.819        221        704: 100%|██████████| 42/42 [00:50<00:00,  1.20s/it]\n",
      "                 Class     Images  Instances      Box(P          R      mAP50  mAP50-95): 100%|██████████| 6/6 [00:04<00:00,  1.44it/s]"
     ]
    },
    {
     "name": "stdout",
     "output_type": "stream",
     "text": [
      "                   all         95       1347      0.834      0.875      0.918      0.727\n"
     ]
    },
    {
     "name": "stderr",
     "output_type": "stream",
     "text": [
      "\n"
     ]
    },
    {
     "name": "stdout",
     "output_type": "stream",
     "text": [
      "\n",
      "      Epoch    GPU_mem   box_loss   cls_loss   dfl_loss  Instances       Size\n"
     ]
    },
    {
     "name": "stderr",
     "output_type": "stream",
     "text": [
      "      25/60      4.14G     0.9237     0.6546     0.8174        134        704: 100%|██████████| 42/42 [01:02<00:00,  1.50s/it]\n",
      "                 Class     Images  Instances      Box(P          R      mAP50  mAP50-95): 100%|██████████| 6/6 [00:05<00:00,  1.13it/s]"
     ]
    },
    {
     "name": "stdout",
     "output_type": "stream",
     "text": [
      "                   all         95       1347      0.848       0.85      0.914      0.713\n"
     ]
    },
    {
     "name": "stderr",
     "output_type": "stream",
     "text": [
      "\n"
     ]
    },
    {
     "name": "stdout",
     "output_type": "stream",
     "text": [
      "\n",
      "      Epoch    GPU_mem   box_loss   cls_loss   dfl_loss  Instances       Size\n"
     ]
    },
    {
     "name": "stderr",
     "output_type": "stream",
     "text": [
      "      26/60      4.15G      0.935     0.6545     0.8263        122        704: 100%|██████████| 42/42 [01:02<00:00,  1.49s/it]\n",
      "                 Class     Images  Instances      Box(P          R      mAP50  mAP50-95): 100%|██████████| 6/6 [00:03<00:00,  1.51it/s]"
     ]
    },
    {
     "name": "stdout",
     "output_type": "stream",
     "text": [
      "                   all         95       1347       0.82      0.869        0.9      0.685\n"
     ]
    },
    {
     "name": "stderr",
     "output_type": "stream",
     "text": [
      "\n"
     ]
    },
    {
     "name": "stdout",
     "output_type": "stream",
     "text": [
      "\n",
      "      Epoch    GPU_mem   box_loss   cls_loss   dfl_loss  Instances       Size\n"
     ]
    },
    {
     "name": "stderr",
     "output_type": "stream",
     "text": [
      "      27/60      3.97G     0.9321     0.6645     0.8162        160        704: 100%|██████████| 42/42 [01:02<00:00,  1.50s/it]\n",
      "                 Class     Images  Instances      Box(P          R      mAP50  mAP50-95): 100%|██████████| 6/6 [00:04<00:00,  1.49it/s]"
     ]
    },
    {
     "name": "stdout",
     "output_type": "stream",
     "text": [
      "                   all         95       1347      0.824      0.869      0.903       0.69\n"
     ]
    },
    {
     "name": "stderr",
     "output_type": "stream",
     "text": [
      "\n"
     ]
    },
    {
     "name": "stdout",
     "output_type": "stream",
     "text": [
      "\n",
      "      Epoch    GPU_mem   box_loss   cls_loss   dfl_loss  Instances       Size\n"
     ]
    },
    {
     "name": "stderr",
     "output_type": "stream",
     "text": [
      "      28/60      4.13G     0.9281     0.6723     0.8219        306        704: 100%|██████████| 42/42 [00:51<00:00,  1.23s/it]\n",
      "                 Class     Images  Instances      Box(P          R      mAP50  mAP50-95): 100%|██████████| 6/6 [00:06<00:00,  1.17s/it]"
     ]
    },
    {
     "name": "stdout",
     "output_type": "stream",
     "text": [
      "                   all         95       1347      0.864      0.856      0.925       0.73\n"
     ]
    },
    {
     "name": "stderr",
     "output_type": "stream",
     "text": [
      "\n"
     ]
    },
    {
     "name": "stdout",
     "output_type": "stream",
     "text": [
      "\n",
      "      Epoch    GPU_mem   box_loss   cls_loss   dfl_loss  Instances       Size\n"
     ]
    },
    {
     "name": "stderr",
     "output_type": "stream",
     "text": [
      "      29/60      4.02G      0.899     0.6503     0.8155        155        704: 100%|██████████| 42/42 [00:49<00:00,  1.18s/it]\n",
      "                 Class     Images  Instances      Box(P          R      mAP50  mAP50-95): 100%|██████████| 6/6 [00:04<00:00,  1.20it/s]"
     ]
    },
    {
     "name": "stdout",
     "output_type": "stream",
     "text": [
      "                   all         95       1347      0.828      0.879      0.917      0.718\n"
     ]
    },
    {
     "name": "stderr",
     "output_type": "stream",
     "text": [
      "\n"
     ]
    },
    {
     "name": "stdout",
     "output_type": "stream",
     "text": [
      "\n",
      "      Epoch    GPU_mem   box_loss   cls_loss   dfl_loss  Instances       Size\n"
     ]
    },
    {
     "name": "stderr",
     "output_type": "stream",
     "text": [
      "      30/60      4.28G     0.9269     0.6541     0.8211        308        704: 100%|██████████| 42/42 [00:51<00:00,  1.23s/it]\n",
      "                 Class     Images  Instances      Box(P          R      mAP50  mAP50-95): 100%|██████████| 6/6 [00:05<00:00,  1.01it/s]"
     ]
    },
    {
     "name": "stdout",
     "output_type": "stream",
     "text": [
      "                   all         95       1347      0.852      0.863      0.923      0.718\n"
     ]
    },
    {
     "name": "stderr",
     "output_type": "stream",
     "text": [
      "\n"
     ]
    },
    {
     "name": "stdout",
     "output_type": "stream",
     "text": [
      "\n",
      "      Epoch    GPU_mem   box_loss   cls_loss   dfl_loss  Instances       Size\n"
     ]
    },
    {
     "name": "stderr",
     "output_type": "stream",
     "text": [
      "      31/60      4.48G     0.9283     0.6335     0.8176        109        704: 100%|██████████| 42/42 [01:04<00:00,  1.53s/it]\n",
      "                 Class     Images  Instances      Box(P          R      mAP50  mAP50-95): 100%|██████████| 6/6 [00:04<00:00,  1.44it/s]"
     ]
    },
    {
     "name": "stdout",
     "output_type": "stream",
     "text": [
      "                   all         95       1347      0.856       0.84      0.918      0.727\n"
     ]
    },
    {
     "name": "stderr",
     "output_type": "stream",
     "text": [
      "\n"
     ]
    },
    {
     "name": "stdout",
     "output_type": "stream",
     "text": [
      "\n",
      "      Epoch    GPU_mem   box_loss   cls_loss   dfl_loss  Instances       Size\n"
     ]
    },
    {
     "name": "stderr",
     "output_type": "stream",
     "text": [
      "      32/60      4.18G     0.9081     0.6453     0.8204        306        704: 100%|██████████| 42/42 [01:06<00:00,  1.59s/it]\n",
      "                 Class     Images  Instances      Box(P          R      mAP50  mAP50-95): 100%|██████████| 6/6 [00:04<00:00,  1.37it/s]"
     ]
    },
    {
     "name": "stdout",
     "output_type": "stream",
     "text": [
      "                   all         95       1347      0.855       0.87      0.928      0.739\n"
     ]
    },
    {
     "name": "stderr",
     "output_type": "stream",
     "text": [
      "\n"
     ]
    },
    {
     "name": "stdout",
     "output_type": "stream",
     "text": [
      "\n",
      "      Epoch    GPU_mem   box_loss   cls_loss   dfl_loss  Instances       Size\n"
     ]
    },
    {
     "name": "stderr",
     "output_type": "stream",
     "text": [
      "      33/60      4.13G     0.9048     0.6402     0.8189        143        704: 100%|██████████| 42/42 [00:54<00:00,  1.30s/it]\n",
      "                 Class     Images  Instances      Box(P          R      mAP50  mAP50-95): 100%|██████████| 6/6 [00:05<00:00,  1.14it/s]"
     ]
    },
    {
     "name": "stdout",
     "output_type": "stream",
     "text": [
      "                   all         95       1347      0.854      0.871      0.927      0.735\n"
     ]
    },
    {
     "name": "stderr",
     "output_type": "stream",
     "text": [
      "\n"
     ]
    },
    {
     "name": "stdout",
     "output_type": "stream",
     "text": [
      "\n",
      "      Epoch    GPU_mem   box_loss   cls_loss   dfl_loss  Instances       Size\n"
     ]
    },
    {
     "name": "stderr",
     "output_type": "stream",
     "text": [
      "      34/60      4.02G     0.8906     0.6255     0.8139        258        704: 100%|██████████| 42/42 [01:02<00:00,  1.48s/it]\n",
      "                 Class     Images  Instances      Box(P          R      mAP50  mAP50-95): 100%|██████████| 6/6 [00:03<00:00,  1.73it/s]"
     ]
    },
    {
     "name": "stdout",
     "output_type": "stream",
     "text": [
      "                   all         95       1347      0.871      0.862       0.93      0.741\n"
     ]
    },
    {
     "name": "stderr",
     "output_type": "stream",
     "text": [
      "\n"
     ]
    },
    {
     "name": "stdout",
     "output_type": "stream",
     "text": [
      "\n",
      "      Epoch    GPU_mem   box_loss   cls_loss   dfl_loss  Instances       Size\n"
     ]
    },
    {
     "name": "stderr",
     "output_type": "stream",
     "text": [
      "      35/60      3.98G     0.8946     0.6158     0.8167        162        704: 100%|██████████| 42/42 [01:06<00:00,  1.57s/it]\n",
      "                 Class     Images  Instances      Box(P          R      mAP50  mAP50-95): 100%|██████████| 6/6 [00:03<00:00,  1.54it/s]"
     ]
    },
    {
     "name": "stdout",
     "output_type": "stream",
     "text": [
      "                   all         95       1347      0.852      0.874      0.929      0.732\n"
     ]
    },
    {
     "name": "stderr",
     "output_type": "stream",
     "text": [
      "\n"
     ]
    },
    {
     "name": "stdout",
     "output_type": "stream",
     "text": [
      "\n",
      "      Epoch    GPU_mem   box_loss   cls_loss   dfl_loss  Instances       Size\n"
     ]
    },
    {
     "name": "stderr",
     "output_type": "stream",
     "text": [
      "      36/60      4.18G     0.8937      0.627     0.8124        134        704: 100%|██████████| 42/42 [00:57<00:00,  1.37s/it]\n",
      "                 Class     Images  Instances      Box(P          R      mAP50  mAP50-95): 100%|██████████| 6/6 [00:08<00:00,  1.36s/it]"
     ]
    },
    {
     "name": "stdout",
     "output_type": "stream",
     "text": [
      "                   all         95       1347      0.844      0.867      0.918      0.701\n"
     ]
    },
    {
     "name": "stderr",
     "output_type": "stream",
     "text": [
      "\n"
     ]
    },
    {
     "name": "stdout",
     "output_type": "stream",
     "text": [
      "\n",
      "      Epoch    GPU_mem   box_loss   cls_loss   dfl_loss  Instances       Size\n"
     ]
    },
    {
     "name": "stderr",
     "output_type": "stream",
     "text": [
      "      37/60      4.05G     0.9034     0.6356     0.8146        198        704: 100%|██████████| 42/42 [01:02<00:00,  1.49s/it]\n",
      "                 Class     Images  Instances      Box(P          R      mAP50  mAP50-95): 100%|██████████| 6/6 [00:05<00:00,  1.08it/s]"
     ]
    },
    {
     "name": "stdout",
     "output_type": "stream",
     "text": [
      "                   all         95       1347       0.84      0.878       0.92      0.718\n"
     ]
    },
    {
     "name": "stderr",
     "output_type": "stream",
     "text": [
      "\n"
     ]
    },
    {
     "name": "stdout",
     "output_type": "stream",
     "text": [
      "\n",
      "      Epoch    GPU_mem   box_loss   cls_loss   dfl_loss  Instances       Size\n"
     ]
    },
    {
     "name": "stderr",
     "output_type": "stream",
     "text": [
      "      38/60      4.14G     0.9094     0.6072      0.815        162        704: 100%|██████████| 42/42 [00:50<00:00,  1.21s/it]\n",
      "                 Class     Images  Instances      Box(P          R      mAP50  mAP50-95): 100%|██████████| 6/6 [00:05<00:00,  1.17it/s]"
     ]
    },
    {
     "name": "stdout",
     "output_type": "stream",
     "text": [
      "                   all         95       1347      0.863      0.873      0.931      0.744\n"
     ]
    },
    {
     "name": "stderr",
     "output_type": "stream",
     "text": [
      "\n"
     ]
    },
    {
     "name": "stdout",
     "output_type": "stream",
     "text": [
      "\n",
      "      Epoch    GPU_mem   box_loss   cls_loss   dfl_loss  Instances       Size\n"
     ]
    },
    {
     "name": "stderr",
     "output_type": "stream",
     "text": [
      "      39/60      4.23G       0.85     0.5914     0.8118         96        704: 100%|██████████| 42/42 [00:51<00:00,  1.23s/it]\n",
      "                 Class     Images  Instances      Box(P          R      mAP50  mAP50-95): 100%|██████████| 6/6 [00:03<00:00,  1.57it/s]"
     ]
    },
    {
     "name": "stdout",
     "output_type": "stream",
     "text": [
      "                   all         95       1347      0.862       0.88      0.931      0.747\n"
     ]
    },
    {
     "name": "stderr",
     "output_type": "stream",
     "text": [
      "\n"
     ]
    },
    {
     "name": "stdout",
     "output_type": "stream",
     "text": [
      "\n",
      "      Epoch    GPU_mem   box_loss   cls_loss   dfl_loss  Instances       Size\n"
     ]
    },
    {
     "name": "stderr",
     "output_type": "stream",
     "text": [
      "      40/60      4.11G     0.8988     0.6099     0.8098        181        704: 100%|██████████| 42/42 [00:54<00:00,  1.29s/it]\n",
      "                 Class     Images  Instances      Box(P          R      mAP50  mAP50-95): 100%|██████████| 6/6 [00:04<00:00,  1.22it/s]"
     ]
    },
    {
     "name": "stdout",
     "output_type": "stream",
     "text": [
      "                   all         95       1347      0.863      0.865      0.928      0.727\n"
     ]
    },
    {
     "name": "stderr",
     "output_type": "stream",
     "text": [
      "\n"
     ]
    },
    {
     "name": "stdout",
     "output_type": "stream",
     "text": [
      "\n",
      "      Epoch    GPU_mem   box_loss   cls_loss   dfl_loss  Instances       Size\n"
     ]
    },
    {
     "name": "stderr",
     "output_type": "stream",
     "text": [
      "      41/60      4.03G     0.8748     0.6141      0.816        276        704: 100%|██████████| 42/42 [01:02<00:00,  1.49s/it]\n",
      "                 Class     Images  Instances      Box(P          R      mAP50  mAP50-95): 100%|██████████| 6/6 [00:06<00:00,  1.11s/it]"
     ]
    },
    {
     "name": "stdout",
     "output_type": "stream",
     "text": [
      "                   all         95       1347      0.855       0.88      0.927      0.736\n"
     ]
    },
    {
     "name": "stderr",
     "output_type": "stream",
     "text": [
      "\n"
     ]
    },
    {
     "name": "stdout",
     "output_type": "stream",
     "text": [
      "\n",
      "      Epoch    GPU_mem   box_loss   cls_loss   dfl_loss  Instances       Size\n"
     ]
    },
    {
     "name": "stderr",
     "output_type": "stream",
     "text": [
      "      42/60      4.13G     0.8693      0.613     0.8192        185        704: 100%|██████████| 42/42 [00:41<00:00,  1.00it/s]\n",
      "                 Class     Images  Instances      Box(P          R      mAP50  mAP50-95): 100%|██████████| 6/6 [00:03<00:00,  1.51it/s]"
     ]
    },
    {
     "name": "stdout",
     "output_type": "stream",
     "text": [
      "                   all         95       1347      0.859       0.87      0.928      0.744\n"
     ]
    },
    {
     "name": "stderr",
     "output_type": "stream",
     "text": [
      "\n"
     ]
    },
    {
     "name": "stdout",
     "output_type": "stream",
     "text": [
      "\n",
      "      Epoch    GPU_mem   box_loss   cls_loss   dfl_loss  Instances       Size\n"
     ]
    },
    {
     "name": "stderr",
     "output_type": "stream",
     "text": [
      "      43/60       4.1G     0.8333     0.5807     0.8089        157        704: 100%|██████████| 42/42 [01:06<00:00,  1.60s/it]\n",
      "                 Class     Images  Instances      Box(P          R      mAP50  mAP50-95): 100%|██████████| 6/6 [00:03<00:00,  1.56it/s]"
     ]
    },
    {
     "name": "stdout",
     "output_type": "stream",
     "text": [
      "                   all         95       1347      0.859      0.876      0.933      0.744\n"
     ]
    },
    {
     "name": "stderr",
     "output_type": "stream",
     "text": [
      "\n"
     ]
    },
    {
     "name": "stdout",
     "output_type": "stream",
     "text": [
      "\n",
      "      Epoch    GPU_mem   box_loss   cls_loss   dfl_loss  Instances       Size\n"
     ]
    },
    {
     "name": "stderr",
     "output_type": "stream",
     "text": [
      "      44/60      4.35G     0.8523     0.5912     0.8075        135        704: 100%|██████████| 42/42 [00:58<00:00,  1.38s/it]\n",
      "                 Class     Images  Instances      Box(P          R      mAP50  mAP50-95): 100%|██████████| 6/6 [00:04<00:00,  1.26it/s]"
     ]
    },
    {
     "name": "stdout",
     "output_type": "stream",
     "text": [
      "                   all         95       1347      0.856      0.878      0.935       0.75\n"
     ]
    },
    {
     "name": "stderr",
     "output_type": "stream",
     "text": [
      "\n"
     ]
    },
    {
     "name": "stdout",
     "output_type": "stream",
     "text": [
      "\n",
      "      Epoch    GPU_mem   box_loss   cls_loss   dfl_loss  Instances       Size\n"
     ]
    },
    {
     "name": "stderr",
     "output_type": "stream",
     "text": [
      "      45/60      4.15G     0.8383     0.5624     0.8044        108        704: 100%|██████████| 42/42 [00:46<00:00,  1.11s/it]\n",
      "                 Class     Images  Instances      Box(P          R      mAP50  mAP50-95): 100%|██████████| 6/6 [00:03<00:00,  1.53it/s]"
     ]
    },
    {
     "name": "stdout",
     "output_type": "stream",
     "text": [
      "                   all         95       1347      0.849      0.883      0.931      0.743\n"
     ]
    },
    {
     "name": "stderr",
     "output_type": "stream",
     "text": [
      "\n"
     ]
    },
    {
     "name": "stdout",
     "output_type": "stream",
     "text": [
      "\n",
      "      Epoch    GPU_mem   box_loss   cls_loss   dfl_loss  Instances       Size\n"
     ]
    },
    {
     "name": "stderr",
     "output_type": "stream",
     "text": [
      "      46/60      3.95G      0.857      0.598     0.8131        144        704: 100%|██████████| 42/42 [00:55<00:00,  1.33s/it]\n",
      "                 Class     Images  Instances      Box(P          R      mAP50  mAP50-95): 100%|██████████| 6/6 [00:03<00:00,  1.55it/s]"
     ]
    },
    {
     "name": "stdout",
     "output_type": "stream",
     "text": [
      "                   all         95       1347      0.856      0.884      0.936      0.747\n"
     ]
    },
    {
     "name": "stderr",
     "output_type": "stream",
     "text": [
      "\n"
     ]
    },
    {
     "name": "stdout",
     "output_type": "stream",
     "text": [
      "\n",
      "      Epoch    GPU_mem   box_loss   cls_loss   dfl_loss  Instances       Size\n"
     ]
    },
    {
     "name": "stderr",
     "output_type": "stream",
     "text": [
      "      47/60      3.96G     0.8623     0.5889     0.8133         98        704: 100%|██████████| 42/42 [00:47<00:00,  1.13s/it]\n",
      "                 Class     Images  Instances      Box(P          R      mAP50  mAP50-95): 100%|██████████| 6/6 [00:03<00:00,  1.53it/s]"
     ]
    },
    {
     "name": "stdout",
     "output_type": "stream",
     "text": [
      "                   all         95       1347      0.873      0.867      0.937      0.747\n"
     ]
    },
    {
     "name": "stderr",
     "output_type": "stream",
     "text": [
      "\n"
     ]
    },
    {
     "name": "stdout",
     "output_type": "stream",
     "text": [
      "\n",
      "      Epoch    GPU_mem   box_loss   cls_loss   dfl_loss  Instances       Size\n"
     ]
    },
    {
     "name": "stderr",
     "output_type": "stream",
     "text": [
      "      48/60      4.05G     0.8542     0.5972     0.8082        194        704: 100%|██████████| 42/42 [01:11<00:00,  1.70s/it]\n",
      "                 Class     Images  Instances      Box(P          R      mAP50  mAP50-95): 100%|██████████| 6/6 [00:04<00:00,  1.48it/s]"
     ]
    },
    {
     "name": "stdout",
     "output_type": "stream",
     "text": [
      "                   all         95       1347      0.871      0.874      0.938      0.757\n"
     ]
    },
    {
     "name": "stderr",
     "output_type": "stream",
     "text": [
      "\n"
     ]
    },
    {
     "name": "stdout",
     "output_type": "stream",
     "text": [
      "\n",
      "      Epoch    GPU_mem   box_loss   cls_loss   dfl_loss  Instances       Size\n"
     ]
    },
    {
     "name": "stderr",
     "output_type": "stream",
     "text": [
      "      49/60      4.09G     0.8324     0.5738     0.8059        204        704: 100%|██████████| 42/42 [00:59<00:00,  1.41s/it]\n",
      "                 Class     Images  Instances      Box(P          R      mAP50  mAP50-95): 100%|██████████| 6/6 [00:03<00:00,  1.59it/s]"
     ]
    },
    {
     "name": "stdout",
     "output_type": "stream",
     "text": [
      "                   all         95       1347      0.862      0.882      0.931      0.743\n"
     ]
    },
    {
     "name": "stderr",
     "output_type": "stream",
     "text": [
      "\n"
     ]
    },
    {
     "name": "stdout",
     "output_type": "stream",
     "text": [
      "\n",
      "      Epoch    GPU_mem   box_loss   cls_loss   dfl_loss  Instances       Size\n"
     ]
    },
    {
     "name": "stderr",
     "output_type": "stream",
     "text": [
      "      50/60      4.05G     0.8597     0.5845     0.8071         63        704: 100%|██████████| 42/42 [01:07<00:00,  1.60s/it]\n",
      "                 Class     Images  Instances      Box(P          R      mAP50  mAP50-95): 100%|██████████| 6/6 [00:05<00:00,  1.19it/s]"
     ]
    },
    {
     "name": "stdout",
     "output_type": "stream",
     "text": [
      "                   all         95       1347      0.872      0.874      0.939      0.754\n"
     ]
    },
    {
     "name": "stderr",
     "output_type": "stream",
     "text": [
      "\n"
     ]
    },
    {
     "name": "stdout",
     "output_type": "stream",
     "text": [
      "Closing dataloader mosaic\n",
      "\n",
      "      Epoch    GPU_mem   box_loss   cls_loss   dfl_loss  Instances       Size\n"
     ]
    },
    {
     "name": "stderr",
     "output_type": "stream",
     "text": [
      "      51/60      3.98G      0.848     0.5821     0.8156         61        704: 100%|██████████| 42/42 [01:10<00:00,  1.67s/it]\n",
      "                 Class     Images  Instances      Box(P          R      mAP50  mAP50-95): 100%|██████████| 6/6 [00:04<00:00,  1.42it/s]"
     ]
    },
    {
     "name": "stdout",
     "output_type": "stream",
     "text": [
      "                   all         95       1347      0.854      0.875      0.936      0.749\n"
     ]
    },
    {
     "name": "stderr",
     "output_type": "stream",
     "text": [
      "\n"
     ]
    },
    {
     "name": "stdout",
     "output_type": "stream",
     "text": [
      "\n",
      "      Epoch    GPU_mem   box_loss   cls_loss   dfl_loss  Instances       Size\n"
     ]
    },
    {
     "name": "stderr",
     "output_type": "stream",
     "text": [
      "      52/60      3.97G     0.8148      0.569     0.8109        156        704: 100%|██████████| 42/42 [01:08<00:00,  1.63s/it]\n",
      "                 Class     Images  Instances      Box(P          R      mAP50  mAP50-95): 100%|██████████| 6/6 [00:04<00:00,  1.22it/s]"
     ]
    },
    {
     "name": "stdout",
     "output_type": "stream",
     "text": [
      "                   all         95       1347      0.864      0.869      0.933      0.746\n"
     ]
    },
    {
     "name": "stderr",
     "output_type": "stream",
     "text": [
      "\n"
     ]
    },
    {
     "name": "stdout",
     "output_type": "stream",
     "text": [
      "\n",
      "      Epoch    GPU_mem   box_loss   cls_loss   dfl_loss  Instances       Size\n"
     ]
    },
    {
     "name": "stderr",
     "output_type": "stream",
     "text": [
      "      53/60      3.94G      0.841     0.5804      0.809         52        704: 100%|██████████| 42/42 [00:37<00:00,  1.12it/s]\n",
      "                 Class     Images  Instances      Box(P          R      mAP50  mAP50-95): 100%|██████████| 6/6 [00:05<00:00,  1.07it/s]"
     ]
    },
    {
     "name": "stdout",
     "output_type": "stream",
     "text": [
      "                   all         95       1347      0.857      0.878       0.93      0.733\n"
     ]
    },
    {
     "name": "stderr",
     "output_type": "stream",
     "text": [
      "\n"
     ]
    },
    {
     "name": "stdout",
     "output_type": "stream",
     "text": [
      "\n",
      "      Epoch    GPU_mem   box_loss   cls_loss   dfl_loss  Instances       Size\n"
     ]
    },
    {
     "name": "stderr",
     "output_type": "stream",
     "text": [
      "      54/60      3.98G     0.8053     0.5666     0.8108         75        704: 100%|██████████| 42/42 [01:09<00:00,  1.65s/it]\n",
      "                 Class     Images  Instances      Box(P          R      mAP50  mAP50-95): 100%|██████████| 6/6 [00:05<00:00,  1.16it/s]"
     ]
    },
    {
     "name": "stdout",
     "output_type": "stream",
     "text": [
      "                   all         95       1347      0.871      0.876      0.933      0.743\n"
     ]
    },
    {
     "name": "stderr",
     "output_type": "stream",
     "text": [
      "\n"
     ]
    },
    {
     "name": "stdout",
     "output_type": "stream",
     "text": [
      "\n",
      "      Epoch    GPU_mem   box_loss   cls_loss   dfl_loss  Instances       Size\n"
     ]
    },
    {
     "name": "stderr",
     "output_type": "stream",
     "text": [
      "      55/60         4G     0.8008      0.566     0.8022         92        704: 100%|██████████| 42/42 [00:58<00:00,  1.40s/it]\n",
      "                 Class     Images  Instances      Box(P          R      mAP50  mAP50-95): 100%|██████████| 6/6 [00:05<00:00,  1.14it/s]"
     ]
    },
    {
     "name": "stdout",
     "output_type": "stream",
     "text": [
      "                   all         95       1347      0.861      0.882      0.937      0.758\n"
     ]
    },
    {
     "name": "stderr",
     "output_type": "stream",
     "text": [
      "\n"
     ]
    },
    {
     "name": "stdout",
     "output_type": "stream",
     "text": [
      "\n",
      "      Epoch    GPU_mem   box_loss   cls_loss   dfl_loss  Instances       Size\n"
     ]
    },
    {
     "name": "stderr",
     "output_type": "stream",
     "text": [
      "      56/60      3.94G     0.8224     0.5749     0.8098         91        704: 100%|██████████| 42/42 [00:56<00:00,  1.35s/it]\n",
      "                 Class     Images  Instances      Box(P          R      mAP50  mAP50-95): 100%|██████████| 6/6 [00:03<00:00,  1.55it/s]"
     ]
    },
    {
     "name": "stdout",
     "output_type": "stream",
     "text": [
      "                   all         95       1347      0.867       0.87      0.936      0.744\n"
     ]
    },
    {
     "name": "stderr",
     "output_type": "stream",
     "text": [
      "\n"
     ]
    },
    {
     "name": "stdout",
     "output_type": "stream",
     "text": [
      "\n",
      "      Epoch    GPU_mem   box_loss   cls_loss   dfl_loss  Instances       Size\n"
     ]
    },
    {
     "name": "stderr",
     "output_type": "stream",
     "text": [
      "      57/60      3.94G     0.8214     0.5698     0.8164         92        704: 100%|██████████| 42/42 [01:03<00:00,  1.51s/it]\n",
      "                 Class     Images  Instances      Box(P          R      mAP50  mAP50-95): 100%|██████████| 6/6 [00:03<00:00,  1.62it/s]"
     ]
    },
    {
     "name": "stdout",
     "output_type": "stream",
     "text": [
      "                   all         95       1347      0.863      0.871      0.935      0.747\n"
     ]
    },
    {
     "name": "stderr",
     "output_type": "stream",
     "text": [
      "\n"
     ]
    },
    {
     "name": "stdout",
     "output_type": "stream",
     "text": [
      "\n",
      "      Epoch    GPU_mem   box_loss   cls_loss   dfl_loss  Instances       Size\n"
     ]
    },
    {
     "name": "stderr",
     "output_type": "stream",
     "text": [
      "      58/60      3.99G     0.8023     0.5606     0.8107        103        704: 100%|██████████| 42/42 [01:12<00:00,  1.73s/it]\n",
      "                 Class     Images  Instances      Box(P          R      mAP50  mAP50-95): 100%|██████████| 6/6 [00:05<00:00,  1.11it/s]"
     ]
    },
    {
     "name": "stdout",
     "output_type": "stream",
     "text": [
      "                   all         95       1347      0.863      0.873      0.938      0.753\n"
     ]
    },
    {
     "name": "stderr",
     "output_type": "stream",
     "text": [
      "\n"
     ]
    },
    {
     "name": "stdout",
     "output_type": "stream",
     "text": [
      "\n",
      "      Epoch    GPU_mem   box_loss   cls_loss   dfl_loss  Instances       Size\n"
     ]
    },
    {
     "name": "stderr",
     "output_type": "stream",
     "text": [
      "      59/60         4G     0.8022     0.5566     0.8091         72        704: 100%|██████████| 42/42 [01:04<00:00,  1.53s/it]\n",
      "                 Class     Images  Instances      Box(P          R      mAP50  mAP50-95): 100%|██████████| 6/6 [00:03<00:00,  1.60it/s]"
     ]
    },
    {
     "name": "stdout",
     "output_type": "stream",
     "text": [
      "                   all         95       1347      0.871      0.869      0.936      0.749\n"
     ]
    },
    {
     "name": "stderr",
     "output_type": "stream",
     "text": [
      "\n"
     ]
    },
    {
     "name": "stdout",
     "output_type": "stream",
     "text": [
      "\n",
      "      Epoch    GPU_mem   box_loss   cls_loss   dfl_loss  Instances       Size\n"
     ]
    },
    {
     "name": "stderr",
     "output_type": "stream",
     "text": [
      "      60/60      3.96G     0.7844     0.5478     0.8049         60        704: 100%|██████████| 42/42 [01:01<00:00,  1.46s/it]\n",
      "                 Class     Images  Instances      Box(P          R      mAP50  mAP50-95): 100%|██████████| 6/6 [00:04<00:00,  1.36it/s]"
     ]
    },
    {
     "name": "stdout",
     "output_type": "stream",
     "text": [
      "                   all         95       1347      0.859      0.877      0.937      0.756\n"
     ]
    },
    {
     "name": "stderr",
     "output_type": "stream",
     "text": [
      "\n"
     ]
    },
    {
     "name": "stdout",
     "output_type": "stream",
     "text": [
      "\n",
      "60 epochs completed in 1.098 hours.\n",
      "Optimizer stripped from runs\\detect\\final_model_optunav12s\\weights\\last.pt, 18.9MB\n",
      "Optimizer stripped from runs\\detect\\final_model_optunav12s\\weights\\best.pt, 18.9MB\n",
      "\n",
      "Validating runs\\detect\\final_model_optunav12s\\weights\\best.pt...\n",
      "Ultralytics 8.3.81  Python-3.11.11 torch-2.6.0+cu126 CUDA:0 (NVIDIA GeForce RTX 3050 Laptop GPU, 4096MiB)\n",
      "YOLOv12s summary (fused): 159 layers, 9,231,267 parameters, 0 gradients, 21.2 GFLOPs\n"
     ]
    },
    {
     "name": "stderr",
     "output_type": "stream",
     "text": [
      "                 Class     Images  Instances      Box(P          R      mAP50  mAP50-95): 100%|██████████| 6/6 [00:04<00:00,  1.43it/s]\n"
     ]
    },
    {
     "name": "stdout",
     "output_type": "stream",
     "text": [
      "                   all         95       1347      0.863      0.879      0.937      0.758\n",
      "Speed: 0.6ms preprocess, 31.8ms inference, 0.0ms loss, 1.5ms postprocess per image\n",
      "Results saved to \u001b[1mruns\\detect\\final_model_optunav12s\u001b[0m\n"
     ]
    }
   ],
   "source": [
    "import json\n",
    "\n",
    "with open(\"optuna_studies/prueba5V12S_best_params.json\", \"r\") as f:\n",
    "    best_params = json.load(f)\n",
    "\n",
    "print(\"Entrenando modelo final con mejores parámetros...\")\n",
    "print(\"Parámetros:\")\n",
    "for key, value in best_params.items():\n",
    "    print(f\"  {key}: {value}\")\n",
    "\n",
    "model = YOLO(\"yolo_models/yolo12s.pt\")\n",
    "\n",
    "model_name = \"final_model_optunav12s\"\n",
    "results = model.train(\n",
    "    data=\"cells.yaml\",\n",
    "    epochs=60,         # Ajusta según tus recursos y necesidades\n",
    "    imgsz=704,         # Tamaño de imagen para el entrenamiento final\n",
    "    batch=8,           # Ajusta según tu GPU/CPU\n",
    "    name=model_name,\n",
    "    save=True,         # Guarda los checkpoints y resultados\n",
    "    **best_params      # Aplica los hiperparámetros óptimos\n",
    ")\n"
   ]
  },
  {
   "cell_type": "code",
   "execution_count": 5,
   "metadata": {},
   "outputs": [
    {
     "data": {
      "text/plain": [
       "<Figure size 1200x800 with 4 Axes>"
      ]
     },
     "metadata": {},
     "output_type": "display_data"
    }
   ],
   "source": [
    "# Crear directorio para gráficos\n",
    "os.makedirs(\"optuna_plots\", exist_ok=True)\n",
    "\n",
    "# 1. Historia de optimización\n",
    "plt.figure(figsize=(12, 8))\n",
    "\n",
    "# Gráfico 1: Valor objetivo por trial\n",
    "plt.subplot(2, 2, 1)\n",
    "trials = [trial.value for trial in study.trials if trial.value is not None]\n",
    "plt.plot(trials, marker='o', markersize=3)\n",
    "plt.title('Valor Objetivo por Trial')\n",
    "plt.xlabel('Trial')\n",
    "plt.ylabel('mAP@0.5:0.95')\n",
    "plt.grid(True, alpha=0.3)\n",
    "\n",
    "# Gráfico 2: Mejores valores acumulados\n",
    "plt.subplot(2, 2, 2)\n",
    "best_values = []\n",
    "current_best = float('-inf')\n",
    "for trial in study.trials:\n",
    "    if trial.value is not None and trial.value > current_best:\n",
    "        current_best = trial.value\n",
    "    best_values.append(current_best if current_best != float('-inf') else 0)\n",
    "\n",
    "plt.plot(best_values, marker='o', markersize=3, color='red')\n",
    "plt.title('Mejor Valor Acumulado')\n",
    "plt.xlabel('Trial')\n",
    "plt.ylabel('Mejor mAP@0.5:0.95')\n",
    "plt.grid(True, alpha=0.3)\n",
    "\n",
    "# Gráfico 3: Distribución de valores\n",
    "plt.subplot(2, 2, 3)\n",
    "plt.hist(trials, bins=20, alpha=0.7, edgecolor='black')\n",
    "plt.title('Distribución de Valores Objetivo')\n",
    "plt.xlabel('mAP@0.5:0.95')\n",
    "plt.ylabel('Frecuencia')\n",
    "plt.grid(True, alpha=0.3)\n",
    "\n",
    "# Gráfico 4: Top 10 parámetros más importantes\n",
    "plt.subplot(2, 2, 4)\n",
    "try:\n",
    "    importance = optuna.importance.get_param_importances(study)\n",
    "    top_params = dict(sorted(importance.items(), key=lambda x: x[1], reverse=True)[:10])\n",
    "    \n",
    "    plt.barh(list(top_params.keys()), list(top_params.values()))\n",
    "    plt.title('Top 10 Parámetros Más Importantes')\n",
    "    plt.xlabel('Importancia')\n",
    "    plt.tight_layout()\n",
    "except:\n",
    "    plt.text(0.5, 0.5, 'No disponible\\n(necesita más trials)', \n",
    "            ha='center', va='center', transform=plt.gca().transAxes)\n",
    "\n",
    "plt.tight_layout()\n",
    "plt.savefig('optuna_plots/optimization_resultsV12S.png', dpi=300, bbox_inches='tight')\n",
    "plt.show()"
   ]
  },
  {
   "cell_type": "markdown",
   "metadata": {},
   "source": [
    "----------------------------------------------------------------------------------------"
   ]
  },
  {
   "cell_type": "code",
   "execution_count": null,
   "metadata": {},
   "outputs": [],
   "source": [
    "# YOLO 11\n",
    "model_YOLOv11n = YOLO(\"yolo_models/yolo11n.pt\")\n",
    "model_YOLOv11s = YOLO(\"yolo_models/yolo11s.pt\")\n",
    "model_YOLOv11m = YOLO(\"yolo_models/yolo11m.pt\")\n",
    "model_YOLOv11l = YOLO(\"yolo_models/yolo11l.pt\")\n",
    "model_YOLOv11x = YOLO(\"yolo_models/yolo11x.pt\")\n",
    "model_YOLOv11ny = YOLO(\"yolo_models/yolo11n.yaml\")\n",
    "\n",
    "# YOLO 12\n",
    "model_YOLOv12n = YOLO(\"yolo_models/yolo12n.pt\")\n",
    "model_YOLOv12s = YOLO(\"yolo_models/yolo12s.pt\")\n",
    "model_YOLOv12m = YOLO(\"yolo_models/yolo12m.pt\")\n",
    "model_YOLOv12l = YOLO(\"yolo_models/yolo12l.pt\")\n",
    "model_YOLOv12x = YOLO(\"yolo_models/yolo12x.pt\")"
   ]
  },
  {
   "cell_type": "code",
   "execution_count": null,
   "metadata": {},
   "outputs": [
    {
     "name": "stdout",
     "output_type": "stream",
     "text": [
      "New https://pypi.org/project/ultralytics/8.3.103 available  Update with 'pip install -U ultralytics'\n",
      "Ultralytics 8.3.81  Python-3.11.11 torch-2.6.0+cu126 CUDA:0 (NVIDIA GeForce RTX 3050 Laptop GPU, 4096MiB)\n",
      "\u001b[34m\u001b[1mengine\\trainer: \u001b[0mtask=detect, mode=train, model=models/yolo11n.yaml, data=cells.yaml, epochs=25, time=None, patience=100, batch=3, imgsz=1280, save=True, save_period=-1, cache=False, device=None, workers=8, project=None, name=yolov11ny_new2, exist_ok=False, pretrained=True, optimizer=auto, verbose=True, seed=0, deterministic=True, single_cls=False, rect=False, cos_lr=False, close_mosaic=10, resume=False, amp=True, fraction=1.0, profile=False, freeze=None, multi_scale=False, overlap_mask=True, mask_ratio=4, dropout=0.0, val=True, split=val, save_json=False, save_hybrid=False, conf=None, iou=0.7, max_det=300, half=False, dnn=False, plots=True, source=None, vid_stride=1, stream_buffer=False, visualize=False, augment=True, agnostic_nms=False, classes=None, retina_masks=False, embed=None, show=False, save_frames=False, save_txt=False, save_conf=False, save_crop=False, show_labels=True, show_conf=True, show_boxes=True, line_width=None, format=torchscript, keras=False, optimize=False, int8=False, dynamic=False, simplify=True, opset=None, workspace=None, nms=False, lr0=0.01, lrf=0.01, momentum=0.937, weight_decay=0.0005, warmup_epochs=3.0, warmup_momentum=0.8, warmup_bias_lr=0.1, box=7.5, cls=0.5, dfl=1.5, pose=12.0, kobj=1.0, nbs=64, hsv_h=0.015, hsv_s=0.7, hsv_v=0.4, degrees=15.0, translate=0.1, scale=0.1, shear=2.0, perspective=0.0, flipud=0.0, fliplr=0.5, bgr=0.0, mosaic=0.2, mixup=0.0, copy_paste=0.0, copy_paste_mode=flip, auto_augment=randaugment, erasing=0.4, crop_fraction=1.0, cfg=None, tracker=botsort.yaml, save_dir=runs\\detect\\yolov11ny_new2\n",
      "\n",
      "                   from  n    params  module                                       arguments                     \n",
      "  0                  -1  1       464  ultralytics.nn.modules.conv.Conv             [3, 16, 3, 2]                 \n",
      "  1                  -1  1      4672  ultralytics.nn.modules.conv.Conv             [16, 32, 3, 2]                \n",
      "  2                  -1  1      6640  ultralytics.nn.modules.block.C3k2            [32, 64, 1, False, 0.25]      \n",
      "  3                  -1  1     36992  ultralytics.nn.modules.conv.Conv             [64, 64, 3, 2]                \n",
      "  4                  -1  1     26080  ultralytics.nn.modules.block.C3k2            [64, 128, 1, False, 0.25]     \n",
      "  5                  -1  1    147712  ultralytics.nn.modules.conv.Conv             [128, 128, 3, 2]              \n",
      "  6                  -1  1     87040  ultralytics.nn.modules.block.C3k2            [128, 128, 1, True]           \n",
      "  7                  -1  1    295424  ultralytics.nn.modules.conv.Conv             [128, 256, 3, 2]              \n",
      "  8                  -1  1    346112  ultralytics.nn.modules.block.C3k2            [256, 256, 1, True]           \n",
      "  9                  -1  1    164608  ultralytics.nn.modules.block.SPPF            [256, 256, 5]                 \n",
      " 10                  -1  1    249728  ultralytics.nn.modules.block.C2PSA           [256, 256, 1]                 \n",
      " 11                  -1  1         0  torch.nn.modules.upsampling.Upsample         [None, 2, 'nearest']          \n",
      " 12             [-1, 6]  1         0  ultralytics.nn.modules.conv.Concat           [1]                           \n",
      " 13                  -1  1    111296  ultralytics.nn.modules.block.C3k2            [384, 128, 1, False]          \n",
      " 14                  -1  1         0  torch.nn.modules.upsampling.Upsample         [None, 2, 'nearest']          \n",
      " 15             [-1, 4]  1         0  ultralytics.nn.modules.conv.Concat           [1]                           \n",
      " 16                  -1  1     32096  ultralytics.nn.modules.block.C3k2            [256, 64, 1, False]           \n",
      " 17                  -1  1     36992  ultralytics.nn.modules.conv.Conv             [64, 64, 3, 2]                \n",
      " 18            [-1, 13]  1         0  ultralytics.nn.modules.conv.Concat           [1]                           \n",
      " 19                  -1  1     86720  ultralytics.nn.modules.block.C3k2            [192, 128, 1, False]          \n",
      " 20                  -1  1    147712  ultralytics.nn.modules.conv.Conv             [128, 128, 3, 2]              \n",
      " 21            [-1, 10]  1         0  ultralytics.nn.modules.conv.Concat           [1]                           \n",
      " 22                  -1  1    378880  ultralytics.nn.modules.block.C3k2            [384, 256, 1, True]           \n",
      " 23        [16, 19, 22]  1    430867  ultralytics.nn.modules.head.Detect           [1, [64, 128, 256]]           \n",
      "YOLO11n summary: 181 layers, 2,590,035 parameters, 2,590,019 gradients, 6.4 GFLOPs\n",
      "\n",
      "Freezing layer 'model.23.dfl.conv.weight'\n",
      "\u001b[34m\u001b[1mAMP: \u001b[0mrunning Automatic Mixed Precision (AMP) checks...\n",
      "Downloading https://github.com/ultralytics/assets/releases/download/v8.3.0/yolo11n.pt to 'yolo11n.pt'...\n"
     ]
    },
    {
     "name": "stderr",
     "output_type": "stream",
     "text": [
      "100%|██████████| 5.35M/5.35M [00:00<00:00, 28.8MB/s]\n"
     ]
    },
    {
     "name": "stdout",
     "output_type": "stream",
     "text": [
      "\u001b[34m\u001b[1mAMP: \u001b[0mchecks passed \n"
     ]
    },
    {
     "name": "stderr",
     "output_type": "stream",
     "text": [
      "\u001b[34m\u001b[1mtrain: \u001b[0mScanning C:\\Users\\mini7\\Desktop\\Master\\Materias\\TFM\\Laura\\2025_MURIA_Aitor García Blanco\\03.Datasets\\YOLO_Datasets\\split\\train\\labels... 350 images, 0 backgrounds, 0 corrupt: 100%|██████████| 350/350 [00:00<00:00, 552.02it/s]"
     ]
    },
    {
     "name": "stdout",
     "output_type": "stream",
     "text": [
      "\u001b[34m\u001b[1mtrain: \u001b[0mNew cache created: C:\\Users\\mini7\\Desktop\\Master\\Materias\\TFM\\Laura\\2025_MURIA_Aitor Garca Blanco\\03.Datasets\\YOLO_Datasets\\split\\train\\labels.cache\n"
     ]
    },
    {
     "name": "stderr",
     "output_type": "stream",
     "text": [
      "\n",
      "\u001b[34m\u001b[1mval: \u001b[0mScanning C:\\Users\\mini7\\Desktop\\Master\\Materias\\TFM\\Laura\\2025_MURIA_Aitor García Blanco\\03.Datasets\\YOLO_Datasets\\split\\val\\labels... 203 images, 0 backgrounds, 0 corrupt: 100%|██████████| 203/203 [00:00<00:00, 333.53it/s]\n"
     ]
    },
    {
     "name": "stdout",
     "output_type": "stream",
     "text": [
      "\u001b[34m\u001b[1mval: \u001b[0mNew cache created: C:\\Users\\mini7\\Desktop\\Master\\Materias\\TFM\\Laura\\2025_MURIA_Aitor Garca Blanco\\03.Datasets\\YOLO_Datasets\\split\\val\\labels.cache\n",
      "Plotting labels to runs\\detect\\yolov11ny_new2\\labels.jpg... \n",
      "\u001b[34m\u001b[1moptimizer:\u001b[0m 'optimizer=auto' found, ignoring 'lr0=0.01' and 'momentum=0.937' and determining best 'optimizer', 'lr0' and 'momentum' automatically... \n",
      "\u001b[34m\u001b[1moptimizer:\u001b[0m AdamW(lr=0.002, momentum=0.9) with parameter groups 81 weight(decay=0.0), 88 weight(decay=0.0004921875), 87 bias(decay=0.0)\n",
      "Image sizes 1280 train, 1280 val\n",
      "Using 8 dataloader workers\n",
      "Logging results to \u001b[1mruns\\detect\\yolov11ny_new2\u001b[0m\n",
      "Starting training for 25 epochs...\n",
      "\n",
      "      Epoch    GPU_mem   box_loss   cls_loss   dfl_loss  Instances       Size\n"
     ]
    },
    {
     "name": "stderr",
     "output_type": "stream",
     "text": [
      "       1/25      2.04G      4.562      7.598      3.317         26       1280: 100%|██████████| 117/117 [00:25<00:00,  4.53it/s]\n",
      "                 Class     Images  Instances      Box(P          R      mAP50  mAP50-95): 100%|██████████| 34/34 [00:05<00:00,  5.90it/s]"
     ]
    },
    {
     "name": "stdout",
     "output_type": "stream",
     "text": [
      "                   all        203       2563          0          0          0          0\n"
     ]
    },
    {
     "name": "stderr",
     "output_type": "stream",
     "text": [
      "\n"
     ]
    },
    {
     "name": "stdout",
     "output_type": "stream",
     "text": [
      "\n",
      "      Epoch    GPU_mem   box_loss   cls_loss   dfl_loss  Instances       Size\n"
     ]
    },
    {
     "name": "stderr",
     "output_type": "stream",
     "text": [
      "       2/25      1.96G      2.291       3.52      1.776         45       1280: 100%|██████████| 117/117 [00:21<00:00,  5.44it/s]\n",
      "                 Class     Images  Instances      Box(P          R      mAP50  mAP50-95): 100%|██████████| 34/34 [00:05<00:00,  5.77it/s]"
     ]
    },
    {
     "name": "stdout",
     "output_type": "stream",
     "text": [
      "                   all        203       2563      0.402      0.285      0.236      0.118\n"
     ]
    },
    {
     "name": "stderr",
     "output_type": "stream",
     "text": [
      "\n"
     ]
    },
    {
     "name": "stdout",
     "output_type": "stream",
     "text": [
      "\n",
      "      Epoch    GPU_mem   box_loss   cls_loss   dfl_loss  Instances       Size\n"
     ]
    },
    {
     "name": "stderr",
     "output_type": "stream",
     "text": [
      "       3/25      2.27G      1.852      2.712      1.466         18       1280: 100%|██████████| 117/117 [00:22<00:00,  5.29it/s]\n",
      "                 Class     Images  Instances      Box(P          R      mAP50  mAP50-95): 100%|██████████| 34/34 [00:07<00:00,  4.81it/s]"
     ]
    },
    {
     "name": "stdout",
     "output_type": "stream",
     "text": [
      "                   all        203       2563      0.648      0.586      0.632      0.308\n"
     ]
    },
    {
     "name": "stderr",
     "output_type": "stream",
     "text": [
      "\n"
     ]
    },
    {
     "name": "stdout",
     "output_type": "stream",
     "text": [
      "\n",
      "      Epoch    GPU_mem   box_loss   cls_loss   dfl_loss  Instances       Size\n"
     ]
    },
    {
     "name": "stderr",
     "output_type": "stream",
     "text": [
      "       4/25      1.99G      1.604      2.199      1.322         49       1280: 100%|██████████| 117/117 [00:21<00:00,  5.55it/s]\n",
      "                 Class     Images  Instances      Box(P          R      mAP50  mAP50-95): 100%|██████████| 34/34 [00:05<00:00,  6.22it/s]"
     ]
    },
    {
     "name": "stdout",
     "output_type": "stream",
     "text": [
      "                   all        203       2563      0.698      0.657      0.731      0.351\n"
     ]
    },
    {
     "name": "stderr",
     "output_type": "stream",
     "text": [
      "\n"
     ]
    },
    {
     "name": "stdout",
     "output_type": "stream",
     "text": [
      "\n",
      "      Epoch    GPU_mem   box_loss   cls_loss   dfl_loss  Instances       Size\n"
     ]
    },
    {
     "name": "stderr",
     "output_type": "stream",
     "text": [
      "       5/25      2.17G      1.496      1.827       1.26          5       1280: 100%|██████████| 117/117 [00:21<00:00,  5.56it/s]\n",
      "                 Class     Images  Instances      Box(P          R      mAP50  mAP50-95): 100%|██████████| 34/34 [00:05<00:00,  6.64it/s]"
     ]
    },
    {
     "name": "stdout",
     "output_type": "stream",
     "text": [
      "                   all        203       2563      0.703      0.715      0.764      0.348\n"
     ]
    },
    {
     "name": "stderr",
     "output_type": "stream",
     "text": [
      "\n"
     ]
    },
    {
     "name": "stdout",
     "output_type": "stream",
     "text": [
      "\n",
      "      Epoch    GPU_mem   box_loss   cls_loss   dfl_loss  Instances       Size\n"
     ]
    },
    {
     "name": "stderr",
     "output_type": "stream",
     "text": [
      "       6/25      1.98G      1.445      1.744      1.217         52       1280: 100%|██████████| 117/117 [00:20<00:00,  5.58it/s]\n",
      "                 Class     Images  Instances      Box(P          R      mAP50  mAP50-95): 100%|██████████| 34/34 [00:04<00:00,  6.86it/s]"
     ]
    },
    {
     "name": "stdout",
     "output_type": "stream",
     "text": [
      "                   all        203       2563       0.73       0.73      0.788      0.407\n"
     ]
    },
    {
     "name": "stderr",
     "output_type": "stream",
     "text": [
      "\n"
     ]
    },
    {
     "name": "stdout",
     "output_type": "stream",
     "text": [
      "\n",
      "      Epoch    GPU_mem   box_loss   cls_loss   dfl_loss  Instances       Size\n"
     ]
    },
    {
     "name": "stderr",
     "output_type": "stream",
     "text": [
      "       7/25         2G      1.367      1.495      1.164         12       1280: 100%|██████████| 117/117 [00:21<00:00,  5.57it/s]\n",
      "                 Class     Images  Instances      Box(P          R      mAP50  mAP50-95): 100%|██████████| 34/34 [00:04<00:00,  7.28it/s]"
     ]
    },
    {
     "name": "stdout",
     "output_type": "stream",
     "text": [
      "                   all        203       2563      0.754      0.754      0.822      0.485\n"
     ]
    },
    {
     "name": "stderr",
     "output_type": "stream",
     "text": [
      "\n"
     ]
    },
    {
     "name": "stdout",
     "output_type": "stream",
     "text": [
      "\n",
      "      Epoch    GPU_mem   box_loss   cls_loss   dfl_loss  Instances       Size\n"
     ]
    },
    {
     "name": "stderr",
     "output_type": "stream",
     "text": [
      "       8/25      2.12G      1.285       1.36      1.129         30       1280: 100%|██████████| 117/117 [00:21<00:00,  5.44it/s]\n",
      "                 Class     Images  Instances      Box(P          R      mAP50  mAP50-95): 100%|██████████| 34/34 [00:04<00:00,  7.60it/s]"
     ]
    },
    {
     "name": "stdout",
     "output_type": "stream",
     "text": [
      "                   all        203       2563      0.761      0.768      0.832      0.464\n"
     ]
    },
    {
     "name": "stderr",
     "output_type": "stream",
     "text": [
      "\n"
     ]
    },
    {
     "name": "stdout",
     "output_type": "stream",
     "text": [
      "\n",
      "      Epoch    GPU_mem   box_loss   cls_loss   dfl_loss  Instances       Size\n"
     ]
    },
    {
     "name": "stderr",
     "output_type": "stream",
     "text": [
      "       9/25      2.08G      1.285      1.283      1.122         11       1280: 100%|██████████| 117/117 [00:21<00:00,  5.47it/s]\n",
      "                 Class     Images  Instances      Box(P          R      mAP50  mAP50-95): 100%|██████████| 34/34 [00:04<00:00,  7.75it/s]"
     ]
    },
    {
     "name": "stdout",
     "output_type": "stream",
     "text": [
      "                   all        203       2563      0.787       0.77      0.843      0.508\n"
     ]
    },
    {
     "name": "stderr",
     "output_type": "stream",
     "text": [
      "\n"
     ]
    },
    {
     "name": "stdout",
     "output_type": "stream",
     "text": [
      "\n",
      "      Epoch    GPU_mem   box_loss   cls_loss   dfl_loss  Instances       Size\n"
     ]
    },
    {
     "name": "stderr",
     "output_type": "stream",
     "text": [
      "      10/25      2.21G      1.274      1.308      1.118         17       1280: 100%|██████████| 117/117 [00:22<00:00,  5.15it/s]\n",
      "                 Class     Images  Instances      Box(P          R      mAP50  mAP50-95): 100%|██████████| 34/34 [00:04<00:00,  7.43it/s]\n"
     ]
    },
    {
     "name": "stdout",
     "output_type": "stream",
     "text": [
      "                   all        203       2563      0.787      0.763      0.843      0.482\n",
      "\n",
      "      Epoch    GPU_mem   box_loss   cls_loss   dfl_loss  Instances       Size\n"
     ]
    },
    {
     "name": "stderr",
     "output_type": "stream",
     "text": [
      "      11/25      2.18G      1.235      1.249      1.098         15       1280: 100%|██████████| 117/117 [00:22<00:00,  5.14it/s]\n",
      "                 Class     Images  Instances      Box(P          R      mAP50  mAP50-95): 100%|██████████| 34/34 [00:04<00:00,  7.35it/s]"
     ]
    },
    {
     "name": "stdout",
     "output_type": "stream",
     "text": [
      "                   all        203       2563      0.784      0.779      0.851       0.52\n"
     ]
    },
    {
     "name": "stderr",
     "output_type": "stream",
     "text": [
      "\n"
     ]
    },
    {
     "name": "stdout",
     "output_type": "stream",
     "text": [
      "\n",
      "      Epoch    GPU_mem   box_loss   cls_loss   dfl_loss  Instances       Size\n"
     ]
    },
    {
     "name": "stderr",
     "output_type": "stream",
     "text": [
      "      12/25      2.08G       1.19      1.184      1.072         12       1280: 100%|██████████| 117/117 [00:22<00:00,  5.28it/s]\n",
      "                 Class     Images  Instances      Box(P          R      mAP50  mAP50-95): 100%|██████████| 34/34 [00:05<00:00,  6.51it/s]"
     ]
    },
    {
     "name": "stdout",
     "output_type": "stream",
     "text": [
      "                   all        203       2563      0.793      0.799      0.858      0.522\n"
     ]
    },
    {
     "name": "stderr",
     "output_type": "stream",
     "text": [
      "\n"
     ]
    },
    {
     "name": "stdout",
     "output_type": "stream",
     "text": [
      "\n",
      "      Epoch    GPU_mem   box_loss   cls_loss   dfl_loss  Instances       Size\n"
     ]
    },
    {
     "name": "stderr",
     "output_type": "stream",
     "text": [
      "      13/25      2.29G      1.157       1.11      1.062          8       1280: 100%|██████████| 117/117 [00:21<00:00,  5.33it/s]\n",
      "                 Class     Images  Instances      Box(P          R      mAP50  mAP50-95): 100%|██████████| 34/34 [00:04<00:00,  7.45it/s]"
     ]
    },
    {
     "name": "stdout",
     "output_type": "stream",
     "text": [
      "                   all        203       2563      0.775      0.803       0.85      0.376\n"
     ]
    },
    {
     "name": "stderr",
     "output_type": "stream",
     "text": [
      "\n"
     ]
    },
    {
     "name": "stdout",
     "output_type": "stream",
     "text": [
      "\n",
      "      Epoch    GPU_mem   box_loss   cls_loss   dfl_loss  Instances       Size\n"
     ]
    },
    {
     "name": "stderr",
     "output_type": "stream",
     "text": [
      "      14/25      2.17G      1.181      1.119      1.068         26       1280: 100%|██████████| 117/117 [00:22<00:00,  5.27it/s]\n",
      "                 Class     Images  Instances      Box(P          R      mAP50  mAP50-95): 100%|██████████| 34/34 [00:04<00:00,  7.62it/s]"
     ]
    },
    {
     "name": "stdout",
     "output_type": "stream",
     "text": [
      "                   all        203       2563      0.797        0.8      0.861      0.549\n"
     ]
    },
    {
     "name": "stderr",
     "output_type": "stream",
     "text": [
      "\n"
     ]
    },
    {
     "name": "stdout",
     "output_type": "stream",
     "text": [
      "\n",
      "      Epoch    GPU_mem   box_loss   cls_loss   dfl_loss  Instances       Size\n"
     ]
    },
    {
     "name": "stderr",
     "output_type": "stream",
     "text": [
      "      15/25      2.02G       1.18       1.14      1.076         36       1280: 100%|██████████| 117/117 [00:22<00:00,  5.27it/s]\n",
      "                 Class     Images  Instances      Box(P          R      mAP50  mAP50-95): 100%|██████████| 34/34 [00:04<00:00,  7.57it/s]"
     ]
    },
    {
     "name": "stdout",
     "output_type": "stream",
     "text": [
      "                   all        203       2563      0.792      0.805      0.867       0.55\n"
     ]
    },
    {
     "name": "stderr",
     "output_type": "stream",
     "text": [
      "\n"
     ]
    },
    {
     "name": "stdout",
     "output_type": "stream",
     "text": [
      "Closing dataloader mosaic\n",
      "\n",
      "      Epoch    GPU_mem   box_loss   cls_loss   dfl_loss  Instances       Size\n"
     ]
    },
    {
     "name": "stderr",
     "output_type": "stream",
     "text": [
      "      16/25      2.13G      1.144      1.104      1.049          5       1280: 100%|██████████| 117/117 [00:21<00:00,  5.42it/s]\n",
      "                 Class     Images  Instances      Box(P          R      mAP50  mAP50-95): 100%|██████████| 34/34 [00:04<00:00,  7.84it/s]"
     ]
    },
    {
     "name": "stdout",
     "output_type": "stream",
     "text": [
      "                   all        203       2563      0.795      0.817       0.87      0.513\n"
     ]
    },
    {
     "name": "stderr",
     "output_type": "stream",
     "text": [
      "\n"
     ]
    },
    {
     "name": "stdout",
     "output_type": "stream",
     "text": [
      "\n",
      "      Epoch    GPU_mem   box_loss   cls_loss   dfl_loss  Instances       Size\n"
     ]
    },
    {
     "name": "stderr",
     "output_type": "stream",
     "text": [
      "      17/25      2.14G      1.127      1.075      1.039         29       1280: 100%|██████████| 117/117 [00:20<00:00,  5.63it/s]\n",
      "                 Class     Images  Instances      Box(P          R      mAP50  mAP50-95): 100%|██████████| 34/34 [00:04<00:00,  7.78it/s]"
     ]
    },
    {
     "name": "stdout",
     "output_type": "stream",
     "text": [
      "                   all        203       2563      0.801      0.816      0.872      0.477\n"
     ]
    },
    {
     "name": "stderr",
     "output_type": "stream",
     "text": [
      "\n"
     ]
    },
    {
     "name": "stdout",
     "output_type": "stream",
     "text": [
      "\n",
      "      Epoch    GPU_mem   box_loss   cls_loss   dfl_loss  Instances       Size\n"
     ]
    },
    {
     "name": "stderr",
     "output_type": "stream",
     "text": [
      "      18/25         2G      1.079      1.028      1.026         38       1280: 100%|██████████| 117/117 [00:20<00:00,  5.64it/s]\n",
      "                 Class     Images  Instances      Box(P          R      mAP50  mAP50-95): 100%|██████████| 34/34 [00:04<00:00,  7.80it/s]"
     ]
    },
    {
     "name": "stdout",
     "output_type": "stream",
     "text": [
      "                   all        203       2563      0.805      0.822      0.878      0.495\n"
     ]
    },
    {
     "name": "stderr",
     "output_type": "stream",
     "text": [
      "\n"
     ]
    },
    {
     "name": "stdout",
     "output_type": "stream",
     "text": [
      "\n",
      "      Epoch    GPU_mem   box_loss   cls_loss   dfl_loss  Instances       Size\n"
     ]
    },
    {
     "name": "stderr",
     "output_type": "stream",
     "text": [
      "      19/25      2.05G      1.074       1.04      1.036          9       1280: 100%|██████████| 117/117 [00:20<00:00,  5.64it/s]\n",
      "                 Class     Images  Instances      Box(P          R      mAP50  mAP50-95): 100%|██████████| 34/34 [00:04<00:00,  7.74it/s]"
     ]
    },
    {
     "name": "stdout",
     "output_type": "stream",
     "text": [
      "                   all        203       2563      0.809      0.831       0.88       0.52\n"
     ]
    },
    {
     "name": "stderr",
     "output_type": "stream",
     "text": [
      "\n"
     ]
    },
    {
     "name": "stdout",
     "output_type": "stream",
     "text": [
      "\n",
      "      Epoch    GPU_mem   box_loss   cls_loss   dfl_loss  Instances       Size\n"
     ]
    },
    {
     "name": "stderr",
     "output_type": "stream",
     "text": [
      "      20/25      2.17G      1.041     0.9913      1.011         10       1280: 100%|██████████| 117/117 [00:20<00:00,  5.65it/s]\n",
      "                 Class     Images  Instances      Box(P          R      mAP50  mAP50-95): 100%|██████████| 34/34 [00:04<00:00,  7.81it/s]"
     ]
    },
    {
     "name": "stdout",
     "output_type": "stream",
     "text": [
      "                   all        203       2563      0.803      0.815      0.877      0.456\n"
     ]
    },
    {
     "name": "stderr",
     "output_type": "stream",
     "text": [
      "\n"
     ]
    },
    {
     "name": "stdout",
     "output_type": "stream",
     "text": [
      "\n",
      "      Epoch    GPU_mem   box_loss   cls_loss   dfl_loss  Instances       Size\n"
     ]
    },
    {
     "name": "stderr",
     "output_type": "stream",
     "text": [
      "      21/25      2.18G       1.01     0.9752      1.002         53       1280: 100%|██████████| 117/117 [00:20<00:00,  5.59it/s]\n",
      "                 Class     Images  Instances      Box(P          R      mAP50  mAP50-95): 100%|██████████| 34/34 [00:04<00:00,  7.77it/s]"
     ]
    },
    {
     "name": "stdout",
     "output_type": "stream",
     "text": [
      "                   all        203       2563      0.797      0.822       0.87      0.407\n"
     ]
    },
    {
     "name": "stderr",
     "output_type": "stream",
     "text": [
      "\n"
     ]
    },
    {
     "name": "stdout",
     "output_type": "stream",
     "text": [
      "\n",
      "      Epoch    GPU_mem   box_loss   cls_loss   dfl_loss  Instances       Size\n"
     ]
    },
    {
     "name": "stderr",
     "output_type": "stream",
     "text": [
      "      22/25      2.16G      1.006     0.9467     0.9968         37       1280: 100%|██████████| 117/117 [00:21<00:00,  5.50it/s]\n",
      "                 Class     Images  Instances      Box(P          R      mAP50  mAP50-95): 100%|██████████| 34/34 [00:04<00:00,  7.72it/s]"
     ]
    },
    {
     "name": "stdout",
     "output_type": "stream",
     "text": [
      "                   all        203       2563      0.798       0.82      0.869      0.426\n"
     ]
    },
    {
     "name": "stderr",
     "output_type": "stream",
     "text": [
      "\n"
     ]
    },
    {
     "name": "stdout",
     "output_type": "stream",
     "text": [
      "\n",
      "      Epoch    GPU_mem   box_loss   cls_loss   dfl_loss  Instances       Size\n"
     ]
    },
    {
     "name": "stderr",
     "output_type": "stream",
     "text": [
      "      23/25      2.16G      1.002     0.9589      1.009         48       1280: 100%|██████████| 117/117 [00:21<00:00,  5.50it/s]\n",
      "                 Class     Images  Instances      Box(P          R      mAP50  mAP50-95): 100%|██████████| 34/34 [00:04<00:00,  7.80it/s]"
     ]
    },
    {
     "name": "stdout",
     "output_type": "stream",
     "text": [
      "                   all        203       2563      0.818      0.804      0.876      0.415\n"
     ]
    },
    {
     "name": "stderr",
     "output_type": "stream",
     "text": [
      "\n"
     ]
    },
    {
     "name": "stdout",
     "output_type": "stream",
     "text": [
      "\n",
      "      Epoch    GPU_mem   box_loss   cls_loss   dfl_loss  Instances       Size\n"
     ]
    },
    {
     "name": "stderr",
     "output_type": "stream",
     "text": [
      "      24/25      2.02G     0.9984     0.9705      1.004         29       1280: 100%|██████████| 117/117 [00:22<00:00,  5.21it/s]\n",
      "                 Class     Images  Instances      Box(P          R      mAP50  mAP50-95): 100%|██████████| 34/34 [00:04<00:00,  7.69it/s]"
     ]
    },
    {
     "name": "stdout",
     "output_type": "stream",
     "text": [
      "                   all        203       2563      0.803       0.83      0.878      0.443\n"
     ]
    },
    {
     "name": "stderr",
     "output_type": "stream",
     "text": [
      "\n"
     ]
    },
    {
     "name": "stdout",
     "output_type": "stream",
     "text": [
      "\n",
      "      Epoch    GPU_mem   box_loss   cls_loss   dfl_loss  Instances       Size\n"
     ]
    },
    {
     "name": "stderr",
     "output_type": "stream",
     "text": [
      "      25/25      1.98G     0.9914      0.928     0.9951         14       1280: 100%|██████████| 117/117 [00:21<00:00,  5.57it/s]\n",
      "                 Class     Images  Instances      Box(P          R      mAP50  mAP50-95): 100%|██████████| 34/34 [00:04<00:00,  7.59it/s]"
     ]
    },
    {
     "name": "stdout",
     "output_type": "stream",
     "text": [
      "                   all        203       2563      0.797      0.826      0.875      0.374\n"
     ]
    },
    {
     "name": "stderr",
     "output_type": "stream",
     "text": [
      "\n"
     ]
    },
    {
     "name": "stdout",
     "output_type": "stream",
     "text": [
      "\n",
      "25 epochs completed in 0.201 hours.\n",
      "Optimizer stripped from runs\\detect\\yolov11ny_new2\\weights\\last.pt, 5.6MB\n",
      "Optimizer stripped from runs\\detect\\yolov11ny_new2\\weights\\best.pt, 5.6MB\n",
      "\n",
      "Validating runs\\detect\\yolov11ny_new2\\weights\\best.pt...\n",
      "Ultralytics 8.3.81  Python-3.11.11 torch-2.6.0+cu126 CUDA:0 (NVIDIA GeForce RTX 3050 Laptop GPU, 4096MiB)\n",
      "YOLO11n summary (fused): 100 layers, 2,582,347 parameters, 0 gradients, 6.3 GFLOPs\n"
     ]
    },
    {
     "name": "stderr",
     "output_type": "stream",
     "text": [
      "                 Class     Images  Instances      Box(P          R      mAP50  mAP50-95): 100%|██████████| 34/34 [00:08<00:00,  3.93it/s]\n"
     ]
    },
    {
     "name": "stdout",
     "output_type": "stream",
     "text": [
      "                   all        203       2563      0.801      0.767      0.855      0.537\n",
      "Speed: 1.2ms preprocess, 29.7ms inference, 0.0ms loss, 2.4ms postprocess per image\n",
      "Results saved to \u001b[1mruns\\detect\\yolov11ny_new2\u001b[0m\n"
     ]
    },
    {
     "data": {
      "text/plain": [
       "ultralytics.utils.metrics.DetMetrics object with attributes:\n",
       "\n",
       "ap_class_index: array([0])\n",
       "box: ultralytics.utils.metrics.Metric object\n",
       "confusion_matrix: <ultralytics.utils.metrics.ConfusionMatrix object at 0x0000018D45DC6B10>\n",
       "curves: ['Precision-Recall(B)', 'F1-Confidence(B)', 'Precision-Confidence(B)', 'Recall-Confidence(B)']\n",
       "curves_results: [[array([          0,    0.001001,    0.002002,    0.003003,    0.004004,    0.005005,    0.006006,    0.007007,    0.008008,    0.009009,     0.01001,    0.011011,    0.012012,    0.013013,    0.014014,    0.015015,    0.016016,    0.017017,    0.018018,    0.019019,     0.02002,    0.021021,    0.022022,    0.023023,\n",
       "          0.024024,    0.025025,    0.026026,    0.027027,    0.028028,    0.029029,     0.03003,    0.031031,    0.032032,    0.033033,    0.034034,    0.035035,    0.036036,    0.037037,    0.038038,    0.039039,     0.04004,    0.041041,    0.042042,    0.043043,    0.044044,    0.045045,    0.046046,    0.047047,\n",
       "          0.048048,    0.049049,     0.05005,    0.051051,    0.052052,    0.053053,    0.054054,    0.055055,    0.056056,    0.057057,    0.058058,    0.059059,     0.06006,    0.061061,    0.062062,    0.063063,    0.064064,    0.065065,    0.066066,    0.067067,    0.068068,    0.069069,     0.07007,    0.071071,\n",
       "          0.072072,    0.073073,    0.074074,    0.075075,    0.076076,    0.077077,    0.078078,    0.079079,     0.08008,    0.081081,    0.082082,    0.083083,    0.084084,    0.085085,    0.086086,    0.087087,    0.088088,    0.089089,     0.09009,    0.091091,    0.092092,    0.093093,    0.094094,    0.095095,\n",
       "          0.096096,    0.097097,    0.098098,    0.099099,      0.1001,      0.1011,      0.1021,      0.1031,      0.1041,     0.10511,     0.10611,     0.10711,     0.10811,     0.10911,     0.11011,     0.11111,     0.11211,     0.11311,     0.11411,     0.11512,     0.11612,     0.11712,     0.11812,     0.11912,\n",
       "           0.12012,     0.12112,     0.12212,     0.12312,     0.12412,     0.12513,     0.12613,     0.12713,     0.12813,     0.12913,     0.13013,     0.13113,     0.13213,     0.13313,     0.13413,     0.13514,     0.13614,     0.13714,     0.13814,     0.13914,     0.14014,     0.14114,     0.14214,     0.14314,\n",
       "           0.14414,     0.14515,     0.14615,     0.14715,     0.14815,     0.14915,     0.15015,     0.15115,     0.15215,     0.15315,     0.15415,     0.15516,     0.15616,     0.15716,     0.15816,     0.15916,     0.16016,     0.16116,     0.16216,     0.16316,     0.16416,     0.16517,     0.16617,     0.16717,\n",
       "           0.16817,     0.16917,     0.17017,     0.17117,     0.17217,     0.17317,     0.17417,     0.17518,     0.17618,     0.17718,     0.17818,     0.17918,     0.18018,     0.18118,     0.18218,     0.18318,     0.18418,     0.18519,     0.18619,     0.18719,     0.18819,     0.18919,     0.19019,     0.19119,\n",
       "           0.19219,     0.19319,     0.19419,      0.1952,      0.1962,      0.1972,      0.1982,      0.1992,      0.2002,      0.2012,      0.2022,      0.2032,      0.2042,     0.20521,     0.20621,     0.20721,     0.20821,     0.20921,     0.21021,     0.21121,     0.21221,     0.21321,     0.21421,     0.21522,\n",
       "           0.21622,     0.21722,     0.21822,     0.21922,     0.22022,     0.22122,     0.22222,     0.22322,     0.22422,     0.22523,     0.22623,     0.22723,     0.22823,     0.22923,     0.23023,     0.23123,     0.23223,     0.23323,     0.23423,     0.23524,     0.23624,     0.23724,     0.23824,     0.23924,\n",
       "           0.24024,     0.24124,     0.24224,     0.24324,     0.24424,     0.24525,     0.24625,     0.24725,     0.24825,     0.24925,     0.25025,     0.25125,     0.25225,     0.25325,     0.25425,     0.25526,     0.25626,     0.25726,     0.25826,     0.25926,     0.26026,     0.26126,     0.26226,     0.26326,\n",
       "           0.26426,     0.26527,     0.26627,     0.26727,     0.26827,     0.26927,     0.27027,     0.27127,     0.27227,     0.27327,     0.27427,     0.27528,     0.27628,     0.27728,     0.27828,     0.27928,     0.28028,     0.28128,     0.28228,     0.28328,     0.28428,     0.28529,     0.28629,     0.28729,\n",
       "           0.28829,     0.28929,     0.29029,     0.29129,     0.29229,     0.29329,     0.29429,      0.2953,      0.2963,      0.2973,      0.2983,      0.2993,      0.3003,      0.3013,      0.3023,      0.3033,      0.3043,     0.30531,     0.30631,     0.30731,     0.30831,     0.30931,     0.31031,     0.31131,\n",
       "           0.31231,     0.31331,     0.31431,     0.31532,     0.31632,     0.31732,     0.31832,     0.31932,     0.32032,     0.32132,     0.32232,     0.32332,     0.32432,     0.32533,     0.32633,     0.32733,     0.32833,     0.32933,     0.33033,     0.33133,     0.33233,     0.33333,     0.33433,     0.33534,\n",
       "           0.33634,     0.33734,     0.33834,     0.33934,     0.34034,     0.34134,     0.34234,     0.34334,     0.34434,     0.34535,     0.34635,     0.34735,     0.34835,     0.34935,     0.35035,     0.35135,     0.35235,     0.35335,     0.35435,     0.35536,     0.35636,     0.35736,     0.35836,     0.35936,\n",
       "           0.36036,     0.36136,     0.36236,     0.36336,     0.36436,     0.36537,     0.36637,     0.36737,     0.36837,     0.36937,     0.37037,     0.37137,     0.37237,     0.37337,     0.37437,     0.37538,     0.37638,     0.37738,     0.37838,     0.37938,     0.38038,     0.38138,     0.38238,     0.38338,\n",
       "           0.38438,     0.38539,     0.38639,     0.38739,     0.38839,     0.38939,     0.39039,     0.39139,     0.39239,     0.39339,     0.39439,      0.3954,      0.3964,      0.3974,      0.3984,      0.3994,      0.4004,      0.4014,      0.4024,      0.4034,      0.4044,     0.40541,     0.40641,     0.40741,\n",
       "           0.40841,     0.40941,     0.41041,     0.41141,     0.41241,     0.41341,     0.41441,     0.41542,     0.41642,     0.41742,     0.41842,     0.41942,     0.42042,     0.42142,     0.42242,     0.42342,     0.42442,     0.42543,     0.42643,     0.42743,     0.42843,     0.42943,     0.43043,     0.43143,\n",
       "           0.43243,     0.43343,     0.43443,     0.43544,     0.43644,     0.43744,     0.43844,     0.43944,     0.44044,     0.44144,     0.44244,     0.44344,     0.44444,     0.44545,     0.44645,     0.44745,     0.44845,     0.44945,     0.45045,     0.45145,     0.45245,     0.45345,     0.45445,     0.45546,\n",
       "           0.45646,     0.45746,     0.45846,     0.45946,     0.46046,     0.46146,     0.46246,     0.46346,     0.46446,     0.46547,     0.46647,     0.46747,     0.46847,     0.46947,     0.47047,     0.47147,     0.47247,     0.47347,     0.47447,     0.47548,     0.47648,     0.47748,     0.47848,     0.47948,\n",
       "           0.48048,     0.48148,     0.48248,     0.48348,     0.48448,     0.48549,     0.48649,     0.48749,     0.48849,     0.48949,     0.49049,     0.49149,     0.49249,     0.49349,     0.49449,      0.4955,      0.4965,      0.4975,      0.4985,      0.4995,      0.5005,      0.5015,      0.5025,      0.5035,\n",
       "            0.5045,     0.50551,     0.50651,     0.50751,     0.50851,     0.50951,     0.51051,     0.51151,     0.51251,     0.51351,     0.51451,     0.51552,     0.51652,     0.51752,     0.51852,     0.51952,     0.52052,     0.52152,     0.52252,     0.52352,     0.52452,     0.52553,     0.52653,     0.52753,\n",
       "           0.52853,     0.52953,     0.53053,     0.53153,     0.53253,     0.53353,     0.53453,     0.53554,     0.53654,     0.53754,     0.53854,     0.53954,     0.54054,     0.54154,     0.54254,     0.54354,     0.54454,     0.54555,     0.54655,     0.54755,     0.54855,     0.54955,     0.55055,     0.55155,\n",
       "           0.55255,     0.55355,     0.55455,     0.55556,     0.55656,     0.55756,     0.55856,     0.55956,     0.56056,     0.56156,     0.56256,     0.56356,     0.56456,     0.56557,     0.56657,     0.56757,     0.56857,     0.56957,     0.57057,     0.57157,     0.57257,     0.57357,     0.57457,     0.57558,\n",
       "           0.57658,     0.57758,     0.57858,     0.57958,     0.58058,     0.58158,     0.58258,     0.58358,     0.58458,     0.58559,     0.58659,     0.58759,     0.58859,     0.58959,     0.59059,     0.59159,     0.59259,     0.59359,     0.59459,      0.5956,      0.5966,      0.5976,      0.5986,      0.5996,\n",
       "            0.6006,      0.6016,      0.6026,      0.6036,      0.6046,     0.60561,     0.60661,     0.60761,     0.60861,     0.60961,     0.61061,     0.61161,     0.61261,     0.61361,     0.61461,     0.61562,     0.61662,     0.61762,     0.61862,     0.61962,     0.62062,     0.62162,     0.62262,     0.62362,\n",
       "           0.62462,     0.62563,     0.62663,     0.62763,     0.62863,     0.62963,     0.63063,     0.63163,     0.63263,     0.63363,     0.63463,     0.63564,     0.63664,     0.63764,     0.63864,     0.63964,     0.64064,     0.64164,     0.64264,     0.64364,     0.64464,     0.64565,     0.64665,     0.64765,\n",
       "           0.64865,     0.64965,     0.65065,     0.65165,     0.65265,     0.65365,     0.65465,     0.65566,     0.65666,     0.65766,     0.65866,     0.65966,     0.66066,     0.66166,     0.66266,     0.66366,     0.66466,     0.66567,     0.66667,     0.66767,     0.66867,     0.66967,     0.67067,     0.67167,\n",
       "           0.67267,     0.67367,     0.67467,     0.67568,     0.67668,     0.67768,     0.67868,     0.67968,     0.68068,     0.68168,     0.68268,     0.68368,     0.68468,     0.68569,     0.68669,     0.68769,     0.68869,     0.68969,     0.69069,     0.69169,     0.69269,     0.69369,     0.69469,      0.6957,\n",
       "            0.6967,      0.6977,      0.6987,      0.6997,      0.7007,      0.7017,      0.7027,      0.7037,      0.7047,     0.70571,     0.70671,     0.70771,     0.70871,     0.70971,     0.71071,     0.71171,     0.71271,     0.71371,     0.71471,     0.71572,     0.71672,     0.71772,     0.71872,     0.71972,\n",
       "           0.72072,     0.72172,     0.72272,     0.72372,     0.72472,     0.72573,     0.72673,     0.72773,     0.72873,     0.72973,     0.73073,     0.73173,     0.73273,     0.73373,     0.73473,     0.73574,     0.73674,     0.73774,     0.73874,     0.73974,     0.74074,     0.74174,     0.74274,     0.74374,\n",
       "           0.74474,     0.74575,     0.74675,     0.74775,     0.74875,     0.74975,     0.75075,     0.75175,     0.75275,     0.75375,     0.75475,     0.75576,     0.75676,     0.75776,     0.75876,     0.75976,     0.76076,     0.76176,     0.76276,     0.76376,     0.76476,     0.76577,     0.76677,     0.76777,\n",
       "           0.76877,     0.76977,     0.77077,     0.77177,     0.77277,     0.77377,     0.77477,     0.77578,     0.77678,     0.77778,     0.77878,     0.77978,     0.78078,     0.78178,     0.78278,     0.78378,     0.78478,     0.78579,     0.78679,     0.78779,     0.78879,     0.78979,     0.79079,     0.79179,\n",
       "           0.79279,     0.79379,     0.79479,      0.7958,      0.7968,      0.7978,      0.7988,      0.7998,      0.8008,      0.8018,      0.8028,      0.8038,      0.8048,     0.80581,     0.80681,     0.80781,     0.80881,     0.80981,     0.81081,     0.81181,     0.81281,     0.81381,     0.81481,     0.81582,\n",
       "           0.81682,     0.81782,     0.81882,     0.81982,     0.82082,     0.82182,     0.82282,     0.82382,     0.82482,     0.82583,     0.82683,     0.82783,     0.82883,     0.82983,     0.83083,     0.83183,     0.83283,     0.83383,     0.83483,     0.83584,     0.83684,     0.83784,     0.83884,     0.83984,\n",
       "           0.84084,     0.84184,     0.84284,     0.84384,     0.84484,     0.84585,     0.84685,     0.84785,     0.84885,     0.84985,     0.85085,     0.85185,     0.85285,     0.85385,     0.85485,     0.85586,     0.85686,     0.85786,     0.85886,     0.85986,     0.86086,     0.86186,     0.86286,     0.86386,\n",
       "           0.86486,     0.86587,     0.86687,     0.86787,     0.86887,     0.86987,     0.87087,     0.87187,     0.87287,     0.87387,     0.87487,     0.87588,     0.87688,     0.87788,     0.87888,     0.87988,     0.88088,     0.88188,     0.88288,     0.88388,     0.88488,     0.88589,     0.88689,     0.88789,\n",
       "           0.88889,     0.88989,     0.89089,     0.89189,     0.89289,     0.89389,     0.89489,      0.8959,      0.8969,      0.8979,      0.8989,      0.8999,      0.9009,      0.9019,      0.9029,      0.9039,      0.9049,     0.90591,     0.90691,     0.90791,     0.90891,     0.90991,     0.91091,     0.91191,\n",
       "           0.91291,     0.91391,     0.91491,     0.91592,     0.91692,     0.91792,     0.91892,     0.91992,     0.92092,     0.92192,     0.92292,     0.92392,     0.92492,     0.92593,     0.92693,     0.92793,     0.92893,     0.92993,     0.93093,     0.93193,     0.93293,     0.93393,     0.93493,     0.93594,\n",
       "           0.93694,     0.93794,     0.93894,     0.93994,     0.94094,     0.94194,     0.94294,     0.94394,     0.94494,     0.94595,     0.94695,     0.94795,     0.94895,     0.94995,     0.95095,     0.95195,     0.95295,     0.95395,     0.95495,     0.95596,     0.95696,     0.95796,     0.95896,     0.95996,\n",
       "           0.96096,     0.96196,     0.96296,     0.96396,     0.96496,     0.96597,     0.96697,     0.96797,     0.96897,     0.96997,     0.97097,     0.97197,     0.97297,     0.97397,     0.97497,     0.97598,     0.97698,     0.97798,     0.97898,     0.97998,     0.98098,     0.98198,     0.98298,     0.98398,\n",
       "           0.98498,     0.98599,     0.98699,     0.98799,     0.98899,     0.98999,     0.99099,     0.99199,     0.99299,     0.99399,     0.99499,       0.996,       0.997,       0.998,       0.999,           1]), array([[          1,           1,           1,           1,           1,           1,           1,           1,           1,           1,           1,           1,           1,           1,           1,           1,           1,           1,           1,           1,           1,           1,           1,\n",
       "                  1,     0.99259,     0.99259,     0.99259,     0.99259,     0.99259,     0.99259,     0.99259,     0.99259,     0.99259,     0.99259,     0.99259,     0.99259,     0.99259,     0.99259,     0.99259,     0.99259,     0.99259,     0.99259,     0.99259,     0.99259,     0.99259,     0.99259,\n",
       "            0.99259,     0.99259,     0.99259,     0.99259,     0.99259,     0.99259,     0.99259,     0.98561,     0.98198,     0.98198,     0.98198,     0.98198,     0.98198,     0.98198,     0.98198,     0.98198,     0.98198,     0.98198,     0.98198,     0.98198,     0.98198,     0.98198,     0.98198,\n",
       "            0.98198,     0.98198,     0.98198,     0.98198,     0.98198,     0.98198,     0.98198,     0.98198,     0.98198,     0.98198,     0.98198,     0.98198,     0.98198,     0.98198,     0.98198,     0.98198,     0.97876,     0.97876,     0.97876,     0.97876,     0.97876,     0.97876,     0.97876,\n",
       "            0.97876,     0.97876,     0.97876,     0.97876,     0.97876,     0.97876,     0.97876,     0.97876,     0.97876,     0.97876,     0.97876,     0.97876,     0.97876,     0.97876,     0.97876,     0.97876,     0.97876,     0.97876,     0.97876,     0.97876,     0.97876,     0.97876,     0.97876,\n",
       "            0.97876,     0.97876,     0.97876,     0.97876,     0.97876,     0.97876,     0.97876,     0.97876,     0.97876,     0.97876,     0.97876,     0.97876,     0.97876,     0.97876,     0.97876,     0.97876,     0.97876,     0.97876,     0.97876,     0.97876,     0.97876,     0.97876,     0.97876,\n",
       "            0.97876,     0.97876,     0.97876,     0.97876,     0.97876,     0.97876,     0.97876,     0.97876,     0.97876,     0.97876,     0.97876,     0.97876,     0.97876,     0.97876,     0.97876,     0.97876,     0.97876,     0.97876,     0.97876,     0.97876,     0.97876,     0.97876,     0.97876,\n",
       "            0.97876,     0.97876,     0.97876,     0.97876,     0.97876,     0.97876,     0.97876,     0.97876,     0.97876,     0.97876,     0.97876,     0.97876,     0.97876,     0.97876,     0.97876,     0.97876,     0.97876,     0.97876,     0.97876,     0.97876,     0.97876,     0.97876,     0.97876,\n",
       "            0.97876,     0.97876,     0.97876,     0.97876,     0.97876,     0.97876,     0.97876,     0.97876,     0.97876,     0.97876,     0.97876,     0.97876,     0.97876,     0.97876,     0.97876,     0.97876,     0.97876,     0.97876,     0.97876,     0.97876,     0.97876,     0.97876,     0.97876,\n",
       "            0.97876,     0.97876,     0.97876,     0.97876,     0.97876,     0.97876,     0.97876,     0.97876,     0.97876,     0.97876,     0.97876,     0.97876,     0.97876,     0.97876,     0.97876,     0.97876,     0.97876,     0.97876,     0.97876,     0.97876,     0.97876,     0.97876,     0.97876,\n",
       "            0.97876,     0.97876,     0.97876,     0.97876,     0.97876,     0.97876,     0.97876,     0.97876,     0.97876,     0.97876,     0.97876,     0.97876,     0.97876,     0.97876,     0.97876,     0.97876,     0.97876,     0.97876,     0.97876,     0.97876,     0.97876,     0.97876,     0.97807,\n",
       "            0.97807,     0.97807,     0.97807,     0.97807,     0.97807,     0.97807,     0.97807,     0.97807,     0.97674,     0.97554,     0.97554,     0.97554,     0.97486,     0.97486,     0.97486,     0.97486,     0.97486,     0.97486,     0.97486,     0.97486,     0.97446,     0.97446,     0.97446,\n",
       "            0.97446,     0.97446,     0.97446,     0.97446,     0.97446,     0.97446,     0.97446,     0.97323,     0.97226,     0.97226,     0.97226,     0.97132,     0.97132,     0.97132,     0.97132,     0.97021,     0.96962,     0.96962,     0.96962,     0.96962,     0.96962,     0.96962,     0.96962,\n",
       "            0.96847,      0.9679,      0.9679,      0.9679,      0.9679,      0.9679,      0.9679,     0.96778,     0.96778,     0.96778,     0.96778,     0.96778,     0.96778,     0.96778,     0.96778,     0.96778,     0.96778,     0.96778,     0.96698,     0.96698,     0.96698,     0.96641,     0.96641,\n",
       "            0.96641,     0.96641,     0.96641,     0.96641,     0.96641,     0.96641,     0.96641,     0.96641,     0.96641,     0.96641,     0.96641,     0.96641,     0.96641,     0.96641,     0.96641,     0.96597,     0.96597,     0.96597,     0.96597,     0.96597,     0.96597,     0.96597,     0.96514,\n",
       "            0.96514,     0.96436,     0.96436,     0.96436,     0.96375,     0.96375,     0.96375,     0.96375,     0.96085,     0.96046,     0.96046,     0.96046,     0.96046,     0.96046,     0.96046,     0.95996,     0.95996,     0.95996,     0.95996,     0.95996,     0.95961,     0.95961,     0.95961,\n",
       "            0.95961,     0.95961,     0.95961,     0.95961,     0.95961,     0.95961,     0.95961,     0.95961,     0.95961,     0.95961,     0.95961,     0.95961,     0.95934,     0.95934,     0.95934,     0.95934,     0.95934,     0.95934,     0.95934,     0.95669,     0.95627,     0.95627,     0.95627,\n",
       "            0.95627,     0.95627,      0.9551,      0.9551,      0.9551,      0.9551,      0.9551,     0.95459,     0.95459,     0.95459,     0.95459,     0.95379,     0.95351,     0.95351,     0.95351,     0.95351,     0.95351,     0.95268,     0.95225,     0.95225,     0.95225,     0.95107,     0.95107,\n",
       "            0.95107,     0.95107,     0.95107,      0.9507,      0.9507,      0.9507,      0.9507,     0.94991,     0.94917,     0.94856,     0.94856,     0.94841,     0.94841,     0.94841,     0.94841,     0.94841,     0.94777,     0.94777,     0.94737,     0.94737,     0.94737,     0.94661,     0.94515,\n",
       "            0.94468,     0.94468,     0.94468,     0.94398,     0.94385,     0.94385,     0.94385,     0.94385,     0.94385,     0.94354,     0.94354,     0.94354,     0.94354,     0.94314,     0.94314,     0.94314,     0.94246,     0.94194,     0.94194,     0.94179,     0.94179,     0.94179,     0.94179,\n",
       "            0.94179,     0.94141,     0.94141,     0.94141,     0.94095,     0.94095,     0.94095,     0.94095,     0.94095,     0.94095,     0.94095,     0.94095,     0.94095,     0.94078,     0.94078,     0.94078,     0.94078,     0.94078,     0.94078,     0.94078,     0.94078,     0.94078,     0.94078,\n",
       "            0.94078,     0.94078,     0.94078,     0.94078,     0.94078,     0.94078,     0.94078,     0.94034,     0.94034,     0.94013,     0.94013,     0.94013,     0.94013,     0.93966,     0.93966,     0.93909,     0.93909,     0.93909,     0.93909,     0.93909,     0.93909,     0.93909,     0.93845,\n",
       "            0.93795,     0.93674,     0.93562,     0.93562,     0.93509,     0.93466,     0.93466,     0.93338,     0.93305,     0.93305,     0.93305,     0.93291,     0.93291,     0.93291,     0.93291,     0.93236,     0.93218,     0.93218,     0.93218,     0.93218,     0.93172,     0.93092,     0.93092,\n",
       "            0.93092,     0.93092,     0.92988,     0.92988,     0.92896,     0.92896,     0.92896,     0.92852,     0.92809,     0.92809,     0.92699,      0.9259,     0.92543,     0.92507,     0.92507,      0.9245,     0.92368,     0.92368,     0.92368,     0.92333,     0.92333,     0.92333,     0.92333,\n",
       "            0.92333,     0.92333,     0.92288,     0.92288,      0.9212,      0.9212,      0.9212,      0.9212,      0.9212,     0.92082,     0.92082,     0.92038,     0.91965,     0.91965,     0.91965,     0.91965,     0.91965,     0.91965,     0.91965,     0.91965,     0.91927,      0.9188,     0.91781,\n",
       "            0.91734,     0.91723,     0.91723,     0.91723,     0.91626,       0.916,       0.916,       0.916,     0.91554,     0.91338,     0.91338,     0.91338,     0.91338,     0.91338,     0.91338,     0.91338,     0.91338,     0.91338,     0.91338,     0.91338,     0.91338,     0.91289,     0.91098,\n",
       "            0.91098,      0.9107,      0.9107,     0.90995,     0.90995,     0.90952,     0.90925,     0.90925,     0.90829,     0.90793,     0.90793,     0.90793,     0.90793,     0.90793,     0.90663,     0.90663,     0.90523,      0.9043,       0.904,     0.90359,     0.90279,     0.90198,     0.90198,\n",
       "            0.90164,     0.90119,     0.89888,     0.89766,     0.89766,     0.89766,     0.89766,     0.89766,     0.89766,     0.89724,     0.89724,     0.89724,     0.89665,     0.89665,     0.89665,     0.89621,      0.8954,     0.89508,     0.89422,     0.89391,     0.89322,     0.89322,     0.89286,\n",
       "            0.89134,     0.89134,     0.89044,     0.88919,     0.88889,     0.88812,     0.88747,     0.88747,     0.88736,     0.88736,     0.88736,     0.88585,     0.88585,     0.88562,     0.88528,     0.88524,     0.88524,     0.88524,     0.88468,     0.88468,      0.8844,     0.88406,     0.88366,\n",
       "            0.88247,     0.88214,     0.88214,     0.88214,     0.88214,     0.88214,     0.88214,     0.88128,     0.88128,     0.88128,     0.88128,     0.88107,      0.8803,     0.87998,     0.87883,     0.87706,     0.87706,     0.87706,     0.87562,     0.87562,     0.87469,     0.87469,     0.87315,\n",
       "            0.87241,     0.87168,     0.87144,     0.86872,     0.86842,     0.86728,     0.86699,     0.86647,     0.86647,     0.86548,     0.86513,      0.8649,      0.8644,      0.8644,     0.86424,     0.86361,     0.86251,     0.86217,     0.86161,     0.86153,     0.86153,     0.85882,     0.85828,\n",
       "            0.85828,     0.85828,     0.85828,     0.85808,     0.85748,     0.85728,     0.85694,     0.85279,     0.85214,     0.85078,     0.84819,     0.84686,     0.84552,     0.84299,     0.84182,     0.84182,     0.84128,     0.84118,     0.84088,     0.84079,     0.84011,     0.83837,     0.83837,\n",
       "            0.83807,     0.83754,     0.83694,     0.83635,     0.83509,     0.83494,      0.8337,     0.83275,     0.82892,     0.82771,      0.8275,     0.82701,     0.82474,     0.82242,      0.8195,     0.81861,     0.81676,     0.81492,     0.81402,     0.81402,     0.81308,     0.81169,     0.81065,\n",
       "            0.81065,     0.80929,     0.80836,     0.80701,     0.80643,     0.80352,     0.80352,     0.80098,     0.80098,     0.79669,     0.79565,     0.79493,     0.79382,     0.79335,     0.79265,     0.79258,     0.79085,      0.7886,     0.78814,     0.78777,     0.78732,     0.78664,     0.78627,\n",
       "            0.78552,     0.78477,     0.78438,     0.78438,     0.78438,     0.78325,      0.7832,     0.78276,     0.78172,     0.78025,     0.77825,      0.7782,     0.77549,     0.77525,     0.77395,     0.77228,     0.77184,     0.77184,     0.76863,     0.76659,     0.76657,     0.76646,     0.76521,\n",
       "            0.76377,     0.76254,     0.75916,     0.75851,     0.75794,     0.75463,     0.75344,     0.75235,     0.75198,     0.75054,     0.75054,     0.74955,     0.74662,     0.74618,     0.74486,     0.74399,      0.7433,     0.74313,     0.74306,     0.74237,      0.7416,     0.74006,     0.73963,\n",
       "            0.73682,     0.73522,     0.73271,     0.73139,     0.72967,     0.72854,      0.7269,     0.72497,     0.72329,      0.7226,     0.72036,     0.71935,     0.71438,     0.71292,     0.71156,     0.70928,     0.70761,     0.70481,      0.7036,     0.70333,     0.70303,      0.7029,     0.70129,\n",
       "            0.70077,     0.69618,     0.69536,     0.69489,     0.69211,     0.68958,     0.68848,      0.6862,     0.68573,     0.68562,     0.68485,     0.68272,     0.67986,      0.6784,     0.67457,     0.67436,     0.67008,     0.66977,     0.66707,     0.66046,       0.659,     0.65804,     0.65459,\n",
       "            0.65241,     0.65167,     0.64653,      0.6404,     0.64024,     0.63946,     0.63785,     0.63647,     0.63329,      0.6312,     0.62662,     0.62493,     0.61861,      0.6163,     0.61439,     0.61433,      0.6125,      0.6109,     0.60588,     0.60084,     0.60084,     0.59849,     0.59761,\n",
       "            0.59514,     0.59331,     0.59292,     0.59292,      0.5865,     0.58489,     0.58344,     0.58233,     0.57848,     0.57649,     0.57354,     0.56926,     0.56503,      0.5636,      0.5576,     0.55688,     0.55534,     0.55307,      0.5486,     0.54789,     0.54227,     0.53987,     0.53897,\n",
       "            0.53344,      0.5323,     0.53145,     0.52785,      0.5256,     0.52418,     0.52254,     0.51932,     0.50833,     0.50327,      0.5001,     0.49698,     0.49421,     0.49209,     0.48849,      0.4873,     0.48496,     0.48022,     0.47363,     0.47126,     0.46645,     0.46273,     0.46144,\n",
       "            0.45549,     0.45398,       0.448,     0.43685,     0.43062,     0.42639,     0.42012,     0.41217,     0.40565,     0.39918,     0.39763,     0.38907,      0.3858,     0.38292,     0.38083,     0.37781,     0.37074,     0.36311,     0.35864,     0.33734,     0.33284,     0.31997,      0.3133,\n",
       "            0.31073,     0.30611,     0.29217,     0.28159,      0.2786,     0.25423,     0.25038,     0.23929,     0.22958,     0.21539,     0.20195,     0.19265,     0.18357,     0.17751,     0.16397,     0.15567,     0.13231,     0.13032,    0.088305,    0.041409,    0.038451,    0.035494,    0.032536,\n",
       "           0.029578,     0.02662,    0.023662,    0.020705,    0.017747,    0.014789,    0.011831,   0.0088734,   0.0059156,   0.0029578,           0]]), 'Recall', 'Precision'], [array([          0,    0.001001,    0.002002,    0.003003,    0.004004,    0.005005,    0.006006,    0.007007,    0.008008,    0.009009,     0.01001,    0.011011,    0.012012,    0.013013,    0.014014,    0.015015,    0.016016,    0.017017,    0.018018,    0.019019,     0.02002,    0.021021,    0.022022,    0.023023,\n",
       "          0.024024,    0.025025,    0.026026,    0.027027,    0.028028,    0.029029,     0.03003,    0.031031,    0.032032,    0.033033,    0.034034,    0.035035,    0.036036,    0.037037,    0.038038,    0.039039,     0.04004,    0.041041,    0.042042,    0.043043,    0.044044,    0.045045,    0.046046,    0.047047,\n",
       "          0.048048,    0.049049,     0.05005,    0.051051,    0.052052,    0.053053,    0.054054,    0.055055,    0.056056,    0.057057,    0.058058,    0.059059,     0.06006,    0.061061,    0.062062,    0.063063,    0.064064,    0.065065,    0.066066,    0.067067,    0.068068,    0.069069,     0.07007,    0.071071,\n",
       "          0.072072,    0.073073,    0.074074,    0.075075,    0.076076,    0.077077,    0.078078,    0.079079,     0.08008,    0.081081,    0.082082,    0.083083,    0.084084,    0.085085,    0.086086,    0.087087,    0.088088,    0.089089,     0.09009,    0.091091,    0.092092,    0.093093,    0.094094,    0.095095,\n",
       "          0.096096,    0.097097,    0.098098,    0.099099,      0.1001,      0.1011,      0.1021,      0.1031,      0.1041,     0.10511,     0.10611,     0.10711,     0.10811,     0.10911,     0.11011,     0.11111,     0.11211,     0.11311,     0.11411,     0.11512,     0.11612,     0.11712,     0.11812,     0.11912,\n",
       "           0.12012,     0.12112,     0.12212,     0.12312,     0.12412,     0.12513,     0.12613,     0.12713,     0.12813,     0.12913,     0.13013,     0.13113,     0.13213,     0.13313,     0.13413,     0.13514,     0.13614,     0.13714,     0.13814,     0.13914,     0.14014,     0.14114,     0.14214,     0.14314,\n",
       "           0.14414,     0.14515,     0.14615,     0.14715,     0.14815,     0.14915,     0.15015,     0.15115,     0.15215,     0.15315,     0.15415,     0.15516,     0.15616,     0.15716,     0.15816,     0.15916,     0.16016,     0.16116,     0.16216,     0.16316,     0.16416,     0.16517,     0.16617,     0.16717,\n",
       "           0.16817,     0.16917,     0.17017,     0.17117,     0.17217,     0.17317,     0.17417,     0.17518,     0.17618,     0.17718,     0.17818,     0.17918,     0.18018,     0.18118,     0.18218,     0.18318,     0.18418,     0.18519,     0.18619,     0.18719,     0.18819,     0.18919,     0.19019,     0.19119,\n",
       "           0.19219,     0.19319,     0.19419,      0.1952,      0.1962,      0.1972,      0.1982,      0.1992,      0.2002,      0.2012,      0.2022,      0.2032,      0.2042,     0.20521,     0.20621,     0.20721,     0.20821,     0.20921,     0.21021,     0.21121,     0.21221,     0.21321,     0.21421,     0.21522,\n",
       "           0.21622,     0.21722,     0.21822,     0.21922,     0.22022,     0.22122,     0.22222,     0.22322,     0.22422,     0.22523,     0.22623,     0.22723,     0.22823,     0.22923,     0.23023,     0.23123,     0.23223,     0.23323,     0.23423,     0.23524,     0.23624,     0.23724,     0.23824,     0.23924,\n",
       "           0.24024,     0.24124,     0.24224,     0.24324,     0.24424,     0.24525,     0.24625,     0.24725,     0.24825,     0.24925,     0.25025,     0.25125,     0.25225,     0.25325,     0.25425,     0.25526,     0.25626,     0.25726,     0.25826,     0.25926,     0.26026,     0.26126,     0.26226,     0.26326,\n",
       "           0.26426,     0.26527,     0.26627,     0.26727,     0.26827,     0.26927,     0.27027,     0.27127,     0.27227,     0.27327,     0.27427,     0.27528,     0.27628,     0.27728,     0.27828,     0.27928,     0.28028,     0.28128,     0.28228,     0.28328,     0.28428,     0.28529,     0.28629,     0.28729,\n",
       "           0.28829,     0.28929,     0.29029,     0.29129,     0.29229,     0.29329,     0.29429,      0.2953,      0.2963,      0.2973,      0.2983,      0.2993,      0.3003,      0.3013,      0.3023,      0.3033,      0.3043,     0.30531,     0.30631,     0.30731,     0.30831,     0.30931,     0.31031,     0.31131,\n",
       "           0.31231,     0.31331,     0.31431,     0.31532,     0.31632,     0.31732,     0.31832,     0.31932,     0.32032,     0.32132,     0.32232,     0.32332,     0.32432,     0.32533,     0.32633,     0.32733,     0.32833,     0.32933,     0.33033,     0.33133,     0.33233,     0.33333,     0.33433,     0.33534,\n",
       "           0.33634,     0.33734,     0.33834,     0.33934,     0.34034,     0.34134,     0.34234,     0.34334,     0.34434,     0.34535,     0.34635,     0.34735,     0.34835,     0.34935,     0.35035,     0.35135,     0.35235,     0.35335,     0.35435,     0.35536,     0.35636,     0.35736,     0.35836,     0.35936,\n",
       "           0.36036,     0.36136,     0.36236,     0.36336,     0.36436,     0.36537,     0.36637,     0.36737,     0.36837,     0.36937,     0.37037,     0.37137,     0.37237,     0.37337,     0.37437,     0.37538,     0.37638,     0.37738,     0.37838,     0.37938,     0.38038,     0.38138,     0.38238,     0.38338,\n",
       "           0.38438,     0.38539,     0.38639,     0.38739,     0.38839,     0.38939,     0.39039,     0.39139,     0.39239,     0.39339,     0.39439,      0.3954,      0.3964,      0.3974,      0.3984,      0.3994,      0.4004,      0.4014,      0.4024,      0.4034,      0.4044,     0.40541,     0.40641,     0.40741,\n",
       "           0.40841,     0.40941,     0.41041,     0.41141,     0.41241,     0.41341,     0.41441,     0.41542,     0.41642,     0.41742,     0.41842,     0.41942,     0.42042,     0.42142,     0.42242,     0.42342,     0.42442,     0.42543,     0.42643,     0.42743,     0.42843,     0.42943,     0.43043,     0.43143,\n",
       "           0.43243,     0.43343,     0.43443,     0.43544,     0.43644,     0.43744,     0.43844,     0.43944,     0.44044,     0.44144,     0.44244,     0.44344,     0.44444,     0.44545,     0.44645,     0.44745,     0.44845,     0.44945,     0.45045,     0.45145,     0.45245,     0.45345,     0.45445,     0.45546,\n",
       "           0.45646,     0.45746,     0.45846,     0.45946,     0.46046,     0.46146,     0.46246,     0.46346,     0.46446,     0.46547,     0.46647,     0.46747,     0.46847,     0.46947,     0.47047,     0.47147,     0.47247,     0.47347,     0.47447,     0.47548,     0.47648,     0.47748,     0.47848,     0.47948,\n",
       "           0.48048,     0.48148,     0.48248,     0.48348,     0.48448,     0.48549,     0.48649,     0.48749,     0.48849,     0.48949,     0.49049,     0.49149,     0.49249,     0.49349,     0.49449,      0.4955,      0.4965,      0.4975,      0.4985,      0.4995,      0.5005,      0.5015,      0.5025,      0.5035,\n",
       "            0.5045,     0.50551,     0.50651,     0.50751,     0.50851,     0.50951,     0.51051,     0.51151,     0.51251,     0.51351,     0.51451,     0.51552,     0.51652,     0.51752,     0.51852,     0.51952,     0.52052,     0.52152,     0.52252,     0.52352,     0.52452,     0.52553,     0.52653,     0.52753,\n",
       "           0.52853,     0.52953,     0.53053,     0.53153,     0.53253,     0.53353,     0.53453,     0.53554,     0.53654,     0.53754,     0.53854,     0.53954,     0.54054,     0.54154,     0.54254,     0.54354,     0.54454,     0.54555,     0.54655,     0.54755,     0.54855,     0.54955,     0.55055,     0.55155,\n",
       "           0.55255,     0.55355,     0.55455,     0.55556,     0.55656,     0.55756,     0.55856,     0.55956,     0.56056,     0.56156,     0.56256,     0.56356,     0.56456,     0.56557,     0.56657,     0.56757,     0.56857,     0.56957,     0.57057,     0.57157,     0.57257,     0.57357,     0.57457,     0.57558,\n",
       "           0.57658,     0.57758,     0.57858,     0.57958,     0.58058,     0.58158,     0.58258,     0.58358,     0.58458,     0.58559,     0.58659,     0.58759,     0.58859,     0.58959,     0.59059,     0.59159,     0.59259,     0.59359,     0.59459,      0.5956,      0.5966,      0.5976,      0.5986,      0.5996,\n",
       "            0.6006,      0.6016,      0.6026,      0.6036,      0.6046,     0.60561,     0.60661,     0.60761,     0.60861,     0.60961,     0.61061,     0.61161,     0.61261,     0.61361,     0.61461,     0.61562,     0.61662,     0.61762,     0.61862,     0.61962,     0.62062,     0.62162,     0.62262,     0.62362,\n",
       "           0.62462,     0.62563,     0.62663,     0.62763,     0.62863,     0.62963,     0.63063,     0.63163,     0.63263,     0.63363,     0.63463,     0.63564,     0.63664,     0.63764,     0.63864,     0.63964,     0.64064,     0.64164,     0.64264,     0.64364,     0.64464,     0.64565,     0.64665,     0.64765,\n",
       "           0.64865,     0.64965,     0.65065,     0.65165,     0.65265,     0.65365,     0.65465,     0.65566,     0.65666,     0.65766,     0.65866,     0.65966,     0.66066,     0.66166,     0.66266,     0.66366,     0.66466,     0.66567,     0.66667,     0.66767,     0.66867,     0.66967,     0.67067,     0.67167,\n",
       "           0.67267,     0.67367,     0.67467,     0.67568,     0.67668,     0.67768,     0.67868,     0.67968,     0.68068,     0.68168,     0.68268,     0.68368,     0.68468,     0.68569,     0.68669,     0.68769,     0.68869,     0.68969,     0.69069,     0.69169,     0.69269,     0.69369,     0.69469,      0.6957,\n",
       "            0.6967,      0.6977,      0.6987,      0.6997,      0.7007,      0.7017,      0.7027,      0.7037,      0.7047,     0.70571,     0.70671,     0.70771,     0.70871,     0.70971,     0.71071,     0.71171,     0.71271,     0.71371,     0.71471,     0.71572,     0.71672,     0.71772,     0.71872,     0.71972,\n",
       "           0.72072,     0.72172,     0.72272,     0.72372,     0.72472,     0.72573,     0.72673,     0.72773,     0.72873,     0.72973,     0.73073,     0.73173,     0.73273,     0.73373,     0.73473,     0.73574,     0.73674,     0.73774,     0.73874,     0.73974,     0.74074,     0.74174,     0.74274,     0.74374,\n",
       "           0.74474,     0.74575,     0.74675,     0.74775,     0.74875,     0.74975,     0.75075,     0.75175,     0.75275,     0.75375,     0.75475,     0.75576,     0.75676,     0.75776,     0.75876,     0.75976,     0.76076,     0.76176,     0.76276,     0.76376,     0.76476,     0.76577,     0.76677,     0.76777,\n",
       "           0.76877,     0.76977,     0.77077,     0.77177,     0.77277,     0.77377,     0.77477,     0.77578,     0.77678,     0.77778,     0.77878,     0.77978,     0.78078,     0.78178,     0.78278,     0.78378,     0.78478,     0.78579,     0.78679,     0.78779,     0.78879,     0.78979,     0.79079,     0.79179,\n",
       "           0.79279,     0.79379,     0.79479,      0.7958,      0.7968,      0.7978,      0.7988,      0.7998,      0.8008,      0.8018,      0.8028,      0.8038,      0.8048,     0.80581,     0.80681,     0.80781,     0.80881,     0.80981,     0.81081,     0.81181,     0.81281,     0.81381,     0.81481,     0.81582,\n",
       "           0.81682,     0.81782,     0.81882,     0.81982,     0.82082,     0.82182,     0.82282,     0.82382,     0.82482,     0.82583,     0.82683,     0.82783,     0.82883,     0.82983,     0.83083,     0.83183,     0.83283,     0.83383,     0.83483,     0.83584,     0.83684,     0.83784,     0.83884,     0.83984,\n",
       "           0.84084,     0.84184,     0.84284,     0.84384,     0.84484,     0.84585,     0.84685,     0.84785,     0.84885,     0.84985,     0.85085,     0.85185,     0.85285,     0.85385,     0.85485,     0.85586,     0.85686,     0.85786,     0.85886,     0.85986,     0.86086,     0.86186,     0.86286,     0.86386,\n",
       "           0.86486,     0.86587,     0.86687,     0.86787,     0.86887,     0.86987,     0.87087,     0.87187,     0.87287,     0.87387,     0.87487,     0.87588,     0.87688,     0.87788,     0.87888,     0.87988,     0.88088,     0.88188,     0.88288,     0.88388,     0.88488,     0.88589,     0.88689,     0.88789,\n",
       "           0.88889,     0.88989,     0.89089,     0.89189,     0.89289,     0.89389,     0.89489,      0.8959,      0.8969,      0.8979,      0.8989,      0.8999,      0.9009,      0.9019,      0.9029,      0.9039,      0.9049,     0.90591,     0.90691,     0.90791,     0.90891,     0.90991,     0.91091,     0.91191,\n",
       "           0.91291,     0.91391,     0.91491,     0.91592,     0.91692,     0.91792,     0.91892,     0.91992,     0.92092,     0.92192,     0.92292,     0.92392,     0.92492,     0.92593,     0.92693,     0.92793,     0.92893,     0.92993,     0.93093,     0.93193,     0.93293,     0.93393,     0.93493,     0.93594,\n",
       "           0.93694,     0.93794,     0.93894,     0.93994,     0.94094,     0.94194,     0.94294,     0.94394,     0.94494,     0.94595,     0.94695,     0.94795,     0.94895,     0.94995,     0.95095,     0.95195,     0.95295,     0.95395,     0.95495,     0.95596,     0.95696,     0.95796,     0.95896,     0.95996,\n",
       "           0.96096,     0.96196,     0.96296,     0.96396,     0.96496,     0.96597,     0.96697,     0.96797,     0.96897,     0.96997,     0.97097,     0.97197,     0.97297,     0.97397,     0.97497,     0.97598,     0.97698,     0.97798,     0.97898,     0.97998,     0.98098,     0.98198,     0.98298,     0.98398,\n",
       "           0.98498,     0.98599,     0.98699,     0.98799,     0.98899,     0.98999,     0.99099,     0.99199,     0.99299,     0.99399,     0.99499,       0.996,       0.997,       0.998,       0.999,           1]), array([[   0.079655,    0.079655,    0.087177,     0.19956,     0.23543,     0.26446,     0.28743,     0.30662,     0.32493,     0.34089,     0.35619,     0.36789,     0.37989,     0.39118,     0.40155,     0.41086,     0.41983,     0.42901,     0.43627,     0.44336,     0.45055,     0.45813,     0.46458,\n",
       "            0.46973,     0.47452,     0.48079,     0.48583,     0.49098,      0.4957,     0.50075,     0.50573,     0.50977,     0.51417,     0.51808,     0.52264,     0.52665,     0.53035,     0.53331,     0.53661,     0.54057,      0.5446,     0.54814,     0.55119,     0.55413,      0.5571,     0.56047,\n",
       "             0.5633,     0.56549,     0.56854,      0.5718,      0.5747,     0.57703,     0.58053,     0.58315,      0.5854,     0.58742,     0.58927,     0.59167,     0.59408,     0.59585,     0.59795,     0.60008,     0.60317,     0.60567,     0.60729,     0.60849,     0.61032,     0.61194,     0.61451,\n",
       "            0.61671,     0.61879,     0.62035,     0.62142,     0.62362,     0.62537,     0.62729,     0.62869,     0.63046,     0.63298,     0.63434,      0.6363,      0.6382,     0.63908,     0.64077,     0.64207,     0.64451,     0.64503,      0.6466,     0.64766,     0.64935,      0.6511,     0.65289,\n",
       "            0.65424,     0.65558,     0.65667,     0.65811,     0.65958,      0.6614,     0.66305,     0.66406,     0.66516,     0.66579,     0.66737,     0.66856,     0.66929,     0.67022,     0.67124,     0.67207,     0.67278,     0.67412,     0.67504,     0.67512,     0.67576,     0.67728,     0.67918,\n",
       "            0.67973,     0.68039,     0.68122,     0.68246,     0.68311,     0.68435,     0.68549,     0.68604,     0.68731,     0.68812,     0.68941,     0.69087,     0.69166,     0.69183,     0.69219,     0.69345,     0.69492,     0.69642,     0.69708,     0.69767,      0.6983,     0.70011,     0.70111,\n",
       "            0.70209,     0.70295,     0.70299,     0.70386,      0.7048,     0.70512,     0.70611,     0.70764,      0.7084,     0.70886,     0.70903,     0.70969,     0.71042,       0.711,     0.71277,     0.71419,     0.71524,     0.71491,     0.71545,     0.71627,     0.71695,     0.71722,     0.71767,\n",
       "            0.71872,     0.71881,     0.72003,      0.7206,     0.72185,     0.72191,     0.72258,     0.72373,     0.72509,     0.72596,     0.72646,     0.72633,     0.72652,     0.72757,      0.7284,       0.729,     0.72905,      0.7296,     0.73074,     0.73201,      0.7328,     0.73355,      0.7337,\n",
       "            0.73404,     0.73533,      0.7364,      0.7373,     0.73834,     0.73921,      0.7399,     0.74026,     0.74058,     0.74068,      0.7412,     0.74179,     0.74253,     0.74323,     0.74414,      0.7445,      0.7452,     0.74656,     0.74703,     0.74743,     0.74768,     0.74817,     0.74827,\n",
       "            0.74885,     0.75001,     0.75017,     0.75059,     0.75067,     0.75129,     0.75186,     0.75265,      0.7531,     0.75481,     0.75515,     0.75578,     0.75592,     0.75643,     0.75649,     0.75737,     0.75794,     0.75833,     0.75877,     0.75962,     0.75986,     0.76092,     0.76095,\n",
       "            0.76171,     0.76216,      0.7624,     0.76307,     0.76301,     0.76337,     0.76288,     0.76355,     0.76357,     0.76402,      0.7642,     0.76432,     0.76474,     0.76532,      0.7652,     0.76658,     0.76647,      0.7666,     0.76725,     0.76758,     0.76883,     0.76885,     0.76887,\n",
       "            0.76944,     0.76937,     0.76886,      0.7685,     0.76841,     0.76879,     0.76944,     0.76976,     0.77014,      0.7702,     0.77091,     0.77053,     0.77167,     0.77206,     0.77178,     0.77271,     0.77297,     0.77358,     0.77501,     0.77491,     0.77493,     0.77551,     0.77596,\n",
       "            0.77607,     0.77598,      0.7757,     0.77619,     0.77658,     0.77688,     0.77783,     0.77736,     0.77772,      0.7779,     0.77765,     0.77816,     0.77825,     0.77873,      0.7792,     0.77946,     0.77966,     0.77979,     0.78039,     0.78114,     0.78125,     0.78116,     0.78125,\n",
       "            0.78151,      0.7809,     0.78084,     0.78039,      0.7804,     0.78078,     0.78087,     0.78087,     0.78149,     0.78158,     0.78189,      0.7817,     0.78156,     0.78128,     0.78137,     0.78163,     0.78133,     0.78142,     0.78158,     0.78187,     0.78256,     0.78279,     0.78285,\n",
       "            0.78316,     0.78316,     0.78408,     0.78415,     0.78432,     0.78471,     0.78449,     0.78384,     0.78382,     0.78416,     0.78425,     0.78435,     0.78453,      0.7849,     0.78551,     0.78507,     0.78484,     0.78532,     0.78531,     0.78567,     0.78518,     0.78495,     0.78506,\n",
       "            0.78537,     0.78547,     0.78588,     0.78542,      0.7858,     0.78566,     0.78626,     0.78596,     0.78593,     0.78569,     0.78564,     0.78573,     0.78566,      0.7841,     0.78407,     0.78427,     0.78372,     0.78363,     0.78344,     0.78334,     0.78342,     0.78305,     0.78282,\n",
       "             0.7824,     0.78269,     0.78364,      0.7838,     0.78327,      0.7829,     0.78269,     0.78276,     0.78257,     0.78249,     0.78229,     0.78237,     0.78306,     0.78388,     0.78396,     0.78374,     0.78355,     0.78404,     0.78389,     0.78421,     0.78336,     0.78419,      0.7843,\n",
       "            0.78453,     0.78442,      0.7844,     0.78427,     0.78439,     0.78405,     0.78445,     0.78369,     0.78407,     0.78378,      0.7838,     0.78378,     0.78304,     0.78303,      0.7829,     0.78304,     0.78315,     0.78355,     0.78337,     0.78369,     0.78372,     0.78363,     0.78367,\n",
       "            0.78409,     0.78424,     0.78458,     0.78507,     0.78494,     0.78508,      0.7853,     0.78505,     0.78462,      0.7847,      0.7846,     0.78512,     0.78561,      0.7856,      0.7855,     0.78573,     0.78499,     0.78502,     0.78471,      0.7844,     0.78414,     0.78418,     0.78405,\n",
       "            0.78303,     0.78339,     0.78316,     0.78322,     0.78322,     0.78329,     0.78252,     0.78208,     0.78122,     0.78096,     0.78077,     0.78082,     0.78064,     0.78079,     0.78127,     0.78085,     0.78089,     0.78042,     0.78062,     0.78096,     0.78094,     0.78137,     0.78151,\n",
       "            0.78154,     0.78135,     0.78123,     0.78173,     0.78214,     0.78205,     0.78175,     0.78162,     0.78156,     0.78111,     0.78065,     0.77944,     0.77848,     0.77856,     0.77863,     0.77859,     0.77921,     0.77846,     0.77793,     0.77731,     0.77673,     0.77679,     0.77626,\n",
       "            0.77563,       0.775,     0.77463,     0.77416,     0.77416,     0.77389,     0.77332,     0.77254,     0.77229,     0.77178,     0.77132,     0.77183,     0.77137,     0.77091,     0.77096,     0.77088,     0.77052,     0.77076,     0.76989,     0.76995,     0.76877,     0.76893,     0.76883,\n",
       "            0.76834,     0.76756,     0.76792,     0.76788,      0.7675,     0.76712,     0.76701,      0.7671,     0.76662,     0.76619,     0.76569,     0.76487,     0.76453,     0.76345,     0.76289,     0.76126,     0.76058,     0.76033,     0.76008,     0.75979,     0.76002,      0.7599,     0.75944,\n",
       "            0.75895,     0.75801,     0.75747,     0.75667,     0.75611,     0.75571,     0.75532,     0.75438,     0.75344,      0.7534,     0.75312,     0.75334,     0.75277,     0.75181,     0.75096,     0.75073,     0.75016,     0.75021,     0.74927,     0.74933,     0.74894,     0.74809,     0.74775,\n",
       "             0.7477,     0.74662,      0.7464,     0.74594,     0.74572,      0.7448,     0.74443,     0.74398,     0.74319,     0.74304,     0.74289,     0.74275,      0.7425,     0.74268,     0.74226,     0.74052,     0.73999,     0.73969,     0.73882,     0.73736,     0.73619,     0.73662,     0.73628,\n",
       "            0.73649,     0.73632,     0.73623,     0.73581,     0.73539,     0.73479,     0.73453,     0.73394,     0.73284,     0.73253,      0.7319,     0.73106,      0.7305,     0.72931,     0.72852,     0.72837,     0.72721,     0.72745,     0.72668,     0.72522,     0.72462,       0.723,     0.72256,\n",
       "            0.72174,     0.72172,     0.72098,     0.71946,     0.71915,     0.71823,      0.7164,     0.71517,     0.71456,      0.7129,     0.71259,     0.71237,     0.71114,     0.71065,     0.71009,     0.70854,     0.70746,       0.707,     0.70642,     0.70548,       0.705,     0.70438,      0.7025,\n",
       "            0.70156,     0.70109,     0.69893,     0.69855,     0.69827,     0.69732,     0.69685,     0.69526,     0.69398,     0.69388,     0.69383,      0.6935,     0.69241,     0.69144,     0.68983,     0.68854,      0.6876,     0.68678,     0.68532,     0.68404,     0.68355,     0.68306,     0.68239,\n",
       "            0.68176,     0.68095,      0.6798,     0.67898,     0.67636,     0.67586,     0.67487,     0.67322,     0.67255,      0.6716,     0.66988,     0.66898,      0.6682,     0.66752,     0.66567,     0.66483,     0.66348,     0.66273,     0.66143,     0.66126,     0.66057,     0.66005,     0.65931,\n",
       "            0.65886,      0.6585,     0.65835,     0.65694,      0.6559,     0.65453,     0.65303,     0.65194,     0.65089,     0.64985,     0.64845,     0.64672,     0.64583,     0.64269,     0.64024,     0.64006,     0.63847,     0.63823,     0.63345,     0.63327,     0.63215,     0.63172,     0.63148,\n",
       "            0.63057,     0.63039,     0.63016,     0.62689,     0.62671,     0.62363,     0.62339,     0.62131,     0.61873,     0.61854,     0.61651,     0.61424,     0.61399,     0.61212,     0.61193,     0.61076,      0.6091,     0.60921,     0.60728,     0.60709,     0.60516,     0.60195,     0.60169,\n",
       "             0.6006,     0.60068,     0.59914,     0.59717,     0.59692,     0.59661,     0.59579,      0.5956,     0.59349,     0.59204,     0.59178,     0.58887,     0.58649,     0.58623,     0.58261,     0.57906,     0.57886,     0.57788,     0.57761,     0.57541,     0.57546,      0.5752,     0.57299,\n",
       "            0.57171,     0.57144,     0.56977,     0.56793,     0.56547,     0.56558,     0.56211,     0.56219,     0.55729,     0.55453,     0.55426,     0.55173,     0.55088,     0.55099,     0.54894,     0.54502,     0.54474,      0.5438,     0.54026,     0.53998,     0.53752,     0.53352,     0.53242,\n",
       "            0.53213,     0.52951,     0.52855,     0.52618,     0.52589,     0.52435,     0.52212,     0.52183,     0.51986,     0.51786,     0.51648,     0.51619,     0.51535,     0.51336,     0.51307,     0.51037,     0.50679,      0.5065,      0.5032,     0.49986,     0.49623,     0.49112,     0.49082,\n",
       "            0.48691,      0.4827,     0.47987,     0.47957,     0.47662,     0.47222,     0.46875,     0.46844,     0.46529,     0.46326,     0.45975,     0.45943,      0.4565,      0.4534,     0.45163,     0.45076,     0.45044,      0.4484,     0.44627,     0.44132,     0.43877,     0.43654,     0.43622,\n",
       "             0.4339,     0.43066,     0.42839,     0.42471,     0.42438,     0.42103,     0.41922,     0.41605,     0.41275,     0.41048,     0.41015,     0.40326,     0.40093,     0.39765,     0.39314,     0.39071,     0.39036,     0.38631,     0.38379,     0.38344,     0.37943,     0.37481,     0.36978,\n",
       "            0.36836,     0.36264,     0.36107,     0.36006,     0.35971,     0.35606,      0.3529,     0.34866,     0.34547,     0.34307,     0.33899,     0.33253,     0.32492,     0.32108,     0.31558,     0.31446,     0.31002,     0.30735,     0.30303,     0.29854,     0.29637,     0.29466,     0.29238,\n",
       "            0.28953,     0.28219,     0.27815,     0.27352,     0.27128,     0.26777,     0.26366,     0.26071,     0.25775,     0.25033,     0.24434,     0.24141,     0.23717,     0.23413,     0.23108,     0.22557,     0.22236,     0.22032,     0.21474,     0.20913,     0.20223,     0.19748,     0.19303,\n",
       "            0.19118,     0.18772,     0.18508,     0.18192,     0.18018,     0.17898,     0.17249,     0.16562,     0.16041,     0.15642,     0.15482,     0.14881,     0.14377,     0.14094,     0.13869,     0.13665,     0.13155,     0.12792,     0.12571,     0.11849,      0.1148,     0.10983,     0.10737,\n",
       "            0.10495,     0.10279,    0.099314,    0.093648,    0.091873,    0.088655,    0.085713,    0.082903,    0.081344,    0.077476,    0.075512,    0.072381,    0.068917,    0.065437,    0.061544,    0.055865,    0.053376,    0.051025,    0.050266,    0.047335,    0.045081,    0.042785,    0.040523,\n",
       "           0.038253,    0.035979,    0.035152,    0.032549,    0.028275,    0.027457,    0.027068,    0.024361,    0.022036,    0.019513,    0.018728,    0.016869,    0.016344,     0.01495,    0.012603,    0.011715,    0.010924,    0.010377,   0.0093614,   0.0070008,   0.0067718,   0.0065448,   0.0063177,\n",
       "          0.0060376,   0.0057195,   0.0046133,   0.0042152,   0.0038426,    0.003577,   0.0033113,   0.0029035,    0.002321,   0.0022619,   0.0022028,   0.0021437,   0.0020846,   0.0020254,   0.0019663,   0.0019072,    0.001848,   0.0017889,   0.0017297,   0.0016706,   0.0016114,   0.0015318,   0.0013036,\n",
       "          0.0010754,  0.00084704,           0,           0,           0,           0,           0,           0,           0,           0,           0,           0,           0,           0,           0,           0,           0,           0,           0,           0,           0,           0,           0,\n",
       "                  0,           0,           0,           0,           0,           0,           0,           0,           0,           0,           0]]), 'Confidence', 'F1'], [array([          0,    0.001001,    0.002002,    0.003003,    0.004004,    0.005005,    0.006006,    0.007007,    0.008008,    0.009009,     0.01001,    0.011011,    0.012012,    0.013013,    0.014014,    0.015015,    0.016016,    0.017017,    0.018018,    0.019019,     0.02002,    0.021021,    0.022022,    0.023023,\n",
       "          0.024024,    0.025025,    0.026026,    0.027027,    0.028028,    0.029029,     0.03003,    0.031031,    0.032032,    0.033033,    0.034034,    0.035035,    0.036036,    0.037037,    0.038038,    0.039039,     0.04004,    0.041041,    0.042042,    0.043043,    0.044044,    0.045045,    0.046046,    0.047047,\n",
       "          0.048048,    0.049049,     0.05005,    0.051051,    0.052052,    0.053053,    0.054054,    0.055055,    0.056056,    0.057057,    0.058058,    0.059059,     0.06006,    0.061061,    0.062062,    0.063063,    0.064064,    0.065065,    0.066066,    0.067067,    0.068068,    0.069069,     0.07007,    0.071071,\n",
       "          0.072072,    0.073073,    0.074074,    0.075075,    0.076076,    0.077077,    0.078078,    0.079079,     0.08008,    0.081081,    0.082082,    0.083083,    0.084084,    0.085085,    0.086086,    0.087087,    0.088088,    0.089089,     0.09009,    0.091091,    0.092092,    0.093093,    0.094094,    0.095095,\n",
       "          0.096096,    0.097097,    0.098098,    0.099099,      0.1001,      0.1011,      0.1021,      0.1031,      0.1041,     0.10511,     0.10611,     0.10711,     0.10811,     0.10911,     0.11011,     0.11111,     0.11211,     0.11311,     0.11411,     0.11512,     0.11612,     0.11712,     0.11812,     0.11912,\n",
       "           0.12012,     0.12112,     0.12212,     0.12312,     0.12412,     0.12513,     0.12613,     0.12713,     0.12813,     0.12913,     0.13013,     0.13113,     0.13213,     0.13313,     0.13413,     0.13514,     0.13614,     0.13714,     0.13814,     0.13914,     0.14014,     0.14114,     0.14214,     0.14314,\n",
       "           0.14414,     0.14515,     0.14615,     0.14715,     0.14815,     0.14915,     0.15015,     0.15115,     0.15215,     0.15315,     0.15415,     0.15516,     0.15616,     0.15716,     0.15816,     0.15916,     0.16016,     0.16116,     0.16216,     0.16316,     0.16416,     0.16517,     0.16617,     0.16717,\n",
       "           0.16817,     0.16917,     0.17017,     0.17117,     0.17217,     0.17317,     0.17417,     0.17518,     0.17618,     0.17718,     0.17818,     0.17918,     0.18018,     0.18118,     0.18218,     0.18318,     0.18418,     0.18519,     0.18619,     0.18719,     0.18819,     0.18919,     0.19019,     0.19119,\n",
       "           0.19219,     0.19319,     0.19419,      0.1952,      0.1962,      0.1972,      0.1982,      0.1992,      0.2002,      0.2012,      0.2022,      0.2032,      0.2042,     0.20521,     0.20621,     0.20721,     0.20821,     0.20921,     0.21021,     0.21121,     0.21221,     0.21321,     0.21421,     0.21522,\n",
       "           0.21622,     0.21722,     0.21822,     0.21922,     0.22022,     0.22122,     0.22222,     0.22322,     0.22422,     0.22523,     0.22623,     0.22723,     0.22823,     0.22923,     0.23023,     0.23123,     0.23223,     0.23323,     0.23423,     0.23524,     0.23624,     0.23724,     0.23824,     0.23924,\n",
       "           0.24024,     0.24124,     0.24224,     0.24324,     0.24424,     0.24525,     0.24625,     0.24725,     0.24825,     0.24925,     0.25025,     0.25125,     0.25225,     0.25325,     0.25425,     0.25526,     0.25626,     0.25726,     0.25826,     0.25926,     0.26026,     0.26126,     0.26226,     0.26326,\n",
       "           0.26426,     0.26527,     0.26627,     0.26727,     0.26827,     0.26927,     0.27027,     0.27127,     0.27227,     0.27327,     0.27427,     0.27528,     0.27628,     0.27728,     0.27828,     0.27928,     0.28028,     0.28128,     0.28228,     0.28328,     0.28428,     0.28529,     0.28629,     0.28729,\n",
       "           0.28829,     0.28929,     0.29029,     0.29129,     0.29229,     0.29329,     0.29429,      0.2953,      0.2963,      0.2973,      0.2983,      0.2993,      0.3003,      0.3013,      0.3023,      0.3033,      0.3043,     0.30531,     0.30631,     0.30731,     0.30831,     0.30931,     0.31031,     0.31131,\n",
       "           0.31231,     0.31331,     0.31431,     0.31532,     0.31632,     0.31732,     0.31832,     0.31932,     0.32032,     0.32132,     0.32232,     0.32332,     0.32432,     0.32533,     0.32633,     0.32733,     0.32833,     0.32933,     0.33033,     0.33133,     0.33233,     0.33333,     0.33433,     0.33534,\n",
       "           0.33634,     0.33734,     0.33834,     0.33934,     0.34034,     0.34134,     0.34234,     0.34334,     0.34434,     0.34535,     0.34635,     0.34735,     0.34835,     0.34935,     0.35035,     0.35135,     0.35235,     0.35335,     0.35435,     0.35536,     0.35636,     0.35736,     0.35836,     0.35936,\n",
       "           0.36036,     0.36136,     0.36236,     0.36336,     0.36436,     0.36537,     0.36637,     0.36737,     0.36837,     0.36937,     0.37037,     0.37137,     0.37237,     0.37337,     0.37437,     0.37538,     0.37638,     0.37738,     0.37838,     0.37938,     0.38038,     0.38138,     0.38238,     0.38338,\n",
       "           0.38438,     0.38539,     0.38639,     0.38739,     0.38839,     0.38939,     0.39039,     0.39139,     0.39239,     0.39339,     0.39439,      0.3954,      0.3964,      0.3974,      0.3984,      0.3994,      0.4004,      0.4014,      0.4024,      0.4034,      0.4044,     0.40541,     0.40641,     0.40741,\n",
       "           0.40841,     0.40941,     0.41041,     0.41141,     0.41241,     0.41341,     0.41441,     0.41542,     0.41642,     0.41742,     0.41842,     0.41942,     0.42042,     0.42142,     0.42242,     0.42342,     0.42442,     0.42543,     0.42643,     0.42743,     0.42843,     0.42943,     0.43043,     0.43143,\n",
       "           0.43243,     0.43343,     0.43443,     0.43544,     0.43644,     0.43744,     0.43844,     0.43944,     0.44044,     0.44144,     0.44244,     0.44344,     0.44444,     0.44545,     0.44645,     0.44745,     0.44845,     0.44945,     0.45045,     0.45145,     0.45245,     0.45345,     0.45445,     0.45546,\n",
       "           0.45646,     0.45746,     0.45846,     0.45946,     0.46046,     0.46146,     0.46246,     0.46346,     0.46446,     0.46547,     0.46647,     0.46747,     0.46847,     0.46947,     0.47047,     0.47147,     0.47247,     0.47347,     0.47447,     0.47548,     0.47648,     0.47748,     0.47848,     0.47948,\n",
       "           0.48048,     0.48148,     0.48248,     0.48348,     0.48448,     0.48549,     0.48649,     0.48749,     0.48849,     0.48949,     0.49049,     0.49149,     0.49249,     0.49349,     0.49449,      0.4955,      0.4965,      0.4975,      0.4985,      0.4995,      0.5005,      0.5015,      0.5025,      0.5035,\n",
       "            0.5045,     0.50551,     0.50651,     0.50751,     0.50851,     0.50951,     0.51051,     0.51151,     0.51251,     0.51351,     0.51451,     0.51552,     0.51652,     0.51752,     0.51852,     0.51952,     0.52052,     0.52152,     0.52252,     0.52352,     0.52452,     0.52553,     0.52653,     0.52753,\n",
       "           0.52853,     0.52953,     0.53053,     0.53153,     0.53253,     0.53353,     0.53453,     0.53554,     0.53654,     0.53754,     0.53854,     0.53954,     0.54054,     0.54154,     0.54254,     0.54354,     0.54454,     0.54555,     0.54655,     0.54755,     0.54855,     0.54955,     0.55055,     0.55155,\n",
       "           0.55255,     0.55355,     0.55455,     0.55556,     0.55656,     0.55756,     0.55856,     0.55956,     0.56056,     0.56156,     0.56256,     0.56356,     0.56456,     0.56557,     0.56657,     0.56757,     0.56857,     0.56957,     0.57057,     0.57157,     0.57257,     0.57357,     0.57457,     0.57558,\n",
       "           0.57658,     0.57758,     0.57858,     0.57958,     0.58058,     0.58158,     0.58258,     0.58358,     0.58458,     0.58559,     0.58659,     0.58759,     0.58859,     0.58959,     0.59059,     0.59159,     0.59259,     0.59359,     0.59459,      0.5956,      0.5966,      0.5976,      0.5986,      0.5996,\n",
       "            0.6006,      0.6016,      0.6026,      0.6036,      0.6046,     0.60561,     0.60661,     0.60761,     0.60861,     0.60961,     0.61061,     0.61161,     0.61261,     0.61361,     0.61461,     0.61562,     0.61662,     0.61762,     0.61862,     0.61962,     0.62062,     0.62162,     0.62262,     0.62362,\n",
       "           0.62462,     0.62563,     0.62663,     0.62763,     0.62863,     0.62963,     0.63063,     0.63163,     0.63263,     0.63363,     0.63463,     0.63564,     0.63664,     0.63764,     0.63864,     0.63964,     0.64064,     0.64164,     0.64264,     0.64364,     0.64464,     0.64565,     0.64665,     0.64765,\n",
       "           0.64865,     0.64965,     0.65065,     0.65165,     0.65265,     0.65365,     0.65465,     0.65566,     0.65666,     0.65766,     0.65866,     0.65966,     0.66066,     0.66166,     0.66266,     0.66366,     0.66466,     0.66567,     0.66667,     0.66767,     0.66867,     0.66967,     0.67067,     0.67167,\n",
       "           0.67267,     0.67367,     0.67467,     0.67568,     0.67668,     0.67768,     0.67868,     0.67968,     0.68068,     0.68168,     0.68268,     0.68368,     0.68468,     0.68569,     0.68669,     0.68769,     0.68869,     0.68969,     0.69069,     0.69169,     0.69269,     0.69369,     0.69469,      0.6957,\n",
       "            0.6967,      0.6977,      0.6987,      0.6997,      0.7007,      0.7017,      0.7027,      0.7037,      0.7047,     0.70571,     0.70671,     0.70771,     0.70871,     0.70971,     0.71071,     0.71171,     0.71271,     0.71371,     0.71471,     0.71572,     0.71672,     0.71772,     0.71872,     0.71972,\n",
       "           0.72072,     0.72172,     0.72272,     0.72372,     0.72472,     0.72573,     0.72673,     0.72773,     0.72873,     0.72973,     0.73073,     0.73173,     0.73273,     0.73373,     0.73473,     0.73574,     0.73674,     0.73774,     0.73874,     0.73974,     0.74074,     0.74174,     0.74274,     0.74374,\n",
       "           0.74474,     0.74575,     0.74675,     0.74775,     0.74875,     0.74975,     0.75075,     0.75175,     0.75275,     0.75375,     0.75475,     0.75576,     0.75676,     0.75776,     0.75876,     0.75976,     0.76076,     0.76176,     0.76276,     0.76376,     0.76476,     0.76577,     0.76677,     0.76777,\n",
       "           0.76877,     0.76977,     0.77077,     0.77177,     0.77277,     0.77377,     0.77477,     0.77578,     0.77678,     0.77778,     0.77878,     0.77978,     0.78078,     0.78178,     0.78278,     0.78378,     0.78478,     0.78579,     0.78679,     0.78779,     0.78879,     0.78979,     0.79079,     0.79179,\n",
       "           0.79279,     0.79379,     0.79479,      0.7958,      0.7968,      0.7978,      0.7988,      0.7998,      0.8008,      0.8018,      0.8028,      0.8038,      0.8048,     0.80581,     0.80681,     0.80781,     0.80881,     0.80981,     0.81081,     0.81181,     0.81281,     0.81381,     0.81481,     0.81582,\n",
       "           0.81682,     0.81782,     0.81882,     0.81982,     0.82082,     0.82182,     0.82282,     0.82382,     0.82482,     0.82583,     0.82683,     0.82783,     0.82883,     0.82983,     0.83083,     0.83183,     0.83283,     0.83383,     0.83483,     0.83584,     0.83684,     0.83784,     0.83884,     0.83984,\n",
       "           0.84084,     0.84184,     0.84284,     0.84384,     0.84484,     0.84585,     0.84685,     0.84785,     0.84885,     0.84985,     0.85085,     0.85185,     0.85285,     0.85385,     0.85485,     0.85586,     0.85686,     0.85786,     0.85886,     0.85986,     0.86086,     0.86186,     0.86286,     0.86386,\n",
       "           0.86486,     0.86587,     0.86687,     0.86787,     0.86887,     0.86987,     0.87087,     0.87187,     0.87287,     0.87387,     0.87487,     0.87588,     0.87688,     0.87788,     0.87888,     0.87988,     0.88088,     0.88188,     0.88288,     0.88388,     0.88488,     0.88589,     0.88689,     0.88789,\n",
       "           0.88889,     0.88989,     0.89089,     0.89189,     0.89289,     0.89389,     0.89489,      0.8959,      0.8969,      0.8979,      0.8989,      0.8999,      0.9009,      0.9019,      0.9029,      0.9039,      0.9049,     0.90591,     0.90691,     0.90791,     0.90891,     0.90991,     0.91091,     0.91191,\n",
       "           0.91291,     0.91391,     0.91491,     0.91592,     0.91692,     0.91792,     0.91892,     0.91992,     0.92092,     0.92192,     0.92292,     0.92392,     0.92492,     0.92593,     0.92693,     0.92793,     0.92893,     0.92993,     0.93093,     0.93193,     0.93293,     0.93393,     0.93493,     0.93594,\n",
       "           0.93694,     0.93794,     0.93894,     0.93994,     0.94094,     0.94194,     0.94294,     0.94394,     0.94494,     0.94595,     0.94695,     0.94795,     0.94895,     0.94995,     0.95095,     0.95195,     0.95295,     0.95395,     0.95495,     0.95596,     0.95696,     0.95796,     0.95896,     0.95996,\n",
       "           0.96096,     0.96196,     0.96296,     0.96396,     0.96496,     0.96597,     0.96697,     0.96797,     0.96897,     0.96997,     0.97097,     0.97197,     0.97297,     0.97397,     0.97497,     0.97598,     0.97698,     0.97798,     0.97898,     0.97998,     0.98098,     0.98198,     0.98298,     0.98398,\n",
       "           0.98498,     0.98599,     0.98699,     0.98799,     0.98899,     0.98999,     0.99099,     0.99199,     0.99299,     0.99399,     0.99499,       0.996,       0.997,       0.998,       0.999,           1]), array([[   0.041504,    0.041504,    0.045605,     0.11104,     0.13373,     0.15281,      0.1684,     0.18176,     0.19484,      0.2065,     0.21786,     0.22672,     0.23595,     0.24477,     0.25302,     0.26055,      0.2678,     0.27532,      0.2814,     0.28739,     0.29353,         0.3,     0.30555,\n",
       "            0.31018,     0.31454,     0.32016,     0.32464,     0.32931,     0.33366,     0.33835,     0.34296,     0.34669,     0.35082,     0.35447,     0.35881,     0.36271,     0.36635,     0.36918,     0.37247,     0.37635,      0.3804,     0.38411,      0.3873,     0.39034,     0.39329,      0.3968,\n",
       "            0.39991,     0.40213,     0.40529,     0.40868,     0.41172,     0.41427,     0.41796,     0.42076,     0.42311,      0.4253,      0.4274,     0.43001,     0.43264,     0.43461,     0.43684,     0.43929,      0.4426,     0.44531,     0.44706,     0.44854,     0.45061,     0.45239,     0.45556,\n",
       "            0.45798,     0.46047,     0.46239,     0.46377,     0.46638,     0.46837,     0.47063,      0.4725,      0.4746,     0.47757,     0.47922,     0.48156,     0.48374,     0.48486,     0.48722,     0.48905,     0.49189,     0.49282,     0.49487,     0.49622,     0.49832,     0.50084,     0.50296,\n",
       "            0.50468,     0.50651,     0.50781,     0.50966,     0.51141,     0.51361,      0.5156,     0.51694,     0.51828,     0.51941,     0.52134,     0.52292,     0.52394,     0.52553,     0.52696,     0.52812,     0.52908,      0.5309,     0.53218,     0.53276,     0.53373,     0.53576,     0.53828,\n",
       "            0.53924,     0.54033,     0.54138,     0.54323,     0.54404,     0.54562,     0.54721,     0.54819,      0.5501,      0.5514,     0.55322,      0.5553,     0.55656,     0.55722,     0.55798,     0.55961,     0.56168,     0.56378,     0.56481,     0.56582,     0.56671,     0.56926,     0.57088,\n",
       "            0.57219,     0.57332,     0.57368,     0.57485,      0.5764,     0.57717,     0.57865,     0.58087,      0.5819,     0.58268,      0.5834,     0.58429,     0.58565,     0.58689,     0.58948,     0.59142,     0.59289,     0.59329,     0.59433,     0.59582,     0.59692,     0.59765,     0.59845,\n",
       "            0.60026,     0.60109,      0.6028,     0.60359,     0.60553,     0.60616,      0.6071,     0.60891,     0.61083,     0.61262,     0.61371,     0.61426,     0.61467,     0.61623,      0.6176,     0.61885,     0.61909,      0.6201,     0.62174,     0.62359,     0.62473,     0.62621,     0.62682,\n",
       "            0.62752,      0.6294,     0.63117,      0.6331,     0.63463,     0.63633,     0.63797,      0.6387,     0.63949,     0.64039,     0.64135,     0.64253,     0.64377,     0.64481,     0.64619,     0.64695,       0.648,     0.65027,     0.65113,     0.65225,     0.65284,     0.65381,     0.65418,\n",
       "             0.6554,     0.65729,     0.65788,     0.65889,     0.65941,      0.6606,     0.66148,     0.66316,     0.66385,     0.66652,     0.66704,     0.66833,     0.66893,     0.67004,     0.67076,     0.67237,     0.67329,     0.67484,     0.67553,     0.67688,      0.6775,     0.67968,     0.68021,\n",
       "            0.68167,     0.68239,     0.68302,     0.68435,     0.68467,      0.6856,     0.68577,     0.68785,     0.68838,     0.68911,     0.68941,     0.68985,     0.69056,     0.69199,     0.69231,     0.69488,     0.69531,     0.69616,     0.69749,     0.69804,      0.7001,     0.70077,     0.70123,\n",
       "             0.7027,     0.70299,     0.70307,     0.70361,     0.70367,     0.70457,     0.70593,     0.70648,     0.70739,     0.70777,      0.7091,      0.7091,     0.71136,     0.71273,     0.71294,     0.71481,     0.71583,     0.71687,     0.71934,     0.71974,     0.72021,     0.72134,      0.7227,\n",
       "            0.72318,     0.72323,     0.72311,     0.72486,     0.72584,     0.72635,     0.72831,     0.72837,     0.72932,     0.72963,     0.72978,       0.731,     0.73145,      0.7323,     0.73405,     0.73481,     0.73516,     0.73602,      0.7377,     0.73905,     0.73941,     0.73997,     0.74142,\n",
       "            0.74294,       0.743,     0.74322,     0.74368,     0.74497,     0.74601,     0.74649,     0.74715,     0.74828,     0.74943,     0.74999,     0.75006,     0.75001,     0.75053,     0.75102,     0.75195,     0.75194,     0.75244,     0.75342,     0.75462,     0.75625,     0.75782,     0.75884,\n",
       "            0.76012,     0.76081,     0.76324,     0.76373,     0.76476,     0.76641,     0.76648,     0.76631,     0.76699,     0.76764,     0.76817,     0.76858,     0.76906,     0.77015,     0.77132,     0.77192,     0.77257,     0.77351,     0.77422,     0.77519,     0.77501,      0.7754,     0.77595,\n",
       "            0.77656,     0.77714,     0.77815,     0.77816,     0.77928,     0.78052,     0.78172,     0.78188,     0.78309,       0.783,     0.78354,     0.78371,     0.78424,     0.78394,     0.78468,     0.78627,     0.78684,     0.78707,     0.78737,     0.78756,     0.78771,     0.78763,     0.78807,\n",
       "            0.78843,     0.78905,      0.7918,     0.79212,     0.79239,     0.79332,     0.79393,      0.7945,      0.7948,     0.79557,     0.79603,      0.7966,     0.79846,     0.80017,     0.80075,     0.80087,     0.80118,     0.80221,     0.80275,     0.80342,     0.80322,     0.80509,     0.80576,\n",
       "            0.80669,     0.80693,     0.80777,     0.80833,     0.80918,     0.80935,     0.81046,     0.81038,     0.81165,     0.81156,     0.81266,     0.81388,     0.81418,     0.81481,     0.81477,     0.81508,     0.81579,     0.81674,     0.81765,     0.81835,     0.81948,     0.81975,     0.82016,\n",
       "            0.82154,     0.82265,     0.82356,     0.82463,     0.82469,     0.82596,     0.82656,     0.82687,     0.82736,     0.82863,     0.82891,     0.83099,     0.83208,     0.83304,      0.8339,     0.83493,     0.83512,     0.83633,     0.83699,     0.83744,     0.83737,     0.83803,     0.83832,\n",
       "            0.83803,     0.83902,     0.83938,     0.83964,     0.84005,     0.84073,     0.84051,     0.84105,     0.84114,     0.84107,     0.84168,     0.84235,     0.84298,     0.84438,     0.84552,     0.84611,     0.84678,      0.8467,     0.84718,     0.84797,     0.84816,     0.84947,      0.8509,\n",
       "            0.85178,     0.85243,     0.85295,     0.85414,     0.85545,       0.856,     0.85712,     0.85709,     0.85743,     0.85803,     0.85818,     0.85796,     0.85801,     0.85876,     0.85951,     0.85991,      0.8615,     0.86134,     0.86121,     0.86142,     0.86348,     0.86424,     0.86411,\n",
       "            0.86433,     0.86455,     0.86483,     0.86478,     0.86547,      0.8654,     0.86639,     0.86668,     0.86804,     0.86843,     0.86909,     0.87038,     0.87129,     0.87173,     0.87275,     0.87292,     0.87323,     0.87448,     0.87447,     0.87528,      0.8754,     0.87608,     0.87646,\n",
       "             0.8769,     0.87699,     0.87841,     0.87961,     0.87993,     0.88026,     0.88064,       0.881,     0.88096,     0.88123,     0.88116,     0.88098,     0.88213,      0.8819,     0.88178,     0.88143,     0.88168,     0.88167,     0.88241,     0.88234,     0.88365,     0.88405,     0.88404,\n",
       "            0.88426,     0.88448,     0.88491,     0.88504,     0.88492,     0.88526,     0.88534,     0.88558,     0.88581,     0.88605,     0.88599,     0.88733,     0.88721,     0.88744,     0.88726,     0.88808,     0.88796,     0.88885,      0.8894,      0.8903,     0.89124,     0.89106,     0.89179,\n",
       "            0.89313,     0.89383,     0.89386,     0.89417,     0.89504,     0.89581,     0.89595,     0.89656,      0.8964,     0.89637,     0.89635,     0.89632,     0.89655,     0.89706,     0.89714,      0.8968,     0.89762,     0.89756,     0.89739,      0.8971,     0.89687,     0.89829,     0.89877,\n",
       "            0.90023,     0.90063,     0.90113,     0.90153,     0.90193,     0.90182,     0.90273,     0.90337,     0.90386,      0.9041,     0.90613,     0.90695,     0.90784,     0.90763,     0.90748,     0.90746,     0.90725,      0.9082,     0.90915,      0.9099,     0.90979,     0.91052,     0.91096,\n",
       "            0.91156,     0.91286,     0.91325,     0.91299,     0.91294,     0.91278,     0.91246,     0.91225,     0.91214,      0.9129,     0.91455,     0.91599,     0.91578,     0.91586,     0.91722,     0.91696,     0.91732,     0.91779,     0.91824,     0.91918,     0.91963,     0.91955,     0.91924,\n",
       "            0.91909,     0.91957,     0.91926,     0.92027,     0.92078,     0.92101,     0.92112,     0.92086,     0.92066,     0.92164,     0.92234,     0.92247,     0.92326,     0.92311,     0.92286,     0.92265,     0.92308,     0.92354,     0.92389,     0.92487,     0.92538,      0.9259,     0.92698,\n",
       "            0.92749,     0.92796,     0.92839,     0.92888,     0.92971,     0.93086,     0.93071,     0.93171,     0.93161,      0.9321,     0.93186,     0.93229,     0.93287,     0.93278,     0.93251,     0.93303,     0.93284,     0.93435,     0.93447,     0.93509,     0.93499,     0.93557,     0.93547,\n",
       "            0.93586,     0.93666,     0.93778,     0.93907,     0.93894,     0.93876,     0.93857,     0.93842,     0.93962,     0.93949,     0.93998,     0.93976,     0.94032,      0.9406,     0.94029,     0.94026,     0.94006,     0.94003,      0.9394,     0.93938,     0.93993,     0.94058,     0.94055,\n",
       "            0.94043,     0.94041,     0.94038,     0.94066,     0.94064,     0.94024,     0.94021,     0.94138,     0.94178,     0.94175,     0.94149,     0.94193,      0.9419,      0.9424,     0.94238,     0.94298,     0.94285,     0.94338,     0.94329,     0.94326,     0.94378,     0.94337,     0.94334,\n",
       "            0.94352,     0.94393,     0.94456,     0.94509,     0.94506,     0.94658,     0.94727,     0.94724,     0.94699,     0.94841,     0.94838,     0.94803,     0.94856,     0.94853,     0.95055,     0.95098,     0.95095,     0.95084,     0.95081,     0.95056,     0.95224,     0.95221,     0.95197,\n",
       "            0.95267,     0.95264,     0.95331,     0.95311,     0.95371,     0.95432,     0.95446,     0.95492,     0.95457,     0.95606,     0.95603,     0.95667,     0.95762,     0.95826,     0.95912,     0.95873,     0.95871,     0.95954,     0.95919,     0.95917,     0.95892,     0.95852,      0.9584,\n",
       "            0.95838,     0.95907,     0.95994,     0.95971,     0.95968,     0.95953,     0.96029,     0.96026,     0.96006,     0.95986,     0.96174,     0.96171,     0.96365,     0.96347,     0.96344,     0.96422,     0.96494,     0.96491,     0.96567,     0.96538,     0.96613,     0.96567,     0.96565,\n",
       "             0.9653,     0.96603,      0.9669,     0.96687,     0.96775,     0.96737,     0.96707,     0.96704,     0.96676,     0.96776,     0.96745,     0.96742,     0.96959,     0.96933,     0.96917,      0.9691,     0.96907,     0.97014,     0.97122,      0.9721,     0.97319,     0.97432,      0.9743,\n",
       "            0.97413,     0.97389,     0.97371,     0.97478,     0.97476,     0.97451,     0.97438,     0.97553,      0.9767,     0.97797,     0.97794,     0.97748,     0.97732,     0.97858,     0.97828,     0.97811,     0.97809,     0.97781,     0.97763,     0.97761,     0.97732,     0.97699,     0.97661,\n",
       "             0.9765,     0.97606,     0.97593,     0.97585,     0.97583,     0.97553,     0.97527,     0.97492,     0.97464,     0.97621,     0.97768,     0.97716,     0.97654,     0.97621,     0.97573,     0.97563,     0.97523,     0.97498,     0.97457,     0.97413,     0.97602,     0.97586,     0.97565,\n",
       "            0.97538,     0.97689,     0.97651,     0.97606,     0.97819,     0.97786,     0.97747,     0.97719,     0.97689,     0.97613,     0.97547,     0.97783,     0.97739,     0.97707,     0.97673,     0.97611,     0.97573,     0.97548,     0.97478,     0.97405,     0.97308,     0.97238,      0.9717,\n",
       "            0.97488,     0.97438,     0.97399,     0.97719,     0.97695,     0.97679,     0.97585,     0.97478,     0.97816,     0.98197,     0.98177,     0.98098,     0.98028,     0.97986,     0.97952,     0.97919,     0.97835,      0.9777,      0.9773,     0.97585,     0.98116,     0.98028,     0.97981,\n",
       "            0.97933,     0.97888,     0.98893,     0.99212,     0.99196,     0.99166,     0.99136,     0.99106,     0.99088,     0.99041,     0.99016,     0.98972,     0.98919,      0.9886,     0.98786,     0.98661,     0.98598,     0.98532,      0.9851,     0.98417,           1,           1,           1,\n",
       "                  1,           1,           1,           1,           1,           1,           1,           1,           1,           1,           1,           1,           1,           1,           1,           1,           1,           1,           1,           1,           1,           1,           1,\n",
       "                  1,           1,           1,           1,           1,           1,           1,           1,           1,           1,           1,           1,           1,           1,           1,           1,           1,           1,           1,           1,           1,           1,           1,\n",
       "                  1,           1,           1,           1,           1,           1,           1,           1,           1,           1,           1,           1,           1,           1,           1,           1,           1,           1,           1,           1,           1,           1,           1,\n",
       "                  1,           1,           1,           1,           1,           1,           1,           1,           1,           1,           1]]), 'Confidence', 'Precision'], [array([          0,    0.001001,    0.002002,    0.003003,    0.004004,    0.005005,    0.006006,    0.007007,    0.008008,    0.009009,     0.01001,    0.011011,    0.012012,    0.013013,    0.014014,    0.015015,    0.016016,    0.017017,    0.018018,    0.019019,     0.02002,    0.021021,    0.022022,    0.023023,\n",
       "          0.024024,    0.025025,    0.026026,    0.027027,    0.028028,    0.029029,     0.03003,    0.031031,    0.032032,    0.033033,    0.034034,    0.035035,    0.036036,    0.037037,    0.038038,    0.039039,     0.04004,    0.041041,    0.042042,    0.043043,    0.044044,    0.045045,    0.046046,    0.047047,\n",
       "          0.048048,    0.049049,     0.05005,    0.051051,    0.052052,    0.053053,    0.054054,    0.055055,    0.056056,    0.057057,    0.058058,    0.059059,     0.06006,    0.061061,    0.062062,    0.063063,    0.064064,    0.065065,    0.066066,    0.067067,    0.068068,    0.069069,     0.07007,    0.071071,\n",
       "          0.072072,    0.073073,    0.074074,    0.075075,    0.076076,    0.077077,    0.078078,    0.079079,     0.08008,    0.081081,    0.082082,    0.083083,    0.084084,    0.085085,    0.086086,    0.087087,    0.088088,    0.089089,     0.09009,    0.091091,    0.092092,    0.093093,    0.094094,    0.095095,\n",
       "          0.096096,    0.097097,    0.098098,    0.099099,      0.1001,      0.1011,      0.1021,      0.1031,      0.1041,     0.10511,     0.10611,     0.10711,     0.10811,     0.10911,     0.11011,     0.11111,     0.11211,     0.11311,     0.11411,     0.11512,     0.11612,     0.11712,     0.11812,     0.11912,\n",
       "           0.12012,     0.12112,     0.12212,     0.12312,     0.12412,     0.12513,     0.12613,     0.12713,     0.12813,     0.12913,     0.13013,     0.13113,     0.13213,     0.13313,     0.13413,     0.13514,     0.13614,     0.13714,     0.13814,     0.13914,     0.14014,     0.14114,     0.14214,     0.14314,\n",
       "           0.14414,     0.14515,     0.14615,     0.14715,     0.14815,     0.14915,     0.15015,     0.15115,     0.15215,     0.15315,     0.15415,     0.15516,     0.15616,     0.15716,     0.15816,     0.15916,     0.16016,     0.16116,     0.16216,     0.16316,     0.16416,     0.16517,     0.16617,     0.16717,\n",
       "           0.16817,     0.16917,     0.17017,     0.17117,     0.17217,     0.17317,     0.17417,     0.17518,     0.17618,     0.17718,     0.17818,     0.17918,     0.18018,     0.18118,     0.18218,     0.18318,     0.18418,     0.18519,     0.18619,     0.18719,     0.18819,     0.18919,     0.19019,     0.19119,\n",
       "           0.19219,     0.19319,     0.19419,      0.1952,      0.1962,      0.1972,      0.1982,      0.1992,      0.2002,      0.2012,      0.2022,      0.2032,      0.2042,     0.20521,     0.20621,     0.20721,     0.20821,     0.20921,     0.21021,     0.21121,     0.21221,     0.21321,     0.21421,     0.21522,\n",
       "           0.21622,     0.21722,     0.21822,     0.21922,     0.22022,     0.22122,     0.22222,     0.22322,     0.22422,     0.22523,     0.22623,     0.22723,     0.22823,     0.22923,     0.23023,     0.23123,     0.23223,     0.23323,     0.23423,     0.23524,     0.23624,     0.23724,     0.23824,     0.23924,\n",
       "           0.24024,     0.24124,     0.24224,     0.24324,     0.24424,     0.24525,     0.24625,     0.24725,     0.24825,     0.24925,     0.25025,     0.25125,     0.25225,     0.25325,     0.25425,     0.25526,     0.25626,     0.25726,     0.25826,     0.25926,     0.26026,     0.26126,     0.26226,     0.26326,\n",
       "           0.26426,     0.26527,     0.26627,     0.26727,     0.26827,     0.26927,     0.27027,     0.27127,     0.27227,     0.27327,     0.27427,     0.27528,     0.27628,     0.27728,     0.27828,     0.27928,     0.28028,     0.28128,     0.28228,     0.28328,     0.28428,     0.28529,     0.28629,     0.28729,\n",
       "           0.28829,     0.28929,     0.29029,     0.29129,     0.29229,     0.29329,     0.29429,      0.2953,      0.2963,      0.2973,      0.2983,      0.2993,      0.3003,      0.3013,      0.3023,      0.3033,      0.3043,     0.30531,     0.30631,     0.30731,     0.30831,     0.30931,     0.31031,     0.31131,\n",
       "           0.31231,     0.31331,     0.31431,     0.31532,     0.31632,     0.31732,     0.31832,     0.31932,     0.32032,     0.32132,     0.32232,     0.32332,     0.32432,     0.32533,     0.32633,     0.32733,     0.32833,     0.32933,     0.33033,     0.33133,     0.33233,     0.33333,     0.33433,     0.33534,\n",
       "           0.33634,     0.33734,     0.33834,     0.33934,     0.34034,     0.34134,     0.34234,     0.34334,     0.34434,     0.34535,     0.34635,     0.34735,     0.34835,     0.34935,     0.35035,     0.35135,     0.35235,     0.35335,     0.35435,     0.35536,     0.35636,     0.35736,     0.35836,     0.35936,\n",
       "           0.36036,     0.36136,     0.36236,     0.36336,     0.36436,     0.36537,     0.36637,     0.36737,     0.36837,     0.36937,     0.37037,     0.37137,     0.37237,     0.37337,     0.37437,     0.37538,     0.37638,     0.37738,     0.37838,     0.37938,     0.38038,     0.38138,     0.38238,     0.38338,\n",
       "           0.38438,     0.38539,     0.38639,     0.38739,     0.38839,     0.38939,     0.39039,     0.39139,     0.39239,     0.39339,     0.39439,      0.3954,      0.3964,      0.3974,      0.3984,      0.3994,      0.4004,      0.4014,      0.4024,      0.4034,      0.4044,     0.40541,     0.40641,     0.40741,\n",
       "           0.40841,     0.40941,     0.41041,     0.41141,     0.41241,     0.41341,     0.41441,     0.41542,     0.41642,     0.41742,     0.41842,     0.41942,     0.42042,     0.42142,     0.42242,     0.42342,     0.42442,     0.42543,     0.42643,     0.42743,     0.42843,     0.42943,     0.43043,     0.43143,\n",
       "           0.43243,     0.43343,     0.43443,     0.43544,     0.43644,     0.43744,     0.43844,     0.43944,     0.44044,     0.44144,     0.44244,     0.44344,     0.44444,     0.44545,     0.44645,     0.44745,     0.44845,     0.44945,     0.45045,     0.45145,     0.45245,     0.45345,     0.45445,     0.45546,\n",
       "           0.45646,     0.45746,     0.45846,     0.45946,     0.46046,     0.46146,     0.46246,     0.46346,     0.46446,     0.46547,     0.46647,     0.46747,     0.46847,     0.46947,     0.47047,     0.47147,     0.47247,     0.47347,     0.47447,     0.47548,     0.47648,     0.47748,     0.47848,     0.47948,\n",
       "           0.48048,     0.48148,     0.48248,     0.48348,     0.48448,     0.48549,     0.48649,     0.48749,     0.48849,     0.48949,     0.49049,     0.49149,     0.49249,     0.49349,     0.49449,      0.4955,      0.4965,      0.4975,      0.4985,      0.4995,      0.5005,      0.5015,      0.5025,      0.5035,\n",
       "            0.5045,     0.50551,     0.50651,     0.50751,     0.50851,     0.50951,     0.51051,     0.51151,     0.51251,     0.51351,     0.51451,     0.51552,     0.51652,     0.51752,     0.51852,     0.51952,     0.52052,     0.52152,     0.52252,     0.52352,     0.52452,     0.52553,     0.52653,     0.52753,\n",
       "           0.52853,     0.52953,     0.53053,     0.53153,     0.53253,     0.53353,     0.53453,     0.53554,     0.53654,     0.53754,     0.53854,     0.53954,     0.54054,     0.54154,     0.54254,     0.54354,     0.54454,     0.54555,     0.54655,     0.54755,     0.54855,     0.54955,     0.55055,     0.55155,\n",
       "           0.55255,     0.55355,     0.55455,     0.55556,     0.55656,     0.55756,     0.55856,     0.55956,     0.56056,     0.56156,     0.56256,     0.56356,     0.56456,     0.56557,     0.56657,     0.56757,     0.56857,     0.56957,     0.57057,     0.57157,     0.57257,     0.57357,     0.57457,     0.57558,\n",
       "           0.57658,     0.57758,     0.57858,     0.57958,     0.58058,     0.58158,     0.58258,     0.58358,     0.58458,     0.58559,     0.58659,     0.58759,     0.58859,     0.58959,     0.59059,     0.59159,     0.59259,     0.59359,     0.59459,      0.5956,      0.5966,      0.5976,      0.5986,      0.5996,\n",
       "            0.6006,      0.6016,      0.6026,      0.6036,      0.6046,     0.60561,     0.60661,     0.60761,     0.60861,     0.60961,     0.61061,     0.61161,     0.61261,     0.61361,     0.61461,     0.61562,     0.61662,     0.61762,     0.61862,     0.61962,     0.62062,     0.62162,     0.62262,     0.62362,\n",
       "           0.62462,     0.62563,     0.62663,     0.62763,     0.62863,     0.62963,     0.63063,     0.63163,     0.63263,     0.63363,     0.63463,     0.63564,     0.63664,     0.63764,     0.63864,     0.63964,     0.64064,     0.64164,     0.64264,     0.64364,     0.64464,     0.64565,     0.64665,     0.64765,\n",
       "           0.64865,     0.64965,     0.65065,     0.65165,     0.65265,     0.65365,     0.65465,     0.65566,     0.65666,     0.65766,     0.65866,     0.65966,     0.66066,     0.66166,     0.66266,     0.66366,     0.66466,     0.66567,     0.66667,     0.66767,     0.66867,     0.66967,     0.67067,     0.67167,\n",
       "           0.67267,     0.67367,     0.67467,     0.67568,     0.67668,     0.67768,     0.67868,     0.67968,     0.68068,     0.68168,     0.68268,     0.68368,     0.68468,     0.68569,     0.68669,     0.68769,     0.68869,     0.68969,     0.69069,     0.69169,     0.69269,     0.69369,     0.69469,      0.6957,\n",
       "            0.6967,      0.6977,      0.6987,      0.6997,      0.7007,      0.7017,      0.7027,      0.7037,      0.7047,     0.70571,     0.70671,     0.70771,     0.70871,     0.70971,     0.71071,     0.71171,     0.71271,     0.71371,     0.71471,     0.71572,     0.71672,     0.71772,     0.71872,     0.71972,\n",
       "           0.72072,     0.72172,     0.72272,     0.72372,     0.72472,     0.72573,     0.72673,     0.72773,     0.72873,     0.72973,     0.73073,     0.73173,     0.73273,     0.73373,     0.73473,     0.73574,     0.73674,     0.73774,     0.73874,     0.73974,     0.74074,     0.74174,     0.74274,     0.74374,\n",
       "           0.74474,     0.74575,     0.74675,     0.74775,     0.74875,     0.74975,     0.75075,     0.75175,     0.75275,     0.75375,     0.75475,     0.75576,     0.75676,     0.75776,     0.75876,     0.75976,     0.76076,     0.76176,     0.76276,     0.76376,     0.76476,     0.76577,     0.76677,     0.76777,\n",
       "           0.76877,     0.76977,     0.77077,     0.77177,     0.77277,     0.77377,     0.77477,     0.77578,     0.77678,     0.77778,     0.77878,     0.77978,     0.78078,     0.78178,     0.78278,     0.78378,     0.78478,     0.78579,     0.78679,     0.78779,     0.78879,     0.78979,     0.79079,     0.79179,\n",
       "           0.79279,     0.79379,     0.79479,      0.7958,      0.7968,      0.7978,      0.7988,      0.7998,      0.8008,      0.8018,      0.8028,      0.8038,      0.8048,     0.80581,     0.80681,     0.80781,     0.80881,     0.80981,     0.81081,     0.81181,     0.81281,     0.81381,     0.81481,     0.81582,\n",
       "           0.81682,     0.81782,     0.81882,     0.81982,     0.82082,     0.82182,     0.82282,     0.82382,     0.82482,     0.82583,     0.82683,     0.82783,     0.82883,     0.82983,     0.83083,     0.83183,     0.83283,     0.83383,     0.83483,     0.83584,     0.83684,     0.83784,     0.83884,     0.83984,\n",
       "           0.84084,     0.84184,     0.84284,     0.84384,     0.84484,     0.84585,     0.84685,     0.84785,     0.84885,     0.84985,     0.85085,     0.85185,     0.85285,     0.85385,     0.85485,     0.85586,     0.85686,     0.85786,     0.85886,     0.85986,     0.86086,     0.86186,     0.86286,     0.86386,\n",
       "           0.86486,     0.86587,     0.86687,     0.86787,     0.86887,     0.86987,     0.87087,     0.87187,     0.87287,     0.87387,     0.87487,     0.87588,     0.87688,     0.87788,     0.87888,     0.87988,     0.88088,     0.88188,     0.88288,     0.88388,     0.88488,     0.88589,     0.88689,     0.88789,\n",
       "           0.88889,     0.88989,     0.89089,     0.89189,     0.89289,     0.89389,     0.89489,      0.8959,      0.8969,      0.8979,      0.8989,      0.8999,      0.9009,      0.9019,      0.9029,      0.9039,      0.9049,     0.90591,     0.90691,     0.90791,     0.90891,     0.90991,     0.91091,     0.91191,\n",
       "           0.91291,     0.91391,     0.91491,     0.91592,     0.91692,     0.91792,     0.91892,     0.91992,     0.92092,     0.92192,     0.92292,     0.92392,     0.92492,     0.92593,     0.92693,     0.92793,     0.92893,     0.92993,     0.93093,     0.93193,     0.93293,     0.93393,     0.93493,     0.93594,\n",
       "           0.93694,     0.93794,     0.93894,     0.93994,     0.94094,     0.94194,     0.94294,     0.94394,     0.94494,     0.94595,     0.94695,     0.94795,     0.94895,     0.94995,     0.95095,     0.95195,     0.95295,     0.95395,     0.95495,     0.95596,     0.95696,     0.95796,     0.95896,     0.95996,\n",
       "           0.96096,     0.96196,     0.96296,     0.96396,     0.96496,     0.96597,     0.96697,     0.96797,     0.96897,     0.96997,     0.97097,     0.97197,     0.97297,     0.97397,     0.97497,     0.97598,     0.97698,     0.97798,     0.97898,     0.97998,     0.98098,     0.98198,     0.98298,     0.98398,\n",
       "           0.98498,     0.98599,     0.98699,     0.98799,     0.98899,     0.98999,     0.99099,     0.99199,     0.99299,     0.99399,     0.99499,       0.996,       0.997,       0.998,       0.999,           1]), array([[    0.98595,     0.98595,     0.98556,     0.98439,     0.98283,     0.98205,     0.98049,     0.97932,     0.97776,      0.9762,     0.97581,     0.97503,     0.97425,     0.97347,      0.9723,     0.97113,     0.97113,     0.97113,     0.97035,     0.96957,     0.96879,     0.96879,     0.96879,\n",
       "            0.96723,     0.96567,     0.96488,     0.96488,     0.96449,     0.96371,     0.96293,     0.96254,     0.96254,     0.96215,     0.96215,     0.96176,     0.96098,      0.9602,      0.9602,     0.95942,     0.95903,     0.95825,     0.95669,     0.95552,     0.95474,     0.95474,     0.95396,\n",
       "             0.9524,      0.9524,     0.95201,     0.95162,     0.95123,     0.95045,     0.95006,     0.94967,     0.94967,     0.94928,      0.9485,     0.94811,     0.94772,     0.94733,     0.94733,     0.94655,     0.94655,     0.94655,     0.94655,     0.94577,     0.94538,     0.94538,     0.94382,\n",
       "            0.94382,     0.94304,     0.94226,     0.94147,     0.94083,     0.94069,      0.9403,     0.93913,     0.93874,     0.93835,     0.93796,     0.93757,     0.93757,     0.93718,     0.93562,     0.93445,     0.93445,     0.93328,      0.9325,     0.93211,     0.93172,     0.93016,     0.93016,\n",
       "            0.92977,     0.92899,     0.92899,      0.9286,      0.9286,      0.9286,      0.9286,     0.92821,     0.92821,     0.92704,     0.92704,     0.92665,     0.92626,     0.92482,     0.92431,     0.92392,     0.92363,     0.92314,     0.92275,     0.92133,      0.9208,     0.92041,     0.92002,\n",
       "            0.91924,     0.91845,     0.91845,     0.91767,     0.91767,     0.91767,     0.91728,      0.9165,     0.91572,     0.91502,     0.91455,       0.914,     0.91338,     0.91221,     0.91143,     0.91143,     0.91104,     0.91065,     0.91026,     0.90963,     0.90948,     0.90907,     0.90831,\n",
       "            0.90831,     0.90831,     0.90753,     0.90753,     0.90681,     0.90597,     0.90558,     0.90519,     0.90519,      0.9048,     0.90363,     0.90363,     0.90275,     0.90168,     0.90129,     0.90129,     0.90121,     0.89926,     0.89856,     0.89778,     0.89739,     0.89661,     0.89622,\n",
       "            0.89544,     0.89387,     0.89387,     0.89387,     0.89348,     0.89231,     0.89231,     0.89192,     0.89192,     0.89075,     0.88997,     0.88841,     0.88813,     0.88802,     0.88763,     0.88685,     0.88651,     0.88607,     0.88607,     0.88607,     0.88607,     0.88529,     0.88451,\n",
       "            0.88412,     0.88412,     0.88373,     0.88256,     0.88256,     0.88178,     0.88061,     0.88022,     0.87964,     0.87822,     0.87788,     0.87733,      0.8771,      0.8771,      0.8771,     0.87671,     0.87671,     0.87632,     0.87605,     0.87515,     0.87476,     0.87437,     0.87398,\n",
       "             0.8734,      0.8732,     0.87258,     0.87196,     0.87124,     0.87085,     0.87085,     0.87007,     0.87007,     0.87007,     0.87007,     0.86956,      0.8689,     0.86838,     0.86734,     0.86695,     0.86695,     0.86539,     0.86539,     0.86539,       0.865,     0.86422,     0.86344,\n",
       "            0.86305,     0.86305,     0.86266,     0.86227,     0.86158,     0.86103,     0.85954,     0.85798,      0.8572,      0.8572,      0.8572,     0.85681,     0.85678,     0.85603,     0.85525,     0.85479,     0.85387,     0.85291,     0.85252,     0.85252,     0.85252,     0.85159,     0.85096,\n",
       "            0.85018,      0.8496,     0.84822,     0.84658,     0.84627,     0.84588,     0.84549,     0.84549,      0.8451,     0.84471,     0.84454,     0.84362,     0.84315,     0.84216,      0.8412,     0.84081,     0.84003,     0.84003,     0.84001,     0.83925,     0.83863,     0.83847,     0.83769,\n",
       "             0.8373,     0.83703,     0.83654,     0.83535,     0.83496,     0.83496,     0.83457,      0.8334,     0.83301,     0.83301,     0.83223,     0.83184,     0.83145,     0.83145,     0.83027,     0.82989,     0.82989,     0.82911,     0.82833,     0.82833,     0.82811,     0.82719,     0.82561,\n",
       "             0.8243,     0.82286,     0.82247,     0.82091,     0.81935,     0.81896,     0.81857,     0.81779,     0.81779,     0.81662,     0.81662,     0.81612,     0.81589,     0.81465,     0.81428,     0.81375,     0.81311,     0.81272,     0.81194,     0.81116,     0.81077,     0.80946,     0.80843,\n",
       "            0.80765,     0.80687,     0.80609,      0.8057,     0.80492,     0.80391,     0.80336,     0.80219,      0.8014,      0.8014,     0.80101,     0.80079,     0.80062,     0.80023,     0.80023,     0.79867,      0.7975,      0.7975,     0.79672,     0.79645,     0.79563,     0.79474,     0.79438,\n",
       "            0.79438,     0.79399,     0.79377,     0.79282,     0.79243,     0.79087,     0.79086,     0.79009,     0.78879,     0.78839,     0.78775,     0.78775,     0.78709,     0.78426,     0.78346,     0.78228,     0.78061,     0.78021,     0.77956,     0.77917,     0.77917,     0.77852,     0.77764,\n",
       "            0.77645,     0.77643,     0.77565,     0.77565,     0.77436,     0.77275,     0.77175,     0.77136,     0.77071,     0.76984,     0.76902,     0.76864,     0.76824,     0.76824,     0.76785,     0.76733,     0.76668,     0.76668,      0.7659,      0.7659,     0.76445,     0.76434,     0.76395,\n",
       "            0.76356,     0.76314,     0.76235,     0.76161,     0.76107,     0.76028,     0.76005,      0.7587,      0.7583,     0.75783,     0.75693,     0.75583,     0.75419,     0.75364,     0.75344,     0.75341,     0.75302,     0.75294,     0.75185,     0.75185,     0.75096,     0.75056,     0.75029,\n",
       "             0.7499,     0.74926,     0.74912,     0.74912,     0.74884,     0.74805,     0.74795,     0.74725,     0.74607,     0.74519,     0.74479,     0.74405,     0.74405,     0.74327,     0.74241,     0.74201,     0.74054,     0.73965,     0.73859,     0.73768,     0.73728,     0.73683,     0.73638,\n",
       "            0.73481,     0.73469,     0.73401,     0.73391,      0.7336,      0.7332,     0.73202,     0.73084,     0.72927,     0.72887,     0.72808,     0.72766,     0.72688,      0.7261,     0.72609,     0.72493,     0.72451,     0.72376,     0.72376,     0.72376,     0.72359,     0.72337,     0.72259,\n",
       "              0.722,     0.72121,     0.72064,     0.72064,      0.7204,     0.71986,     0.71856,     0.71836,     0.71802,     0.71684,     0.71596,     0.71409,     0.71245,     0.71206,     0.71167,     0.71132,     0.71128,     0.71013,     0.70934,     0.70816,     0.70581,     0.70541,     0.70462,\n",
       "            0.70344,     0.70226,     0.70147,     0.70074,     0.70028,     0.69988,     0.69831,     0.69684,     0.69556,      0.6945,     0.69333,     0.69333,     0.69201,     0.69099,     0.69043,     0.69021,     0.68943,     0.68904,     0.68766,     0.68726,      0.6853,     0.68513,     0.68474,\n",
       "            0.68371,      0.6824,     0.68213,     0.68134,     0.68055,     0.67976,     0.67936,     0.67928,     0.67856,     0.67772,     0.67698,     0.67579,      0.6746,     0.67304,     0.67225,     0.66992,     0.66872,     0.66836,     0.66753,     0.66713,     0.66673,     0.66633,     0.66563,\n",
       "            0.66475,     0.66318,     0.66211,     0.66082,     0.66003,     0.65924,      0.6586,     0.65704,     0.65548,      0.6553,      0.6549,      0.6545,     0.65371,     0.65214,     0.65096,     0.65017,     0.64938,     0.64898,     0.64729,      0.6469,     0.64583,     0.64465,     0.64378,\n",
       "              0.643,     0.64105,     0.64071,     0.63988,     0.63909,     0.63736,     0.63675,     0.63578,      0.6347,      0.6345,      0.6343,      0.6341,     0.63363,     0.63363,     0.63298,     0.63063,     0.62945,     0.62905,     0.62787,     0.62591,     0.62434,     0.62427,     0.62354,\n",
       "            0.62314,     0.62271,     0.62234,     0.62155,     0.62076,     0.61997,     0.61917,     0.61803,     0.61624,     0.61568,     0.61387,      0.6123,     0.61112,     0.60955,     0.60852,     0.60832,     0.60679,     0.60671,     0.60521,     0.60286,     0.60207,     0.59953,     0.59874,\n",
       "            0.59735,     0.59677,     0.59559,     0.59362,     0.59322,     0.59204,     0.58969,     0.58812,     0.58733,     0.58479,     0.58369,     0.58282,     0.58125,     0.58057,     0.57928,     0.57732,     0.57575,     0.57495,       0.574,      0.5724,      0.5716,     0.57082,     0.56847,\n",
       "            0.56729,      0.5665,     0.56379,     0.56292,     0.56237,     0.56106,      0.5604,     0.55844,     0.55687,     0.55638,     0.55607,      0.5556,     0.55391,     0.55272,     0.55076,     0.54919,     0.54784,     0.54664,     0.54468,     0.54272,     0.54193,     0.54114,     0.53992,\n",
       "            0.53897,     0.53779,     0.53622,     0.53504,     0.53152,     0.53053,     0.52935,       0.527,     0.52621,      0.5249,     0.52288,     0.52165,     0.52052,     0.51973,     0.51757,     0.51639,     0.51482,     0.51346,     0.51187,     0.51147,     0.51068,     0.50989,     0.50904,\n",
       "            0.50839,     0.50772,     0.50722,     0.50516,     0.50398,     0.50241,     0.50071,     0.49947,      0.4979,     0.49672,     0.49495,     0.49299,     0.49181,     0.48809,     0.48536,     0.48516,     0.48339,     0.48313,     0.47783,     0.47763,     0.47621,     0.47556,     0.47529,\n",
       "            0.47429,     0.47409,     0.47384,     0.47009,     0.46989,     0.46654,     0.46627,     0.46366,      0.4607,      0.4605,     0.45831,      0.4557,     0.45544,     0.45326,     0.45306,     0.45165,     0.44986,     0.44986,     0.44777,     0.44757,     0.44537,     0.44198,     0.44172,\n",
       "             0.4405,      0.4405,     0.43871,     0.43649,     0.43622,     0.43557,     0.43455,     0.43435,     0.43216,     0.43034,     0.43007,     0.42707,     0.42447,      0.4242,     0.42003,     0.41627,     0.41607,     0.41507,      0.4148,     0.41258,     0.41232,     0.41205,     0.40983,\n",
       "             0.4084,     0.40813,      0.4063,     0.40448,     0.40187,     0.40187,     0.39836,     0.39836,     0.39352,     0.39052,     0.39025,     0.38765,     0.38666,     0.38666,     0.38451,     0.38073,     0.38046,     0.37941,     0.37603,     0.37576,     0.37342,     0.36963,     0.36859,\n",
       "            0.36832,     0.36571,     0.36467,     0.36245,     0.36218,     0.36074,     0.35853,     0.35826,     0.35643,     0.35458,     0.35304,     0.35277,     0.35172,      0.3499,     0.34963,     0.34702,     0.34364,     0.34337,     0.34025,     0.33724,     0.33385,      0.3293,     0.32903,\n",
       "            0.32557,     0.32173,     0.31913,     0.31886,     0.31616,     0.31234,     0.30935,     0.30908,     0.30637,     0.30451,     0.30152,     0.30125,     0.29853,      0.2959,     0.29441,     0.29368,     0.29341,     0.29159,     0.28969,     0.28546,     0.28323,     0.28129,     0.28102,\n",
       "            0.27911,     0.27645,      0.2746,      0.2715,     0.27123,     0.26853,     0.26706,     0.26441,     0.26167,     0.25976,     0.25949,     0.25403,     0.25219,     0.24952,       0.246,     0.24411,     0.24384,     0.24071,     0.23876,     0.23849,     0.23541,     0.23189,     0.22807,\n",
       "            0.22699,     0.22269,     0.22151,     0.22076,     0.22049,     0.21777,     0.21542,     0.21229,     0.20994,      0.2081,     0.20504,     0.20035,     0.19488,     0.19214,     0.18823,     0.18744,     0.18431,     0.18243,     0.17941,     0.17628,     0.17471,     0.17353,     0.17196,\n",
       "               0.17,     0.16492,     0.16217,     0.15904,     0.15747,     0.15512,     0.15238,     0.15042,     0.14846,     0.14357,     0.13966,      0.1377,     0.13496,       0.133,     0.13104,     0.12752,     0.12548,     0.12418,     0.12066,     0.11714,     0.11284,      0.1099,     0.10716,\n",
       "            0.10598,     0.10387,     0.10225,     0.10029,     0.09924,    0.098519,    0.094607,    0.090501,    0.087369,    0.084981,    0.084034,    0.080512,    0.077576,    0.075929,     0.07463,     0.07345,    0.070514,    0.068438,    0.067178,    0.063072,    0.060966,    0.058175,      0.0568,\n",
       "           0.055445,    0.054244,    0.052282,    0.049144,    0.048167,    0.046402,    0.044793,    0.043261,    0.042413,    0.040315,    0.039253,    0.037564,    0.035702,    0.033838,    0.031761,    0.028746,     0.02743,    0.026191,    0.025791,    0.024251,    0.023061,     0.02186,     0.02068,\n",
       "           0.019499,    0.018319,    0.017891,    0.016544,     0.01434,     0.01392,     0.01372,    0.012331,    0.011141,   0.0098524,   0.0094525,   0.0085061,   0.0082395,   0.0075315,   0.0063415,   0.0058922,   0.0054922,   0.0052156,   0.0047027,   0.0035127,   0.0033974,   0.0032831,   0.0031689,\n",
       "          0.0030279,   0.0028679,    0.002312,    0.002112,    0.001925,   0.0017917,   0.0016584,   0.0014539,   0.0011619,   0.0011322,   0.0011026,    0.001073,   0.0010434,   0.0010137,  0.00098412,   0.0009545,  0.00092487,  0.00089525,  0.00086562,    0.000836,  0.00080637,   0.0007665,  0.00065223,\n",
       "         0.00053797,   0.0004237,           0,           0,           0,           0,           0,           0,           0,           0,           0,           0,           0,           0,           0,           0,           0,           0,           0,           0,           0,           0,           0,\n",
       "                  0,           0,           0,           0,           0,           0,           0,           0,           0,           0,           0]]), 'Confidence', 'Recall']]\n",
       "fitness: 0.5691855996646362\n",
       "keys: ['metrics/precision(B)', 'metrics/recall(B)', 'metrics/mAP50(B)', 'metrics/mAP50-95(B)']\n",
       "maps: array([    0.53746])\n",
       "names: {0: 'cell'}\n",
       "plot: True\n",
       "results_dict: {'metrics/precision(B)': 0.8008686301535353, 'metrics/recall(B)': 0.767329463681395, 'metrics/mAP50(B)': 0.8547399769208675, 'metrics/mAP50-95(B)': 0.5374573355250549, 'fitness': 0.5691855996646362}\n",
       "save_dir: WindowsPath('runs/detect/yolov11ny_new2')\n",
       "speed: {'preprocess': 1.1675650164429923, 'inference': 29.720870446496335, 'loss': 0.0016669928568777779, 'postprocess': 2.439133007437211}\n",
       "task: 'detect'"
      ]
     },
     "execution_count": 6,
     "metadata": {},
     "output_type": "execute_result"
    }
   ],
   "source": [
    "os.environ[\"KMP_DUPLICATE_LIB_OK\"] = \"TRUE\"\n",
    "\n",
    "model_YOLOv11ny.train(\n",
    "    data=\"cells.yaml\", \n",
    "    epochs=25, \n",
    "    imgsz=1280, \n",
    "    batch=3, \n",
    "    name='yolov11ny_new',\n",
    "    \n",
    "    # Parámetros de data augmentation\n",
    "    augment=True,         \n",
    "    mosaic=0.2,             # Probabilidad de mosaico (0-1)\n",
    "    degrees=15.0,           # Rotación de imagen ±10 grados\n",
    "    translate=0.1,          # Traslación ±10%\n",
    "    scale=0.1,              # Escala ±10%\n",
    "    shear=2.0,              # Cizallamiento ±2 grados\n",
    "    fliplr=0.5,             # Probabilidad de volteo horizontal 50%\n",
    "    flipud=0.0,             # Probabilidad de volteo vertical 0%\n",
    ")"
   ]
  },
  {
   "cell_type": "code",
   "execution_count": 7,
   "metadata": {},
   "outputs": [
    {
     "name": "stdout",
     "output_type": "stream",
     "text": [
      "La figura individual 'map50-95' se ha guardado en: yolo_plots/map50-95.png\n",
      "La figura individual 'map50' se ha guardado en: yolo_plots/map50.png\n",
      "La figura individual 'precision' se ha guardado en: yolo_plots/precision.png\n",
      "La figura individual 'recall' se ha guardado en: yolo_plots/recall.png\n",
      "La figura individual 'box_loss' se ha guardado en: yolo_plots/box_loss.png\n",
      "La figura individual 'cls_loss' se ha guardado en: yolo_plots/cls_loss.png\n",
      "La figura se ha guardado en: plots/yolov_training_metrics.png\n"
     ]
    }
   ],
   "source": [
    "exp_paths = {\n",
    "    'yolov12n': 'runs/detect/yolov12n/results.csv',\n",
    "    'yolov11n': 'runs/detect/yolov11n/results.csv',\n",
    "    'yolov11l': 'runs/detect/yolov11l/results.csv',\n",
    "    'yolov11s': 'runs/detect/yolov11s/results.csv',\n",
    "    'yolov11ny': 'runs/detect/yolov11ny/results.csv',\n",
    "    'yolov11ny_new': 'runs/detect/yolov11ny/results.csv',\n",
    "    'yolooptuna': 'runs/detect/final_model_optuna9/results.csv',\n",
    "    'yolooptunaV11S': 'runs/detect/final_model_optunav11s2/results.csv',\n",
    "    'yolooptunaV12S': 'runs/detect/final_model_optunav12s/results.csv',\n",
    "}\n",
    "\n",
    "plots_dir = 'yolo_plots'\n",
    "os.makedirs(plots_dir, exist_ok=True)\n",
    "\n",
    "# Cargar los datos\n",
    "dfs = {}\n",
    "for model_name, path in exp_paths.items():\n",
    "    try:\n",
    "        dfs[model_name] = pd.read_csv(path)\n",
    "    except Exception as e:\n",
    "        print(f\"Error al cargar {path}: {e}\")\n",
    "\n",
    "def create_and_save_individual_plot(plot_type, y_column, title, ylabel, is_dual=False, y_limit=None):\n",
    "    plt.figure(figsize=(10, 6))\n",
    "    \n",
    "    if is_dual: \n",
    "        for model_name, df in dfs.items():\n",
    "            plt.plot(df['epoch'], df[y_column[0]], label=f\"{model_name} - Train\")\n",
    "            plt.plot(df['epoch'], df[y_column[1]], '--', label=f\"{model_name} - Val\")\n",
    "    else:  \n",
    "        for model_name, df in dfs.items():\n",
    "            plt.plot(df['epoch'], df[y_column], label=model_name)\n",
    "    \n",
    "    plt.title(title)\n",
    "    plt.xlabel('Epoch')\n",
    "    plt.ylabel(ylabel)\n",
    "    \n",
    "    if y_limit:\n",
    "        plt.ylim(*y_limit)\n",
    "    \n",
    "    plt.grid(True, linestyle='--', alpha=0.7)\n",
    "    plt.legend()\n",
    "    plt.tight_layout()\n",
    "    \n",
    "    filename = f\"{plots_dir}/{plot_type}.png\"\n",
    "    plt.savefig(filename, dpi=300, bbox_inches='tight')\n",
    "    print(f\"La figura individual '{plot_type}' se ha guardado en: {filename}\")\n",
    "    plt.close()\n",
    "\n",
    "create_and_save_individual_plot('map50-95', 'metrics/mAP50-95(B)', 'Training mAP@0.5:0.95', 'mAP@0.5:0.95')\n",
    "create_and_save_individual_plot('map50', 'metrics/mAP50(B)', 'Training mAP@0.5', 'mAP@0.5')\n",
    "create_and_save_individual_plot('precision', 'metrics/precision(B)', 'Val Precision', 'Precision')\n",
    "create_and_save_individual_plot('recall', 'metrics/recall(B)', 'Val Recall', 'Recall')\n",
    "create_and_save_individual_plot('box_loss', ['train/box_loss', 'val/box_loss'], \n",
    "                               'Training & Validation Box Loss', 'Box Loss', True, (0, 4))\n",
    "create_and_save_individual_plot('cls_loss', ['train/cls_loss', 'val/cls_loss'], \n",
    "                               'Training & Validation Classification Loss', 'Cls Loss', True, (0, 4))\n",
    "\n",
    "fig, axes = plt.subplots(3, 2, figsize=(14, 18))\n",
    "axes = axes.ravel() \n",
    "\n",
    "##############################################################################\n",
    "# 1) mAP@0.5:0.95\n",
    "##############################################################################\n",
    "for model_name, df in dfs.items():\n",
    "    # Ajusta el nombre de la columna a la que aparezca en tu CSV\n",
    "    # En YOLOv5 suele ser 'metrics/mAP_0.5:0.95'\n",
    "    axes[0].plot(df['epoch'], df['metrics/mAP50-95(B)'], label=model_name)\n",
    "\n",
    "axes[0].set_title('Training mAP@0.5:0.95')\n",
    "axes[0].set_xlabel('Epoch')\n",
    "axes[0].set_ylabel('mAP@0.5:0.95')\n",
    "axes[0].legend()\n",
    "\n",
    "##############################################################################\n",
    "# 2) mAP@0.5\n",
    "##############################################################################\n",
    "for model_name, df in dfs.items():\n",
    "    # En YOLOv5 suele ser 'metrics/mAP_0.5'\n",
    "    axes[1].plot(df['epoch'], df['metrics/mAP50(B)'], label=model_name)\n",
    "\n",
    "axes[1].set_title('Training mAP@0.5')\n",
    "axes[1].set_xlabel('Epoch')\n",
    "axes[1].set_ylabel('mAP@0.5')\n",
    "axes[1].legend()\n",
    "\n",
    "##############################################################################\n",
    "# 3) Precision\n",
    "##############################################################################\n",
    "for model_name, df in dfs.items():\n",
    "    # Suele ser 'metrics/precision'\n",
    "    axes[2].plot(df['epoch'], df['metrics/precision(B)'], label=model_name)\n",
    "\n",
    "axes[2].set_title('Val Precision')\n",
    "axes[2].set_xlabel('Epoch')\n",
    "axes[2].set_ylabel('Precision')\n",
    "axes[2].legend()\n",
    "\n",
    "##############################################################################\n",
    "# 4) Recall\n",
    "##############################################################################\n",
    "for model_name, df in dfs.items():\n",
    "    # Suele ser 'metrics/recall'\n",
    "    axes[3].plot(df['epoch'], df['metrics/recall(B)'], label=model_name)\n",
    "\n",
    "axes[3].set_title('Val Recall')\n",
    "axes[3].set_xlabel('Epoch')\n",
    "axes[3].set_ylabel('Recall')\n",
    "axes[3].legend()\n",
    "\n",
    "##############################################################################\n",
    "# 5) Box Loss (Train vs Val)\n",
    "##############################################################################\n",
    "for model_name, df in dfs.items():\n",
    "    # Columnas típicas: 'loss/box' (entrenamiento) y 'val/box_loss' (validación)\n",
    "    axes[4].plot(df['epoch'], df['train/box_loss'], label=f\"{model_name} - Train\")\n",
    "    axes[4].plot(df['epoch'], df['val/box_loss'], '--', label=f\"{model_name} - Val\")\n",
    "\n",
    "axes[4].set_title('Training & Validation Box Loss')\n",
    "axes[4].set_xlabel('Epoch')\n",
    "axes[4].set_ylabel('Box Loss')\n",
    "axes[4].set_ylim(0, 4)\n",
    "axes[4].legend()\n",
    "\n",
    "##############################################################################\n",
    "# 6) Classification Loss (Train vs Val)\n",
    "##############################################################################\n",
    "for model_name, df in dfs.items():\n",
    "    # Columnas típicas: 'loss/cls' (entrenamiento) y 'val/cls_loss' (validación)\n",
    "    axes[5].plot(df['epoch'], df['train/cls_loss'], label=f\"{model_name} - Train\")\n",
    "    axes[5].plot(df['epoch'], df['val/cls_loss'], '--', label=f\"{model_name} - Val\")\n",
    "\n",
    "axes[5].set_title('Training & Validation Classification Loss')\n",
    "axes[5].set_xlabel('Epoch')\n",
    "axes[5].set_ylabel('Cls Loss')\n",
    "axes[5].set_ylim(0, 4)\n",
    "axes[5].legend()\n",
    "\n",
    "##############################################################################\n",
    "# Ajustamos el layout y guardamos la figura (en lugar de mostrarla)\n",
    "##############################################################################\n",
    "plt.tight_layout()\n",
    "\n",
    "output_path = 'plots/yolov_training_metrics.png'\n",
    "\n",
    "os.makedirs('plots', exist_ok=True)  \n",
    "plt.savefig(output_path, dpi=300, bbox_inches='tight')\n",
    "print(f\"La figura se ha guardado en: {output_path}\")\n",
    "plt.close(fig)"
   ]
  },
  {
   "cell_type": "markdown",
   "metadata": {},
   "source": [
    "## **Evaluación de los modelos**"
   ]
  },
  {
   "cell_type": "code",
   "execution_count": 17,
   "metadata": {},
   "outputs": [],
   "source": [
    "def process_images(directorio_entrada, directorio_referencia, directorio_salida, modelo_path):\n",
    "    \"\"\"\n",
    "    Process all images in a directory with YOLO and compare with reference images.\n",
    "    \n",
    "    Args:\n",
    "        directorio_entrada: Path to directory containing input images\n",
    "        directorio_referencia: Path to directory containing reference images\n",
    "        directorio_salida: Path to save output comparison images\n",
    "        modelo_path: Path to YOLO model weights\n",
    "    \"\"\"\n",
    "    # Create output directory if it doesn't exist\n",
    "    if not os.path.exists(directorio_salida):\n",
    "        os.makedirs(directorio_salida)\n",
    "        print(f\"Directorio creado: {directorio_salida}\")\n",
    "    else:\n",
    "        print(f\"Usando directorio de salida: {directorio_salida}\")\n",
    "    \n",
    "    modelo_personalizado = YOLO(modelo_path)\n",
    "    \n",
    "    archivos_entrada = [f for f in os.listdir(directorio_entrada) if f.lower().endswith(('.jpg', '.jpeg', '.png'))]\n",
    "    \n",
    "    if not archivos_entrada:\n",
    "        print(f\"No se encontraron imágenes en {directorio_entrada}\")\n",
    "        return\n",
    "    \n",
    "    print(f\"Procesando {len(archivos_entrada)} imágenes...\")\n",
    "    \n",
    "    for nombre_archivo in archivos_entrada:\n",
    "        print(f\"Procesando: {nombre_archivo}\")\n",
    "        ruta_imagen = os.path.join(directorio_entrada, nombre_archivo)\n",
    "        \n",
    "        nombre_base = os.path.splitext(nombre_archivo)[0]\n",
    "        nombre_referencia = f\"{nombre_base}_.jpg\"\n",
    "        ruta_imagen_referencia = os.path.join(directorio_referencia, nombre_referencia)\n",
    "        \n",
    "        if not os.path.exists(ruta_imagen_referencia):\n",
    "            print(f\"Advertencia: No se encontró la imagen de referencia {nombre_referencia}\")\n",
    "            ruta_imagen_referencia = None\n",
    "        \n",
    "        resultados = modelo_personalizado(ruta_imagen)\n",
    "        \n",
    "        for r in resultados:\n",
    "            num_detecciones = len(r.boxes)\n",
    "\n",
    "            im_array = r.plot(labels=False, conf=True)\n",
    "\n",
    "            font = cv2.FONT_HERSHEY_SIMPLEX\n",
    "            texto_contador = f\"{num_detecciones}\"\n",
    "\n",
    "            # Calculamos el tamaño del texto para posicionarlo correctamente\n",
    "            textSize = cv2.getTextSize(texto_contador, font, 0.8, 2)[0]\n",
    "            \n",
    "            # Posicionamos en la esquina superior derecha con un margen de 20px\n",
    "            text_x = im_array.shape[1] - textSize[0] - 20\n",
    "            text_y = 30  # 30px desde la parte superior\n",
    "            \n",
    "            # Dibujamos el texto\n",
    "            cv2.putText(im_array, texto_contador, (text_x, text_y), font, 0.8, (255, 255, 255), 2)\n",
    "            \n",
    "            if ruta_imagen_referencia:\n",
    "                img_referencia = cv2.imread(ruta_imagen_referencia)\n",
    "                \n",
    "                h1, w1 = im_array.shape[:2]\n",
    "                h2, w2 = img_referencia.shape[:2]\n",
    "                \n",
    "                if h1 != h2:\n",
    "                    if h1 > h2:\n",
    "                        new_w2 = int(w2 * (h1 / h2))\n",
    "                        img_referencia = cv2.resize(img_referencia, (new_w2, h1))\n",
    "                    else:\n",
    "                        new_w1 = int(w1 * (h2 / h1))\n",
    "                        im_array = cv2.resize(im_array, (new_w1, h2))\n",
    "                \n",
    "                img_combinada = cv2.hconcat([im_array, img_referencia])\n",
    "                \n",
    "                cv2.line(img_combinada, (im_array.shape[1], 0), (im_array.shape[1], img_combinada.shape[0]), (90, 70, 255), 2)\n",
    "                \n",
    "                font = cv2.FONT_HERSHEY_SIMPLEX\n",
    "                cv2.putText(img_combinada, \"YOLO\", (10, 30), font, 1, (0, 255, 0), 2)\n",
    "                cv2.putText(img_combinada, \"IR\", (im_array.shape[1] + 10, 30), font, 1, (0, 255, 0), 2)\n",
    "                \n",
    "                ruta_salida = os.path.join(directorio_salida, f\"comparacion_{nombre_archivo}\")\n",
    "                cv2.imwrite(ruta_salida, img_combinada)\n",
    "            else:\n",
    "                ruta_salida = os.path.join(directorio_salida, f\"yolo_{nombre_archivo}\")\n",
    "                cv2.imwrite(ruta_salida, im_array)\n",
    "            \n",
    "    print(f\"Procesamiento completado. Resultados guardados en {directorio_salida}\")"
   ]
  },
  {
   "cell_type": "markdown",
   "metadata": {},
   "source": [
    "Añadir la evaluación sobre el conjunto de test"
   ]
  },
  {
   "cell_type": "markdown",
   "metadata": {},
   "source": [
    "## **Evaluaciones de empresa**"
   ]
  },
  {
   "cell_type": "code",
   "execution_count": 18,
   "metadata": {},
   "outputs": [
    {
     "name": "stdout",
     "output_type": "stream",
     "text": [
      "Directorio creado: ..\\03.Datasets\\Evaluacion_Empresa\\DEFAULT\\YOLO_NEW\n",
      "Procesando 94 imágenes...\n",
      "Procesando: 110.jpg\n",
      "Advertencia: No se encontró la imagen de referencia 110_.jpg\n",
      "\n",
      "image 1/1 c:\\Users\\mini7\\Desktop\\Master\\Materias\\TFM\\Laura\\2025_MURIA_Aitor Garca Blanco\\04.Codigo\\..\\03.Datasets\\Evaluacion_Empresa\\DEFAULT\\INPUT DEFAULT\\110.jpg: 576x704 2 cells, 55.2ms\n",
      "Speed: 7.6ms preprocess, 55.2ms inference, 4.0ms postprocess per image at shape (1, 3, 576, 704)\n",
      "Procesando: 116.jpg\n",
      "\n",
      "image 1/1 c:\\Users\\mini7\\Desktop\\Master\\Materias\\TFM\\Laura\\2025_MURIA_Aitor Garca Blanco\\04.Codigo\\..\\03.Datasets\\Evaluacion_Empresa\\DEFAULT\\INPUT DEFAULT\\116.jpg: 576x704 35 cells, 26.2ms\n",
      "Speed: 3.8ms preprocess, 26.2ms inference, 4.0ms postprocess per image at shape (1, 3, 576, 704)\n",
      "Procesando: 124.jpg\n",
      "Advertencia: No se encontró la imagen de referencia 124_.jpg\n",
      "\n",
      "image 1/1 c:\\Users\\mini7\\Desktop\\Master\\Materias\\TFM\\Laura\\2025_MURIA_Aitor Garca Blanco\\04.Codigo\\..\\03.Datasets\\Evaluacion_Empresa\\DEFAULT\\INPUT DEFAULT\\124.jpg: 576x704 2 cells, 12.7ms\n",
      "Speed: 2.7ms preprocess, 12.7ms inference, 1.6ms postprocess per image at shape (1, 3, 576, 704)\n",
      "Procesando: 129.jpg\n",
      "Advertencia: No se encontró la imagen de referencia 129_.jpg\n",
      "\n",
      "image 1/1 c:\\Users\\mini7\\Desktop\\Master\\Materias\\TFM\\Laura\\2025_MURIA_Aitor Garca Blanco\\04.Codigo\\..\\03.Datasets\\Evaluacion_Empresa\\DEFAULT\\INPUT DEFAULT\\129.jpg: 576x704 3 cells, 24.4ms\n",
      "Speed: 4.8ms preprocess, 24.4ms inference, 3.5ms postprocess per image at shape (1, 3, 576, 704)\n",
      "Procesando: 130.jpg\n",
      "\n",
      "image 1/1 c:\\Users\\mini7\\Desktop\\Master\\Materias\\TFM\\Laura\\2025_MURIA_Aitor Garca Blanco\\04.Codigo\\..\\03.Datasets\\Evaluacion_Empresa\\DEFAULT\\INPUT DEFAULT\\130.jpg: 576x704 10 cells, 12.8ms\n",
      "Speed: 2.9ms preprocess, 12.8ms inference, 1.7ms postprocess per image at shape (1, 3, 576, 704)\n",
      "Procesando: 134.jpg\n",
      "Advertencia: No se encontró la imagen de referencia 134_.jpg\n",
      "\n",
      "image 1/1 c:\\Users\\mini7\\Desktop\\Master\\Materias\\TFM\\Laura\\2025_MURIA_Aitor Garca Blanco\\04.Codigo\\..\\03.Datasets\\Evaluacion_Empresa\\DEFAULT\\INPUT DEFAULT\\134.jpg: 576x704 1 cell, 12.3ms\n",
      "Speed: 3.2ms preprocess, 12.3ms inference, 1.6ms postprocess per image at shape (1, 3, 576, 704)\n",
      "Procesando: 135.jpg\n",
      "\n",
      "image 1/1 c:\\Users\\mini7\\Desktop\\Master\\Materias\\TFM\\Laura\\2025_MURIA_Aitor Garca Blanco\\04.Codigo\\..\\03.Datasets\\Evaluacion_Empresa\\DEFAULT\\INPUT DEFAULT\\135.jpg: 576x704 12 cells, 12.6ms\n",
      "Speed: 2.8ms preprocess, 12.6ms inference, 1.9ms postprocess per image at shape (1, 3, 576, 704)\n",
      "Procesando: 137.jpg\n",
      "Advertencia: No se encontró la imagen de referencia 137_.jpg\n",
      "\n",
      "image 1/1 c:\\Users\\mini7\\Desktop\\Master\\Materias\\TFM\\Laura\\2025_MURIA_Aitor Garca Blanco\\04.Codigo\\..\\03.Datasets\\Evaluacion_Empresa\\DEFAULT\\INPUT DEFAULT\\137.jpg: 576x704 (no detections), 24.1ms\n",
      "Speed: 3.8ms preprocess, 24.1ms inference, 1.2ms postprocess per image at shape (1, 3, 576, 704)\n",
      "Procesando: 139.jpg\n",
      "\n",
      "image 1/1 c:\\Users\\mini7\\Desktop\\Master\\Materias\\TFM\\Laura\\2025_MURIA_Aitor Garca Blanco\\04.Codigo\\..\\03.Datasets\\Evaluacion_Empresa\\DEFAULT\\INPUT DEFAULT\\139.jpg: 576x704 33 cells, 12.3ms\n",
      "Speed: 3.0ms preprocess, 12.3ms inference, 1.6ms postprocess per image at shape (1, 3, 576, 704)\n",
      "Procesando: 142.jpg\n",
      "\n",
      "image 1/1 c:\\Users\\mini7\\Desktop\\Master\\Materias\\TFM\\Laura\\2025_MURIA_Aitor Garca Blanco\\04.Codigo\\..\\03.Datasets\\Evaluacion_Empresa\\DEFAULT\\INPUT DEFAULT\\142.jpg: 576x704 59 cells, 12.3ms\n",
      "Speed: 2.7ms preprocess, 12.3ms inference, 1.7ms postprocess per image at shape (1, 3, 576, 704)\n",
      "Procesando: 148.jpg\n",
      "\n",
      "image 1/1 c:\\Users\\mini7\\Desktop\\Master\\Materias\\TFM\\Laura\\2025_MURIA_Aitor Garca Blanco\\04.Codigo\\..\\03.Datasets\\Evaluacion_Empresa\\DEFAULT\\INPUT DEFAULT\\148.jpg: 576x704 4 cells, 12.1ms\n",
      "Speed: 3.0ms preprocess, 12.1ms inference, 1.6ms postprocess per image at shape (1, 3, 576, 704)\n",
      "Procesando: 149.jpg\n",
      "\n",
      "image 1/1 c:\\Users\\mini7\\Desktop\\Master\\Materias\\TFM\\Laura\\2025_MURIA_Aitor Garca Blanco\\04.Codigo\\..\\03.Datasets\\Evaluacion_Empresa\\DEFAULT\\INPUT DEFAULT\\149.jpg: 576x704 10 cells, 12.6ms\n",
      "Speed: 3.3ms preprocess, 12.6ms inference, 1.5ms postprocess per image at shape (1, 3, 576, 704)\n",
      "Procesando: 15.jpg\n",
      "Advertencia: No se encontró la imagen de referencia 15_.jpg\n",
      "\n",
      "image 1/1 c:\\Users\\mini7\\Desktop\\Master\\Materias\\TFM\\Laura\\2025_MURIA_Aitor Garca Blanco\\04.Codigo\\..\\03.Datasets\\Evaluacion_Empresa\\DEFAULT\\INPUT DEFAULT\\15.jpg: 576x704 29 cells, 12.2ms\n",
      "Speed: 3.3ms preprocess, 12.2ms inference, 1.6ms postprocess per image at shape (1, 3, 576, 704)\n",
      "Procesando: 162.jpg\n",
      "\n",
      "image 1/1 c:\\Users\\mini7\\Desktop\\Master\\Materias\\TFM\\Laura\\2025_MURIA_Aitor Garca Blanco\\04.Codigo\\..\\03.Datasets\\Evaluacion_Empresa\\DEFAULT\\INPUT DEFAULT\\162.jpg: 576x704 7 cells, 21.8ms\n",
      "Speed: 3.4ms preprocess, 21.8ms inference, 3.7ms postprocess per image at shape (1, 3, 576, 704)\n",
      "Procesando: 172.jpg\n",
      "\n",
      "image 1/1 c:\\Users\\mini7\\Desktop\\Master\\Materias\\TFM\\Laura\\2025_MURIA_Aitor Garca Blanco\\04.Codigo\\..\\03.Datasets\\Evaluacion_Empresa\\DEFAULT\\INPUT DEFAULT\\172.jpg: 576x704 4 cells, 12.0ms\n",
      "Speed: 2.7ms preprocess, 12.0ms inference, 1.6ms postprocess per image at shape (1, 3, 576, 704)\n",
      "Procesando: 173.jpg\n",
      "\n",
      "image 1/1 c:\\Users\\mini7\\Desktop\\Master\\Materias\\TFM\\Laura\\2025_MURIA_Aitor Garca Blanco\\04.Codigo\\..\\03.Datasets\\Evaluacion_Empresa\\DEFAULT\\INPUT DEFAULT\\173.jpg: 576x704 39 cells, 25.2ms\n",
      "Speed: 3.3ms preprocess, 25.2ms inference, 3.6ms postprocess per image at shape (1, 3, 576, 704)\n",
      "Procesando: 174.jpg\n",
      "\n",
      "image 1/1 c:\\Users\\mini7\\Desktop\\Master\\Materias\\TFM\\Laura\\2025_MURIA_Aitor Garca Blanco\\04.Codigo\\..\\03.Datasets\\Evaluacion_Empresa\\DEFAULT\\INPUT DEFAULT\\174.jpg: 576x704 6 cells, 12.5ms\n",
      "Speed: 3.0ms preprocess, 12.5ms inference, 1.8ms postprocess per image at shape (1, 3, 576, 704)\n",
      "Procesando: 179.jpg\n",
      "Advertencia: No se encontró la imagen de referencia 179_.jpg\n",
      "\n",
      "image 1/1 c:\\Users\\mini7\\Desktop\\Master\\Materias\\TFM\\Laura\\2025_MURIA_Aitor Garca Blanco\\04.Codigo\\..\\03.Datasets\\Evaluacion_Empresa\\DEFAULT\\INPUT DEFAULT\\179.jpg: 576x704 (no detections), 12.1ms\n",
      "Speed: 4.3ms preprocess, 12.1ms inference, 0.6ms postprocess per image at shape (1, 3, 576, 704)\n",
      "Procesando: 181.jpg\n",
      "\n",
      "image 1/1 c:\\Users\\mini7\\Desktop\\Master\\Materias\\TFM\\Laura\\2025_MURIA_Aitor Garca Blanco\\04.Codigo\\..\\03.Datasets\\Evaluacion_Empresa\\DEFAULT\\INPUT DEFAULT\\181.jpg: 576x704 7 cells, 12.6ms\n",
      "Speed: 3.2ms preprocess, 12.6ms inference, 1.9ms postprocess per image at shape (1, 3, 576, 704)\n",
      "Procesando: 194.jpg\n",
      "\n",
      "image 1/1 c:\\Users\\mini7\\Desktop\\Master\\Materias\\TFM\\Laura\\2025_MURIA_Aitor Garca Blanco\\04.Codigo\\..\\03.Datasets\\Evaluacion_Empresa\\DEFAULT\\INPUT DEFAULT\\194.jpg: 576x704 61 cells, 12.0ms\n",
      "Speed: 2.9ms preprocess, 12.0ms inference, 1.6ms postprocess per image at shape (1, 3, 576, 704)\n",
      "Procesando: 211.jpg\n",
      "Advertencia: No se encontró la imagen de referencia 211_.jpg\n",
      "\n",
      "image 1/1 c:\\Users\\mini7\\Desktop\\Master\\Materias\\TFM\\Laura\\2025_MURIA_Aitor Garca Blanco\\04.Codigo\\..\\03.Datasets\\Evaluacion_Empresa\\DEFAULT\\INPUT DEFAULT\\211.jpg: 576x704 2 cells, 16.5ms\n",
      "Speed: 3.0ms preprocess, 16.5ms inference, 2.3ms postprocess per image at shape (1, 3, 576, 704)\n",
      "Procesando: 212.jpg\n",
      "\n",
      "image 1/1 c:\\Users\\mini7\\Desktop\\Master\\Materias\\TFM\\Laura\\2025_MURIA_Aitor Garca Blanco\\04.Codigo\\..\\03.Datasets\\Evaluacion_Empresa\\DEFAULT\\INPUT DEFAULT\\212.jpg: 576x704 16 cells, 13.2ms\n",
      "Speed: 3.2ms preprocess, 13.2ms inference, 1.8ms postprocess per image at shape (1, 3, 576, 704)\n",
      "Procesando: 219.jpg\n",
      "\n",
      "image 1/1 c:\\Users\\mini7\\Desktop\\Master\\Materias\\TFM\\Laura\\2025_MURIA_Aitor Garca Blanco\\04.Codigo\\..\\03.Datasets\\Evaluacion_Empresa\\DEFAULT\\INPUT DEFAULT\\219.jpg: 576x704 2 cells, 22.0ms\n",
      "Speed: 3.1ms preprocess, 22.0ms inference, 3.5ms postprocess per image at shape (1, 3, 576, 704)\n",
      "Procesando: 220.jpg\n",
      "\n",
      "image 1/1 c:\\Users\\mini7\\Desktop\\Master\\Materias\\TFM\\Laura\\2025_MURIA_Aitor Garca Blanco\\04.Codigo\\..\\03.Datasets\\Evaluacion_Empresa\\DEFAULT\\INPUT DEFAULT\\220.jpg: 576x704 3 cells, 18.5ms\n",
      "Speed: 4.0ms preprocess, 18.5ms inference, 1.8ms postprocess per image at shape (1, 3, 576, 704)\n",
      "Procesando: 221.jpg\n",
      "\n",
      "image 1/1 c:\\Users\\mini7\\Desktop\\Master\\Materias\\TFM\\Laura\\2025_MURIA_Aitor Garca Blanco\\04.Codigo\\..\\03.Datasets\\Evaluacion_Empresa\\DEFAULT\\INPUT DEFAULT\\221.jpg: 576x704 36 cells, 19.0ms\n",
      "Speed: 3.6ms preprocess, 19.0ms inference, 3.4ms postprocess per image at shape (1, 3, 576, 704)\n",
      "Procesando: 228.jpg\n",
      "Advertencia: No se encontró la imagen de referencia 228_.jpg\n",
      "\n",
      "image 1/1 c:\\Users\\mini7\\Desktop\\Master\\Materias\\TFM\\Laura\\2025_MURIA_Aitor Garca Blanco\\04.Codigo\\..\\03.Datasets\\Evaluacion_Empresa\\DEFAULT\\INPUT DEFAULT\\228.jpg: 576x704 1 cell, 22.8ms\n",
      "Speed: 4.6ms preprocess, 22.8ms inference, 3.7ms postprocess per image at shape (1, 3, 576, 704)\n",
      "Procesando: 229.jpg\n",
      "\n",
      "image 1/1 c:\\Users\\mini7\\Desktop\\Master\\Materias\\TFM\\Laura\\2025_MURIA_Aitor Garca Blanco\\04.Codigo\\..\\03.Datasets\\Evaluacion_Empresa\\DEFAULT\\INPUT DEFAULT\\229.jpg: 576x704 50 cells, 23.4ms\n",
      "Speed: 3.2ms preprocess, 23.4ms inference, 3.9ms postprocess per image at shape (1, 3, 576, 704)\n",
      "Procesando: 239.jpg\n",
      "Advertencia: No se encontró la imagen de referencia 239_.jpg\n",
      "\n",
      "image 1/1 c:\\Users\\mini7\\Desktop\\Master\\Materias\\TFM\\Laura\\2025_MURIA_Aitor Garca Blanco\\04.Codigo\\..\\03.Datasets\\Evaluacion_Empresa\\DEFAULT\\INPUT DEFAULT\\239.jpg: 576x704 8 cells, 24.5ms\n",
      "Speed: 3.1ms preprocess, 24.5ms inference, 3.7ms postprocess per image at shape (1, 3, 576, 704)\n",
      "Procesando: 242.jpg\n",
      "\n",
      "image 1/1 c:\\Users\\mini7\\Desktop\\Master\\Materias\\TFM\\Laura\\2025_MURIA_Aitor Garca Blanco\\04.Codigo\\..\\03.Datasets\\Evaluacion_Empresa\\DEFAULT\\INPUT DEFAULT\\242.jpg: 576x704 6 cells, 23.6ms\n",
      "Speed: 5.5ms preprocess, 23.6ms inference, 3.3ms postprocess per image at shape (1, 3, 576, 704)\n",
      "Procesando: 244.jpg\n",
      "\n",
      "image 1/1 c:\\Users\\mini7\\Desktop\\Master\\Materias\\TFM\\Laura\\2025_MURIA_Aitor Garca Blanco\\04.Codigo\\..\\03.Datasets\\Evaluacion_Empresa\\DEFAULT\\INPUT DEFAULT\\244.jpg: 576x704 9 cells, 20.2ms\n",
      "Speed: 3.0ms preprocess, 20.2ms inference, 2.1ms postprocess per image at shape (1, 3, 576, 704)\n",
      "Procesando: 245.jpg\n",
      "\n",
      "image 1/1 c:\\Users\\mini7\\Desktop\\Master\\Materias\\TFM\\Laura\\2025_MURIA_Aitor Garca Blanco\\04.Codigo\\..\\03.Datasets\\Evaluacion_Empresa\\DEFAULT\\INPUT DEFAULT\\245.jpg: 576x704 10 cells, 20.6ms\n",
      "Speed: 3.2ms preprocess, 20.6ms inference, 2.2ms postprocess per image at shape (1, 3, 576, 704)\n",
      "Procesando: 25.jpg\n",
      "\n",
      "image 1/1 c:\\Users\\mini7\\Desktop\\Master\\Materias\\TFM\\Laura\\2025_MURIA_Aitor Garca Blanco\\04.Codigo\\..\\03.Datasets\\Evaluacion_Empresa\\DEFAULT\\INPUT DEFAULT\\25.jpg: 576x704 22 cells, 20.7ms\n",
      "Speed: 3.3ms preprocess, 20.7ms inference, 1.7ms postprocess per image at shape (1, 3, 576, 704)\n",
      "Procesando: 271.jpg\n",
      "\n",
      "image 1/1 c:\\Users\\mini7\\Desktop\\Master\\Materias\\TFM\\Laura\\2025_MURIA_Aitor Garca Blanco\\04.Codigo\\..\\03.Datasets\\Evaluacion_Empresa\\DEFAULT\\INPUT DEFAULT\\271.jpg: 576x704 1 cell, 21.3ms\n",
      "Speed: 2.6ms preprocess, 21.3ms inference, 1.9ms postprocess per image at shape (1, 3, 576, 704)\n",
      "Procesando: 273.jpg\n",
      "\n",
      "image 1/1 c:\\Users\\mini7\\Desktop\\Master\\Materias\\TFM\\Laura\\2025_MURIA_Aitor Garca Blanco\\04.Codigo\\..\\03.Datasets\\Evaluacion_Empresa\\DEFAULT\\INPUT DEFAULT\\273.jpg: 576x704 8 cells, 21.5ms\n",
      "Speed: 3.0ms preprocess, 21.5ms inference, 1.8ms postprocess per image at shape (1, 3, 576, 704)\n",
      "Procesando: 279.jpg\n",
      "\n",
      "image 1/1 c:\\Users\\mini7\\Desktop\\Master\\Materias\\TFM\\Laura\\2025_MURIA_Aitor Garca Blanco\\04.Codigo\\..\\03.Datasets\\Evaluacion_Empresa\\DEFAULT\\INPUT DEFAULT\\279.jpg: 576x704 15 cells, 22.1ms\n",
      "Speed: 2.9ms preprocess, 22.1ms inference, 2.0ms postprocess per image at shape (1, 3, 576, 704)\n",
      "Procesando: 28.jpg\n",
      "\n",
      "image 1/1 c:\\Users\\mini7\\Desktop\\Master\\Materias\\TFM\\Laura\\2025_MURIA_Aitor Garca Blanco\\04.Codigo\\..\\03.Datasets\\Evaluacion_Empresa\\DEFAULT\\INPUT DEFAULT\\28.jpg: 576x704 24 cells, 22.5ms\n",
      "Speed: 4.3ms preprocess, 22.5ms inference, 3.4ms postprocess per image at shape (1, 3, 576, 704)\n",
      "Procesando: 295.jpg\n",
      "\n",
      "image 1/1 c:\\Users\\mini7\\Desktop\\Master\\Materias\\TFM\\Laura\\2025_MURIA_Aitor Garca Blanco\\04.Codigo\\..\\03.Datasets\\Evaluacion_Empresa\\DEFAULT\\INPUT DEFAULT\\295.jpg: 576x704 1 cell, 22.7ms\n",
      "Speed: 2.6ms preprocess, 22.7ms inference, 1.8ms postprocess per image at shape (1, 3, 576, 704)\n",
      "Procesando: 296.jpg\n",
      "\n",
      "image 1/1 c:\\Users\\mini7\\Desktop\\Master\\Materias\\TFM\\Laura\\2025_MURIA_Aitor Garca Blanco\\04.Codigo\\..\\03.Datasets\\Evaluacion_Empresa\\DEFAULT\\INPUT DEFAULT\\296.jpg: 576x704 11 cells, 22.7ms\n",
      "Speed: 3.5ms preprocess, 22.7ms inference, 2.0ms postprocess per image at shape (1, 3, 576, 704)\n",
      "Procesando: 299.jpg\n",
      "\n",
      "image 1/1 c:\\Users\\mini7\\Desktop\\Master\\Materias\\TFM\\Laura\\2025_MURIA_Aitor Garca Blanco\\04.Codigo\\..\\03.Datasets\\Evaluacion_Empresa\\DEFAULT\\INPUT DEFAULT\\299.jpg: 576x704 3 cells, 23.3ms\n",
      "Speed: 2.8ms preprocess, 23.3ms inference, 2.1ms postprocess per image at shape (1, 3, 576, 704)\n",
      "Procesando: 300.jpg\n",
      "\n",
      "image 1/1 c:\\Users\\mini7\\Desktop\\Master\\Materias\\TFM\\Laura\\2025_MURIA_Aitor Garca Blanco\\04.Codigo\\..\\03.Datasets\\Evaluacion_Empresa\\DEFAULT\\INPUT DEFAULT\\300.jpg: 576x704 14 cells, 23.3ms\n",
      "Speed: 2.8ms preprocess, 23.3ms inference, 2.0ms postprocess per image at shape (1, 3, 576, 704)\n",
      "Procesando: 301.jpg\n",
      "\n",
      "image 1/1 c:\\Users\\mini7\\Desktop\\Master\\Materias\\TFM\\Laura\\2025_MURIA_Aitor Garca Blanco\\04.Codigo\\..\\03.Datasets\\Evaluacion_Empresa\\DEFAULT\\INPUT DEFAULT\\301.jpg: 576x704 20 cells, 24.2ms\n",
      "Speed: 3.5ms preprocess, 24.2ms inference, 2.6ms postprocess per image at shape (1, 3, 576, 704)\n",
      "Procesando: 302.jpg\n",
      "\n",
      "image 1/1 c:\\Users\\mini7\\Desktop\\Master\\Materias\\TFM\\Laura\\2025_MURIA_Aitor Garca Blanco\\04.Codigo\\..\\03.Datasets\\Evaluacion_Empresa\\DEFAULT\\INPUT DEFAULT\\302.jpg: 576x704 7 cells, 24.2ms\n",
      "Speed: 4.0ms preprocess, 24.2ms inference, 1.9ms postprocess per image at shape (1, 3, 576, 704)\n",
      "Procesando: 306.jpg\n",
      "\n",
      "image 1/1 c:\\Users\\mini7\\Desktop\\Master\\Materias\\TFM\\Laura\\2025_MURIA_Aitor Garca Blanco\\04.Codigo\\..\\03.Datasets\\Evaluacion_Empresa\\DEFAULT\\INPUT DEFAULT\\306.jpg: 576x704 21 cells, 24.6ms\n",
      "Speed: 2.8ms preprocess, 24.6ms inference, 2.2ms postprocess per image at shape (1, 3, 576, 704)\n",
      "Procesando: 307.jpg\n",
      "\n",
      "image 1/1 c:\\Users\\mini7\\Desktop\\Master\\Materias\\TFM\\Laura\\2025_MURIA_Aitor Garca Blanco\\04.Codigo\\..\\03.Datasets\\Evaluacion_Empresa\\DEFAULT\\INPUT DEFAULT\\307.jpg: 576x704 5 cells, 24.7ms\n",
      "Speed: 3.3ms preprocess, 24.7ms inference, 1.9ms postprocess per image at shape (1, 3, 576, 704)\n",
      "Procesando: 310.jpg\n",
      "Advertencia: No se encontró la imagen de referencia 310_.jpg\n",
      "\n",
      "image 1/1 c:\\Users\\mini7\\Desktop\\Master\\Materias\\TFM\\Laura\\2025_MURIA_Aitor Garca Blanco\\04.Codigo\\..\\03.Datasets\\Evaluacion_Empresa\\DEFAULT\\INPUT DEFAULT\\310.jpg: 576x704 3 cells, 25.6ms\n",
      "Speed: 3.4ms preprocess, 25.6ms inference, 4.1ms postprocess per image at shape (1, 3, 576, 704)\n",
      "Procesando: 311.jpg\n",
      "\n",
      "image 1/1 c:\\Users\\mini7\\Desktop\\Master\\Materias\\TFM\\Laura\\2025_MURIA_Aitor Garca Blanco\\04.Codigo\\..\\03.Datasets\\Evaluacion_Empresa\\DEFAULT\\INPUT DEFAULT\\311.jpg: 576x704 18 cells, 25.4ms\n",
      "Speed: 3.0ms preprocess, 25.4ms inference, 2.5ms postprocess per image at shape (1, 3, 576, 704)\n",
      "Procesando: 320.jpg\n",
      "\n",
      "image 1/1 c:\\Users\\mini7\\Desktop\\Master\\Materias\\TFM\\Laura\\2025_MURIA_Aitor Garca Blanco\\04.Codigo\\..\\03.Datasets\\Evaluacion_Empresa\\DEFAULT\\INPUT DEFAULT\\320.jpg: 576x704 25 cells, 26.0ms\n",
      "Speed: 2.4ms preprocess, 26.0ms inference, 2.0ms postprocess per image at shape (1, 3, 576, 704)\n",
      "Procesando: 321.jpg\n",
      "\n",
      "image 1/1 c:\\Users\\mini7\\Desktop\\Master\\Materias\\TFM\\Laura\\2025_MURIA_Aitor Garca Blanco\\04.Codigo\\..\\03.Datasets\\Evaluacion_Empresa\\DEFAULT\\INPUT DEFAULT\\321.jpg: 576x704 4 cells, 26.2ms\n",
      "Speed: 3.2ms preprocess, 26.2ms inference, 2.4ms postprocess per image at shape (1, 3, 576, 704)\n",
      "Procesando: 323.jpg\n",
      "\n",
      "image 1/1 c:\\Users\\mini7\\Desktop\\Master\\Materias\\TFM\\Laura\\2025_MURIA_Aitor Garca Blanco\\04.Codigo\\..\\03.Datasets\\Evaluacion_Empresa\\DEFAULT\\INPUT DEFAULT\\323.jpg: 576x704 8 cells, 26.5ms\n",
      "Speed: 3.3ms preprocess, 26.5ms inference, 1.9ms postprocess per image at shape (1, 3, 576, 704)\n",
      "Procesando: 324.jpg\n",
      "\n",
      "image 1/1 c:\\Users\\mini7\\Desktop\\Master\\Materias\\TFM\\Laura\\2025_MURIA_Aitor Garca Blanco\\04.Codigo\\..\\03.Datasets\\Evaluacion_Empresa\\DEFAULT\\INPUT DEFAULT\\324.jpg: 576x704 19 cells, 26.6ms\n",
      "Speed: 3.3ms preprocess, 26.6ms inference, 1.9ms postprocess per image at shape (1, 3, 576, 704)\n",
      "Procesando: 33.jpg\n",
      "\n",
      "image 1/1 c:\\Users\\mini7\\Desktop\\Master\\Materias\\TFM\\Laura\\2025_MURIA_Aitor Garca Blanco\\04.Codigo\\..\\03.Datasets\\Evaluacion_Empresa\\DEFAULT\\INPUT DEFAULT\\33.jpg: 576x704 19 cells, 27.2ms\n",
      "Speed: 3.0ms preprocess, 27.2ms inference, 4.1ms postprocess per image at shape (1, 3, 576, 704)\n",
      "Procesando: 330.jpg\n",
      "\n",
      "image 1/1 c:\\Users\\mini7\\Desktop\\Master\\Materias\\TFM\\Laura\\2025_MURIA_Aitor Garca Blanco\\04.Codigo\\..\\03.Datasets\\Evaluacion_Empresa\\DEFAULT\\INPUT DEFAULT\\330.jpg: 576x704 13 cells, 27.4ms\n",
      "Speed: 3.6ms preprocess, 27.4ms inference, 2.3ms postprocess per image at shape (1, 3, 576, 704)\n",
      "Procesando: 334.jpg\n",
      "\n",
      "image 1/1 c:\\Users\\mini7\\Desktop\\Master\\Materias\\TFM\\Laura\\2025_MURIA_Aitor Garca Blanco\\04.Codigo\\..\\03.Datasets\\Evaluacion_Empresa\\DEFAULT\\INPUT DEFAULT\\334.jpg: 576x704 55 cells, 28.1ms\n",
      "Speed: 4.1ms preprocess, 28.1ms inference, 4.1ms postprocess per image at shape (1, 3, 576, 704)\n",
      "Procesando: 339.jpg\n",
      "Advertencia: No se encontró la imagen de referencia 339_.jpg\n",
      "\n",
      "image 1/1 c:\\Users\\mini7\\Desktop\\Master\\Materias\\TFM\\Laura\\2025_MURIA_Aitor Garca Blanco\\04.Codigo\\..\\03.Datasets\\Evaluacion_Empresa\\DEFAULT\\INPUT DEFAULT\\339.jpg: 576x704 (no detections), 28.0ms\n",
      "Speed: 2.3ms preprocess, 28.0ms inference, 1.0ms postprocess per image at shape (1, 3, 576, 704)\n",
      "Procesando: 344.jpg\n",
      "Advertencia: No se encontró la imagen de referencia 344_.jpg\n",
      "\n",
      "image 1/1 c:\\Users\\mini7\\Desktop\\Master\\Materias\\TFM\\Laura\\2025_MURIA_Aitor Garca Blanco\\04.Codigo\\..\\03.Datasets\\Evaluacion_Empresa\\DEFAULT\\INPUT DEFAULT\\344.jpg: 576x704 19 cells, 28.5ms\n",
      "Speed: 2.6ms preprocess, 28.5ms inference, 2.7ms postprocess per image at shape (1, 3, 576, 704)\n",
      "Procesando: 346.jpg\n",
      "\n",
      "image 1/1 c:\\Users\\mini7\\Desktop\\Master\\Materias\\TFM\\Laura\\2025_MURIA_Aitor Garca Blanco\\04.Codigo\\..\\03.Datasets\\Evaluacion_Empresa\\DEFAULT\\INPUT DEFAULT\\346.jpg: 576x704 8 cells, 28.7ms\n",
      "Speed: 3.8ms preprocess, 28.7ms inference, 2.1ms postprocess per image at shape (1, 3, 576, 704)\n",
      "Procesando: 347.jpg\n",
      "\n",
      "image 1/1 c:\\Users\\mini7\\Desktop\\Master\\Materias\\TFM\\Laura\\2025_MURIA_Aitor Garca Blanco\\04.Codigo\\..\\03.Datasets\\Evaluacion_Empresa\\DEFAULT\\INPUT DEFAULT\\347.jpg: 576x704 14 cells, 29.1ms\n",
      "Speed: 5.0ms preprocess, 29.1ms inference, 2.3ms postprocess per image at shape (1, 3, 576, 704)\n",
      "Procesando: 35.jpg\n",
      "\n",
      "image 1/1 c:\\Users\\mini7\\Desktop\\Master\\Materias\\TFM\\Laura\\2025_MURIA_Aitor Garca Blanco\\04.Codigo\\..\\03.Datasets\\Evaluacion_Empresa\\DEFAULT\\INPUT DEFAULT\\35.jpg: 576x704 41 cells, 28.8ms\n",
      "Speed: 3.5ms preprocess, 28.8ms inference, 2.3ms postprocess per image at shape (1, 3, 576, 704)\n",
      "Procesando: 357.jpg\n",
      "\n",
      "image 1/1 c:\\Users\\mini7\\Desktop\\Master\\Materias\\TFM\\Laura\\2025_MURIA_Aitor Garca Blanco\\04.Codigo\\..\\03.Datasets\\Evaluacion_Empresa\\DEFAULT\\INPUT DEFAULT\\357.jpg: 576x704 1 cell, 29.8ms\n",
      "Speed: 3.8ms preprocess, 29.8ms inference, 2.3ms postprocess per image at shape (1, 3, 576, 704)\n",
      "Procesando: 360.jpg\n",
      "\n",
      "image 1/1 c:\\Users\\mini7\\Desktop\\Master\\Materias\\TFM\\Laura\\2025_MURIA_Aitor Garca Blanco\\04.Codigo\\..\\03.Datasets\\Evaluacion_Empresa\\DEFAULT\\INPUT DEFAULT\\360.jpg: 576x704 8 cells, 29.7ms\n",
      "Speed: 2.7ms preprocess, 29.7ms inference, 2.0ms postprocess per image at shape (1, 3, 576, 704)\n",
      "Procesando: 368.jpg\n",
      "\n",
      "image 1/1 c:\\Users\\mini7\\Desktop\\Master\\Materias\\TFM\\Laura\\2025_MURIA_Aitor Garca Blanco\\04.Codigo\\..\\03.Datasets\\Evaluacion_Empresa\\DEFAULT\\INPUT DEFAULT\\368.jpg: 576x704 49 cells, 30.2ms\n",
      "Speed: 3.2ms preprocess, 30.2ms inference, 2.5ms postprocess per image at shape (1, 3, 576, 704)\n",
      "Procesando: 369.jpg\n",
      "\n",
      "image 1/1 c:\\Users\\mini7\\Desktop\\Master\\Materias\\TFM\\Laura\\2025_MURIA_Aitor Garca Blanco\\04.Codigo\\..\\03.Datasets\\Evaluacion_Empresa\\DEFAULT\\INPUT DEFAULT\\369.jpg: 576x704 3 cells, 30.3ms\n",
      "Speed: 3.3ms preprocess, 30.3ms inference, 2.2ms postprocess per image at shape (1, 3, 576, 704)\n",
      "Procesando: 371.jpg\n",
      "\n",
      "image 1/1 c:\\Users\\mini7\\Desktop\\Master\\Materias\\TFM\\Laura\\2025_MURIA_Aitor Garca Blanco\\04.Codigo\\..\\03.Datasets\\Evaluacion_Empresa\\DEFAULT\\INPUT DEFAULT\\371.jpg: 576x704 26 cells, 30.7ms\n",
      "Speed: 3.6ms preprocess, 30.7ms inference, 2.6ms postprocess per image at shape (1, 3, 576, 704)\n",
      "Procesando: 378.jpg\n",
      "\n",
      "image 1/1 c:\\Users\\mini7\\Desktop\\Master\\Materias\\TFM\\Laura\\2025_MURIA_Aitor Garca Blanco\\04.Codigo\\..\\03.Datasets\\Evaluacion_Empresa\\DEFAULT\\INPUT DEFAULT\\378.jpg: 576x704 10 cells, 32.0ms\n",
      "Speed: 4.1ms preprocess, 32.0ms inference, 1.9ms postprocess per image at shape (1, 3, 576, 704)\n",
      "Procesando: 379.jpg\n",
      "Advertencia: No se encontró la imagen de referencia 379_.jpg\n",
      "\n",
      "image 1/1 c:\\Users\\mini7\\Desktop\\Master\\Materias\\TFM\\Laura\\2025_MURIA_Aitor Garca Blanco\\04.Codigo\\..\\03.Datasets\\Evaluacion_Empresa\\DEFAULT\\INPUT DEFAULT\\379.jpg: 576x704 3 cells, 32.0ms\n",
      "Speed: 3.5ms preprocess, 32.0ms inference, 2.4ms postprocess per image at shape (1, 3, 576, 704)\n",
      "Procesando: 38.jpg\n",
      "\n",
      "image 1/1 c:\\Users\\mini7\\Desktop\\Master\\Materias\\TFM\\Laura\\2025_MURIA_Aitor Garca Blanco\\04.Codigo\\..\\03.Datasets\\Evaluacion_Empresa\\DEFAULT\\INPUT DEFAULT\\38.jpg: 576x704 23 cells, 32.4ms\n",
      "Speed: 3.0ms preprocess, 32.4ms inference, 1.9ms postprocess per image at shape (1, 3, 576, 704)\n",
      "Procesando: 382.jpg\n",
      "\n",
      "image 1/1 c:\\Users\\mini7\\Desktop\\Master\\Materias\\TFM\\Laura\\2025_MURIA_Aitor Garca Blanco\\04.Codigo\\..\\03.Datasets\\Evaluacion_Empresa\\DEFAULT\\INPUT DEFAULT\\382.jpg: 576x704 5 cells, 32.5ms\n",
      "Speed: 3.0ms preprocess, 32.5ms inference, 2.1ms postprocess per image at shape (1, 3, 576, 704)\n",
      "Procesando: 389.jpg\n",
      "\n",
      "image 1/1 c:\\Users\\mini7\\Desktop\\Master\\Materias\\TFM\\Laura\\2025_MURIA_Aitor Garca Blanco\\04.Codigo\\..\\03.Datasets\\Evaluacion_Empresa\\DEFAULT\\INPUT DEFAULT\\389.jpg: 576x704 42 cells, 33.3ms\n",
      "Speed: 2.8ms preprocess, 33.3ms inference, 2.3ms postprocess per image at shape (1, 3, 576, 704)\n",
      "Procesando: 392.jpg\n",
      "Advertencia: No se encontró la imagen de referencia 392_.jpg\n",
      "\n",
      "image 1/1 c:\\Users\\mini7\\Desktop\\Master\\Materias\\TFM\\Laura\\2025_MURIA_Aitor Garca Blanco\\04.Codigo\\..\\03.Datasets\\Evaluacion_Empresa\\DEFAULT\\INPUT DEFAULT\\392.jpg: 576x704 6 cells, 33.4ms\n",
      "Speed: 3.0ms preprocess, 33.4ms inference, 2.1ms postprocess per image at shape (1, 3, 576, 704)\n",
      "Procesando: 399.jpg\n",
      "Advertencia: No se encontró la imagen de referencia 399_.jpg\n",
      "\n",
      "image 1/1 c:\\Users\\mini7\\Desktop\\Master\\Materias\\TFM\\Laura\\2025_MURIA_Aitor Garca Blanco\\04.Codigo\\..\\03.Datasets\\Evaluacion_Empresa\\DEFAULT\\INPUT DEFAULT\\399.jpg: 576x704 2 cells, 33.6ms\n",
      "Speed: 2.6ms preprocess, 33.6ms inference, 2.2ms postprocess per image at shape (1, 3, 576, 704)\n",
      "Procesando: 40.jpg\n",
      "\n",
      "image 1/1 c:\\Users\\mini7\\Desktop\\Master\\Materias\\TFM\\Laura\\2025_MURIA_Aitor Garca Blanco\\04.Codigo\\..\\03.Datasets\\Evaluacion_Empresa\\DEFAULT\\INPUT DEFAULT\\40.jpg: 576x704 20 cells, 33.7ms\n",
      "Speed: 3.5ms preprocess, 33.7ms inference, 3.7ms postprocess per image at shape (1, 3, 576, 704)\n",
      "Procesando: 415.jpg\n",
      "\n",
      "image 1/1 c:\\Users\\mini7\\Desktop\\Master\\Materias\\TFM\\Laura\\2025_MURIA_Aitor Garca Blanco\\04.Codigo\\..\\03.Datasets\\Evaluacion_Empresa\\DEFAULT\\INPUT DEFAULT\\415.jpg: 576x704 37 cells, 33.6ms\n",
      "Speed: 2.8ms preprocess, 33.6ms inference, 1.9ms postprocess per image at shape (1, 3, 576, 704)\n",
      "Procesando: 419.jpg\n",
      "Advertencia: No se encontró la imagen de referencia 419_.jpg\n",
      "\n",
      "image 1/1 c:\\Users\\mini7\\Desktop\\Master\\Materias\\TFM\\Laura\\2025_MURIA_Aitor Garca Blanco\\04.Codigo\\..\\03.Datasets\\Evaluacion_Empresa\\DEFAULT\\INPUT DEFAULT\\419.jpg: 576x704 2 cells, 33.6ms\n",
      "Speed: 2.7ms preprocess, 33.6ms inference, 2.3ms postprocess per image at shape (1, 3, 576, 704)\n",
      "Procesando: 423.jpg\n",
      "\n",
      "image 1/1 c:\\Users\\mini7\\Desktop\\Master\\Materias\\TFM\\Laura\\2025_MURIA_Aitor Garca Blanco\\04.Codigo\\..\\03.Datasets\\Evaluacion_Empresa\\DEFAULT\\INPUT DEFAULT\\423.jpg: 576x704 29 cells, 33.6ms\n",
      "Speed: 3.1ms preprocess, 33.6ms inference, 1.9ms postprocess per image at shape (1, 3, 576, 704)\n",
      "Procesando: 428.jpg\n",
      "\n",
      "image 1/1 c:\\Users\\mini7\\Desktop\\Master\\Materias\\TFM\\Laura\\2025_MURIA_Aitor Garca Blanco\\04.Codigo\\..\\03.Datasets\\Evaluacion_Empresa\\DEFAULT\\INPUT DEFAULT\\428.jpg: 576x704 16 cells, 33.6ms\n",
      "Speed: 2.8ms preprocess, 33.6ms inference, 1.8ms postprocess per image at shape (1, 3, 576, 704)\n",
      "Procesando: 445.jpg\n",
      "\n",
      "image 1/1 c:\\Users\\mini7\\Desktop\\Master\\Materias\\TFM\\Laura\\2025_MURIA_Aitor Garca Blanco\\04.Codigo\\..\\03.Datasets\\Evaluacion_Empresa\\DEFAULT\\INPUT DEFAULT\\445.jpg: 576x704 6 cells, 34.5ms\n",
      "Speed: 2.8ms preprocess, 34.5ms inference, 3.6ms postprocess per image at shape (1, 3, 576, 704)\n",
      "Procesando: 457.jpg\n",
      "Advertencia: No se encontró la imagen de referencia 457_.jpg\n",
      "\n",
      "image 1/1 c:\\Users\\mini7\\Desktop\\Master\\Materias\\TFM\\Laura\\2025_MURIA_Aitor Garca Blanco\\04.Codigo\\..\\03.Datasets\\Evaluacion_Empresa\\DEFAULT\\INPUT DEFAULT\\457.jpg: 576x704 3 cells, 34.5ms\n",
      "Speed: 2.5ms preprocess, 34.5ms inference, 2.0ms postprocess per image at shape (1, 3, 576, 704)\n",
      "Procesando: 461.jpg\n",
      "\n",
      "image 1/1 c:\\Users\\mini7\\Desktop\\Master\\Materias\\TFM\\Laura\\2025_MURIA_Aitor Garca Blanco\\04.Codigo\\..\\03.Datasets\\Evaluacion_Empresa\\DEFAULT\\INPUT DEFAULT\\461.jpg: 576x704 33 cells, 34.8ms\n",
      "Speed: 2.8ms preprocess, 34.8ms inference, 4.0ms postprocess per image at shape (1, 3, 576, 704)\n",
      "Procesando: 464.jpg\n",
      "Advertencia: No se encontró la imagen de referencia 464_.jpg\n",
      "\n",
      "image 1/1 c:\\Users\\mini7\\Desktop\\Master\\Materias\\TFM\\Laura\\2025_MURIA_Aitor Garca Blanco\\04.Codigo\\..\\03.Datasets\\Evaluacion_Empresa\\DEFAULT\\INPUT DEFAULT\\464.jpg: 576x704 3 cells, 35.0ms\n",
      "Speed: 3.3ms preprocess, 35.0ms inference, 2.1ms postprocess per image at shape (1, 3, 576, 704)\n",
      "Procesando: 465.jpg\n",
      "\n",
      "image 1/1 c:\\Users\\mini7\\Desktop\\Master\\Materias\\TFM\\Laura\\2025_MURIA_Aitor Garca Blanco\\04.Codigo\\..\\03.Datasets\\Evaluacion_Empresa\\DEFAULT\\INPUT DEFAULT\\465.jpg: 576x704 5 cells, 34.8ms\n",
      "Speed: 2.8ms preprocess, 34.8ms inference, 1.7ms postprocess per image at shape (1, 3, 576, 704)\n",
      "Procesando: 466.jpg\n",
      "\n",
      "image 1/1 c:\\Users\\mini7\\Desktop\\Master\\Materias\\TFM\\Laura\\2025_MURIA_Aitor Garca Blanco\\04.Codigo\\..\\03.Datasets\\Evaluacion_Empresa\\DEFAULT\\INPUT DEFAULT\\466.jpg: 576x704 10 cells, 34.9ms\n",
      "Speed: 3.5ms preprocess, 34.9ms inference, 1.9ms postprocess per image at shape (1, 3, 576, 704)\n",
      "Procesando: 51.jpg\n",
      "\n",
      "image 1/1 c:\\Users\\mini7\\Desktop\\Master\\Materias\\TFM\\Laura\\2025_MURIA_Aitor Garca Blanco\\04.Codigo\\..\\03.Datasets\\Evaluacion_Empresa\\DEFAULT\\INPUT DEFAULT\\51.jpg: 576x704 56 cells, 35.9ms\n",
      "Speed: 3.4ms preprocess, 35.9ms inference, 2.2ms postprocess per image at shape (1, 3, 576, 704)\n",
      "Procesando: 57.jpg\n",
      "\n",
      "image 1/1 c:\\Users\\mini7\\Desktop\\Master\\Materias\\TFM\\Laura\\2025_MURIA_Aitor Garca Blanco\\04.Codigo\\..\\03.Datasets\\Evaluacion_Empresa\\DEFAULT\\INPUT DEFAULT\\57.jpg: 576x704 23 cells, 35.9ms\n",
      "Speed: 3.3ms preprocess, 35.9ms inference, 2.3ms postprocess per image at shape (1, 3, 576, 704)\n",
      "Procesando: 59.jpg\n",
      "\n",
      "image 1/1 c:\\Users\\mini7\\Desktop\\Master\\Materias\\TFM\\Laura\\2025_MURIA_Aitor Garca Blanco\\04.Codigo\\..\\03.Datasets\\Evaluacion_Empresa\\DEFAULT\\INPUT DEFAULT\\59.jpg: 576x704 47 cells, 36.2ms\n",
      "Speed: 3.3ms preprocess, 36.2ms inference, 4.3ms postprocess per image at shape (1, 3, 576, 704)\n",
      "Procesando: 61.jpg\n",
      "\n",
      "image 1/1 c:\\Users\\mini7\\Desktop\\Master\\Materias\\TFM\\Laura\\2025_MURIA_Aitor Garca Blanco\\04.Codigo\\..\\03.Datasets\\Evaluacion_Empresa\\DEFAULT\\INPUT DEFAULT\\61.jpg: 576x704 50 cells, 37.2ms\n",
      "Speed: 4.5ms preprocess, 37.2ms inference, 3.5ms postprocess per image at shape (1, 3, 576, 704)\n",
      "Procesando: 62.jpg\n",
      "\n",
      "image 1/1 c:\\Users\\mini7\\Desktop\\Master\\Materias\\TFM\\Laura\\2025_MURIA_Aitor Garca Blanco\\04.Codigo\\..\\03.Datasets\\Evaluacion_Empresa\\DEFAULT\\INPUT DEFAULT\\62.jpg: 576x704 7 cells, 37.1ms\n",
      "Speed: 2.8ms preprocess, 37.1ms inference, 1.9ms postprocess per image at shape (1, 3, 576, 704)\n",
      "Procesando: 63.jpg\n",
      "\n",
      "image 1/1 c:\\Users\\mini7\\Desktop\\Master\\Materias\\TFM\\Laura\\2025_MURIA_Aitor Garca Blanco\\04.Codigo\\..\\03.Datasets\\Evaluacion_Empresa\\DEFAULT\\INPUT DEFAULT\\63.jpg: 576x704 42 cells, 37.0ms\n",
      "Speed: 2.6ms preprocess, 37.0ms inference, 2.1ms postprocess per image at shape (1, 3, 576, 704)\n",
      "Procesando: 7.jpg\n",
      "\n",
      "image 1/1 c:\\Users\\mini7\\Desktop\\Master\\Materias\\TFM\\Laura\\2025_MURIA_Aitor Garca Blanco\\04.Codigo\\..\\03.Datasets\\Evaluacion_Empresa\\DEFAULT\\INPUT DEFAULT\\7.jpg: 576x704 25 cells, 38.1ms\n",
      "Speed: 3.8ms preprocess, 38.1ms inference, 1.9ms postprocess per image at shape (1, 3, 576, 704)\n",
      "Procesando: 73.jpg\n",
      "Advertencia: No se encontró la imagen de referencia 73_.jpg\n",
      "\n",
      "image 1/1 c:\\Users\\mini7\\Desktop\\Master\\Materias\\TFM\\Laura\\2025_MURIA_Aitor Garca Blanco\\04.Codigo\\..\\03.Datasets\\Evaluacion_Empresa\\DEFAULT\\INPUT DEFAULT\\73.jpg: 576x704 23 cells, 38.7ms\n",
      "Speed: 3.4ms preprocess, 38.7ms inference, 3.7ms postprocess per image at shape (1, 3, 576, 704)\n",
      "Procesando: 79.jpg\n",
      "Advertencia: No se encontró la imagen de referencia 79_.jpg\n",
      "\n",
      "image 1/1 c:\\Users\\mini7\\Desktop\\Master\\Materias\\TFM\\Laura\\2025_MURIA_Aitor Garca Blanco\\04.Codigo\\..\\03.Datasets\\Evaluacion_Empresa\\DEFAULT\\INPUT DEFAULT\\79.jpg: 576x704 5 cells, 39.2ms\n",
      "Speed: 4.3ms preprocess, 39.2ms inference, 1.9ms postprocess per image at shape (1, 3, 576, 704)\n",
      "Procesando: 8.jpg\n",
      "\n",
      "image 1/1 c:\\Users\\mini7\\Desktop\\Master\\Materias\\TFM\\Laura\\2025_MURIA_Aitor Garca Blanco\\04.Codigo\\..\\03.Datasets\\Evaluacion_Empresa\\DEFAULT\\INPUT DEFAULT\\8.jpg: 576x704 26 cells, 39.1ms\n",
      "Speed: 2.6ms preprocess, 39.1ms inference, 1.9ms postprocess per image at shape (1, 3, 576, 704)\n",
      "Procesando: 87.jpg\n",
      "\n",
      "image 1/1 c:\\Users\\mini7\\Desktop\\Master\\Materias\\TFM\\Laura\\2025_MURIA_Aitor Garca Blanco\\04.Codigo\\..\\03.Datasets\\Evaluacion_Empresa\\DEFAULT\\INPUT DEFAULT\\87.jpg: 576x704 10 cells, 38.8ms\n",
      "Speed: 2.9ms preprocess, 38.8ms inference, 4.0ms postprocess per image at shape (1, 3, 576, 704)\n",
      "Procesando: 9.jpg\n",
      "\n",
      "image 1/1 c:\\Users\\mini7\\Desktop\\Master\\Materias\\TFM\\Laura\\2025_MURIA_Aitor Garca Blanco\\04.Codigo\\..\\03.Datasets\\Evaluacion_Empresa\\DEFAULT\\INPUT DEFAULT\\9.jpg: 576x704 16 cells, 38.7ms\n",
      "Speed: 3.6ms preprocess, 38.7ms inference, 1.9ms postprocess per image at shape (1, 3, 576, 704)\n",
      "Procesando: 95.jpg\n",
      "\n",
      "image 1/1 c:\\Users\\mini7\\Desktop\\Master\\Materias\\TFM\\Laura\\2025_MURIA_Aitor Garca Blanco\\04.Codigo\\..\\03.Datasets\\Evaluacion_Empresa\\DEFAULT\\INPUT DEFAULT\\95.jpg: 576x704 15 cells, 38.9ms\n",
      "Speed: 2.7ms preprocess, 38.9ms inference, 1.8ms postprocess per image at shape (1, 3, 576, 704)\n",
      "Procesamiento completado. Resultados guardados en ..\\03.Datasets\\Evaluacion_Empresa\\DEFAULT\\YOLO_NEW\n",
      "Usando directorio de salida: ..\\03.Datasets\\Evaluacion_Empresa\\TEST 2\\YOLO_NEW\n",
      "Procesando 10 imágenes...\n",
      "Procesando: RC_T2-00.jpg\n",
      "Advertencia: No se encontró la imagen de referencia RC_T2-00_.jpg\n",
      "\n",
      "image 1/1 c:\\Users\\mini7\\Desktop\\Master\\Materias\\TFM\\Laura\\2025_MURIA_Aitor Garca Blanco\\04.Codigo\\..\\03.Datasets\\Evaluacion_Empresa\\TEST 2\\INPUT TEST_2\\RC_T2-00.jpg: 576x704 23 cells, 41.5ms\n",
      "Speed: 3.7ms preprocess, 41.5ms inference, 3.2ms postprocess per image at shape (1, 3, 576, 704)\n",
      "Procesando: RC_T2-01.jpg\n",
      "Advertencia: No se encontró la imagen de referencia RC_T2-01_.jpg\n",
      "\n",
      "image 1/1 c:\\Users\\mini7\\Desktop\\Master\\Materias\\TFM\\Laura\\2025_MURIA_Aitor Garca Blanco\\04.Codigo\\..\\03.Datasets\\Evaluacion_Empresa\\TEST 2\\INPUT TEST_2\\RC_T2-01.jpg: 576x704 24 cells, 38.6ms\n",
      "Speed: 2.5ms preprocess, 38.6ms inference, 2.1ms postprocess per image at shape (1, 3, 576, 704)\n",
      "Procesando: RC_T2-02.jpg\n",
      "Advertencia: No se encontró la imagen de referencia RC_T2-02_.jpg\n",
      "\n",
      "image 1/1 c:\\Users\\mini7\\Desktop\\Master\\Materias\\TFM\\Laura\\2025_MURIA_Aitor Garca Blanco\\04.Codigo\\..\\03.Datasets\\Evaluacion_Empresa\\TEST 2\\INPUT TEST_2\\RC_T2-02.jpg: 576x704 7 cells, 38.7ms\n",
      "Speed: 2.4ms preprocess, 38.7ms inference, 2.1ms postprocess per image at shape (1, 3, 576, 704)\n",
      "Procesando: RC_T2-03.jpg\n",
      "Advertencia: No se encontró la imagen de referencia RC_T2-03_.jpg\n",
      "\n",
      "image 1/1 c:\\Users\\mini7\\Desktop\\Master\\Materias\\TFM\\Laura\\2025_MURIA_Aitor Garca Blanco\\04.Codigo\\..\\03.Datasets\\Evaluacion_Empresa\\TEST 2\\INPUT TEST_2\\RC_T2-03.jpg: 576x704 10 cells, 26.0ms\n",
      "Speed: 2.6ms preprocess, 26.0ms inference, 2.2ms postprocess per image at shape (1, 3, 576, 704)\n",
      "Procesando: RC_T2-04.jpg\n",
      "Advertencia: No se encontró la imagen de referencia RC_T2-04_.jpg\n",
      "\n",
      "image 1/1 c:\\Users\\mini7\\Desktop\\Master\\Materias\\TFM\\Laura\\2025_MURIA_Aitor Garca Blanco\\04.Codigo\\..\\03.Datasets\\Evaluacion_Empresa\\TEST 2\\INPUT TEST_2\\RC_T2-04.jpg: 576x704 6 cells, 26.3ms\n",
      "Speed: 3.0ms preprocess, 26.3ms inference, 2.4ms postprocess per image at shape (1, 3, 576, 704)\n",
      "Procesando: RC_T2-05.jpg\n",
      "Advertencia: No se encontró la imagen de referencia RC_T2-05_.jpg\n",
      "\n",
      "image 1/1 c:\\Users\\mini7\\Desktop\\Master\\Materias\\TFM\\Laura\\2025_MURIA_Aitor Garca Blanco\\04.Codigo\\..\\03.Datasets\\Evaluacion_Empresa\\TEST 2\\INPUT TEST_2\\RC_T2-05.jpg: 576x704 11 cells, 26.0ms\n",
      "Speed: 2.9ms preprocess, 26.0ms inference, 2.2ms postprocess per image at shape (1, 3, 576, 704)\n",
      "Procesando: RC_T2-06.jpg\n",
      "Advertencia: No se encontró la imagen de referencia RC_T2-06_.jpg\n",
      "\n",
      "image 1/1 c:\\Users\\mini7\\Desktop\\Master\\Materias\\TFM\\Laura\\2025_MURIA_Aitor Garca Blanco\\04.Codigo\\..\\03.Datasets\\Evaluacion_Empresa\\TEST 2\\INPUT TEST_2\\RC_T2-06.jpg: 576x704 15 cells, 26.0ms\n",
      "Speed: 3.2ms preprocess, 26.0ms inference, 2.3ms postprocess per image at shape (1, 3, 576, 704)\n",
      "Procesando: RC_T2-07.jpg\n",
      "Advertencia: No se encontró la imagen de referencia RC_T2-07_.jpg\n",
      "\n",
      "image 1/1 c:\\Users\\mini7\\Desktop\\Master\\Materias\\TFM\\Laura\\2025_MURIA_Aitor Garca Blanco\\04.Codigo\\..\\03.Datasets\\Evaluacion_Empresa\\TEST 2\\INPUT TEST_2\\RC_T2-07.jpg: 576x704 10 cells, 20.7ms\n",
      "Speed: 2.7ms preprocess, 20.7ms inference, 2.0ms postprocess per image at shape (1, 3, 576, 704)\n",
      "Procesando: RC_T2-08.jpg\n",
      "Advertencia: No se encontró la imagen de referencia RC_T2-08_.jpg\n",
      "\n",
      "image 1/1 c:\\Users\\mini7\\Desktop\\Master\\Materias\\TFM\\Laura\\2025_MURIA_Aitor Garca Blanco\\04.Codigo\\..\\03.Datasets\\Evaluacion_Empresa\\TEST 2\\INPUT TEST_2\\RC_T2-08.jpg: 576x704 21 cells, 20.8ms\n",
      "Speed: 2.6ms preprocess, 20.8ms inference, 1.7ms postprocess per image at shape (1, 3, 576, 704)\n",
      "Procesando: RC_T2-09.jpg\n",
      "Advertencia: No se encontró la imagen de referencia RC_T2-09_.jpg\n",
      "\n",
      "image 1/1 c:\\Users\\mini7\\Desktop\\Master\\Materias\\TFM\\Laura\\2025_MURIA_Aitor Garca Blanco\\04.Codigo\\..\\03.Datasets\\Evaluacion_Empresa\\TEST 2\\INPUT TEST_2\\RC_T2-09.jpg: 576x704 24 cells, 20.5ms\n",
      "Speed: 2.4ms preprocess, 20.5ms inference, 1.8ms postprocess per image at shape (1, 3, 576, 704)\n",
      "Procesamiento completado. Resultados guardados en ..\\03.Datasets\\Evaluacion_Empresa\\TEST 2\\YOLO_NEW\n",
      "Usando directorio de salida: ..\\03.Datasets\\Evaluacion_Empresa\\TEST 3\\YOLO_NEW\n",
      "Procesando 59 imágenes...\n",
      "Procesando: already tested-00.jpg\n",
      "Advertencia: No se encontró la imagen de referencia already tested-00_.jpg\n",
      "\n",
      "image 1/1 c:\\Users\\mini7\\Desktop\\Master\\Materias\\TFM\\Laura\\2025_MURIA_Aitor Garca Blanco\\04.Codigo\\..\\03.Datasets\\Evaluacion_Empresa\\TEST 3\\INPUT_TEST 3\\already tested-00.jpg: 576x704 47 cells, 22.0ms\n",
      "Speed: 3.5ms preprocess, 22.0ms inference, 1.6ms postprocess per image at shape (1, 3, 576, 704)\n",
      "Procesando: already tested-01.jpg\n",
      "Advertencia: No se encontró la imagen de referencia already tested-01_.jpg\n",
      "\n",
      "image 1/1 c:\\Users\\mini7\\Desktop\\Master\\Materias\\TFM\\Laura\\2025_MURIA_Aitor Garca Blanco\\04.Codigo\\..\\03.Datasets\\Evaluacion_Empresa\\TEST 3\\INPUT_TEST 3\\already tested-01.jpg: 576x704 59 cells, 20.6ms\n",
      "Speed: 3.3ms preprocess, 20.6ms inference, 1.7ms postprocess per image at shape (1, 3, 576, 704)\n",
      "Procesando: already tested-02.jpg\n",
      "Advertencia: No se encontró la imagen de referencia already tested-02_.jpg\n",
      "\n",
      "image 1/1 c:\\Users\\mini7\\Desktop\\Master\\Materias\\TFM\\Laura\\2025_MURIA_Aitor Garca Blanco\\04.Codigo\\..\\03.Datasets\\Evaluacion_Empresa\\TEST 3\\INPUT_TEST 3\\already tested-02.jpg: 576x704 31 cells, 20.6ms\n",
      "Speed: 2.8ms preprocess, 20.6ms inference, 1.9ms postprocess per image at shape (1, 3, 576, 704)\n",
      "Procesando: already tested-03.jpg\n",
      "Advertencia: No se encontró la imagen de referencia already tested-03_.jpg\n",
      "\n",
      "image 1/1 c:\\Users\\mini7\\Desktop\\Master\\Materias\\TFM\\Laura\\2025_MURIA_Aitor Garca Blanco\\04.Codigo\\..\\03.Datasets\\Evaluacion_Empresa\\TEST 3\\INPUT_TEST 3\\already tested-03.jpg: 576x704 38 cells, 20.5ms\n",
      "Speed: 2.6ms preprocess, 20.5ms inference, 2.0ms postprocess per image at shape (1, 3, 576, 704)\n",
      "Procesando: already tested-04.jpg\n",
      "Advertencia: No se encontró la imagen de referencia already tested-04_.jpg\n",
      "\n",
      "image 1/1 c:\\Users\\mini7\\Desktop\\Master\\Materias\\TFM\\Laura\\2025_MURIA_Aitor Garca Blanco\\04.Codigo\\..\\03.Datasets\\Evaluacion_Empresa\\TEST 3\\INPUT_TEST 3\\already tested-04.jpg: 576x704 38 cells, 20.6ms\n",
      "Speed: 2.6ms preprocess, 20.6ms inference, 1.8ms postprocess per image at shape (1, 3, 576, 704)\n",
      "Procesando: already tested-05.jpg\n",
      "Advertencia: No se encontró la imagen de referencia already tested-05_.jpg\n",
      "\n",
      "image 1/1 c:\\Users\\mini7\\Desktop\\Master\\Materias\\TFM\\Laura\\2025_MURIA_Aitor Garca Blanco\\04.Codigo\\..\\03.Datasets\\Evaluacion_Empresa\\TEST 3\\INPUT_TEST 3\\already tested-05.jpg: 576x704 42 cells, 20.5ms\n",
      "Speed: 3.1ms preprocess, 20.5ms inference, 2.1ms postprocess per image at shape (1, 3, 576, 704)\n",
      "Procesando: already tested-06.jpg\n",
      "Advertencia: No se encontró la imagen de referencia already tested-06_.jpg\n",
      "\n",
      "image 1/1 c:\\Users\\mini7\\Desktop\\Master\\Materias\\TFM\\Laura\\2025_MURIA_Aitor Garca Blanco\\04.Codigo\\..\\03.Datasets\\Evaluacion_Empresa\\TEST 3\\INPUT_TEST 3\\already tested-06.jpg: 576x704 25 cells, 20.6ms\n",
      "Speed: 3.4ms preprocess, 20.6ms inference, 2.0ms postprocess per image at shape (1, 3, 576, 704)\n",
      "Procesando: already tested-07.jpg\n",
      "Advertencia: No se encontró la imagen de referencia already tested-07_.jpg\n",
      "\n",
      "image 1/1 c:\\Users\\mini7\\Desktop\\Master\\Materias\\TFM\\Laura\\2025_MURIA_Aitor Garca Blanco\\04.Codigo\\..\\03.Datasets\\Evaluacion_Empresa\\TEST 3\\INPUT_TEST 3\\already tested-07.jpg: 576x704 25 cells, 20.7ms\n",
      "Speed: 3.4ms preprocess, 20.7ms inference, 2.7ms postprocess per image at shape (1, 3, 576, 704)\n",
      "Procesando: already tested-08.jpg\n",
      "Advertencia: No se encontró la imagen de referencia already tested-08_.jpg\n",
      "\n",
      "image 1/1 c:\\Users\\mini7\\Desktop\\Master\\Materias\\TFM\\Laura\\2025_MURIA_Aitor Garca Blanco\\04.Codigo\\..\\03.Datasets\\Evaluacion_Empresa\\TEST 3\\INPUT_TEST 3\\already tested-08.jpg: 576x704 28 cells, 20.9ms\n",
      "Speed: 5.2ms preprocess, 20.9ms inference, 2.7ms postprocess per image at shape (1, 3, 576, 704)\n",
      "Procesando: already tested-09.jpg\n",
      "Advertencia: No se encontró la imagen de referencia already tested-09_.jpg\n",
      "\n",
      "image 1/1 c:\\Users\\mini7\\Desktop\\Master\\Materias\\TFM\\Laura\\2025_MURIA_Aitor Garca Blanco\\04.Codigo\\..\\03.Datasets\\Evaluacion_Empresa\\TEST 3\\INPUT_TEST 3\\already tested-09.jpg: 576x704 55 cells, 20.7ms\n",
      "Speed: 3.1ms preprocess, 20.7ms inference, 2.0ms postprocess per image at shape (1, 3, 576, 704)\n",
      "Procesando: already tested-10.jpg\n",
      "Advertencia: No se encontró la imagen de referencia already tested-10_.jpg\n",
      "\n",
      "image 1/1 c:\\Users\\mini7\\Desktop\\Master\\Materias\\TFM\\Laura\\2025_MURIA_Aitor Garca Blanco\\04.Codigo\\..\\03.Datasets\\Evaluacion_Empresa\\TEST 3\\INPUT_TEST 3\\already tested-10.jpg: 576x704 47 cells, 20.8ms\n",
      "Speed: 4.0ms preprocess, 20.8ms inference, 3.6ms postprocess per image at shape (1, 3, 576, 704)\n",
      "Procesando: already tested-11.jpg\n",
      "Advertencia: No se encontró la imagen de referencia already tested-11_.jpg\n",
      "\n",
      "image 1/1 c:\\Users\\mini7\\Desktop\\Master\\Materias\\TFM\\Laura\\2025_MURIA_Aitor Garca Blanco\\04.Codigo\\..\\03.Datasets\\Evaluacion_Empresa\\TEST 3\\INPUT_TEST 3\\already tested-11.jpg: 576x704 41 cells, 20.6ms\n",
      "Speed: 2.7ms preprocess, 20.6ms inference, 3.6ms postprocess per image at shape (1, 3, 576, 704)\n",
      "Procesando: already tested-12.jpg\n",
      "Advertencia: No se encontró la imagen de referencia already tested-12_.jpg\n",
      "\n",
      "image 1/1 c:\\Users\\mini7\\Desktop\\Master\\Materias\\TFM\\Laura\\2025_MURIA_Aitor Garca Blanco\\04.Codigo\\..\\03.Datasets\\Evaluacion_Empresa\\TEST 3\\INPUT_TEST 3\\already tested-12.jpg: 576x704 50 cells, 20.6ms\n",
      "Speed: 2.6ms preprocess, 20.6ms inference, 2.2ms postprocess per image at shape (1, 3, 576, 704)\n",
      "Procesando: already tested-13.jpg\n",
      "Advertencia: No se encontró la imagen de referencia already tested-13_.jpg\n",
      "\n",
      "image 1/1 c:\\Users\\mini7\\Desktop\\Master\\Materias\\TFM\\Laura\\2025_MURIA_Aitor Garca Blanco\\04.Codigo\\..\\03.Datasets\\Evaluacion_Empresa\\TEST 3\\INPUT_TEST 3\\already tested-13.jpg: 576x704 33 cells, 20.5ms\n",
      "Speed: 3.0ms preprocess, 20.5ms inference, 1.9ms postprocess per image at shape (1, 3, 576, 704)\n",
      "Procesando: already tested-14.jpg\n",
      "Advertencia: No se encontró la imagen de referencia already tested-14_.jpg\n",
      "\n",
      "image 1/1 c:\\Users\\mini7\\Desktop\\Master\\Materias\\TFM\\Laura\\2025_MURIA_Aitor Garca Blanco\\04.Codigo\\..\\03.Datasets\\Evaluacion_Empresa\\TEST 3\\INPUT_TEST 3\\already tested-14.jpg: 576x704 56 cells, 20.7ms\n",
      "Speed: 3.2ms preprocess, 20.7ms inference, 2.0ms postprocess per image at shape (1, 3, 576, 704)\n",
      "Procesando: already tested-15.jpg\n",
      "Advertencia: No se encontró la imagen de referencia already tested-15_.jpg\n",
      "\n",
      "image 1/1 c:\\Users\\mini7\\Desktop\\Master\\Materias\\TFM\\Laura\\2025_MURIA_Aitor Garca Blanco\\04.Codigo\\..\\03.Datasets\\Evaluacion_Empresa\\TEST 3\\INPUT_TEST 3\\already tested-15.jpg: 576x704 51 cells, 20.5ms\n",
      "Speed: 3.3ms preprocess, 20.5ms inference, 4.0ms postprocess per image at shape (1, 3, 576, 704)\n",
      "Procesando: already tested-16.jpg\n",
      "Advertencia: No se encontró la imagen de referencia already tested-16_.jpg\n",
      "\n",
      "image 1/1 c:\\Users\\mini7\\Desktop\\Master\\Materias\\TFM\\Laura\\2025_MURIA_Aitor Garca Blanco\\04.Codigo\\..\\03.Datasets\\Evaluacion_Empresa\\TEST 3\\INPUT_TEST 3\\already tested-16.jpg: 576x704 52 cells, 20.6ms\n",
      "Speed: 2.6ms preprocess, 20.6ms inference, 1.8ms postprocess per image at shape (1, 3, 576, 704)\n",
      "Procesando: already tested-17.jpg\n",
      "Advertencia: No se encontró la imagen de referencia already tested-17_.jpg\n",
      "\n",
      "image 1/1 c:\\Users\\mini7\\Desktop\\Master\\Materias\\TFM\\Laura\\2025_MURIA_Aitor Garca Blanco\\04.Codigo\\..\\03.Datasets\\Evaluacion_Empresa\\TEST 3\\INPUT_TEST 3\\already tested-17.jpg: 576x704 57 cells, 20.5ms\n",
      "Speed: 3.2ms preprocess, 20.5ms inference, 1.7ms postprocess per image at shape (1, 3, 576, 704)\n",
      "Procesando: already tested-18.jpg\n",
      "Advertencia: No se encontró la imagen de referencia already tested-18_.jpg\n",
      "\n",
      "image 1/1 c:\\Users\\mini7\\Desktop\\Master\\Materias\\TFM\\Laura\\2025_MURIA_Aitor Garca Blanco\\04.Codigo\\..\\03.Datasets\\Evaluacion_Empresa\\TEST 3\\INPUT_TEST 3\\already tested-18.jpg: 576x704 44 cells, 20.7ms\n",
      "Speed: 3.9ms preprocess, 20.7ms inference, 2.0ms postprocess per image at shape (1, 3, 576, 704)\n",
      "Procesando: already tested-19.jpg\n",
      "Advertencia: No se encontró la imagen de referencia already tested-19_.jpg\n",
      "\n",
      "image 1/1 c:\\Users\\mini7\\Desktop\\Master\\Materias\\TFM\\Laura\\2025_MURIA_Aitor Garca Blanco\\04.Codigo\\..\\03.Datasets\\Evaluacion_Empresa\\TEST 3\\INPUT_TEST 3\\already tested-19.jpg: 576x704 54 cells, 22.0ms\n",
      "Speed: 3.5ms preprocess, 22.0ms inference, 1.9ms postprocess per image at shape (1, 3, 576, 704)\n",
      "Procesando: already tested-20.jpg\n",
      "Advertencia: No se encontró la imagen de referencia already tested-20_.jpg\n",
      "\n",
      "image 1/1 c:\\Users\\mini7\\Desktop\\Master\\Materias\\TFM\\Laura\\2025_MURIA_Aitor Garca Blanco\\04.Codigo\\..\\03.Datasets\\Evaluacion_Empresa\\TEST 3\\INPUT_TEST 3\\already tested-20.jpg: 576x704 54 cells, 23.8ms\n",
      "Speed: 2.9ms preprocess, 23.8ms inference, 2.3ms postprocess per image at shape (1, 3, 576, 704)\n",
      "Procesando: already tested-21.jpg\n",
      "Advertencia: No se encontró la imagen de referencia already tested-21_.jpg\n",
      "\n",
      "image 1/1 c:\\Users\\mini7\\Desktop\\Master\\Materias\\TFM\\Laura\\2025_MURIA_Aitor Garca Blanco\\04.Codigo\\..\\03.Datasets\\Evaluacion_Empresa\\TEST 3\\INPUT_TEST 3\\already tested-21.jpg: 576x704 68 cells, 23.7ms\n",
      "Speed: 2.6ms preprocess, 23.7ms inference, 2.1ms postprocess per image at shape (1, 3, 576, 704)\n",
      "Procesando: already tested-22.jpg\n",
      "Advertencia: No se encontró la imagen de referencia already tested-22_.jpg\n",
      "\n",
      "image 1/1 c:\\Users\\mini7\\Desktop\\Master\\Materias\\TFM\\Laura\\2025_MURIA_Aitor Garca Blanco\\04.Codigo\\..\\03.Datasets\\Evaluacion_Empresa\\TEST 3\\INPUT_TEST 3\\already tested-22.jpg: 576x704 46 cells, 23.9ms\n",
      "Speed: 3.2ms preprocess, 23.9ms inference, 3.5ms postprocess per image at shape (1, 3, 576, 704)\n",
      "Procesando: mrc-00.jpg\n",
      "Advertencia: No se encontró la imagen de referencia mrc-00_.jpg\n",
      "\n",
      "image 1/1 c:\\Users\\mini7\\Desktop\\Master\\Materias\\TFM\\Laura\\2025_MURIA_Aitor Garca Blanco\\04.Codigo\\..\\03.Datasets\\Evaluacion_Empresa\\TEST 3\\INPUT_TEST 3\\mrc-00.jpg: 576x704 7 cells, 23.8ms\n",
      "Speed: 3.2ms preprocess, 23.8ms inference, 2.2ms postprocess per image at shape (1, 3, 576, 704)\n",
      "Procesando: mrc-01.jpg\n",
      "Advertencia: No se encontró la imagen de referencia mrc-01_.jpg\n",
      "\n",
      "image 1/1 c:\\Users\\mini7\\Desktop\\Master\\Materias\\TFM\\Laura\\2025_MURIA_Aitor Garca Blanco\\04.Codigo\\..\\03.Datasets\\Evaluacion_Empresa\\TEST 3\\INPUT_TEST 3\\mrc-01.jpg: 576x704 8 cells, 23.8ms\n",
      "Speed: 2.7ms preprocess, 23.8ms inference, 1.9ms postprocess per image at shape (1, 3, 576, 704)\n",
      "Procesando: mrc-02.jpg\n",
      "Advertencia: No se encontró la imagen de referencia mrc-02_.jpg\n",
      "\n",
      "image 1/1 c:\\Users\\mini7\\Desktop\\Master\\Materias\\TFM\\Laura\\2025_MURIA_Aitor Garca Blanco\\04.Codigo\\..\\03.Datasets\\Evaluacion_Empresa\\TEST 3\\INPUT_TEST 3\\mrc-02.jpg: 576x704 5 cells, 24.0ms\n",
      "Speed: 2.6ms preprocess, 24.0ms inference, 3.4ms postprocess per image at shape (1, 3, 576, 704)\n",
      "Procesando: rc-00.jpg\n",
      "Advertencia: No se encontró la imagen de referencia rc-00_.jpg\n",
      "\n",
      "image 1/1 c:\\Users\\mini7\\Desktop\\Master\\Materias\\TFM\\Laura\\2025_MURIA_Aitor Garca Blanco\\04.Codigo\\..\\03.Datasets\\Evaluacion_Empresa\\TEST 3\\INPUT_TEST 3\\rc-00.jpg: 576x704 14 cells, 24.2ms\n",
      "Speed: 3.9ms preprocess, 24.2ms inference, 2.2ms postprocess per image at shape (1, 3, 576, 704)\n",
      "Procesando: rc-01.jpg\n",
      "Advertencia: No se encontró la imagen de referencia rc-01_.jpg\n",
      "\n",
      "image 1/1 c:\\Users\\mini7\\Desktop\\Master\\Materias\\TFM\\Laura\\2025_MURIA_Aitor Garca Blanco\\04.Codigo\\..\\03.Datasets\\Evaluacion_Empresa\\TEST 3\\INPUT_TEST 3\\rc-01.jpg: 576x704 15 cells, 24.1ms\n",
      "Speed: 2.7ms preprocess, 24.1ms inference, 1.9ms postprocess per image at shape (1, 3, 576, 704)\n",
      "Procesando: rc-02.jpg\n",
      "Advertencia: No se encontró la imagen de referencia rc-02_.jpg\n",
      "\n",
      "image 1/1 c:\\Users\\mini7\\Desktop\\Master\\Materias\\TFM\\Laura\\2025_MURIA_Aitor Garca Blanco\\04.Codigo\\..\\03.Datasets\\Evaluacion_Empresa\\TEST 3\\INPUT_TEST 3\\rc-02.jpg: 576x704 8 cells, 24.2ms\n",
      "Speed: 3.2ms preprocess, 24.2ms inference, 2.8ms postprocess per image at shape (1, 3, 576, 704)\n",
      "Procesando: rc-03.jpg\n",
      "Advertencia: No se encontró la imagen de referencia rc-03_.jpg\n",
      "\n",
      "image 1/1 c:\\Users\\mini7\\Desktop\\Master\\Materias\\TFM\\Laura\\2025_MURIA_Aitor Garca Blanco\\04.Codigo\\..\\03.Datasets\\Evaluacion_Empresa\\TEST 3\\INPUT_TEST 3\\rc-03.jpg: 576x704 12 cells, 24.1ms\n",
      "Speed: 4.1ms preprocess, 24.1ms inference, 3.6ms postprocess per image at shape (1, 3, 576, 704)\n",
      "Procesando: rc-04.jpg\n",
      "Advertencia: No se encontró la imagen de referencia rc-04_.jpg\n",
      "\n",
      "image 1/1 c:\\Users\\mini7\\Desktop\\Master\\Materias\\TFM\\Laura\\2025_MURIA_Aitor Garca Blanco\\04.Codigo\\..\\03.Datasets\\Evaluacion_Empresa\\TEST 3\\INPUT_TEST 3\\rc-04.jpg: 576x704 4 cells, 24.3ms\n",
      "Speed: 6.1ms preprocess, 24.3ms inference, 2.4ms postprocess per image at shape (1, 3, 576, 704)\n",
      "Procesando: rc-05.jpg\n",
      "Advertencia: No se encontró la imagen de referencia rc-05_.jpg\n",
      "\n",
      "image 1/1 c:\\Users\\mini7\\Desktop\\Master\\Materias\\TFM\\Laura\\2025_MURIA_Aitor Garca Blanco\\04.Codigo\\..\\03.Datasets\\Evaluacion_Empresa\\TEST 3\\INPUT_TEST 3\\rc-05.jpg: 576x704 8 cells, 24.4ms\n",
      "Speed: 3.8ms preprocess, 24.4ms inference, 1.7ms postprocess per image at shape (1, 3, 576, 704)\n",
      "Procesando: rc-06.jpg\n",
      "Advertencia: No se encontró la imagen de referencia rc-06_.jpg\n",
      "\n",
      "image 1/1 c:\\Users\\mini7\\Desktop\\Master\\Materias\\TFM\\Laura\\2025_MURIA_Aitor Garca Blanco\\04.Codigo\\..\\03.Datasets\\Evaluacion_Empresa\\TEST 3\\INPUT_TEST 3\\rc-06.jpg: 576x704 8 cells, 24.3ms\n",
      "Speed: 3.1ms preprocess, 24.3ms inference, 2.5ms postprocess per image at shape (1, 3, 576, 704)\n",
      "Procesando: rc-07.jpg\n",
      "Advertencia: No se encontró la imagen de referencia rc-07_.jpg\n",
      "\n",
      "image 1/1 c:\\Users\\mini7\\Desktop\\Master\\Materias\\TFM\\Laura\\2025_MURIA_Aitor Garca Blanco\\04.Codigo\\..\\03.Datasets\\Evaluacion_Empresa\\TEST 3\\INPUT_TEST 3\\rc-07.jpg: 576x704 6 cells, 24.3ms\n",
      "Speed: 3.4ms preprocess, 24.3ms inference, 1.9ms postprocess per image at shape (1, 3, 576, 704)\n",
      "Procesando: rc-08.jpg\n",
      "Advertencia: No se encontró la imagen de referencia rc-08_.jpg\n",
      "\n",
      "image 1/1 c:\\Users\\mini7\\Desktop\\Master\\Materias\\TFM\\Laura\\2025_MURIA_Aitor Garca Blanco\\04.Codigo\\..\\03.Datasets\\Evaluacion_Empresa\\TEST 3\\INPUT_TEST 3\\rc-08.jpg: 576x704 6 cells, 24.8ms\n",
      "Speed: 4.5ms preprocess, 24.8ms inference, 1.8ms postprocess per image at shape (1, 3, 576, 704)\n",
      "Procesando: rc-09.jpg\n",
      "Advertencia: No se encontró la imagen de referencia rc-09_.jpg\n",
      "\n",
      "image 1/1 c:\\Users\\mini7\\Desktop\\Master\\Materias\\TFM\\Laura\\2025_MURIA_Aitor Garca Blanco\\04.Codigo\\..\\03.Datasets\\Evaluacion_Empresa\\TEST 3\\INPUT_TEST 3\\rc-09.jpg: 576x704 8 cells, 24.7ms\n",
      "Speed: 3.8ms preprocess, 24.7ms inference, 1.9ms postprocess per image at shape (1, 3, 576, 704)\n",
      "Procesando: rc-10.jpg\n",
      "Advertencia: No se encontró la imagen de referencia rc-10_.jpg\n",
      "\n",
      "image 1/1 c:\\Users\\mini7\\Desktop\\Master\\Materias\\TFM\\Laura\\2025_MURIA_Aitor Garca Blanco\\04.Codigo\\..\\03.Datasets\\Evaluacion_Empresa\\TEST 3\\INPUT_TEST 3\\rc-10.jpg: 576x704 4 cells, 25.5ms\n",
      "Speed: 3.0ms preprocess, 25.5ms inference, 2.3ms postprocess per image at shape (1, 3, 576, 704)\n",
      "Procesando: rc-11.jpg\n",
      "Advertencia: No se encontró la imagen de referencia rc-11_.jpg\n",
      "\n",
      "image 1/1 c:\\Users\\mini7\\Desktop\\Master\\Materias\\TFM\\Laura\\2025_MURIA_Aitor Garca Blanco\\04.Codigo\\..\\03.Datasets\\Evaluacion_Empresa\\TEST 3\\INPUT_TEST 3\\rc-11.jpg: 576x704 3 cells, 24.8ms\n",
      "Speed: 3.5ms preprocess, 24.8ms inference, 3.8ms postprocess per image at shape (1, 3, 576, 704)\n",
      "Procesando: rc1-00.jpg\n",
      "Advertencia: No se encontró la imagen de referencia rc1-00_.jpg\n",
      "\n",
      "image 1/1 c:\\Users\\mini7\\Desktop\\Master\\Materias\\TFM\\Laura\\2025_MURIA_Aitor Garca Blanco\\04.Codigo\\..\\03.Datasets\\Evaluacion_Empresa\\TEST 3\\INPUT_TEST 3\\rc1-00.jpg: 576x704 3 cells, 24.9ms\n",
      "Speed: 3.2ms preprocess, 24.9ms inference, 2.6ms postprocess per image at shape (1, 3, 576, 704)\n",
      "Procesando: rc1-01.jpg\n",
      "Advertencia: No se encontró la imagen de referencia rc1-01_.jpg\n",
      "\n",
      "image 1/1 c:\\Users\\mini7\\Desktop\\Master\\Materias\\TFM\\Laura\\2025_MURIA_Aitor Garca Blanco\\04.Codigo\\..\\03.Datasets\\Evaluacion_Empresa\\TEST 3\\INPUT_TEST 3\\rc1-01.jpg: 576x704 4 cells, 25.1ms\n",
      "Speed: 2.6ms preprocess, 25.1ms inference, 2.0ms postprocess per image at shape (1, 3, 576, 704)\n",
      "Procesando: rc1-02.jpg\n",
      "Advertencia: No se encontró la imagen de referencia rc1-02_.jpg\n",
      "\n",
      "image 1/1 c:\\Users\\mini7\\Desktop\\Master\\Materias\\TFM\\Laura\\2025_MURIA_Aitor Garca Blanco\\04.Codigo\\..\\03.Datasets\\Evaluacion_Empresa\\TEST 3\\INPUT_TEST 3\\rc1-02.jpg: 576x704 6 cells, 25.2ms\n",
      "Speed: 2.9ms preprocess, 25.2ms inference, 1.7ms postprocess per image at shape (1, 3, 576, 704)\n",
      "Procesando: rc1-03.jpg\n",
      "Advertencia: No se encontró la imagen de referencia rc1-03_.jpg\n",
      "\n",
      "image 1/1 c:\\Users\\mini7\\Desktop\\Master\\Materias\\TFM\\Laura\\2025_MURIA_Aitor Garca Blanco\\04.Codigo\\..\\03.Datasets\\Evaluacion_Empresa\\TEST 3\\INPUT_TEST 3\\rc1-03.jpg: 576x704 (no detections), 25.4ms\n",
      "Speed: 4.1ms preprocess, 25.4ms inference, 1.0ms postprocess per image at shape (1, 3, 576, 704)\n",
      "Procesando: rc1-04.jpg\n",
      "Advertencia: No se encontró la imagen de referencia rc1-04_.jpg\n",
      "\n",
      "image 1/1 c:\\Users\\mini7\\Desktop\\Master\\Materias\\TFM\\Laura\\2025_MURIA_Aitor Garca Blanco\\04.Codigo\\..\\03.Datasets\\Evaluacion_Empresa\\TEST 3\\INPUT_TEST 3\\rc1-04.jpg: 576x704 4 cells, 25.2ms\n",
      "Speed: 4.2ms preprocess, 25.2ms inference, 2.9ms postprocess per image at shape (1, 3, 576, 704)\n",
      "Procesando: rc1-05.jpg\n",
      "Advertencia: No se encontró la imagen de referencia rc1-05_.jpg\n",
      "\n",
      "image 1/1 c:\\Users\\mini7\\Desktop\\Master\\Materias\\TFM\\Laura\\2025_MURIA_Aitor Garca Blanco\\04.Codigo\\..\\03.Datasets\\Evaluacion_Empresa\\TEST 3\\INPUT_TEST 3\\rc1-05.jpg: 576x704 6 cells, 25.3ms\n",
      "Speed: 3.2ms preprocess, 25.3ms inference, 2.7ms postprocess per image at shape (1, 3, 576, 704)\n",
      "Procesando: rc1-06.jpg\n",
      "Advertencia: No se encontró la imagen de referencia rc1-06_.jpg\n",
      "\n",
      "image 1/1 c:\\Users\\mini7\\Desktop\\Master\\Materias\\TFM\\Laura\\2025_MURIA_Aitor Garca Blanco\\04.Codigo\\..\\03.Datasets\\Evaluacion_Empresa\\TEST 3\\INPUT_TEST 3\\rc1-06.jpg: 576x704 3 cells, 25.3ms\n",
      "Speed: 4.6ms preprocess, 25.3ms inference, 2.0ms postprocess per image at shape (1, 3, 576, 704)\n",
      "Procesando: rc1-07.jpg\n",
      "Advertencia: No se encontró la imagen de referencia rc1-07_.jpg\n",
      "\n",
      "image 1/1 c:\\Users\\mini7\\Desktop\\Master\\Materias\\TFM\\Laura\\2025_MURIA_Aitor Garca Blanco\\04.Codigo\\..\\03.Datasets\\Evaluacion_Empresa\\TEST 3\\INPUT_TEST 3\\rc1-07.jpg: 576x704 4 cells, 25.0ms\n",
      "Speed: 3.1ms preprocess, 25.0ms inference, 2.0ms postprocess per image at shape (1, 3, 576, 704)\n",
      "Procesando: rc1-08.jpg\n",
      "Advertencia: No se encontró la imagen de referencia rc1-08_.jpg\n",
      "\n",
      "image 1/1 c:\\Users\\mini7\\Desktop\\Master\\Materias\\TFM\\Laura\\2025_MURIA_Aitor Garca Blanco\\04.Codigo\\..\\03.Datasets\\Evaluacion_Empresa\\TEST 3\\INPUT_TEST 3\\rc1-08.jpg: 576x704 5 cells, 24.9ms\n",
      "Speed: 2.6ms preprocess, 24.9ms inference, 1.6ms postprocess per image at shape (1, 3, 576, 704)\n",
      "Procesando: rc1-09.jpg\n",
      "Advertencia: No se encontró la imagen de referencia rc1-09_.jpg\n",
      "\n",
      "image 1/1 c:\\Users\\mini7\\Desktop\\Master\\Materias\\TFM\\Laura\\2025_MURIA_Aitor Garca Blanco\\04.Codigo\\..\\03.Datasets\\Evaluacion_Empresa\\TEST 3\\INPUT_TEST 3\\rc1-09.jpg: 576x704 4 cells, 24.9ms\n",
      "Speed: 2.8ms preprocess, 24.9ms inference, 1.6ms postprocess per image at shape (1, 3, 576, 704)\n",
      "Procesando: rc1-10.jpg\n",
      "Advertencia: No se encontró la imagen de referencia rc1-10_.jpg\n",
      "\n",
      "image 1/1 c:\\Users\\mini7\\Desktop\\Master\\Materias\\TFM\\Laura\\2025_MURIA_Aitor Garca Blanco\\04.Codigo\\..\\03.Datasets\\Evaluacion_Empresa\\TEST 3\\INPUT_TEST 3\\rc1-10.jpg: 576x704 3 cells, 24.9ms\n",
      "Speed: 2.6ms preprocess, 24.9ms inference, 1.5ms postprocess per image at shape (1, 3, 576, 704)\n",
      "Procesando: rc1-11.jpg\n",
      "Advertencia: No se encontró la imagen de referencia rc1-11_.jpg\n",
      "\n",
      "image 1/1 c:\\Users\\mini7\\Desktop\\Master\\Materias\\TFM\\Laura\\2025_MURIA_Aitor Garca Blanco\\04.Codigo\\..\\03.Datasets\\Evaluacion_Empresa\\TEST 3\\INPUT_TEST 3\\rc1-11.jpg: 576x704 3 cells, 25.0ms\n",
      "Speed: 3.9ms preprocess, 25.0ms inference, 1.7ms postprocess per image at shape (1, 3, 576, 704)\n",
      "Procesando: rc1-12.jpg\n",
      "Advertencia: No se encontró la imagen de referencia rc1-12_.jpg\n",
      "\n",
      "image 1/1 c:\\Users\\mini7\\Desktop\\Master\\Materias\\TFM\\Laura\\2025_MURIA_Aitor Garca Blanco\\04.Codigo\\..\\03.Datasets\\Evaluacion_Empresa\\TEST 3\\INPUT_TEST 3\\rc1-12.jpg: 576x704 4 cells, 24.9ms\n",
      "Speed: 3.0ms preprocess, 24.9ms inference, 3.6ms postprocess per image at shape (1, 3, 576, 704)\n",
      "Procesando: rc1-13.jpg\n",
      "Advertencia: No se encontró la imagen de referencia rc1-13_.jpg\n",
      "\n",
      "image 1/1 c:\\Users\\mini7\\Desktop\\Master\\Materias\\TFM\\Laura\\2025_MURIA_Aitor Garca Blanco\\04.Codigo\\..\\03.Datasets\\Evaluacion_Empresa\\TEST 3\\INPUT_TEST 3\\rc1-13.jpg: 576x704 7 cells, 25.3ms\n",
      "Speed: 3.1ms preprocess, 25.3ms inference, 3.7ms postprocess per image at shape (1, 3, 576, 704)\n",
      "Procesando: rc1-14.jpg\n",
      "Advertencia: No se encontró la imagen de referencia rc1-14_.jpg\n",
      "\n",
      "image 1/1 c:\\Users\\mini7\\Desktop\\Master\\Materias\\TFM\\Laura\\2025_MURIA_Aitor Garca Blanco\\04.Codigo\\..\\03.Datasets\\Evaluacion_Empresa\\TEST 3\\INPUT_TEST 3\\rc1-14.jpg: 576x704 2 cells, 25.3ms\n",
      "Speed: 3.1ms preprocess, 25.3ms inference, 3.4ms postprocess per image at shape (1, 3, 576, 704)\n",
      "Procesando: rrcc1.jpg\n",
      "Advertencia: No se encontró la imagen de referencia rrcc1_.jpg\n",
      "\n",
      "image 1/1 c:\\Users\\mini7\\Desktop\\Master\\Materias\\TFM\\Laura\\2025_MURIA_Aitor Garca Blanco\\04.Codigo\\..\\03.Datasets\\Evaluacion_Empresa\\TEST 3\\INPUT_TEST 3\\rrcc1.jpg: 576x704 2 cells, 25.2ms\n",
      "Speed: 2.6ms preprocess, 25.2ms inference, 1.6ms postprocess per image at shape (1, 3, 576, 704)\n",
      "Procesando: rrcc2.jpg\n",
      "Advertencia: No se encontró la imagen de referencia rrcc2_.jpg\n",
      "\n",
      "image 1/1 c:\\Users\\mini7\\Desktop\\Master\\Materias\\TFM\\Laura\\2025_MURIA_Aitor Garca Blanco\\04.Codigo\\..\\03.Datasets\\Evaluacion_Empresa\\TEST 3\\INPUT_TEST 3\\rrcc2.jpg: 576x704 2 cells, 25.2ms\n",
      "Speed: 2.6ms preprocess, 25.2ms inference, 1.5ms postprocess per image at shape (1, 3, 576, 704)\n",
      "Procesando: rrcc3.jpg\n",
      "Advertencia: No se encontró la imagen de referencia rrcc3_.jpg\n",
      "\n",
      "image 1/1 c:\\Users\\mini7\\Desktop\\Master\\Materias\\TFM\\Laura\\2025_MURIA_Aitor Garca Blanco\\04.Codigo\\..\\03.Datasets\\Evaluacion_Empresa\\TEST 3\\INPUT_TEST 3\\rrcc3.jpg: 576x704 2 cells, 25.3ms\n",
      "Speed: 2.5ms preprocess, 25.3ms inference, 1.6ms postprocess per image at shape (1, 3, 576, 704)\n",
      "Procesando: rrcc4.jpg\n",
      "Advertencia: No se encontró la imagen de referencia rrcc4_.jpg\n",
      "\n",
      "image 1/1 c:\\Users\\mini7\\Desktop\\Master\\Materias\\TFM\\Laura\\2025_MURIA_Aitor Garca Blanco\\04.Codigo\\..\\03.Datasets\\Evaluacion_Empresa\\TEST 3\\INPUT_TEST 3\\rrcc4.jpg: 576x704 2 cells, 25.2ms\n",
      "Speed: 2.6ms preprocess, 25.2ms inference, 1.7ms postprocess per image at shape (1, 3, 576, 704)\n",
      "Procesando: rrcc5.jpg\n",
      "Advertencia: No se encontró la imagen de referencia rrcc5_.jpg\n",
      "\n",
      "image 1/1 c:\\Users\\mini7\\Desktop\\Master\\Materias\\TFM\\Laura\\2025_MURIA_Aitor Garca Blanco\\04.Codigo\\..\\03.Datasets\\Evaluacion_Empresa\\TEST 3\\INPUT_TEST 3\\rrcc5.jpg: 576x704 3 cells, 25.3ms\n",
      "Speed: 2.8ms preprocess, 25.3ms inference, 3.5ms postprocess per image at shape (1, 3, 576, 704)\n",
      "Procesando: rrcc6.jpg\n",
      "Advertencia: No se encontró la imagen de referencia rrcc6_.jpg\n",
      "\n",
      "image 1/1 c:\\Users\\mini7\\Desktop\\Master\\Materias\\TFM\\Laura\\2025_MURIA_Aitor Garca Blanco\\04.Codigo\\..\\03.Datasets\\Evaluacion_Empresa\\TEST 3\\INPUT_TEST 3\\rrcc6.jpg: 576x704 2 cells, 25.3ms\n",
      "Speed: 2.7ms preprocess, 25.3ms inference, 3.6ms postprocess per image at shape (1, 3, 576, 704)\n",
      "Procesamiento completado. Resultados guardados en ..\\03.Datasets\\Evaluacion_Empresa\\TEST 3\\YOLO_NEW\n",
      "Usando directorio de salida: ..\\03.Datasets\\Evaluacion_Empresa\\TEST 4\\YOLO_NEW\n",
      "Procesando 123 imágenes...\n",
      "Procesando: 1-00.jpg\n",
      "Advertencia: No se encontró la imagen de referencia 1-00_.jpg\n",
      "\n",
      "image 1/1 c:\\Users\\mini7\\Desktop\\Master\\Materias\\TFM\\Laura\\2025_MURIA_Aitor Garca Blanco\\04.Codigo\\..\\03.Datasets\\Evaluacion_Empresa\\TEST 4\\INPUT_TEST 4\\1-00.jpg: 576x704 36 cells, 27.4ms\n",
      "Speed: 2.7ms preprocess, 27.4ms inference, 1.6ms postprocess per image at shape (1, 3, 576, 704)\n",
      "Procesando: 1-01.jpg\n",
      "Advertencia: No se encontró la imagen de referencia 1-01_.jpg\n",
      "\n",
      "image 1/1 c:\\Users\\mini7\\Desktop\\Master\\Materias\\TFM\\Laura\\2025_MURIA_Aitor Garca Blanco\\04.Codigo\\..\\03.Datasets\\Evaluacion_Empresa\\TEST 4\\INPUT_TEST 4\\1-01.jpg: 576x704 83 cells, 26.4ms\n",
      "Speed: 2.6ms preprocess, 26.4ms inference, 1.8ms postprocess per image at shape (1, 3, 576, 704)\n",
      "Procesando: 1-02.jpg\n",
      "Advertencia: No se encontró la imagen de referencia 1-02_.jpg\n",
      "\n",
      "image 1/1 c:\\Users\\mini7\\Desktop\\Master\\Materias\\TFM\\Laura\\2025_MURIA_Aitor Garca Blanco\\04.Codigo\\..\\03.Datasets\\Evaluacion_Empresa\\TEST 4\\INPUT_TEST 4\\1-02.jpg: 576x704 51 cells, 26.5ms\n",
      "Speed: 2.4ms preprocess, 26.5ms inference, 1.8ms postprocess per image at shape (1, 3, 576, 704)\n",
      "Procesando: 1-03.jpg\n",
      "Advertencia: No se encontró la imagen de referencia 1-03_.jpg\n",
      "\n",
      "image 1/1 c:\\Users\\mini7\\Desktop\\Master\\Materias\\TFM\\Laura\\2025_MURIA_Aitor Garca Blanco\\04.Codigo\\..\\03.Datasets\\Evaluacion_Empresa\\TEST 4\\INPUT_TEST 4\\1-03.jpg: 576x704 18 cells, 24.0ms\n",
      "Speed: 2.5ms preprocess, 24.0ms inference, 2.2ms postprocess per image at shape (1, 3, 576, 704)\n",
      "Procesando: 10-00.jpg\n",
      "Advertencia: No se encontró la imagen de referencia 10-00_.jpg\n",
      "\n",
      "image 1/1 c:\\Users\\mini7\\Desktop\\Master\\Materias\\TFM\\Laura\\2025_MURIA_Aitor Garca Blanco\\04.Codigo\\..\\03.Datasets\\Evaluacion_Empresa\\TEST 4\\INPUT_TEST 4\\10-00.jpg: 576x704 50 cells, 21.4ms\n",
      "Speed: 2.7ms preprocess, 21.4ms inference, 2.4ms postprocess per image at shape (1, 3, 576, 704)\n",
      "Procesando: 10-01.jpg\n",
      "Advertencia: No se encontró la imagen de referencia 10-01_.jpg\n",
      "\n",
      "image 1/1 c:\\Users\\mini7\\Desktop\\Master\\Materias\\TFM\\Laura\\2025_MURIA_Aitor Garca Blanco\\04.Codigo\\..\\03.Datasets\\Evaluacion_Empresa\\TEST 4\\INPUT_TEST 4\\10-01.jpg: 576x704 68 cells, 21.4ms\n",
      "Speed: 3.5ms preprocess, 21.4ms inference, 1.7ms postprocess per image at shape (1, 3, 576, 704)\n",
      "Procesando: 10-02.jpg\n",
      "Advertencia: No se encontró la imagen de referencia 10-02_.jpg\n",
      "\n",
      "image 1/1 c:\\Users\\mini7\\Desktop\\Master\\Materias\\TFM\\Laura\\2025_MURIA_Aitor Garca Blanco\\04.Codigo\\..\\03.Datasets\\Evaluacion_Empresa\\TEST 4\\INPUT_TEST 4\\10-02.jpg: 576x704 53 cells, 21.3ms\n",
      "Speed: 2.6ms preprocess, 21.3ms inference, 1.7ms postprocess per image at shape (1, 3, 576, 704)\n",
      "Procesando: 10-03.jpg\n",
      "Advertencia: No se encontró la imagen de referencia 10-03_.jpg\n",
      "\n",
      "image 1/1 c:\\Users\\mini7\\Desktop\\Master\\Materias\\TFM\\Laura\\2025_MURIA_Aitor Garca Blanco\\04.Codigo\\..\\03.Datasets\\Evaluacion_Empresa\\TEST 4\\INPUT_TEST 4\\10-03.jpg: 576x704 71 cells, 21.4ms\n",
      "Speed: 2.6ms preprocess, 21.4ms inference, 3.4ms postprocess per image at shape (1, 3, 576, 704)\n",
      "Procesando: 10-04.jpg\n",
      "Advertencia: No se encontró la imagen de referencia 10-04_.jpg\n",
      "\n",
      "image 1/1 c:\\Users\\mini7\\Desktop\\Master\\Materias\\TFM\\Laura\\2025_MURIA_Aitor Garca Blanco\\04.Codigo\\..\\03.Datasets\\Evaluacion_Empresa\\TEST 4\\INPUT_TEST 4\\10-04.jpg: 576x704 51 cells, 21.3ms\n",
      "Speed: 2.6ms preprocess, 21.3ms inference, 1.7ms postprocess per image at shape (1, 3, 576, 704)\n",
      "Procesando: 10-05.jpg\n",
      "Advertencia: No se encontró la imagen de referencia 10-05_.jpg\n",
      "\n",
      "image 1/1 c:\\Users\\mini7\\Desktop\\Master\\Materias\\TFM\\Laura\\2025_MURIA_Aitor Garca Blanco\\04.Codigo\\..\\03.Datasets\\Evaluacion_Empresa\\TEST 4\\INPUT_TEST 4\\10-05.jpg: 576x704 41 cells, 21.3ms\n",
      "Speed: 2.5ms preprocess, 21.3ms inference, 1.7ms postprocess per image at shape (1, 3, 576, 704)\n",
      "Procesando: 10-06.jpg\n",
      "Advertencia: No se encontró la imagen de referencia 10-06_.jpg\n",
      "\n",
      "image 1/1 c:\\Users\\mini7\\Desktop\\Master\\Materias\\TFM\\Laura\\2025_MURIA_Aitor Garca Blanco\\04.Codigo\\..\\03.Datasets\\Evaluacion_Empresa\\TEST 4\\INPUT_TEST 4\\10-06.jpg: 576x704 36 cells, 21.3ms\n",
      "Speed: 2.8ms preprocess, 21.3ms inference, 1.8ms postprocess per image at shape (1, 3, 576, 704)\n",
      "Procesando: 10-07.jpg\n",
      "Advertencia: No se encontró la imagen de referencia 10-07_.jpg\n",
      "\n",
      "image 1/1 c:\\Users\\mini7\\Desktop\\Master\\Materias\\TFM\\Laura\\2025_MURIA_Aitor Garca Blanco\\04.Codigo\\..\\03.Datasets\\Evaluacion_Empresa\\TEST 4\\INPUT_TEST 4\\10-07.jpg: 576x704 50 cells, 22.1ms\n",
      "Speed: 2.6ms preprocess, 22.1ms inference, 1.7ms postprocess per image at shape (1, 3, 576, 704)\n",
      "Procesando: 10-08.jpg\n",
      "Advertencia: No se encontró la imagen de referencia 10-08_.jpg\n",
      "\n",
      "image 1/1 c:\\Users\\mini7\\Desktop\\Master\\Materias\\TFM\\Laura\\2025_MURIA_Aitor Garca Blanco\\04.Codigo\\..\\03.Datasets\\Evaluacion_Empresa\\TEST 4\\INPUT_TEST 4\\10-08.jpg: 576x704 56 cells, 21.3ms\n",
      "Speed: 2.7ms preprocess, 21.3ms inference, 3.4ms postprocess per image at shape (1, 3, 576, 704)\n",
      "Procesando: 10-09.jpg\n",
      "Advertencia: No se encontró la imagen de referencia 10-09_.jpg\n",
      "\n",
      "image 1/1 c:\\Users\\mini7\\Desktop\\Master\\Materias\\TFM\\Laura\\2025_MURIA_Aitor Garca Blanco\\04.Codigo\\..\\03.Datasets\\Evaluacion_Empresa\\TEST 4\\INPUT_TEST 4\\10-09.jpg: 576x704 48 cells, 21.3ms\n",
      "Speed: 2.5ms preprocess, 21.3ms inference, 3.1ms postprocess per image at shape (1, 3, 576, 704)\n",
      "Procesando: 10-10.jpg\n",
      "Advertencia: No se encontró la imagen de referencia 10-10_.jpg\n",
      "\n",
      "image 1/1 c:\\Users\\mini7\\Desktop\\Master\\Materias\\TFM\\Laura\\2025_MURIA_Aitor Garca Blanco\\04.Codigo\\..\\03.Datasets\\Evaluacion_Empresa\\TEST 4\\INPUT_TEST 4\\10-10.jpg: 576x704 73 cells, 21.3ms\n",
      "Speed: 2.5ms preprocess, 21.3ms inference, 1.7ms postprocess per image at shape (1, 3, 576, 704)\n",
      "Procesando: 10-11.jpg\n",
      "Advertencia: No se encontró la imagen de referencia 10-11_.jpg\n",
      "\n",
      "image 1/1 c:\\Users\\mini7\\Desktop\\Master\\Materias\\TFM\\Laura\\2025_MURIA_Aitor Garca Blanco\\04.Codigo\\..\\03.Datasets\\Evaluacion_Empresa\\TEST 4\\INPUT_TEST 4\\10-11.jpg: 576x704 47 cells, 21.3ms\n",
      "Speed: 2.6ms preprocess, 21.3ms inference, 1.7ms postprocess per image at shape (1, 3, 576, 704)\n",
      "Procesando: 10-12.jpg\n",
      "Advertencia: No se encontró la imagen de referencia 10-12_.jpg\n",
      "\n",
      "image 1/1 c:\\Users\\mini7\\Desktop\\Master\\Materias\\TFM\\Laura\\2025_MURIA_Aitor Garca Blanco\\04.Codigo\\..\\03.Datasets\\Evaluacion_Empresa\\TEST 4\\INPUT_TEST 4\\10-12.jpg: 576x704 53 cells, 21.3ms\n",
      "Speed: 2.5ms preprocess, 21.3ms inference, 1.6ms postprocess per image at shape (1, 3, 576, 704)\n",
      "Procesando: 10-13.jpg\n",
      "Advertencia: No se encontró la imagen de referencia 10-13_.jpg\n",
      "\n",
      "image 1/1 c:\\Users\\mini7\\Desktop\\Master\\Materias\\TFM\\Laura\\2025_MURIA_Aitor Garca Blanco\\04.Codigo\\..\\03.Datasets\\Evaluacion_Empresa\\TEST 4\\INPUT_TEST 4\\10-13.jpg: 576x704 51 cells, 21.3ms\n",
      "Speed: 2.7ms preprocess, 21.3ms inference, 1.7ms postprocess per image at shape (1, 3, 576, 704)\n",
      "Procesando: 10-14.jpg\n",
      "Advertencia: No se encontró la imagen de referencia 10-14_.jpg\n",
      "\n",
      "image 1/1 c:\\Users\\mini7\\Desktop\\Master\\Materias\\TFM\\Laura\\2025_MURIA_Aitor Garca Blanco\\04.Codigo\\..\\03.Datasets\\Evaluacion_Empresa\\TEST 4\\INPUT_TEST 4\\10-14.jpg: 576x704 52 cells, 21.3ms\n",
      "Speed: 2.7ms preprocess, 21.3ms inference, 8.4ms postprocess per image at shape (1, 3, 576, 704)\n",
      "Procesando: 10-15.jpg\n",
      "Advertencia: No se encontró la imagen de referencia 10-15_.jpg\n",
      "\n",
      "image 1/1 c:\\Users\\mini7\\Desktop\\Master\\Materias\\TFM\\Laura\\2025_MURIA_Aitor Garca Blanco\\04.Codigo\\..\\03.Datasets\\Evaluacion_Empresa\\TEST 4\\INPUT_TEST 4\\10-15.jpg: 576x704 44 cells, 21.3ms\n",
      "Speed: 2.6ms preprocess, 21.3ms inference, 1.7ms postprocess per image at shape (1, 3, 576, 704)\n",
      "Procesando: 10-16.jpg\n",
      "Advertencia: No se encontró la imagen de referencia 10-16_.jpg\n",
      "\n",
      "image 1/1 c:\\Users\\mini7\\Desktop\\Master\\Materias\\TFM\\Laura\\2025_MURIA_Aitor Garca Blanco\\04.Codigo\\..\\03.Datasets\\Evaluacion_Empresa\\TEST 4\\INPUT_TEST 4\\10-16.jpg: 576x704 48 cells, 21.3ms\n",
      "Speed: 2.7ms preprocess, 21.3ms inference, 3.5ms postprocess per image at shape (1, 3, 576, 704)\n",
      "Procesando: 10-17.jpg\n",
      "Advertencia: No se encontró la imagen de referencia 10-17_.jpg\n",
      "\n",
      "image 1/1 c:\\Users\\mini7\\Desktop\\Master\\Materias\\TFM\\Laura\\2025_MURIA_Aitor Garca Blanco\\04.Codigo\\..\\03.Datasets\\Evaluacion_Empresa\\TEST 4\\INPUT_TEST 4\\10-17.jpg: 576x704 58 cells, 21.3ms\n",
      "Speed: 2.7ms preprocess, 21.3ms inference, 1.8ms postprocess per image at shape (1, 3, 576, 704)\n",
      "Procesando: 10-18.jpg\n",
      "Advertencia: No se encontró la imagen de referencia 10-18_.jpg\n",
      "\n",
      "image 1/1 c:\\Users\\mini7\\Desktop\\Master\\Materias\\TFM\\Laura\\2025_MURIA_Aitor Garca Blanco\\04.Codigo\\..\\03.Datasets\\Evaluacion_Empresa\\TEST 4\\INPUT_TEST 4\\10-18.jpg: 576x704 50 cells, 21.3ms\n",
      "Speed: 2.5ms preprocess, 21.3ms inference, 1.6ms postprocess per image at shape (1, 3, 576, 704)\n",
      "Procesando: 10-19.jpg\n",
      "Advertencia: No se encontró la imagen de referencia 10-19_.jpg\n",
      "\n",
      "image 1/1 c:\\Users\\mini7\\Desktop\\Master\\Materias\\TFM\\Laura\\2025_MURIA_Aitor Garca Blanco\\04.Codigo\\..\\03.Datasets\\Evaluacion_Empresa\\TEST 4\\INPUT_TEST 4\\10-19.jpg: 576x704 60 cells, 21.3ms\n",
      "Speed: 2.5ms preprocess, 21.3ms inference, 1.7ms postprocess per image at shape (1, 3, 576, 704)\n",
      "Procesando: 10-20.jpg\n",
      "Advertencia: No se encontró la imagen de referencia 10-20_.jpg\n",
      "\n",
      "image 1/1 c:\\Users\\mini7\\Desktop\\Master\\Materias\\TFM\\Laura\\2025_MURIA_Aitor Garca Blanco\\04.Codigo\\..\\03.Datasets\\Evaluacion_Empresa\\TEST 4\\INPUT_TEST 4\\10-20.jpg: 576x704 49 cells, 21.3ms\n",
      "Speed: 3.1ms preprocess, 21.3ms inference, 3.4ms postprocess per image at shape (1, 3, 576, 704)\n",
      "Procesando: 10-21.jpg\n",
      "Advertencia: No se encontró la imagen de referencia 10-21_.jpg\n",
      "\n",
      "image 1/1 c:\\Users\\mini7\\Desktop\\Master\\Materias\\TFM\\Laura\\2025_MURIA_Aitor Garca Blanco\\04.Codigo\\..\\03.Datasets\\Evaluacion_Empresa\\TEST 4\\INPUT_TEST 4\\10-21.jpg: 576x704 57 cells, 21.3ms\n",
      "Speed: 2.5ms preprocess, 21.3ms inference, 1.7ms postprocess per image at shape (1, 3, 576, 704)\n",
      "Procesando: 10-22.jpg\n",
      "Advertencia: No se encontró la imagen de referencia 10-22_.jpg\n",
      "\n",
      "image 1/1 c:\\Users\\mini7\\Desktop\\Master\\Materias\\TFM\\Laura\\2025_MURIA_Aitor Garca Blanco\\04.Codigo\\..\\03.Datasets\\Evaluacion_Empresa\\TEST 4\\INPUT_TEST 4\\10-22.jpg: 576x704 47 cells, 21.4ms\n",
      "Speed: 3.2ms preprocess, 21.4ms inference, 3.4ms postprocess per image at shape (1, 3, 576, 704)\n",
      "Procesando: 10-23.jpg\n",
      "Advertencia: No se encontró la imagen de referencia 10-23_.jpg\n",
      "\n",
      "image 1/1 c:\\Users\\mini7\\Desktop\\Master\\Materias\\TFM\\Laura\\2025_MURIA_Aitor Garca Blanco\\04.Codigo\\..\\03.Datasets\\Evaluacion_Empresa\\TEST 4\\INPUT_TEST 4\\10-23.jpg: 576x704 31 cells, 21.3ms\n",
      "Speed: 2.5ms preprocess, 21.3ms inference, 1.7ms postprocess per image at shape (1, 3, 576, 704)\n",
      "Procesando: 10-24.jpg\n",
      "Advertencia: No se encontró la imagen de referencia 10-24_.jpg\n",
      "\n",
      "image 1/1 c:\\Users\\mini7\\Desktop\\Master\\Materias\\TFM\\Laura\\2025_MURIA_Aitor Garca Blanco\\04.Codigo\\..\\03.Datasets\\Evaluacion_Empresa\\TEST 4\\INPUT_TEST 4\\10-24.jpg: 576x704 46 cells, 21.3ms\n",
      "Speed: 2.6ms preprocess, 21.3ms inference, 1.8ms postprocess per image at shape (1, 3, 576, 704)\n",
      "Procesando: 10-25.jpg\n",
      "Advertencia: No se encontró la imagen de referencia 10-25_.jpg\n",
      "\n",
      "image 1/1 c:\\Users\\mini7\\Desktop\\Master\\Materias\\TFM\\Laura\\2025_MURIA_Aitor Garca Blanco\\04.Codigo\\..\\03.Datasets\\Evaluacion_Empresa\\TEST 4\\INPUT_TEST 4\\10-25.jpg: 576x704 57 cells, 23.6ms\n",
      "Speed: 2.6ms preprocess, 23.6ms inference, 1.6ms postprocess per image at shape (1, 3, 576, 704)\n",
      "Procesando: 10-26.jpg\n",
      "Advertencia: No se encontró la imagen de referencia 10-26_.jpg\n",
      "\n",
      "image 1/1 c:\\Users\\mini7\\Desktop\\Master\\Materias\\TFM\\Laura\\2025_MURIA_Aitor Garca Blanco\\04.Codigo\\..\\03.Datasets\\Evaluacion_Empresa\\TEST 4\\INPUT_TEST 4\\10-26.jpg: 576x704 51 cells, 23.6ms\n",
      "Speed: 2.6ms preprocess, 23.6ms inference, 1.7ms postprocess per image at shape (1, 3, 576, 704)\n",
      "Procesando: 10-27.jpg\n",
      "Advertencia: No se encontró la imagen de referencia 10-27_.jpg\n",
      "\n",
      "image 1/1 c:\\Users\\mini7\\Desktop\\Master\\Materias\\TFM\\Laura\\2025_MURIA_Aitor Garca Blanco\\04.Codigo\\..\\03.Datasets\\Evaluacion_Empresa\\TEST 4\\INPUT_TEST 4\\10-27.jpg: 576x704 47 cells, 23.9ms\n",
      "Speed: 3.0ms preprocess, 23.9ms inference, 2.1ms postprocess per image at shape (1, 3, 576, 704)\n",
      "Procesando: 10-28.jpg\n",
      "Advertencia: No se encontró la imagen de referencia 10-28_.jpg\n",
      "\n",
      "image 1/1 c:\\Users\\mini7\\Desktop\\Master\\Materias\\TFM\\Laura\\2025_MURIA_Aitor Garca Blanco\\04.Codigo\\..\\03.Datasets\\Evaluacion_Empresa\\TEST 4\\INPUT_TEST 4\\10-28.jpg: 576x704 29 cells, 24.2ms\n",
      "Speed: 2.5ms preprocess, 24.2ms inference, 1.8ms postprocess per image at shape (1, 3, 576, 704)\n",
      "Procesando: 10-29.jpg\n",
      "Advertencia: No se encontró la imagen de referencia 10-29_.jpg\n",
      "\n",
      "image 1/1 c:\\Users\\mini7\\Desktop\\Master\\Materias\\TFM\\Laura\\2025_MURIA_Aitor Garca Blanco\\04.Codigo\\..\\03.Datasets\\Evaluacion_Empresa\\TEST 4\\INPUT_TEST 4\\10-29.jpg: 576x704 31 cells, 24.1ms\n",
      "Speed: 2.5ms preprocess, 24.1ms inference, 1.6ms postprocess per image at shape (1, 3, 576, 704)\n",
      "Procesando: 2-00.jpg\n",
      "Advertencia: No se encontró la imagen de referencia 2-00_.jpg\n",
      "\n",
      "image 1/1 c:\\Users\\mini7\\Desktop\\Master\\Materias\\TFM\\Laura\\2025_MURIA_Aitor Garca Blanco\\04.Codigo\\..\\03.Datasets\\Evaluacion_Empresa\\TEST 4\\INPUT_TEST 4\\2-00.jpg: 576x704 19 cells, 24.4ms\n",
      "Speed: 2.4ms preprocess, 24.4ms inference, 1.9ms postprocess per image at shape (1, 3, 576, 704)\n",
      "Procesando: 2-01.jpg\n",
      "Advertencia: No se encontró la imagen de referencia 2-01_.jpg\n",
      "\n",
      "image 1/1 c:\\Users\\mini7\\Desktop\\Master\\Materias\\TFM\\Laura\\2025_MURIA_Aitor Garca Blanco\\04.Codigo\\..\\03.Datasets\\Evaluacion_Empresa\\TEST 4\\INPUT_TEST 4\\2-01.jpg: 576x704 6 cells, 24.4ms\n",
      "Speed: 2.5ms preprocess, 24.4ms inference, 1.6ms postprocess per image at shape (1, 3, 576, 704)\n",
      "Procesando: 2-02.jpg\n",
      "Advertencia: No se encontró la imagen de referencia 2-02_.jpg\n",
      "\n",
      "image 1/1 c:\\Users\\mini7\\Desktop\\Master\\Materias\\TFM\\Laura\\2025_MURIA_Aitor Garca Blanco\\04.Codigo\\..\\03.Datasets\\Evaluacion_Empresa\\TEST 4\\INPUT_TEST 4\\2-02.jpg: 576x704 11 cells, 24.4ms\n",
      "Speed: 2.4ms preprocess, 24.4ms inference, 1.8ms postprocess per image at shape (1, 3, 576, 704)\n",
      "Procesando: 2-03.jpg\n",
      "Advertencia: No se encontró la imagen de referencia 2-03_.jpg\n",
      "\n",
      "image 1/1 c:\\Users\\mini7\\Desktop\\Master\\Materias\\TFM\\Laura\\2025_MURIA_Aitor Garca Blanco\\04.Codigo\\..\\03.Datasets\\Evaluacion_Empresa\\TEST 4\\INPUT_TEST 4\\2-03.jpg: 576x704 15 cells, 24.3ms\n",
      "Speed: 2.6ms preprocess, 24.3ms inference, 1.6ms postprocess per image at shape (1, 3, 576, 704)\n",
      "Procesando: 2-04.jpg\n",
      "Advertencia: No se encontró la imagen de referencia 2-04_.jpg\n",
      "\n",
      "image 1/1 c:\\Users\\mini7\\Desktop\\Master\\Materias\\TFM\\Laura\\2025_MURIA_Aitor Garca Blanco\\04.Codigo\\..\\03.Datasets\\Evaluacion_Empresa\\TEST 4\\INPUT_TEST 4\\2-04.jpg: 576x704 11 cells, 21.5ms\n",
      "Speed: 2.4ms preprocess, 21.5ms inference, 1.6ms postprocess per image at shape (1, 3, 576, 704)\n",
      "Procesando: 3-00.jpg\n",
      "Advertencia: No se encontró la imagen de referencia 3-00_.jpg\n",
      "\n",
      "image 1/1 c:\\Users\\mini7\\Desktop\\Master\\Materias\\TFM\\Laura\\2025_MURIA_Aitor Garca Blanco\\04.Codigo\\..\\03.Datasets\\Evaluacion_Empresa\\TEST 4\\INPUT_TEST 4\\3-00.jpg: 576x704 36 cells, 20.6ms\n",
      "Speed: 2.8ms preprocess, 20.6ms inference, 3.4ms postprocess per image at shape (1, 3, 576, 704)\n",
      "Procesando: 3-01.jpg\n",
      "Advertencia: No se encontró la imagen de referencia 3-01_.jpg\n",
      "\n",
      "image 1/1 c:\\Users\\mini7\\Desktop\\Master\\Materias\\TFM\\Laura\\2025_MURIA_Aitor Garca Blanco\\04.Codigo\\..\\03.Datasets\\Evaluacion_Empresa\\TEST 4\\INPUT_TEST 4\\3-01.jpg: 576x704 19 cells, 19.0ms\n",
      "Speed: 2.4ms preprocess, 19.0ms inference, 1.8ms postprocess per image at shape (1, 3, 576, 704)\n",
      "Procesando: 3-02.jpg\n",
      "Advertencia: No se encontró la imagen de referencia 3-02_.jpg\n",
      "\n",
      "image 1/1 c:\\Users\\mini7\\Desktop\\Master\\Materias\\TFM\\Laura\\2025_MURIA_Aitor Garca Blanco\\04.Codigo\\..\\03.Datasets\\Evaluacion_Empresa\\TEST 4\\INPUT_TEST 4\\3-02.jpg: 576x704 10 cells, 19.9ms\n",
      "Speed: 2.7ms preprocess, 19.9ms inference, 3.3ms postprocess per image at shape (1, 3, 576, 704)\n",
      "Procesando: 3-03.jpg\n",
      "Advertencia: No se encontró la imagen de referencia 3-03_.jpg\n",
      "\n",
      "image 1/1 c:\\Users\\mini7\\Desktop\\Master\\Materias\\TFM\\Laura\\2025_MURIA_Aitor Garca Blanco\\04.Codigo\\..\\03.Datasets\\Evaluacion_Empresa\\TEST 4\\INPUT_TEST 4\\3-03.jpg: 576x704 24 cells, 19.0ms\n",
      "Speed: 2.4ms preprocess, 19.0ms inference, 1.6ms postprocess per image at shape (1, 3, 576, 704)\n",
      "Procesando: 3-04.jpg\n",
      "Advertencia: No se encontró la imagen de referencia 3-04_.jpg\n",
      "\n",
      "image 1/1 c:\\Users\\mini7\\Desktop\\Master\\Materias\\TFM\\Laura\\2025_MURIA_Aitor Garca Blanco\\04.Codigo\\..\\03.Datasets\\Evaluacion_Empresa\\TEST 4\\INPUT_TEST 4\\3-04.jpg: 576x704 21 cells, 17.2ms\n",
      "Speed: 2.4ms preprocess, 17.2ms inference, 1.6ms postprocess per image at shape (1, 3, 576, 704)\n",
      "Procesando: 4-00.jpg\n",
      "Advertencia: No se encontró la imagen de referencia 4-00_.jpg\n",
      "\n",
      "image 1/1 c:\\Users\\mini7\\Desktop\\Master\\Materias\\TFM\\Laura\\2025_MURIA_Aitor Garca Blanco\\04.Codigo\\..\\03.Datasets\\Evaluacion_Empresa\\TEST 4\\INPUT_TEST 4\\4-00.jpg: 576x704 2 cells, 17.4ms\n",
      "Speed: 2.6ms preprocess, 17.4ms inference, 1.7ms postprocess per image at shape (1, 3, 576, 704)\n",
      "Procesando: 4-01.jpg\n",
      "Advertencia: No se encontró la imagen de referencia 4-01_.jpg\n",
      "\n",
      "image 1/1 c:\\Users\\mini7\\Desktop\\Master\\Materias\\TFM\\Laura\\2025_MURIA_Aitor Garca Blanco\\04.Codigo\\..\\03.Datasets\\Evaluacion_Empresa\\TEST 4\\INPUT_TEST 4\\4-01.jpg: 576x704 2 cells, 17.2ms\n",
      "Speed: 2.5ms preprocess, 17.2ms inference, 1.5ms postprocess per image at shape (1, 3, 576, 704)\n",
      "Procesando: 4-02.jpg\n",
      "Advertencia: No se encontró la imagen de referencia 4-02_.jpg\n",
      "\n",
      "image 1/1 c:\\Users\\mini7\\Desktop\\Master\\Materias\\TFM\\Laura\\2025_MURIA_Aitor Garca Blanco\\04.Codigo\\..\\03.Datasets\\Evaluacion_Empresa\\TEST 4\\INPUT_TEST 4\\4-02.jpg: 576x704 2 cells, 17.1ms\n",
      "Speed: 2.4ms preprocess, 17.1ms inference, 1.5ms postprocess per image at shape (1, 3, 576, 704)\n",
      "Procesando: 4-03.jpg\n",
      "Advertencia: No se encontró la imagen de referencia 4-03_.jpg\n",
      "\n",
      "image 1/1 c:\\Users\\mini7\\Desktop\\Master\\Materias\\TFM\\Laura\\2025_MURIA_Aitor Garca Blanco\\04.Codigo\\..\\03.Datasets\\Evaluacion_Empresa\\TEST 4\\INPUT_TEST 4\\4-03.jpg: 576x704 9 cells, 17.2ms\n",
      "Speed: 2.5ms preprocess, 17.2ms inference, 1.6ms postprocess per image at shape (1, 3, 576, 704)\n",
      "Procesando: 5-00.jpg\n",
      "Advertencia: No se encontró la imagen de referencia 5-00_.jpg\n",
      "\n",
      "image 1/1 c:\\Users\\mini7\\Desktop\\Master\\Materias\\TFM\\Laura\\2025_MURIA_Aitor Garca Blanco\\04.Codigo\\..\\03.Datasets\\Evaluacion_Empresa\\TEST 4\\INPUT_TEST 4\\5-00.jpg: 576x704 4 cells, 15.8ms\n",
      "Speed: 2.4ms preprocess, 15.8ms inference, 1.6ms postprocess per image at shape (1, 3, 576, 704)\n",
      "Procesando: 5-01.jpg\n",
      "Advertencia: No se encontró la imagen de referencia 5-01_.jpg\n",
      "\n",
      "image 1/1 c:\\Users\\mini7\\Desktop\\Master\\Materias\\TFM\\Laura\\2025_MURIA_Aitor Garca Blanco\\04.Codigo\\..\\03.Datasets\\Evaluacion_Empresa\\TEST 4\\INPUT_TEST 4\\5-01.jpg: 576x704 2 cells, 15.9ms\n",
      "Speed: 2.5ms preprocess, 15.9ms inference, 1.5ms postprocess per image at shape (1, 3, 576, 704)\n",
      "Procesando: 5-02.jpg\n",
      "Advertencia: No se encontró la imagen de referencia 5-02_.jpg\n",
      "\n",
      "image 1/1 c:\\Users\\mini7\\Desktop\\Master\\Materias\\TFM\\Laura\\2025_MURIA_Aitor Garca Blanco\\04.Codigo\\..\\03.Datasets\\Evaluacion_Empresa\\TEST 4\\INPUT_TEST 4\\5-02.jpg: 576x704 (no detections), 15.9ms\n",
      "Speed: 2.7ms preprocess, 15.9ms inference, 0.8ms postprocess per image at shape (1, 3, 576, 704)\n",
      "Procesando: 5-03.jpg\n",
      "Advertencia: No se encontró la imagen de referencia 5-03_.jpg\n",
      "\n",
      "image 1/1 c:\\Users\\mini7\\Desktop\\Master\\Materias\\TFM\\Laura\\2025_MURIA_Aitor Garca Blanco\\04.Codigo\\..\\03.Datasets\\Evaluacion_Empresa\\TEST 4\\INPUT_TEST 4\\5-03.jpg: 576x704 1 cell, 15.8ms\n",
      "Speed: 2.6ms preprocess, 15.8ms inference, 1.6ms postprocess per image at shape (1, 3, 576, 704)\n",
      "Procesando: 5-04.jpg\n",
      "Advertencia: No se encontró la imagen de referencia 5-04_.jpg\n",
      "\n",
      "image 1/1 c:\\Users\\mini7\\Desktop\\Master\\Materias\\TFM\\Laura\\2025_MURIA_Aitor Garca Blanco\\04.Codigo\\..\\03.Datasets\\Evaluacion_Empresa\\TEST 4\\INPUT_TEST 4\\5-04.jpg: 576x704 2 cells, 20.6ms\n",
      "Speed: 2.8ms preprocess, 20.6ms inference, 3.4ms postprocess per image at shape (1, 3, 576, 704)\n",
      "Procesando: 6-00.jpg\n",
      "Advertencia: No se encontró la imagen de referencia 6-00_.jpg\n",
      "\n",
      "image 1/1 c:\\Users\\mini7\\Desktop\\Master\\Materias\\TFM\\Laura\\2025_MURIA_Aitor Garca Blanco\\04.Codigo\\..\\03.Datasets\\Evaluacion_Empresa\\TEST 4\\INPUT_TEST 4\\6-00.jpg: 576x704 8 cells, 20.9ms\n",
      "Speed: 2.8ms preprocess, 20.9ms inference, 3.5ms postprocess per image at shape (1, 3, 576, 704)\n",
      "Procesando: 6-01.jpg\n",
      "Advertencia: No se encontró la imagen de referencia 6-01_.jpg\n",
      "\n",
      "image 1/1 c:\\Users\\mini7\\Desktop\\Master\\Materias\\TFM\\Laura\\2025_MURIA_Aitor Garca Blanco\\04.Codigo\\..\\03.Datasets\\Evaluacion_Empresa\\TEST 4\\INPUT_TEST 4\\6-01.jpg: 576x704 10 cells, 20.8ms\n",
      "Speed: 3.9ms preprocess, 20.8ms inference, 1.7ms postprocess per image at shape (1, 3, 576, 704)\n",
      "Procesando: 6-02.jpg\n",
      "Advertencia: No se encontró la imagen de referencia 6-02_.jpg\n",
      "\n",
      "image 1/1 c:\\Users\\mini7\\Desktop\\Master\\Materias\\TFM\\Laura\\2025_MURIA_Aitor Garca Blanco\\04.Codigo\\..\\03.Datasets\\Evaluacion_Empresa\\TEST 4\\INPUT_TEST 4\\6-02.jpg: 576x704 7 cells, 15.6ms\n",
      "Speed: 2.4ms preprocess, 15.6ms inference, 1.6ms postprocess per image at shape (1, 3, 576, 704)\n",
      "Procesando: 6-03.jpg\n",
      "Advertencia: No se encontró la imagen de referencia 6-03_.jpg\n",
      "\n",
      "image 1/1 c:\\Users\\mini7\\Desktop\\Master\\Materias\\TFM\\Laura\\2025_MURIA_Aitor Garca Blanco\\04.Codigo\\..\\03.Datasets\\Evaluacion_Empresa\\TEST 4\\INPUT_TEST 4\\6-03.jpg: 576x704 13 cells, 15.6ms\n",
      "Speed: 2.7ms preprocess, 15.6ms inference, 2.3ms postprocess per image at shape (1, 3, 576, 704)\n",
      "Procesando: 6-04.jpg\n",
      "Advertencia: No se encontró la imagen de referencia 6-04_.jpg\n",
      "\n",
      "image 1/1 c:\\Users\\mini7\\Desktop\\Master\\Materias\\TFM\\Laura\\2025_MURIA_Aitor Garca Blanco\\04.Codigo\\..\\03.Datasets\\Evaluacion_Empresa\\TEST 4\\INPUT_TEST 4\\6-04.jpg: 576x704 10 cells, 20.7ms\n",
      "Speed: 3.4ms preprocess, 20.7ms inference, 3.5ms postprocess per image at shape (1, 3, 576, 704)\n",
      "Procesando: 6-05.jpg\n",
      "Advertencia: No se encontró la imagen de referencia 6-05_.jpg\n",
      "\n",
      "image 1/1 c:\\Users\\mini7\\Desktop\\Master\\Materias\\TFM\\Laura\\2025_MURIA_Aitor Garca Blanco\\04.Codigo\\..\\03.Datasets\\Evaluacion_Empresa\\TEST 4\\INPUT_TEST 4\\6-05.jpg: 576x704 9 cells, 17.2ms\n",
      "Speed: 4.4ms preprocess, 17.2ms inference, 1.5ms postprocess per image at shape (1, 3, 576, 704)\n",
      "Procesando: 7-00.jpg\n",
      "Advertencia: No se encontró la imagen de referencia 7-00_.jpg\n",
      "\n",
      "image 1/1 c:\\Users\\mini7\\Desktop\\Master\\Materias\\TFM\\Laura\\2025_MURIA_Aitor Garca Blanco\\04.Codigo\\..\\03.Datasets\\Evaluacion_Empresa\\TEST 4\\INPUT_TEST 4\\7-00.jpg: 576x704 36 cells, 15.6ms\n",
      "Speed: 2.4ms preprocess, 15.6ms inference, 1.6ms postprocess per image at shape (1, 3, 576, 704)\n",
      "Procesando: 7-01.jpg\n",
      "Advertencia: No se encontró la imagen de referencia 7-01_.jpg\n",
      "\n",
      "image 1/1 c:\\Users\\mini7\\Desktop\\Master\\Materias\\TFM\\Laura\\2025_MURIA_Aitor Garca Blanco\\04.Codigo\\..\\03.Datasets\\Evaluacion_Empresa\\TEST 4\\INPUT_TEST 4\\7-01.jpg: 576x704 16 cells, 20.5ms\n",
      "Speed: 2.8ms preprocess, 20.5ms inference, 3.5ms postprocess per image at shape (1, 3, 576, 704)\n",
      "Procesando: 7-02.jpg\n",
      "Advertencia: No se encontró la imagen de referencia 7-02_.jpg\n",
      "\n",
      "image 1/1 c:\\Users\\mini7\\Desktop\\Master\\Materias\\TFM\\Laura\\2025_MURIA_Aitor Garca Blanco\\04.Codigo\\..\\03.Datasets\\Evaluacion_Empresa\\TEST 4\\INPUT_TEST 4\\7-02.jpg: 576x704 23 cells, 15.6ms\n",
      "Speed: 2.4ms preprocess, 15.6ms inference, 1.6ms postprocess per image at shape (1, 3, 576, 704)\n",
      "Procesando: 7-03.jpg\n",
      "Advertencia: No se encontró la imagen de referencia 7-03_.jpg\n",
      "\n",
      "image 1/1 c:\\Users\\mini7\\Desktop\\Master\\Materias\\TFM\\Laura\\2025_MURIA_Aitor Garca Blanco\\04.Codigo\\..\\03.Datasets\\Evaluacion_Empresa\\TEST 4\\INPUT_TEST 4\\7-03.jpg: 576x704 27 cells, 15.5ms\n",
      "Speed: 2.3ms preprocess, 15.5ms inference, 1.6ms postprocess per image at shape (1, 3, 576, 704)\n",
      "Procesando: 7-04.jpg\n",
      "Advertencia: No se encontró la imagen de referencia 7-04_.jpg\n",
      "\n",
      "image 1/1 c:\\Users\\mini7\\Desktop\\Master\\Materias\\TFM\\Laura\\2025_MURIA_Aitor Garca Blanco\\04.Codigo\\..\\03.Datasets\\Evaluacion_Empresa\\TEST 4\\INPUT_TEST 4\\7-04.jpg: 576x704 17 cells, 15.6ms\n",
      "Speed: 2.5ms preprocess, 15.6ms inference, 1.8ms postprocess per image at shape (1, 3, 576, 704)\n",
      "Procesando: 7-05.jpg\n",
      "Advertencia: No se encontró la imagen de referencia 7-05_.jpg\n",
      "\n",
      "image 1/1 c:\\Users\\mini7\\Desktop\\Master\\Materias\\TFM\\Laura\\2025_MURIA_Aitor Garca Blanco\\04.Codigo\\..\\03.Datasets\\Evaluacion_Empresa\\TEST 4\\INPUT_TEST 4\\7-05.jpg: 576x704 28 cells, 21.1ms\n",
      "Speed: 2.8ms preprocess, 21.1ms inference, 3.5ms postprocess per image at shape (1, 3, 576, 704)\n",
      "Procesando: 7-06.jpg\n",
      "Advertencia: No se encontró la imagen de referencia 7-06_.jpg\n",
      "\n",
      "image 1/1 c:\\Users\\mini7\\Desktop\\Master\\Materias\\TFM\\Laura\\2025_MURIA_Aitor Garca Blanco\\04.Codigo\\..\\03.Datasets\\Evaluacion_Empresa\\TEST 4\\INPUT_TEST 4\\7-06.jpg: 576x704 18 cells, 15.5ms\n",
      "Speed: 3.0ms preprocess, 15.5ms inference, 1.6ms postprocess per image at shape (1, 3, 576, 704)\n",
      "Procesando: 7-07.jpg\n",
      "Advertencia: No se encontró la imagen de referencia 7-07_.jpg\n",
      "\n",
      "image 1/1 c:\\Users\\mini7\\Desktop\\Master\\Materias\\TFM\\Laura\\2025_MURIA_Aitor Garca Blanco\\04.Codigo\\..\\03.Datasets\\Evaluacion_Empresa\\TEST 4\\INPUT_TEST 4\\7-07.jpg: 576x704 27 cells, 15.6ms\n",
      "Speed: 2.5ms preprocess, 15.6ms inference, 1.5ms postprocess per image at shape (1, 3, 576, 704)\n",
      "Procesando: 7-08.jpg\n",
      "Advertencia: No se encontró la imagen de referencia 7-08_.jpg\n",
      "\n",
      "image 1/1 c:\\Users\\mini7\\Desktop\\Master\\Materias\\TFM\\Laura\\2025_MURIA_Aitor Garca Blanco\\04.Codigo\\..\\03.Datasets\\Evaluacion_Empresa\\TEST 4\\INPUT_TEST 4\\7-08.jpg: 576x704 20 cells, 15.6ms\n",
      "Speed: 2.4ms preprocess, 15.6ms inference, 1.6ms postprocess per image at shape (1, 3, 576, 704)\n",
      "Procesando: 7-09.jpg\n",
      "Advertencia: No se encontró la imagen de referencia 7-09_.jpg\n",
      "\n",
      "image 1/1 c:\\Users\\mini7\\Desktop\\Master\\Materias\\TFM\\Laura\\2025_MURIA_Aitor Garca Blanco\\04.Codigo\\..\\03.Datasets\\Evaluacion_Empresa\\TEST 4\\INPUT_TEST 4\\7-09.jpg: 576x704 20 cells, 15.5ms\n",
      "Speed: 2.4ms preprocess, 15.5ms inference, 1.5ms postprocess per image at shape (1, 3, 576, 704)\n",
      "Procesando: 7-10.jpg\n",
      "Advertencia: No se encontró la imagen de referencia 7-10_.jpg\n",
      "\n",
      "image 1/1 c:\\Users\\mini7\\Desktop\\Master\\Materias\\TFM\\Laura\\2025_MURIA_Aitor Garca Blanco\\04.Codigo\\..\\03.Datasets\\Evaluacion_Empresa\\TEST 4\\INPUT_TEST 4\\7-10.jpg: 576x704 25 cells, 15.6ms\n",
      "Speed: 2.5ms preprocess, 15.6ms inference, 1.5ms postprocess per image at shape (1, 3, 576, 704)\n",
      "Procesando: 7-11.jpg\n",
      "Advertencia: No se encontró la imagen de referencia 7-11_.jpg\n",
      "\n",
      "image 1/1 c:\\Users\\mini7\\Desktop\\Master\\Materias\\TFM\\Laura\\2025_MURIA_Aitor Garca Blanco\\04.Codigo\\..\\03.Datasets\\Evaluacion_Empresa\\TEST 4\\INPUT_TEST 4\\7-11.jpg: 576x704 24 cells, 15.5ms\n",
      "Speed: 2.3ms preprocess, 15.5ms inference, 1.6ms postprocess per image at shape (1, 3, 576, 704)\n",
      "Procesando: 7-12.jpg\n",
      "Advertencia: No se encontró la imagen de referencia 7-12_.jpg\n",
      "\n",
      "image 1/1 c:\\Users\\mini7\\Desktop\\Master\\Materias\\TFM\\Laura\\2025_MURIA_Aitor Garca Blanco\\04.Codigo\\..\\03.Datasets\\Evaluacion_Empresa\\TEST 4\\INPUT_TEST 4\\7-12.jpg: 576x704 15 cells, 15.8ms\n",
      "Speed: 3.2ms preprocess, 15.8ms inference, 1.9ms postprocess per image at shape (1, 3, 576, 704)\n",
      "Procesando: 7-13.jpg\n",
      "Advertencia: No se encontró la imagen de referencia 7-13_.jpg\n",
      "\n",
      "image 1/1 c:\\Users\\mini7\\Desktop\\Master\\Materias\\TFM\\Laura\\2025_MURIA_Aitor Garca Blanco\\04.Codigo\\..\\03.Datasets\\Evaluacion_Empresa\\TEST 4\\INPUT_TEST 4\\7-13.jpg: 576x704 22 cells, 15.3ms\n",
      "Speed: 2.4ms preprocess, 15.3ms inference, 1.6ms postprocess per image at shape (1, 3, 576, 704)\n",
      "Procesando: 8-00.jpg\n",
      "Advertencia: No se encontró la imagen de referencia 8-00_.jpg\n",
      "\n",
      "image 1/1 c:\\Users\\mini7\\Desktop\\Master\\Materias\\TFM\\Laura\\2025_MURIA_Aitor Garca Blanco\\04.Codigo\\..\\03.Datasets\\Evaluacion_Empresa\\TEST 4\\INPUT_TEST 4\\8-00.jpg: 576x704 2 cells, 15.4ms\n",
      "Speed: 2.4ms preprocess, 15.4ms inference, 1.5ms postprocess per image at shape (1, 3, 576, 704)\n",
      "Procesando: 8-01.jpg\n",
      "Advertencia: No se encontró la imagen de referencia 8-01_.jpg\n",
      "\n",
      "image 1/1 c:\\Users\\mini7\\Desktop\\Master\\Materias\\TFM\\Laura\\2025_MURIA_Aitor Garca Blanco\\04.Codigo\\..\\03.Datasets\\Evaluacion_Empresa\\TEST 4\\INPUT_TEST 4\\8-01.jpg: 576x704 4 cells, 15.3ms\n",
      "Speed: 2.4ms preprocess, 15.3ms inference, 1.5ms postprocess per image at shape (1, 3, 576, 704)\n",
      "Procesando: 8-02.jpg\n",
      "Advertencia: No se encontró la imagen de referencia 8-02_.jpg\n",
      "\n",
      "image 1/1 c:\\Users\\mini7\\Desktop\\Master\\Materias\\TFM\\Laura\\2025_MURIA_Aitor Garca Blanco\\04.Codigo\\..\\03.Datasets\\Evaluacion_Empresa\\TEST 4\\INPUT_TEST 4\\8-02.jpg: 576x704 2 cells, 15.3ms\n",
      "Speed: 2.3ms preprocess, 15.3ms inference, 1.5ms postprocess per image at shape (1, 3, 576, 704)\n",
      "Procesando: 8-03.jpg\n",
      "Advertencia: No se encontró la imagen de referencia 8-03_.jpg\n",
      "\n",
      "image 1/1 c:\\Users\\mini7\\Desktop\\Master\\Materias\\TFM\\Laura\\2025_MURIA_Aitor Garca Blanco\\04.Codigo\\..\\03.Datasets\\Evaluacion_Empresa\\TEST 4\\INPUT_TEST 4\\8-03.jpg: 576x704 1 cell, 15.3ms\n",
      "Speed: 2.3ms preprocess, 15.3ms inference, 1.6ms postprocess per image at shape (1, 3, 576, 704)\n",
      "Procesando: 8-04.jpg\n",
      "Advertencia: No se encontró la imagen de referencia 8-04_.jpg\n",
      "\n",
      "image 1/1 c:\\Users\\mini7\\Desktop\\Master\\Materias\\TFM\\Laura\\2025_MURIA_Aitor Garca Blanco\\04.Codigo\\..\\03.Datasets\\Evaluacion_Empresa\\TEST 4\\INPUT_TEST 4\\8-04.jpg: 576x704 5 cells, 15.3ms\n",
      "Speed: 2.5ms preprocess, 15.3ms inference, 1.7ms postprocess per image at shape (1, 3, 576, 704)\n",
      "Procesando: 8-05.jpg\n",
      "Advertencia: No se encontró la imagen de referencia 8-05_.jpg\n",
      "\n",
      "image 1/1 c:\\Users\\mini7\\Desktop\\Master\\Materias\\TFM\\Laura\\2025_MURIA_Aitor Garca Blanco\\04.Codigo\\..\\03.Datasets\\Evaluacion_Empresa\\TEST 4\\INPUT_TEST 4\\8-05.jpg: 576x704 4 cells, 13.8ms\n",
      "Speed: 2.5ms preprocess, 13.8ms inference, 1.6ms postprocess per image at shape (1, 3, 576, 704)\n",
      "Procesando: 8-06.jpg\n",
      "Advertencia: No se encontró la imagen de referencia 8-06_.jpg\n",
      "\n",
      "image 1/1 c:\\Users\\mini7\\Desktop\\Master\\Materias\\TFM\\Laura\\2025_MURIA_Aitor Garca Blanco\\04.Codigo\\..\\03.Datasets\\Evaluacion_Empresa\\TEST 4\\INPUT_TEST 4\\8-06.jpg: 576x704 4 cells, 13.8ms\n",
      "Speed: 2.4ms preprocess, 13.8ms inference, 1.5ms postprocess per image at shape (1, 3, 576, 704)\n",
      "Procesando: 8-07.jpg\n",
      "Advertencia: No se encontró la imagen de referencia 8-07_.jpg\n",
      "\n",
      "image 1/1 c:\\Users\\mini7\\Desktop\\Master\\Materias\\TFM\\Laura\\2025_MURIA_Aitor Garca Blanco\\04.Codigo\\..\\03.Datasets\\Evaluacion_Empresa\\TEST 4\\INPUT_TEST 4\\8-07.jpg: 576x704 (no detections), 13.8ms\n",
      "Speed: 2.5ms preprocess, 13.8ms inference, 0.6ms postprocess per image at shape (1, 3, 576, 704)\n",
      "Procesando: 8-08.jpg\n",
      "Advertencia: No se encontró la imagen de referencia 8-08_.jpg\n",
      "\n",
      "image 1/1 c:\\Users\\mini7\\Desktop\\Master\\Materias\\TFM\\Laura\\2025_MURIA_Aitor Garca Blanco\\04.Codigo\\..\\03.Datasets\\Evaluacion_Empresa\\TEST 4\\INPUT_TEST 4\\8-08.jpg: 576x704 (no detections), 13.7ms\n",
      "Speed: 2.4ms preprocess, 13.7ms inference, 0.6ms postprocess per image at shape (1, 3, 576, 704)\n",
      "Procesando: 8-09.jpg\n",
      "Advertencia: No se encontró la imagen de referencia 8-09_.jpg\n",
      "\n",
      "image 1/1 c:\\Users\\mini7\\Desktop\\Master\\Materias\\TFM\\Laura\\2025_MURIA_Aitor Garca Blanco\\04.Codigo\\..\\03.Datasets\\Evaluacion_Empresa\\TEST 4\\INPUT_TEST 4\\8-09.jpg: 576x704 2 cells, 21.4ms\n",
      "Speed: 2.9ms preprocess, 21.4ms inference, 3.6ms postprocess per image at shape (1, 3, 576, 704)\n",
      "Procesando: 8-10.jpg\n",
      "Advertencia: No se encontró la imagen de referencia 8-10_.jpg\n",
      "\n",
      "image 1/1 c:\\Users\\mini7\\Desktop\\Master\\Materias\\TFM\\Laura\\2025_MURIA_Aitor Garca Blanco\\04.Codigo\\..\\03.Datasets\\Evaluacion_Empresa\\TEST 4\\INPUT_TEST 4\\8-10.jpg: 576x704 7 cells, 14.8ms\n",
      "Speed: 2.6ms preprocess, 14.8ms inference, 2.9ms postprocess per image at shape (1, 3, 576, 704)\n",
      "Procesando: 8-11.jpg\n",
      "Advertencia: No se encontró la imagen de referencia 8-11_.jpg\n",
      "\n",
      "image 1/1 c:\\Users\\mini7\\Desktop\\Master\\Materias\\TFM\\Laura\\2025_MURIA_Aitor Garca Blanco\\04.Codigo\\..\\03.Datasets\\Evaluacion_Empresa\\TEST 4\\INPUT_TEST 4\\8-11.jpg: 576x704 2 cells, 13.9ms\n",
      "Speed: 2.4ms preprocess, 13.9ms inference, 1.5ms postprocess per image at shape (1, 3, 576, 704)\n",
      "Procesando: 8-12.jpg\n",
      "Advertencia: No se encontró la imagen de referencia 8-12_.jpg\n",
      "\n",
      "image 1/1 c:\\Users\\mini7\\Desktop\\Master\\Materias\\TFM\\Laura\\2025_MURIA_Aitor Garca Blanco\\04.Codigo\\..\\03.Datasets\\Evaluacion_Empresa\\TEST 4\\INPUT_TEST 4\\8-12.jpg: 576x704 5 cells, 13.8ms\n",
      "Speed: 2.5ms preprocess, 13.8ms inference, 1.5ms postprocess per image at shape (1, 3, 576, 704)\n",
      "Procesando: 8-13.jpg\n",
      "Advertencia: No se encontró la imagen de referencia 8-13_.jpg\n",
      "\n",
      "image 1/1 c:\\Users\\mini7\\Desktop\\Master\\Materias\\TFM\\Laura\\2025_MURIA_Aitor Garca Blanco\\04.Codigo\\..\\03.Datasets\\Evaluacion_Empresa\\TEST 4\\INPUT_TEST 4\\8-13.jpg: 576x704 2 cells, 20.8ms\n",
      "Speed: 2.5ms preprocess, 20.8ms inference, 3.4ms postprocess per image at shape (1, 3, 576, 704)\n",
      "Procesando: 8-14.jpg\n",
      "Advertencia: No se encontró la imagen de referencia 8-14_.jpg\n",
      "\n",
      "image 1/1 c:\\Users\\mini7\\Desktop\\Master\\Materias\\TFM\\Laura\\2025_MURIA_Aitor Garca Blanco\\04.Codigo\\..\\03.Datasets\\Evaluacion_Empresa\\TEST 4\\INPUT_TEST 4\\8-14.jpg: 576x704 2 cells, 13.8ms\n",
      "Speed: 2.4ms preprocess, 13.8ms inference, 1.5ms postprocess per image at shape (1, 3, 576, 704)\n",
      "Procesando: 8-15.jpg\n",
      "Advertencia: No se encontró la imagen de referencia 8-15_.jpg\n",
      "\n",
      "image 1/1 c:\\Users\\mini7\\Desktop\\Master\\Materias\\TFM\\Laura\\2025_MURIA_Aitor Garca Blanco\\04.Codigo\\..\\03.Datasets\\Evaluacion_Empresa\\TEST 4\\INPUT_TEST 4\\8-15.jpg: 576x704 5 cells, 13.8ms\n",
      "Speed: 2.5ms preprocess, 13.8ms inference, 1.5ms postprocess per image at shape (1, 3, 576, 704)\n",
      "Procesando: 8-16.jpg\n",
      "Advertencia: No se encontró la imagen de referencia 8-16_.jpg\n",
      "\n",
      "image 1/1 c:\\Users\\mini7\\Desktop\\Master\\Materias\\TFM\\Laura\\2025_MURIA_Aitor Garca Blanco\\04.Codigo\\..\\03.Datasets\\Evaluacion_Empresa\\TEST 4\\INPUT_TEST 4\\8-16.jpg: 576x704 3 cells, 21.6ms\n",
      "Speed: 2.8ms preprocess, 21.6ms inference, 3.4ms postprocess per image at shape (1, 3, 576, 704)\n",
      "Procesando: 8-17.jpg\n",
      "Advertencia: No se encontró la imagen de referencia 8-17_.jpg\n",
      "\n",
      "image 1/1 c:\\Users\\mini7\\Desktop\\Master\\Materias\\TFM\\Laura\\2025_MURIA_Aitor Garca Blanco\\04.Codigo\\..\\03.Datasets\\Evaluacion_Empresa\\TEST 4\\INPUT_TEST 4\\8-17.jpg: 576x704 3 cells, 13.7ms\n",
      "Speed: 2.4ms preprocess, 13.7ms inference, 1.5ms postprocess per image at shape (1, 3, 576, 704)\n",
      "Procesando: 8-18.jpg\n",
      "Advertencia: No se encontró la imagen de referencia 8-18_.jpg\n",
      "\n",
      "image 1/1 c:\\Users\\mini7\\Desktop\\Master\\Materias\\TFM\\Laura\\2025_MURIA_Aitor Garca Blanco\\04.Codigo\\..\\03.Datasets\\Evaluacion_Empresa\\TEST 4\\INPUT_TEST 4\\8-18.jpg: 576x704 4 cells, 15.2ms\n",
      "Speed: 2.7ms preprocess, 15.2ms inference, 2.2ms postprocess per image at shape (1, 3, 576, 704)\n",
      "Procesando: 9-00.jpg\n",
      "Advertencia: No se encontró la imagen de referencia 9-00_.jpg\n",
      "\n",
      "image 1/1 c:\\Users\\mini7\\Desktop\\Master\\Materias\\TFM\\Laura\\2025_MURIA_Aitor Garca Blanco\\04.Codigo\\..\\03.Datasets\\Evaluacion_Empresa\\TEST 4\\INPUT_TEST 4\\9-00.jpg: 576x704 56 cells, 13.7ms\n",
      "Speed: 2.5ms preprocess, 13.7ms inference, 1.6ms postprocess per image at shape (1, 3, 576, 704)\n",
      "Procesando: 9-01.jpg\n",
      "Advertencia: No se encontró la imagen de referencia 9-01_.jpg\n",
      "\n",
      "image 1/1 c:\\Users\\mini7\\Desktop\\Master\\Materias\\TFM\\Laura\\2025_MURIA_Aitor Garca Blanco\\04.Codigo\\..\\03.Datasets\\Evaluacion_Empresa\\TEST 4\\INPUT_TEST 4\\9-01.jpg: 576x704 47 cells, 28.0ms\n",
      "Speed: 2.7ms preprocess, 28.0ms inference, 1.7ms postprocess per image at shape (1, 3, 576, 704)\n",
      "Procesando: 9-02.jpg\n",
      "Advertencia: No se encontró la imagen de referencia 9-02_.jpg\n",
      "\n",
      "image 1/1 c:\\Users\\mini7\\Desktop\\Master\\Materias\\TFM\\Laura\\2025_MURIA_Aitor Garca Blanco\\04.Codigo\\..\\03.Datasets\\Evaluacion_Empresa\\TEST 4\\INPUT_TEST 4\\9-02.jpg: 576x704 49 cells, 20.3ms\n",
      "Speed: 2.6ms preprocess, 20.3ms inference, 3.4ms postprocess per image at shape (1, 3, 576, 704)\n",
      "Procesando: 9-03.jpg\n",
      "Advertencia: No se encontró la imagen de referencia 9-03_.jpg\n",
      "\n",
      "image 1/1 c:\\Users\\mini7\\Desktop\\Master\\Materias\\TFM\\Laura\\2025_MURIA_Aitor Garca Blanco\\04.Codigo\\..\\03.Datasets\\Evaluacion_Empresa\\TEST 4\\INPUT_TEST 4\\9-03.jpg: 576x704 55 cells, 13.9ms\n",
      "Speed: 2.5ms preprocess, 13.9ms inference, 1.6ms postprocess per image at shape (1, 3, 576, 704)\n",
      "Procesando: 9-04.jpg\n",
      "Advertencia: No se encontró la imagen de referencia 9-04_.jpg\n",
      "\n",
      "image 1/1 c:\\Users\\mini7\\Desktop\\Master\\Materias\\TFM\\Laura\\2025_MURIA_Aitor Garca Blanco\\04.Codigo\\..\\03.Datasets\\Evaluacion_Empresa\\TEST 4\\INPUT_TEST 4\\9-04.jpg: 576x704 40 cells, 13.7ms\n",
      "Speed: 2.3ms preprocess, 13.7ms inference, 1.6ms postprocess per image at shape (1, 3, 576, 704)\n",
      "Procesando: 9-05.jpg\n",
      "Advertencia: No se encontró la imagen de referencia 9-05_.jpg\n",
      "\n",
      "image 1/1 c:\\Users\\mini7\\Desktop\\Master\\Materias\\TFM\\Laura\\2025_MURIA_Aitor Garca Blanco\\04.Codigo\\..\\03.Datasets\\Evaluacion_Empresa\\TEST 4\\INPUT_TEST 4\\9-05.jpg: 576x704 44 cells, 13.7ms\n",
      "Speed: 2.4ms preprocess, 13.7ms inference, 1.6ms postprocess per image at shape (1, 3, 576, 704)\n",
      "Procesando: 9-06.jpg\n",
      "Advertencia: No se encontró la imagen de referencia 9-06_.jpg\n",
      "\n",
      "image 1/1 c:\\Users\\mini7\\Desktop\\Master\\Materias\\TFM\\Laura\\2025_MURIA_Aitor Garca Blanco\\04.Codigo\\..\\03.Datasets\\Evaluacion_Empresa\\TEST 4\\INPUT_TEST 4\\9-06.jpg: 576x704 52 cells, 13.7ms\n",
      "Speed: 2.4ms preprocess, 13.7ms inference, 1.6ms postprocess per image at shape (1, 3, 576, 704)\n",
      "Procesando: 9-07.jpg\n",
      "Advertencia: No se encontró la imagen de referencia 9-07_.jpg\n",
      "\n",
      "image 1/1 c:\\Users\\mini7\\Desktop\\Master\\Materias\\TFM\\Laura\\2025_MURIA_Aitor Garca Blanco\\04.Codigo\\..\\03.Datasets\\Evaluacion_Empresa\\TEST 4\\INPUT_TEST 4\\9-07.jpg: 576x704 39 cells, 20.5ms\n",
      "Speed: 2.8ms preprocess, 20.5ms inference, 3.3ms postprocess per image at shape (1, 3, 576, 704)\n",
      "Procesando: 9-08.jpg\n",
      "Advertencia: No se encontró la imagen de referencia 9-08_.jpg\n",
      "\n",
      "image 1/1 c:\\Users\\mini7\\Desktop\\Master\\Materias\\TFM\\Laura\\2025_MURIA_Aitor Garca Blanco\\04.Codigo\\..\\03.Datasets\\Evaluacion_Empresa\\TEST 4\\INPUT_TEST 4\\9-08.jpg: 576x704 55 cells, 20.8ms\n",
      "Speed: 2.8ms preprocess, 20.8ms inference, 3.3ms postprocess per image at shape (1, 3, 576, 704)\n",
      "Procesando: 9-09.jpg\n",
      "Advertencia: No se encontró la imagen de referencia 9-09_.jpg\n",
      "\n",
      "image 1/1 c:\\Users\\mini7\\Desktop\\Master\\Materias\\TFM\\Laura\\2025_MURIA_Aitor Garca Blanco\\04.Codigo\\..\\03.Datasets\\Evaluacion_Empresa\\TEST 4\\INPUT_TEST 4\\9-09.jpg: 576x704 40 cells, 13.6ms\n",
      "Speed: 2.3ms preprocess, 13.6ms inference, 1.5ms postprocess per image at shape (1, 3, 576, 704)\n",
      "Procesando: 9-10.jpg\n",
      "Advertencia: No se encontró la imagen de referencia 9-10_.jpg\n",
      "\n",
      "image 1/1 c:\\Users\\mini7\\Desktop\\Master\\Materias\\TFM\\Laura\\2025_MURIA_Aitor Garca Blanco\\04.Codigo\\..\\03.Datasets\\Evaluacion_Empresa\\TEST 4\\INPUT_TEST 4\\9-10.jpg: 576x704 46 cells, 14.5ms\n",
      "Speed: 2.7ms preprocess, 14.5ms inference, 2.1ms postprocess per image at shape (1, 3, 576, 704)\n",
      "Procesando: 9-11.jpg\n",
      "Advertencia: No se encontró la imagen de referencia 9-11_.jpg\n",
      "\n",
      "image 1/1 c:\\Users\\mini7\\Desktop\\Master\\Materias\\TFM\\Laura\\2025_MURIA_Aitor Garca Blanco\\04.Codigo\\..\\03.Datasets\\Evaluacion_Empresa\\TEST 4\\INPUT_TEST 4\\9-11.jpg: 576x704 74 cells, 13.7ms\n",
      "Speed: 2.3ms preprocess, 13.7ms inference, 1.6ms postprocess per image at shape (1, 3, 576, 704)\n",
      "Procesando: 9-12.jpg\n",
      "Advertencia: No se encontró la imagen de referencia 9-12_.jpg\n",
      "\n",
      "image 1/1 c:\\Users\\mini7\\Desktop\\Master\\Materias\\TFM\\Laura\\2025_MURIA_Aitor Garca Blanco\\04.Codigo\\..\\03.Datasets\\Evaluacion_Empresa\\TEST 4\\INPUT_TEST 4\\9-12.jpg: 576x704 54 cells, 21.3ms\n",
      "Speed: 2.8ms preprocess, 21.3ms inference, 3.3ms postprocess per image at shape (1, 3, 576, 704)\n",
      "Procesando: 9-13.jpg\n",
      "Advertencia: No se encontró la imagen de referencia 9-13_.jpg\n",
      "\n",
      "image 1/1 c:\\Users\\mini7\\Desktop\\Master\\Materias\\TFM\\Laura\\2025_MURIA_Aitor Garca Blanco\\04.Codigo\\..\\03.Datasets\\Evaluacion_Empresa\\TEST 4\\INPUT_TEST 4\\9-13.jpg: 576x704 38 cells, 13.6ms\n",
      "Speed: 2.3ms preprocess, 13.6ms inference, 1.5ms postprocess per image at shape (1, 3, 576, 704)\n",
      "Procesando: 9-14.jpg\n",
      "Advertencia: No se encontró la imagen de referencia 9-14_.jpg\n",
      "\n",
      "image 1/1 c:\\Users\\mini7\\Desktop\\Master\\Materias\\TFM\\Laura\\2025_MURIA_Aitor Garca Blanco\\04.Codigo\\..\\03.Datasets\\Evaluacion_Empresa\\TEST 4\\INPUT_TEST 4\\9-14.jpg: 576x704 42 cells, 13.6ms\n",
      "Speed: 2.4ms preprocess, 13.6ms inference, 1.6ms postprocess per image at shape (1, 3, 576, 704)\n",
      "Procesando: 9-15.jpg\n",
      "Advertencia: No se encontró la imagen de referencia 9-15_.jpg\n",
      "\n",
      "image 1/1 c:\\Users\\mini7\\Desktop\\Master\\Materias\\TFM\\Laura\\2025_MURIA_Aitor Garca Blanco\\04.Codigo\\..\\03.Datasets\\Evaluacion_Empresa\\TEST 4\\INPUT_TEST 4\\9-15.jpg: 576x704 44 cells, 13.6ms\n",
      "Speed: 2.4ms preprocess, 13.6ms inference, 1.6ms postprocess per image at shape (1, 3, 576, 704)\n",
      "Procesando: 9-16.jpg\n",
      "Advertencia: No se encontró la imagen de referencia 9-16_.jpg\n",
      "\n",
      "image 1/1 c:\\Users\\mini7\\Desktop\\Master\\Materias\\TFM\\Laura\\2025_MURIA_Aitor Garca Blanco\\04.Codigo\\..\\03.Datasets\\Evaluacion_Empresa\\TEST 4\\INPUT_TEST 4\\9-16.jpg: 576x704 61 cells, 13.7ms\n",
      "Speed: 2.3ms preprocess, 13.7ms inference, 1.5ms postprocess per image at shape (1, 3, 576, 704)\n",
      "Procesando: 9-17.jpg\n",
      "Advertencia: No se encontró la imagen de referencia 9-17_.jpg\n",
      "\n",
      "image 1/1 c:\\Users\\mini7\\Desktop\\Master\\Materias\\TFM\\Laura\\2025_MURIA_Aitor Garca Blanco\\04.Codigo\\..\\03.Datasets\\Evaluacion_Empresa\\TEST 4\\INPUT_TEST 4\\9-17.jpg: 576x704 54 cells, 13.7ms\n",
      "Speed: 2.4ms preprocess, 13.7ms inference, 1.6ms postprocess per image at shape (1, 3, 576, 704)\n",
      "Procesando: 9-18.jpg\n",
      "Advertencia: No se encontró la imagen de referencia 9-18_.jpg\n",
      "\n",
      "image 1/1 c:\\Users\\mini7\\Desktop\\Master\\Materias\\TFM\\Laura\\2025_MURIA_Aitor Garca Blanco\\04.Codigo\\..\\03.Datasets\\Evaluacion_Empresa\\TEST 4\\INPUT_TEST 4\\9-18.jpg: 576x704 64 cells, 13.7ms\n",
      "Speed: 2.3ms preprocess, 13.7ms inference, 1.6ms postprocess per image at shape (1, 3, 576, 704)\n",
      "Procesando: 9-19.jpg\n",
      "Advertencia: No se encontró la imagen de referencia 9-19_.jpg\n",
      "\n",
      "image 1/1 c:\\Users\\mini7\\Desktop\\Master\\Materias\\TFM\\Laura\\2025_MURIA_Aitor Garca Blanco\\04.Codigo\\..\\03.Datasets\\Evaluacion_Empresa\\TEST 4\\INPUT_TEST 4\\9-19.jpg: 576x704 42 cells, 13.8ms\n",
      "Speed: 2.4ms preprocess, 13.8ms inference, 1.5ms postprocess per image at shape (1, 3, 576, 704)\n",
      "Procesando: 9-20.jpg\n",
      "Advertencia: No se encontró la imagen de referencia 9-20_.jpg\n",
      "\n",
      "image 1/1 c:\\Users\\mini7\\Desktop\\Master\\Materias\\TFM\\Laura\\2025_MURIA_Aitor Garca Blanco\\04.Codigo\\..\\03.Datasets\\Evaluacion_Empresa\\TEST 4\\INPUT_TEST 4\\9-20.jpg: 576x704 60 cells, 21.4ms\n",
      "Speed: 2.5ms preprocess, 21.4ms inference, 5.0ms postprocess per image at shape (1, 3, 576, 704)\n",
      "Procesando: 9-21.jpg\n",
      "Advertencia: No se encontró la imagen de referencia 9-21_.jpg\n",
      "\n",
      "image 1/1 c:\\Users\\mini7\\Desktop\\Master\\Materias\\TFM\\Laura\\2025_MURIA_Aitor Garca Blanco\\04.Codigo\\..\\03.Datasets\\Evaluacion_Empresa\\TEST 4\\INPUT_TEST 4\\9-21.jpg: 576x704 57 cells, 13.7ms\n",
      "Speed: 2.8ms preprocess, 13.7ms inference, 1.6ms postprocess per image at shape (1, 3, 576, 704)\n",
      "Procesando: 9-22.jpg\n",
      "Advertencia: No se encontró la imagen de referencia 9-22_.jpg\n",
      "\n",
      "image 1/1 c:\\Users\\mini7\\Desktop\\Master\\Materias\\TFM\\Laura\\2025_MURIA_Aitor Garca Blanco\\04.Codigo\\..\\03.Datasets\\Evaluacion_Empresa\\TEST 4\\INPUT_TEST 4\\9-22.jpg: 576x704 61 cells, 13.7ms\n",
      "Speed: 2.5ms preprocess, 13.7ms inference, 1.5ms postprocess per image at shape (1, 3, 576, 704)\n",
      "Procesando: 9-23.jpg\n",
      "Advertencia: No se encontró la imagen de referencia 9-23_.jpg\n",
      "\n",
      "image 1/1 c:\\Users\\mini7\\Desktop\\Master\\Materias\\TFM\\Laura\\2025_MURIA_Aitor Garca Blanco\\04.Codigo\\..\\03.Datasets\\Evaluacion_Empresa\\TEST 4\\INPUT_TEST 4\\9-23.jpg: 576x704 71 cells, 13.6ms\n",
      "Speed: 2.3ms preprocess, 13.6ms inference, 1.6ms postprocess per image at shape (1, 3, 576, 704)\n",
      "Procesando: 9-24.jpg\n",
      "Advertencia: No se encontró la imagen de referencia 9-24_.jpg\n",
      "\n",
      "image 1/1 c:\\Users\\mini7\\Desktop\\Master\\Materias\\TFM\\Laura\\2025_MURIA_Aitor Garca Blanco\\04.Codigo\\..\\03.Datasets\\Evaluacion_Empresa\\TEST 4\\INPUT_TEST 4\\9-24.jpg: 576x704 42 cells, 13.7ms\n",
      "Speed: 2.3ms preprocess, 13.7ms inference, 1.6ms postprocess per image at shape (1, 3, 576, 704)\n",
      "Procesando: 9-25.jpg\n",
      "Advertencia: No se encontró la imagen de referencia 9-25_.jpg\n",
      "\n",
      "image 1/1 c:\\Users\\mini7\\Desktop\\Master\\Materias\\TFM\\Laura\\2025_MURIA_Aitor Garca Blanco\\04.Codigo\\..\\03.Datasets\\Evaluacion_Empresa\\TEST 4\\INPUT_TEST 4\\9-25.jpg: 576x704 53 cells, 13.7ms\n",
      "Speed: 2.5ms preprocess, 13.7ms inference, 1.5ms postprocess per image at shape (1, 3, 576, 704)\n",
      "Procesando: 9-26.jpg\n",
      "Advertencia: No se encontró la imagen de referencia 9-26_.jpg\n",
      "\n",
      "image 1/1 c:\\Users\\mini7\\Desktop\\Master\\Materias\\TFM\\Laura\\2025_MURIA_Aitor Garca Blanco\\04.Codigo\\..\\03.Datasets\\Evaluacion_Empresa\\TEST 4\\INPUT_TEST 4\\9-26.jpg: 576x704 54 cells, 20.7ms\n",
      "Speed: 2.8ms preprocess, 20.7ms inference, 3.3ms postprocess per image at shape (1, 3, 576, 704)\n",
      "Procesando: 9-27.jpg\n",
      "Advertencia: No se encontró la imagen de referencia 9-27_.jpg\n",
      "\n",
      "image 1/1 c:\\Users\\mini7\\Desktop\\Master\\Materias\\TFM\\Laura\\2025_MURIA_Aitor Garca Blanco\\04.Codigo\\..\\03.Datasets\\Evaluacion_Empresa\\TEST 4\\INPUT_TEST 4\\9-27.jpg: 576x704 55 cells, 24.0ms\n",
      "Speed: 3.0ms preprocess, 24.0ms inference, 1.8ms postprocess per image at shape (1, 3, 576, 704)\n",
      "Procesando: 9-28.jpg\n",
      "Advertencia: No se encontró la imagen de referencia 9-28_.jpg\n",
      "\n",
      "image 1/1 c:\\Users\\mini7\\Desktop\\Master\\Materias\\TFM\\Laura\\2025_MURIA_Aitor Garca Blanco\\04.Codigo\\..\\03.Datasets\\Evaluacion_Empresa\\TEST 4\\INPUT_TEST 4\\9-28.jpg: 576x704 55 cells, 13.7ms\n",
      "Speed: 2.4ms preprocess, 13.7ms inference, 1.6ms postprocess per image at shape (1, 3, 576, 704)\n",
      "Procesando: 9-29.jpg\n",
      "Advertencia: No se encontró la imagen de referencia 9-29_.jpg\n",
      "\n",
      "image 1/1 c:\\Users\\mini7\\Desktop\\Master\\Materias\\TFM\\Laura\\2025_MURIA_Aitor Garca Blanco\\04.Codigo\\..\\03.Datasets\\Evaluacion_Empresa\\TEST 4\\INPUT_TEST 4\\9-29.jpg: 576x704 56 cells, 13.7ms\n",
      "Speed: 2.4ms preprocess, 13.7ms inference, 1.6ms postprocess per image at shape (1, 3, 576, 704)\n",
      "Procesando: 9-30.jpg\n",
      "Advertencia: No se encontró la imagen de referencia 9-30_.jpg\n",
      "\n",
      "image 1/1 c:\\Users\\mini7\\Desktop\\Master\\Materias\\TFM\\Laura\\2025_MURIA_Aitor Garca Blanco\\04.Codigo\\..\\03.Datasets\\Evaluacion_Empresa\\TEST 4\\INPUT_TEST 4\\9-30.jpg: 576x704 51 cells, 13.7ms\n",
      "Speed: 2.9ms preprocess, 13.7ms inference, 1.5ms postprocess per image at shape (1, 3, 576, 704)\n",
      "Procesamiento completado. Resultados guardados en ..\\03.Datasets\\Evaluacion_Empresa\\TEST 4\\YOLO_NEW\n"
     ]
    }
   ],
   "source": [
    "modelo_path = '.\\\\runs\\\\detect\\\\final_model_optunav11s2\\\\weights\\\\best.pt'\n",
    "\n",
    "# DEFAULT dataset\n",
    "process_images(\n",
    "    \"..\\\\03.Datasets\\\\Evaluacion_Empresa\\\\DEFAULT\\\\INPUT DEFAULT\",\n",
    "    \"..\\\\03.Datasets\\\\Evaluacion_Empresa\\\\DEFAULT\\\\OUTPUT_edited\",\n",
    "    \"..\\\\03.Datasets\\\\Evaluacion_Empresa\\\\DEFAULT\\\\YOLO_NEW\",\n",
    "    modelo_path\n",
    ")\n",
    "\n",
    "# TEST 2\n",
    "process_images(\n",
    "    \"..\\\\03.Datasets\\\\Evaluacion_Empresa\\\\TEST 2\\\\INPUT TEST_2\",\n",
    "    \"..\\\\03.Datasets\\\\Evaluacion_Empresa\\\\TEST 2\\\\OUTPUT_TEST 2_edited\",\n",
    "    \"..\\\\03.Datasets\\\\Evaluacion_Empresa\\\\TEST 2\\\\YOLO_NEW\",\n",
    "    modelo_path\n",
    ")\n",
    "\n",
    "# TEST 3\n",
    "process_images(\n",
    "    \"..\\\\03.Datasets\\\\Evaluacion_Empresa\\\\TEST 3\\\\INPUT_TEST 3\",\n",
    "    \"..\\\\03.Datasets\\\\Evaluacion_Empresa\\\\TEST 3\\\\OUTPUT_TEST 3_edited\",\n",
    "    \"..\\\\03.Datasets\\\\Evaluacion_Empresa\\\\TEST 3\\\\YOLO_NEW\",\n",
    "    modelo_path\n",
    ")\n",
    "\n",
    "# TEST 4\n",
    "process_images(\n",
    "    \"..\\\\03.Datasets\\\\Evaluacion_Empresa\\\\TEST 4\\\\INPUT_TEST 4\",\n",
    "    \"..\\\\03.Datasets\\\\Evaluacion_Empresa\\\\TEST 4\\\\OUTPUT_TEST 4_edited\",\n",
    "    \"..\\\\03.Datasets\\\\Evaluacion_Empresa\\\\TEST 4\\\\YOLO_NEW\",\n",
    "    modelo_path\n",
    ")"
   ]
  },
  {
   "cell_type": "markdown",
   "metadata": {},
   "source": [
    "Añadir metricas de IOU, accuracy, etc"
   ]
  },
  {
   "cell_type": "markdown",
   "metadata": {},
   "source": [
    "Usar optuna en lugar de grid search u random search"
   ]
  },
  {
   "cell_type": "markdown",
   "metadata": {},
   "source": [
    "añadir kfold y una función general que importe con un import para generar una carpeta con los resultados de la evaluación de cada imagen del test/defalut/eval_empresa "
   ]
  },
  {
   "cell_type": "markdown",
   "metadata": {},
   "source": [
    "Probar a entrenar Yolo con capas de atención y mucho más personalizados algunos modelos."
   ]
  },
  {
   "cell_type": "markdown",
   "metadata": {},
   "source": [
    "pODEMOS AÑADIR UN ENTORNO WEB DONDE ADJUNTAMOS LA IMAGEN Y SE MUESTRA EL RESULTADO DE LAS DIFERENTES PREDICCIONES."
   ]
  },
  {
   "cell_type": "markdown",
   "metadata": {},
   "source": [
    " hacer RFHF con yolo?"
   ]
  },
  {
   "cell_type": "markdown",
   "metadata": {},
   "source": [
    "## **Conclusión**"
   ]
  },
  {
   "cell_type": "markdown",
   "metadata": {},
   "source": [
    "## **Comentarios reunión semanal**"
   ]
  },
  {
   "cell_type": "markdown",
   "metadata": {},
   "source": [
    "Para el power point usar el mes gratis de copilot, así lo redacto mejor y más rápido la presentación"
   ]
  },
  {
   "cell_type": "markdown",
   "metadata": {},
   "source": [
    "\"no es posible distinguir entre leucocitos y células germinales inmaduras con un alto grado de certeza (2)\" https://pmc.ncbi.nlm.nih.gov/articles/PMC8915675/"
   ]
  },
  {
   "cell_type": "markdown",
   "metadata": {},
   "source": [
    "Quiero probar este modelo: https://github.com/Peterande/D-FINE?tab=readme-ov-file"
   ]
  }
 ],
 "metadata": {
  "kernelspec": {
   "display_name": "TFM",
   "language": "python",
   "name": "python3"
  },
  "language_info": {
   "codemirror_mode": {
    "name": "ipython",
    "version": 3
   },
   "file_extension": ".py",
   "mimetype": "text/x-python",
   "name": "python",
   "nbconvert_exporter": "python",
   "pygments_lexer": "ipython3",
   "version": "3.11.11"
  }
 },
 "nbformat": 4,
 "nbformat_minor": 2
}
