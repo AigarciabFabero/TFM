{
 "cells": [
  {
   "cell_type": "markdown",
   "metadata": {},
   "source": [
    "# <span style=\"color:turquoise\">**Detección de células redondas utilizando Yolo**</span>"
   ]
  },
  {
   "cell_type": "markdown",
   "metadata": {},
   "source": [
    "## **Hardware**"
   ]
  },
  {
   "cell_type": "markdown",
   "metadata": {},
   "source": [
    "**PC** Lenovo Idealpad Gaming3\n",
    "\n",
    "**Procesador** AMD Ryzen 5 5600H with Radeon Graphics 3.3 GHz\n",
    "\n",
    "\tVelocidad de base:\t3,30 GHz\n",
    "\tSockets:\t1\n",
    "\tNúcleos:\t6\n",
    "\tProcesadores lógicos:\t12\n",
    "\tVirtualización:\tHabilitado\n",
    "\tCaché L1:\t384 kB\n",
    "\tCaché L2:\t3,0 MB\n",
    "\tCaché L3:\t16,0 MB\n",
    "\n",
    "**Gráficos dedicados** NVIDIA GeForce RTX 3050 Laptop \n",
    "\n",
    "\tVersión del controlador:\t31.0.15.5176\n",
    "\tFecha del controlador:\t01/03/2024\n",
    "\tVersión de DirectX:\t12 (FL 12.1)\n",
    "\tMemoria de GPU dedicada\t4,0 GB\n",
    "\tMemoria de GPU compartida\t7,7 GB\n",
    "\tMemoria de GPU\t11,7 GB\n",
    "\t\n",
    "**RAM** 16 GB SODIMM DDR4 \n",
    "\n",
    "\tVelocidad:\t3200 MHz\n",
    "\tRanuras usadas:\t2 de 2\n",
    "\tFactor de forma:\tSODIMM\n",
    "\n",
    "**Memoria estado sólido** SSD 512 GB 2210 NVMe PCIe Gen3 x4  Micron MTFDHBA512QFD\n",
    "\n",
    "**Google Colab** \n",
    "\t12.7 GB RAM, 15 GB RAM GPU Tesla T4, SSD 78.2 GB"
   ]
  },
  {
   "cell_type": "code",
   "execution_count": 1,
   "metadata": {},
   "outputs": [
    {
     "name": "stdout",
     "output_type": "stream",
     "text": [
      "Fri Jul 18 00:22:40 2025       \n",
      "+-----------------------------------------------------------------------------------------+\n",
      "| NVIDIA-SMI 576.02                 Driver Version: 576.02         CUDA Version: 12.9     |\n",
      "|-----------------------------------------+------------------------+----------------------+\n",
      "| GPU  Name                  Driver-Model | Bus-Id          Disp.A | Volatile Uncorr. ECC |\n",
      "| Fan  Temp   Perf          Pwr:Usage/Cap |           Memory-Usage | GPU-Util  Compute M. |\n",
      "|                                         |                        |               MIG M. |\n",
      "|=========================================+========================+======================|\n",
      "|   0  NVIDIA GeForce RTX 3050 ...  WDDM  |   00000000:01:00.0 Off |                  N/A |\n",
      "| N/A   44C    P8              6W /   60W |     555MiB /   4096MiB |      0%      Default |\n",
      "|                                         |                        |                  N/A |\n",
      "+-----------------------------------------+------------------------+----------------------+\n",
      "                                                                                         \n",
      "+-----------------------------------------------------------------------------------------+\n",
      "| Processes:                                                                              |\n",
      "|  GPU   GI   CI              PID   Type   Process name                        GPU Memory |\n",
      "|        ID   ID                                                               Usage      |\n",
      "|=========================================================================================|\n",
      "|    0   N/A  N/A            1844    C+G   ...ms\\Microsoft VS Code\\Code.exe      N/A      |\n",
      "+-----------------------------------------------------------------------------------------+\n"
     ]
    }
   ],
   "source": [
    "!nvidia-smi"
   ]
  },
  {
   "cell_type": "markdown",
   "metadata": {},
   "source": [
    "## **Introducción**"
   ]
  },
  {
   "cell_type": "markdown",
   "metadata": {},
   "source": [
    "En este TFM se pretende realizar un estudio del arte y entrenamiento de diferentes modelos (YOLO, Fast-RCNN, propio) para la detección de células y artefactos en imágenes médicas. Para esto, se aplican técnicas de visión por computador y aprendizaje profundo. Además, se realizará un exahustiva revisión de la bibliografía existente, mejora del dataset y análisis estadistico fundamentado en las diferentes métricas."
   ]
  },
  {
   "cell_type": "markdown",
   "metadata": {},
   "source": [
    "## **Dependencias**"
   ]
  },
  {
   "cell_type": "code",
   "execution_count": 1,
   "metadata": {},
   "outputs": [],
   "source": [
    "import cv2\n",
    "import os\n",
    "import pandas as pd\n",
    "import matplotlib.pyplot as plt\n",
    "import json\n",
    "\n",
    "import torch\n",
    "from ultralytics import YOLO"
   ]
  },
  {
   "cell_type": "markdown",
   "metadata": {},
   "source": [
    "## **Entrenamineto de los modelos YOLOv11 y YOLOv12**"
   ]
  },
  {
   "cell_type": "code",
   "execution_count": 2,
   "metadata": {},
   "outputs": [
    {
     "name": "stdout",
     "output_type": "stream",
     "text": [
      "PyTorch ha sido importado con éxito.\n",
      "Versión de PyTorch: 2.6.0+cu126\n",
      "¿CUDA está disponible? True\n",
      "Versión de CUDA: 12.6\n",
      "Dispositivo CUDA: NVIDIA GeForce RTX 3050 Laptop GPU\n"
     ]
    }
   ],
   "source": [
    "print(\"PyTorch ha sido importado con éxito.\")\n",
    "print(f\"Versión de PyTorch: {torch.__version__}\")\n",
    "print(f\"¿CUDA está disponible? {torch.cuda.is_available()}\")\n",
    "print(f\"Versión de CUDA: {torch.version.cuda}\")\n",
    "print(f\"Dispositivo CUDA: {torch.cuda.get_device_name(0)}\")"
   ]
  },
  {
   "cell_type": "code",
   "execution_count": 7,
   "metadata": {},
   "outputs": [],
   "source": [
    "# %pip install ultralytics"
   ]
  },
  {
   "cell_type": "markdown",
   "metadata": {},
   "source": [
    "------------------------------------------------------------------------------------"
   ]
  },
  {
   "cell_type": "code",
   "execution_count": null,
   "metadata": {},
   "outputs": [],
   "source": [
    "# !pip install optuna"
   ]
  },
  {
   "cell_type": "code",
   "execution_count": 3,
   "metadata": {},
   "outputs": [
    {
     "name": "stderr",
     "output_type": "stream",
     "text": [
      "c:\\Users\\mini7\\miniconda3\\envs\\TFM\\Lib\\site-packages\\tqdm\\auto.py:21: TqdmWarning: IProgress not found. Please update jupyter and ipywidgets. See https://ipywidgets.readthedocs.io/en/stable/user_install.html\n",
      "  from .autonotebook import tqdm as notebook_tqdm\n"
     ]
    }
   ],
   "source": [
    "import optuna\n",
    "\n",
    "def objective(trial):\n",
    "    params = {\n",
    "        # 🎯 OPTIMIZACIÓN\n",
    "        'lr0': trial.suggest_float('lr0', 0.0001, 0.01, log=True),\n",
    "        'lrf': trial.suggest_float('lrf', 0.001, 0.01, log=True),\n",
    "        'momentum': trial.suggest_float('momentum', 0.8, 0.95),\n",
    "        'weight_decay': trial.suggest_float('weight_decay', 0.0001, 0.001, log=True), # YOLO solo tiene regulación L2\n",
    "        'optimizer': trial.suggest_categorical('optimizer', ['SGD', 'Adam', 'AdamW']),\n",
    "\n",
    "        'warmup_epochs': 5,\n",
    "        'warmup_momentum': 0.75,\n",
    "\n",
    "        # 📐 AUGMENTACIÓN GEOMÉTRICA\n",
    "        'degrees': 45,\n",
    "        'translate': 0.1,\n",
    "        'flipud': 0.5,\n",
    "        'fliplr': 0.5,\n",
    "        'mosaic': 0,\n",
    "        'close_mosaic': 0,\n",
    "        # Interesantes: 'label_smoothing', 'mixup', 'cutmix'\n",
    "\n",
    "        # ⚖️ PÉRDIDAS\n",
    "        # 'box': trial.suggest_float('box', 0.02, 0.2),\n",
    "        # 'cls': trial.suggest_float('cls', 0.2, 4.0),\n",
    "        # 'dfl': trial.suggest_float('dfl', 0.5, 3.0),\n",
    "    }\n",
    "\n",
    "    trial_name = f\"optuna_trial_{trial.number}\"\n",
    "\n",
    "    try:\n",
    "        model = YOLO(\"yolo_models/yolo12m.pt\")\n",
    "        results = model.train(\n",
    "            data=\"cells.yaml\",\n",
    "            epochs=25,\n",
    "            imgsz=704,\n",
    "            batch=4,\n",
    "            name=trial_name,\n",
    "            save=False,\n",
    "            verbose=False,\n",
    "            **params\n",
    "        )\n",
    "        metrics = results.results_dict\n",
    "        return metrics.get('metrics/mAP50-95(B)', 0.0)\n",
    "    except Exception as e:\n",
    "        print(f\"Error en trial {trial.number}: {str(e)}\")\n",
    "        return 0.0"
   ]
  },
  {
   "cell_type": "code",
   "execution_count": null,
   "metadata": {},
   "outputs": [],
   "source": [
    "os.environ[\"KMP_DUPLICATE_LIB_OK\"] = \"TRUE\"\n",
    "\n",
    "study_name = \"pruebav12m\"\n",
    "n_trials = 8\n",
    "storage_name = f\"sqlite:///optuna/optuna_studies/{study_name}.db\"\n",
    "\n",
    "study = optuna.create_study(\n",
    "    direction=\"maximize\",  # Maximizar mAP\n",
    "    study_name=study_name,\n",
    "    storage=storage_name,\n",
    "    load_if_exists=True,\n",
    "    sampler=optuna.samplers.TPESampler(seed=42)  # Usar TPE sampler para mejor eficiencia\n",
    ")\n",
    "\n",
    "# Ejecutar optimización\n",
    "study.optimize(objective, n_trials=n_trials, timeout=None)\n",
    "\n",
    "# Mostrar resultados\n",
    "print(\"Número de trials completados:\", len(study.trials))\n",
    "print(\"Mejor trial:\")\n",
    "trial = study.best_trial\n",
    "print(f\"  Valor: {trial.value}\")\n",
    "print(\"  Parámetros:\")\n",
    "for key, value in trial.params.items():\n",
    "    print(f\"    {key}: {value}\")\n",
    "\n",
    "# Guardar mejores parámetros\n",
    "best_params_path = f\"optuna/optuna_studies/{study_name}_best_params.json\"\n",
    "with open(best_params_path, 'w') as f:\n",
    "    json.dump(trial.params, f, indent=2)\n",
    "\n",
    "print(f\"Mejores parámetros guardados en: {best_params_path}\")"
   ]
  },
  {
   "cell_type": "code",
   "execution_count": null,
   "metadata": {},
   "outputs": [
    {
     "name": "stdout",
     "output_type": "stream",
     "text": [
      "Entrenando modelo final con mejores parámetros...\n",
      "Parámetros:\n",
      "  lr0: 0.00023426581058204064\n",
      "  lrf: 0.009323621351781481\n",
      "  momentum: 0.9162699235041671\n",
      "  weight_decay: 0.0008699593128513321\n",
      "  optimizer: AdamW\n",
      "New https://pypi.org/project/ultralytics/8.3.163 available  Update with 'pip install -U ultralytics'\n",
      "Ultralytics 8.3.81  Python-3.11.11 torch-2.6.0+cu126 CUDA:0 (NVIDIA GeForce RTX 3050 Laptop GPU, 4096MiB)\n",
      "\u001b[34m\u001b[1mengine\\trainer: \u001b[0mtask=detect, mode=train, model=yolo_models/yolo12s.pt, data=cells.yaml, epochs=60, time=None, patience=100, batch=8, imgsz=704, save=True, save_period=-1, cache=False, device=None, workers=8, project=None, name=final_model_optunav12s, exist_ok=False, pretrained=True, optimizer=AdamW, verbose=True, seed=0, deterministic=True, single_cls=False, rect=False, cos_lr=False, close_mosaic=10, resume=False, amp=True, fraction=1.0, profile=False, freeze=None, multi_scale=False, overlap_mask=True, mask_ratio=4, dropout=0.0, val=True, split=val, save_json=False, save_hybrid=False, conf=None, iou=0.7, max_det=300, half=False, dnn=False, plots=True, source=None, vid_stride=1, stream_buffer=False, visualize=False, augment=False, agnostic_nms=False, classes=None, retina_masks=False, embed=None, show=False, save_frames=False, save_txt=False, save_conf=False, save_crop=False, show_labels=True, show_conf=True, show_boxes=True, line_width=None, format=torchscript, keras=False, optimize=False, int8=False, dynamic=False, simplify=True, opset=None, workspace=None, nms=False, lr0=0.00023426581058204064, lrf=0.009323621351781481, momentum=0.9162699235041671, weight_decay=0.0008699593128513321, warmup_epochs=3.0, warmup_momentum=0.8, warmup_bias_lr=0.1, box=7.5, cls=0.5, dfl=1.5, pose=12.0, kobj=1.0, nbs=64, hsv_h=0.015, hsv_s=0.7, hsv_v=0.4, degrees=0.0, translate=0.1, scale=0.5, shear=0.0, perspective=0.0, flipud=0.0, fliplr=0.5, bgr=0.0, mosaic=1.0, mixup=0.0, copy_paste=0.0, copy_paste_mode=flip, auto_augment=randaugment, erasing=0.4, crop_fraction=1.0, cfg=None, tracker=botsort.yaml, save_dir=runs\\detect\\final_model_optunav12s\n",
      "Overriding model.yaml nc=80 with nc=1\n",
      "\n",
      "                   from  n    params  module                                       arguments                     \n",
      "  0                  -1  1       928  ultralytics.nn.modules.conv.Conv             [3, 32, 3, 2]                 \n",
      "  1                  -1  1     18560  ultralytics.nn.modules.conv.Conv             [32, 64, 3, 2]                \n",
      "  2                  -1  1     26080  ultralytics.nn.modules.block.C3k2            [64, 128, 1, False, 0.25]     \n",
      "  3                  -1  1    147712  ultralytics.nn.modules.conv.Conv             [128, 128, 3, 2]              \n",
      "  4                  -1  1    103360  ultralytics.nn.modules.block.C3k2            [128, 256, 1, False, 0.25]    \n",
      "  5                  -1  1    590336  ultralytics.nn.modules.conv.Conv             [256, 256, 3, 2]              \n",
      "  6                  -1  2    689408  ultralytics.nn.modules.block.A2C2f           [256, 256, 2, True, 4]        \n",
      "  7                  -1  1   1180672  ultralytics.nn.modules.conv.Conv             [256, 512, 3, 2]              \n",
      "  8                  -1  2   2689536  ultralytics.nn.modules.block.A2C2f           [512, 512, 2, True, 1]        \n",
      "  9                  -1  1         0  torch.nn.modules.upsampling.Upsample         [None, 2, 'nearest']          \n",
      " 10             [-1, 6]  1         0  ultralytics.nn.modules.conv.Concat           [1]                           \n",
      " 11                  -1  1    345856  ultralytics.nn.modules.block.A2C2f           [768, 256, 1, False, -1]      \n",
      " 12                  -1  1         0  torch.nn.modules.upsampling.Upsample         [None, 2, 'nearest']          \n",
      " 13             [-1, 4]  1         0  ultralytics.nn.modules.conv.Concat           [1]                           \n",
      " 14                  -1  1     95104  ultralytics.nn.modules.block.A2C2f           [512, 128, 1, False, -1]      \n",
      " 15                  -1  1    147712  ultralytics.nn.modules.conv.Conv             [128, 128, 3, 2]              \n",
      " 16            [-1, 11]  1         0  ultralytics.nn.modules.conv.Concat           [1]                           \n",
      " 17                  -1  1    296704  ultralytics.nn.modules.block.A2C2f           [384, 256, 1, False, -1]      \n",
      " 18                  -1  1    590336  ultralytics.nn.modules.conv.Conv             [256, 256, 3, 2]              \n",
      " 19             [-1, 8]  1         0  ultralytics.nn.modules.conv.Concat           [1]                           \n",
      " 20                  -1  1   1511424  ultralytics.nn.modules.block.C3k2            [768, 512, 1, True]           \n",
      " 21        [14, 17, 20]  1    819795  ultralytics.nn.modules.head.Detect           [1, [128, 256, 512]]          \n",
      "YOLOv12s summary: 272 layers, 9,253,523 parameters, 9,253,507 gradients, 21.5 GFLOPs\n",
      "\n",
      "Transferred 685/691 items from pretrained weights\n",
      "Freezing layer 'model.21.dfl.conv.weight'\n",
      "\u001b[34m\u001b[1mAMP: \u001b[0mrunning Automatic Mixed Precision (AMP) checks...\n",
      "\u001b[34m\u001b[1mAMP: \u001b[0mchecks passed \n"
     ]
    },
    {
     "name": "stderr",
     "output_type": "stream",
     "text": [
      "\u001b[34m\u001b[1mtrain: \u001b[0mScanning C:\\Users\\mini7\\Desktop\\Master\\Materias\\TFM\\Laura\\2025_MURIA_Aitor García Blanco\\03.Datasets\\YOLO_Datasets\\split\\train\\labels.cache... 336 images, 0 backgrounds, 0 corrupt: 100%|██████████| 336/336 [00:00<?, ?it/s]\n",
      "\u001b[34m\u001b[1mval: \u001b[0mScanning C:\\Users\\mini7\\Desktop\\Master\\Materias\\TFM\\Laura\\2025_MURIA_Aitor García Blanco\\03.Datasets\\YOLO_Datasets\\split\\val\\labels.cache... 95 images, 0 backgrounds, 0 corrupt: 100%|██████████| 95/95 [00:00<?, ?it/s]\n"
     ]
    },
    {
     "name": "stdout",
     "output_type": "stream",
     "text": [
      "Plotting labels to runs\\detect\\final_model_optunav12s\\labels.jpg... \n",
      "\u001b[34m\u001b[1moptimizer:\u001b[0m AdamW(lr=0.00023426581058204064, momentum=0.9162699235041671) with parameter groups 113 weight(decay=0.0), 120 weight(decay=0.0008699593128513321), 119 bias(decay=0.0)\n",
      "Image sizes 704 train, 704 val\n",
      "Using 8 dataloader workers\n",
      "Logging results to \u001b[1mruns\\detect\\final_model_optunav12s\u001b[0m\n",
      "Starting training for 60 epochs...\n",
      "\n",
      "      Epoch    GPU_mem   box_loss   cls_loss   dfl_loss  Instances       Size\n"
     ]
    },
    {
     "name": "stderr",
     "output_type": "stream",
     "text": [
      "       1/60      4.18G      2.103      2.803       1.07        325        704: 100%|██████████| 42/42 [01:02<00:00,  1.48s/it]\n",
      "                 Class     Images  Instances      Box(P          R      mAP50  mAP50-95): 100%|██████████| 6/6 [00:07<00:00,  1.17s/it]"
     ]
    },
    {
     "name": "stdout",
     "output_type": "stream",
     "text": [
      "                   all         95       1347      0.527      0.598      0.492      0.197\n"
     ]
    },
    {
     "name": "stderr",
     "output_type": "stream",
     "text": [
      "\n"
     ]
    },
    {
     "name": "stdout",
     "output_type": "stream",
     "text": [
      "\n",
      "      Epoch    GPU_mem   box_loss   cls_loss   dfl_loss  Instances       Size\n"
     ]
    },
    {
     "name": "stderr",
     "output_type": "stream",
     "text": [
      "       2/60         4G      1.398      1.025     0.8894        149        704: 100%|██████████| 42/42 [00:56<00:00,  1.34s/it]\n",
      "                 Class     Images  Instances      Box(P          R      mAP50  mAP50-95): 100%|██████████| 6/6 [00:07<00:00,  1.25s/it]"
     ]
    },
    {
     "name": "stdout",
     "output_type": "stream",
     "text": [
      "                   all         95       1347      0.771      0.797      0.822      0.513\n"
     ]
    },
    {
     "name": "stderr",
     "output_type": "stream",
     "text": [
      "\n"
     ]
    },
    {
     "name": "stdout",
     "output_type": "stream",
     "text": [
      "\n",
      "      Epoch    GPU_mem   box_loss   cls_loss   dfl_loss  Instances       Size\n"
     ]
    },
    {
     "name": "stderr",
     "output_type": "stream",
     "text": [
      "       3/60      4.13G      1.288     0.9873     0.8617        140        704: 100%|██████████| 42/42 [01:09<00:00,  1.66s/it]\n",
      "                 Class     Images  Instances      Box(P          R      mAP50  mAP50-95): 100%|██████████| 6/6 [00:03<00:00,  1.50it/s]"
     ]
    },
    {
     "name": "stdout",
     "output_type": "stream",
     "text": [
      "                   all         95       1347      0.765      0.813      0.847      0.608\n"
     ]
    },
    {
     "name": "stderr",
     "output_type": "stream",
     "text": [
      "\n"
     ]
    },
    {
     "name": "stdout",
     "output_type": "stream",
     "text": [
      "\n",
      "      Epoch    GPU_mem   box_loss   cls_loss   dfl_loss  Instances       Size\n"
     ]
    },
    {
     "name": "stderr",
     "output_type": "stream",
     "text": [
      "       4/60      4.22G      1.144     0.8813     0.8457        171        704: 100%|██████████| 42/42 [00:57<00:00,  1.37s/it]\n",
      "                 Class     Images  Instances      Box(P          R      mAP50  mAP50-95): 100%|██████████| 6/6 [00:03<00:00,  1.58it/s]"
     ]
    },
    {
     "name": "stdout",
     "output_type": "stream",
     "text": [
      "                   all         95       1347      0.804      0.814       0.87      0.627\n"
     ]
    },
    {
     "name": "stderr",
     "output_type": "stream",
     "text": [
      "\n"
     ]
    },
    {
     "name": "stdout",
     "output_type": "stream",
     "text": [
      "\n",
      "      Epoch    GPU_mem   box_loss   cls_loss   dfl_loss  Instances       Size\n"
     ]
    },
    {
     "name": "stderr",
     "output_type": "stream",
     "text": [
      "       5/60      4.02G      1.138     0.8411     0.8403        200        704: 100%|██████████| 42/42 [01:11<00:00,  1.71s/it]\n",
      "                 Class     Images  Instances      Box(P          R      mAP50  mAP50-95): 100%|██████████| 6/6 [00:04<00:00,  1.25it/s]"
     ]
    },
    {
     "name": "stdout",
     "output_type": "stream",
     "text": [
      "                   all         95       1347      0.785      0.832      0.854      0.638\n"
     ]
    },
    {
     "name": "stderr",
     "output_type": "stream",
     "text": [
      "\n"
     ]
    },
    {
     "name": "stdout",
     "output_type": "stream",
     "text": [
      "\n",
      "      Epoch    GPU_mem   box_loss   cls_loss   dfl_loss  Instances       Size\n"
     ]
    },
    {
     "name": "stderr",
     "output_type": "stream",
     "text": [
      "       6/60      3.98G      1.091     0.8289     0.8352        101        704: 100%|██████████| 42/42 [01:10<00:00,  1.68s/it]\n",
      "                 Class     Images  Instances      Box(P          R      mAP50  mAP50-95): 100%|██████████| 6/6 [00:03<00:00,  1.51it/s]"
     ]
    },
    {
     "name": "stdout",
     "output_type": "stream",
     "text": [
      "                   all         95       1347      0.824      0.846      0.891      0.669\n"
     ]
    },
    {
     "name": "stderr",
     "output_type": "stream",
     "text": [
      "\n"
     ]
    },
    {
     "name": "stdout",
     "output_type": "stream",
     "text": [
      "\n",
      "      Epoch    GPU_mem   box_loss   cls_loss   dfl_loss  Instances       Size\n"
     ]
    },
    {
     "name": "stderr",
     "output_type": "stream",
     "text": [
      "       7/60      4.01G      1.056     0.7531     0.8306        152        704: 100%|██████████| 42/42 [01:11<00:00,  1.71s/it]\n",
      "                 Class     Images  Instances      Box(P          R      mAP50  mAP50-95): 100%|██████████| 6/6 [00:03<00:00,  1.57it/s]"
     ]
    },
    {
     "name": "stdout",
     "output_type": "stream",
     "text": [
      "                   all         95       1347      0.815      0.827      0.885      0.669\n"
     ]
    },
    {
     "name": "stderr",
     "output_type": "stream",
     "text": [
      "\n"
     ]
    },
    {
     "name": "stdout",
     "output_type": "stream",
     "text": [
      "\n",
      "      Epoch    GPU_mem   box_loss   cls_loss   dfl_loss  Instances       Size\n"
     ]
    },
    {
     "name": "stderr",
     "output_type": "stream",
     "text": [
      "       8/60      4.03G      1.077     0.7946     0.8339        307        704: 100%|██████████| 42/42 [01:05<00:00,  1.56s/it]\n",
      "                 Class     Images  Instances      Box(P          R      mAP50  mAP50-95): 100%|██████████| 6/6 [00:04<00:00,  1.34it/s]"
     ]
    },
    {
     "name": "stdout",
     "output_type": "stream",
     "text": [
      "                   all         95       1347      0.814      0.836      0.887      0.664\n"
     ]
    },
    {
     "name": "stderr",
     "output_type": "stream",
     "text": [
      "\n"
     ]
    },
    {
     "name": "stdout",
     "output_type": "stream",
     "text": [
      "\n",
      "      Epoch    GPU_mem   box_loss   cls_loss   dfl_loss  Instances       Size\n"
     ]
    },
    {
     "name": "stderr",
     "output_type": "stream",
     "text": [
      "       9/60      4.11G      1.081      0.784     0.8306        181        704: 100%|██████████| 42/42 [01:21<00:00,  1.93s/it]\n",
      "                 Class     Images  Instances      Box(P          R      mAP50  mAP50-95): 100%|██████████| 6/6 [00:05<00:00,  1.09it/s]"
     ]
    },
    {
     "name": "stdout",
     "output_type": "stream",
     "text": [
      "                   all         95       1347      0.811      0.857      0.898      0.686\n"
     ]
    },
    {
     "name": "stderr",
     "output_type": "stream",
     "text": [
      "\n"
     ]
    },
    {
     "name": "stdout",
     "output_type": "stream",
     "text": [
      "\n",
      "      Epoch    GPU_mem   box_loss   cls_loss   dfl_loss  Instances       Size\n"
     ]
    },
    {
     "name": "stderr",
     "output_type": "stream",
     "text": [
      "      10/60         4G      1.062     0.7335     0.8343        128        704: 100%|██████████| 42/42 [00:50<00:00,  1.21s/it]\n",
      "                 Class     Images  Instances      Box(P          R      mAP50  mAP50-95): 100%|██████████| 6/6 [00:03<00:00,  1.57it/s]"
     ]
    },
    {
     "name": "stdout",
     "output_type": "stream",
     "text": [
      "                   all         95       1347      0.814      0.865      0.901      0.668\n"
     ]
    },
    {
     "name": "stderr",
     "output_type": "stream",
     "text": [
      "\n"
     ]
    },
    {
     "name": "stdout",
     "output_type": "stream",
     "text": [
      "\n",
      "      Epoch    GPU_mem   box_loss   cls_loss   dfl_loss  Instances       Size\n"
     ]
    },
    {
     "name": "stderr",
     "output_type": "stream",
     "text": [
      "      11/60      4.02G      1.033     0.7407      0.832        145        704: 100%|██████████| 42/42 [01:03<00:00,  1.52s/it]\n",
      "                 Class     Images  Instances      Box(P          R      mAP50  mAP50-95): 100%|██████████| 6/6 [00:04<00:00,  1.22it/s]"
     ]
    },
    {
     "name": "stdout",
     "output_type": "stream",
     "text": [
      "                   all         95       1347      0.838       0.84      0.896       0.69\n"
     ]
    },
    {
     "name": "stderr",
     "output_type": "stream",
     "text": [
      "\n"
     ]
    },
    {
     "name": "stdout",
     "output_type": "stream",
     "text": [
      "\n",
      "      Epoch    GPU_mem   box_loss   cls_loss   dfl_loss  Instances       Size\n"
     ]
    },
    {
     "name": "stderr",
     "output_type": "stream",
     "text": [
      "      12/60      4.26G     0.9938     0.7378     0.8275         92        704: 100%|██████████| 42/42 [01:02<00:00,  1.48s/it]\n",
      "                 Class     Images  Instances      Box(P          R      mAP50  mAP50-95): 100%|██████████| 6/6 [00:02<00:00,  2.59it/s]"
     ]
    },
    {
     "name": "stdout",
     "output_type": "stream",
     "text": [
      "                   all         95       1347      0.813       0.85      0.894      0.658\n"
     ]
    },
    {
     "name": "stderr",
     "output_type": "stream",
     "text": [
      "\n"
     ]
    },
    {
     "name": "stdout",
     "output_type": "stream",
     "text": [
      "\n",
      "      Epoch    GPU_mem   box_loss   cls_loss   dfl_loss  Instances       Size\n"
     ]
    },
    {
     "name": "stderr",
     "output_type": "stream",
     "text": [
      "      13/60       4.1G     0.9896     0.7092     0.8227        124        704: 100%|██████████| 42/42 [01:00<00:00,  1.44s/it]\n",
      "                 Class     Images  Instances      Box(P          R      mAP50  mAP50-95): 100%|██████████| 6/6 [00:05<00:00,  1.17it/s]"
     ]
    },
    {
     "name": "stdout",
     "output_type": "stream",
     "text": [
      "                   all         95       1347      0.824      0.854        0.9      0.687\n"
     ]
    },
    {
     "name": "stderr",
     "output_type": "stream",
     "text": [
      "\n"
     ]
    },
    {
     "name": "stdout",
     "output_type": "stream",
     "text": [
      "\n",
      "      Epoch    GPU_mem   box_loss   cls_loss   dfl_loss  Instances       Size\n"
     ]
    },
    {
     "name": "stderr",
     "output_type": "stream",
     "text": [
      "      14/60      3.95G     0.9838     0.7162     0.8255        211        704: 100%|██████████| 42/42 [00:47<00:00,  1.14s/it]\n",
      "                 Class     Images  Instances      Box(P          R      mAP50  mAP50-95): 100%|██████████| 6/6 [00:03<00:00,  1.50it/s]"
     ]
    },
    {
     "name": "stdout",
     "output_type": "stream",
     "text": [
      "                   all         95       1347       0.81      0.871      0.901      0.675\n"
     ]
    },
    {
     "name": "stderr",
     "output_type": "stream",
     "text": [
      "\n"
     ]
    },
    {
     "name": "stdout",
     "output_type": "stream",
     "text": [
      "\n",
      "      Epoch    GPU_mem   box_loss   cls_loss   dfl_loss  Instances       Size\n"
     ]
    },
    {
     "name": "stderr",
     "output_type": "stream",
     "text": [
      "      15/60      4.13G     0.9855     0.7091     0.8234        214        704: 100%|██████████| 42/42 [00:53<00:00,  1.27s/it]\n",
      "                 Class     Images  Instances      Box(P          R      mAP50  mAP50-95): 100%|██████████| 6/6 [00:05<00:00,  1.13it/s]"
     ]
    },
    {
     "name": "stdout",
     "output_type": "stream",
     "text": [
      "                   all         95       1347      0.827      0.839      0.894      0.684\n"
     ]
    },
    {
     "name": "stderr",
     "output_type": "stream",
     "text": [
      "\n"
     ]
    },
    {
     "name": "stdout",
     "output_type": "stream",
     "text": [
      "\n",
      "      Epoch    GPU_mem   box_loss   cls_loss   dfl_loss  Instances       Size\n"
     ]
    },
    {
     "name": "stderr",
     "output_type": "stream",
     "text": [
      "      16/60      4.09G     0.9621     0.6944     0.8192        216        704: 100%|██████████| 42/42 [00:50<00:00,  1.21s/it]\n",
      "                 Class     Images  Instances      Box(P          R      mAP50  mAP50-95): 100%|██████████| 6/6 [00:05<00:00,  1.16it/s]"
     ]
    },
    {
     "name": "stdout",
     "output_type": "stream",
     "text": [
      "                   all         95       1347      0.814      0.859      0.895       0.67\n"
     ]
    },
    {
     "name": "stderr",
     "output_type": "stream",
     "text": [
      "\n"
     ]
    },
    {
     "name": "stdout",
     "output_type": "stream",
     "text": [
      "\n",
      "      Epoch    GPU_mem   box_loss   cls_loss   dfl_loss  Instances       Size\n"
     ]
    },
    {
     "name": "stderr",
     "output_type": "stream",
     "text": [
      "      17/60      4.02G     0.9712     0.6981     0.8219        158        704: 100%|██████████| 42/42 [00:53<00:00,  1.27s/it]\n",
      "                 Class     Images  Instances      Box(P          R      mAP50  mAP50-95): 100%|██████████| 6/6 [00:06<00:00,  1.07s/it]"
     ]
    },
    {
     "name": "stdout",
     "output_type": "stream",
     "text": [
      "                   all         95       1347      0.837      0.856       0.91      0.696\n"
     ]
    },
    {
     "name": "stderr",
     "output_type": "stream",
     "text": [
      "\n"
     ]
    },
    {
     "name": "stdout",
     "output_type": "stream",
     "text": [
      "\n",
      "      Epoch    GPU_mem   box_loss   cls_loss   dfl_loss  Instances       Size\n"
     ]
    },
    {
     "name": "stderr",
     "output_type": "stream",
     "text": [
      "      18/60      4.12G     0.9474     0.7102     0.8188        142        704: 100%|██████████| 42/42 [01:06<00:00,  1.59s/it]\n",
      "                 Class     Images  Instances      Box(P          R      mAP50  mAP50-95): 100%|██████████| 6/6 [00:04<00:00,  1.25it/s]"
     ]
    },
    {
     "name": "stdout",
     "output_type": "stream",
     "text": [
      "                   all         95       1347      0.811      0.864      0.904      0.703\n"
     ]
    },
    {
     "name": "stderr",
     "output_type": "stream",
     "text": [
      "\n"
     ]
    },
    {
     "name": "stdout",
     "output_type": "stream",
     "text": [
      "\n",
      "      Epoch    GPU_mem   box_loss   cls_loss   dfl_loss  Instances       Size\n"
     ]
    },
    {
     "name": "stderr",
     "output_type": "stream",
     "text": [
      "      19/60      3.99G     0.9637     0.7025     0.8212        131        704: 100%|██████████| 42/42 [00:48<00:00,  1.16s/it]\n",
      "                 Class     Images  Instances      Box(P          R      mAP50  mAP50-95): 100%|██████████| 6/6 [00:04<00:00,  1.47it/s]"
     ]
    },
    {
     "name": "stdout",
     "output_type": "stream",
     "text": [
      "                   all         95       1347      0.828      0.849      0.905      0.696\n"
     ]
    },
    {
     "name": "stderr",
     "output_type": "stream",
     "text": [
      "\n"
     ]
    },
    {
     "name": "stdout",
     "output_type": "stream",
     "text": [
      "\n",
      "      Epoch    GPU_mem   box_loss   cls_loss   dfl_loss  Instances       Size\n"
     ]
    },
    {
     "name": "stderr",
     "output_type": "stream",
     "text": [
      "      20/60      4.13G     0.9797     0.6875     0.8208        139        704: 100%|██████████| 42/42 [00:55<00:00,  1.32s/it]\n",
      "                 Class     Images  Instances      Box(P          R      mAP50  mAP50-95): 100%|██████████| 6/6 [00:04<00:00,  1.32it/s]"
     ]
    },
    {
     "name": "stdout",
     "output_type": "stream",
     "text": [
      "                   all         95       1347      0.846      0.854      0.914       0.71\n"
     ]
    },
    {
     "name": "stderr",
     "output_type": "stream",
     "text": [
      "\n"
     ]
    },
    {
     "name": "stdout",
     "output_type": "stream",
     "text": [
      "\n",
      "      Epoch    GPU_mem   box_loss   cls_loss   dfl_loss  Instances       Size\n"
     ]
    },
    {
     "name": "stderr",
     "output_type": "stream",
     "text": [
      "      21/60      3.99G     0.9664     0.6909     0.8155        172        704: 100%|██████████| 42/42 [01:06<00:00,  1.57s/it]\n",
      "                 Class     Images  Instances      Box(P          R      mAP50  mAP50-95): 100%|██████████| 6/6 [00:04<00:00,  1.42it/s]"
     ]
    },
    {
     "name": "stdout",
     "output_type": "stream",
     "text": [
      "                   all         95       1347       0.84      0.857      0.903      0.687\n"
     ]
    },
    {
     "name": "stderr",
     "output_type": "stream",
     "text": [
      "\n"
     ]
    },
    {
     "name": "stdout",
     "output_type": "stream",
     "text": [
      "\n",
      "      Epoch    GPU_mem   box_loss   cls_loss   dfl_loss  Instances       Size\n"
     ]
    },
    {
     "name": "stderr",
     "output_type": "stream",
     "text": [
      "      22/60      3.97G      0.942     0.6576     0.8193        101        704: 100%|██████████| 42/42 [00:46<00:00,  1.12s/it]\n",
      "                 Class     Images  Instances      Box(P          R      mAP50  mAP50-95): 100%|██████████| 6/6 [00:04<00:00,  1.40it/s]"
     ]
    },
    {
     "name": "stdout",
     "output_type": "stream",
     "text": [
      "                   all         95       1347      0.835      0.872       0.92      0.708\n"
     ]
    },
    {
     "name": "stderr",
     "output_type": "stream",
     "text": [
      "\n"
     ]
    },
    {
     "name": "stdout",
     "output_type": "stream",
     "text": [
      "\n",
      "      Epoch    GPU_mem   box_loss   cls_loss   dfl_loss  Instances       Size\n"
     ]
    },
    {
     "name": "stderr",
     "output_type": "stream",
     "text": [
      "      23/60      4.12G     0.9473     0.6687     0.8189        174        704: 100%|██████████| 42/42 [01:02<00:00,  1.49s/it]\n",
      "                 Class     Images  Instances      Box(P          R      mAP50  mAP50-95): 100%|██████████| 6/6 [00:03<00:00,  1.58it/s]"
     ]
    },
    {
     "name": "stdout",
     "output_type": "stream",
     "text": [
      "                   all         95       1347      0.822      0.875      0.911       0.69\n"
     ]
    },
    {
     "name": "stderr",
     "output_type": "stream",
     "text": [
      "\n"
     ]
    },
    {
     "name": "stdout",
     "output_type": "stream",
     "text": [
      "\n",
      "      Epoch    GPU_mem   box_loss   cls_loss   dfl_loss  Instances       Size\n"
     ]
    },
    {
     "name": "stderr",
     "output_type": "stream",
     "text": [
      "      24/60       4.2G     0.9298     0.6571      0.819        221        704: 100%|██████████| 42/42 [00:50<00:00,  1.20s/it]\n",
      "                 Class     Images  Instances      Box(P          R      mAP50  mAP50-95): 100%|██████████| 6/6 [00:04<00:00,  1.44it/s]"
     ]
    },
    {
     "name": "stdout",
     "output_type": "stream",
     "text": [
      "                   all         95       1347      0.834      0.875      0.918      0.727\n"
     ]
    },
    {
     "name": "stderr",
     "output_type": "stream",
     "text": [
      "\n"
     ]
    },
    {
     "name": "stdout",
     "output_type": "stream",
     "text": [
      "\n",
      "      Epoch    GPU_mem   box_loss   cls_loss   dfl_loss  Instances       Size\n"
     ]
    },
    {
     "name": "stderr",
     "output_type": "stream",
     "text": [
      "      25/60      4.14G     0.9237     0.6546     0.8174        134        704: 100%|██████████| 42/42 [01:02<00:00,  1.50s/it]\n",
      "                 Class     Images  Instances      Box(P          R      mAP50  mAP50-95): 100%|██████████| 6/6 [00:05<00:00,  1.13it/s]"
     ]
    },
    {
     "name": "stdout",
     "output_type": "stream",
     "text": [
      "                   all         95       1347      0.848       0.85      0.914      0.713\n"
     ]
    },
    {
     "name": "stderr",
     "output_type": "stream",
     "text": [
      "\n"
     ]
    },
    {
     "name": "stdout",
     "output_type": "stream",
     "text": [
      "\n",
      "      Epoch    GPU_mem   box_loss   cls_loss   dfl_loss  Instances       Size\n"
     ]
    },
    {
     "name": "stderr",
     "output_type": "stream",
     "text": [
      "      26/60      4.15G      0.935     0.6545     0.8263        122        704: 100%|██████████| 42/42 [01:02<00:00,  1.49s/it]\n",
      "                 Class     Images  Instances      Box(P          R      mAP50  mAP50-95): 100%|██████████| 6/6 [00:03<00:00,  1.51it/s]"
     ]
    },
    {
     "name": "stdout",
     "output_type": "stream",
     "text": [
      "                   all         95       1347       0.82      0.869        0.9      0.685\n"
     ]
    },
    {
     "name": "stderr",
     "output_type": "stream",
     "text": [
      "\n"
     ]
    },
    {
     "name": "stdout",
     "output_type": "stream",
     "text": [
      "\n",
      "      Epoch    GPU_mem   box_loss   cls_loss   dfl_loss  Instances       Size\n"
     ]
    },
    {
     "name": "stderr",
     "output_type": "stream",
     "text": [
      "      27/60      3.97G     0.9321     0.6645     0.8162        160        704: 100%|██████████| 42/42 [01:02<00:00,  1.50s/it]\n",
      "                 Class     Images  Instances      Box(P          R      mAP50  mAP50-95): 100%|██████████| 6/6 [00:04<00:00,  1.49it/s]"
     ]
    },
    {
     "name": "stdout",
     "output_type": "stream",
     "text": [
      "                   all         95       1347      0.824      0.869      0.903       0.69\n"
     ]
    },
    {
     "name": "stderr",
     "output_type": "stream",
     "text": [
      "\n"
     ]
    },
    {
     "name": "stdout",
     "output_type": "stream",
     "text": [
      "\n",
      "      Epoch    GPU_mem   box_loss   cls_loss   dfl_loss  Instances       Size\n"
     ]
    },
    {
     "name": "stderr",
     "output_type": "stream",
     "text": [
      "      28/60      4.13G     0.9281     0.6723     0.8219        306        704: 100%|██████████| 42/42 [00:51<00:00,  1.23s/it]\n",
      "                 Class     Images  Instances      Box(P          R      mAP50  mAP50-95): 100%|██████████| 6/6 [00:06<00:00,  1.17s/it]"
     ]
    },
    {
     "name": "stdout",
     "output_type": "stream",
     "text": [
      "                   all         95       1347      0.864      0.856      0.925       0.73\n"
     ]
    },
    {
     "name": "stderr",
     "output_type": "stream",
     "text": [
      "\n"
     ]
    },
    {
     "name": "stdout",
     "output_type": "stream",
     "text": [
      "\n",
      "      Epoch    GPU_mem   box_loss   cls_loss   dfl_loss  Instances       Size\n"
     ]
    },
    {
     "name": "stderr",
     "output_type": "stream",
     "text": [
      "      29/60      4.02G      0.899     0.6503     0.8155        155        704: 100%|██████████| 42/42 [00:49<00:00,  1.18s/it]\n",
      "                 Class     Images  Instances      Box(P          R      mAP50  mAP50-95): 100%|██████████| 6/6 [00:04<00:00,  1.20it/s]"
     ]
    },
    {
     "name": "stdout",
     "output_type": "stream",
     "text": [
      "                   all         95       1347      0.828      0.879      0.917      0.718\n"
     ]
    },
    {
     "name": "stderr",
     "output_type": "stream",
     "text": [
      "\n"
     ]
    },
    {
     "name": "stdout",
     "output_type": "stream",
     "text": [
      "\n",
      "      Epoch    GPU_mem   box_loss   cls_loss   dfl_loss  Instances       Size\n"
     ]
    },
    {
     "name": "stderr",
     "output_type": "stream",
     "text": [
      "      30/60      4.28G     0.9269     0.6541     0.8211        308        704: 100%|██████████| 42/42 [00:51<00:00,  1.23s/it]\n",
      "                 Class     Images  Instances      Box(P          R      mAP50  mAP50-95): 100%|██████████| 6/6 [00:05<00:00,  1.01it/s]"
     ]
    },
    {
     "name": "stdout",
     "output_type": "stream",
     "text": [
      "                   all         95       1347      0.852      0.863      0.923      0.718\n"
     ]
    },
    {
     "name": "stderr",
     "output_type": "stream",
     "text": [
      "\n"
     ]
    },
    {
     "name": "stdout",
     "output_type": "stream",
     "text": [
      "\n",
      "      Epoch    GPU_mem   box_loss   cls_loss   dfl_loss  Instances       Size\n"
     ]
    },
    {
     "name": "stderr",
     "output_type": "stream",
     "text": [
      "      31/60      4.48G     0.9283     0.6335     0.8176        109        704: 100%|██████████| 42/42 [01:04<00:00,  1.53s/it]\n",
      "                 Class     Images  Instances      Box(P          R      mAP50  mAP50-95): 100%|██████████| 6/6 [00:04<00:00,  1.44it/s]"
     ]
    },
    {
     "name": "stdout",
     "output_type": "stream",
     "text": [
      "                   all         95       1347      0.856       0.84      0.918      0.727\n"
     ]
    },
    {
     "name": "stderr",
     "output_type": "stream",
     "text": [
      "\n"
     ]
    },
    {
     "name": "stdout",
     "output_type": "stream",
     "text": [
      "\n",
      "      Epoch    GPU_mem   box_loss   cls_loss   dfl_loss  Instances       Size\n"
     ]
    },
    {
     "name": "stderr",
     "output_type": "stream",
     "text": [
      "      32/60      4.18G     0.9081     0.6453     0.8204        306        704: 100%|██████████| 42/42 [01:06<00:00,  1.59s/it]\n",
      "                 Class     Images  Instances      Box(P          R      mAP50  mAP50-95): 100%|██████████| 6/6 [00:04<00:00,  1.37it/s]"
     ]
    },
    {
     "name": "stdout",
     "output_type": "stream",
     "text": [
      "                   all         95       1347      0.855       0.87      0.928      0.739\n"
     ]
    },
    {
     "name": "stderr",
     "output_type": "stream",
     "text": [
      "\n"
     ]
    },
    {
     "name": "stdout",
     "output_type": "stream",
     "text": [
      "\n",
      "      Epoch    GPU_mem   box_loss   cls_loss   dfl_loss  Instances       Size\n"
     ]
    },
    {
     "name": "stderr",
     "output_type": "stream",
     "text": [
      "      33/60      4.13G     0.9048     0.6402     0.8189        143        704: 100%|██████████| 42/42 [00:54<00:00,  1.30s/it]\n",
      "                 Class     Images  Instances      Box(P          R      mAP50  mAP50-95): 100%|██████████| 6/6 [00:05<00:00,  1.14it/s]"
     ]
    },
    {
     "name": "stdout",
     "output_type": "stream",
     "text": [
      "                   all         95       1347      0.854      0.871      0.927      0.735\n"
     ]
    },
    {
     "name": "stderr",
     "output_type": "stream",
     "text": [
      "\n"
     ]
    },
    {
     "name": "stdout",
     "output_type": "stream",
     "text": [
      "\n",
      "      Epoch    GPU_mem   box_loss   cls_loss   dfl_loss  Instances       Size\n"
     ]
    },
    {
     "name": "stderr",
     "output_type": "stream",
     "text": [
      "      34/60      4.02G     0.8906     0.6255     0.8139        258        704: 100%|██████████| 42/42 [01:02<00:00,  1.48s/it]\n",
      "                 Class     Images  Instances      Box(P          R      mAP50  mAP50-95): 100%|██████████| 6/6 [00:03<00:00,  1.73it/s]"
     ]
    },
    {
     "name": "stdout",
     "output_type": "stream",
     "text": [
      "                   all         95       1347      0.871      0.862       0.93      0.741\n"
     ]
    },
    {
     "name": "stderr",
     "output_type": "stream",
     "text": [
      "\n"
     ]
    },
    {
     "name": "stdout",
     "output_type": "stream",
     "text": [
      "\n",
      "      Epoch    GPU_mem   box_loss   cls_loss   dfl_loss  Instances       Size\n"
     ]
    },
    {
     "name": "stderr",
     "output_type": "stream",
     "text": [
      "      35/60      3.98G     0.8946     0.6158     0.8167        162        704: 100%|██████████| 42/42 [01:06<00:00,  1.57s/it]\n",
      "                 Class     Images  Instances      Box(P          R      mAP50  mAP50-95): 100%|██████████| 6/6 [00:03<00:00,  1.54it/s]"
     ]
    },
    {
     "name": "stdout",
     "output_type": "stream",
     "text": [
      "                   all         95       1347      0.852      0.874      0.929      0.732\n"
     ]
    },
    {
     "name": "stderr",
     "output_type": "stream",
     "text": [
      "\n"
     ]
    },
    {
     "name": "stdout",
     "output_type": "stream",
     "text": [
      "\n",
      "      Epoch    GPU_mem   box_loss   cls_loss   dfl_loss  Instances       Size\n"
     ]
    },
    {
     "name": "stderr",
     "output_type": "stream",
     "text": [
      "      36/60      4.18G     0.8937      0.627     0.8124        134        704: 100%|██████████| 42/42 [00:57<00:00,  1.37s/it]\n",
      "                 Class     Images  Instances      Box(P          R      mAP50  mAP50-95): 100%|██████████| 6/6 [00:08<00:00,  1.36s/it]"
     ]
    },
    {
     "name": "stdout",
     "output_type": "stream",
     "text": [
      "                   all         95       1347      0.844      0.867      0.918      0.701\n"
     ]
    },
    {
     "name": "stderr",
     "output_type": "stream",
     "text": [
      "\n"
     ]
    },
    {
     "name": "stdout",
     "output_type": "stream",
     "text": [
      "\n",
      "      Epoch    GPU_mem   box_loss   cls_loss   dfl_loss  Instances       Size\n"
     ]
    },
    {
     "name": "stderr",
     "output_type": "stream",
     "text": [
      "      37/60      4.05G     0.9034     0.6356     0.8146        198        704: 100%|██████████| 42/42 [01:02<00:00,  1.49s/it]\n",
      "                 Class     Images  Instances      Box(P          R      mAP50  mAP50-95): 100%|██████████| 6/6 [00:05<00:00,  1.08it/s]"
     ]
    },
    {
     "name": "stdout",
     "output_type": "stream",
     "text": [
      "                   all         95       1347       0.84      0.878       0.92      0.718\n"
     ]
    },
    {
     "name": "stderr",
     "output_type": "stream",
     "text": [
      "\n"
     ]
    },
    {
     "name": "stdout",
     "output_type": "stream",
     "text": [
      "\n",
      "      Epoch    GPU_mem   box_loss   cls_loss   dfl_loss  Instances       Size\n"
     ]
    },
    {
     "name": "stderr",
     "output_type": "stream",
     "text": [
      "      38/60      4.14G     0.9094     0.6072      0.815        162        704: 100%|██████████| 42/42 [00:50<00:00,  1.21s/it]\n",
      "                 Class     Images  Instances      Box(P          R      mAP50  mAP50-95): 100%|██████████| 6/6 [00:05<00:00,  1.17it/s]"
     ]
    },
    {
     "name": "stdout",
     "output_type": "stream",
     "text": [
      "                   all         95       1347      0.863      0.873      0.931      0.744\n"
     ]
    },
    {
     "name": "stderr",
     "output_type": "stream",
     "text": [
      "\n"
     ]
    },
    {
     "name": "stdout",
     "output_type": "stream",
     "text": [
      "\n",
      "      Epoch    GPU_mem   box_loss   cls_loss   dfl_loss  Instances       Size\n"
     ]
    },
    {
     "name": "stderr",
     "output_type": "stream",
     "text": [
      "      39/60      4.23G       0.85     0.5914     0.8118         96        704: 100%|██████████| 42/42 [00:51<00:00,  1.23s/it]\n",
      "                 Class     Images  Instances      Box(P          R      mAP50  mAP50-95): 100%|██████████| 6/6 [00:03<00:00,  1.57it/s]"
     ]
    },
    {
     "name": "stdout",
     "output_type": "stream",
     "text": [
      "                   all         95       1347      0.862       0.88      0.931      0.747\n"
     ]
    },
    {
     "name": "stderr",
     "output_type": "stream",
     "text": [
      "\n"
     ]
    },
    {
     "name": "stdout",
     "output_type": "stream",
     "text": [
      "\n",
      "      Epoch    GPU_mem   box_loss   cls_loss   dfl_loss  Instances       Size\n"
     ]
    },
    {
     "name": "stderr",
     "output_type": "stream",
     "text": [
      "      40/60      4.11G     0.8988     0.6099     0.8098        181        704: 100%|██████████| 42/42 [00:54<00:00,  1.29s/it]\n",
      "                 Class     Images  Instances      Box(P          R      mAP50  mAP50-95): 100%|██████████| 6/6 [00:04<00:00,  1.22it/s]"
     ]
    },
    {
     "name": "stdout",
     "output_type": "stream",
     "text": [
      "                   all         95       1347      0.863      0.865      0.928      0.727\n"
     ]
    },
    {
     "name": "stderr",
     "output_type": "stream",
     "text": [
      "\n"
     ]
    },
    {
     "name": "stdout",
     "output_type": "stream",
     "text": [
      "\n",
      "      Epoch    GPU_mem   box_loss   cls_loss   dfl_loss  Instances       Size\n"
     ]
    },
    {
     "name": "stderr",
     "output_type": "stream",
     "text": [
      "      41/60      4.03G     0.8748     0.6141      0.816        276        704: 100%|██████████| 42/42 [01:02<00:00,  1.49s/it]\n",
      "                 Class     Images  Instances      Box(P          R      mAP50  mAP50-95): 100%|██████████| 6/6 [00:06<00:00,  1.11s/it]"
     ]
    },
    {
     "name": "stdout",
     "output_type": "stream",
     "text": [
      "                   all         95       1347      0.855       0.88      0.927      0.736\n"
     ]
    },
    {
     "name": "stderr",
     "output_type": "stream",
     "text": [
      "\n"
     ]
    },
    {
     "name": "stdout",
     "output_type": "stream",
     "text": [
      "\n",
      "      Epoch    GPU_mem   box_loss   cls_loss   dfl_loss  Instances       Size\n"
     ]
    },
    {
     "name": "stderr",
     "output_type": "stream",
     "text": [
      "      42/60      4.13G     0.8693      0.613     0.8192        185        704: 100%|██████████| 42/42 [00:41<00:00,  1.00it/s]\n",
      "                 Class     Images  Instances      Box(P          R      mAP50  mAP50-95): 100%|██████████| 6/6 [00:03<00:00,  1.51it/s]"
     ]
    },
    {
     "name": "stdout",
     "output_type": "stream",
     "text": [
      "                   all         95       1347      0.859       0.87      0.928      0.744\n"
     ]
    },
    {
     "name": "stderr",
     "output_type": "stream",
     "text": [
      "\n"
     ]
    },
    {
     "name": "stdout",
     "output_type": "stream",
     "text": [
      "\n",
      "      Epoch    GPU_mem   box_loss   cls_loss   dfl_loss  Instances       Size\n"
     ]
    },
    {
     "name": "stderr",
     "output_type": "stream",
     "text": [
      "      43/60       4.1G     0.8333     0.5807     0.8089        157        704: 100%|██████████| 42/42 [01:06<00:00,  1.60s/it]\n",
      "                 Class     Images  Instances      Box(P          R      mAP50  mAP50-95): 100%|██████████| 6/6 [00:03<00:00,  1.56it/s]"
     ]
    },
    {
     "name": "stdout",
     "output_type": "stream",
     "text": [
      "                   all         95       1347      0.859      0.876      0.933      0.744\n"
     ]
    },
    {
     "name": "stderr",
     "output_type": "stream",
     "text": [
      "\n"
     ]
    },
    {
     "name": "stdout",
     "output_type": "stream",
     "text": [
      "\n",
      "      Epoch    GPU_mem   box_loss   cls_loss   dfl_loss  Instances       Size\n"
     ]
    },
    {
     "name": "stderr",
     "output_type": "stream",
     "text": [
      "      44/60      4.35G     0.8523     0.5912     0.8075        135        704: 100%|██████████| 42/42 [00:58<00:00,  1.38s/it]\n",
      "                 Class     Images  Instances      Box(P          R      mAP50  mAP50-95): 100%|██████████| 6/6 [00:04<00:00,  1.26it/s]"
     ]
    },
    {
     "name": "stdout",
     "output_type": "stream",
     "text": [
      "                   all         95       1347      0.856      0.878      0.935       0.75\n"
     ]
    },
    {
     "name": "stderr",
     "output_type": "stream",
     "text": [
      "\n"
     ]
    },
    {
     "name": "stdout",
     "output_type": "stream",
     "text": [
      "\n",
      "      Epoch    GPU_mem   box_loss   cls_loss   dfl_loss  Instances       Size\n"
     ]
    },
    {
     "name": "stderr",
     "output_type": "stream",
     "text": [
      "      45/60      4.15G     0.8383     0.5624     0.8044        108        704: 100%|██████████| 42/42 [00:46<00:00,  1.11s/it]\n",
      "                 Class     Images  Instances      Box(P          R      mAP50  mAP50-95): 100%|██████████| 6/6 [00:03<00:00,  1.53it/s]"
     ]
    },
    {
     "name": "stdout",
     "output_type": "stream",
     "text": [
      "                   all         95       1347      0.849      0.883      0.931      0.743\n"
     ]
    },
    {
     "name": "stderr",
     "output_type": "stream",
     "text": [
      "\n"
     ]
    },
    {
     "name": "stdout",
     "output_type": "stream",
     "text": [
      "\n",
      "      Epoch    GPU_mem   box_loss   cls_loss   dfl_loss  Instances       Size\n"
     ]
    },
    {
     "name": "stderr",
     "output_type": "stream",
     "text": [
      "      46/60      3.95G      0.857      0.598     0.8131        144        704: 100%|██████████| 42/42 [00:55<00:00,  1.33s/it]\n",
      "                 Class     Images  Instances      Box(P          R      mAP50  mAP50-95): 100%|██████████| 6/6 [00:03<00:00,  1.55it/s]"
     ]
    },
    {
     "name": "stdout",
     "output_type": "stream",
     "text": [
      "                   all         95       1347      0.856      0.884      0.936      0.747\n"
     ]
    },
    {
     "name": "stderr",
     "output_type": "stream",
     "text": [
      "\n"
     ]
    },
    {
     "name": "stdout",
     "output_type": "stream",
     "text": [
      "\n",
      "      Epoch    GPU_mem   box_loss   cls_loss   dfl_loss  Instances       Size\n"
     ]
    },
    {
     "name": "stderr",
     "output_type": "stream",
     "text": [
      "      47/60      3.96G     0.8623     0.5889     0.8133         98        704: 100%|██████████| 42/42 [00:47<00:00,  1.13s/it]\n",
      "                 Class     Images  Instances      Box(P          R      mAP50  mAP50-95): 100%|██████████| 6/6 [00:03<00:00,  1.53it/s]"
     ]
    },
    {
     "name": "stdout",
     "output_type": "stream",
     "text": [
      "                   all         95       1347      0.873      0.867      0.937      0.747\n"
     ]
    },
    {
     "name": "stderr",
     "output_type": "stream",
     "text": [
      "\n"
     ]
    },
    {
     "name": "stdout",
     "output_type": "stream",
     "text": [
      "\n",
      "      Epoch    GPU_mem   box_loss   cls_loss   dfl_loss  Instances       Size\n"
     ]
    },
    {
     "name": "stderr",
     "output_type": "stream",
     "text": [
      "      48/60      4.05G     0.8542     0.5972     0.8082        194        704: 100%|██████████| 42/42 [01:11<00:00,  1.70s/it]\n",
      "                 Class     Images  Instances      Box(P          R      mAP50  mAP50-95): 100%|██████████| 6/6 [00:04<00:00,  1.48it/s]"
     ]
    },
    {
     "name": "stdout",
     "output_type": "stream",
     "text": [
      "                   all         95       1347      0.871      0.874      0.938      0.757\n"
     ]
    },
    {
     "name": "stderr",
     "output_type": "stream",
     "text": [
      "\n"
     ]
    },
    {
     "name": "stdout",
     "output_type": "stream",
     "text": [
      "\n",
      "      Epoch    GPU_mem   box_loss   cls_loss   dfl_loss  Instances       Size\n"
     ]
    },
    {
     "name": "stderr",
     "output_type": "stream",
     "text": [
      "      49/60      4.09G     0.8324     0.5738     0.8059        204        704: 100%|██████████| 42/42 [00:59<00:00,  1.41s/it]\n",
      "                 Class     Images  Instances      Box(P          R      mAP50  mAP50-95): 100%|██████████| 6/6 [00:03<00:00,  1.59it/s]"
     ]
    },
    {
     "name": "stdout",
     "output_type": "stream",
     "text": [
      "                   all         95       1347      0.862      0.882      0.931      0.743\n"
     ]
    },
    {
     "name": "stderr",
     "output_type": "stream",
     "text": [
      "\n"
     ]
    },
    {
     "name": "stdout",
     "output_type": "stream",
     "text": [
      "\n",
      "      Epoch    GPU_mem   box_loss   cls_loss   dfl_loss  Instances       Size\n"
     ]
    },
    {
     "name": "stderr",
     "output_type": "stream",
     "text": [
      "      50/60      4.05G     0.8597     0.5845     0.8071         63        704: 100%|██████████| 42/42 [01:07<00:00,  1.60s/it]\n",
      "                 Class     Images  Instances      Box(P          R      mAP50  mAP50-95): 100%|██████████| 6/6 [00:05<00:00,  1.19it/s]"
     ]
    },
    {
     "name": "stdout",
     "output_type": "stream",
     "text": [
      "                   all         95       1347      0.872      0.874      0.939      0.754\n"
     ]
    },
    {
     "name": "stderr",
     "output_type": "stream",
     "text": [
      "\n"
     ]
    },
    {
     "name": "stdout",
     "output_type": "stream",
     "text": [
      "Closing dataloader mosaic\n",
      "\n",
      "      Epoch    GPU_mem   box_loss   cls_loss   dfl_loss  Instances       Size\n"
     ]
    },
    {
     "name": "stderr",
     "output_type": "stream",
     "text": [
      "      51/60      3.98G      0.848     0.5821     0.8156         61        704: 100%|██████████| 42/42 [01:10<00:00,  1.67s/it]\n",
      "                 Class     Images  Instances      Box(P          R      mAP50  mAP50-95): 100%|██████████| 6/6 [00:04<00:00,  1.42it/s]"
     ]
    },
    {
     "name": "stdout",
     "output_type": "stream",
     "text": [
      "                   all         95       1347      0.854      0.875      0.936      0.749\n"
     ]
    },
    {
     "name": "stderr",
     "output_type": "stream",
     "text": [
      "\n"
     ]
    },
    {
     "name": "stdout",
     "output_type": "stream",
     "text": [
      "\n",
      "      Epoch    GPU_mem   box_loss   cls_loss   dfl_loss  Instances       Size\n"
     ]
    },
    {
     "name": "stderr",
     "output_type": "stream",
     "text": [
      "      52/60      3.97G     0.8148      0.569     0.8109        156        704: 100%|██████████| 42/42 [01:08<00:00,  1.63s/it]\n",
      "                 Class     Images  Instances      Box(P          R      mAP50  mAP50-95): 100%|██████████| 6/6 [00:04<00:00,  1.22it/s]"
     ]
    },
    {
     "name": "stdout",
     "output_type": "stream",
     "text": [
      "                   all         95       1347      0.864      0.869      0.933      0.746\n"
     ]
    },
    {
     "name": "stderr",
     "output_type": "stream",
     "text": [
      "\n"
     ]
    },
    {
     "name": "stdout",
     "output_type": "stream",
     "text": [
      "\n",
      "      Epoch    GPU_mem   box_loss   cls_loss   dfl_loss  Instances       Size\n"
     ]
    },
    {
     "name": "stderr",
     "output_type": "stream",
     "text": [
      "      53/60      3.94G      0.841     0.5804      0.809         52        704: 100%|██████████| 42/42 [00:37<00:00,  1.12it/s]\n",
      "                 Class     Images  Instances      Box(P          R      mAP50  mAP50-95): 100%|██████████| 6/6 [00:05<00:00,  1.07it/s]"
     ]
    },
    {
     "name": "stdout",
     "output_type": "stream",
     "text": [
      "                   all         95       1347      0.857      0.878       0.93      0.733\n"
     ]
    },
    {
     "name": "stderr",
     "output_type": "stream",
     "text": [
      "\n"
     ]
    },
    {
     "name": "stdout",
     "output_type": "stream",
     "text": [
      "\n",
      "      Epoch    GPU_mem   box_loss   cls_loss   dfl_loss  Instances       Size\n"
     ]
    },
    {
     "name": "stderr",
     "output_type": "stream",
     "text": [
      "      54/60      3.98G     0.8053     0.5666     0.8108         75        704: 100%|██████████| 42/42 [01:09<00:00,  1.65s/it]\n",
      "                 Class     Images  Instances      Box(P          R      mAP50  mAP50-95): 100%|██████████| 6/6 [00:05<00:00,  1.16it/s]"
     ]
    },
    {
     "name": "stdout",
     "output_type": "stream",
     "text": [
      "                   all         95       1347      0.871      0.876      0.933      0.743\n"
     ]
    },
    {
     "name": "stderr",
     "output_type": "stream",
     "text": [
      "\n"
     ]
    },
    {
     "name": "stdout",
     "output_type": "stream",
     "text": [
      "\n",
      "      Epoch    GPU_mem   box_loss   cls_loss   dfl_loss  Instances       Size\n"
     ]
    },
    {
     "name": "stderr",
     "output_type": "stream",
     "text": [
      "      55/60         4G     0.8008      0.566     0.8022         92        704: 100%|██████████| 42/42 [00:58<00:00,  1.40s/it]\n",
      "                 Class     Images  Instances      Box(P          R      mAP50  mAP50-95): 100%|██████████| 6/6 [00:05<00:00,  1.14it/s]"
     ]
    },
    {
     "name": "stdout",
     "output_type": "stream",
     "text": [
      "                   all         95       1347      0.861      0.882      0.937      0.758\n"
     ]
    },
    {
     "name": "stderr",
     "output_type": "stream",
     "text": [
      "\n"
     ]
    },
    {
     "name": "stdout",
     "output_type": "stream",
     "text": [
      "\n",
      "      Epoch    GPU_mem   box_loss   cls_loss   dfl_loss  Instances       Size\n"
     ]
    },
    {
     "name": "stderr",
     "output_type": "stream",
     "text": [
      "      56/60      3.94G     0.8224     0.5749     0.8098         91        704: 100%|██████████| 42/42 [00:56<00:00,  1.35s/it]\n",
      "                 Class     Images  Instances      Box(P          R      mAP50  mAP50-95): 100%|██████████| 6/6 [00:03<00:00,  1.55it/s]"
     ]
    },
    {
     "name": "stdout",
     "output_type": "stream",
     "text": [
      "                   all         95       1347      0.867       0.87      0.936      0.744\n"
     ]
    },
    {
     "name": "stderr",
     "output_type": "stream",
     "text": [
      "\n"
     ]
    },
    {
     "name": "stdout",
     "output_type": "stream",
     "text": [
      "\n",
      "      Epoch    GPU_mem   box_loss   cls_loss   dfl_loss  Instances       Size\n"
     ]
    },
    {
     "name": "stderr",
     "output_type": "stream",
     "text": [
      "      57/60      3.94G     0.8214     0.5698     0.8164         92        704: 100%|██████████| 42/42 [01:03<00:00,  1.51s/it]\n",
      "                 Class     Images  Instances      Box(P          R      mAP50  mAP50-95): 100%|██████████| 6/6 [00:03<00:00,  1.62it/s]"
     ]
    },
    {
     "name": "stdout",
     "output_type": "stream",
     "text": [
      "                   all         95       1347      0.863      0.871      0.935      0.747\n"
     ]
    },
    {
     "name": "stderr",
     "output_type": "stream",
     "text": [
      "\n"
     ]
    },
    {
     "name": "stdout",
     "output_type": "stream",
     "text": [
      "\n",
      "      Epoch    GPU_mem   box_loss   cls_loss   dfl_loss  Instances       Size\n"
     ]
    },
    {
     "name": "stderr",
     "output_type": "stream",
     "text": [
      "      58/60      3.99G     0.8023     0.5606     0.8107        103        704: 100%|██████████| 42/42 [01:12<00:00,  1.73s/it]\n",
      "                 Class     Images  Instances      Box(P          R      mAP50  mAP50-95): 100%|██████████| 6/6 [00:05<00:00,  1.11it/s]"
     ]
    },
    {
     "name": "stdout",
     "output_type": "stream",
     "text": [
      "                   all         95       1347      0.863      0.873      0.938      0.753\n"
     ]
    },
    {
     "name": "stderr",
     "output_type": "stream",
     "text": [
      "\n"
     ]
    },
    {
     "name": "stdout",
     "output_type": "stream",
     "text": [
      "\n",
      "      Epoch    GPU_mem   box_loss   cls_loss   dfl_loss  Instances       Size\n"
     ]
    },
    {
     "name": "stderr",
     "output_type": "stream",
     "text": [
      "      59/60         4G     0.8022     0.5566     0.8091         72        704: 100%|██████████| 42/42 [01:04<00:00,  1.53s/it]\n",
      "                 Class     Images  Instances      Box(P          R      mAP50  mAP50-95): 100%|██████████| 6/6 [00:03<00:00,  1.60it/s]"
     ]
    },
    {
     "name": "stdout",
     "output_type": "stream",
     "text": [
      "                   all         95       1347      0.871      0.869      0.936      0.749\n"
     ]
    },
    {
     "name": "stderr",
     "output_type": "stream",
     "text": [
      "\n"
     ]
    },
    {
     "name": "stdout",
     "output_type": "stream",
     "text": [
      "\n",
      "      Epoch    GPU_mem   box_loss   cls_loss   dfl_loss  Instances       Size\n"
     ]
    },
    {
     "name": "stderr",
     "output_type": "stream",
     "text": [
      "      60/60      3.96G     0.7844     0.5478     0.8049         60        704: 100%|██████████| 42/42 [01:01<00:00,  1.46s/it]\n",
      "                 Class     Images  Instances      Box(P          R      mAP50  mAP50-95): 100%|██████████| 6/6 [00:04<00:00,  1.36it/s]"
     ]
    },
    {
     "name": "stdout",
     "output_type": "stream",
     "text": [
      "                   all         95       1347      0.859      0.877      0.937      0.756\n"
     ]
    },
    {
     "name": "stderr",
     "output_type": "stream",
     "text": [
      "\n"
     ]
    },
    {
     "name": "stdout",
     "output_type": "stream",
     "text": [
      "\n",
      "60 epochs completed in 1.098 hours.\n",
      "Optimizer stripped from runs\\detect\\final_model_optunav12s\\weights\\last.pt, 18.9MB\n",
      "Optimizer stripped from runs\\detect\\final_model_optunav12s\\weights\\best.pt, 18.9MB\n",
      "\n",
      "Validating runs\\detect\\final_model_optunav12s\\weights\\best.pt...\n",
      "Ultralytics 8.3.81  Python-3.11.11 torch-2.6.0+cu126 CUDA:0 (NVIDIA GeForce RTX 3050 Laptop GPU, 4096MiB)\n",
      "YOLOv12s summary (fused): 159 layers, 9,231,267 parameters, 0 gradients, 21.2 GFLOPs\n"
     ]
    },
    {
     "name": "stderr",
     "output_type": "stream",
     "text": [
      "                 Class     Images  Instances      Box(P          R      mAP50  mAP50-95): 100%|██████████| 6/6 [00:04<00:00,  1.43it/s]\n"
     ]
    },
    {
     "name": "stdout",
     "output_type": "stream",
     "text": [
      "                   all         95       1347      0.863      0.879      0.937      0.758\n",
      "Speed: 0.6ms preprocess, 31.8ms inference, 0.0ms loss, 1.5ms postprocess per image\n",
      "Results saved to \u001b[1mruns\\detect\\final_model_optunav12s\u001b[0m\n"
     ]
    }
   ],
   "source": [
    "with open(\"optuna/optuna_studies/prueba5V12S_best_params.json\", \"r\") as f:\n",
    "    best_params = json.load(f)\n",
    "\n",
    "print(\"Entrenando modelo final con mejores parámetros...\")\n",
    "print(\"Parámetros:\")\n",
    "for key, value in best_params.items():\n",
    "    print(f\"  {key}: {value}\")\n",
    "\n",
    "model = YOLO(\"yolo_models/yolo12m.pt\")\n",
    "\n",
    "model_name = \"final_model_optunav12m\"\n",
    "results = model.train(\n",
    "    data=\"cells.yaml\",\n",
    "    epochs=60,         # Ajusta según tus recursos y necesidades\n",
    "    imgsz=704,         # Tamaño de imagen para el entrenamiento final\n",
    "    batch=3,           # Ajusta según tu GPU/CPU\n",
    "    name=model_name,\n",
    "    save=True,         # Guarda los checkpoints y resultados\n",
    "    **best_params      # Aplica los hiperparámetros óptimos\n",
    ")\n"
   ]
  },
  {
   "cell_type": "code",
   "execution_count": null,
   "metadata": {},
   "outputs": [
    {
     "data": {
      "text/plain": [
       "<Figure size 1200x800 with 4 Axes>"
      ]
     },
     "metadata": {},
     "output_type": "display_data"
    }
   ],
   "source": [
    "# 1. Historia de optimización\n",
    "plt.figure(figsize=(12, 8))\n",
    "\n",
    "# Gráfico 1: Valor objetivo por trial\n",
    "plt.subplot(2, 2, 1)\n",
    "trials = [trial.value for trial in study.trials if trial.value is not None]\n",
    "plt.plot(trials, marker='o', markersize=3)\n",
    "plt.title('Valor Objetivo por Trial')\n",
    "plt.xlabel('Trial')\n",
    "plt.ylabel('mAP@0.5:0.95')\n",
    "plt.grid(True, alpha=0.3)\n",
    "\n",
    "# Gráfico 2: Mejores valores acumulados\n",
    "plt.subplot(2, 2, 2)\n",
    "best_values = []\n",
    "current_best = float('-inf')\n",
    "for trial in study.trials:\n",
    "    if trial.value is not None and trial.value > current_best:\n",
    "        current_best = trial.value\n",
    "    best_values.append(current_best if current_best != float('-inf') else 0)\n",
    "\n",
    "plt.plot(best_values, marker='o', markersize=3, color='red')\n",
    "plt.title('Mejor Valor Acumulado')\n",
    "plt.xlabel('Trial')\n",
    "plt.ylabel('Mejor mAP@0.5:0.95')\n",
    "plt.grid(True, alpha=0.3)\n",
    "\n",
    "# Gráfico 3: Distribución de valores\n",
    "plt.subplot(2, 2, 3)\n",
    "plt.hist(trials, bins=20, alpha=0.7, edgecolor='black')\n",
    "plt.title('Distribución de Valores Objetivo')\n",
    "plt.xlabel('mAP@0.5:0.95')\n",
    "plt.ylabel('Frecuencia')\n",
    "plt.grid(True, alpha=0.3)\n",
    "\n",
    "# Gráfico 4: Top 10 parámetros más importantes\n",
    "plt.subplot(2, 2, 4)\n",
    "try:\n",
    "    importance = optuna.importance.get_param_importances(study)\n",
    "    top_params = dict(sorted(importance.items(), key=lambda x: x[1], reverse=True)[:10])\n",
    "    \n",
    "    plt.barh(list(top_params.keys()), list(top_params.values()))\n",
    "    plt.title('Top 10 Parámetros Más Importantes')\n",
    "    plt.xlabel('Importancia')\n",
    "    plt.tight_layout()\n",
    "except:\n",
    "    plt.text(0.5, 0.5, 'No disponible\\n(necesita más trials)', \n",
    "            ha='center', va='center', transform=plt.gca().transAxes)\n",
    "\n",
    "plt.tight_layout()\n",
    "plt.savefig('optuna/optuna_plots/optimization_resultsV12m.png', dpi=300, bbox_inches='tight')\n",
    "plt.show()"
   ]
  },
  {
   "cell_type": "markdown",
   "metadata": {},
   "source": [
    "----------------------------------------------------------------------------------------"
   ]
  },
  {
   "cell_type": "code",
   "execution_count": null,
   "metadata": {},
   "outputs": [],
   "source": [
    "# # YOLO 11\n",
    "# model_YOLOv11n = YOLO(\"yolo_models/yolo11n.pt\")\n",
    "# model_YOLOv11s = YOLO(\"yolo_models/yolo11s.pt\")\n",
    "# model_YOLOv11m = YOLO(\"yolo_models/yolo11m.pt\")\n",
    "# model_YOLOv11l = YOLO(\"yolo_models/yolo11l.pt\")\n",
    "# model_YOLOv11x = YOLO(\"yolo_models/yolo11x.pt\")\n",
    "# model_YOLOv11ny = YOLO(\"yolo_models/yolo11n.yaml\")\n",
    "\n",
    "# # YOLO 12\n",
    "# model_YOLOv12n = YOLO(\"yolo_models/yolo12n.pt\")\n",
    "# model_YOLOv12s = YOLO(\"yolo_models/yolo12s.pt\")\n",
    "# model_YOLOv12m = YOLO(\"yolo_models/yolo12m.pt\")\n",
    "# model_YOLOv12l = YOLO(\"yolo_models/yolo12l.pt\")\n",
    "# model_YOLOv12x = YOLO(\"yolo_models/yolo12x.pt\")"
   ]
  },
  {
   "cell_type": "code",
   "execution_count": null,
   "metadata": {},
   "outputs": [],
   "source": [
    "# os.environ[\"KMP_DUPLICATE_LIB_OK\"] = \"TRUE\"\n",
    "\n",
    "# model_YOLOv11ny.train(\n",
    "#     data=\"cells.yaml\", \n",
    "#     epochs=25, \n",
    "#     imgsz=1280, \n",
    "#     batch=3, \n",
    "#     name='yolov11ny_new',\n",
    "    \n",
    "#     # Parámetros de data augmentation\n",
    "#     augment=True,         \n",
    "#     mosaic=0.2,             # Probabilidad de mosaico (0-1)\n",
    "#     degrees=15.0,           # Rotación de imagen ±10 grados\n",
    "#     translate=0.1,          # Traslación ±10%\n",
    "#     scale=0.1,              # Escala ±10%\n",
    "#     shear=2.0,              # Cizallamiento ±2 grados\n",
    "#     fliplr=0.5,             # Probabilidad de volteo horizontal 50%\n",
    "#     flipud=0.0,             # Probabilidad de volteo vertical 0%\n",
    "# )"
   ]
  },
  {
   "cell_type": "code",
   "execution_count": 4,
   "metadata": {},
   "outputs": [
    {
     "name": "stdout",
     "output_type": "stream",
     "text": [
      "La figura individual 'map50-95' se ha guardado en: yolo_plots/map50-95.png\n",
      "La figura individual 'map50' se ha guardado en: yolo_plots/map50.png\n",
      "La figura individual 'precision' se ha guardado en: yolo_plots/precision.png\n",
      "La figura individual 'recall' se ha guardado en: yolo_plots/recall.png\n",
      "La figura individual 'box_loss' se ha guardado en: yolo_plots/box_loss.png\n",
      "La figura individual 'cls_loss' se ha guardado en: yolo_plots/cls_loss.png\n",
      "La figura se ha guardado en: plots/yolov_training_metrics.png\n"
     ]
    }
   ],
   "source": [
    "exp_paths = {\n",
    "    'yolov12n': 'runs/detect/yolov12n/results.csv',\n",
    "    'yolov11n': 'runs/detect/yolov11n/results.csv',\n",
    "    'yolov11l': 'runs/detect/yolov11l/results.csv',\n",
    "    'yolov11s': 'runs/detect/yolov11s/results.csv',\n",
    "    'yolov11ny': 'runs/detect/yolov11ny/results.csv',\n",
    "    'yolov11ny_new': 'runs/detect/yolov11ny/results.csv',\n",
    "    'yolooptunaV11S': 'runs/detect/final_model_optunav11s/results.csv',\n",
    "    'yolooptunaV12S': 'runs/detect/final_model_optunav12s/results.csv',\n",
    "    # 'yolooptunaV12m': 'runs/detect/final_model_optunav12m/results.csv',\n",
    "}\n",
    "\n",
    "plots_dir = 'yolo_plots'\n",
    "os.makedirs(plots_dir, exist_ok=True)\n",
    "\n",
    "# Cargar los datos\n",
    "dfs = {}\n",
    "for model_name, path in exp_paths.items():\n",
    "    try:\n",
    "        dfs[model_name] = pd.read_csv(path)\n",
    "    except Exception as e:\n",
    "        print(f\"Error al cargar {path}: {e}\")\n",
    "\n",
    "def create_and_save_individual_plot(plot_type, y_column, title, ylabel, is_dual=False, y_limit=None):\n",
    "    plt.figure(figsize=(10, 6))\n",
    "    \n",
    "    if is_dual: \n",
    "        for model_name, df in dfs.items():\n",
    "            plt.plot(df['epoch'], df[y_column[0]], label=f\"{model_name} - Train\")\n",
    "            plt.plot(df['epoch'], df[y_column[1]], '--', label=f\"{model_name} - Val\")\n",
    "    else:  \n",
    "        for model_name, df in dfs.items():\n",
    "            plt.plot(df['epoch'], df[y_column], label=model_name)\n",
    "    \n",
    "    plt.title(title)\n",
    "    plt.xlabel('Epoch')\n",
    "    plt.ylabel(ylabel)\n",
    "    \n",
    "    if y_limit:\n",
    "        plt.ylim(*y_limit)\n",
    "    \n",
    "    plt.grid(True, linestyle='--', alpha=0.7)\n",
    "    plt.legend()\n",
    "    plt.tight_layout()\n",
    "    \n",
    "    filename = f\"{plots_dir}/{plot_type}.png\"\n",
    "    plt.savefig(filename, dpi=300, bbox_inches='tight')\n",
    "    print(f\"La figura individual '{plot_type}' se ha guardado en: {filename}\")\n",
    "    plt.close()\n",
    "\n",
    "create_and_save_individual_plot('map50-95', 'metrics/mAP50-95(B)', 'Training mAP@0.5:0.95', 'mAP@0.5:0.95')\n",
    "create_and_save_individual_plot('map50', 'metrics/mAP50(B)', 'Training mAP@0.5', 'mAP@0.5')\n",
    "create_and_save_individual_plot('precision', 'metrics/precision(B)', 'Val Precision', 'Precision')\n",
    "create_and_save_individual_plot('recall', 'metrics/recall(B)', 'Val Recall', 'Recall')\n",
    "create_and_save_individual_plot('box_loss', ['train/box_loss', 'val/box_loss'], \n",
    "                               'Training & Validation Box Loss', 'Box Loss', True, (0, 4))\n",
    "create_and_save_individual_plot('cls_loss', ['train/cls_loss', 'val/cls_loss'], \n",
    "                               'Training & Validation Classification Loss', 'Cls Loss', True, (0, 4))\n",
    "\n",
    "fig, axes = plt.subplots(3, 2, figsize=(14, 18))\n",
    "axes = axes.ravel() \n",
    "\n",
    "##############################################################################\n",
    "# 1) mAP@0.5:0.95\n",
    "##############################################################################\n",
    "for model_name, df in dfs.items():\n",
    "    # Ajusta el nombre de la columna a la que aparezca en tu CSV\n",
    "    # En YOLOv5 suele ser 'metrics/mAP_0.5:0.95'\n",
    "    axes[0].plot(df['epoch'], df['metrics/mAP50-95(B)'], label=model_name)\n",
    "\n",
    "axes[0].set_title('Training mAP@0.5:0.95')\n",
    "axes[0].set_xlabel('Epoch')\n",
    "axes[0].set_ylabel('mAP@0.5:0.95')\n",
    "axes[0].legend()\n",
    "\n",
    "##############################################################################\n",
    "# 2) mAP@0.5\n",
    "##############################################################################\n",
    "for model_name, df in dfs.items():\n",
    "    # En YOLOv5 suele ser 'metrics/mAP_0.5'\n",
    "    axes[1].plot(df['epoch'], df['metrics/mAP50(B)'], label=model_name)\n",
    "\n",
    "axes[1].set_title('Training mAP@0.5')\n",
    "axes[1].set_xlabel('Epoch')\n",
    "axes[1].set_ylabel('mAP@0.5')\n",
    "axes[1].legend()\n",
    "\n",
    "##############################################################################\n",
    "# 3) Precision\n",
    "##############################################################################\n",
    "for model_name, df in dfs.items():\n",
    "    # Suele ser 'metrics/precision'\n",
    "    axes[2].plot(df['epoch'], df['metrics/precision(B)'], label=model_name)\n",
    "\n",
    "axes[2].set_title('Val Precision')\n",
    "axes[2].set_xlabel('Epoch')\n",
    "axes[2].set_ylabel('Precision')\n",
    "axes[2].legend()\n",
    "\n",
    "##############################################################################\n",
    "# 4) Recall\n",
    "##############################################################################\n",
    "for model_name, df in dfs.items():\n",
    "    # Suele ser 'metrics/recall'\n",
    "    axes[3].plot(df['epoch'], df['metrics/recall(B)'], label=model_name)\n",
    "\n",
    "axes[3].set_title('Val Recall')\n",
    "axes[3].set_xlabel('Epoch')\n",
    "axes[3].set_ylabel('Recall')\n",
    "axes[3].legend()\n",
    "\n",
    "##############################################################################\n",
    "# 5) Box Loss (Train vs Val)\n",
    "##############################################################################\n",
    "for model_name, df in dfs.items():\n",
    "    # Columnas típicas: 'loss/box' (entrenamiento) y 'val/box_loss' (validación)\n",
    "    axes[4].plot(df['epoch'], df['train/box_loss'], label=f\"{model_name} - Train\")\n",
    "    axes[4].plot(df['epoch'], df['val/box_loss'], '--', label=f\"{model_name} - Val\")\n",
    "\n",
    "axes[4].set_title('Training & Validation Box Loss')\n",
    "axes[4].set_xlabel('Epoch')\n",
    "axes[4].set_ylabel('Box Loss')\n",
    "axes[4].set_ylim(0, 4)\n",
    "axes[4].legend()\n",
    "\n",
    "##############################################################################\n",
    "# 6) Classification Loss (Train vs Val)\n",
    "##############################################################################\n",
    "for model_name, df in dfs.items():\n",
    "    # Columnas típicas: 'loss/cls' (entrenamiento) y 'val/cls_loss' (validación)\n",
    "    axes[5].plot(df['epoch'], df['train/cls_loss'], label=f\"{model_name} - Train\")\n",
    "    axes[5].plot(df['epoch'], df['val/cls_loss'], '--', label=f\"{model_name} - Val\")\n",
    "\n",
    "axes[5].set_title('Training & Validation Classification Loss')\n",
    "axes[5].set_xlabel('Epoch')\n",
    "axes[5].set_ylabel('Cls Loss')\n",
    "axes[5].set_ylim(0, 4)\n",
    "axes[5].legend()\n",
    "\n",
    "##############################################################################\n",
    "# Ajustamos el layout y guardamos la figura (en lugar de mostrarla)\n",
    "##############################################################################\n",
    "plt.tight_layout()\n",
    "\n",
    "output_path = 'plots/yolov_training_metrics.png'\n",
    "\n",
    "os.makedirs('plots', exist_ok=True)  \n",
    "plt.savefig(output_path, dpi=300, bbox_inches='tight')\n",
    "print(f\"La figura se ha guardado en: {output_path}\")\n",
    "plt.close(fig)"
   ]
  },
  {
   "cell_type": "markdown",
   "metadata": {},
   "source": [
    "## **Evaluaciones de empresa**"
   ]
  },
  {
   "cell_type": "code",
   "execution_count": 17,
   "metadata": {},
   "outputs": [],
   "source": [
    "def process_images(directorio_entrada, directorio_referencia, directorio_salida, modelo_path):\n",
    "    \"\"\"\n",
    "    Process all images in a directory with YOLO and compare with reference images.\n",
    "    \n",
    "    Args:\n",
    "        directorio_entrada: Path to directory containing input images\n",
    "        directorio_referencia: Path to directory containing reference images\n",
    "        directorio_salida: Path to save output comparison images\n",
    "        modelo_path: Path to YOLO model weights\n",
    "    \"\"\"\n",
    "    # Create output directory if it doesn't exist\n",
    "    if not os.path.exists(directorio_salida):\n",
    "        os.makedirs(directorio_salida)\n",
    "        print(f\"Directorio creado: {directorio_salida}\")\n",
    "    else:\n",
    "        print(f\"Usando directorio de salida: {directorio_salida}\")\n",
    "    \n",
    "    modelo_personalizado = YOLO(modelo_path)\n",
    "    \n",
    "    archivos_entrada = [f for f in os.listdir(directorio_entrada) if f.lower().endswith(('.jpg', '.jpeg', '.png'))]\n",
    "    \n",
    "    if not archivos_entrada:\n",
    "        print(f\"No se encontraron imágenes en {directorio_entrada}\")\n",
    "        return\n",
    "    \n",
    "    print(f\"Procesando {len(archivos_entrada)} imágenes...\")\n",
    "    \n",
    "    for nombre_archivo in archivos_entrada:\n",
    "        print(f\"Procesando: {nombre_archivo}\")\n",
    "        ruta_imagen = os.path.join(directorio_entrada, nombre_archivo)\n",
    "        \n",
    "        nombre_base = os.path.splitext(nombre_archivo)[0]\n",
    "        nombre_referencia = f\"{nombre_base}_.jpg\"\n",
    "        ruta_imagen_referencia = os.path.join(directorio_referencia, nombre_referencia)\n",
    "        \n",
    "        if not os.path.exists(ruta_imagen_referencia):\n",
    "            print(f\"Advertencia: No se encontró la imagen de referencia {nombre_referencia}\")\n",
    "            ruta_imagen_referencia = None\n",
    "        \n",
    "        resultados = modelo_personalizado(ruta_imagen)\n",
    "        \n",
    "        for r in resultados:\n",
    "            num_detecciones = len(r.boxes)\n",
    "\n",
    "            im_array = r.plot(labels=False, conf=True)\n",
    "\n",
    "            font = cv2.FONT_HERSHEY_SIMPLEX\n",
    "            texto_contador = f\"{num_detecciones}\"\n",
    "\n",
    "            # Calculamos el tamaño del texto para posicionarlo correctamente\n",
    "            textSize = cv2.getTextSize(texto_contador, font, 0.8, 2)[0]\n",
    "            \n",
    "            # Posicionamos en la esquina superior derecha con un margen de 20px\n",
    "            text_x = im_array.shape[1] - textSize[0] - 20\n",
    "            text_y = 30  # 30px desde la parte superior\n",
    "            \n",
    "            # Dibujamos el texto\n",
    "            cv2.putText(im_array, texto_contador, (text_x, text_y), font, 0.8, (255, 255, 255), 2)\n",
    "            \n",
    "            if ruta_imagen_referencia:\n",
    "                img_referencia = cv2.imread(ruta_imagen_referencia)\n",
    "                \n",
    "                h1, w1 = im_array.shape[:2]\n",
    "                h2, w2 = img_referencia.shape[:2]\n",
    "                \n",
    "                if h1 != h2:\n",
    "                    if h1 > h2:\n",
    "                        new_w2 = int(w2 * (h1 / h2))\n",
    "                        img_referencia = cv2.resize(img_referencia, (new_w2, h1))\n",
    "                    else:\n",
    "                        new_w1 = int(w1 * (h2 / h1))\n",
    "                        im_array = cv2.resize(im_array, (new_w1, h2))\n",
    "                \n",
    "                img_combinada = cv2.hconcat([im_array, img_referencia])\n",
    "                \n",
    "                cv2.line(img_combinada, (im_array.shape[1], 0), (im_array.shape[1], img_combinada.shape[0]), (90, 70, 255), 2)\n",
    "                \n",
    "                font = cv2.FONT_HERSHEY_SIMPLEX\n",
    "                cv2.putText(img_combinada, \"YOLO\", (10, 30), font, 1, (0, 255, 0), 2)\n",
    "                cv2.putText(img_combinada, \"IR\", (im_array.shape[1] + 10, 30), font, 1, (0, 255, 0), 2)\n",
    "                \n",
    "                ruta_salida = os.path.join(directorio_salida, f\"comparacion_{nombre_archivo}\")\n",
    "                cv2.imwrite(ruta_salida, img_combinada)\n",
    "            else:\n",
    "                ruta_salida = os.path.join(directorio_salida, f\"yolo_{nombre_archivo}\")\n",
    "                cv2.imwrite(ruta_salida, im_array)\n",
    "            \n",
    "    print(f\"Procesamiento completado. Resultados guardados en {directorio_salida}\")"
   ]
  },
  {
   "cell_type": "markdown",
   "metadata": {},
   "source": [
    "Añadir la evaluación sobre el conjunto de test"
   ]
  },
  {
   "cell_type": "code",
   "execution_count": 18,
   "metadata": {},
   "outputs": [
    {
     "name": "stdout",
     "output_type": "stream",
     "text": [
      "Directorio creado: ..\\03.Datasets\\Evaluacion_Empresa\\DEFAULT\\YOLO_NEW\n",
      "Procesando 94 imágenes...\n",
      "Procesando: 110.jpg\n",
      "Advertencia: No se encontró la imagen de referencia 110_.jpg\n",
      "\n",
      "image 1/1 c:\\Users\\mini7\\Desktop\\Master\\Materias\\TFM\\Laura\\2025_MURIA_Aitor Garca Blanco\\04.Codigo\\..\\03.Datasets\\Evaluacion_Empresa\\DEFAULT\\INPUT DEFAULT\\110.jpg: 576x704 2 cells, 55.2ms\n",
      "Speed: 7.6ms preprocess, 55.2ms inference, 4.0ms postprocess per image at shape (1, 3, 576, 704)\n",
      "Procesando: 116.jpg\n",
      "\n",
      "image 1/1 c:\\Users\\mini7\\Desktop\\Master\\Materias\\TFM\\Laura\\2025_MURIA_Aitor Garca Blanco\\04.Codigo\\..\\03.Datasets\\Evaluacion_Empresa\\DEFAULT\\INPUT DEFAULT\\116.jpg: 576x704 35 cells, 26.2ms\n",
      "Speed: 3.8ms preprocess, 26.2ms inference, 4.0ms postprocess per image at shape (1, 3, 576, 704)\n",
      "Procesando: 124.jpg\n",
      "Advertencia: No se encontró la imagen de referencia 124_.jpg\n",
      "\n",
      "image 1/1 c:\\Users\\mini7\\Desktop\\Master\\Materias\\TFM\\Laura\\2025_MURIA_Aitor Garca Blanco\\04.Codigo\\..\\03.Datasets\\Evaluacion_Empresa\\DEFAULT\\INPUT DEFAULT\\124.jpg: 576x704 2 cells, 12.7ms\n",
      "Speed: 2.7ms preprocess, 12.7ms inference, 1.6ms postprocess per image at shape (1, 3, 576, 704)\n",
      "Procesando: 129.jpg\n",
      "Advertencia: No se encontró la imagen de referencia 129_.jpg\n",
      "\n",
      "image 1/1 c:\\Users\\mini7\\Desktop\\Master\\Materias\\TFM\\Laura\\2025_MURIA_Aitor Garca Blanco\\04.Codigo\\..\\03.Datasets\\Evaluacion_Empresa\\DEFAULT\\INPUT DEFAULT\\129.jpg: 576x704 3 cells, 24.4ms\n",
      "Speed: 4.8ms preprocess, 24.4ms inference, 3.5ms postprocess per image at shape (1, 3, 576, 704)\n",
      "Procesando: 130.jpg\n",
      "\n",
      "image 1/1 c:\\Users\\mini7\\Desktop\\Master\\Materias\\TFM\\Laura\\2025_MURIA_Aitor Garca Blanco\\04.Codigo\\..\\03.Datasets\\Evaluacion_Empresa\\DEFAULT\\INPUT DEFAULT\\130.jpg: 576x704 10 cells, 12.8ms\n",
      "Speed: 2.9ms preprocess, 12.8ms inference, 1.7ms postprocess per image at shape (1, 3, 576, 704)\n",
      "Procesando: 134.jpg\n",
      "Advertencia: No se encontró la imagen de referencia 134_.jpg\n",
      "\n",
      "image 1/1 c:\\Users\\mini7\\Desktop\\Master\\Materias\\TFM\\Laura\\2025_MURIA_Aitor Garca Blanco\\04.Codigo\\..\\03.Datasets\\Evaluacion_Empresa\\DEFAULT\\INPUT DEFAULT\\134.jpg: 576x704 1 cell, 12.3ms\n",
      "Speed: 3.2ms preprocess, 12.3ms inference, 1.6ms postprocess per image at shape (1, 3, 576, 704)\n",
      "Procesando: 135.jpg\n",
      "\n",
      "image 1/1 c:\\Users\\mini7\\Desktop\\Master\\Materias\\TFM\\Laura\\2025_MURIA_Aitor Garca Blanco\\04.Codigo\\..\\03.Datasets\\Evaluacion_Empresa\\DEFAULT\\INPUT DEFAULT\\135.jpg: 576x704 12 cells, 12.6ms\n",
      "Speed: 2.8ms preprocess, 12.6ms inference, 1.9ms postprocess per image at shape (1, 3, 576, 704)\n",
      "Procesando: 137.jpg\n",
      "Advertencia: No se encontró la imagen de referencia 137_.jpg\n",
      "\n",
      "image 1/1 c:\\Users\\mini7\\Desktop\\Master\\Materias\\TFM\\Laura\\2025_MURIA_Aitor Garca Blanco\\04.Codigo\\..\\03.Datasets\\Evaluacion_Empresa\\DEFAULT\\INPUT DEFAULT\\137.jpg: 576x704 (no detections), 24.1ms\n",
      "Speed: 3.8ms preprocess, 24.1ms inference, 1.2ms postprocess per image at shape (1, 3, 576, 704)\n",
      "Procesando: 139.jpg\n",
      "\n",
      "image 1/1 c:\\Users\\mini7\\Desktop\\Master\\Materias\\TFM\\Laura\\2025_MURIA_Aitor Garca Blanco\\04.Codigo\\..\\03.Datasets\\Evaluacion_Empresa\\DEFAULT\\INPUT DEFAULT\\139.jpg: 576x704 33 cells, 12.3ms\n",
      "Speed: 3.0ms preprocess, 12.3ms inference, 1.6ms postprocess per image at shape (1, 3, 576, 704)\n",
      "Procesando: 142.jpg\n",
      "\n",
      "image 1/1 c:\\Users\\mini7\\Desktop\\Master\\Materias\\TFM\\Laura\\2025_MURIA_Aitor Garca Blanco\\04.Codigo\\..\\03.Datasets\\Evaluacion_Empresa\\DEFAULT\\INPUT DEFAULT\\142.jpg: 576x704 59 cells, 12.3ms\n",
      "Speed: 2.7ms preprocess, 12.3ms inference, 1.7ms postprocess per image at shape (1, 3, 576, 704)\n",
      "Procesando: 148.jpg\n",
      "\n",
      "image 1/1 c:\\Users\\mini7\\Desktop\\Master\\Materias\\TFM\\Laura\\2025_MURIA_Aitor Garca Blanco\\04.Codigo\\..\\03.Datasets\\Evaluacion_Empresa\\DEFAULT\\INPUT DEFAULT\\148.jpg: 576x704 4 cells, 12.1ms\n",
      "Speed: 3.0ms preprocess, 12.1ms inference, 1.6ms postprocess per image at shape (1, 3, 576, 704)\n",
      "Procesando: 149.jpg\n",
      "\n",
      "image 1/1 c:\\Users\\mini7\\Desktop\\Master\\Materias\\TFM\\Laura\\2025_MURIA_Aitor Garca Blanco\\04.Codigo\\..\\03.Datasets\\Evaluacion_Empresa\\DEFAULT\\INPUT DEFAULT\\149.jpg: 576x704 10 cells, 12.6ms\n",
      "Speed: 3.3ms preprocess, 12.6ms inference, 1.5ms postprocess per image at shape (1, 3, 576, 704)\n",
      "Procesando: 15.jpg\n",
      "Advertencia: No se encontró la imagen de referencia 15_.jpg\n",
      "\n",
      "image 1/1 c:\\Users\\mini7\\Desktop\\Master\\Materias\\TFM\\Laura\\2025_MURIA_Aitor Garca Blanco\\04.Codigo\\..\\03.Datasets\\Evaluacion_Empresa\\DEFAULT\\INPUT DEFAULT\\15.jpg: 576x704 29 cells, 12.2ms\n",
      "Speed: 3.3ms preprocess, 12.2ms inference, 1.6ms postprocess per image at shape (1, 3, 576, 704)\n",
      "Procesando: 162.jpg\n",
      "\n",
      "image 1/1 c:\\Users\\mini7\\Desktop\\Master\\Materias\\TFM\\Laura\\2025_MURIA_Aitor Garca Blanco\\04.Codigo\\..\\03.Datasets\\Evaluacion_Empresa\\DEFAULT\\INPUT DEFAULT\\162.jpg: 576x704 7 cells, 21.8ms\n",
      "Speed: 3.4ms preprocess, 21.8ms inference, 3.7ms postprocess per image at shape (1, 3, 576, 704)\n",
      "Procesando: 172.jpg\n",
      "\n",
      "image 1/1 c:\\Users\\mini7\\Desktop\\Master\\Materias\\TFM\\Laura\\2025_MURIA_Aitor Garca Blanco\\04.Codigo\\..\\03.Datasets\\Evaluacion_Empresa\\DEFAULT\\INPUT DEFAULT\\172.jpg: 576x704 4 cells, 12.0ms\n",
      "Speed: 2.7ms preprocess, 12.0ms inference, 1.6ms postprocess per image at shape (1, 3, 576, 704)\n",
      "Procesando: 173.jpg\n",
      "\n",
      "image 1/1 c:\\Users\\mini7\\Desktop\\Master\\Materias\\TFM\\Laura\\2025_MURIA_Aitor Garca Blanco\\04.Codigo\\..\\03.Datasets\\Evaluacion_Empresa\\DEFAULT\\INPUT DEFAULT\\173.jpg: 576x704 39 cells, 25.2ms\n",
      "Speed: 3.3ms preprocess, 25.2ms inference, 3.6ms postprocess per image at shape (1, 3, 576, 704)\n",
      "Procesando: 174.jpg\n",
      "\n",
      "image 1/1 c:\\Users\\mini7\\Desktop\\Master\\Materias\\TFM\\Laura\\2025_MURIA_Aitor Garca Blanco\\04.Codigo\\..\\03.Datasets\\Evaluacion_Empresa\\DEFAULT\\INPUT DEFAULT\\174.jpg: 576x704 6 cells, 12.5ms\n",
      "Speed: 3.0ms preprocess, 12.5ms inference, 1.8ms postprocess per image at shape (1, 3, 576, 704)\n",
      "Procesando: 179.jpg\n",
      "Advertencia: No se encontró la imagen de referencia 179_.jpg\n",
      "\n",
      "image 1/1 c:\\Users\\mini7\\Desktop\\Master\\Materias\\TFM\\Laura\\2025_MURIA_Aitor Garca Blanco\\04.Codigo\\..\\03.Datasets\\Evaluacion_Empresa\\DEFAULT\\INPUT DEFAULT\\179.jpg: 576x704 (no detections), 12.1ms\n",
      "Speed: 4.3ms preprocess, 12.1ms inference, 0.6ms postprocess per image at shape (1, 3, 576, 704)\n",
      "Procesando: 181.jpg\n",
      "\n",
      "image 1/1 c:\\Users\\mini7\\Desktop\\Master\\Materias\\TFM\\Laura\\2025_MURIA_Aitor Garca Blanco\\04.Codigo\\..\\03.Datasets\\Evaluacion_Empresa\\DEFAULT\\INPUT DEFAULT\\181.jpg: 576x704 7 cells, 12.6ms\n",
      "Speed: 3.2ms preprocess, 12.6ms inference, 1.9ms postprocess per image at shape (1, 3, 576, 704)\n",
      "Procesando: 194.jpg\n",
      "\n",
      "image 1/1 c:\\Users\\mini7\\Desktop\\Master\\Materias\\TFM\\Laura\\2025_MURIA_Aitor Garca Blanco\\04.Codigo\\..\\03.Datasets\\Evaluacion_Empresa\\DEFAULT\\INPUT DEFAULT\\194.jpg: 576x704 61 cells, 12.0ms\n",
      "Speed: 2.9ms preprocess, 12.0ms inference, 1.6ms postprocess per image at shape (1, 3, 576, 704)\n",
      "Procesando: 211.jpg\n",
      "Advertencia: No se encontró la imagen de referencia 211_.jpg\n",
      "\n",
      "image 1/1 c:\\Users\\mini7\\Desktop\\Master\\Materias\\TFM\\Laura\\2025_MURIA_Aitor Garca Blanco\\04.Codigo\\..\\03.Datasets\\Evaluacion_Empresa\\DEFAULT\\INPUT DEFAULT\\211.jpg: 576x704 2 cells, 16.5ms\n",
      "Speed: 3.0ms preprocess, 16.5ms inference, 2.3ms postprocess per image at shape (1, 3, 576, 704)\n",
      "Procesando: 212.jpg\n",
      "\n",
      "image 1/1 c:\\Users\\mini7\\Desktop\\Master\\Materias\\TFM\\Laura\\2025_MURIA_Aitor Garca Blanco\\04.Codigo\\..\\03.Datasets\\Evaluacion_Empresa\\DEFAULT\\INPUT DEFAULT\\212.jpg: 576x704 16 cells, 13.2ms\n",
      "Speed: 3.2ms preprocess, 13.2ms inference, 1.8ms postprocess per image at shape (1, 3, 576, 704)\n",
      "Procesando: 219.jpg\n",
      "\n",
      "image 1/1 c:\\Users\\mini7\\Desktop\\Master\\Materias\\TFM\\Laura\\2025_MURIA_Aitor Garca Blanco\\04.Codigo\\..\\03.Datasets\\Evaluacion_Empresa\\DEFAULT\\INPUT DEFAULT\\219.jpg: 576x704 2 cells, 22.0ms\n",
      "Speed: 3.1ms preprocess, 22.0ms inference, 3.5ms postprocess per image at shape (1, 3, 576, 704)\n",
      "Procesando: 220.jpg\n",
      "\n",
      "image 1/1 c:\\Users\\mini7\\Desktop\\Master\\Materias\\TFM\\Laura\\2025_MURIA_Aitor Garca Blanco\\04.Codigo\\..\\03.Datasets\\Evaluacion_Empresa\\DEFAULT\\INPUT DEFAULT\\220.jpg: 576x704 3 cells, 18.5ms\n",
      "Speed: 4.0ms preprocess, 18.5ms inference, 1.8ms postprocess per image at shape (1, 3, 576, 704)\n",
      "Procesando: 221.jpg\n",
      "\n",
      "image 1/1 c:\\Users\\mini7\\Desktop\\Master\\Materias\\TFM\\Laura\\2025_MURIA_Aitor Garca Blanco\\04.Codigo\\..\\03.Datasets\\Evaluacion_Empresa\\DEFAULT\\INPUT DEFAULT\\221.jpg: 576x704 36 cells, 19.0ms\n",
      "Speed: 3.6ms preprocess, 19.0ms inference, 3.4ms postprocess per image at shape (1, 3, 576, 704)\n",
      "Procesando: 228.jpg\n",
      "Advertencia: No se encontró la imagen de referencia 228_.jpg\n",
      "\n",
      "image 1/1 c:\\Users\\mini7\\Desktop\\Master\\Materias\\TFM\\Laura\\2025_MURIA_Aitor Garca Blanco\\04.Codigo\\..\\03.Datasets\\Evaluacion_Empresa\\DEFAULT\\INPUT DEFAULT\\228.jpg: 576x704 1 cell, 22.8ms\n",
      "Speed: 4.6ms preprocess, 22.8ms inference, 3.7ms postprocess per image at shape (1, 3, 576, 704)\n",
      "Procesando: 229.jpg\n",
      "\n",
      "image 1/1 c:\\Users\\mini7\\Desktop\\Master\\Materias\\TFM\\Laura\\2025_MURIA_Aitor Garca Blanco\\04.Codigo\\..\\03.Datasets\\Evaluacion_Empresa\\DEFAULT\\INPUT DEFAULT\\229.jpg: 576x704 50 cells, 23.4ms\n",
      "Speed: 3.2ms preprocess, 23.4ms inference, 3.9ms postprocess per image at shape (1, 3, 576, 704)\n",
      "Procesando: 239.jpg\n",
      "Advertencia: No se encontró la imagen de referencia 239_.jpg\n",
      "\n",
      "image 1/1 c:\\Users\\mini7\\Desktop\\Master\\Materias\\TFM\\Laura\\2025_MURIA_Aitor Garca Blanco\\04.Codigo\\..\\03.Datasets\\Evaluacion_Empresa\\DEFAULT\\INPUT DEFAULT\\239.jpg: 576x704 8 cells, 24.5ms\n",
      "Speed: 3.1ms preprocess, 24.5ms inference, 3.7ms postprocess per image at shape (1, 3, 576, 704)\n",
      "Procesando: 242.jpg\n",
      "\n",
      "image 1/1 c:\\Users\\mini7\\Desktop\\Master\\Materias\\TFM\\Laura\\2025_MURIA_Aitor Garca Blanco\\04.Codigo\\..\\03.Datasets\\Evaluacion_Empresa\\DEFAULT\\INPUT DEFAULT\\242.jpg: 576x704 6 cells, 23.6ms\n",
      "Speed: 5.5ms preprocess, 23.6ms inference, 3.3ms postprocess per image at shape (1, 3, 576, 704)\n",
      "Procesando: 244.jpg\n",
      "\n",
      "image 1/1 c:\\Users\\mini7\\Desktop\\Master\\Materias\\TFM\\Laura\\2025_MURIA_Aitor Garca Blanco\\04.Codigo\\..\\03.Datasets\\Evaluacion_Empresa\\DEFAULT\\INPUT DEFAULT\\244.jpg: 576x704 9 cells, 20.2ms\n",
      "Speed: 3.0ms preprocess, 20.2ms inference, 2.1ms postprocess per image at shape (1, 3, 576, 704)\n",
      "Procesando: 245.jpg\n",
      "\n",
      "image 1/1 c:\\Users\\mini7\\Desktop\\Master\\Materias\\TFM\\Laura\\2025_MURIA_Aitor Garca Blanco\\04.Codigo\\..\\03.Datasets\\Evaluacion_Empresa\\DEFAULT\\INPUT DEFAULT\\245.jpg: 576x704 10 cells, 20.6ms\n",
      "Speed: 3.2ms preprocess, 20.6ms inference, 2.2ms postprocess per image at shape (1, 3, 576, 704)\n",
      "Procesando: 25.jpg\n",
      "\n",
      "image 1/1 c:\\Users\\mini7\\Desktop\\Master\\Materias\\TFM\\Laura\\2025_MURIA_Aitor Garca Blanco\\04.Codigo\\..\\03.Datasets\\Evaluacion_Empresa\\DEFAULT\\INPUT DEFAULT\\25.jpg: 576x704 22 cells, 20.7ms\n",
      "Speed: 3.3ms preprocess, 20.7ms inference, 1.7ms postprocess per image at shape (1, 3, 576, 704)\n",
      "Procesando: 271.jpg\n",
      "\n",
      "image 1/1 c:\\Users\\mini7\\Desktop\\Master\\Materias\\TFM\\Laura\\2025_MURIA_Aitor Garca Blanco\\04.Codigo\\..\\03.Datasets\\Evaluacion_Empresa\\DEFAULT\\INPUT DEFAULT\\271.jpg: 576x704 1 cell, 21.3ms\n",
      "Speed: 2.6ms preprocess, 21.3ms inference, 1.9ms postprocess per image at shape (1, 3, 576, 704)\n",
      "Procesando: 273.jpg\n",
      "\n",
      "image 1/1 c:\\Users\\mini7\\Desktop\\Master\\Materias\\TFM\\Laura\\2025_MURIA_Aitor Garca Blanco\\04.Codigo\\..\\03.Datasets\\Evaluacion_Empresa\\DEFAULT\\INPUT DEFAULT\\273.jpg: 576x704 8 cells, 21.5ms\n",
      "Speed: 3.0ms preprocess, 21.5ms inference, 1.8ms postprocess per image at shape (1, 3, 576, 704)\n",
      "Procesando: 279.jpg\n",
      "\n",
      "image 1/1 c:\\Users\\mini7\\Desktop\\Master\\Materias\\TFM\\Laura\\2025_MURIA_Aitor Garca Blanco\\04.Codigo\\..\\03.Datasets\\Evaluacion_Empresa\\DEFAULT\\INPUT DEFAULT\\279.jpg: 576x704 15 cells, 22.1ms\n",
      "Speed: 2.9ms preprocess, 22.1ms inference, 2.0ms postprocess per image at shape (1, 3, 576, 704)\n",
      "Procesando: 28.jpg\n",
      "\n",
      "image 1/1 c:\\Users\\mini7\\Desktop\\Master\\Materias\\TFM\\Laura\\2025_MURIA_Aitor Garca Blanco\\04.Codigo\\..\\03.Datasets\\Evaluacion_Empresa\\DEFAULT\\INPUT DEFAULT\\28.jpg: 576x704 24 cells, 22.5ms\n",
      "Speed: 4.3ms preprocess, 22.5ms inference, 3.4ms postprocess per image at shape (1, 3, 576, 704)\n",
      "Procesando: 295.jpg\n",
      "\n",
      "image 1/1 c:\\Users\\mini7\\Desktop\\Master\\Materias\\TFM\\Laura\\2025_MURIA_Aitor Garca Blanco\\04.Codigo\\..\\03.Datasets\\Evaluacion_Empresa\\DEFAULT\\INPUT DEFAULT\\295.jpg: 576x704 1 cell, 22.7ms\n",
      "Speed: 2.6ms preprocess, 22.7ms inference, 1.8ms postprocess per image at shape (1, 3, 576, 704)\n",
      "Procesando: 296.jpg\n",
      "\n",
      "image 1/1 c:\\Users\\mini7\\Desktop\\Master\\Materias\\TFM\\Laura\\2025_MURIA_Aitor Garca Blanco\\04.Codigo\\..\\03.Datasets\\Evaluacion_Empresa\\DEFAULT\\INPUT DEFAULT\\296.jpg: 576x704 11 cells, 22.7ms\n",
      "Speed: 3.5ms preprocess, 22.7ms inference, 2.0ms postprocess per image at shape (1, 3, 576, 704)\n",
      "Procesando: 299.jpg\n",
      "\n",
      "image 1/1 c:\\Users\\mini7\\Desktop\\Master\\Materias\\TFM\\Laura\\2025_MURIA_Aitor Garca Blanco\\04.Codigo\\..\\03.Datasets\\Evaluacion_Empresa\\DEFAULT\\INPUT DEFAULT\\299.jpg: 576x704 3 cells, 23.3ms\n",
      "Speed: 2.8ms preprocess, 23.3ms inference, 2.1ms postprocess per image at shape (1, 3, 576, 704)\n",
      "Procesando: 300.jpg\n",
      "\n",
      "image 1/1 c:\\Users\\mini7\\Desktop\\Master\\Materias\\TFM\\Laura\\2025_MURIA_Aitor Garca Blanco\\04.Codigo\\..\\03.Datasets\\Evaluacion_Empresa\\DEFAULT\\INPUT DEFAULT\\300.jpg: 576x704 14 cells, 23.3ms\n",
      "Speed: 2.8ms preprocess, 23.3ms inference, 2.0ms postprocess per image at shape (1, 3, 576, 704)\n",
      "Procesando: 301.jpg\n",
      "\n",
      "image 1/1 c:\\Users\\mini7\\Desktop\\Master\\Materias\\TFM\\Laura\\2025_MURIA_Aitor Garca Blanco\\04.Codigo\\..\\03.Datasets\\Evaluacion_Empresa\\DEFAULT\\INPUT DEFAULT\\301.jpg: 576x704 20 cells, 24.2ms\n",
      "Speed: 3.5ms preprocess, 24.2ms inference, 2.6ms postprocess per image at shape (1, 3, 576, 704)\n",
      "Procesando: 302.jpg\n",
      "\n",
      "image 1/1 c:\\Users\\mini7\\Desktop\\Master\\Materias\\TFM\\Laura\\2025_MURIA_Aitor Garca Blanco\\04.Codigo\\..\\03.Datasets\\Evaluacion_Empresa\\DEFAULT\\INPUT DEFAULT\\302.jpg: 576x704 7 cells, 24.2ms\n",
      "Speed: 4.0ms preprocess, 24.2ms inference, 1.9ms postprocess per image at shape (1, 3, 576, 704)\n",
      "Procesando: 306.jpg\n",
      "\n",
      "image 1/1 c:\\Users\\mini7\\Desktop\\Master\\Materias\\TFM\\Laura\\2025_MURIA_Aitor Garca Blanco\\04.Codigo\\..\\03.Datasets\\Evaluacion_Empresa\\DEFAULT\\INPUT DEFAULT\\306.jpg: 576x704 21 cells, 24.6ms\n",
      "Speed: 2.8ms preprocess, 24.6ms inference, 2.2ms postprocess per image at shape (1, 3, 576, 704)\n",
      "Procesando: 307.jpg\n",
      "\n",
      "image 1/1 c:\\Users\\mini7\\Desktop\\Master\\Materias\\TFM\\Laura\\2025_MURIA_Aitor Garca Blanco\\04.Codigo\\..\\03.Datasets\\Evaluacion_Empresa\\DEFAULT\\INPUT DEFAULT\\307.jpg: 576x704 5 cells, 24.7ms\n",
      "Speed: 3.3ms preprocess, 24.7ms inference, 1.9ms postprocess per image at shape (1, 3, 576, 704)\n",
      "Procesando: 310.jpg\n",
      "Advertencia: No se encontró la imagen de referencia 310_.jpg\n",
      "\n",
      "image 1/1 c:\\Users\\mini7\\Desktop\\Master\\Materias\\TFM\\Laura\\2025_MURIA_Aitor Garca Blanco\\04.Codigo\\..\\03.Datasets\\Evaluacion_Empresa\\DEFAULT\\INPUT DEFAULT\\310.jpg: 576x704 3 cells, 25.6ms\n",
      "Speed: 3.4ms preprocess, 25.6ms inference, 4.1ms postprocess per image at shape (1, 3, 576, 704)\n",
      "Procesando: 311.jpg\n",
      "\n",
      "image 1/1 c:\\Users\\mini7\\Desktop\\Master\\Materias\\TFM\\Laura\\2025_MURIA_Aitor Garca Blanco\\04.Codigo\\..\\03.Datasets\\Evaluacion_Empresa\\DEFAULT\\INPUT DEFAULT\\311.jpg: 576x704 18 cells, 25.4ms\n",
      "Speed: 3.0ms preprocess, 25.4ms inference, 2.5ms postprocess per image at shape (1, 3, 576, 704)\n",
      "Procesando: 320.jpg\n",
      "\n",
      "image 1/1 c:\\Users\\mini7\\Desktop\\Master\\Materias\\TFM\\Laura\\2025_MURIA_Aitor Garca Blanco\\04.Codigo\\..\\03.Datasets\\Evaluacion_Empresa\\DEFAULT\\INPUT DEFAULT\\320.jpg: 576x704 25 cells, 26.0ms\n",
      "Speed: 2.4ms preprocess, 26.0ms inference, 2.0ms postprocess per image at shape (1, 3, 576, 704)\n",
      "Procesando: 321.jpg\n",
      "\n",
      "image 1/1 c:\\Users\\mini7\\Desktop\\Master\\Materias\\TFM\\Laura\\2025_MURIA_Aitor Garca Blanco\\04.Codigo\\..\\03.Datasets\\Evaluacion_Empresa\\DEFAULT\\INPUT DEFAULT\\321.jpg: 576x704 4 cells, 26.2ms\n",
      "Speed: 3.2ms preprocess, 26.2ms inference, 2.4ms postprocess per image at shape (1, 3, 576, 704)\n",
      "Procesando: 323.jpg\n",
      "\n",
      "image 1/1 c:\\Users\\mini7\\Desktop\\Master\\Materias\\TFM\\Laura\\2025_MURIA_Aitor Garca Blanco\\04.Codigo\\..\\03.Datasets\\Evaluacion_Empresa\\DEFAULT\\INPUT DEFAULT\\323.jpg: 576x704 8 cells, 26.5ms\n",
      "Speed: 3.3ms preprocess, 26.5ms inference, 1.9ms postprocess per image at shape (1, 3, 576, 704)\n",
      "Procesando: 324.jpg\n",
      "\n",
      "image 1/1 c:\\Users\\mini7\\Desktop\\Master\\Materias\\TFM\\Laura\\2025_MURIA_Aitor Garca Blanco\\04.Codigo\\..\\03.Datasets\\Evaluacion_Empresa\\DEFAULT\\INPUT DEFAULT\\324.jpg: 576x704 19 cells, 26.6ms\n",
      "Speed: 3.3ms preprocess, 26.6ms inference, 1.9ms postprocess per image at shape (1, 3, 576, 704)\n",
      "Procesando: 33.jpg\n",
      "\n",
      "image 1/1 c:\\Users\\mini7\\Desktop\\Master\\Materias\\TFM\\Laura\\2025_MURIA_Aitor Garca Blanco\\04.Codigo\\..\\03.Datasets\\Evaluacion_Empresa\\DEFAULT\\INPUT DEFAULT\\33.jpg: 576x704 19 cells, 27.2ms\n",
      "Speed: 3.0ms preprocess, 27.2ms inference, 4.1ms postprocess per image at shape (1, 3, 576, 704)\n",
      "Procesando: 330.jpg\n",
      "\n",
      "image 1/1 c:\\Users\\mini7\\Desktop\\Master\\Materias\\TFM\\Laura\\2025_MURIA_Aitor Garca Blanco\\04.Codigo\\..\\03.Datasets\\Evaluacion_Empresa\\DEFAULT\\INPUT DEFAULT\\330.jpg: 576x704 13 cells, 27.4ms\n",
      "Speed: 3.6ms preprocess, 27.4ms inference, 2.3ms postprocess per image at shape (1, 3, 576, 704)\n",
      "Procesando: 334.jpg\n",
      "\n",
      "image 1/1 c:\\Users\\mini7\\Desktop\\Master\\Materias\\TFM\\Laura\\2025_MURIA_Aitor Garca Blanco\\04.Codigo\\..\\03.Datasets\\Evaluacion_Empresa\\DEFAULT\\INPUT DEFAULT\\334.jpg: 576x704 55 cells, 28.1ms\n",
      "Speed: 4.1ms preprocess, 28.1ms inference, 4.1ms postprocess per image at shape (1, 3, 576, 704)\n",
      "Procesando: 339.jpg\n",
      "Advertencia: No se encontró la imagen de referencia 339_.jpg\n",
      "\n",
      "image 1/1 c:\\Users\\mini7\\Desktop\\Master\\Materias\\TFM\\Laura\\2025_MURIA_Aitor Garca Blanco\\04.Codigo\\..\\03.Datasets\\Evaluacion_Empresa\\DEFAULT\\INPUT DEFAULT\\339.jpg: 576x704 (no detections), 28.0ms\n",
      "Speed: 2.3ms preprocess, 28.0ms inference, 1.0ms postprocess per image at shape (1, 3, 576, 704)\n",
      "Procesando: 344.jpg\n",
      "Advertencia: No se encontró la imagen de referencia 344_.jpg\n",
      "\n",
      "image 1/1 c:\\Users\\mini7\\Desktop\\Master\\Materias\\TFM\\Laura\\2025_MURIA_Aitor Garca Blanco\\04.Codigo\\..\\03.Datasets\\Evaluacion_Empresa\\DEFAULT\\INPUT DEFAULT\\344.jpg: 576x704 19 cells, 28.5ms\n",
      "Speed: 2.6ms preprocess, 28.5ms inference, 2.7ms postprocess per image at shape (1, 3, 576, 704)\n",
      "Procesando: 346.jpg\n",
      "\n",
      "image 1/1 c:\\Users\\mini7\\Desktop\\Master\\Materias\\TFM\\Laura\\2025_MURIA_Aitor Garca Blanco\\04.Codigo\\..\\03.Datasets\\Evaluacion_Empresa\\DEFAULT\\INPUT DEFAULT\\346.jpg: 576x704 8 cells, 28.7ms\n",
      "Speed: 3.8ms preprocess, 28.7ms inference, 2.1ms postprocess per image at shape (1, 3, 576, 704)\n",
      "Procesando: 347.jpg\n",
      "\n",
      "image 1/1 c:\\Users\\mini7\\Desktop\\Master\\Materias\\TFM\\Laura\\2025_MURIA_Aitor Garca Blanco\\04.Codigo\\..\\03.Datasets\\Evaluacion_Empresa\\DEFAULT\\INPUT DEFAULT\\347.jpg: 576x704 14 cells, 29.1ms\n",
      "Speed: 5.0ms preprocess, 29.1ms inference, 2.3ms postprocess per image at shape (1, 3, 576, 704)\n",
      "Procesando: 35.jpg\n",
      "\n",
      "image 1/1 c:\\Users\\mini7\\Desktop\\Master\\Materias\\TFM\\Laura\\2025_MURIA_Aitor Garca Blanco\\04.Codigo\\..\\03.Datasets\\Evaluacion_Empresa\\DEFAULT\\INPUT DEFAULT\\35.jpg: 576x704 41 cells, 28.8ms\n",
      "Speed: 3.5ms preprocess, 28.8ms inference, 2.3ms postprocess per image at shape (1, 3, 576, 704)\n",
      "Procesando: 357.jpg\n",
      "\n",
      "image 1/1 c:\\Users\\mini7\\Desktop\\Master\\Materias\\TFM\\Laura\\2025_MURIA_Aitor Garca Blanco\\04.Codigo\\..\\03.Datasets\\Evaluacion_Empresa\\DEFAULT\\INPUT DEFAULT\\357.jpg: 576x704 1 cell, 29.8ms\n",
      "Speed: 3.8ms preprocess, 29.8ms inference, 2.3ms postprocess per image at shape (1, 3, 576, 704)\n",
      "Procesando: 360.jpg\n",
      "\n",
      "image 1/1 c:\\Users\\mini7\\Desktop\\Master\\Materias\\TFM\\Laura\\2025_MURIA_Aitor Garca Blanco\\04.Codigo\\..\\03.Datasets\\Evaluacion_Empresa\\DEFAULT\\INPUT DEFAULT\\360.jpg: 576x704 8 cells, 29.7ms\n",
      "Speed: 2.7ms preprocess, 29.7ms inference, 2.0ms postprocess per image at shape (1, 3, 576, 704)\n",
      "Procesando: 368.jpg\n",
      "\n",
      "image 1/1 c:\\Users\\mini7\\Desktop\\Master\\Materias\\TFM\\Laura\\2025_MURIA_Aitor Garca Blanco\\04.Codigo\\..\\03.Datasets\\Evaluacion_Empresa\\DEFAULT\\INPUT DEFAULT\\368.jpg: 576x704 49 cells, 30.2ms\n",
      "Speed: 3.2ms preprocess, 30.2ms inference, 2.5ms postprocess per image at shape (1, 3, 576, 704)\n",
      "Procesando: 369.jpg\n",
      "\n",
      "image 1/1 c:\\Users\\mini7\\Desktop\\Master\\Materias\\TFM\\Laura\\2025_MURIA_Aitor Garca Blanco\\04.Codigo\\..\\03.Datasets\\Evaluacion_Empresa\\DEFAULT\\INPUT DEFAULT\\369.jpg: 576x704 3 cells, 30.3ms\n",
      "Speed: 3.3ms preprocess, 30.3ms inference, 2.2ms postprocess per image at shape (1, 3, 576, 704)\n",
      "Procesando: 371.jpg\n",
      "\n",
      "image 1/1 c:\\Users\\mini7\\Desktop\\Master\\Materias\\TFM\\Laura\\2025_MURIA_Aitor Garca Blanco\\04.Codigo\\..\\03.Datasets\\Evaluacion_Empresa\\DEFAULT\\INPUT DEFAULT\\371.jpg: 576x704 26 cells, 30.7ms\n",
      "Speed: 3.6ms preprocess, 30.7ms inference, 2.6ms postprocess per image at shape (1, 3, 576, 704)\n",
      "Procesando: 378.jpg\n",
      "\n",
      "image 1/1 c:\\Users\\mini7\\Desktop\\Master\\Materias\\TFM\\Laura\\2025_MURIA_Aitor Garca Blanco\\04.Codigo\\..\\03.Datasets\\Evaluacion_Empresa\\DEFAULT\\INPUT DEFAULT\\378.jpg: 576x704 10 cells, 32.0ms\n",
      "Speed: 4.1ms preprocess, 32.0ms inference, 1.9ms postprocess per image at shape (1, 3, 576, 704)\n",
      "Procesando: 379.jpg\n",
      "Advertencia: No se encontró la imagen de referencia 379_.jpg\n",
      "\n",
      "image 1/1 c:\\Users\\mini7\\Desktop\\Master\\Materias\\TFM\\Laura\\2025_MURIA_Aitor Garca Blanco\\04.Codigo\\..\\03.Datasets\\Evaluacion_Empresa\\DEFAULT\\INPUT DEFAULT\\379.jpg: 576x704 3 cells, 32.0ms\n",
      "Speed: 3.5ms preprocess, 32.0ms inference, 2.4ms postprocess per image at shape (1, 3, 576, 704)\n",
      "Procesando: 38.jpg\n",
      "\n",
      "image 1/1 c:\\Users\\mini7\\Desktop\\Master\\Materias\\TFM\\Laura\\2025_MURIA_Aitor Garca Blanco\\04.Codigo\\..\\03.Datasets\\Evaluacion_Empresa\\DEFAULT\\INPUT DEFAULT\\38.jpg: 576x704 23 cells, 32.4ms\n",
      "Speed: 3.0ms preprocess, 32.4ms inference, 1.9ms postprocess per image at shape (1, 3, 576, 704)\n",
      "Procesando: 382.jpg\n",
      "\n",
      "image 1/1 c:\\Users\\mini7\\Desktop\\Master\\Materias\\TFM\\Laura\\2025_MURIA_Aitor Garca Blanco\\04.Codigo\\..\\03.Datasets\\Evaluacion_Empresa\\DEFAULT\\INPUT DEFAULT\\382.jpg: 576x704 5 cells, 32.5ms\n",
      "Speed: 3.0ms preprocess, 32.5ms inference, 2.1ms postprocess per image at shape (1, 3, 576, 704)\n",
      "Procesando: 389.jpg\n",
      "\n",
      "image 1/1 c:\\Users\\mini7\\Desktop\\Master\\Materias\\TFM\\Laura\\2025_MURIA_Aitor Garca Blanco\\04.Codigo\\..\\03.Datasets\\Evaluacion_Empresa\\DEFAULT\\INPUT DEFAULT\\389.jpg: 576x704 42 cells, 33.3ms\n",
      "Speed: 2.8ms preprocess, 33.3ms inference, 2.3ms postprocess per image at shape (1, 3, 576, 704)\n",
      "Procesando: 392.jpg\n",
      "Advertencia: No se encontró la imagen de referencia 392_.jpg\n",
      "\n",
      "image 1/1 c:\\Users\\mini7\\Desktop\\Master\\Materias\\TFM\\Laura\\2025_MURIA_Aitor Garca Blanco\\04.Codigo\\..\\03.Datasets\\Evaluacion_Empresa\\DEFAULT\\INPUT DEFAULT\\392.jpg: 576x704 6 cells, 33.4ms\n",
      "Speed: 3.0ms preprocess, 33.4ms inference, 2.1ms postprocess per image at shape (1, 3, 576, 704)\n",
      "Procesando: 399.jpg\n",
      "Advertencia: No se encontró la imagen de referencia 399_.jpg\n",
      "\n",
      "image 1/1 c:\\Users\\mini7\\Desktop\\Master\\Materias\\TFM\\Laura\\2025_MURIA_Aitor Garca Blanco\\04.Codigo\\..\\03.Datasets\\Evaluacion_Empresa\\DEFAULT\\INPUT DEFAULT\\399.jpg: 576x704 2 cells, 33.6ms\n",
      "Speed: 2.6ms preprocess, 33.6ms inference, 2.2ms postprocess per image at shape (1, 3, 576, 704)\n",
      "Procesando: 40.jpg\n",
      "\n",
      "image 1/1 c:\\Users\\mini7\\Desktop\\Master\\Materias\\TFM\\Laura\\2025_MURIA_Aitor Garca Blanco\\04.Codigo\\..\\03.Datasets\\Evaluacion_Empresa\\DEFAULT\\INPUT DEFAULT\\40.jpg: 576x704 20 cells, 33.7ms\n",
      "Speed: 3.5ms preprocess, 33.7ms inference, 3.7ms postprocess per image at shape (1, 3, 576, 704)\n",
      "Procesando: 415.jpg\n",
      "\n",
      "image 1/1 c:\\Users\\mini7\\Desktop\\Master\\Materias\\TFM\\Laura\\2025_MURIA_Aitor Garca Blanco\\04.Codigo\\..\\03.Datasets\\Evaluacion_Empresa\\DEFAULT\\INPUT DEFAULT\\415.jpg: 576x704 37 cells, 33.6ms\n",
      "Speed: 2.8ms preprocess, 33.6ms inference, 1.9ms postprocess per image at shape (1, 3, 576, 704)\n",
      "Procesando: 419.jpg\n",
      "Advertencia: No se encontró la imagen de referencia 419_.jpg\n",
      "\n",
      "image 1/1 c:\\Users\\mini7\\Desktop\\Master\\Materias\\TFM\\Laura\\2025_MURIA_Aitor Garca Blanco\\04.Codigo\\..\\03.Datasets\\Evaluacion_Empresa\\DEFAULT\\INPUT DEFAULT\\419.jpg: 576x704 2 cells, 33.6ms\n",
      "Speed: 2.7ms preprocess, 33.6ms inference, 2.3ms postprocess per image at shape (1, 3, 576, 704)\n",
      "Procesando: 423.jpg\n",
      "\n",
      "image 1/1 c:\\Users\\mini7\\Desktop\\Master\\Materias\\TFM\\Laura\\2025_MURIA_Aitor Garca Blanco\\04.Codigo\\..\\03.Datasets\\Evaluacion_Empresa\\DEFAULT\\INPUT DEFAULT\\423.jpg: 576x704 29 cells, 33.6ms\n",
      "Speed: 3.1ms preprocess, 33.6ms inference, 1.9ms postprocess per image at shape (1, 3, 576, 704)\n",
      "Procesando: 428.jpg\n",
      "\n",
      "image 1/1 c:\\Users\\mini7\\Desktop\\Master\\Materias\\TFM\\Laura\\2025_MURIA_Aitor Garca Blanco\\04.Codigo\\..\\03.Datasets\\Evaluacion_Empresa\\DEFAULT\\INPUT DEFAULT\\428.jpg: 576x704 16 cells, 33.6ms\n",
      "Speed: 2.8ms preprocess, 33.6ms inference, 1.8ms postprocess per image at shape (1, 3, 576, 704)\n",
      "Procesando: 445.jpg\n",
      "\n",
      "image 1/1 c:\\Users\\mini7\\Desktop\\Master\\Materias\\TFM\\Laura\\2025_MURIA_Aitor Garca Blanco\\04.Codigo\\..\\03.Datasets\\Evaluacion_Empresa\\DEFAULT\\INPUT DEFAULT\\445.jpg: 576x704 6 cells, 34.5ms\n",
      "Speed: 2.8ms preprocess, 34.5ms inference, 3.6ms postprocess per image at shape (1, 3, 576, 704)\n",
      "Procesando: 457.jpg\n",
      "Advertencia: No se encontró la imagen de referencia 457_.jpg\n",
      "\n",
      "image 1/1 c:\\Users\\mini7\\Desktop\\Master\\Materias\\TFM\\Laura\\2025_MURIA_Aitor Garca Blanco\\04.Codigo\\..\\03.Datasets\\Evaluacion_Empresa\\DEFAULT\\INPUT DEFAULT\\457.jpg: 576x704 3 cells, 34.5ms\n",
      "Speed: 2.5ms preprocess, 34.5ms inference, 2.0ms postprocess per image at shape (1, 3, 576, 704)\n",
      "Procesando: 461.jpg\n",
      "\n",
      "image 1/1 c:\\Users\\mini7\\Desktop\\Master\\Materias\\TFM\\Laura\\2025_MURIA_Aitor Garca Blanco\\04.Codigo\\..\\03.Datasets\\Evaluacion_Empresa\\DEFAULT\\INPUT DEFAULT\\461.jpg: 576x704 33 cells, 34.8ms\n",
      "Speed: 2.8ms preprocess, 34.8ms inference, 4.0ms postprocess per image at shape (1, 3, 576, 704)\n",
      "Procesando: 464.jpg\n",
      "Advertencia: No se encontró la imagen de referencia 464_.jpg\n",
      "\n",
      "image 1/1 c:\\Users\\mini7\\Desktop\\Master\\Materias\\TFM\\Laura\\2025_MURIA_Aitor Garca Blanco\\04.Codigo\\..\\03.Datasets\\Evaluacion_Empresa\\DEFAULT\\INPUT DEFAULT\\464.jpg: 576x704 3 cells, 35.0ms\n",
      "Speed: 3.3ms preprocess, 35.0ms inference, 2.1ms postprocess per image at shape (1, 3, 576, 704)\n",
      "Procesando: 465.jpg\n",
      "\n",
      "image 1/1 c:\\Users\\mini7\\Desktop\\Master\\Materias\\TFM\\Laura\\2025_MURIA_Aitor Garca Blanco\\04.Codigo\\..\\03.Datasets\\Evaluacion_Empresa\\DEFAULT\\INPUT DEFAULT\\465.jpg: 576x704 5 cells, 34.8ms\n",
      "Speed: 2.8ms preprocess, 34.8ms inference, 1.7ms postprocess per image at shape (1, 3, 576, 704)\n",
      "Procesando: 466.jpg\n",
      "\n",
      "image 1/1 c:\\Users\\mini7\\Desktop\\Master\\Materias\\TFM\\Laura\\2025_MURIA_Aitor Garca Blanco\\04.Codigo\\..\\03.Datasets\\Evaluacion_Empresa\\DEFAULT\\INPUT DEFAULT\\466.jpg: 576x704 10 cells, 34.9ms\n",
      "Speed: 3.5ms preprocess, 34.9ms inference, 1.9ms postprocess per image at shape (1, 3, 576, 704)\n",
      "Procesando: 51.jpg\n",
      "\n",
      "image 1/1 c:\\Users\\mini7\\Desktop\\Master\\Materias\\TFM\\Laura\\2025_MURIA_Aitor Garca Blanco\\04.Codigo\\..\\03.Datasets\\Evaluacion_Empresa\\DEFAULT\\INPUT DEFAULT\\51.jpg: 576x704 56 cells, 35.9ms\n",
      "Speed: 3.4ms preprocess, 35.9ms inference, 2.2ms postprocess per image at shape (1, 3, 576, 704)\n",
      "Procesando: 57.jpg\n",
      "\n",
      "image 1/1 c:\\Users\\mini7\\Desktop\\Master\\Materias\\TFM\\Laura\\2025_MURIA_Aitor Garca Blanco\\04.Codigo\\..\\03.Datasets\\Evaluacion_Empresa\\DEFAULT\\INPUT DEFAULT\\57.jpg: 576x704 23 cells, 35.9ms\n",
      "Speed: 3.3ms preprocess, 35.9ms inference, 2.3ms postprocess per image at shape (1, 3, 576, 704)\n",
      "Procesando: 59.jpg\n",
      "\n",
      "image 1/1 c:\\Users\\mini7\\Desktop\\Master\\Materias\\TFM\\Laura\\2025_MURIA_Aitor Garca Blanco\\04.Codigo\\..\\03.Datasets\\Evaluacion_Empresa\\DEFAULT\\INPUT DEFAULT\\59.jpg: 576x704 47 cells, 36.2ms\n",
      "Speed: 3.3ms preprocess, 36.2ms inference, 4.3ms postprocess per image at shape (1, 3, 576, 704)\n",
      "Procesando: 61.jpg\n",
      "\n",
      "image 1/1 c:\\Users\\mini7\\Desktop\\Master\\Materias\\TFM\\Laura\\2025_MURIA_Aitor Garca Blanco\\04.Codigo\\..\\03.Datasets\\Evaluacion_Empresa\\DEFAULT\\INPUT DEFAULT\\61.jpg: 576x704 50 cells, 37.2ms\n",
      "Speed: 4.5ms preprocess, 37.2ms inference, 3.5ms postprocess per image at shape (1, 3, 576, 704)\n",
      "Procesando: 62.jpg\n",
      "\n",
      "image 1/1 c:\\Users\\mini7\\Desktop\\Master\\Materias\\TFM\\Laura\\2025_MURIA_Aitor Garca Blanco\\04.Codigo\\..\\03.Datasets\\Evaluacion_Empresa\\DEFAULT\\INPUT DEFAULT\\62.jpg: 576x704 7 cells, 37.1ms\n",
      "Speed: 2.8ms preprocess, 37.1ms inference, 1.9ms postprocess per image at shape (1, 3, 576, 704)\n",
      "Procesando: 63.jpg\n",
      "\n",
      "image 1/1 c:\\Users\\mini7\\Desktop\\Master\\Materias\\TFM\\Laura\\2025_MURIA_Aitor Garca Blanco\\04.Codigo\\..\\03.Datasets\\Evaluacion_Empresa\\DEFAULT\\INPUT DEFAULT\\63.jpg: 576x704 42 cells, 37.0ms\n",
      "Speed: 2.6ms preprocess, 37.0ms inference, 2.1ms postprocess per image at shape (1, 3, 576, 704)\n",
      "Procesando: 7.jpg\n",
      "\n",
      "image 1/1 c:\\Users\\mini7\\Desktop\\Master\\Materias\\TFM\\Laura\\2025_MURIA_Aitor Garca Blanco\\04.Codigo\\..\\03.Datasets\\Evaluacion_Empresa\\DEFAULT\\INPUT DEFAULT\\7.jpg: 576x704 25 cells, 38.1ms\n",
      "Speed: 3.8ms preprocess, 38.1ms inference, 1.9ms postprocess per image at shape (1, 3, 576, 704)\n",
      "Procesando: 73.jpg\n",
      "Advertencia: No se encontró la imagen de referencia 73_.jpg\n",
      "\n",
      "image 1/1 c:\\Users\\mini7\\Desktop\\Master\\Materias\\TFM\\Laura\\2025_MURIA_Aitor Garca Blanco\\04.Codigo\\..\\03.Datasets\\Evaluacion_Empresa\\DEFAULT\\INPUT DEFAULT\\73.jpg: 576x704 23 cells, 38.7ms\n",
      "Speed: 3.4ms preprocess, 38.7ms inference, 3.7ms postprocess per image at shape (1, 3, 576, 704)\n",
      "Procesando: 79.jpg\n",
      "Advertencia: No se encontró la imagen de referencia 79_.jpg\n",
      "\n",
      "image 1/1 c:\\Users\\mini7\\Desktop\\Master\\Materias\\TFM\\Laura\\2025_MURIA_Aitor Garca Blanco\\04.Codigo\\..\\03.Datasets\\Evaluacion_Empresa\\DEFAULT\\INPUT DEFAULT\\79.jpg: 576x704 5 cells, 39.2ms\n",
      "Speed: 4.3ms preprocess, 39.2ms inference, 1.9ms postprocess per image at shape (1, 3, 576, 704)\n",
      "Procesando: 8.jpg\n",
      "\n",
      "image 1/1 c:\\Users\\mini7\\Desktop\\Master\\Materias\\TFM\\Laura\\2025_MURIA_Aitor Garca Blanco\\04.Codigo\\..\\03.Datasets\\Evaluacion_Empresa\\DEFAULT\\INPUT DEFAULT\\8.jpg: 576x704 26 cells, 39.1ms\n",
      "Speed: 2.6ms preprocess, 39.1ms inference, 1.9ms postprocess per image at shape (1, 3, 576, 704)\n",
      "Procesando: 87.jpg\n",
      "\n",
      "image 1/1 c:\\Users\\mini7\\Desktop\\Master\\Materias\\TFM\\Laura\\2025_MURIA_Aitor Garca Blanco\\04.Codigo\\..\\03.Datasets\\Evaluacion_Empresa\\DEFAULT\\INPUT DEFAULT\\87.jpg: 576x704 10 cells, 38.8ms\n",
      "Speed: 2.9ms preprocess, 38.8ms inference, 4.0ms postprocess per image at shape (1, 3, 576, 704)\n",
      "Procesando: 9.jpg\n",
      "\n",
      "image 1/1 c:\\Users\\mini7\\Desktop\\Master\\Materias\\TFM\\Laura\\2025_MURIA_Aitor Garca Blanco\\04.Codigo\\..\\03.Datasets\\Evaluacion_Empresa\\DEFAULT\\INPUT DEFAULT\\9.jpg: 576x704 16 cells, 38.7ms\n",
      "Speed: 3.6ms preprocess, 38.7ms inference, 1.9ms postprocess per image at shape (1, 3, 576, 704)\n",
      "Procesando: 95.jpg\n",
      "\n",
      "image 1/1 c:\\Users\\mini7\\Desktop\\Master\\Materias\\TFM\\Laura\\2025_MURIA_Aitor Garca Blanco\\04.Codigo\\..\\03.Datasets\\Evaluacion_Empresa\\DEFAULT\\INPUT DEFAULT\\95.jpg: 576x704 15 cells, 38.9ms\n",
      "Speed: 2.7ms preprocess, 38.9ms inference, 1.8ms postprocess per image at shape (1, 3, 576, 704)\n",
      "Procesamiento completado. Resultados guardados en ..\\03.Datasets\\Evaluacion_Empresa\\DEFAULT\\YOLO_NEW\n",
      "Usando directorio de salida: ..\\03.Datasets\\Evaluacion_Empresa\\TEST 2\\YOLO_NEW\n",
      "Procesando 10 imágenes...\n",
      "Procesando: RC_T2-00.jpg\n",
      "Advertencia: No se encontró la imagen de referencia RC_T2-00_.jpg\n",
      "\n",
      "image 1/1 c:\\Users\\mini7\\Desktop\\Master\\Materias\\TFM\\Laura\\2025_MURIA_Aitor Garca Blanco\\04.Codigo\\..\\03.Datasets\\Evaluacion_Empresa\\TEST 2\\INPUT TEST_2\\RC_T2-00.jpg: 576x704 23 cells, 41.5ms\n",
      "Speed: 3.7ms preprocess, 41.5ms inference, 3.2ms postprocess per image at shape (1, 3, 576, 704)\n",
      "Procesando: RC_T2-01.jpg\n",
      "Advertencia: No se encontró la imagen de referencia RC_T2-01_.jpg\n",
      "\n",
      "image 1/1 c:\\Users\\mini7\\Desktop\\Master\\Materias\\TFM\\Laura\\2025_MURIA_Aitor Garca Blanco\\04.Codigo\\..\\03.Datasets\\Evaluacion_Empresa\\TEST 2\\INPUT TEST_2\\RC_T2-01.jpg: 576x704 24 cells, 38.6ms\n",
      "Speed: 2.5ms preprocess, 38.6ms inference, 2.1ms postprocess per image at shape (1, 3, 576, 704)\n",
      "Procesando: RC_T2-02.jpg\n",
      "Advertencia: No se encontró la imagen de referencia RC_T2-02_.jpg\n",
      "\n",
      "image 1/1 c:\\Users\\mini7\\Desktop\\Master\\Materias\\TFM\\Laura\\2025_MURIA_Aitor Garca Blanco\\04.Codigo\\..\\03.Datasets\\Evaluacion_Empresa\\TEST 2\\INPUT TEST_2\\RC_T2-02.jpg: 576x704 7 cells, 38.7ms\n",
      "Speed: 2.4ms preprocess, 38.7ms inference, 2.1ms postprocess per image at shape (1, 3, 576, 704)\n",
      "Procesando: RC_T2-03.jpg\n",
      "Advertencia: No se encontró la imagen de referencia RC_T2-03_.jpg\n",
      "\n",
      "image 1/1 c:\\Users\\mini7\\Desktop\\Master\\Materias\\TFM\\Laura\\2025_MURIA_Aitor Garca Blanco\\04.Codigo\\..\\03.Datasets\\Evaluacion_Empresa\\TEST 2\\INPUT TEST_2\\RC_T2-03.jpg: 576x704 10 cells, 26.0ms\n",
      "Speed: 2.6ms preprocess, 26.0ms inference, 2.2ms postprocess per image at shape (1, 3, 576, 704)\n",
      "Procesando: RC_T2-04.jpg\n",
      "Advertencia: No se encontró la imagen de referencia RC_T2-04_.jpg\n",
      "\n",
      "image 1/1 c:\\Users\\mini7\\Desktop\\Master\\Materias\\TFM\\Laura\\2025_MURIA_Aitor Garca Blanco\\04.Codigo\\..\\03.Datasets\\Evaluacion_Empresa\\TEST 2\\INPUT TEST_2\\RC_T2-04.jpg: 576x704 6 cells, 26.3ms\n",
      "Speed: 3.0ms preprocess, 26.3ms inference, 2.4ms postprocess per image at shape (1, 3, 576, 704)\n",
      "Procesando: RC_T2-05.jpg\n",
      "Advertencia: No se encontró la imagen de referencia RC_T2-05_.jpg\n",
      "\n",
      "image 1/1 c:\\Users\\mini7\\Desktop\\Master\\Materias\\TFM\\Laura\\2025_MURIA_Aitor Garca Blanco\\04.Codigo\\..\\03.Datasets\\Evaluacion_Empresa\\TEST 2\\INPUT TEST_2\\RC_T2-05.jpg: 576x704 11 cells, 26.0ms\n",
      "Speed: 2.9ms preprocess, 26.0ms inference, 2.2ms postprocess per image at shape (1, 3, 576, 704)\n",
      "Procesando: RC_T2-06.jpg\n",
      "Advertencia: No se encontró la imagen de referencia RC_T2-06_.jpg\n",
      "\n",
      "image 1/1 c:\\Users\\mini7\\Desktop\\Master\\Materias\\TFM\\Laura\\2025_MURIA_Aitor Garca Blanco\\04.Codigo\\..\\03.Datasets\\Evaluacion_Empresa\\TEST 2\\INPUT TEST_2\\RC_T2-06.jpg: 576x704 15 cells, 26.0ms\n",
      "Speed: 3.2ms preprocess, 26.0ms inference, 2.3ms postprocess per image at shape (1, 3, 576, 704)\n",
      "Procesando: RC_T2-07.jpg\n",
      "Advertencia: No se encontró la imagen de referencia RC_T2-07_.jpg\n",
      "\n",
      "image 1/1 c:\\Users\\mini7\\Desktop\\Master\\Materias\\TFM\\Laura\\2025_MURIA_Aitor Garca Blanco\\04.Codigo\\..\\03.Datasets\\Evaluacion_Empresa\\TEST 2\\INPUT TEST_2\\RC_T2-07.jpg: 576x704 10 cells, 20.7ms\n",
      "Speed: 2.7ms preprocess, 20.7ms inference, 2.0ms postprocess per image at shape (1, 3, 576, 704)\n",
      "Procesando: RC_T2-08.jpg\n",
      "Advertencia: No se encontró la imagen de referencia RC_T2-08_.jpg\n",
      "\n",
      "image 1/1 c:\\Users\\mini7\\Desktop\\Master\\Materias\\TFM\\Laura\\2025_MURIA_Aitor Garca Blanco\\04.Codigo\\..\\03.Datasets\\Evaluacion_Empresa\\TEST 2\\INPUT TEST_2\\RC_T2-08.jpg: 576x704 21 cells, 20.8ms\n",
      "Speed: 2.6ms preprocess, 20.8ms inference, 1.7ms postprocess per image at shape (1, 3, 576, 704)\n",
      "Procesando: RC_T2-09.jpg\n",
      "Advertencia: No se encontró la imagen de referencia RC_T2-09_.jpg\n",
      "\n",
      "image 1/1 c:\\Users\\mini7\\Desktop\\Master\\Materias\\TFM\\Laura\\2025_MURIA_Aitor Garca Blanco\\04.Codigo\\..\\03.Datasets\\Evaluacion_Empresa\\TEST 2\\INPUT TEST_2\\RC_T2-09.jpg: 576x704 24 cells, 20.5ms\n",
      "Speed: 2.4ms preprocess, 20.5ms inference, 1.8ms postprocess per image at shape (1, 3, 576, 704)\n",
      "Procesamiento completado. Resultados guardados en ..\\03.Datasets\\Evaluacion_Empresa\\TEST 2\\YOLO_NEW\n",
      "Usando directorio de salida: ..\\03.Datasets\\Evaluacion_Empresa\\TEST 3\\YOLO_NEW\n",
      "Procesando 59 imágenes...\n",
      "Procesando: already tested-00.jpg\n",
      "Advertencia: No se encontró la imagen de referencia already tested-00_.jpg\n",
      "\n",
      "image 1/1 c:\\Users\\mini7\\Desktop\\Master\\Materias\\TFM\\Laura\\2025_MURIA_Aitor Garca Blanco\\04.Codigo\\..\\03.Datasets\\Evaluacion_Empresa\\TEST 3\\INPUT_TEST 3\\already tested-00.jpg: 576x704 47 cells, 22.0ms\n",
      "Speed: 3.5ms preprocess, 22.0ms inference, 1.6ms postprocess per image at shape (1, 3, 576, 704)\n",
      "Procesando: already tested-01.jpg\n",
      "Advertencia: No se encontró la imagen de referencia already tested-01_.jpg\n",
      "\n",
      "image 1/1 c:\\Users\\mini7\\Desktop\\Master\\Materias\\TFM\\Laura\\2025_MURIA_Aitor Garca Blanco\\04.Codigo\\..\\03.Datasets\\Evaluacion_Empresa\\TEST 3\\INPUT_TEST 3\\already tested-01.jpg: 576x704 59 cells, 20.6ms\n",
      "Speed: 3.3ms preprocess, 20.6ms inference, 1.7ms postprocess per image at shape (1, 3, 576, 704)\n",
      "Procesando: already tested-02.jpg\n",
      "Advertencia: No se encontró la imagen de referencia already tested-02_.jpg\n",
      "\n",
      "image 1/1 c:\\Users\\mini7\\Desktop\\Master\\Materias\\TFM\\Laura\\2025_MURIA_Aitor Garca Blanco\\04.Codigo\\..\\03.Datasets\\Evaluacion_Empresa\\TEST 3\\INPUT_TEST 3\\already tested-02.jpg: 576x704 31 cells, 20.6ms\n",
      "Speed: 2.8ms preprocess, 20.6ms inference, 1.9ms postprocess per image at shape (1, 3, 576, 704)\n",
      "Procesando: already tested-03.jpg\n",
      "Advertencia: No se encontró la imagen de referencia already tested-03_.jpg\n",
      "\n",
      "image 1/1 c:\\Users\\mini7\\Desktop\\Master\\Materias\\TFM\\Laura\\2025_MURIA_Aitor Garca Blanco\\04.Codigo\\..\\03.Datasets\\Evaluacion_Empresa\\TEST 3\\INPUT_TEST 3\\already tested-03.jpg: 576x704 38 cells, 20.5ms\n",
      "Speed: 2.6ms preprocess, 20.5ms inference, 2.0ms postprocess per image at shape (1, 3, 576, 704)\n",
      "Procesando: already tested-04.jpg\n",
      "Advertencia: No se encontró la imagen de referencia already tested-04_.jpg\n",
      "\n",
      "image 1/1 c:\\Users\\mini7\\Desktop\\Master\\Materias\\TFM\\Laura\\2025_MURIA_Aitor Garca Blanco\\04.Codigo\\..\\03.Datasets\\Evaluacion_Empresa\\TEST 3\\INPUT_TEST 3\\already tested-04.jpg: 576x704 38 cells, 20.6ms\n",
      "Speed: 2.6ms preprocess, 20.6ms inference, 1.8ms postprocess per image at shape (1, 3, 576, 704)\n",
      "Procesando: already tested-05.jpg\n",
      "Advertencia: No se encontró la imagen de referencia already tested-05_.jpg\n",
      "\n",
      "image 1/1 c:\\Users\\mini7\\Desktop\\Master\\Materias\\TFM\\Laura\\2025_MURIA_Aitor Garca Blanco\\04.Codigo\\..\\03.Datasets\\Evaluacion_Empresa\\TEST 3\\INPUT_TEST 3\\already tested-05.jpg: 576x704 42 cells, 20.5ms\n",
      "Speed: 3.1ms preprocess, 20.5ms inference, 2.1ms postprocess per image at shape (1, 3, 576, 704)\n",
      "Procesando: already tested-06.jpg\n",
      "Advertencia: No se encontró la imagen de referencia already tested-06_.jpg\n",
      "\n",
      "image 1/1 c:\\Users\\mini7\\Desktop\\Master\\Materias\\TFM\\Laura\\2025_MURIA_Aitor Garca Blanco\\04.Codigo\\..\\03.Datasets\\Evaluacion_Empresa\\TEST 3\\INPUT_TEST 3\\already tested-06.jpg: 576x704 25 cells, 20.6ms\n",
      "Speed: 3.4ms preprocess, 20.6ms inference, 2.0ms postprocess per image at shape (1, 3, 576, 704)\n",
      "Procesando: already tested-07.jpg\n",
      "Advertencia: No se encontró la imagen de referencia already tested-07_.jpg\n",
      "\n",
      "image 1/1 c:\\Users\\mini7\\Desktop\\Master\\Materias\\TFM\\Laura\\2025_MURIA_Aitor Garca Blanco\\04.Codigo\\..\\03.Datasets\\Evaluacion_Empresa\\TEST 3\\INPUT_TEST 3\\already tested-07.jpg: 576x704 25 cells, 20.7ms\n",
      "Speed: 3.4ms preprocess, 20.7ms inference, 2.7ms postprocess per image at shape (1, 3, 576, 704)\n",
      "Procesando: already tested-08.jpg\n",
      "Advertencia: No se encontró la imagen de referencia already tested-08_.jpg\n",
      "\n",
      "image 1/1 c:\\Users\\mini7\\Desktop\\Master\\Materias\\TFM\\Laura\\2025_MURIA_Aitor Garca Blanco\\04.Codigo\\..\\03.Datasets\\Evaluacion_Empresa\\TEST 3\\INPUT_TEST 3\\already tested-08.jpg: 576x704 28 cells, 20.9ms\n",
      "Speed: 5.2ms preprocess, 20.9ms inference, 2.7ms postprocess per image at shape (1, 3, 576, 704)\n",
      "Procesando: already tested-09.jpg\n",
      "Advertencia: No se encontró la imagen de referencia already tested-09_.jpg\n",
      "\n",
      "image 1/1 c:\\Users\\mini7\\Desktop\\Master\\Materias\\TFM\\Laura\\2025_MURIA_Aitor Garca Blanco\\04.Codigo\\..\\03.Datasets\\Evaluacion_Empresa\\TEST 3\\INPUT_TEST 3\\already tested-09.jpg: 576x704 55 cells, 20.7ms\n",
      "Speed: 3.1ms preprocess, 20.7ms inference, 2.0ms postprocess per image at shape (1, 3, 576, 704)\n",
      "Procesando: already tested-10.jpg\n",
      "Advertencia: No se encontró la imagen de referencia already tested-10_.jpg\n",
      "\n",
      "image 1/1 c:\\Users\\mini7\\Desktop\\Master\\Materias\\TFM\\Laura\\2025_MURIA_Aitor Garca Blanco\\04.Codigo\\..\\03.Datasets\\Evaluacion_Empresa\\TEST 3\\INPUT_TEST 3\\already tested-10.jpg: 576x704 47 cells, 20.8ms\n",
      "Speed: 4.0ms preprocess, 20.8ms inference, 3.6ms postprocess per image at shape (1, 3, 576, 704)\n",
      "Procesando: already tested-11.jpg\n",
      "Advertencia: No se encontró la imagen de referencia already tested-11_.jpg\n",
      "\n",
      "image 1/1 c:\\Users\\mini7\\Desktop\\Master\\Materias\\TFM\\Laura\\2025_MURIA_Aitor Garca Blanco\\04.Codigo\\..\\03.Datasets\\Evaluacion_Empresa\\TEST 3\\INPUT_TEST 3\\already tested-11.jpg: 576x704 41 cells, 20.6ms\n",
      "Speed: 2.7ms preprocess, 20.6ms inference, 3.6ms postprocess per image at shape (1, 3, 576, 704)\n",
      "Procesando: already tested-12.jpg\n",
      "Advertencia: No se encontró la imagen de referencia already tested-12_.jpg\n",
      "\n",
      "image 1/1 c:\\Users\\mini7\\Desktop\\Master\\Materias\\TFM\\Laura\\2025_MURIA_Aitor Garca Blanco\\04.Codigo\\..\\03.Datasets\\Evaluacion_Empresa\\TEST 3\\INPUT_TEST 3\\already tested-12.jpg: 576x704 50 cells, 20.6ms\n",
      "Speed: 2.6ms preprocess, 20.6ms inference, 2.2ms postprocess per image at shape (1, 3, 576, 704)\n",
      "Procesando: already tested-13.jpg\n",
      "Advertencia: No se encontró la imagen de referencia already tested-13_.jpg\n",
      "\n",
      "image 1/1 c:\\Users\\mini7\\Desktop\\Master\\Materias\\TFM\\Laura\\2025_MURIA_Aitor Garca Blanco\\04.Codigo\\..\\03.Datasets\\Evaluacion_Empresa\\TEST 3\\INPUT_TEST 3\\already tested-13.jpg: 576x704 33 cells, 20.5ms\n",
      "Speed: 3.0ms preprocess, 20.5ms inference, 1.9ms postprocess per image at shape (1, 3, 576, 704)\n",
      "Procesando: already tested-14.jpg\n",
      "Advertencia: No se encontró la imagen de referencia already tested-14_.jpg\n",
      "\n",
      "image 1/1 c:\\Users\\mini7\\Desktop\\Master\\Materias\\TFM\\Laura\\2025_MURIA_Aitor Garca Blanco\\04.Codigo\\..\\03.Datasets\\Evaluacion_Empresa\\TEST 3\\INPUT_TEST 3\\already tested-14.jpg: 576x704 56 cells, 20.7ms\n",
      "Speed: 3.2ms preprocess, 20.7ms inference, 2.0ms postprocess per image at shape (1, 3, 576, 704)\n",
      "Procesando: already tested-15.jpg\n",
      "Advertencia: No se encontró la imagen de referencia already tested-15_.jpg\n",
      "\n",
      "image 1/1 c:\\Users\\mini7\\Desktop\\Master\\Materias\\TFM\\Laura\\2025_MURIA_Aitor Garca Blanco\\04.Codigo\\..\\03.Datasets\\Evaluacion_Empresa\\TEST 3\\INPUT_TEST 3\\already tested-15.jpg: 576x704 51 cells, 20.5ms\n",
      "Speed: 3.3ms preprocess, 20.5ms inference, 4.0ms postprocess per image at shape (1, 3, 576, 704)\n",
      "Procesando: already tested-16.jpg\n",
      "Advertencia: No se encontró la imagen de referencia already tested-16_.jpg\n",
      "\n",
      "image 1/1 c:\\Users\\mini7\\Desktop\\Master\\Materias\\TFM\\Laura\\2025_MURIA_Aitor Garca Blanco\\04.Codigo\\..\\03.Datasets\\Evaluacion_Empresa\\TEST 3\\INPUT_TEST 3\\already tested-16.jpg: 576x704 52 cells, 20.6ms\n",
      "Speed: 2.6ms preprocess, 20.6ms inference, 1.8ms postprocess per image at shape (1, 3, 576, 704)\n",
      "Procesando: already tested-17.jpg\n",
      "Advertencia: No se encontró la imagen de referencia already tested-17_.jpg\n",
      "\n",
      "image 1/1 c:\\Users\\mini7\\Desktop\\Master\\Materias\\TFM\\Laura\\2025_MURIA_Aitor Garca Blanco\\04.Codigo\\..\\03.Datasets\\Evaluacion_Empresa\\TEST 3\\INPUT_TEST 3\\already tested-17.jpg: 576x704 57 cells, 20.5ms\n",
      "Speed: 3.2ms preprocess, 20.5ms inference, 1.7ms postprocess per image at shape (1, 3, 576, 704)\n",
      "Procesando: already tested-18.jpg\n",
      "Advertencia: No se encontró la imagen de referencia already tested-18_.jpg\n",
      "\n",
      "image 1/1 c:\\Users\\mini7\\Desktop\\Master\\Materias\\TFM\\Laura\\2025_MURIA_Aitor Garca Blanco\\04.Codigo\\..\\03.Datasets\\Evaluacion_Empresa\\TEST 3\\INPUT_TEST 3\\already tested-18.jpg: 576x704 44 cells, 20.7ms\n",
      "Speed: 3.9ms preprocess, 20.7ms inference, 2.0ms postprocess per image at shape (1, 3, 576, 704)\n",
      "Procesando: already tested-19.jpg\n",
      "Advertencia: No se encontró la imagen de referencia already tested-19_.jpg\n",
      "\n",
      "image 1/1 c:\\Users\\mini7\\Desktop\\Master\\Materias\\TFM\\Laura\\2025_MURIA_Aitor Garca Blanco\\04.Codigo\\..\\03.Datasets\\Evaluacion_Empresa\\TEST 3\\INPUT_TEST 3\\already tested-19.jpg: 576x704 54 cells, 22.0ms\n",
      "Speed: 3.5ms preprocess, 22.0ms inference, 1.9ms postprocess per image at shape (1, 3, 576, 704)\n",
      "Procesando: already tested-20.jpg\n",
      "Advertencia: No se encontró la imagen de referencia already tested-20_.jpg\n",
      "\n",
      "image 1/1 c:\\Users\\mini7\\Desktop\\Master\\Materias\\TFM\\Laura\\2025_MURIA_Aitor Garca Blanco\\04.Codigo\\..\\03.Datasets\\Evaluacion_Empresa\\TEST 3\\INPUT_TEST 3\\already tested-20.jpg: 576x704 54 cells, 23.8ms\n",
      "Speed: 2.9ms preprocess, 23.8ms inference, 2.3ms postprocess per image at shape (1, 3, 576, 704)\n",
      "Procesando: already tested-21.jpg\n",
      "Advertencia: No se encontró la imagen de referencia already tested-21_.jpg\n",
      "\n",
      "image 1/1 c:\\Users\\mini7\\Desktop\\Master\\Materias\\TFM\\Laura\\2025_MURIA_Aitor Garca Blanco\\04.Codigo\\..\\03.Datasets\\Evaluacion_Empresa\\TEST 3\\INPUT_TEST 3\\already tested-21.jpg: 576x704 68 cells, 23.7ms\n",
      "Speed: 2.6ms preprocess, 23.7ms inference, 2.1ms postprocess per image at shape (1, 3, 576, 704)\n",
      "Procesando: already tested-22.jpg\n",
      "Advertencia: No se encontró la imagen de referencia already tested-22_.jpg\n",
      "\n",
      "image 1/1 c:\\Users\\mini7\\Desktop\\Master\\Materias\\TFM\\Laura\\2025_MURIA_Aitor Garca Blanco\\04.Codigo\\..\\03.Datasets\\Evaluacion_Empresa\\TEST 3\\INPUT_TEST 3\\already tested-22.jpg: 576x704 46 cells, 23.9ms\n",
      "Speed: 3.2ms preprocess, 23.9ms inference, 3.5ms postprocess per image at shape (1, 3, 576, 704)\n",
      "Procesando: mrc-00.jpg\n",
      "Advertencia: No se encontró la imagen de referencia mrc-00_.jpg\n",
      "\n",
      "image 1/1 c:\\Users\\mini7\\Desktop\\Master\\Materias\\TFM\\Laura\\2025_MURIA_Aitor Garca Blanco\\04.Codigo\\..\\03.Datasets\\Evaluacion_Empresa\\TEST 3\\INPUT_TEST 3\\mrc-00.jpg: 576x704 7 cells, 23.8ms\n",
      "Speed: 3.2ms preprocess, 23.8ms inference, 2.2ms postprocess per image at shape (1, 3, 576, 704)\n",
      "Procesando: mrc-01.jpg\n",
      "Advertencia: No se encontró la imagen de referencia mrc-01_.jpg\n",
      "\n",
      "image 1/1 c:\\Users\\mini7\\Desktop\\Master\\Materias\\TFM\\Laura\\2025_MURIA_Aitor Garca Blanco\\04.Codigo\\..\\03.Datasets\\Evaluacion_Empresa\\TEST 3\\INPUT_TEST 3\\mrc-01.jpg: 576x704 8 cells, 23.8ms\n",
      "Speed: 2.7ms preprocess, 23.8ms inference, 1.9ms postprocess per image at shape (1, 3, 576, 704)\n",
      "Procesando: mrc-02.jpg\n",
      "Advertencia: No se encontró la imagen de referencia mrc-02_.jpg\n",
      "\n",
      "image 1/1 c:\\Users\\mini7\\Desktop\\Master\\Materias\\TFM\\Laura\\2025_MURIA_Aitor Garca Blanco\\04.Codigo\\..\\03.Datasets\\Evaluacion_Empresa\\TEST 3\\INPUT_TEST 3\\mrc-02.jpg: 576x704 5 cells, 24.0ms\n",
      "Speed: 2.6ms preprocess, 24.0ms inference, 3.4ms postprocess per image at shape (1, 3, 576, 704)\n",
      "Procesando: rc-00.jpg\n",
      "Advertencia: No se encontró la imagen de referencia rc-00_.jpg\n",
      "\n",
      "image 1/1 c:\\Users\\mini7\\Desktop\\Master\\Materias\\TFM\\Laura\\2025_MURIA_Aitor Garca Blanco\\04.Codigo\\..\\03.Datasets\\Evaluacion_Empresa\\TEST 3\\INPUT_TEST 3\\rc-00.jpg: 576x704 14 cells, 24.2ms\n",
      "Speed: 3.9ms preprocess, 24.2ms inference, 2.2ms postprocess per image at shape (1, 3, 576, 704)\n",
      "Procesando: rc-01.jpg\n",
      "Advertencia: No se encontró la imagen de referencia rc-01_.jpg\n",
      "\n",
      "image 1/1 c:\\Users\\mini7\\Desktop\\Master\\Materias\\TFM\\Laura\\2025_MURIA_Aitor Garca Blanco\\04.Codigo\\..\\03.Datasets\\Evaluacion_Empresa\\TEST 3\\INPUT_TEST 3\\rc-01.jpg: 576x704 15 cells, 24.1ms\n",
      "Speed: 2.7ms preprocess, 24.1ms inference, 1.9ms postprocess per image at shape (1, 3, 576, 704)\n",
      "Procesando: rc-02.jpg\n",
      "Advertencia: No se encontró la imagen de referencia rc-02_.jpg\n",
      "\n",
      "image 1/1 c:\\Users\\mini7\\Desktop\\Master\\Materias\\TFM\\Laura\\2025_MURIA_Aitor Garca Blanco\\04.Codigo\\..\\03.Datasets\\Evaluacion_Empresa\\TEST 3\\INPUT_TEST 3\\rc-02.jpg: 576x704 8 cells, 24.2ms\n",
      "Speed: 3.2ms preprocess, 24.2ms inference, 2.8ms postprocess per image at shape (1, 3, 576, 704)\n",
      "Procesando: rc-03.jpg\n",
      "Advertencia: No se encontró la imagen de referencia rc-03_.jpg\n",
      "\n",
      "image 1/1 c:\\Users\\mini7\\Desktop\\Master\\Materias\\TFM\\Laura\\2025_MURIA_Aitor Garca Blanco\\04.Codigo\\..\\03.Datasets\\Evaluacion_Empresa\\TEST 3\\INPUT_TEST 3\\rc-03.jpg: 576x704 12 cells, 24.1ms\n",
      "Speed: 4.1ms preprocess, 24.1ms inference, 3.6ms postprocess per image at shape (1, 3, 576, 704)\n",
      "Procesando: rc-04.jpg\n",
      "Advertencia: No se encontró la imagen de referencia rc-04_.jpg\n",
      "\n",
      "image 1/1 c:\\Users\\mini7\\Desktop\\Master\\Materias\\TFM\\Laura\\2025_MURIA_Aitor Garca Blanco\\04.Codigo\\..\\03.Datasets\\Evaluacion_Empresa\\TEST 3\\INPUT_TEST 3\\rc-04.jpg: 576x704 4 cells, 24.3ms\n",
      "Speed: 6.1ms preprocess, 24.3ms inference, 2.4ms postprocess per image at shape (1, 3, 576, 704)\n",
      "Procesando: rc-05.jpg\n",
      "Advertencia: No se encontró la imagen de referencia rc-05_.jpg\n",
      "\n",
      "image 1/1 c:\\Users\\mini7\\Desktop\\Master\\Materias\\TFM\\Laura\\2025_MURIA_Aitor Garca Blanco\\04.Codigo\\..\\03.Datasets\\Evaluacion_Empresa\\TEST 3\\INPUT_TEST 3\\rc-05.jpg: 576x704 8 cells, 24.4ms\n",
      "Speed: 3.8ms preprocess, 24.4ms inference, 1.7ms postprocess per image at shape (1, 3, 576, 704)\n",
      "Procesando: rc-06.jpg\n",
      "Advertencia: No se encontró la imagen de referencia rc-06_.jpg\n",
      "\n",
      "image 1/1 c:\\Users\\mini7\\Desktop\\Master\\Materias\\TFM\\Laura\\2025_MURIA_Aitor Garca Blanco\\04.Codigo\\..\\03.Datasets\\Evaluacion_Empresa\\TEST 3\\INPUT_TEST 3\\rc-06.jpg: 576x704 8 cells, 24.3ms\n",
      "Speed: 3.1ms preprocess, 24.3ms inference, 2.5ms postprocess per image at shape (1, 3, 576, 704)\n",
      "Procesando: rc-07.jpg\n",
      "Advertencia: No se encontró la imagen de referencia rc-07_.jpg\n",
      "\n",
      "image 1/1 c:\\Users\\mini7\\Desktop\\Master\\Materias\\TFM\\Laura\\2025_MURIA_Aitor Garca Blanco\\04.Codigo\\..\\03.Datasets\\Evaluacion_Empresa\\TEST 3\\INPUT_TEST 3\\rc-07.jpg: 576x704 6 cells, 24.3ms\n",
      "Speed: 3.4ms preprocess, 24.3ms inference, 1.9ms postprocess per image at shape (1, 3, 576, 704)\n",
      "Procesando: rc-08.jpg\n",
      "Advertencia: No se encontró la imagen de referencia rc-08_.jpg\n",
      "\n",
      "image 1/1 c:\\Users\\mini7\\Desktop\\Master\\Materias\\TFM\\Laura\\2025_MURIA_Aitor Garca Blanco\\04.Codigo\\..\\03.Datasets\\Evaluacion_Empresa\\TEST 3\\INPUT_TEST 3\\rc-08.jpg: 576x704 6 cells, 24.8ms\n",
      "Speed: 4.5ms preprocess, 24.8ms inference, 1.8ms postprocess per image at shape (1, 3, 576, 704)\n",
      "Procesando: rc-09.jpg\n",
      "Advertencia: No se encontró la imagen de referencia rc-09_.jpg\n",
      "\n",
      "image 1/1 c:\\Users\\mini7\\Desktop\\Master\\Materias\\TFM\\Laura\\2025_MURIA_Aitor Garca Blanco\\04.Codigo\\..\\03.Datasets\\Evaluacion_Empresa\\TEST 3\\INPUT_TEST 3\\rc-09.jpg: 576x704 8 cells, 24.7ms\n",
      "Speed: 3.8ms preprocess, 24.7ms inference, 1.9ms postprocess per image at shape (1, 3, 576, 704)\n",
      "Procesando: rc-10.jpg\n",
      "Advertencia: No se encontró la imagen de referencia rc-10_.jpg\n",
      "\n",
      "image 1/1 c:\\Users\\mini7\\Desktop\\Master\\Materias\\TFM\\Laura\\2025_MURIA_Aitor Garca Blanco\\04.Codigo\\..\\03.Datasets\\Evaluacion_Empresa\\TEST 3\\INPUT_TEST 3\\rc-10.jpg: 576x704 4 cells, 25.5ms\n",
      "Speed: 3.0ms preprocess, 25.5ms inference, 2.3ms postprocess per image at shape (1, 3, 576, 704)\n",
      "Procesando: rc-11.jpg\n",
      "Advertencia: No se encontró la imagen de referencia rc-11_.jpg\n",
      "\n",
      "image 1/1 c:\\Users\\mini7\\Desktop\\Master\\Materias\\TFM\\Laura\\2025_MURIA_Aitor Garca Blanco\\04.Codigo\\..\\03.Datasets\\Evaluacion_Empresa\\TEST 3\\INPUT_TEST 3\\rc-11.jpg: 576x704 3 cells, 24.8ms\n",
      "Speed: 3.5ms preprocess, 24.8ms inference, 3.8ms postprocess per image at shape (1, 3, 576, 704)\n",
      "Procesando: rc1-00.jpg\n",
      "Advertencia: No se encontró la imagen de referencia rc1-00_.jpg\n",
      "\n",
      "image 1/1 c:\\Users\\mini7\\Desktop\\Master\\Materias\\TFM\\Laura\\2025_MURIA_Aitor Garca Blanco\\04.Codigo\\..\\03.Datasets\\Evaluacion_Empresa\\TEST 3\\INPUT_TEST 3\\rc1-00.jpg: 576x704 3 cells, 24.9ms\n",
      "Speed: 3.2ms preprocess, 24.9ms inference, 2.6ms postprocess per image at shape (1, 3, 576, 704)\n",
      "Procesando: rc1-01.jpg\n",
      "Advertencia: No se encontró la imagen de referencia rc1-01_.jpg\n",
      "\n",
      "image 1/1 c:\\Users\\mini7\\Desktop\\Master\\Materias\\TFM\\Laura\\2025_MURIA_Aitor Garca Blanco\\04.Codigo\\..\\03.Datasets\\Evaluacion_Empresa\\TEST 3\\INPUT_TEST 3\\rc1-01.jpg: 576x704 4 cells, 25.1ms\n",
      "Speed: 2.6ms preprocess, 25.1ms inference, 2.0ms postprocess per image at shape (1, 3, 576, 704)\n",
      "Procesando: rc1-02.jpg\n",
      "Advertencia: No se encontró la imagen de referencia rc1-02_.jpg\n",
      "\n",
      "image 1/1 c:\\Users\\mini7\\Desktop\\Master\\Materias\\TFM\\Laura\\2025_MURIA_Aitor Garca Blanco\\04.Codigo\\..\\03.Datasets\\Evaluacion_Empresa\\TEST 3\\INPUT_TEST 3\\rc1-02.jpg: 576x704 6 cells, 25.2ms\n",
      "Speed: 2.9ms preprocess, 25.2ms inference, 1.7ms postprocess per image at shape (1, 3, 576, 704)\n",
      "Procesando: rc1-03.jpg\n",
      "Advertencia: No se encontró la imagen de referencia rc1-03_.jpg\n",
      "\n",
      "image 1/1 c:\\Users\\mini7\\Desktop\\Master\\Materias\\TFM\\Laura\\2025_MURIA_Aitor Garca Blanco\\04.Codigo\\..\\03.Datasets\\Evaluacion_Empresa\\TEST 3\\INPUT_TEST 3\\rc1-03.jpg: 576x704 (no detections), 25.4ms\n",
      "Speed: 4.1ms preprocess, 25.4ms inference, 1.0ms postprocess per image at shape (1, 3, 576, 704)\n",
      "Procesando: rc1-04.jpg\n",
      "Advertencia: No se encontró la imagen de referencia rc1-04_.jpg\n",
      "\n",
      "image 1/1 c:\\Users\\mini7\\Desktop\\Master\\Materias\\TFM\\Laura\\2025_MURIA_Aitor Garca Blanco\\04.Codigo\\..\\03.Datasets\\Evaluacion_Empresa\\TEST 3\\INPUT_TEST 3\\rc1-04.jpg: 576x704 4 cells, 25.2ms\n",
      "Speed: 4.2ms preprocess, 25.2ms inference, 2.9ms postprocess per image at shape (1, 3, 576, 704)\n",
      "Procesando: rc1-05.jpg\n",
      "Advertencia: No se encontró la imagen de referencia rc1-05_.jpg\n",
      "\n",
      "image 1/1 c:\\Users\\mini7\\Desktop\\Master\\Materias\\TFM\\Laura\\2025_MURIA_Aitor Garca Blanco\\04.Codigo\\..\\03.Datasets\\Evaluacion_Empresa\\TEST 3\\INPUT_TEST 3\\rc1-05.jpg: 576x704 6 cells, 25.3ms\n",
      "Speed: 3.2ms preprocess, 25.3ms inference, 2.7ms postprocess per image at shape (1, 3, 576, 704)\n",
      "Procesando: rc1-06.jpg\n",
      "Advertencia: No se encontró la imagen de referencia rc1-06_.jpg\n",
      "\n",
      "image 1/1 c:\\Users\\mini7\\Desktop\\Master\\Materias\\TFM\\Laura\\2025_MURIA_Aitor Garca Blanco\\04.Codigo\\..\\03.Datasets\\Evaluacion_Empresa\\TEST 3\\INPUT_TEST 3\\rc1-06.jpg: 576x704 3 cells, 25.3ms\n",
      "Speed: 4.6ms preprocess, 25.3ms inference, 2.0ms postprocess per image at shape (1, 3, 576, 704)\n",
      "Procesando: rc1-07.jpg\n",
      "Advertencia: No se encontró la imagen de referencia rc1-07_.jpg\n",
      "\n",
      "image 1/1 c:\\Users\\mini7\\Desktop\\Master\\Materias\\TFM\\Laura\\2025_MURIA_Aitor Garca Blanco\\04.Codigo\\..\\03.Datasets\\Evaluacion_Empresa\\TEST 3\\INPUT_TEST 3\\rc1-07.jpg: 576x704 4 cells, 25.0ms\n",
      "Speed: 3.1ms preprocess, 25.0ms inference, 2.0ms postprocess per image at shape (1, 3, 576, 704)\n",
      "Procesando: rc1-08.jpg\n",
      "Advertencia: No se encontró la imagen de referencia rc1-08_.jpg\n",
      "\n",
      "image 1/1 c:\\Users\\mini7\\Desktop\\Master\\Materias\\TFM\\Laura\\2025_MURIA_Aitor Garca Blanco\\04.Codigo\\..\\03.Datasets\\Evaluacion_Empresa\\TEST 3\\INPUT_TEST 3\\rc1-08.jpg: 576x704 5 cells, 24.9ms\n",
      "Speed: 2.6ms preprocess, 24.9ms inference, 1.6ms postprocess per image at shape (1, 3, 576, 704)\n",
      "Procesando: rc1-09.jpg\n",
      "Advertencia: No se encontró la imagen de referencia rc1-09_.jpg\n",
      "\n",
      "image 1/1 c:\\Users\\mini7\\Desktop\\Master\\Materias\\TFM\\Laura\\2025_MURIA_Aitor Garca Blanco\\04.Codigo\\..\\03.Datasets\\Evaluacion_Empresa\\TEST 3\\INPUT_TEST 3\\rc1-09.jpg: 576x704 4 cells, 24.9ms\n",
      "Speed: 2.8ms preprocess, 24.9ms inference, 1.6ms postprocess per image at shape (1, 3, 576, 704)\n",
      "Procesando: rc1-10.jpg\n",
      "Advertencia: No se encontró la imagen de referencia rc1-10_.jpg\n",
      "\n",
      "image 1/1 c:\\Users\\mini7\\Desktop\\Master\\Materias\\TFM\\Laura\\2025_MURIA_Aitor Garca Blanco\\04.Codigo\\..\\03.Datasets\\Evaluacion_Empresa\\TEST 3\\INPUT_TEST 3\\rc1-10.jpg: 576x704 3 cells, 24.9ms\n",
      "Speed: 2.6ms preprocess, 24.9ms inference, 1.5ms postprocess per image at shape (1, 3, 576, 704)\n",
      "Procesando: rc1-11.jpg\n",
      "Advertencia: No se encontró la imagen de referencia rc1-11_.jpg\n",
      "\n",
      "image 1/1 c:\\Users\\mini7\\Desktop\\Master\\Materias\\TFM\\Laura\\2025_MURIA_Aitor Garca Blanco\\04.Codigo\\..\\03.Datasets\\Evaluacion_Empresa\\TEST 3\\INPUT_TEST 3\\rc1-11.jpg: 576x704 3 cells, 25.0ms\n",
      "Speed: 3.9ms preprocess, 25.0ms inference, 1.7ms postprocess per image at shape (1, 3, 576, 704)\n",
      "Procesando: rc1-12.jpg\n",
      "Advertencia: No se encontró la imagen de referencia rc1-12_.jpg\n",
      "\n",
      "image 1/1 c:\\Users\\mini7\\Desktop\\Master\\Materias\\TFM\\Laura\\2025_MURIA_Aitor Garca Blanco\\04.Codigo\\..\\03.Datasets\\Evaluacion_Empresa\\TEST 3\\INPUT_TEST 3\\rc1-12.jpg: 576x704 4 cells, 24.9ms\n",
      "Speed: 3.0ms preprocess, 24.9ms inference, 3.6ms postprocess per image at shape (1, 3, 576, 704)\n",
      "Procesando: rc1-13.jpg\n",
      "Advertencia: No se encontró la imagen de referencia rc1-13_.jpg\n",
      "\n",
      "image 1/1 c:\\Users\\mini7\\Desktop\\Master\\Materias\\TFM\\Laura\\2025_MURIA_Aitor Garca Blanco\\04.Codigo\\..\\03.Datasets\\Evaluacion_Empresa\\TEST 3\\INPUT_TEST 3\\rc1-13.jpg: 576x704 7 cells, 25.3ms\n",
      "Speed: 3.1ms preprocess, 25.3ms inference, 3.7ms postprocess per image at shape (1, 3, 576, 704)\n",
      "Procesando: rc1-14.jpg\n",
      "Advertencia: No se encontró la imagen de referencia rc1-14_.jpg\n",
      "\n",
      "image 1/1 c:\\Users\\mini7\\Desktop\\Master\\Materias\\TFM\\Laura\\2025_MURIA_Aitor Garca Blanco\\04.Codigo\\..\\03.Datasets\\Evaluacion_Empresa\\TEST 3\\INPUT_TEST 3\\rc1-14.jpg: 576x704 2 cells, 25.3ms\n",
      "Speed: 3.1ms preprocess, 25.3ms inference, 3.4ms postprocess per image at shape (1, 3, 576, 704)\n",
      "Procesando: rrcc1.jpg\n",
      "Advertencia: No se encontró la imagen de referencia rrcc1_.jpg\n",
      "\n",
      "image 1/1 c:\\Users\\mini7\\Desktop\\Master\\Materias\\TFM\\Laura\\2025_MURIA_Aitor Garca Blanco\\04.Codigo\\..\\03.Datasets\\Evaluacion_Empresa\\TEST 3\\INPUT_TEST 3\\rrcc1.jpg: 576x704 2 cells, 25.2ms\n",
      "Speed: 2.6ms preprocess, 25.2ms inference, 1.6ms postprocess per image at shape (1, 3, 576, 704)\n",
      "Procesando: rrcc2.jpg\n",
      "Advertencia: No se encontró la imagen de referencia rrcc2_.jpg\n",
      "\n",
      "image 1/1 c:\\Users\\mini7\\Desktop\\Master\\Materias\\TFM\\Laura\\2025_MURIA_Aitor Garca Blanco\\04.Codigo\\..\\03.Datasets\\Evaluacion_Empresa\\TEST 3\\INPUT_TEST 3\\rrcc2.jpg: 576x704 2 cells, 25.2ms\n",
      "Speed: 2.6ms preprocess, 25.2ms inference, 1.5ms postprocess per image at shape (1, 3, 576, 704)\n",
      "Procesando: rrcc3.jpg\n",
      "Advertencia: No se encontró la imagen de referencia rrcc3_.jpg\n",
      "\n",
      "image 1/1 c:\\Users\\mini7\\Desktop\\Master\\Materias\\TFM\\Laura\\2025_MURIA_Aitor Garca Blanco\\04.Codigo\\..\\03.Datasets\\Evaluacion_Empresa\\TEST 3\\INPUT_TEST 3\\rrcc3.jpg: 576x704 2 cells, 25.3ms\n",
      "Speed: 2.5ms preprocess, 25.3ms inference, 1.6ms postprocess per image at shape (1, 3, 576, 704)\n",
      "Procesando: rrcc4.jpg\n",
      "Advertencia: No se encontró la imagen de referencia rrcc4_.jpg\n",
      "\n",
      "image 1/1 c:\\Users\\mini7\\Desktop\\Master\\Materias\\TFM\\Laura\\2025_MURIA_Aitor Garca Blanco\\04.Codigo\\..\\03.Datasets\\Evaluacion_Empresa\\TEST 3\\INPUT_TEST 3\\rrcc4.jpg: 576x704 2 cells, 25.2ms\n",
      "Speed: 2.6ms preprocess, 25.2ms inference, 1.7ms postprocess per image at shape (1, 3, 576, 704)\n",
      "Procesando: rrcc5.jpg\n",
      "Advertencia: No se encontró la imagen de referencia rrcc5_.jpg\n",
      "\n",
      "image 1/1 c:\\Users\\mini7\\Desktop\\Master\\Materias\\TFM\\Laura\\2025_MURIA_Aitor Garca Blanco\\04.Codigo\\..\\03.Datasets\\Evaluacion_Empresa\\TEST 3\\INPUT_TEST 3\\rrcc5.jpg: 576x704 3 cells, 25.3ms\n",
      "Speed: 2.8ms preprocess, 25.3ms inference, 3.5ms postprocess per image at shape (1, 3, 576, 704)\n",
      "Procesando: rrcc6.jpg\n",
      "Advertencia: No se encontró la imagen de referencia rrcc6_.jpg\n",
      "\n",
      "image 1/1 c:\\Users\\mini7\\Desktop\\Master\\Materias\\TFM\\Laura\\2025_MURIA_Aitor Garca Blanco\\04.Codigo\\..\\03.Datasets\\Evaluacion_Empresa\\TEST 3\\INPUT_TEST 3\\rrcc6.jpg: 576x704 2 cells, 25.3ms\n",
      "Speed: 2.7ms preprocess, 25.3ms inference, 3.6ms postprocess per image at shape (1, 3, 576, 704)\n",
      "Procesamiento completado. Resultados guardados en ..\\03.Datasets\\Evaluacion_Empresa\\TEST 3\\YOLO_NEW\n",
      "Usando directorio de salida: ..\\03.Datasets\\Evaluacion_Empresa\\TEST 4\\YOLO_NEW\n",
      "Procesando 123 imágenes...\n",
      "Procesando: 1-00.jpg\n",
      "Advertencia: No se encontró la imagen de referencia 1-00_.jpg\n",
      "\n",
      "image 1/1 c:\\Users\\mini7\\Desktop\\Master\\Materias\\TFM\\Laura\\2025_MURIA_Aitor Garca Blanco\\04.Codigo\\..\\03.Datasets\\Evaluacion_Empresa\\TEST 4\\INPUT_TEST 4\\1-00.jpg: 576x704 36 cells, 27.4ms\n",
      "Speed: 2.7ms preprocess, 27.4ms inference, 1.6ms postprocess per image at shape (1, 3, 576, 704)\n",
      "Procesando: 1-01.jpg\n",
      "Advertencia: No se encontró la imagen de referencia 1-01_.jpg\n",
      "\n",
      "image 1/1 c:\\Users\\mini7\\Desktop\\Master\\Materias\\TFM\\Laura\\2025_MURIA_Aitor Garca Blanco\\04.Codigo\\..\\03.Datasets\\Evaluacion_Empresa\\TEST 4\\INPUT_TEST 4\\1-01.jpg: 576x704 83 cells, 26.4ms\n",
      "Speed: 2.6ms preprocess, 26.4ms inference, 1.8ms postprocess per image at shape (1, 3, 576, 704)\n",
      "Procesando: 1-02.jpg\n",
      "Advertencia: No se encontró la imagen de referencia 1-02_.jpg\n",
      "\n",
      "image 1/1 c:\\Users\\mini7\\Desktop\\Master\\Materias\\TFM\\Laura\\2025_MURIA_Aitor Garca Blanco\\04.Codigo\\..\\03.Datasets\\Evaluacion_Empresa\\TEST 4\\INPUT_TEST 4\\1-02.jpg: 576x704 51 cells, 26.5ms\n",
      "Speed: 2.4ms preprocess, 26.5ms inference, 1.8ms postprocess per image at shape (1, 3, 576, 704)\n",
      "Procesando: 1-03.jpg\n",
      "Advertencia: No se encontró la imagen de referencia 1-03_.jpg\n",
      "\n",
      "image 1/1 c:\\Users\\mini7\\Desktop\\Master\\Materias\\TFM\\Laura\\2025_MURIA_Aitor Garca Blanco\\04.Codigo\\..\\03.Datasets\\Evaluacion_Empresa\\TEST 4\\INPUT_TEST 4\\1-03.jpg: 576x704 18 cells, 24.0ms\n",
      "Speed: 2.5ms preprocess, 24.0ms inference, 2.2ms postprocess per image at shape (1, 3, 576, 704)\n",
      "Procesando: 10-00.jpg\n",
      "Advertencia: No se encontró la imagen de referencia 10-00_.jpg\n",
      "\n",
      "image 1/1 c:\\Users\\mini7\\Desktop\\Master\\Materias\\TFM\\Laura\\2025_MURIA_Aitor Garca Blanco\\04.Codigo\\..\\03.Datasets\\Evaluacion_Empresa\\TEST 4\\INPUT_TEST 4\\10-00.jpg: 576x704 50 cells, 21.4ms\n",
      "Speed: 2.7ms preprocess, 21.4ms inference, 2.4ms postprocess per image at shape (1, 3, 576, 704)\n",
      "Procesando: 10-01.jpg\n",
      "Advertencia: No se encontró la imagen de referencia 10-01_.jpg\n",
      "\n",
      "image 1/1 c:\\Users\\mini7\\Desktop\\Master\\Materias\\TFM\\Laura\\2025_MURIA_Aitor Garca Blanco\\04.Codigo\\..\\03.Datasets\\Evaluacion_Empresa\\TEST 4\\INPUT_TEST 4\\10-01.jpg: 576x704 68 cells, 21.4ms\n",
      "Speed: 3.5ms preprocess, 21.4ms inference, 1.7ms postprocess per image at shape (1, 3, 576, 704)\n",
      "Procesando: 10-02.jpg\n",
      "Advertencia: No se encontró la imagen de referencia 10-02_.jpg\n",
      "\n",
      "image 1/1 c:\\Users\\mini7\\Desktop\\Master\\Materias\\TFM\\Laura\\2025_MURIA_Aitor Garca Blanco\\04.Codigo\\..\\03.Datasets\\Evaluacion_Empresa\\TEST 4\\INPUT_TEST 4\\10-02.jpg: 576x704 53 cells, 21.3ms\n",
      "Speed: 2.6ms preprocess, 21.3ms inference, 1.7ms postprocess per image at shape (1, 3, 576, 704)\n",
      "Procesando: 10-03.jpg\n",
      "Advertencia: No se encontró la imagen de referencia 10-03_.jpg\n",
      "\n",
      "image 1/1 c:\\Users\\mini7\\Desktop\\Master\\Materias\\TFM\\Laura\\2025_MURIA_Aitor Garca Blanco\\04.Codigo\\..\\03.Datasets\\Evaluacion_Empresa\\TEST 4\\INPUT_TEST 4\\10-03.jpg: 576x704 71 cells, 21.4ms\n",
      "Speed: 2.6ms preprocess, 21.4ms inference, 3.4ms postprocess per image at shape (1, 3, 576, 704)\n",
      "Procesando: 10-04.jpg\n",
      "Advertencia: No se encontró la imagen de referencia 10-04_.jpg\n",
      "\n",
      "image 1/1 c:\\Users\\mini7\\Desktop\\Master\\Materias\\TFM\\Laura\\2025_MURIA_Aitor Garca Blanco\\04.Codigo\\..\\03.Datasets\\Evaluacion_Empresa\\TEST 4\\INPUT_TEST 4\\10-04.jpg: 576x704 51 cells, 21.3ms\n",
      "Speed: 2.6ms preprocess, 21.3ms inference, 1.7ms postprocess per image at shape (1, 3, 576, 704)\n",
      "Procesando: 10-05.jpg\n",
      "Advertencia: No se encontró la imagen de referencia 10-05_.jpg\n",
      "\n",
      "image 1/1 c:\\Users\\mini7\\Desktop\\Master\\Materias\\TFM\\Laura\\2025_MURIA_Aitor Garca Blanco\\04.Codigo\\..\\03.Datasets\\Evaluacion_Empresa\\TEST 4\\INPUT_TEST 4\\10-05.jpg: 576x704 41 cells, 21.3ms\n",
      "Speed: 2.5ms preprocess, 21.3ms inference, 1.7ms postprocess per image at shape (1, 3, 576, 704)\n",
      "Procesando: 10-06.jpg\n",
      "Advertencia: No se encontró la imagen de referencia 10-06_.jpg\n",
      "\n",
      "image 1/1 c:\\Users\\mini7\\Desktop\\Master\\Materias\\TFM\\Laura\\2025_MURIA_Aitor Garca Blanco\\04.Codigo\\..\\03.Datasets\\Evaluacion_Empresa\\TEST 4\\INPUT_TEST 4\\10-06.jpg: 576x704 36 cells, 21.3ms\n",
      "Speed: 2.8ms preprocess, 21.3ms inference, 1.8ms postprocess per image at shape (1, 3, 576, 704)\n",
      "Procesando: 10-07.jpg\n",
      "Advertencia: No se encontró la imagen de referencia 10-07_.jpg\n",
      "\n",
      "image 1/1 c:\\Users\\mini7\\Desktop\\Master\\Materias\\TFM\\Laura\\2025_MURIA_Aitor Garca Blanco\\04.Codigo\\..\\03.Datasets\\Evaluacion_Empresa\\TEST 4\\INPUT_TEST 4\\10-07.jpg: 576x704 50 cells, 22.1ms\n",
      "Speed: 2.6ms preprocess, 22.1ms inference, 1.7ms postprocess per image at shape (1, 3, 576, 704)\n",
      "Procesando: 10-08.jpg\n",
      "Advertencia: No se encontró la imagen de referencia 10-08_.jpg\n",
      "\n",
      "image 1/1 c:\\Users\\mini7\\Desktop\\Master\\Materias\\TFM\\Laura\\2025_MURIA_Aitor Garca Blanco\\04.Codigo\\..\\03.Datasets\\Evaluacion_Empresa\\TEST 4\\INPUT_TEST 4\\10-08.jpg: 576x704 56 cells, 21.3ms\n",
      "Speed: 2.7ms preprocess, 21.3ms inference, 3.4ms postprocess per image at shape (1, 3, 576, 704)\n",
      "Procesando: 10-09.jpg\n",
      "Advertencia: No se encontró la imagen de referencia 10-09_.jpg\n",
      "\n",
      "image 1/1 c:\\Users\\mini7\\Desktop\\Master\\Materias\\TFM\\Laura\\2025_MURIA_Aitor Garca Blanco\\04.Codigo\\..\\03.Datasets\\Evaluacion_Empresa\\TEST 4\\INPUT_TEST 4\\10-09.jpg: 576x704 48 cells, 21.3ms\n",
      "Speed: 2.5ms preprocess, 21.3ms inference, 3.1ms postprocess per image at shape (1, 3, 576, 704)\n",
      "Procesando: 10-10.jpg\n",
      "Advertencia: No se encontró la imagen de referencia 10-10_.jpg\n",
      "\n",
      "image 1/1 c:\\Users\\mini7\\Desktop\\Master\\Materias\\TFM\\Laura\\2025_MURIA_Aitor Garca Blanco\\04.Codigo\\..\\03.Datasets\\Evaluacion_Empresa\\TEST 4\\INPUT_TEST 4\\10-10.jpg: 576x704 73 cells, 21.3ms\n",
      "Speed: 2.5ms preprocess, 21.3ms inference, 1.7ms postprocess per image at shape (1, 3, 576, 704)\n",
      "Procesando: 10-11.jpg\n",
      "Advertencia: No se encontró la imagen de referencia 10-11_.jpg\n",
      "\n",
      "image 1/1 c:\\Users\\mini7\\Desktop\\Master\\Materias\\TFM\\Laura\\2025_MURIA_Aitor Garca Blanco\\04.Codigo\\..\\03.Datasets\\Evaluacion_Empresa\\TEST 4\\INPUT_TEST 4\\10-11.jpg: 576x704 47 cells, 21.3ms\n",
      "Speed: 2.6ms preprocess, 21.3ms inference, 1.7ms postprocess per image at shape (1, 3, 576, 704)\n",
      "Procesando: 10-12.jpg\n",
      "Advertencia: No se encontró la imagen de referencia 10-12_.jpg\n",
      "\n",
      "image 1/1 c:\\Users\\mini7\\Desktop\\Master\\Materias\\TFM\\Laura\\2025_MURIA_Aitor Garca Blanco\\04.Codigo\\..\\03.Datasets\\Evaluacion_Empresa\\TEST 4\\INPUT_TEST 4\\10-12.jpg: 576x704 53 cells, 21.3ms\n",
      "Speed: 2.5ms preprocess, 21.3ms inference, 1.6ms postprocess per image at shape (1, 3, 576, 704)\n",
      "Procesando: 10-13.jpg\n",
      "Advertencia: No se encontró la imagen de referencia 10-13_.jpg\n",
      "\n",
      "image 1/1 c:\\Users\\mini7\\Desktop\\Master\\Materias\\TFM\\Laura\\2025_MURIA_Aitor Garca Blanco\\04.Codigo\\..\\03.Datasets\\Evaluacion_Empresa\\TEST 4\\INPUT_TEST 4\\10-13.jpg: 576x704 51 cells, 21.3ms\n",
      "Speed: 2.7ms preprocess, 21.3ms inference, 1.7ms postprocess per image at shape (1, 3, 576, 704)\n",
      "Procesando: 10-14.jpg\n",
      "Advertencia: No se encontró la imagen de referencia 10-14_.jpg\n",
      "\n",
      "image 1/1 c:\\Users\\mini7\\Desktop\\Master\\Materias\\TFM\\Laura\\2025_MURIA_Aitor Garca Blanco\\04.Codigo\\..\\03.Datasets\\Evaluacion_Empresa\\TEST 4\\INPUT_TEST 4\\10-14.jpg: 576x704 52 cells, 21.3ms\n",
      "Speed: 2.7ms preprocess, 21.3ms inference, 8.4ms postprocess per image at shape (1, 3, 576, 704)\n",
      "Procesando: 10-15.jpg\n",
      "Advertencia: No se encontró la imagen de referencia 10-15_.jpg\n",
      "\n",
      "image 1/1 c:\\Users\\mini7\\Desktop\\Master\\Materias\\TFM\\Laura\\2025_MURIA_Aitor Garca Blanco\\04.Codigo\\..\\03.Datasets\\Evaluacion_Empresa\\TEST 4\\INPUT_TEST 4\\10-15.jpg: 576x704 44 cells, 21.3ms\n",
      "Speed: 2.6ms preprocess, 21.3ms inference, 1.7ms postprocess per image at shape (1, 3, 576, 704)\n",
      "Procesando: 10-16.jpg\n",
      "Advertencia: No se encontró la imagen de referencia 10-16_.jpg\n",
      "\n",
      "image 1/1 c:\\Users\\mini7\\Desktop\\Master\\Materias\\TFM\\Laura\\2025_MURIA_Aitor Garca Blanco\\04.Codigo\\..\\03.Datasets\\Evaluacion_Empresa\\TEST 4\\INPUT_TEST 4\\10-16.jpg: 576x704 48 cells, 21.3ms\n",
      "Speed: 2.7ms preprocess, 21.3ms inference, 3.5ms postprocess per image at shape (1, 3, 576, 704)\n",
      "Procesando: 10-17.jpg\n",
      "Advertencia: No se encontró la imagen de referencia 10-17_.jpg\n",
      "\n",
      "image 1/1 c:\\Users\\mini7\\Desktop\\Master\\Materias\\TFM\\Laura\\2025_MURIA_Aitor Garca Blanco\\04.Codigo\\..\\03.Datasets\\Evaluacion_Empresa\\TEST 4\\INPUT_TEST 4\\10-17.jpg: 576x704 58 cells, 21.3ms\n",
      "Speed: 2.7ms preprocess, 21.3ms inference, 1.8ms postprocess per image at shape (1, 3, 576, 704)\n",
      "Procesando: 10-18.jpg\n",
      "Advertencia: No se encontró la imagen de referencia 10-18_.jpg\n",
      "\n",
      "image 1/1 c:\\Users\\mini7\\Desktop\\Master\\Materias\\TFM\\Laura\\2025_MURIA_Aitor Garca Blanco\\04.Codigo\\..\\03.Datasets\\Evaluacion_Empresa\\TEST 4\\INPUT_TEST 4\\10-18.jpg: 576x704 50 cells, 21.3ms\n",
      "Speed: 2.5ms preprocess, 21.3ms inference, 1.6ms postprocess per image at shape (1, 3, 576, 704)\n",
      "Procesando: 10-19.jpg\n",
      "Advertencia: No se encontró la imagen de referencia 10-19_.jpg\n",
      "\n",
      "image 1/1 c:\\Users\\mini7\\Desktop\\Master\\Materias\\TFM\\Laura\\2025_MURIA_Aitor Garca Blanco\\04.Codigo\\..\\03.Datasets\\Evaluacion_Empresa\\TEST 4\\INPUT_TEST 4\\10-19.jpg: 576x704 60 cells, 21.3ms\n",
      "Speed: 2.5ms preprocess, 21.3ms inference, 1.7ms postprocess per image at shape (1, 3, 576, 704)\n",
      "Procesando: 10-20.jpg\n",
      "Advertencia: No se encontró la imagen de referencia 10-20_.jpg\n",
      "\n",
      "image 1/1 c:\\Users\\mini7\\Desktop\\Master\\Materias\\TFM\\Laura\\2025_MURIA_Aitor Garca Blanco\\04.Codigo\\..\\03.Datasets\\Evaluacion_Empresa\\TEST 4\\INPUT_TEST 4\\10-20.jpg: 576x704 49 cells, 21.3ms\n",
      "Speed: 3.1ms preprocess, 21.3ms inference, 3.4ms postprocess per image at shape (1, 3, 576, 704)\n",
      "Procesando: 10-21.jpg\n",
      "Advertencia: No se encontró la imagen de referencia 10-21_.jpg\n",
      "\n",
      "image 1/1 c:\\Users\\mini7\\Desktop\\Master\\Materias\\TFM\\Laura\\2025_MURIA_Aitor Garca Blanco\\04.Codigo\\..\\03.Datasets\\Evaluacion_Empresa\\TEST 4\\INPUT_TEST 4\\10-21.jpg: 576x704 57 cells, 21.3ms\n",
      "Speed: 2.5ms preprocess, 21.3ms inference, 1.7ms postprocess per image at shape (1, 3, 576, 704)\n",
      "Procesando: 10-22.jpg\n",
      "Advertencia: No se encontró la imagen de referencia 10-22_.jpg\n",
      "\n",
      "image 1/1 c:\\Users\\mini7\\Desktop\\Master\\Materias\\TFM\\Laura\\2025_MURIA_Aitor Garca Blanco\\04.Codigo\\..\\03.Datasets\\Evaluacion_Empresa\\TEST 4\\INPUT_TEST 4\\10-22.jpg: 576x704 47 cells, 21.4ms\n",
      "Speed: 3.2ms preprocess, 21.4ms inference, 3.4ms postprocess per image at shape (1, 3, 576, 704)\n",
      "Procesando: 10-23.jpg\n",
      "Advertencia: No se encontró la imagen de referencia 10-23_.jpg\n",
      "\n",
      "image 1/1 c:\\Users\\mini7\\Desktop\\Master\\Materias\\TFM\\Laura\\2025_MURIA_Aitor Garca Blanco\\04.Codigo\\..\\03.Datasets\\Evaluacion_Empresa\\TEST 4\\INPUT_TEST 4\\10-23.jpg: 576x704 31 cells, 21.3ms\n",
      "Speed: 2.5ms preprocess, 21.3ms inference, 1.7ms postprocess per image at shape (1, 3, 576, 704)\n",
      "Procesando: 10-24.jpg\n",
      "Advertencia: No se encontró la imagen de referencia 10-24_.jpg\n",
      "\n",
      "image 1/1 c:\\Users\\mini7\\Desktop\\Master\\Materias\\TFM\\Laura\\2025_MURIA_Aitor Garca Blanco\\04.Codigo\\..\\03.Datasets\\Evaluacion_Empresa\\TEST 4\\INPUT_TEST 4\\10-24.jpg: 576x704 46 cells, 21.3ms\n",
      "Speed: 2.6ms preprocess, 21.3ms inference, 1.8ms postprocess per image at shape (1, 3, 576, 704)\n",
      "Procesando: 10-25.jpg\n",
      "Advertencia: No se encontró la imagen de referencia 10-25_.jpg\n",
      "\n",
      "image 1/1 c:\\Users\\mini7\\Desktop\\Master\\Materias\\TFM\\Laura\\2025_MURIA_Aitor Garca Blanco\\04.Codigo\\..\\03.Datasets\\Evaluacion_Empresa\\TEST 4\\INPUT_TEST 4\\10-25.jpg: 576x704 57 cells, 23.6ms\n",
      "Speed: 2.6ms preprocess, 23.6ms inference, 1.6ms postprocess per image at shape (1, 3, 576, 704)\n",
      "Procesando: 10-26.jpg\n",
      "Advertencia: No se encontró la imagen de referencia 10-26_.jpg\n",
      "\n",
      "image 1/1 c:\\Users\\mini7\\Desktop\\Master\\Materias\\TFM\\Laura\\2025_MURIA_Aitor Garca Blanco\\04.Codigo\\..\\03.Datasets\\Evaluacion_Empresa\\TEST 4\\INPUT_TEST 4\\10-26.jpg: 576x704 51 cells, 23.6ms\n",
      "Speed: 2.6ms preprocess, 23.6ms inference, 1.7ms postprocess per image at shape (1, 3, 576, 704)\n",
      "Procesando: 10-27.jpg\n",
      "Advertencia: No se encontró la imagen de referencia 10-27_.jpg\n",
      "\n",
      "image 1/1 c:\\Users\\mini7\\Desktop\\Master\\Materias\\TFM\\Laura\\2025_MURIA_Aitor Garca Blanco\\04.Codigo\\..\\03.Datasets\\Evaluacion_Empresa\\TEST 4\\INPUT_TEST 4\\10-27.jpg: 576x704 47 cells, 23.9ms\n",
      "Speed: 3.0ms preprocess, 23.9ms inference, 2.1ms postprocess per image at shape (1, 3, 576, 704)\n",
      "Procesando: 10-28.jpg\n",
      "Advertencia: No se encontró la imagen de referencia 10-28_.jpg\n",
      "\n",
      "image 1/1 c:\\Users\\mini7\\Desktop\\Master\\Materias\\TFM\\Laura\\2025_MURIA_Aitor Garca Blanco\\04.Codigo\\..\\03.Datasets\\Evaluacion_Empresa\\TEST 4\\INPUT_TEST 4\\10-28.jpg: 576x704 29 cells, 24.2ms\n",
      "Speed: 2.5ms preprocess, 24.2ms inference, 1.8ms postprocess per image at shape (1, 3, 576, 704)\n",
      "Procesando: 10-29.jpg\n",
      "Advertencia: No se encontró la imagen de referencia 10-29_.jpg\n",
      "\n",
      "image 1/1 c:\\Users\\mini7\\Desktop\\Master\\Materias\\TFM\\Laura\\2025_MURIA_Aitor Garca Blanco\\04.Codigo\\..\\03.Datasets\\Evaluacion_Empresa\\TEST 4\\INPUT_TEST 4\\10-29.jpg: 576x704 31 cells, 24.1ms\n",
      "Speed: 2.5ms preprocess, 24.1ms inference, 1.6ms postprocess per image at shape (1, 3, 576, 704)\n",
      "Procesando: 2-00.jpg\n",
      "Advertencia: No se encontró la imagen de referencia 2-00_.jpg\n",
      "\n",
      "image 1/1 c:\\Users\\mini7\\Desktop\\Master\\Materias\\TFM\\Laura\\2025_MURIA_Aitor Garca Blanco\\04.Codigo\\..\\03.Datasets\\Evaluacion_Empresa\\TEST 4\\INPUT_TEST 4\\2-00.jpg: 576x704 19 cells, 24.4ms\n",
      "Speed: 2.4ms preprocess, 24.4ms inference, 1.9ms postprocess per image at shape (1, 3, 576, 704)\n",
      "Procesando: 2-01.jpg\n",
      "Advertencia: No se encontró la imagen de referencia 2-01_.jpg\n",
      "\n",
      "image 1/1 c:\\Users\\mini7\\Desktop\\Master\\Materias\\TFM\\Laura\\2025_MURIA_Aitor Garca Blanco\\04.Codigo\\..\\03.Datasets\\Evaluacion_Empresa\\TEST 4\\INPUT_TEST 4\\2-01.jpg: 576x704 6 cells, 24.4ms\n",
      "Speed: 2.5ms preprocess, 24.4ms inference, 1.6ms postprocess per image at shape (1, 3, 576, 704)\n",
      "Procesando: 2-02.jpg\n",
      "Advertencia: No se encontró la imagen de referencia 2-02_.jpg\n",
      "\n",
      "image 1/1 c:\\Users\\mini7\\Desktop\\Master\\Materias\\TFM\\Laura\\2025_MURIA_Aitor Garca Blanco\\04.Codigo\\..\\03.Datasets\\Evaluacion_Empresa\\TEST 4\\INPUT_TEST 4\\2-02.jpg: 576x704 11 cells, 24.4ms\n",
      "Speed: 2.4ms preprocess, 24.4ms inference, 1.8ms postprocess per image at shape (1, 3, 576, 704)\n",
      "Procesando: 2-03.jpg\n",
      "Advertencia: No se encontró la imagen de referencia 2-03_.jpg\n",
      "\n",
      "image 1/1 c:\\Users\\mini7\\Desktop\\Master\\Materias\\TFM\\Laura\\2025_MURIA_Aitor Garca Blanco\\04.Codigo\\..\\03.Datasets\\Evaluacion_Empresa\\TEST 4\\INPUT_TEST 4\\2-03.jpg: 576x704 15 cells, 24.3ms\n",
      "Speed: 2.6ms preprocess, 24.3ms inference, 1.6ms postprocess per image at shape (1, 3, 576, 704)\n",
      "Procesando: 2-04.jpg\n",
      "Advertencia: No se encontró la imagen de referencia 2-04_.jpg\n",
      "\n",
      "image 1/1 c:\\Users\\mini7\\Desktop\\Master\\Materias\\TFM\\Laura\\2025_MURIA_Aitor Garca Blanco\\04.Codigo\\..\\03.Datasets\\Evaluacion_Empresa\\TEST 4\\INPUT_TEST 4\\2-04.jpg: 576x704 11 cells, 21.5ms\n",
      "Speed: 2.4ms preprocess, 21.5ms inference, 1.6ms postprocess per image at shape (1, 3, 576, 704)\n",
      "Procesando: 3-00.jpg\n",
      "Advertencia: No se encontró la imagen de referencia 3-00_.jpg\n",
      "\n",
      "image 1/1 c:\\Users\\mini7\\Desktop\\Master\\Materias\\TFM\\Laura\\2025_MURIA_Aitor Garca Blanco\\04.Codigo\\..\\03.Datasets\\Evaluacion_Empresa\\TEST 4\\INPUT_TEST 4\\3-00.jpg: 576x704 36 cells, 20.6ms\n",
      "Speed: 2.8ms preprocess, 20.6ms inference, 3.4ms postprocess per image at shape (1, 3, 576, 704)\n",
      "Procesando: 3-01.jpg\n",
      "Advertencia: No se encontró la imagen de referencia 3-01_.jpg\n",
      "\n",
      "image 1/1 c:\\Users\\mini7\\Desktop\\Master\\Materias\\TFM\\Laura\\2025_MURIA_Aitor Garca Blanco\\04.Codigo\\..\\03.Datasets\\Evaluacion_Empresa\\TEST 4\\INPUT_TEST 4\\3-01.jpg: 576x704 19 cells, 19.0ms\n",
      "Speed: 2.4ms preprocess, 19.0ms inference, 1.8ms postprocess per image at shape (1, 3, 576, 704)\n",
      "Procesando: 3-02.jpg\n",
      "Advertencia: No se encontró la imagen de referencia 3-02_.jpg\n",
      "\n",
      "image 1/1 c:\\Users\\mini7\\Desktop\\Master\\Materias\\TFM\\Laura\\2025_MURIA_Aitor Garca Blanco\\04.Codigo\\..\\03.Datasets\\Evaluacion_Empresa\\TEST 4\\INPUT_TEST 4\\3-02.jpg: 576x704 10 cells, 19.9ms\n",
      "Speed: 2.7ms preprocess, 19.9ms inference, 3.3ms postprocess per image at shape (1, 3, 576, 704)\n",
      "Procesando: 3-03.jpg\n",
      "Advertencia: No se encontró la imagen de referencia 3-03_.jpg\n",
      "\n",
      "image 1/1 c:\\Users\\mini7\\Desktop\\Master\\Materias\\TFM\\Laura\\2025_MURIA_Aitor Garca Blanco\\04.Codigo\\..\\03.Datasets\\Evaluacion_Empresa\\TEST 4\\INPUT_TEST 4\\3-03.jpg: 576x704 24 cells, 19.0ms\n",
      "Speed: 2.4ms preprocess, 19.0ms inference, 1.6ms postprocess per image at shape (1, 3, 576, 704)\n",
      "Procesando: 3-04.jpg\n",
      "Advertencia: No se encontró la imagen de referencia 3-04_.jpg\n",
      "\n",
      "image 1/1 c:\\Users\\mini7\\Desktop\\Master\\Materias\\TFM\\Laura\\2025_MURIA_Aitor Garca Blanco\\04.Codigo\\..\\03.Datasets\\Evaluacion_Empresa\\TEST 4\\INPUT_TEST 4\\3-04.jpg: 576x704 21 cells, 17.2ms\n",
      "Speed: 2.4ms preprocess, 17.2ms inference, 1.6ms postprocess per image at shape (1, 3, 576, 704)\n",
      "Procesando: 4-00.jpg\n",
      "Advertencia: No se encontró la imagen de referencia 4-00_.jpg\n",
      "\n",
      "image 1/1 c:\\Users\\mini7\\Desktop\\Master\\Materias\\TFM\\Laura\\2025_MURIA_Aitor Garca Blanco\\04.Codigo\\..\\03.Datasets\\Evaluacion_Empresa\\TEST 4\\INPUT_TEST 4\\4-00.jpg: 576x704 2 cells, 17.4ms\n",
      "Speed: 2.6ms preprocess, 17.4ms inference, 1.7ms postprocess per image at shape (1, 3, 576, 704)\n",
      "Procesando: 4-01.jpg\n",
      "Advertencia: No se encontró la imagen de referencia 4-01_.jpg\n",
      "\n",
      "image 1/1 c:\\Users\\mini7\\Desktop\\Master\\Materias\\TFM\\Laura\\2025_MURIA_Aitor Garca Blanco\\04.Codigo\\..\\03.Datasets\\Evaluacion_Empresa\\TEST 4\\INPUT_TEST 4\\4-01.jpg: 576x704 2 cells, 17.2ms\n",
      "Speed: 2.5ms preprocess, 17.2ms inference, 1.5ms postprocess per image at shape (1, 3, 576, 704)\n",
      "Procesando: 4-02.jpg\n",
      "Advertencia: No se encontró la imagen de referencia 4-02_.jpg\n",
      "\n",
      "image 1/1 c:\\Users\\mini7\\Desktop\\Master\\Materias\\TFM\\Laura\\2025_MURIA_Aitor Garca Blanco\\04.Codigo\\..\\03.Datasets\\Evaluacion_Empresa\\TEST 4\\INPUT_TEST 4\\4-02.jpg: 576x704 2 cells, 17.1ms\n",
      "Speed: 2.4ms preprocess, 17.1ms inference, 1.5ms postprocess per image at shape (1, 3, 576, 704)\n",
      "Procesando: 4-03.jpg\n",
      "Advertencia: No se encontró la imagen de referencia 4-03_.jpg\n",
      "\n",
      "image 1/1 c:\\Users\\mini7\\Desktop\\Master\\Materias\\TFM\\Laura\\2025_MURIA_Aitor Garca Blanco\\04.Codigo\\..\\03.Datasets\\Evaluacion_Empresa\\TEST 4\\INPUT_TEST 4\\4-03.jpg: 576x704 9 cells, 17.2ms\n",
      "Speed: 2.5ms preprocess, 17.2ms inference, 1.6ms postprocess per image at shape (1, 3, 576, 704)\n",
      "Procesando: 5-00.jpg\n",
      "Advertencia: No se encontró la imagen de referencia 5-00_.jpg\n",
      "\n",
      "image 1/1 c:\\Users\\mini7\\Desktop\\Master\\Materias\\TFM\\Laura\\2025_MURIA_Aitor Garca Blanco\\04.Codigo\\..\\03.Datasets\\Evaluacion_Empresa\\TEST 4\\INPUT_TEST 4\\5-00.jpg: 576x704 4 cells, 15.8ms\n",
      "Speed: 2.4ms preprocess, 15.8ms inference, 1.6ms postprocess per image at shape (1, 3, 576, 704)\n",
      "Procesando: 5-01.jpg\n",
      "Advertencia: No se encontró la imagen de referencia 5-01_.jpg\n",
      "\n",
      "image 1/1 c:\\Users\\mini7\\Desktop\\Master\\Materias\\TFM\\Laura\\2025_MURIA_Aitor Garca Blanco\\04.Codigo\\..\\03.Datasets\\Evaluacion_Empresa\\TEST 4\\INPUT_TEST 4\\5-01.jpg: 576x704 2 cells, 15.9ms\n",
      "Speed: 2.5ms preprocess, 15.9ms inference, 1.5ms postprocess per image at shape (1, 3, 576, 704)\n",
      "Procesando: 5-02.jpg\n",
      "Advertencia: No se encontró la imagen de referencia 5-02_.jpg\n",
      "\n",
      "image 1/1 c:\\Users\\mini7\\Desktop\\Master\\Materias\\TFM\\Laura\\2025_MURIA_Aitor Garca Blanco\\04.Codigo\\..\\03.Datasets\\Evaluacion_Empresa\\TEST 4\\INPUT_TEST 4\\5-02.jpg: 576x704 (no detections), 15.9ms\n",
      "Speed: 2.7ms preprocess, 15.9ms inference, 0.8ms postprocess per image at shape (1, 3, 576, 704)\n",
      "Procesando: 5-03.jpg\n",
      "Advertencia: No se encontró la imagen de referencia 5-03_.jpg\n",
      "\n",
      "image 1/1 c:\\Users\\mini7\\Desktop\\Master\\Materias\\TFM\\Laura\\2025_MURIA_Aitor Garca Blanco\\04.Codigo\\..\\03.Datasets\\Evaluacion_Empresa\\TEST 4\\INPUT_TEST 4\\5-03.jpg: 576x704 1 cell, 15.8ms\n",
      "Speed: 2.6ms preprocess, 15.8ms inference, 1.6ms postprocess per image at shape (1, 3, 576, 704)\n",
      "Procesando: 5-04.jpg\n",
      "Advertencia: No se encontró la imagen de referencia 5-04_.jpg\n",
      "\n",
      "image 1/1 c:\\Users\\mini7\\Desktop\\Master\\Materias\\TFM\\Laura\\2025_MURIA_Aitor Garca Blanco\\04.Codigo\\..\\03.Datasets\\Evaluacion_Empresa\\TEST 4\\INPUT_TEST 4\\5-04.jpg: 576x704 2 cells, 20.6ms\n",
      "Speed: 2.8ms preprocess, 20.6ms inference, 3.4ms postprocess per image at shape (1, 3, 576, 704)\n",
      "Procesando: 6-00.jpg\n",
      "Advertencia: No se encontró la imagen de referencia 6-00_.jpg\n",
      "\n",
      "image 1/1 c:\\Users\\mini7\\Desktop\\Master\\Materias\\TFM\\Laura\\2025_MURIA_Aitor Garca Blanco\\04.Codigo\\..\\03.Datasets\\Evaluacion_Empresa\\TEST 4\\INPUT_TEST 4\\6-00.jpg: 576x704 8 cells, 20.9ms\n",
      "Speed: 2.8ms preprocess, 20.9ms inference, 3.5ms postprocess per image at shape (1, 3, 576, 704)\n",
      "Procesando: 6-01.jpg\n",
      "Advertencia: No se encontró la imagen de referencia 6-01_.jpg\n",
      "\n",
      "image 1/1 c:\\Users\\mini7\\Desktop\\Master\\Materias\\TFM\\Laura\\2025_MURIA_Aitor Garca Blanco\\04.Codigo\\..\\03.Datasets\\Evaluacion_Empresa\\TEST 4\\INPUT_TEST 4\\6-01.jpg: 576x704 10 cells, 20.8ms\n",
      "Speed: 3.9ms preprocess, 20.8ms inference, 1.7ms postprocess per image at shape (1, 3, 576, 704)\n",
      "Procesando: 6-02.jpg\n",
      "Advertencia: No se encontró la imagen de referencia 6-02_.jpg\n",
      "\n",
      "image 1/1 c:\\Users\\mini7\\Desktop\\Master\\Materias\\TFM\\Laura\\2025_MURIA_Aitor Garca Blanco\\04.Codigo\\..\\03.Datasets\\Evaluacion_Empresa\\TEST 4\\INPUT_TEST 4\\6-02.jpg: 576x704 7 cells, 15.6ms\n",
      "Speed: 2.4ms preprocess, 15.6ms inference, 1.6ms postprocess per image at shape (1, 3, 576, 704)\n",
      "Procesando: 6-03.jpg\n",
      "Advertencia: No se encontró la imagen de referencia 6-03_.jpg\n",
      "\n",
      "image 1/1 c:\\Users\\mini7\\Desktop\\Master\\Materias\\TFM\\Laura\\2025_MURIA_Aitor Garca Blanco\\04.Codigo\\..\\03.Datasets\\Evaluacion_Empresa\\TEST 4\\INPUT_TEST 4\\6-03.jpg: 576x704 13 cells, 15.6ms\n",
      "Speed: 2.7ms preprocess, 15.6ms inference, 2.3ms postprocess per image at shape (1, 3, 576, 704)\n",
      "Procesando: 6-04.jpg\n",
      "Advertencia: No se encontró la imagen de referencia 6-04_.jpg\n",
      "\n",
      "image 1/1 c:\\Users\\mini7\\Desktop\\Master\\Materias\\TFM\\Laura\\2025_MURIA_Aitor Garca Blanco\\04.Codigo\\..\\03.Datasets\\Evaluacion_Empresa\\TEST 4\\INPUT_TEST 4\\6-04.jpg: 576x704 10 cells, 20.7ms\n",
      "Speed: 3.4ms preprocess, 20.7ms inference, 3.5ms postprocess per image at shape (1, 3, 576, 704)\n",
      "Procesando: 6-05.jpg\n",
      "Advertencia: No se encontró la imagen de referencia 6-05_.jpg\n",
      "\n",
      "image 1/1 c:\\Users\\mini7\\Desktop\\Master\\Materias\\TFM\\Laura\\2025_MURIA_Aitor Garca Blanco\\04.Codigo\\..\\03.Datasets\\Evaluacion_Empresa\\TEST 4\\INPUT_TEST 4\\6-05.jpg: 576x704 9 cells, 17.2ms\n",
      "Speed: 4.4ms preprocess, 17.2ms inference, 1.5ms postprocess per image at shape (1, 3, 576, 704)\n",
      "Procesando: 7-00.jpg\n",
      "Advertencia: No se encontró la imagen de referencia 7-00_.jpg\n",
      "\n",
      "image 1/1 c:\\Users\\mini7\\Desktop\\Master\\Materias\\TFM\\Laura\\2025_MURIA_Aitor Garca Blanco\\04.Codigo\\..\\03.Datasets\\Evaluacion_Empresa\\TEST 4\\INPUT_TEST 4\\7-00.jpg: 576x704 36 cells, 15.6ms\n",
      "Speed: 2.4ms preprocess, 15.6ms inference, 1.6ms postprocess per image at shape (1, 3, 576, 704)\n",
      "Procesando: 7-01.jpg\n",
      "Advertencia: No se encontró la imagen de referencia 7-01_.jpg\n",
      "\n",
      "image 1/1 c:\\Users\\mini7\\Desktop\\Master\\Materias\\TFM\\Laura\\2025_MURIA_Aitor Garca Blanco\\04.Codigo\\..\\03.Datasets\\Evaluacion_Empresa\\TEST 4\\INPUT_TEST 4\\7-01.jpg: 576x704 16 cells, 20.5ms\n",
      "Speed: 2.8ms preprocess, 20.5ms inference, 3.5ms postprocess per image at shape (1, 3, 576, 704)\n",
      "Procesando: 7-02.jpg\n",
      "Advertencia: No se encontró la imagen de referencia 7-02_.jpg\n",
      "\n",
      "image 1/1 c:\\Users\\mini7\\Desktop\\Master\\Materias\\TFM\\Laura\\2025_MURIA_Aitor Garca Blanco\\04.Codigo\\..\\03.Datasets\\Evaluacion_Empresa\\TEST 4\\INPUT_TEST 4\\7-02.jpg: 576x704 23 cells, 15.6ms\n",
      "Speed: 2.4ms preprocess, 15.6ms inference, 1.6ms postprocess per image at shape (1, 3, 576, 704)\n",
      "Procesando: 7-03.jpg\n",
      "Advertencia: No se encontró la imagen de referencia 7-03_.jpg\n",
      "\n",
      "image 1/1 c:\\Users\\mini7\\Desktop\\Master\\Materias\\TFM\\Laura\\2025_MURIA_Aitor Garca Blanco\\04.Codigo\\..\\03.Datasets\\Evaluacion_Empresa\\TEST 4\\INPUT_TEST 4\\7-03.jpg: 576x704 27 cells, 15.5ms\n",
      "Speed: 2.3ms preprocess, 15.5ms inference, 1.6ms postprocess per image at shape (1, 3, 576, 704)\n",
      "Procesando: 7-04.jpg\n",
      "Advertencia: No se encontró la imagen de referencia 7-04_.jpg\n",
      "\n",
      "image 1/1 c:\\Users\\mini7\\Desktop\\Master\\Materias\\TFM\\Laura\\2025_MURIA_Aitor Garca Blanco\\04.Codigo\\..\\03.Datasets\\Evaluacion_Empresa\\TEST 4\\INPUT_TEST 4\\7-04.jpg: 576x704 17 cells, 15.6ms\n",
      "Speed: 2.5ms preprocess, 15.6ms inference, 1.8ms postprocess per image at shape (1, 3, 576, 704)\n",
      "Procesando: 7-05.jpg\n",
      "Advertencia: No se encontró la imagen de referencia 7-05_.jpg\n",
      "\n",
      "image 1/1 c:\\Users\\mini7\\Desktop\\Master\\Materias\\TFM\\Laura\\2025_MURIA_Aitor Garca Blanco\\04.Codigo\\..\\03.Datasets\\Evaluacion_Empresa\\TEST 4\\INPUT_TEST 4\\7-05.jpg: 576x704 28 cells, 21.1ms\n",
      "Speed: 2.8ms preprocess, 21.1ms inference, 3.5ms postprocess per image at shape (1, 3, 576, 704)\n",
      "Procesando: 7-06.jpg\n",
      "Advertencia: No se encontró la imagen de referencia 7-06_.jpg\n",
      "\n",
      "image 1/1 c:\\Users\\mini7\\Desktop\\Master\\Materias\\TFM\\Laura\\2025_MURIA_Aitor Garca Blanco\\04.Codigo\\..\\03.Datasets\\Evaluacion_Empresa\\TEST 4\\INPUT_TEST 4\\7-06.jpg: 576x704 18 cells, 15.5ms\n",
      "Speed: 3.0ms preprocess, 15.5ms inference, 1.6ms postprocess per image at shape (1, 3, 576, 704)\n",
      "Procesando: 7-07.jpg\n",
      "Advertencia: No se encontró la imagen de referencia 7-07_.jpg\n",
      "\n",
      "image 1/1 c:\\Users\\mini7\\Desktop\\Master\\Materias\\TFM\\Laura\\2025_MURIA_Aitor Garca Blanco\\04.Codigo\\..\\03.Datasets\\Evaluacion_Empresa\\TEST 4\\INPUT_TEST 4\\7-07.jpg: 576x704 27 cells, 15.6ms\n",
      "Speed: 2.5ms preprocess, 15.6ms inference, 1.5ms postprocess per image at shape (1, 3, 576, 704)\n",
      "Procesando: 7-08.jpg\n",
      "Advertencia: No se encontró la imagen de referencia 7-08_.jpg\n",
      "\n",
      "image 1/1 c:\\Users\\mini7\\Desktop\\Master\\Materias\\TFM\\Laura\\2025_MURIA_Aitor Garca Blanco\\04.Codigo\\..\\03.Datasets\\Evaluacion_Empresa\\TEST 4\\INPUT_TEST 4\\7-08.jpg: 576x704 20 cells, 15.6ms\n",
      "Speed: 2.4ms preprocess, 15.6ms inference, 1.6ms postprocess per image at shape (1, 3, 576, 704)\n",
      "Procesando: 7-09.jpg\n",
      "Advertencia: No se encontró la imagen de referencia 7-09_.jpg\n",
      "\n",
      "image 1/1 c:\\Users\\mini7\\Desktop\\Master\\Materias\\TFM\\Laura\\2025_MURIA_Aitor Garca Blanco\\04.Codigo\\..\\03.Datasets\\Evaluacion_Empresa\\TEST 4\\INPUT_TEST 4\\7-09.jpg: 576x704 20 cells, 15.5ms\n",
      "Speed: 2.4ms preprocess, 15.5ms inference, 1.5ms postprocess per image at shape (1, 3, 576, 704)\n",
      "Procesando: 7-10.jpg\n",
      "Advertencia: No se encontró la imagen de referencia 7-10_.jpg\n",
      "\n",
      "image 1/1 c:\\Users\\mini7\\Desktop\\Master\\Materias\\TFM\\Laura\\2025_MURIA_Aitor Garca Blanco\\04.Codigo\\..\\03.Datasets\\Evaluacion_Empresa\\TEST 4\\INPUT_TEST 4\\7-10.jpg: 576x704 25 cells, 15.6ms\n",
      "Speed: 2.5ms preprocess, 15.6ms inference, 1.5ms postprocess per image at shape (1, 3, 576, 704)\n",
      "Procesando: 7-11.jpg\n",
      "Advertencia: No se encontró la imagen de referencia 7-11_.jpg\n",
      "\n",
      "image 1/1 c:\\Users\\mini7\\Desktop\\Master\\Materias\\TFM\\Laura\\2025_MURIA_Aitor Garca Blanco\\04.Codigo\\..\\03.Datasets\\Evaluacion_Empresa\\TEST 4\\INPUT_TEST 4\\7-11.jpg: 576x704 24 cells, 15.5ms\n",
      "Speed: 2.3ms preprocess, 15.5ms inference, 1.6ms postprocess per image at shape (1, 3, 576, 704)\n",
      "Procesando: 7-12.jpg\n",
      "Advertencia: No se encontró la imagen de referencia 7-12_.jpg\n",
      "\n",
      "image 1/1 c:\\Users\\mini7\\Desktop\\Master\\Materias\\TFM\\Laura\\2025_MURIA_Aitor Garca Blanco\\04.Codigo\\..\\03.Datasets\\Evaluacion_Empresa\\TEST 4\\INPUT_TEST 4\\7-12.jpg: 576x704 15 cells, 15.8ms\n",
      "Speed: 3.2ms preprocess, 15.8ms inference, 1.9ms postprocess per image at shape (1, 3, 576, 704)\n",
      "Procesando: 7-13.jpg\n",
      "Advertencia: No se encontró la imagen de referencia 7-13_.jpg\n",
      "\n",
      "image 1/1 c:\\Users\\mini7\\Desktop\\Master\\Materias\\TFM\\Laura\\2025_MURIA_Aitor Garca Blanco\\04.Codigo\\..\\03.Datasets\\Evaluacion_Empresa\\TEST 4\\INPUT_TEST 4\\7-13.jpg: 576x704 22 cells, 15.3ms\n",
      "Speed: 2.4ms preprocess, 15.3ms inference, 1.6ms postprocess per image at shape (1, 3, 576, 704)\n",
      "Procesando: 8-00.jpg\n",
      "Advertencia: No se encontró la imagen de referencia 8-00_.jpg\n",
      "\n",
      "image 1/1 c:\\Users\\mini7\\Desktop\\Master\\Materias\\TFM\\Laura\\2025_MURIA_Aitor Garca Blanco\\04.Codigo\\..\\03.Datasets\\Evaluacion_Empresa\\TEST 4\\INPUT_TEST 4\\8-00.jpg: 576x704 2 cells, 15.4ms\n",
      "Speed: 2.4ms preprocess, 15.4ms inference, 1.5ms postprocess per image at shape (1, 3, 576, 704)\n",
      "Procesando: 8-01.jpg\n",
      "Advertencia: No se encontró la imagen de referencia 8-01_.jpg\n",
      "\n",
      "image 1/1 c:\\Users\\mini7\\Desktop\\Master\\Materias\\TFM\\Laura\\2025_MURIA_Aitor Garca Blanco\\04.Codigo\\..\\03.Datasets\\Evaluacion_Empresa\\TEST 4\\INPUT_TEST 4\\8-01.jpg: 576x704 4 cells, 15.3ms\n",
      "Speed: 2.4ms preprocess, 15.3ms inference, 1.5ms postprocess per image at shape (1, 3, 576, 704)\n",
      "Procesando: 8-02.jpg\n",
      "Advertencia: No se encontró la imagen de referencia 8-02_.jpg\n",
      "\n",
      "image 1/1 c:\\Users\\mini7\\Desktop\\Master\\Materias\\TFM\\Laura\\2025_MURIA_Aitor Garca Blanco\\04.Codigo\\..\\03.Datasets\\Evaluacion_Empresa\\TEST 4\\INPUT_TEST 4\\8-02.jpg: 576x704 2 cells, 15.3ms\n",
      "Speed: 2.3ms preprocess, 15.3ms inference, 1.5ms postprocess per image at shape (1, 3, 576, 704)\n",
      "Procesando: 8-03.jpg\n",
      "Advertencia: No se encontró la imagen de referencia 8-03_.jpg\n",
      "\n",
      "image 1/1 c:\\Users\\mini7\\Desktop\\Master\\Materias\\TFM\\Laura\\2025_MURIA_Aitor Garca Blanco\\04.Codigo\\..\\03.Datasets\\Evaluacion_Empresa\\TEST 4\\INPUT_TEST 4\\8-03.jpg: 576x704 1 cell, 15.3ms\n",
      "Speed: 2.3ms preprocess, 15.3ms inference, 1.6ms postprocess per image at shape (1, 3, 576, 704)\n",
      "Procesando: 8-04.jpg\n",
      "Advertencia: No se encontró la imagen de referencia 8-04_.jpg\n",
      "\n",
      "image 1/1 c:\\Users\\mini7\\Desktop\\Master\\Materias\\TFM\\Laura\\2025_MURIA_Aitor Garca Blanco\\04.Codigo\\..\\03.Datasets\\Evaluacion_Empresa\\TEST 4\\INPUT_TEST 4\\8-04.jpg: 576x704 5 cells, 15.3ms\n",
      "Speed: 2.5ms preprocess, 15.3ms inference, 1.7ms postprocess per image at shape (1, 3, 576, 704)\n",
      "Procesando: 8-05.jpg\n",
      "Advertencia: No se encontró la imagen de referencia 8-05_.jpg\n",
      "\n",
      "image 1/1 c:\\Users\\mini7\\Desktop\\Master\\Materias\\TFM\\Laura\\2025_MURIA_Aitor Garca Blanco\\04.Codigo\\..\\03.Datasets\\Evaluacion_Empresa\\TEST 4\\INPUT_TEST 4\\8-05.jpg: 576x704 4 cells, 13.8ms\n",
      "Speed: 2.5ms preprocess, 13.8ms inference, 1.6ms postprocess per image at shape (1, 3, 576, 704)\n",
      "Procesando: 8-06.jpg\n",
      "Advertencia: No se encontró la imagen de referencia 8-06_.jpg\n",
      "\n",
      "image 1/1 c:\\Users\\mini7\\Desktop\\Master\\Materias\\TFM\\Laura\\2025_MURIA_Aitor Garca Blanco\\04.Codigo\\..\\03.Datasets\\Evaluacion_Empresa\\TEST 4\\INPUT_TEST 4\\8-06.jpg: 576x704 4 cells, 13.8ms\n",
      "Speed: 2.4ms preprocess, 13.8ms inference, 1.5ms postprocess per image at shape (1, 3, 576, 704)\n",
      "Procesando: 8-07.jpg\n",
      "Advertencia: No se encontró la imagen de referencia 8-07_.jpg\n",
      "\n",
      "image 1/1 c:\\Users\\mini7\\Desktop\\Master\\Materias\\TFM\\Laura\\2025_MURIA_Aitor Garca Blanco\\04.Codigo\\..\\03.Datasets\\Evaluacion_Empresa\\TEST 4\\INPUT_TEST 4\\8-07.jpg: 576x704 (no detections), 13.8ms\n",
      "Speed: 2.5ms preprocess, 13.8ms inference, 0.6ms postprocess per image at shape (1, 3, 576, 704)\n",
      "Procesando: 8-08.jpg\n",
      "Advertencia: No se encontró la imagen de referencia 8-08_.jpg\n",
      "\n",
      "image 1/1 c:\\Users\\mini7\\Desktop\\Master\\Materias\\TFM\\Laura\\2025_MURIA_Aitor Garca Blanco\\04.Codigo\\..\\03.Datasets\\Evaluacion_Empresa\\TEST 4\\INPUT_TEST 4\\8-08.jpg: 576x704 (no detections), 13.7ms\n",
      "Speed: 2.4ms preprocess, 13.7ms inference, 0.6ms postprocess per image at shape (1, 3, 576, 704)\n",
      "Procesando: 8-09.jpg\n",
      "Advertencia: No se encontró la imagen de referencia 8-09_.jpg\n",
      "\n",
      "image 1/1 c:\\Users\\mini7\\Desktop\\Master\\Materias\\TFM\\Laura\\2025_MURIA_Aitor Garca Blanco\\04.Codigo\\..\\03.Datasets\\Evaluacion_Empresa\\TEST 4\\INPUT_TEST 4\\8-09.jpg: 576x704 2 cells, 21.4ms\n",
      "Speed: 2.9ms preprocess, 21.4ms inference, 3.6ms postprocess per image at shape (1, 3, 576, 704)\n",
      "Procesando: 8-10.jpg\n",
      "Advertencia: No se encontró la imagen de referencia 8-10_.jpg\n",
      "\n",
      "image 1/1 c:\\Users\\mini7\\Desktop\\Master\\Materias\\TFM\\Laura\\2025_MURIA_Aitor Garca Blanco\\04.Codigo\\..\\03.Datasets\\Evaluacion_Empresa\\TEST 4\\INPUT_TEST 4\\8-10.jpg: 576x704 7 cells, 14.8ms\n",
      "Speed: 2.6ms preprocess, 14.8ms inference, 2.9ms postprocess per image at shape (1, 3, 576, 704)\n",
      "Procesando: 8-11.jpg\n",
      "Advertencia: No se encontró la imagen de referencia 8-11_.jpg\n",
      "\n",
      "image 1/1 c:\\Users\\mini7\\Desktop\\Master\\Materias\\TFM\\Laura\\2025_MURIA_Aitor Garca Blanco\\04.Codigo\\..\\03.Datasets\\Evaluacion_Empresa\\TEST 4\\INPUT_TEST 4\\8-11.jpg: 576x704 2 cells, 13.9ms\n",
      "Speed: 2.4ms preprocess, 13.9ms inference, 1.5ms postprocess per image at shape (1, 3, 576, 704)\n",
      "Procesando: 8-12.jpg\n",
      "Advertencia: No se encontró la imagen de referencia 8-12_.jpg\n",
      "\n",
      "image 1/1 c:\\Users\\mini7\\Desktop\\Master\\Materias\\TFM\\Laura\\2025_MURIA_Aitor Garca Blanco\\04.Codigo\\..\\03.Datasets\\Evaluacion_Empresa\\TEST 4\\INPUT_TEST 4\\8-12.jpg: 576x704 5 cells, 13.8ms\n",
      "Speed: 2.5ms preprocess, 13.8ms inference, 1.5ms postprocess per image at shape (1, 3, 576, 704)\n",
      "Procesando: 8-13.jpg\n",
      "Advertencia: No se encontró la imagen de referencia 8-13_.jpg\n",
      "\n",
      "image 1/1 c:\\Users\\mini7\\Desktop\\Master\\Materias\\TFM\\Laura\\2025_MURIA_Aitor Garca Blanco\\04.Codigo\\..\\03.Datasets\\Evaluacion_Empresa\\TEST 4\\INPUT_TEST 4\\8-13.jpg: 576x704 2 cells, 20.8ms\n",
      "Speed: 2.5ms preprocess, 20.8ms inference, 3.4ms postprocess per image at shape (1, 3, 576, 704)\n",
      "Procesando: 8-14.jpg\n",
      "Advertencia: No se encontró la imagen de referencia 8-14_.jpg\n",
      "\n",
      "image 1/1 c:\\Users\\mini7\\Desktop\\Master\\Materias\\TFM\\Laura\\2025_MURIA_Aitor Garca Blanco\\04.Codigo\\..\\03.Datasets\\Evaluacion_Empresa\\TEST 4\\INPUT_TEST 4\\8-14.jpg: 576x704 2 cells, 13.8ms\n",
      "Speed: 2.4ms preprocess, 13.8ms inference, 1.5ms postprocess per image at shape (1, 3, 576, 704)\n",
      "Procesando: 8-15.jpg\n",
      "Advertencia: No se encontró la imagen de referencia 8-15_.jpg\n",
      "\n",
      "image 1/1 c:\\Users\\mini7\\Desktop\\Master\\Materias\\TFM\\Laura\\2025_MURIA_Aitor Garca Blanco\\04.Codigo\\..\\03.Datasets\\Evaluacion_Empresa\\TEST 4\\INPUT_TEST 4\\8-15.jpg: 576x704 5 cells, 13.8ms\n",
      "Speed: 2.5ms preprocess, 13.8ms inference, 1.5ms postprocess per image at shape (1, 3, 576, 704)\n",
      "Procesando: 8-16.jpg\n",
      "Advertencia: No se encontró la imagen de referencia 8-16_.jpg\n",
      "\n",
      "image 1/1 c:\\Users\\mini7\\Desktop\\Master\\Materias\\TFM\\Laura\\2025_MURIA_Aitor Garca Blanco\\04.Codigo\\..\\03.Datasets\\Evaluacion_Empresa\\TEST 4\\INPUT_TEST 4\\8-16.jpg: 576x704 3 cells, 21.6ms\n",
      "Speed: 2.8ms preprocess, 21.6ms inference, 3.4ms postprocess per image at shape (1, 3, 576, 704)\n",
      "Procesando: 8-17.jpg\n",
      "Advertencia: No se encontró la imagen de referencia 8-17_.jpg\n",
      "\n",
      "image 1/1 c:\\Users\\mini7\\Desktop\\Master\\Materias\\TFM\\Laura\\2025_MURIA_Aitor Garca Blanco\\04.Codigo\\..\\03.Datasets\\Evaluacion_Empresa\\TEST 4\\INPUT_TEST 4\\8-17.jpg: 576x704 3 cells, 13.7ms\n",
      "Speed: 2.4ms preprocess, 13.7ms inference, 1.5ms postprocess per image at shape (1, 3, 576, 704)\n",
      "Procesando: 8-18.jpg\n",
      "Advertencia: No se encontró la imagen de referencia 8-18_.jpg\n",
      "\n",
      "image 1/1 c:\\Users\\mini7\\Desktop\\Master\\Materias\\TFM\\Laura\\2025_MURIA_Aitor Garca Blanco\\04.Codigo\\..\\03.Datasets\\Evaluacion_Empresa\\TEST 4\\INPUT_TEST 4\\8-18.jpg: 576x704 4 cells, 15.2ms\n",
      "Speed: 2.7ms preprocess, 15.2ms inference, 2.2ms postprocess per image at shape (1, 3, 576, 704)\n",
      "Procesando: 9-00.jpg\n",
      "Advertencia: No se encontró la imagen de referencia 9-00_.jpg\n",
      "\n",
      "image 1/1 c:\\Users\\mini7\\Desktop\\Master\\Materias\\TFM\\Laura\\2025_MURIA_Aitor Garca Blanco\\04.Codigo\\..\\03.Datasets\\Evaluacion_Empresa\\TEST 4\\INPUT_TEST 4\\9-00.jpg: 576x704 56 cells, 13.7ms\n",
      "Speed: 2.5ms preprocess, 13.7ms inference, 1.6ms postprocess per image at shape (1, 3, 576, 704)\n",
      "Procesando: 9-01.jpg\n",
      "Advertencia: No se encontró la imagen de referencia 9-01_.jpg\n",
      "\n",
      "image 1/1 c:\\Users\\mini7\\Desktop\\Master\\Materias\\TFM\\Laura\\2025_MURIA_Aitor Garca Blanco\\04.Codigo\\..\\03.Datasets\\Evaluacion_Empresa\\TEST 4\\INPUT_TEST 4\\9-01.jpg: 576x704 47 cells, 28.0ms\n",
      "Speed: 2.7ms preprocess, 28.0ms inference, 1.7ms postprocess per image at shape (1, 3, 576, 704)\n",
      "Procesando: 9-02.jpg\n",
      "Advertencia: No se encontró la imagen de referencia 9-02_.jpg\n",
      "\n",
      "image 1/1 c:\\Users\\mini7\\Desktop\\Master\\Materias\\TFM\\Laura\\2025_MURIA_Aitor Garca Blanco\\04.Codigo\\..\\03.Datasets\\Evaluacion_Empresa\\TEST 4\\INPUT_TEST 4\\9-02.jpg: 576x704 49 cells, 20.3ms\n",
      "Speed: 2.6ms preprocess, 20.3ms inference, 3.4ms postprocess per image at shape (1, 3, 576, 704)\n",
      "Procesando: 9-03.jpg\n",
      "Advertencia: No se encontró la imagen de referencia 9-03_.jpg\n",
      "\n",
      "image 1/1 c:\\Users\\mini7\\Desktop\\Master\\Materias\\TFM\\Laura\\2025_MURIA_Aitor Garca Blanco\\04.Codigo\\..\\03.Datasets\\Evaluacion_Empresa\\TEST 4\\INPUT_TEST 4\\9-03.jpg: 576x704 55 cells, 13.9ms\n",
      "Speed: 2.5ms preprocess, 13.9ms inference, 1.6ms postprocess per image at shape (1, 3, 576, 704)\n",
      "Procesando: 9-04.jpg\n",
      "Advertencia: No se encontró la imagen de referencia 9-04_.jpg\n",
      "\n",
      "image 1/1 c:\\Users\\mini7\\Desktop\\Master\\Materias\\TFM\\Laura\\2025_MURIA_Aitor Garca Blanco\\04.Codigo\\..\\03.Datasets\\Evaluacion_Empresa\\TEST 4\\INPUT_TEST 4\\9-04.jpg: 576x704 40 cells, 13.7ms\n",
      "Speed: 2.3ms preprocess, 13.7ms inference, 1.6ms postprocess per image at shape (1, 3, 576, 704)\n",
      "Procesando: 9-05.jpg\n",
      "Advertencia: No se encontró la imagen de referencia 9-05_.jpg\n",
      "\n",
      "image 1/1 c:\\Users\\mini7\\Desktop\\Master\\Materias\\TFM\\Laura\\2025_MURIA_Aitor Garca Blanco\\04.Codigo\\..\\03.Datasets\\Evaluacion_Empresa\\TEST 4\\INPUT_TEST 4\\9-05.jpg: 576x704 44 cells, 13.7ms\n",
      "Speed: 2.4ms preprocess, 13.7ms inference, 1.6ms postprocess per image at shape (1, 3, 576, 704)\n",
      "Procesando: 9-06.jpg\n",
      "Advertencia: No se encontró la imagen de referencia 9-06_.jpg\n",
      "\n",
      "image 1/1 c:\\Users\\mini7\\Desktop\\Master\\Materias\\TFM\\Laura\\2025_MURIA_Aitor Garca Blanco\\04.Codigo\\..\\03.Datasets\\Evaluacion_Empresa\\TEST 4\\INPUT_TEST 4\\9-06.jpg: 576x704 52 cells, 13.7ms\n",
      "Speed: 2.4ms preprocess, 13.7ms inference, 1.6ms postprocess per image at shape (1, 3, 576, 704)\n",
      "Procesando: 9-07.jpg\n",
      "Advertencia: No se encontró la imagen de referencia 9-07_.jpg\n",
      "\n",
      "image 1/1 c:\\Users\\mini7\\Desktop\\Master\\Materias\\TFM\\Laura\\2025_MURIA_Aitor Garca Blanco\\04.Codigo\\..\\03.Datasets\\Evaluacion_Empresa\\TEST 4\\INPUT_TEST 4\\9-07.jpg: 576x704 39 cells, 20.5ms\n",
      "Speed: 2.8ms preprocess, 20.5ms inference, 3.3ms postprocess per image at shape (1, 3, 576, 704)\n",
      "Procesando: 9-08.jpg\n",
      "Advertencia: No se encontró la imagen de referencia 9-08_.jpg\n",
      "\n",
      "image 1/1 c:\\Users\\mini7\\Desktop\\Master\\Materias\\TFM\\Laura\\2025_MURIA_Aitor Garca Blanco\\04.Codigo\\..\\03.Datasets\\Evaluacion_Empresa\\TEST 4\\INPUT_TEST 4\\9-08.jpg: 576x704 55 cells, 20.8ms\n",
      "Speed: 2.8ms preprocess, 20.8ms inference, 3.3ms postprocess per image at shape (1, 3, 576, 704)\n",
      "Procesando: 9-09.jpg\n",
      "Advertencia: No se encontró la imagen de referencia 9-09_.jpg\n",
      "\n",
      "image 1/1 c:\\Users\\mini7\\Desktop\\Master\\Materias\\TFM\\Laura\\2025_MURIA_Aitor Garca Blanco\\04.Codigo\\..\\03.Datasets\\Evaluacion_Empresa\\TEST 4\\INPUT_TEST 4\\9-09.jpg: 576x704 40 cells, 13.6ms\n",
      "Speed: 2.3ms preprocess, 13.6ms inference, 1.5ms postprocess per image at shape (1, 3, 576, 704)\n",
      "Procesando: 9-10.jpg\n",
      "Advertencia: No se encontró la imagen de referencia 9-10_.jpg\n",
      "\n",
      "image 1/1 c:\\Users\\mini7\\Desktop\\Master\\Materias\\TFM\\Laura\\2025_MURIA_Aitor Garca Blanco\\04.Codigo\\..\\03.Datasets\\Evaluacion_Empresa\\TEST 4\\INPUT_TEST 4\\9-10.jpg: 576x704 46 cells, 14.5ms\n",
      "Speed: 2.7ms preprocess, 14.5ms inference, 2.1ms postprocess per image at shape (1, 3, 576, 704)\n",
      "Procesando: 9-11.jpg\n",
      "Advertencia: No se encontró la imagen de referencia 9-11_.jpg\n",
      "\n",
      "image 1/1 c:\\Users\\mini7\\Desktop\\Master\\Materias\\TFM\\Laura\\2025_MURIA_Aitor Garca Blanco\\04.Codigo\\..\\03.Datasets\\Evaluacion_Empresa\\TEST 4\\INPUT_TEST 4\\9-11.jpg: 576x704 74 cells, 13.7ms\n",
      "Speed: 2.3ms preprocess, 13.7ms inference, 1.6ms postprocess per image at shape (1, 3, 576, 704)\n",
      "Procesando: 9-12.jpg\n",
      "Advertencia: No se encontró la imagen de referencia 9-12_.jpg\n",
      "\n",
      "image 1/1 c:\\Users\\mini7\\Desktop\\Master\\Materias\\TFM\\Laura\\2025_MURIA_Aitor Garca Blanco\\04.Codigo\\..\\03.Datasets\\Evaluacion_Empresa\\TEST 4\\INPUT_TEST 4\\9-12.jpg: 576x704 54 cells, 21.3ms\n",
      "Speed: 2.8ms preprocess, 21.3ms inference, 3.3ms postprocess per image at shape (1, 3, 576, 704)\n",
      "Procesando: 9-13.jpg\n",
      "Advertencia: No se encontró la imagen de referencia 9-13_.jpg\n",
      "\n",
      "image 1/1 c:\\Users\\mini7\\Desktop\\Master\\Materias\\TFM\\Laura\\2025_MURIA_Aitor Garca Blanco\\04.Codigo\\..\\03.Datasets\\Evaluacion_Empresa\\TEST 4\\INPUT_TEST 4\\9-13.jpg: 576x704 38 cells, 13.6ms\n",
      "Speed: 2.3ms preprocess, 13.6ms inference, 1.5ms postprocess per image at shape (1, 3, 576, 704)\n",
      "Procesando: 9-14.jpg\n",
      "Advertencia: No se encontró la imagen de referencia 9-14_.jpg\n",
      "\n",
      "image 1/1 c:\\Users\\mini7\\Desktop\\Master\\Materias\\TFM\\Laura\\2025_MURIA_Aitor Garca Blanco\\04.Codigo\\..\\03.Datasets\\Evaluacion_Empresa\\TEST 4\\INPUT_TEST 4\\9-14.jpg: 576x704 42 cells, 13.6ms\n",
      "Speed: 2.4ms preprocess, 13.6ms inference, 1.6ms postprocess per image at shape (1, 3, 576, 704)\n",
      "Procesando: 9-15.jpg\n",
      "Advertencia: No se encontró la imagen de referencia 9-15_.jpg\n",
      "\n",
      "image 1/1 c:\\Users\\mini7\\Desktop\\Master\\Materias\\TFM\\Laura\\2025_MURIA_Aitor Garca Blanco\\04.Codigo\\..\\03.Datasets\\Evaluacion_Empresa\\TEST 4\\INPUT_TEST 4\\9-15.jpg: 576x704 44 cells, 13.6ms\n",
      "Speed: 2.4ms preprocess, 13.6ms inference, 1.6ms postprocess per image at shape (1, 3, 576, 704)\n",
      "Procesando: 9-16.jpg\n",
      "Advertencia: No se encontró la imagen de referencia 9-16_.jpg\n",
      "\n",
      "image 1/1 c:\\Users\\mini7\\Desktop\\Master\\Materias\\TFM\\Laura\\2025_MURIA_Aitor Garca Blanco\\04.Codigo\\..\\03.Datasets\\Evaluacion_Empresa\\TEST 4\\INPUT_TEST 4\\9-16.jpg: 576x704 61 cells, 13.7ms\n",
      "Speed: 2.3ms preprocess, 13.7ms inference, 1.5ms postprocess per image at shape (1, 3, 576, 704)\n",
      "Procesando: 9-17.jpg\n",
      "Advertencia: No se encontró la imagen de referencia 9-17_.jpg\n",
      "\n",
      "image 1/1 c:\\Users\\mini7\\Desktop\\Master\\Materias\\TFM\\Laura\\2025_MURIA_Aitor Garca Blanco\\04.Codigo\\..\\03.Datasets\\Evaluacion_Empresa\\TEST 4\\INPUT_TEST 4\\9-17.jpg: 576x704 54 cells, 13.7ms\n",
      "Speed: 2.4ms preprocess, 13.7ms inference, 1.6ms postprocess per image at shape (1, 3, 576, 704)\n",
      "Procesando: 9-18.jpg\n",
      "Advertencia: No se encontró la imagen de referencia 9-18_.jpg\n",
      "\n",
      "image 1/1 c:\\Users\\mini7\\Desktop\\Master\\Materias\\TFM\\Laura\\2025_MURIA_Aitor Garca Blanco\\04.Codigo\\..\\03.Datasets\\Evaluacion_Empresa\\TEST 4\\INPUT_TEST 4\\9-18.jpg: 576x704 64 cells, 13.7ms\n",
      "Speed: 2.3ms preprocess, 13.7ms inference, 1.6ms postprocess per image at shape (1, 3, 576, 704)\n",
      "Procesando: 9-19.jpg\n",
      "Advertencia: No se encontró la imagen de referencia 9-19_.jpg\n",
      "\n",
      "image 1/1 c:\\Users\\mini7\\Desktop\\Master\\Materias\\TFM\\Laura\\2025_MURIA_Aitor Garca Blanco\\04.Codigo\\..\\03.Datasets\\Evaluacion_Empresa\\TEST 4\\INPUT_TEST 4\\9-19.jpg: 576x704 42 cells, 13.8ms\n",
      "Speed: 2.4ms preprocess, 13.8ms inference, 1.5ms postprocess per image at shape (1, 3, 576, 704)\n",
      "Procesando: 9-20.jpg\n",
      "Advertencia: No se encontró la imagen de referencia 9-20_.jpg\n",
      "\n",
      "image 1/1 c:\\Users\\mini7\\Desktop\\Master\\Materias\\TFM\\Laura\\2025_MURIA_Aitor Garca Blanco\\04.Codigo\\..\\03.Datasets\\Evaluacion_Empresa\\TEST 4\\INPUT_TEST 4\\9-20.jpg: 576x704 60 cells, 21.4ms\n",
      "Speed: 2.5ms preprocess, 21.4ms inference, 5.0ms postprocess per image at shape (1, 3, 576, 704)\n",
      "Procesando: 9-21.jpg\n",
      "Advertencia: No se encontró la imagen de referencia 9-21_.jpg\n",
      "\n",
      "image 1/1 c:\\Users\\mini7\\Desktop\\Master\\Materias\\TFM\\Laura\\2025_MURIA_Aitor Garca Blanco\\04.Codigo\\..\\03.Datasets\\Evaluacion_Empresa\\TEST 4\\INPUT_TEST 4\\9-21.jpg: 576x704 57 cells, 13.7ms\n",
      "Speed: 2.8ms preprocess, 13.7ms inference, 1.6ms postprocess per image at shape (1, 3, 576, 704)\n",
      "Procesando: 9-22.jpg\n",
      "Advertencia: No se encontró la imagen de referencia 9-22_.jpg\n",
      "\n",
      "image 1/1 c:\\Users\\mini7\\Desktop\\Master\\Materias\\TFM\\Laura\\2025_MURIA_Aitor Garca Blanco\\04.Codigo\\..\\03.Datasets\\Evaluacion_Empresa\\TEST 4\\INPUT_TEST 4\\9-22.jpg: 576x704 61 cells, 13.7ms\n",
      "Speed: 2.5ms preprocess, 13.7ms inference, 1.5ms postprocess per image at shape (1, 3, 576, 704)\n",
      "Procesando: 9-23.jpg\n",
      "Advertencia: No se encontró la imagen de referencia 9-23_.jpg\n",
      "\n",
      "image 1/1 c:\\Users\\mini7\\Desktop\\Master\\Materias\\TFM\\Laura\\2025_MURIA_Aitor Garca Blanco\\04.Codigo\\..\\03.Datasets\\Evaluacion_Empresa\\TEST 4\\INPUT_TEST 4\\9-23.jpg: 576x704 71 cells, 13.6ms\n",
      "Speed: 2.3ms preprocess, 13.6ms inference, 1.6ms postprocess per image at shape (1, 3, 576, 704)\n",
      "Procesando: 9-24.jpg\n",
      "Advertencia: No se encontró la imagen de referencia 9-24_.jpg\n",
      "\n",
      "image 1/1 c:\\Users\\mini7\\Desktop\\Master\\Materias\\TFM\\Laura\\2025_MURIA_Aitor Garca Blanco\\04.Codigo\\..\\03.Datasets\\Evaluacion_Empresa\\TEST 4\\INPUT_TEST 4\\9-24.jpg: 576x704 42 cells, 13.7ms\n",
      "Speed: 2.3ms preprocess, 13.7ms inference, 1.6ms postprocess per image at shape (1, 3, 576, 704)\n",
      "Procesando: 9-25.jpg\n",
      "Advertencia: No se encontró la imagen de referencia 9-25_.jpg\n",
      "\n",
      "image 1/1 c:\\Users\\mini7\\Desktop\\Master\\Materias\\TFM\\Laura\\2025_MURIA_Aitor Garca Blanco\\04.Codigo\\..\\03.Datasets\\Evaluacion_Empresa\\TEST 4\\INPUT_TEST 4\\9-25.jpg: 576x704 53 cells, 13.7ms\n",
      "Speed: 2.5ms preprocess, 13.7ms inference, 1.5ms postprocess per image at shape (1, 3, 576, 704)\n",
      "Procesando: 9-26.jpg\n",
      "Advertencia: No se encontró la imagen de referencia 9-26_.jpg\n",
      "\n",
      "image 1/1 c:\\Users\\mini7\\Desktop\\Master\\Materias\\TFM\\Laura\\2025_MURIA_Aitor Garca Blanco\\04.Codigo\\..\\03.Datasets\\Evaluacion_Empresa\\TEST 4\\INPUT_TEST 4\\9-26.jpg: 576x704 54 cells, 20.7ms\n",
      "Speed: 2.8ms preprocess, 20.7ms inference, 3.3ms postprocess per image at shape (1, 3, 576, 704)\n",
      "Procesando: 9-27.jpg\n",
      "Advertencia: No se encontró la imagen de referencia 9-27_.jpg\n",
      "\n",
      "image 1/1 c:\\Users\\mini7\\Desktop\\Master\\Materias\\TFM\\Laura\\2025_MURIA_Aitor Garca Blanco\\04.Codigo\\..\\03.Datasets\\Evaluacion_Empresa\\TEST 4\\INPUT_TEST 4\\9-27.jpg: 576x704 55 cells, 24.0ms\n",
      "Speed: 3.0ms preprocess, 24.0ms inference, 1.8ms postprocess per image at shape (1, 3, 576, 704)\n",
      "Procesando: 9-28.jpg\n",
      "Advertencia: No se encontró la imagen de referencia 9-28_.jpg\n",
      "\n",
      "image 1/1 c:\\Users\\mini7\\Desktop\\Master\\Materias\\TFM\\Laura\\2025_MURIA_Aitor Garca Blanco\\04.Codigo\\..\\03.Datasets\\Evaluacion_Empresa\\TEST 4\\INPUT_TEST 4\\9-28.jpg: 576x704 55 cells, 13.7ms\n",
      "Speed: 2.4ms preprocess, 13.7ms inference, 1.6ms postprocess per image at shape (1, 3, 576, 704)\n",
      "Procesando: 9-29.jpg\n",
      "Advertencia: No se encontró la imagen de referencia 9-29_.jpg\n",
      "\n",
      "image 1/1 c:\\Users\\mini7\\Desktop\\Master\\Materias\\TFM\\Laura\\2025_MURIA_Aitor Garca Blanco\\04.Codigo\\..\\03.Datasets\\Evaluacion_Empresa\\TEST 4\\INPUT_TEST 4\\9-29.jpg: 576x704 56 cells, 13.7ms\n",
      "Speed: 2.4ms preprocess, 13.7ms inference, 1.6ms postprocess per image at shape (1, 3, 576, 704)\n",
      "Procesando: 9-30.jpg\n",
      "Advertencia: No se encontró la imagen de referencia 9-30_.jpg\n",
      "\n",
      "image 1/1 c:\\Users\\mini7\\Desktop\\Master\\Materias\\TFM\\Laura\\2025_MURIA_Aitor Garca Blanco\\04.Codigo\\..\\03.Datasets\\Evaluacion_Empresa\\TEST 4\\INPUT_TEST 4\\9-30.jpg: 576x704 51 cells, 13.7ms\n",
      "Speed: 2.9ms preprocess, 13.7ms inference, 1.5ms postprocess per image at shape (1, 3, 576, 704)\n",
      "Procesamiento completado. Resultados guardados en ..\\03.Datasets\\Evaluacion_Empresa\\TEST 4\\YOLO_NEW\n"
     ]
    }
   ],
   "source": [
    "modelo_path = '.\\\\runs\\\\detect\\\\final_model_optunav11s2\\\\weights\\\\best.pt'\n",
    "\n",
    "# DEFAULT dataset\n",
    "process_images(\n",
    "    \"..\\\\03.Datasets\\\\Evaluacion_Empresa\\\\DEFAULT\\\\INPUT DEFAULT\",\n",
    "    \"..\\\\03.Datasets\\\\Evaluacion_Empresa\\\\DEFAULT\\\\OUTPUT_edited\",\n",
    "    \"..\\\\03.Datasets\\\\Evaluacion_Empresa\\\\DEFAULT\\\\YOLO_NEW\",\n",
    "    modelo_path\n",
    ")\n",
    "\n",
    "# TEST 2\n",
    "process_images(\n",
    "    \"..\\\\03.Datasets\\\\Evaluacion_Empresa\\\\TEST 2\\\\INPUT TEST_2\",\n",
    "    \"..\\\\03.Datasets\\\\Evaluacion_Empresa\\\\TEST 2\\\\OUTPUT_TEST 2_edited\",\n",
    "    \"..\\\\03.Datasets\\\\Evaluacion_Empresa\\\\TEST 2\\\\YOLO_NEW\",\n",
    "    modelo_path\n",
    ")\n",
    "\n",
    "# TEST 3\n",
    "process_images(\n",
    "    \"..\\\\03.Datasets\\\\Evaluacion_Empresa\\\\TEST 3\\\\INPUT_TEST 3\",\n",
    "    \"..\\\\03.Datasets\\\\Evaluacion_Empresa\\\\TEST 3\\\\OUTPUT_TEST 3_edited\",\n",
    "    \"..\\\\03.Datasets\\\\Evaluacion_Empresa\\\\TEST 3\\\\YOLO_NEW\",\n",
    "    modelo_path\n",
    ")\n",
    "\n",
    "# TEST 4\n",
    "process_images(\n",
    "    \"..\\\\03.Datasets\\\\Evaluacion_Empresa\\\\TEST 4\\\\INPUT_TEST 4\",\n",
    "    \"..\\\\03.Datasets\\\\Evaluacion_Empresa\\\\TEST 4\\\\OUTPUT_TEST 4_edited\",\n",
    "    \"..\\\\03.Datasets\\\\Evaluacion_Empresa\\\\TEST 4\\\\YOLO_NEW\",\n",
    "    modelo_path\n",
    ")"
   ]
  },
  {
   "cell_type": "markdown",
   "metadata": {},
   "source": [
    "Añadir metricas de IOU, accuracy, etc"
   ]
  },
  {
   "cell_type": "markdown",
   "metadata": {},
   "source": [
    "Usar optuna en lugar de grid search u random search"
   ]
  },
  {
   "cell_type": "markdown",
   "metadata": {},
   "source": [
    "añadir kfold y una función general que importe con un import para generar una carpeta con los resultados de la evaluación de cada imagen del test/defalut/eval_empresa "
   ]
  },
  {
   "cell_type": "markdown",
   "metadata": {},
   "source": [
    "Probar a entrenar Yolo con capas de atención y mucho más personalizados algunos modelos."
   ]
  },
  {
   "cell_type": "markdown",
   "metadata": {},
   "source": [
    "pODEMOS AÑADIR UN ENTORNO WEB DONDE ADJUNTAMOS LA IMAGEN Y SE MUESTRA EL RESULTADO DE LAS DIFERENTES PREDICCIONES."
   ]
  },
  {
   "cell_type": "markdown",
   "metadata": {},
   "source": [
    " hacer RFHF con yolo?"
   ]
  },
  {
   "cell_type": "markdown",
   "metadata": {},
   "source": [
    "## **Conclusión**"
   ]
  },
  {
   "cell_type": "markdown",
   "metadata": {},
   "source": [
    "## **Comentarios reunión semanal**"
   ]
  },
  {
   "cell_type": "markdown",
   "metadata": {},
   "source": [
    "Para el power point usar el mes gratis de copilot, así lo redacto mejor y más rápido la presentación"
   ]
  },
  {
   "cell_type": "markdown",
   "metadata": {},
   "source": [
    "\"no es posible distinguir entre leucocitos y células germinales inmaduras con un alto grado de certeza (2)\" https://pmc.ncbi.nlm.nih.gov/articles/PMC8915675/"
   ]
  },
  {
   "cell_type": "markdown",
   "metadata": {},
   "source": [
    "Quiero probar este modelo: https://github.com/Peterande/D-FINE?tab=readme-ov-file"
   ]
  }
 ],
 "metadata": {
  "kernelspec": {
   "display_name": "TFM",
   "language": "python",
   "name": "python3"
  },
  "language_info": {
   "codemirror_mode": {
    "name": "ipython",
    "version": 3
   },
   "file_extension": ".py",
   "mimetype": "text/x-python",
   "name": "python",
   "nbconvert_exporter": "python",
   "pygments_lexer": "ipython3",
   "version": "3.11.11"
  }
 },
 "nbformat": 4,
 "nbformat_minor": 2
}
